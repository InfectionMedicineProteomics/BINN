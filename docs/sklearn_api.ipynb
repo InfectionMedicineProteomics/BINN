{
 "cells": [
  {
   "attachments": {},
   "cell_type": "markdown",
   "metadata": {},
   "source": [
    "# Scikit-learn API\n",
    "\n",
    "For those not familiar with PyTorch, we've created a wrapper for scikit-learn. This contains the familiar fit/predict-methods."
   ]
  },
  {
   "cell_type": "code",
   "execution_count": 1,
   "metadata": {},
   "outputs": [
    {
     "name": "stderr",
     "output_type": "stream",
     "text": [
      "/home/erikh/BINN/BINN/test-venv/lib/python3.9/site-packages/tqdm/auto.py:22: TqdmWarning: IProgress not found. Please update jupyter and ipywidgets. See https://ipywidgets.readthedocs.io/en/stable/user_install.html\n",
      "  from .autonotebook import tqdm as notebook_tqdm\n"
     ]
    }
   ],
   "source": [
    "from binn import BINNClassifier, Network, SuperLogger\n",
    "import pandas as pd\n"
   ]
  },
  {
   "attachments": {},
   "cell_type": "markdown",
   "metadata": {},
   "source": [
    "Similar to before, we load data and create a network, however, now we instead create a BINNClassifier object (this is the scikit-learn wrapper class)."
   ]
  },
  {
   "cell_type": "code",
   "execution_count": 13,
   "metadata": {},
   "outputs": [
    {
     "data": {
      "text/plain": [
       "Index(['A0M8Q6', 'O00194', 'O00391', 'O14786', 'O14791', 'O15145', 'O43707',\n",
       "       'O75369', 'O75594', 'O75636',\n",
       "       ...\n",
       "       'Q9UBE0', 'Q9UBQ7', 'Q9UBR2', 'Q9UBX5', 'Q9UGM3', 'Q9UK55', 'Q9UNW1',\n",
       "       'Q9Y490', 'Q9Y4L1', 'Q9Y6Z7'],\n",
       "      dtype='object', length=449)"
      ]
     },
     "execution_count": 13,
     "metadata": {},
     "output_type": "execute_result"
    }
   ],
   "source": [
    "pathways = pd.read_csv(\"../data/pathways.tsv\", sep=\"\\t\")\n",
    "translation = pd.read_csv(\"../data/translation.tsv\", sep=\"\\t\")\n",
    "input_data = pd.read_csv(\"../data/test_qm.csv\")\n",
    "design_matrix = pd.read_csv(\"../data/design_matrix.tsv\", sep=\"\\t\")\n",
    "\n",
    "network = Network(\n",
    "    input_data=input_data,\n",
    "    pathways=pathways,\n",
    "    mapping=translation,\n",
    ")\n",
    "\n",
    "binn = BINNClassifier(\n",
    "    pathways=network,\n",
    "    n_layers=4,\n",
    "    dropout=0.2,\n",
    "    epochs=3,\n",
    "    threads=10,\n",
    "    logger=SuperLogger(\"logs/test\")\n",
    ")\n",
    "binn.clf.features"
   ]
  },
  {
   "attachments": {},
   "cell_type": "markdown",
   "metadata": {},
   "source": [
    "We have to make our data-matrix fit the input layer in the BINN. Then we fit the BINN."
   ]
  },
  {
   "cell_type": "code",
   "execution_count": 11,
   "metadata": {},
   "outputs": [
    {
     "name": "stderr",
     "output_type": "stream",
     "text": [
      "GPU available: True (cuda), used: False\n",
      "TPU available: False, using: 0 TPU cores\n",
      "IPU available: False, using: 0 IPUs\n",
      "HPU available: False, using: 0 HPUs\n",
      "GPU available but not used. Set `accelerator` and `devices` using `Trainer(accelerator='gpu', devices=1)`.\n",
      "You defined a `validation_step` but have no `val_dataloader`. Skipping val loop.\n",
      "\n",
      "  | Name   | Type             | Params\n",
      "--------------------------------------------\n",
      "0 | layers | Sequential       | 364 K \n",
      "1 | loss   | CrossEntropyLoss | 0     \n",
      "--------------------------------------------\n",
      "364 K     Trainable params\n",
      "0         Non-trainable params\n",
      "364 K     Total params\n",
      "1.457     Total estimated model params size (MB)\n"
     ]
    },
    {
     "name": "stdout",
     "output_type": "stream",
     "text": [
      "Epoch 0:   0%|          | 0/24 [01:17<?, ?it/s]\n"
     ]
    },
    {
     "name": "stderr",
     "output_type": "stream",
     "text": [
      "Experiment logs directory logs/test/lightning_logs/version_1 exists and is not empty. Previous log files in this directory will be deleted when the new ones are saved!\n",
      "The number of training batches (24) is smaller than the logging interval Trainer(log_every_n_steps=50). Set a lower value for log_every_n_steps if you want to see logs for the training epoch.\n"
     ]
    },
    {
     "name": "stdout",
     "output_type": "stream",
     "text": [
      "Epoch 2: 100%|██████████| 24/24 [00:00<00:00, 52.40it/s, loss=0.909, v_num=1, train_loss=0.901, train_acc=0.545]"
     ]
    },
    {
     "name": "stderr",
     "output_type": "stream",
     "text": [
      "`Trainer.fit` stopped: `max_epochs=3` reached.\n"
     ]
    },
    {
     "name": "stdout",
     "output_type": "stream",
     "text": [
      "Epoch 2: 100%|██████████| 24/24 [00:03<00:00,  6.25it/s, loss=0.909, v_num=1, train_loss=0.901, train_acc=0.545]\n"
     ]
    }
   ],
   "source": [
    "from util_for_examples import generate_data, fit_data_matrix_to_network_input\n",
    "\n",
    "X = fit_data_matrix_to_network_input(input_data, features=binn.clf.features)\n",
    "\n",
    "X, y = generate_data(X, design_matrix)\n",
    "\n",
    "X_test = X[:10]\n",
    "X_train = X[10:]\n",
    "y_test = y[:10]\n",
    "y_train = y[10:]\n",
    "\n",
    "binn.fit(X_train, y_train)"
   ]
  },
  {
   "attachments": {},
   "cell_type": "markdown",
   "metadata": {},
   "source": [
    "We can predict some instances."
   ]
  },
  {
   "cell_type": "code",
   "execution_count": 12,
   "metadata": {},
   "outputs": [
    {
     "data": {
      "text/plain": [
       "tensor([[ 0.9221,  0.6372],\n",
       "        [-0.1756, -0.8618],\n",
       "        [-0.7503, -0.4109],\n",
       "        [ 0.9660, -0.8077],\n",
       "        [ 2.0756, -1.2263],\n",
       "        [ 1.2871, -0.4783],\n",
       "        [-0.4326, -0.5821],\n",
       "        [ 1.5961,  0.7129],\n",
       "        [-2.0181,  2.4639],\n",
       "        [-1.5397,  1.0532]])"
      ]
     },
     "execution_count": 12,
     "metadata": {},
     "output_type": "execute_result"
    }
   ],
   "source": [
    "binn.predict(X_test)"
   ]
  }
 ],
 "metadata": {
  "kernelspec": {
   "display_name": "test-venv",
   "language": "python",
   "name": "python3"
  },
  "language_info": {
   "codemirror_mode": {
    "name": "ipython",
    "version": 3
   },
   "file_extension": ".py",
   "mimetype": "text/x-python",
   "name": "python",
   "nbconvert_exporter": "python",
   "pygments_lexer": "ipython3",
   "version": "3.9.13"
  },
  "orig_nbformat": 4
 },
 "nbformat": 4,
 "nbformat_minor": 2
}
