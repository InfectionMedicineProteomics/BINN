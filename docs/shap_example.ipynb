{
 "cells": [
  {
   "cell_type": "code",
   "execution_count": 1,
   "metadata": {},
   "outputs": [
    {
     "name": "stdout",
     "output_type": "stream",
     "text": [
      "\n",
      "[INFO] BINN is on device: cpu\n",
      "Mapping group labels: {np.int64(1): 0, np.int64(2): 1}\n",
      "[Epoch 1/50] Train Loss: 0.8677, Train Accuracy: 0.4666\n",
      "[Epoch 1/50] Val Loss: 0.6884, Val Accuracy: 0.7500\n",
      "[Epoch 2/50] Train Loss: 0.8854, Train Accuracy: 0.4515\n",
      "[Epoch 2/50] Val Loss: 0.6847, Val Accuracy: 0.7500\n",
      "[Epoch 3/50] Train Loss: 0.8106, Train Accuracy: 0.4847\n",
      "[Epoch 3/50] Val Loss: 0.6790, Val Accuracy: 0.6719\n",
      "[Epoch 4/50] Train Loss: 0.8729, Train Accuracy: 0.4534\n",
      "[Epoch 4/50] Val Loss: 0.6693, Val Accuracy: 0.7031\n",
      "[Epoch 5/50] Train Loss: 0.7880, Train Accuracy: 0.4791\n",
      "[Epoch 5/50] Val Loss: 0.6555, Val Accuracy: 0.7188\n",
      "[Epoch 6/50] Train Loss: 0.8106, Train Accuracy: 0.4672\n",
      "[Epoch 6/50] Val Loss: 0.6377, Val Accuracy: 0.7188\n",
      "[Epoch 7/50] Train Loss: 0.8297, Train Accuracy: 0.4659\n",
      "[Epoch 7/50] Val Loss: 0.6165, Val Accuracy: 0.7500\n",
      "[Epoch 8/50] Train Loss: 0.7668, Train Accuracy: 0.5534\n",
      "[Epoch 8/50] Val Loss: 0.5947, Val Accuracy: 0.7188\n",
      "[Epoch 9/50] Train Loss: 0.7428, Train Accuracy: 0.5341\n",
      "[Epoch 9/50] Val Loss: 0.5743, Val Accuracy: 0.7344\n",
      "[Epoch 10/50] Train Loss: 0.7219, Train Accuracy: 0.5603\n",
      "[Epoch 10/50] Val Loss: 0.5541, Val Accuracy: 0.7188\n",
      "[Epoch 11/50] Train Loss: 0.7581, Train Accuracy: 0.5640\n",
      "[Epoch 11/50] Val Loss: 0.5376, Val Accuracy: 0.7344\n",
      "[Epoch 12/50] Train Loss: 0.7265, Train Accuracy: 0.5515\n",
      "[Epoch 12/50] Val Loss: 0.5237, Val Accuracy: 0.7031\n",
      "[Epoch 13/50] Train Loss: 0.6905, Train Accuracy: 0.5972\n",
      "[Epoch 13/50] Val Loss: 0.5099, Val Accuracy: 0.7031\n",
      "[Epoch 14/50] Train Loss: 0.6785, Train Accuracy: 0.6047\n",
      "[Epoch 14/50] Val Loss: 0.4957, Val Accuracy: 0.7812\n",
      "[Epoch 15/50] Train Loss: 0.6863, Train Accuracy: 0.6222\n",
      "[Epoch 15/50] Val Loss: 0.4833, Val Accuracy: 0.7812\n",
      "[Epoch 16/50] Train Loss: 0.6655, Train Accuracy: 0.6110\n",
      "[Epoch 16/50] Val Loss: 0.4727, Val Accuracy: 0.7969\n",
      "[Epoch 17/50] Train Loss: 0.6366, Train Accuracy: 0.6567\n",
      "[Epoch 17/50] Val Loss: 0.4674, Val Accuracy: 0.7969\n",
      "[Epoch 18/50] Train Loss: 0.6530, Train Accuracy: 0.6235\n",
      "[Epoch 18/50] Val Loss: 0.4615, Val Accuracy: 0.7344\n",
      "[Epoch 19/50] Train Loss: 0.6314, Train Accuracy: 0.6235\n",
      "[Epoch 19/50] Val Loss: 0.4553, Val Accuracy: 0.7344\n",
      "[Epoch 20/50] Train Loss: 0.6659, Train Accuracy: 0.6485\n",
      "[Epoch 20/50] Val Loss: 0.4514, Val Accuracy: 0.7344\n",
      "[Epoch 21/50] Train Loss: 0.6426, Train Accuracy: 0.6442\n",
      "[Epoch 21/50] Val Loss: 0.4457, Val Accuracy: 0.7500\n",
      "[Epoch 22/50] Train Loss: 0.5614, Train Accuracy: 0.7323\n",
      "[Epoch 22/50] Val Loss: 0.4398, Val Accuracy: 0.7656\n",
      "[Epoch 23/50] Train Loss: 0.6054, Train Accuracy: 0.6623\n",
      "[Epoch 23/50] Val Loss: 0.4353, Val Accuracy: 0.7656\n",
      "[Epoch 24/50] Train Loss: 0.5899, Train Accuracy: 0.6679\n",
      "[Epoch 24/50] Val Loss: 0.4315, Val Accuracy: 0.7656\n",
      "[Epoch 25/50] Train Loss: 0.5846, Train Accuracy: 0.6879\n",
      "[Epoch 25/50] Val Loss: 0.4266, Val Accuracy: 0.7656\n",
      "[Epoch 26/50] Train Loss: 0.5470, Train Accuracy: 0.7198\n",
      "[Epoch 26/50] Val Loss: 0.4184, Val Accuracy: 0.7969\n",
      "[Epoch 27/50] Train Loss: 0.5715, Train Accuracy: 0.7336\n",
      "[Epoch 27/50] Val Loss: 0.4153, Val Accuracy: 0.7812\n",
      "[Epoch 28/50] Train Loss: 0.5543, Train Accuracy: 0.6735\n",
      "[Epoch 28/50] Val Loss: 0.4108, Val Accuracy: 0.7969\n",
      "[Epoch 29/50] Train Loss: 0.5636, Train Accuracy: 0.6692\n",
      "[Epoch 29/50] Val Loss: 0.4056, Val Accuracy: 0.8125\n",
      "[Epoch 30/50] Train Loss: 0.5433, Train Accuracy: 0.7373\n",
      "[Epoch 30/50] Val Loss: 0.3990, Val Accuracy: 0.8125\n",
      "[Epoch 31/50] Train Loss: 0.5125, Train Accuracy: 0.7504\n",
      "[Epoch 31/50] Val Loss: 0.3924, Val Accuracy: 0.8281\n",
      "[Epoch 32/50] Train Loss: 0.5443, Train Accuracy: 0.7261\n",
      "[Epoch 32/50] Val Loss: 0.3861, Val Accuracy: 0.8438\n",
      "[Epoch 33/50] Train Loss: 0.4641, Train Accuracy: 0.8267\n",
      "[Epoch 33/50] Val Loss: 0.3813, Val Accuracy: 0.9062\n",
      "[Epoch 34/50] Train Loss: 0.5272, Train Accuracy: 0.7073\n",
      "[Epoch 34/50] Val Loss: 0.3745, Val Accuracy: 0.9062\n",
      "[Epoch 35/50] Train Loss: 0.4960, Train Accuracy: 0.7830\n",
      "[Epoch 35/50] Val Loss: 0.3676, Val Accuracy: 0.9062\n",
      "[Epoch 36/50] Train Loss: 0.4833, Train Accuracy: 0.7567\n",
      "[Epoch 36/50] Val Loss: 0.3634, Val Accuracy: 0.9062\n",
      "[Epoch 37/50] Train Loss: 0.4928, Train Accuracy: 0.7974\n",
      "[Epoch 37/50] Val Loss: 0.3586, Val Accuracy: 0.9062\n",
      "[Epoch 38/50] Train Loss: 0.4781, Train Accuracy: 0.7623\n",
      "[Epoch 38/50] Val Loss: 0.3574, Val Accuracy: 0.9062\n",
      "[Epoch 39/50] Train Loss: 0.4476, Train Accuracy: 0.8043\n",
      "[Epoch 39/50] Val Loss: 0.3543, Val Accuracy: 0.9062\n",
      "[Epoch 40/50] Train Loss: 0.4519, Train Accuracy: 0.8073\n",
      "[Epoch 40/50] Val Loss: 0.3499, Val Accuracy: 0.8906\n",
      "[Epoch 41/50] Train Loss: 0.4585, Train Accuracy: 0.7974\n",
      "[Epoch 41/50] Val Loss: 0.3473, Val Accuracy: 0.8906\n",
      "[Epoch 42/50] Train Loss: 0.4216, Train Accuracy: 0.8155\n",
      "[Epoch 42/50] Val Loss: 0.3465, Val Accuracy: 0.8281\n",
      "[Epoch 43/50] Train Loss: 0.4173, Train Accuracy: 0.8211\n",
      "[Epoch 43/50] Val Loss: 0.3480, Val Accuracy: 0.8125\n",
      "[Epoch 44/50] Train Loss: 0.4168, Train Accuracy: 0.8211\n",
      "[Epoch 44/50] Val Loss: 0.3534, Val Accuracy: 0.8281\n",
      "[Epoch 45/50] Train Loss: 0.4335, Train Accuracy: 0.8655\n",
      "[Epoch 45/50] Val Loss: 0.3546, Val Accuracy: 0.8438\n",
      "[Epoch 46/50] Train Loss: 0.4009, Train Accuracy: 0.8399\n",
      "[Epoch 46/50] Val Loss: 0.3569, Val Accuracy: 0.8438\n",
      "[Epoch 47/50] Train Loss: 0.4291, Train Accuracy: 0.8418\n",
      "[Epoch 47/50] Val Loss: 0.3564, Val Accuracy: 0.8438\n",
      "[Epoch 48/50] Train Loss: 0.4062, Train Accuracy: 0.8093\n",
      "[Epoch 48/50] Val Loss: 0.3514, Val Accuracy: 0.8438\n",
      "[Epoch 49/50] Train Loss: 0.4242, Train Accuracy: 0.7892\n",
      "[Epoch 49/50] Val Loss: 0.3425, Val Accuracy: 0.8594\n",
      "[Epoch 50/50] Train Loss: 0.4033, Train Accuracy: 0.8530\n",
      "[Epoch 50/50] Val Loss: 0.3343, Val Accuracy: 0.8594\n"
     ]
    }
   ],
   "source": [
    "from binn import BINN, BINNDataLoader, BINNTrainer\n",
    "import pandas as pd\n",
    "\n",
    "# Load your data\n",
    "data_matrix = pd.read_csv(\"../data/test_qm.csv\")\n",
    "design_matrix = pd.read_csv(\"../data/design_matrix.tsv\", sep=\"\\t\")\n",
    "\n",
    "# Initialize BINN\n",
    "binn = BINN(data_matrix=data_matrix, network_source=\"reactome\", n_layers=2, dropout=0.2)\n",
    "\n",
    "## Initialize DataLoader\n",
    "binn_dataloader = BINNDataLoader(binn)\n",
    "\n",
    "# Create DataLoaders\n",
    "dataloaders = binn_dataloader.create_dataloaders(\n",
    "    data_matrix=data_matrix,\n",
    "    design_matrix=design_matrix,\n",
    "    feature_column=\"Protein\",\n",
    "    group_column=\"group\",\n",
    "    sample_column=\"sample\",\n",
    "    batch_size=32,\n",
    "    validation_split=0.2,\n",
    ")\n",
    "# Train the model\n",
    "trainer = BINNTrainer(binn)\n",
    "trainer.fit(dataloaders=dataloaders, num_epochs=50)"
   ]
  },
  {
   "cell_type": "code",
   "execution_count": 2,
   "metadata": {},
   "outputs": [
    {
     "data": {
      "text/html": [
       "<div>\n",
       "<style scoped>\n",
       "    .dataframe tbody tr th:only-of-type {\n",
       "        vertical-align: middle;\n",
       "    }\n",
       "\n",
       "    .dataframe tbody tr th {\n",
       "        vertical-align: top;\n",
       "    }\n",
       "\n",
       "    .dataframe thead th {\n",
       "        text-align: right;\n",
       "    }\n",
       "</style>\n",
       "<table border=\"1\" class=\"dataframe\">\n",
       "  <thead>\n",
       "    <tr style=\"text-align: right;\">\n",
       "      <th></th>\n",
       "      <th>source_layer</th>\n",
       "      <th>target_layer</th>\n",
       "      <th>source_node</th>\n",
       "      <th>target_node</th>\n",
       "      <th>class_idx</th>\n",
       "      <th>importance</th>\n",
       "      <th>normalized_importance</th>\n",
       "    </tr>\n",
       "  </thead>\n",
       "  <tbody>\n",
       "    <tr>\n",
       "      <th>0</th>\n",
       "      <td>0</td>\n",
       "      <td>1</td>\n",
       "      <td>A0M8Q6</td>\n",
       "      <td>R-HSA-1280218</td>\n",
       "      <td>0</td>\n",
       "      <td>0.008060</td>\n",
       "      <td>0.003118</td>\n",
       "    </tr>\n",
       "    <tr>\n",
       "      <th>1</th>\n",
       "      <td>0</td>\n",
       "      <td>1</td>\n",
       "      <td>A0M8Q6</td>\n",
       "      <td>R-HSA-1280218</td>\n",
       "      <td>1</td>\n",
       "      <td>0.009703</td>\n",
       "      <td>0.003754</td>\n",
       "    </tr>\n",
       "    <tr>\n",
       "      <th>2</th>\n",
       "      <td>0</td>\n",
       "      <td>1</td>\n",
       "      <td>A0M8Q6</td>\n",
       "      <td>R-HSA-168249</td>\n",
       "      <td>0</td>\n",
       "      <td>0.008060</td>\n",
       "      <td>0.003118</td>\n",
       "    </tr>\n",
       "    <tr>\n",
       "      <th>3</th>\n",
       "      <td>0</td>\n",
       "      <td>1</td>\n",
       "      <td>A0M8Q6</td>\n",
       "      <td>R-HSA-168249</td>\n",
       "      <td>1</td>\n",
       "      <td>0.009703</td>\n",
       "      <td>0.003754</td>\n",
       "    </tr>\n",
       "    <tr>\n",
       "      <th>4</th>\n",
       "      <td>0</td>\n",
       "      <td>1</td>\n",
       "      <td>A0M8Q6</td>\n",
       "      <td>R-HSA-202733</td>\n",
       "      <td>0</td>\n",
       "      <td>0.008060</td>\n",
       "      <td>0.003118</td>\n",
       "    </tr>\n",
       "    <tr>\n",
       "      <th>...</th>\n",
       "      <td>...</td>\n",
       "      <td>...</td>\n",
       "      <td>...</td>\n",
       "      <td>...</td>\n",
       "      <td>...</td>\n",
       "      <td>...</td>\n",
       "      <td>...</td>\n",
       "    </tr>\n",
       "    <tr>\n",
       "      <th>3755</th>\n",
       "      <td>2</td>\n",
       "      <td>3</td>\n",
       "      <td>R-HSA-9612973</td>\n",
       "      <td>output_node</td>\n",
       "      <td>1</td>\n",
       "      <td>0.157928</td>\n",
       "      <td>0.068016</td>\n",
       "    </tr>\n",
       "    <tr>\n",
       "      <th>3756</th>\n",
       "      <td>2</td>\n",
       "      <td>3</td>\n",
       "      <td>R-HSA-9709957</td>\n",
       "      <td>output_node</td>\n",
       "      <td>0</td>\n",
       "      <td>0.001029</td>\n",
       "      <td>0.000514</td>\n",
       "    </tr>\n",
       "    <tr>\n",
       "      <th>3757</th>\n",
       "      <td>2</td>\n",
       "      <td>3</td>\n",
       "      <td>R-HSA-9709957</td>\n",
       "      <td>output_node</td>\n",
       "      <td>1</td>\n",
       "      <td>0.266911</td>\n",
       "      <td>0.133455</td>\n",
       "    </tr>\n",
       "    <tr>\n",
       "      <th>3758</th>\n",
       "      <td>2</td>\n",
       "      <td>3</td>\n",
       "      <td>R-HSA-9748784</td>\n",
       "      <td>output_node</td>\n",
       "      <td>0</td>\n",
       "      <td>0.026517</td>\n",
       "      <td>0.008839</td>\n",
       "    </tr>\n",
       "    <tr>\n",
       "      <th>3759</th>\n",
       "      <td>2</td>\n",
       "      <td>3</td>\n",
       "      <td>R-HSA-9748784</td>\n",
       "      <td>output_node</td>\n",
       "      <td>1</td>\n",
       "      <td>0.113016</td>\n",
       "      <td>0.037672</td>\n",
       "    </tr>\n",
       "  </tbody>\n",
       "</table>\n",
       "<p>3760 rows × 7 columns</p>\n",
       "</div>"
      ],
      "text/plain": [
       "      source_layer  target_layer    source_node    target_node  class_idx  \\\n",
       "0                0             1         A0M8Q6  R-HSA-1280218          0   \n",
       "1                0             1         A0M8Q6  R-HSA-1280218          1   \n",
       "2                0             1         A0M8Q6   R-HSA-168249          0   \n",
       "3                0             1         A0M8Q6   R-HSA-168249          1   \n",
       "4                0             1         A0M8Q6   R-HSA-202733          0   \n",
       "...            ...           ...            ...            ...        ...   \n",
       "3755             2             3  R-HSA-9612973    output_node          1   \n",
       "3756             2             3  R-HSA-9709957    output_node          0   \n",
       "3757             2             3  R-HSA-9709957    output_node          1   \n",
       "3758             2             3  R-HSA-9748784    output_node          0   \n",
       "3759             2             3  R-HSA-9748784    output_node          1   \n",
       "\n",
       "      importance  normalized_importance  \n",
       "0       0.008060               0.003118  \n",
       "1       0.009703               0.003754  \n",
       "2       0.008060               0.003118  \n",
       "3       0.009703               0.003754  \n",
       "4       0.008060               0.003118  \n",
       "...          ...                    ...  \n",
       "3755    0.157928               0.068016  \n",
       "3756    0.001029               0.000514  \n",
       "3757    0.266911               0.133455  \n",
       "3758    0.026517               0.008839  \n",
       "3759    0.113016               0.037672  \n",
       "\n",
       "[3760 rows x 7 columns]"
      ]
     },
     "execution_count": 2,
     "metadata": {},
     "output_type": "execute_result"
    }
   ],
   "source": [
    "from binn import BINNExplainer\n",
    "\n",
    "explainer = BINNExplainer(binn)\n",
    "single_explanations = explainer.explain_single(dataloaders, split=\"val\")\n",
    "normalized_single_explanations = explainer.normalize_importances(single_explanations, method=\"fan\")\n",
    "normalized_single_explanations"
   ]
  },
  {
   "cell_type": "code",
   "execution_count": 3,
   "metadata": {},
   "outputs": [
    {
     "data": {
      "application/vnd.plotly.v1+json": {
       "config": {
        "plotlyServerURL": "https://plot.ly"
       },
       "data": [
        {
         "arrangement": "snap",
         "link": {
          "color": [
           "rgba(103,136,238,0.75)",
           "rgba(103,136,238,0.75)",
           "rgba(103,136,238,0.75)",
           "rgba(240,138,108,0.75)",
           "rgba(240,138,108,0.75)",
           "rgba(180,4,38,0.75)",
           "rgba(180,4,38,0.75)",
           "rgba(180,4,38,0.75)",
           "rgba(243,151,120,0.75)",
           "rgba(227,217,211,0.75)",
           "rgba(180,4,38,0.75)",
           "rgba(229,216,209,0.75)",
           "rgba(214,220,228,0.75)",
           "rgba(236,236,236,0.75)",
           "rgba(236,236,236,0.75)",
           "rgba(236,236,236,0.75)",
           "rgba(236,236,236,0.75)",
           "rgba(236,236,236,0.75)",
           "rgba(236,236,236,0.75)",
           "rgba(236,236,236,0.75)",
           "rgba(236,236,236,0.75)"
          ],
          "source": [
           0,
           0,
           0,
           1,
           1,
           2,
           2,
           3,
           4,
           5,
           6,
           7,
           8,
           9,
           9,
           9,
           10,
           10,
           10,
           10,
           11
          ],
          "target": [
           10,
           6,
           8,
           10,
           6,
           10,
           6,
           12,
           12,
           12,
           11,
           5,
           11,
           10,
           6,
           7,
           11,
           3,
           4,
           5,
           12
          ],
          "value": [
           0.23667969493536242,
           0.014792480933460151,
           0.014792480933460151,
           0.325810703686332,
           0.014165682768970959,
           0.3773523335448135,
           0.016406623197600587,
           0.3612248968448351,
           0.33277777113717183,
           0.305997332017993,
           0.37623377953945086,
           0.3158073519212479,
           0.30795886853930127,
           0.09869134498684907,
           0.0002864697897967868,
           0.0010221852233541439,
           0.07982887582160661,
           0.01011136716597202,
           0.00884929708969949,
           0.001210459922721899,
           0.1
          ]
         },
         "node": {
          "color": [
           "rgba(254,219,204,0.75)",
           "rgba(191,21,27,0.75)",
           "rgba(103,0,13,0.75)",
           "rgba(103,0,13,0.75)",
           "rgba(201,24,29,0.75)",
           "rgba(249,96,68,0.75)",
           "rgba(103,0,13,0.75)",
           "rgba(248,93,66,0.75)",
           "rgba(251,114,82,0.75)",
           "rgba(236,236,236,0.75)",
           "rgba(236,236,236,0.75)",
           "rgba(236,236,236,0.75)",
           "rgba(0,0,0,1)"
          ],
          "label": [
           "P60709",
           "P62805",
           "Q96A08",
           "R-HSA-1430728",
           "R-HSA-1474244",
           "R-HSA-8953854",
           "R-HSA-3247509",
           "R-HSA-450531",
           "R-HSA-5696398",
           "Other connections 1",
           "Other connections 2",
           "Other connections 3",
           "noutput_node_l3"
          ],
          "line": {
           "color": "white",
           "width": 0
          },
          "pad": 15,
          "thickness": 15,
          "x": [
           0.0025,
           0.0025,
           0.0025,
           0.5025,
           0.5025,
           0.5025,
           0.2525,
           0.2525,
           0.2525,
           0.5025,
           0.5,
           0.5,
           0.85
          ],
          "y": [
           0.79960019990005,
           0.399800099950025,
           0,
           0,
           0.399800099950025,
           0.79960019990005,
           0,
           0.399800099950025,
           0.79960019990005,
           0.9,
           0.5,
           0.5,
           0.5
          ]
         },
         "orientation": "h",
         "textfont": {
          "family": "Arial",
          "size": 15
         },
         "type": "sankey"
        }
       ],
       "layout": {
        "template": {
         "data": {
          "bar": [
           {
            "error_x": {
             "color": "#2a3f5f"
            },
            "error_y": {
             "color": "#2a3f5f"
            },
            "marker": {
             "line": {
              "color": "#E5ECF6",
              "width": 0.5
             },
             "pattern": {
              "fillmode": "overlay",
              "size": 10,
              "solidity": 0.2
             }
            },
            "type": "bar"
           }
          ],
          "barpolar": [
           {
            "marker": {
             "line": {
              "color": "#E5ECF6",
              "width": 0.5
             },
             "pattern": {
              "fillmode": "overlay",
              "size": 10,
              "solidity": 0.2
             }
            },
            "type": "barpolar"
           }
          ],
          "carpet": [
           {
            "aaxis": {
             "endlinecolor": "#2a3f5f",
             "gridcolor": "white",
             "linecolor": "white",
             "minorgridcolor": "white",
             "startlinecolor": "#2a3f5f"
            },
            "baxis": {
             "endlinecolor": "#2a3f5f",
             "gridcolor": "white",
             "linecolor": "white",
             "minorgridcolor": "white",
             "startlinecolor": "#2a3f5f"
            },
            "type": "carpet"
           }
          ],
          "choropleth": [
           {
            "colorbar": {
             "outlinewidth": 0,
             "ticks": ""
            },
            "type": "choropleth"
           }
          ],
          "contour": [
           {
            "colorbar": {
             "outlinewidth": 0,
             "ticks": ""
            },
            "colorscale": [
             [
              0,
              "#0d0887"
             ],
             [
              0.1111111111111111,
              "#46039f"
             ],
             [
              0.2222222222222222,
              "#7201a8"
             ],
             [
              0.3333333333333333,
              "#9c179e"
             ],
             [
              0.4444444444444444,
              "#bd3786"
             ],
             [
              0.5555555555555556,
              "#d8576b"
             ],
             [
              0.6666666666666666,
              "#ed7953"
             ],
             [
              0.7777777777777778,
              "#fb9f3a"
             ],
             [
              0.8888888888888888,
              "#fdca26"
             ],
             [
              1,
              "#f0f921"
             ]
            ],
            "type": "contour"
           }
          ],
          "contourcarpet": [
           {
            "colorbar": {
             "outlinewidth": 0,
             "ticks": ""
            },
            "type": "contourcarpet"
           }
          ],
          "heatmap": [
           {
            "colorbar": {
             "outlinewidth": 0,
             "ticks": ""
            },
            "colorscale": [
             [
              0,
              "#0d0887"
             ],
             [
              0.1111111111111111,
              "#46039f"
             ],
             [
              0.2222222222222222,
              "#7201a8"
             ],
             [
              0.3333333333333333,
              "#9c179e"
             ],
             [
              0.4444444444444444,
              "#bd3786"
             ],
             [
              0.5555555555555556,
              "#d8576b"
             ],
             [
              0.6666666666666666,
              "#ed7953"
             ],
             [
              0.7777777777777778,
              "#fb9f3a"
             ],
             [
              0.8888888888888888,
              "#fdca26"
             ],
             [
              1,
              "#f0f921"
             ]
            ],
            "type": "heatmap"
           }
          ],
          "heatmapgl": [
           {
            "colorbar": {
             "outlinewidth": 0,
             "ticks": ""
            },
            "colorscale": [
             [
              0,
              "#0d0887"
             ],
             [
              0.1111111111111111,
              "#46039f"
             ],
             [
              0.2222222222222222,
              "#7201a8"
             ],
             [
              0.3333333333333333,
              "#9c179e"
             ],
             [
              0.4444444444444444,
              "#bd3786"
             ],
             [
              0.5555555555555556,
              "#d8576b"
             ],
             [
              0.6666666666666666,
              "#ed7953"
             ],
             [
              0.7777777777777778,
              "#fb9f3a"
             ],
             [
              0.8888888888888888,
              "#fdca26"
             ],
             [
              1,
              "#f0f921"
             ]
            ],
            "type": "heatmapgl"
           }
          ],
          "histogram": [
           {
            "marker": {
             "pattern": {
              "fillmode": "overlay",
              "size": 10,
              "solidity": 0.2
             }
            },
            "type": "histogram"
           }
          ],
          "histogram2d": [
           {
            "colorbar": {
             "outlinewidth": 0,
             "ticks": ""
            },
            "colorscale": [
             [
              0,
              "#0d0887"
             ],
             [
              0.1111111111111111,
              "#46039f"
             ],
             [
              0.2222222222222222,
              "#7201a8"
             ],
             [
              0.3333333333333333,
              "#9c179e"
             ],
             [
              0.4444444444444444,
              "#bd3786"
             ],
             [
              0.5555555555555556,
              "#d8576b"
             ],
             [
              0.6666666666666666,
              "#ed7953"
             ],
             [
              0.7777777777777778,
              "#fb9f3a"
             ],
             [
              0.8888888888888888,
              "#fdca26"
             ],
             [
              1,
              "#f0f921"
             ]
            ],
            "type": "histogram2d"
           }
          ],
          "histogram2dcontour": [
           {
            "colorbar": {
             "outlinewidth": 0,
             "ticks": ""
            },
            "colorscale": [
             [
              0,
              "#0d0887"
             ],
             [
              0.1111111111111111,
              "#46039f"
             ],
             [
              0.2222222222222222,
              "#7201a8"
             ],
             [
              0.3333333333333333,
              "#9c179e"
             ],
             [
              0.4444444444444444,
              "#bd3786"
             ],
             [
              0.5555555555555556,
              "#d8576b"
             ],
             [
              0.6666666666666666,
              "#ed7953"
             ],
             [
              0.7777777777777778,
              "#fb9f3a"
             ],
             [
              0.8888888888888888,
              "#fdca26"
             ],
             [
              1,
              "#f0f921"
             ]
            ],
            "type": "histogram2dcontour"
           }
          ],
          "mesh3d": [
           {
            "colorbar": {
             "outlinewidth": 0,
             "ticks": ""
            },
            "type": "mesh3d"
           }
          ],
          "parcoords": [
           {
            "line": {
             "colorbar": {
              "outlinewidth": 0,
              "ticks": ""
             }
            },
            "type": "parcoords"
           }
          ],
          "pie": [
           {
            "automargin": true,
            "type": "pie"
           }
          ],
          "scatter": [
           {
            "fillpattern": {
             "fillmode": "overlay",
             "size": 10,
             "solidity": 0.2
            },
            "type": "scatter"
           }
          ],
          "scatter3d": [
           {
            "line": {
             "colorbar": {
              "outlinewidth": 0,
              "ticks": ""
             }
            },
            "marker": {
             "colorbar": {
              "outlinewidth": 0,
              "ticks": ""
             }
            },
            "type": "scatter3d"
           }
          ],
          "scattercarpet": [
           {
            "marker": {
             "colorbar": {
              "outlinewidth": 0,
              "ticks": ""
             }
            },
            "type": "scattercarpet"
           }
          ],
          "scattergeo": [
           {
            "marker": {
             "colorbar": {
              "outlinewidth": 0,
              "ticks": ""
             }
            },
            "type": "scattergeo"
           }
          ],
          "scattergl": [
           {
            "marker": {
             "colorbar": {
              "outlinewidth": 0,
              "ticks": ""
             }
            },
            "type": "scattergl"
           }
          ],
          "scattermapbox": [
           {
            "marker": {
             "colorbar": {
              "outlinewidth": 0,
              "ticks": ""
             }
            },
            "type": "scattermapbox"
           }
          ],
          "scatterpolar": [
           {
            "marker": {
             "colorbar": {
              "outlinewidth": 0,
              "ticks": ""
             }
            },
            "type": "scatterpolar"
           }
          ],
          "scatterpolargl": [
           {
            "marker": {
             "colorbar": {
              "outlinewidth": 0,
              "ticks": ""
             }
            },
            "type": "scatterpolargl"
           }
          ],
          "scatterternary": [
           {
            "marker": {
             "colorbar": {
              "outlinewidth": 0,
              "ticks": ""
             }
            },
            "type": "scatterternary"
           }
          ],
          "surface": [
           {
            "colorbar": {
             "outlinewidth": 0,
             "ticks": ""
            },
            "colorscale": [
             [
              0,
              "#0d0887"
             ],
             [
              0.1111111111111111,
              "#46039f"
             ],
             [
              0.2222222222222222,
              "#7201a8"
             ],
             [
              0.3333333333333333,
              "#9c179e"
             ],
             [
              0.4444444444444444,
              "#bd3786"
             ],
             [
              0.5555555555555556,
              "#d8576b"
             ],
             [
              0.6666666666666666,
              "#ed7953"
             ],
             [
              0.7777777777777778,
              "#fb9f3a"
             ],
             [
              0.8888888888888888,
              "#fdca26"
             ],
             [
              1,
              "#f0f921"
             ]
            ],
            "type": "surface"
           }
          ],
          "table": [
           {
            "cells": {
             "fill": {
              "color": "#EBF0F8"
             },
             "line": {
              "color": "white"
             }
            },
            "header": {
             "fill": {
              "color": "#C8D4E3"
             },
             "line": {
              "color": "white"
             }
            },
            "type": "table"
           }
          ]
         },
         "layout": {
          "annotationdefaults": {
           "arrowcolor": "#2a3f5f",
           "arrowhead": 0,
           "arrowwidth": 1
          },
          "autotypenumbers": "strict",
          "coloraxis": {
           "colorbar": {
            "outlinewidth": 0,
            "ticks": ""
           }
          },
          "colorscale": {
           "diverging": [
            [
             0,
             "#8e0152"
            ],
            [
             0.1,
             "#c51b7d"
            ],
            [
             0.2,
             "#de77ae"
            ],
            [
             0.3,
             "#f1b6da"
            ],
            [
             0.4,
             "#fde0ef"
            ],
            [
             0.5,
             "#f7f7f7"
            ],
            [
             0.6,
             "#e6f5d0"
            ],
            [
             0.7,
             "#b8e186"
            ],
            [
             0.8,
             "#7fbc41"
            ],
            [
             0.9,
             "#4d9221"
            ],
            [
             1,
             "#276419"
            ]
           ],
           "sequential": [
            [
             0,
             "#0d0887"
            ],
            [
             0.1111111111111111,
             "#46039f"
            ],
            [
             0.2222222222222222,
             "#7201a8"
            ],
            [
             0.3333333333333333,
             "#9c179e"
            ],
            [
             0.4444444444444444,
             "#bd3786"
            ],
            [
             0.5555555555555556,
             "#d8576b"
            ],
            [
             0.6666666666666666,
             "#ed7953"
            ],
            [
             0.7777777777777778,
             "#fb9f3a"
            ],
            [
             0.8888888888888888,
             "#fdca26"
            ],
            [
             1,
             "#f0f921"
            ]
           ],
           "sequentialminus": [
            [
             0,
             "#0d0887"
            ],
            [
             0.1111111111111111,
             "#46039f"
            ],
            [
             0.2222222222222222,
             "#7201a8"
            ],
            [
             0.3333333333333333,
             "#9c179e"
            ],
            [
             0.4444444444444444,
             "#bd3786"
            ],
            [
             0.5555555555555556,
             "#d8576b"
            ],
            [
             0.6666666666666666,
             "#ed7953"
            ],
            [
             0.7777777777777778,
             "#fb9f3a"
            ],
            [
             0.8888888888888888,
             "#fdca26"
            ],
            [
             1,
             "#f0f921"
            ]
           ]
          },
          "colorway": [
           "#636efa",
           "#EF553B",
           "#00cc96",
           "#ab63fa",
           "#FFA15A",
           "#19d3f3",
           "#FF6692",
           "#B6E880",
           "#FF97FF",
           "#FECB52"
          ],
          "font": {
           "color": "#2a3f5f"
          },
          "geo": {
           "bgcolor": "white",
           "lakecolor": "white",
           "landcolor": "#E5ECF6",
           "showlakes": true,
           "showland": true,
           "subunitcolor": "white"
          },
          "hoverlabel": {
           "align": "left"
          },
          "hovermode": "closest",
          "mapbox": {
           "style": "light"
          },
          "paper_bgcolor": "white",
          "plot_bgcolor": "#E5ECF6",
          "polar": {
           "angularaxis": {
            "gridcolor": "white",
            "linecolor": "white",
            "ticks": ""
           },
           "bgcolor": "#E5ECF6",
           "radialaxis": {
            "gridcolor": "white",
            "linecolor": "white",
            "ticks": ""
           }
          },
          "scene": {
           "xaxis": {
            "backgroundcolor": "#E5ECF6",
            "gridcolor": "white",
            "gridwidth": 2,
            "linecolor": "white",
            "showbackground": true,
            "ticks": "",
            "zerolinecolor": "white"
           },
           "yaxis": {
            "backgroundcolor": "#E5ECF6",
            "gridcolor": "white",
            "gridwidth": 2,
            "linecolor": "white",
            "showbackground": true,
            "ticks": "",
            "zerolinecolor": "white"
           },
           "zaxis": {
            "backgroundcolor": "#E5ECF6",
            "gridcolor": "white",
            "gridwidth": 2,
            "linecolor": "white",
            "showbackground": true,
            "ticks": "",
            "zerolinecolor": "white"
           }
          },
          "shapedefaults": {
           "line": {
            "color": "#2a3f5f"
           }
          },
          "ternary": {
           "aaxis": {
            "gridcolor": "white",
            "linecolor": "white",
            "ticks": ""
           },
           "baxis": {
            "gridcolor": "white",
            "linecolor": "white",
            "ticks": ""
           },
           "bgcolor": "#E5ECF6",
           "caxis": {
            "gridcolor": "white",
            "linecolor": "white",
            "ticks": ""
           }
          },
          "title": {
           "x": 0.05
          },
          "xaxis": {
           "automargin": true,
           "gridcolor": "white",
           "linecolor": "white",
           "ticks": "",
           "title": {
            "standoff": 15
           },
           "zerolinecolor": "white",
           "zerolinewidth": 2
          },
          "yaxis": {
           "automargin": true,
           "gridcolor": "white",
           "linecolor": "white",
           "ticks": "",
           "title": {
            "standoff": 15
           },
           "zerolinecolor": "white",
           "zerolinewidth": 2
          }
         }
        }
       }
      }
     },
     "metadata": {},
     "output_type": "display_data"
    }
   ],
   "source": [
    "from binn.plot.sankey import SankeyPlotter\n",
    "\n",
    "plotter = SankeyPlotter(\n",
    "    explanations_data=single_explanations,\n",
    "    multiclass=False,\n",
    "    show_top_n=3,\n",
    "    value_col=\"importance\",\n",
    "    node_cmap=\"Reds\",\n",
    "    edge_cmap=\"coolwarm\"\n",
    ")\n",
    "\n",
    "fig = plotter.plot()\n",
    "fig.show()"
   ]
  },
  {
   "cell_type": "code",
   "execution_count": 4,
   "metadata": {},
   "outputs": [
    {
     "name": "stdout",
     "output_type": "stream",
     "text": [
      "[BINNExplainer] Iteration 1/3...\n",
      "[Epoch 1/50] Train Loss: 0.8281, Train Accuracy: 0.5196\n",
      "[Epoch 1/50] Val Loss: 0.6930, Val Accuracy: 0.5312\n",
      "[Epoch 2/50] Train Loss: 0.9235, Train Accuracy: 0.4683\n",
      "[Epoch 2/50] Val Loss: 0.6927, Val Accuracy: 0.5312\n",
      "[Epoch 3/50] Train Loss: 0.8645, Train Accuracy: 0.4478\n",
      "[Epoch 3/50] Val Loss: 0.6926, Val Accuracy: 0.5312\n",
      "[Epoch 4/50] Train Loss: 0.8600, Train Accuracy: 0.4341\n",
      "[Epoch 4/50] Val Loss: 0.6926, Val Accuracy: 0.5312\n",
      "[Epoch 5/50] Train Loss: 0.8760, Train Accuracy: 0.4653\n",
      "[Epoch 5/50] Val Loss: 0.6922, Val Accuracy: 0.5312\n",
      "[Epoch 6/50] Train Loss: 0.8581, Train Accuracy: 0.4728\n",
      "[Epoch 6/50] Val Loss: 0.6920, Val Accuracy: 0.5312\n",
      "[Epoch 7/50] Train Loss: 0.8089, Train Accuracy: 0.5336\n",
      "[Epoch 7/50] Val Loss: 0.6917, Val Accuracy: 0.5312\n",
      "[Epoch 8/50] Train Loss: 0.8094, Train Accuracy: 0.4821\n",
      "[Epoch 8/50] Val Loss: 0.6904, Val Accuracy: 0.5312\n",
      "[Epoch 9/50] Train Loss: 0.8025, Train Accuracy: 0.5216\n",
      "[Epoch 9/50] Val Loss: 0.6870, Val Accuracy: 0.5938\n",
      "[Epoch 10/50] Train Loss: 0.7766, Train Accuracy: 0.4716\n",
      "[Epoch 10/50] Val Loss: 0.6800, Val Accuracy: 0.5781\n",
      "[Epoch 11/50] Train Loss: 0.7630, Train Accuracy: 0.4778\n",
      "[Epoch 11/50] Val Loss: 0.6685, Val Accuracy: 0.5312\n",
      "[Epoch 12/50] Train Loss: 0.7054, Train Accuracy: 0.5791\n",
      "[Epoch 12/50] Val Loss: 0.6533, Val Accuracy: 0.5469\n",
      "[Epoch 13/50] Train Loss: 0.7354, Train Accuracy: 0.5472\n",
      "[Epoch 13/50] Val Loss: 0.6424, Val Accuracy: 0.6406\n",
      "[Epoch 14/50] Train Loss: 0.7215, Train Accuracy: 0.5515\n",
      "[Epoch 14/50] Val Loss: 0.6395, Val Accuracy: 0.6094\n",
      "[Epoch 15/50] Train Loss: 0.6823, Train Accuracy: 0.6022\n",
      "[Epoch 15/50] Val Loss: 0.6444, Val Accuracy: 0.6719\n",
      "[Epoch 16/50] Train Loss: 0.6722, Train Accuracy: 0.6110\n",
      "[Epoch 16/50] Val Loss: 0.6350, Val Accuracy: 0.6719\n",
      "[Epoch 17/50] Train Loss: 0.6755, Train Accuracy: 0.6034\n",
      "[Epoch 17/50] Val Loss: 0.6238, Val Accuracy: 0.6719\n",
      "[Epoch 18/50] Train Loss: 0.6490, Train Accuracy: 0.5985\n",
      "[Epoch 18/50] Val Loss: 0.5954, Val Accuracy: 0.6719\n",
      "[Epoch 19/50] Train Loss: 0.6498, Train Accuracy: 0.6261\n",
      "[Epoch 19/50] Val Loss: 0.5853, Val Accuracy: 0.7188\n",
      "[Epoch 20/50] Train Loss: 0.6435, Train Accuracy: 0.6386\n",
      "[Epoch 20/50] Val Loss: 0.5684, Val Accuracy: 0.7188\n",
      "[Epoch 21/50] Train Loss: 0.6545, Train Accuracy: 0.6116\n",
      "[Epoch 21/50] Val Loss: 0.5446, Val Accuracy: 0.7500\n",
      "[Epoch 22/50] Train Loss: 0.6341, Train Accuracy: 0.6103\n",
      "[Epoch 22/50] Val Loss: 0.5464, Val Accuracy: 0.7344\n",
      "[Epoch 23/50] Train Loss: 0.6324, Train Accuracy: 0.6304\n",
      "[Epoch 23/50] Val Loss: 0.5276, Val Accuracy: 0.7344\n",
      "[Epoch 24/50] Train Loss: 0.6305, Train Accuracy: 0.6422\n",
      "[Epoch 24/50] Val Loss: 0.5301, Val Accuracy: 0.7344\n",
      "[Epoch 25/50] Train Loss: 0.5787, Train Accuracy: 0.7136\n",
      "[Epoch 25/50] Val Loss: 0.5342, Val Accuracy: 0.6562\n",
      "[Epoch 26/50] Train Loss: 0.6138, Train Accuracy: 0.6379\n",
      "[Epoch 26/50] Val Loss: 0.5320, Val Accuracy: 0.6719\n",
      "[Epoch 27/50] Train Loss: 0.6312, Train Accuracy: 0.6304\n",
      "[Epoch 27/50] Val Loss: 0.5395, Val Accuracy: 0.6719\n",
      "[Epoch 28/50] Train Loss: 0.6084, Train Accuracy: 0.6347\n",
      "[Epoch 28/50] Val Loss: 0.4985, Val Accuracy: 0.7031\n",
      "[Epoch 29/50] Train Loss: 0.5863, Train Accuracy: 0.7073\n",
      "[Epoch 29/50] Val Loss: 0.4405, Val Accuracy: 0.8125\n",
      "[Epoch 30/50] Train Loss: 0.5792, Train Accuracy: 0.6961\n",
      "[Epoch 30/50] Val Loss: 0.4327, Val Accuracy: 0.8281\n",
      "[Epoch 31/50] Train Loss: 0.5550, Train Accuracy: 0.7073\n",
      "[Epoch 31/50] Val Loss: 0.4096, Val Accuracy: 0.8438\n",
      "[Epoch 32/50] Train Loss: 0.5670, Train Accuracy: 0.7086\n",
      "[Epoch 32/50] Val Loss: 0.4056, Val Accuracy: 0.8438\n",
      "[Epoch 33/50] Train Loss: 0.5328, Train Accuracy: 0.7323\n",
      "[Epoch 33/50] Val Loss: 0.4010, Val Accuracy: 0.8594\n",
      "[Epoch 34/50] Train Loss: 0.5717, Train Accuracy: 0.6873\n",
      "[Epoch 34/50] Val Loss: 0.3925, Val Accuracy: 0.8594\n",
      "[Epoch 35/50] Train Loss: 0.5273, Train Accuracy: 0.6991\n",
      "[Epoch 35/50] Val Loss: 0.3889, Val Accuracy: 0.8438\n",
      "[Epoch 36/50] Train Loss: 0.5282, Train Accuracy: 0.7461\n",
      "[Epoch 36/50] Val Loss: 0.3863, Val Accuracy: 0.8281\n",
      "[Epoch 37/50] Train Loss: 0.5277, Train Accuracy: 0.7392\n",
      "[Epoch 37/50] Val Loss: 0.4126, Val Accuracy: 0.8125\n",
      "[Epoch 38/50] Train Loss: 0.4792, Train Accuracy: 0.7935\n",
      "[Epoch 38/50] Val Loss: 0.3931, Val Accuracy: 0.8281\n",
      "[Epoch 39/50] Train Loss: 0.4495, Train Accuracy: 0.8218\n",
      "[Epoch 39/50] Val Loss: 0.3712, Val Accuracy: 0.8281\n",
      "[Epoch 40/50] Train Loss: 0.4821, Train Accuracy: 0.7511\n",
      "[Epoch 40/50] Val Loss: 0.3751, Val Accuracy: 0.8125\n",
      "[Epoch 41/50] Train Loss: 0.4909, Train Accuracy: 0.7724\n",
      "[Epoch 41/50] Val Loss: 0.3828, Val Accuracy: 0.8281\n",
      "[Epoch 42/50] Train Loss: 0.4925, Train Accuracy: 0.7899\n",
      "[Epoch 42/50] Val Loss: 0.4104, Val Accuracy: 0.8125\n",
      "[Epoch 43/50] Train Loss: 0.5208, Train Accuracy: 0.7086\n",
      "[Epoch 43/50] Val Loss: 0.4080, Val Accuracy: 0.8125\n",
      "[Epoch 44/50] Train Loss: 0.4868, Train Accuracy: 0.7698\n",
      "[Epoch 44/50] Val Loss: 0.3856, Val Accuracy: 0.7969\n",
      "[Epoch 45/50] Train Loss: 0.4705, Train Accuracy: 0.7692\n",
      "[Epoch 45/50] Val Loss: 0.3616, Val Accuracy: 0.8125\n",
      "[Epoch 46/50] Train Loss: 0.5006, Train Accuracy: 0.7718\n",
      "[Epoch 46/50] Val Loss: 0.3548, Val Accuracy: 0.8438\n",
      "[Epoch 47/50] Train Loss: 0.5137, Train Accuracy: 0.7550\n",
      "[Epoch 47/50] Val Loss: 0.3444, Val Accuracy: 0.8750\n",
      "[Epoch 48/50] Train Loss: 0.4505, Train Accuracy: 0.7711\n",
      "[Epoch 48/50] Val Loss: 0.3440, Val Accuracy: 0.8750\n",
      "[Epoch 49/50] Train Loss: 0.4467, Train Accuracy: 0.8086\n",
      "[Epoch 49/50] Val Loss: 0.3383, Val Accuracy: 0.8906\n",
      "[Epoch 50/50] Train Loss: 0.4086, Train Accuracy: 0.8612\n",
      "[Epoch 50/50] Val Loss: 0.3379, Val Accuracy: 0.8906\n",
      "[BINNExplainer] Iteration 2/3...\n",
      "[Epoch 1/50] Train Loss: 0.5996, Train Accuracy: 0.7080\n",
      "[Epoch 1/50] Val Loss: 0.6932, Val Accuracy: 0.4688\n",
      "[Epoch 2/50] Train Loss: 0.6114, Train Accuracy: 0.6679\n",
      "[Epoch 2/50] Val Loss: 0.6931, Val Accuracy: 0.4688\n",
      "[Epoch 3/50] Train Loss: 0.6129, Train Accuracy: 0.6817\n",
      "[Epoch 3/50] Val Loss: 0.6930, Val Accuracy: 0.5312\n",
      "[Epoch 4/50] Train Loss: 0.5915, Train Accuracy: 0.7060\n",
      "[Epoch 4/50] Val Loss: 0.6928, Val Accuracy: 0.6562\n",
      "[Epoch 5/50] Train Loss: 0.6394, Train Accuracy: 0.6179\n",
      "[Epoch 5/50] Val Loss: 0.6920, Val Accuracy: 0.5312\n",
      "[Epoch 6/50] Train Loss: 0.5768, Train Accuracy: 0.7817\n",
      "[Epoch 6/50] Val Loss: 0.6903, Val Accuracy: 0.5312\n",
      "[Epoch 7/50] Train Loss: 0.5774, Train Accuracy: 0.6961\n",
      "[Epoch 7/50] Val Loss: 0.6869, Val Accuracy: 0.5312\n",
      "[Epoch 8/50] Train Loss: 0.5661, Train Accuracy: 0.7011\n",
      "[Epoch 8/50] Val Loss: 0.6800, Val Accuracy: 0.5938\n",
      "[Epoch 9/50] Train Loss: 0.5372, Train Accuracy: 0.7323\n",
      "[Epoch 9/50] Val Loss: 0.6668, Val Accuracy: 0.7812\n",
      "[Epoch 10/50] Train Loss: 0.5751, Train Accuracy: 0.7011\n",
      "[Epoch 10/50] Val Loss: 0.6436, Val Accuracy: 0.8281\n",
      "[Epoch 11/50] Train Loss: 0.6287, Train Accuracy: 0.6623\n",
      "[Epoch 11/50] Val Loss: 0.6115, Val Accuracy: 0.7188\n",
      "[Epoch 12/50] Train Loss: 0.5824, Train Accuracy: 0.7129\n",
      "[Epoch 12/50] Val Loss: 0.5751, Val Accuracy: 0.7031\n",
      "[Epoch 13/50] Train Loss: 0.5632, Train Accuracy: 0.6961\n",
      "[Epoch 13/50] Val Loss: 0.5477, Val Accuracy: 0.7031\n",
      "[Epoch 14/50] Train Loss: 0.5566, Train Accuracy: 0.7235\n",
      "[Epoch 14/50] Val Loss: 0.5175, Val Accuracy: 0.7344\n",
      "[Epoch 15/50] Train Loss: 0.5510, Train Accuracy: 0.7573\n",
      "[Epoch 15/50] Val Loss: 0.5092, Val Accuracy: 0.7344\n",
      "[Epoch 16/50] Train Loss: 0.5160, Train Accuracy: 0.7560\n",
      "[Epoch 16/50] Val Loss: 0.5088, Val Accuracy: 0.7344\n",
      "[Epoch 17/50] Train Loss: 0.5067, Train Accuracy: 0.7780\n",
      "[Epoch 17/50] Val Loss: 0.5068, Val Accuracy: 0.7344\n",
      "[Epoch 18/50] Train Loss: 0.4732, Train Accuracy: 0.7636\n",
      "[Epoch 18/50] Val Loss: 0.5091, Val Accuracy: 0.7344\n",
      "[Epoch 19/50] Train Loss: 0.5187, Train Accuracy: 0.7205\n",
      "[Epoch 19/50] Val Loss: 0.4946, Val Accuracy: 0.7500\n",
      "[Epoch 20/50] Train Loss: 0.4972, Train Accuracy: 0.7435\n",
      "[Epoch 20/50] Val Loss: 0.4891, Val Accuracy: 0.7500\n",
      "[Epoch 21/50] Train Loss: 0.4807, Train Accuracy: 0.7886\n",
      "[Epoch 21/50] Val Loss: 0.4682, Val Accuracy: 0.7500\n",
      "[Epoch 22/50] Train Loss: 0.4966, Train Accuracy: 0.7748\n",
      "[Epoch 22/50] Val Loss: 0.4613, Val Accuracy: 0.7500\n",
      "[Epoch 23/50] Train Loss: 0.4975, Train Accuracy: 0.7511\n",
      "[Epoch 23/50] Val Loss: 0.4536, Val Accuracy: 0.7500\n",
      "[Epoch 24/50] Train Loss: 0.4586, Train Accuracy: 0.8011\n",
      "[Epoch 24/50] Val Loss: 0.4573, Val Accuracy: 0.7500\n",
      "[Epoch 25/50] Train Loss: 0.4851, Train Accuracy: 0.7767\n",
      "[Epoch 25/50] Val Loss: 0.4433, Val Accuracy: 0.7500\n",
      "[Epoch 26/50] Train Loss: 0.4622, Train Accuracy: 0.8142\n",
      "[Epoch 26/50] Val Loss: 0.4378, Val Accuracy: 0.7500\n",
      "[Epoch 27/50] Train Loss: 0.4913, Train Accuracy: 0.7612\n",
      "[Epoch 27/50] Val Loss: 0.4322, Val Accuracy: 0.7500\n",
      "[Epoch 28/50] Train Loss: 0.4831, Train Accuracy: 0.8162\n",
      "[Epoch 28/50] Val Loss: 0.4249, Val Accuracy: 0.8125\n",
      "[Epoch 29/50] Train Loss: 0.4997, Train Accuracy: 0.7254\n",
      "[Epoch 29/50] Val Loss: 0.4240, Val Accuracy: 0.8125\n",
      "[Epoch 30/50] Train Loss: 0.4887, Train Accuracy: 0.7606\n",
      "[Epoch 30/50] Val Loss: 0.4245, Val Accuracy: 0.7500\n",
      "[Epoch 31/50] Train Loss: 0.4454, Train Accuracy: 0.8343\n",
      "[Epoch 31/50] Val Loss: 0.4198, Val Accuracy: 0.7500\n",
      "[Epoch 32/50] Train Loss: 0.4520, Train Accuracy: 0.8330\n",
      "[Epoch 32/50] Val Loss: 0.4123, Val Accuracy: 0.8125\n",
      "[Epoch 33/50] Train Loss: 0.3998, Train Accuracy: 0.8405\n",
      "[Epoch 33/50] Val Loss: 0.4115, Val Accuracy: 0.8125\n",
      "[Epoch 34/50] Train Loss: 0.4211, Train Accuracy: 0.8149\n",
      "[Epoch 34/50] Val Loss: 0.4120, Val Accuracy: 0.7969\n",
      "[Epoch 35/50] Train Loss: 0.4318, Train Accuracy: 0.8724\n",
      "[Epoch 35/50] Val Loss: 0.4000, Val Accuracy: 0.8125\n",
      "[Epoch 36/50] Train Loss: 0.4418, Train Accuracy: 0.7856\n",
      "[Epoch 36/50] Val Loss: 0.3988, Val Accuracy: 0.7969\n",
      "[Epoch 37/50] Train Loss: 0.4386, Train Accuracy: 0.8185\n",
      "[Epoch 37/50] Val Loss: 0.3952, Val Accuracy: 0.7969\n",
      "[Epoch 38/50] Train Loss: 0.4247, Train Accuracy: 0.8149\n",
      "[Epoch 38/50] Val Loss: 0.3888, Val Accuracy: 0.8125\n",
      "[Epoch 39/50] Train Loss: 0.3965, Train Accuracy: 0.8392\n",
      "[Epoch 39/50] Val Loss: 0.3807, Val Accuracy: 0.8281\n",
      "[Epoch 40/50] Train Loss: 0.4277, Train Accuracy: 0.8162\n",
      "[Epoch 40/50] Val Loss: 0.3807, Val Accuracy: 0.8125\n",
      "[Epoch 41/50] Train Loss: 0.4177, Train Accuracy: 0.8280\n",
      "[Epoch 41/50] Val Loss: 0.3775, Val Accuracy: 0.8125\n",
      "[Epoch 42/50] Train Loss: 0.4092, Train Accuracy: 0.8800\n",
      "[Epoch 42/50] Val Loss: 0.3685, Val Accuracy: 0.8281\n",
      "[Epoch 43/50] Train Loss: 0.4151, Train Accuracy: 0.8343\n",
      "[Epoch 43/50] Val Loss: 0.3669, Val Accuracy: 0.8281\n",
      "[Epoch 44/50] Train Loss: 0.3988, Train Accuracy: 0.8655\n",
      "[Epoch 44/50] Val Loss: 0.3636, Val Accuracy: 0.8281\n",
      "[Epoch 45/50] Train Loss: 0.4021, Train Accuracy: 0.8293\n",
      "[Epoch 45/50] Val Loss: 0.3758, Val Accuracy: 0.8125\n",
      "[Epoch 46/50] Train Loss: 0.4095, Train Accuracy: 0.8468\n",
      "[Epoch 46/50] Val Loss: 0.3757, Val Accuracy: 0.8125\n",
      "[Epoch 47/50] Train Loss: 0.4157, Train Accuracy: 0.8231\n",
      "[Epoch 47/50] Val Loss: 0.3648, Val Accuracy: 0.8125\n",
      "[Epoch 48/50] Train Loss: 0.4266, Train Accuracy: 0.8280\n",
      "[Epoch 48/50] Val Loss: 0.3592, Val Accuracy: 0.8281\n",
      "[Epoch 49/50] Train Loss: 0.4004, Train Accuracy: 0.8218\n",
      "[Epoch 49/50] Val Loss: 0.3601, Val Accuracy: 0.8125\n",
      "[Epoch 50/50] Train Loss: 0.4286, Train Accuracy: 0.8103\n",
      "[Epoch 50/50] Val Loss: 0.3542, Val Accuracy: 0.8281\n",
      "[BINNExplainer] Iteration 3/3...\n",
      "[Epoch 1/50] Train Loss: 0.6123, Train Accuracy: 0.6636\n",
      "[Epoch 1/50] Val Loss: 0.6930, Val Accuracy: 0.5312\n",
      "[Epoch 2/50] Train Loss: 0.6230, Train Accuracy: 0.7054\n",
      "[Epoch 2/50] Val Loss: 0.6925, Val Accuracy: 0.5312\n",
      "[Epoch 3/50] Train Loss: 0.6568, Train Accuracy: 0.6179\n",
      "[Epoch 3/50] Val Loss: 0.6922, Val Accuracy: 0.5312\n",
      "[Epoch 4/50] Train Loss: 0.5596, Train Accuracy: 0.7498\n",
      "[Epoch 4/50] Val Loss: 0.6914, Val Accuracy: 0.5312\n",
      "[Epoch 5/50] Train Loss: 0.6225, Train Accuracy: 0.6498\n",
      "[Epoch 5/50] Val Loss: 0.6898, Val Accuracy: 0.5312\n",
      "[Epoch 6/50] Train Loss: 0.5880, Train Accuracy: 0.6929\n",
      "[Epoch 6/50] Val Loss: 0.6860, Val Accuracy: 0.5312\n",
      "[Epoch 7/50] Train Loss: 0.5766, Train Accuracy: 0.7060\n",
      "[Epoch 7/50] Val Loss: 0.6779, Val Accuracy: 0.5312\n",
      "[Epoch 8/50] Train Loss: 0.5479, Train Accuracy: 0.6817\n",
      "[Epoch 8/50] Val Loss: 0.6608, Val Accuracy: 0.7500\n",
      "[Epoch 9/50] Train Loss: 0.5737, Train Accuracy: 0.6998\n",
      "[Epoch 9/50] Val Loss: 0.6295, Val Accuracy: 0.8438\n",
      "[Epoch 10/50] Train Loss: 0.5705, Train Accuracy: 0.6955\n",
      "[Epoch 10/50] Val Loss: 0.5830, Val Accuracy: 0.8594\n",
      "[Epoch 11/50] Train Loss: 0.5784, Train Accuracy: 0.7004\n",
      "[Epoch 11/50] Val Loss: 0.5295, Val Accuracy: 0.8906\n",
      "[Epoch 12/50] Train Loss: 0.5868, Train Accuracy: 0.6705\n",
      "[Epoch 12/50] Val Loss: 0.4809, Val Accuracy: 0.8906\n",
      "[Epoch 13/50] Train Loss: 0.5320, Train Accuracy: 0.7448\n",
      "[Epoch 13/50] Val Loss: 0.4452, Val Accuracy: 0.8906\n",
      "[Epoch 14/50] Train Loss: 0.5370, Train Accuracy: 0.7261\n",
      "[Epoch 14/50] Val Loss: 0.4193, Val Accuracy: 0.8750\n",
      "[Epoch 15/50] Train Loss: 0.5735, Train Accuracy: 0.7129\n",
      "[Epoch 15/50] Val Loss: 0.4078, Val Accuracy: 0.8594\n",
      "[Epoch 16/50] Train Loss: 0.5521, Train Accuracy: 0.7004\n",
      "[Epoch 16/50] Val Loss: 0.4032, Val Accuracy: 0.8594\n",
      "[Epoch 17/50] Train Loss: 0.4640, Train Accuracy: 0.7599\n",
      "[Epoch 17/50] Val Loss: 0.4033, Val Accuracy: 0.8281\n",
      "[Epoch 18/50] Train Loss: 0.4758, Train Accuracy: 0.7879\n",
      "[Epoch 18/50] Val Loss: 0.4169, Val Accuracy: 0.8125\n",
      "[Epoch 19/50] Train Loss: 0.4785, Train Accuracy: 0.8004\n",
      "[Epoch 19/50] Val Loss: 0.4243, Val Accuracy: 0.7812\n",
      "[Epoch 20/50] Train Loss: 0.4741, Train Accuracy: 0.8300\n",
      "[Epoch 20/50] Val Loss: 0.4329, Val Accuracy: 0.7500\n",
      "[Epoch 21/50] Train Loss: 0.5024, Train Accuracy: 0.7711\n",
      "[Epoch 21/50] Val Loss: 0.4381, Val Accuracy: 0.7500\n",
      "[Epoch 22/50] Train Loss: 0.4723, Train Accuracy: 0.7849\n",
      "[Epoch 22/50] Val Loss: 0.4466, Val Accuracy: 0.7656\n",
      "[Epoch 23/50] Train Loss: 0.4578, Train Accuracy: 0.8017\n",
      "[Epoch 23/50] Val Loss: 0.4432, Val Accuracy: 0.7500\n",
      "[Epoch 24/50] Train Loss: 0.4895, Train Accuracy: 0.7642\n",
      "[Epoch 24/50] Val Loss: 0.4390, Val Accuracy: 0.7500\n",
      "[Epoch 25/50] Train Loss: 0.5260, Train Accuracy: 0.7455\n",
      "[Epoch 25/50] Val Loss: 0.4320, Val Accuracy: 0.7500\n",
      "[Epoch 26/50] Train Loss: 0.4616, Train Accuracy: 0.7573\n",
      "[Epoch 26/50] Val Loss: 0.4288, Val Accuracy: 0.7500\n",
      "[Epoch 27/50] Train Loss: 0.5043, Train Accuracy: 0.7567\n",
      "[Epoch 27/50] Val Loss: 0.4236, Val Accuracy: 0.7500\n",
      "[Epoch 28/50] Train Loss: 0.4684, Train Accuracy: 0.7754\n",
      "[Epoch 28/50] Val Loss: 0.4128, Val Accuracy: 0.7500\n",
      "[Epoch 29/50] Train Loss: 0.4171, Train Accuracy: 0.8724\n",
      "[Epoch 29/50] Val Loss: 0.4083, Val Accuracy: 0.7500\n",
      "[Epoch 30/50] Train Loss: 0.4070, Train Accuracy: 0.8024\n",
      "[Epoch 30/50] Val Loss: 0.4001, Val Accuracy: 0.7500\n",
      "[Epoch 31/50] Train Loss: 0.4235, Train Accuracy: 0.8336\n",
      "[Epoch 31/50] Val Loss: 0.3899, Val Accuracy: 0.7500\n",
      "[Epoch 32/50] Train Loss: 0.4380, Train Accuracy: 0.8030\n",
      "[Epoch 32/50] Val Loss: 0.3731, Val Accuracy: 0.7812\n",
      "[Epoch 33/50] Train Loss: 0.4155, Train Accuracy: 0.8362\n",
      "[Epoch 33/50] Val Loss: 0.3682, Val Accuracy: 0.7812\n",
      "[Epoch 34/50] Train Loss: 0.4026, Train Accuracy: 0.8412\n",
      "[Epoch 34/50] Val Loss: 0.3676, Val Accuracy: 0.7812\n",
      "[Epoch 35/50] Train Loss: 0.4752, Train Accuracy: 0.7629\n",
      "[Epoch 35/50] Val Loss: 0.3590, Val Accuracy: 0.7812\n",
      "[Epoch 36/50] Train Loss: 0.4261, Train Accuracy: 0.8093\n",
      "[Epoch 36/50] Val Loss: 0.3511, Val Accuracy: 0.7812\n",
      "[Epoch 37/50] Train Loss: 0.4407, Train Accuracy: 0.8116\n",
      "[Epoch 37/50] Val Loss: 0.3445, Val Accuracy: 0.7969\n",
      "[Epoch 38/50] Train Loss: 0.4021, Train Accuracy: 0.8218\n",
      "[Epoch 38/50] Val Loss: 0.3424, Val Accuracy: 0.8594\n",
      "[Epoch 39/50] Train Loss: 0.3917, Train Accuracy: 0.8468\n",
      "[Epoch 39/50] Val Loss: 0.3334, Val Accuracy: 0.8750\n",
      "[Epoch 40/50] Train Loss: 0.3554, Train Accuracy: 0.8899\n",
      "[Epoch 40/50] Val Loss: 0.3307, Val Accuracy: 0.8594\n",
      "[Epoch 41/50] Train Loss: 0.3916, Train Accuracy: 0.8399\n",
      "[Epoch 41/50] Val Loss: 0.3194, Val Accuracy: 0.8750\n",
      "[Epoch 42/50] Train Loss: 0.3862, Train Accuracy: 0.8343\n",
      "[Epoch 42/50] Val Loss: 0.3150, Val Accuracy: 0.8750\n",
      "[Epoch 43/50] Train Loss: 0.3809, Train Accuracy: 0.8737\n",
      "[Epoch 43/50] Val Loss: 0.3324, Val Accuracy: 0.8594\n",
      "[Epoch 44/50] Train Loss: 0.3728, Train Accuracy: 0.8224\n",
      "[Epoch 44/50] Val Loss: 0.3398, Val Accuracy: 0.8594\n",
      "[Epoch 45/50] Train Loss: 0.3557, Train Accuracy: 0.8856\n",
      "[Epoch 45/50] Val Loss: 0.3337, Val Accuracy: 0.8594\n",
      "[Epoch 46/50] Train Loss: 0.3786, Train Accuracy: 0.8705\n",
      "[Epoch 46/50] Val Loss: 0.3359, Val Accuracy: 0.8594\n",
      "[Epoch 47/50] Train Loss: 0.4364, Train Accuracy: 0.8086\n",
      "[Epoch 47/50] Val Loss: 0.3313, Val Accuracy: 0.8594\n",
      "[Epoch 48/50] Train Loss: 0.3969, Train Accuracy: 0.8524\n",
      "[Epoch 48/50] Val Loss: 0.3260, Val Accuracy: 0.8594\n",
      "[Epoch 49/50] Train Loss: 0.3642, Train Accuracy: 0.8356\n",
      "[Epoch 49/50] Val Loss: 0.3242, Val Accuracy: 0.8594\n",
      "[Epoch 50/50] Train Loss: 0.3491, Train Accuracy: 0.8787\n",
      "[Epoch 50/50] Val Loss: 0.3157, Val Accuracy: 0.8750\n"
     ]
    }
   ],
   "source": [
    "average_explanations = explainer.explain(dataloaders, nr_iterations=3, num_epochs=50, trainer=trainer)"
   ]
  },
  {
   "cell_type": "code",
   "execution_count": 5,
   "metadata": {},
   "outputs": [
    {
     "data": {
      "text/html": [
       "<div>\n",
       "<style scoped>\n",
       "    .dataframe tbody tr th:only-of-type {\n",
       "        vertical-align: middle;\n",
       "    }\n",
       "\n",
       "    .dataframe tbody tr th {\n",
       "        vertical-align: top;\n",
       "    }\n",
       "\n",
       "    .dataframe thead th {\n",
       "        text-align: right;\n",
       "    }\n",
       "</style>\n",
       "<table border=\"1\" class=\"dataframe\">\n",
       "  <thead>\n",
       "    <tr style=\"text-align: right;\">\n",
       "      <th></th>\n",
       "      <th>source_layer</th>\n",
       "      <th>target_layer</th>\n",
       "      <th>source_node</th>\n",
       "      <th>target_node</th>\n",
       "      <th>class_idx</th>\n",
       "      <th>importance</th>\n",
       "      <th>importance_0</th>\n",
       "      <th>importance_1</th>\n",
       "      <th>importance_2</th>\n",
       "      <th>importance_mean</th>\n",
       "      <th>importance_std</th>\n",
       "      <th>normalized_importance</th>\n",
       "    </tr>\n",
       "  </thead>\n",
       "  <tbody>\n",
       "    <tr>\n",
       "      <th>0</th>\n",
       "      <td>0</td>\n",
       "      <td>1</td>\n",
       "      <td>A0M8Q6</td>\n",
       "      <td>R-HSA-166663</td>\n",
       "      <td>0</td>\n",
       "      <td>0.006274</td>\n",
       "      <td>0.001778</td>\n",
       "      <td>0.011938</td>\n",
       "      <td>0.005106</td>\n",
       "      <td>0.006274</td>\n",
       "      <td>0.004229</td>\n",
       "      <td>0.001569</td>\n",
       "    </tr>\n",
       "    <tr>\n",
       "      <th>1</th>\n",
       "      <td>0</td>\n",
       "      <td>1</td>\n",
       "      <td>A0M8Q6</td>\n",
       "      <td>R-HSA-166663</td>\n",
       "      <td>1</td>\n",
       "      <td>0.009529</td>\n",
       "      <td>0.006807</td>\n",
       "      <td>0.007827</td>\n",
       "      <td>0.013952</td>\n",
       "      <td>0.009529</td>\n",
       "      <td>0.003156</td>\n",
       "      <td>0.002382</td>\n",
       "    </tr>\n",
       "    <tr>\n",
       "      <th>2</th>\n",
       "      <td>0</td>\n",
       "      <td>1</td>\n",
       "      <td>A0M8Q6</td>\n",
       "      <td>R-HSA-198933</td>\n",
       "      <td>0</td>\n",
       "      <td>0.006274</td>\n",
       "      <td>0.001778</td>\n",
       "      <td>0.011938</td>\n",
       "      <td>0.005106</td>\n",
       "      <td>0.006274</td>\n",
       "      <td>0.004229</td>\n",
       "      <td>0.001569</td>\n",
       "    </tr>\n",
       "    <tr>\n",
       "      <th>3</th>\n",
       "      <td>0</td>\n",
       "      <td>1</td>\n",
       "      <td>A0M8Q6</td>\n",
       "      <td>R-HSA-198933</td>\n",
       "      <td>1</td>\n",
       "      <td>0.009529</td>\n",
       "      <td>0.006807</td>\n",
       "      <td>0.007827</td>\n",
       "      <td>0.013952</td>\n",
       "      <td>0.009529</td>\n",
       "      <td>0.003156</td>\n",
       "      <td>0.002382</td>\n",
       "    </tr>\n",
       "    <tr>\n",
       "      <th>4</th>\n",
       "      <td>0</td>\n",
       "      <td>1</td>\n",
       "      <td>A0M8Q6</td>\n",
       "      <td>R-HSA-2029481</td>\n",
       "      <td>0</td>\n",
       "      <td>0.006274</td>\n",
       "      <td>0.001778</td>\n",
       "      <td>0.011938</td>\n",
       "      <td>0.005106</td>\n",
       "      <td>0.006274</td>\n",
       "      <td>0.004229</td>\n",
       "      <td>0.001569</td>\n",
       "    </tr>\n",
       "    <tr>\n",
       "      <th>...</th>\n",
       "      <td>...</td>\n",
       "      <td>...</td>\n",
       "      <td>...</td>\n",
       "      <td>...</td>\n",
       "      <td>...</td>\n",
       "      <td>...</td>\n",
       "      <td>...</td>\n",
       "      <td>...</td>\n",
       "      <td>...</td>\n",
       "      <td>...</td>\n",
       "      <td>...</td>\n",
       "      <td>...</td>\n",
       "    </tr>\n",
       "    <tr>\n",
       "      <th>7079</th>\n",
       "      <td>4</td>\n",
       "      <td>5</td>\n",
       "      <td>R-HSA-9612973</td>\n",
       "      <td>output_node</td>\n",
       "      <td>1</td>\n",
       "      <td>0.130000</td>\n",
       "      <td>0.187380</td>\n",
       "      <td>0.052540</td>\n",
       "      <td>0.150081</td>\n",
       "      <td>0.130000</td>\n",
       "      <td>0.056850</td>\n",
       "      <td>0.055988</td>\n",
       "    </tr>\n",
       "    <tr>\n",
       "      <th>7080</th>\n",
       "      <td>4</td>\n",
       "      <td>5</td>\n",
       "      <td>R-HSA-9709957</td>\n",
       "      <td>output_node</td>\n",
       "      <td>0</td>\n",
       "      <td>0.211574</td>\n",
       "      <td>0.198006</td>\n",
       "      <td>0.219232</td>\n",
       "      <td>0.217486</td>\n",
       "      <td>0.211574</td>\n",
       "      <td>0.009621</td>\n",
       "      <td>0.105787</td>\n",
       "    </tr>\n",
       "    <tr>\n",
       "      <th>7081</th>\n",
       "      <td>4</td>\n",
       "      <td>5</td>\n",
       "      <td>R-HSA-9709957</td>\n",
       "      <td>output_node</td>\n",
       "      <td>1</td>\n",
       "      <td>0.052519</td>\n",
       "      <td>0.041629</td>\n",
       "      <td>0.059777</td>\n",
       "      <td>0.056152</td>\n",
       "      <td>0.052519</td>\n",
       "      <td>0.007842</td>\n",
       "      <td>0.026259</td>\n",
       "    </tr>\n",
       "    <tr>\n",
       "      <th>7082</th>\n",
       "      <td>4</td>\n",
       "      <td>5</td>\n",
       "      <td>R-HSA-9748784</td>\n",
       "      <td>output_node</td>\n",
       "      <td>0</td>\n",
       "      <td>0.164754</td>\n",
       "      <td>0.222715</td>\n",
       "      <td>0.025688</td>\n",
       "      <td>0.245859</td>\n",
       "      <td>0.164754</td>\n",
       "      <td>0.098787</td>\n",
       "      <td>0.054918</td>\n",
       "    </tr>\n",
       "    <tr>\n",
       "      <th>7083</th>\n",
       "      <td>4</td>\n",
       "      <td>5</td>\n",
       "      <td>R-HSA-9748784</td>\n",
       "      <td>output_node</td>\n",
       "      <td>1</td>\n",
       "      <td>0.061606</td>\n",
       "      <td>0.013422</td>\n",
       "      <td>0.066391</td>\n",
       "      <td>0.105004</td>\n",
       "      <td>0.061606</td>\n",
       "      <td>0.037541</td>\n",
       "      <td>0.020535</td>\n",
       "    </tr>\n",
       "  </tbody>\n",
       "</table>\n",
       "<p>7084 rows × 12 columns</p>\n",
       "</div>"
      ],
      "text/plain": [
       "      source_layer  target_layer    source_node    target_node  class_idx  \\\n",
       "0                0             1         A0M8Q6   R-HSA-166663          0   \n",
       "1                0             1         A0M8Q6   R-HSA-166663          1   \n",
       "2                0             1         A0M8Q6   R-HSA-198933          0   \n",
       "3                0             1         A0M8Q6   R-HSA-198933          1   \n",
       "4                0             1         A0M8Q6  R-HSA-2029481          0   \n",
       "...            ...           ...            ...            ...        ...   \n",
       "7079             4             5  R-HSA-9612973    output_node          1   \n",
       "7080             4             5  R-HSA-9709957    output_node          0   \n",
       "7081             4             5  R-HSA-9709957    output_node          1   \n",
       "7082             4             5  R-HSA-9748784    output_node          0   \n",
       "7083             4             5  R-HSA-9748784    output_node          1   \n",
       "\n",
       "      importance  importance_0  importance_1  importance_2  importance_mean  \\\n",
       "0       0.006274      0.001778      0.011938      0.005106         0.006274   \n",
       "1       0.009529      0.006807      0.007827      0.013952         0.009529   \n",
       "2       0.006274      0.001778      0.011938      0.005106         0.006274   \n",
       "3       0.009529      0.006807      0.007827      0.013952         0.009529   \n",
       "4       0.006274      0.001778      0.011938      0.005106         0.006274   \n",
       "...          ...           ...           ...           ...              ...   \n",
       "7079    0.130000      0.187380      0.052540      0.150081         0.130000   \n",
       "7080    0.211574      0.198006      0.219232      0.217486         0.211574   \n",
       "7081    0.052519      0.041629      0.059777      0.056152         0.052519   \n",
       "7082    0.164754      0.222715      0.025688      0.245859         0.164754   \n",
       "7083    0.061606      0.013422      0.066391      0.105004         0.061606   \n",
       "\n",
       "      importance_std  normalized_importance  \n",
       "0           0.004229               0.001569  \n",
       "1           0.003156               0.002382  \n",
       "2           0.004229               0.001569  \n",
       "3           0.003156               0.002382  \n",
       "4           0.004229               0.001569  \n",
       "...              ...                    ...  \n",
       "7079        0.056850               0.055988  \n",
       "7080        0.009621               0.105787  \n",
       "7081        0.007842               0.026259  \n",
       "7082        0.098787               0.054918  \n",
       "7083        0.037541               0.020535  \n",
       "\n",
       "[7084 rows x 12 columns]"
      ]
     },
     "execution_count": 5,
     "metadata": {},
     "output_type": "execute_result"
    }
   ],
   "source": [
    "normalized_average_explanations = explainer.normalize_importances(average_explanations, method=\"fan\")\n",
    "normalized_average_explanations"
   ]
  }
 ],
 "metadata": {
  "kernelspec": {
   "display_name": ".venv",
   "language": "python",
   "name": "python3"
  },
  "language_info": {
   "codemirror_mode": {
    "name": "ipython",
    "version": 3
   },
   "file_extension": ".py",
   "mimetype": "text/x-python",
   "name": "python",
   "nbconvert_exporter": "python",
   "pygments_lexer": "ipython3",
   "version": "3.10.15"
  },
  "orig_nbformat": 4
 },
 "nbformat": 4,
 "nbformat_minor": 2
}
