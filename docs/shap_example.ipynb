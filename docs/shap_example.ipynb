{
 "cells": [
  {
   "cell_type": "code",
   "execution_count": 1,
   "metadata": {},
   "outputs": [
    {
     "name": "stdout",
     "output_type": "stream",
     "text": [
      "\n",
      "[INFO] BINN is on device: cpu\n",
      "Mapping group labels: {np.int64(1): 0, np.int64(2): 1}\n",
      "[Epoch 1/50] Train Loss: 0.8787, Train Accuracy: 0.4922\n",
      "[Epoch 1/50] Val Loss: 0.6929, Val Accuracy: 0.5312\n",
      "[Epoch 2/50] Train Loss: 0.7921, Train Accuracy: 0.5259\n",
      "[Epoch 2/50] Val Loss: 0.6927, Val Accuracy: 0.5312\n",
      "[Epoch 3/50] Train Loss: 0.8105, Train Accuracy: 0.4890\n",
      "[Epoch 3/50] Val Loss: 0.6923, Val Accuracy: 0.5312\n",
      "[Epoch 4/50] Train Loss: 0.7764, Train Accuracy: 0.5672\n",
      "[Epoch 4/50] Val Loss: 0.6920, Val Accuracy: 0.5312\n",
      "[Epoch 5/50] Train Loss: 0.7429, Train Accuracy: 0.5416\n",
      "[Epoch 5/50] Val Loss: 0.6917, Val Accuracy: 0.5312\n",
      "[Epoch 6/50] Train Loss: 0.7517, Train Accuracy: 0.5429\n",
      "[Epoch 6/50] Val Loss: 0.6913, Val Accuracy: 0.5312\n",
      "[Epoch 7/50] Train Loss: 0.6517, Train Accuracy: 0.6336\n",
      "[Epoch 7/50] Val Loss: 0.6903, Val Accuracy: 0.5312\n",
      "[Epoch 8/50] Train Loss: 0.6948, Train Accuracy: 0.6416\n",
      "[Epoch 8/50] Val Loss: 0.6880, Val Accuracy: 0.5312\n",
      "[Epoch 9/50] Train Loss: 0.6950, Train Accuracy: 0.6386\n",
      "[Epoch 9/50] Val Loss: 0.6821, Val Accuracy: 0.5156\n",
      "[Epoch 10/50] Train Loss: 0.7255, Train Accuracy: 0.6136\n",
      "[Epoch 10/50] Val Loss: 0.6702, Val Accuracy: 0.5469\n",
      "[Epoch 11/50] Train Loss: 0.6532, Train Accuracy: 0.6560\n",
      "[Epoch 11/50] Val Loss: 0.6499, Val Accuracy: 0.6406\n",
      "[Epoch 12/50] Train Loss: 0.6801, Train Accuracy: 0.6366\n",
      "[Epoch 12/50] Val Loss: 0.6205, Val Accuracy: 0.7188\n",
      "[Epoch 13/50] Train Loss: 0.5722, Train Accuracy: 0.6961\n",
      "[Epoch 13/50] Val Loss: 0.5883, Val Accuracy: 0.7656\n",
      "[Epoch 14/50] Train Loss: 0.6306, Train Accuracy: 0.6685\n",
      "[Epoch 14/50] Val Loss: 0.5562, Val Accuracy: 0.7344\n",
      "[Epoch 15/50] Train Loss: 0.6426, Train Accuracy: 0.6317\n",
      "[Epoch 15/50] Val Loss: 0.5261, Val Accuracy: 0.8281\n",
      "[Epoch 16/50] Train Loss: 0.6517, Train Accuracy: 0.6491\n",
      "[Epoch 16/50] Val Loss: 0.5003, Val Accuracy: 0.8281\n",
      "[Epoch 17/50] Train Loss: 0.5585, Train Accuracy: 0.7248\n",
      "[Epoch 17/50] Val Loss: 0.4817, Val Accuracy: 0.8125\n",
      "[Epoch 18/50] Train Loss: 0.5951, Train Accuracy: 0.6797\n",
      "[Epoch 18/50] Val Loss: 0.4644, Val Accuracy: 0.8125\n",
      "[Epoch 19/50] Train Loss: 0.5855, Train Accuracy: 0.6629\n",
      "[Epoch 19/50] Val Loss: 0.4496, Val Accuracy: 0.8281\n",
      "[Epoch 20/50] Train Loss: 0.5148, Train Accuracy: 0.7649\n",
      "[Epoch 20/50] Val Loss: 0.4390, Val Accuracy: 0.8281\n",
      "[Epoch 21/50] Train Loss: 0.5157, Train Accuracy: 0.7330\n",
      "[Epoch 21/50] Val Loss: 0.4270, Val Accuracy: 0.8281\n",
      "[Epoch 22/50] Train Loss: 0.5888, Train Accuracy: 0.6748\n",
      "[Epoch 22/50] Val Loss: 0.4263, Val Accuracy: 0.8281\n",
      "[Epoch 23/50] Train Loss: 0.5185, Train Accuracy: 0.7468\n",
      "[Epoch 23/50] Val Loss: 0.4165, Val Accuracy: 0.8125\n",
      "[Epoch 24/50] Train Loss: 0.4848, Train Accuracy: 0.7524\n",
      "[Epoch 24/50] Val Loss: 0.4144, Val Accuracy: 0.8125\n",
      "[Epoch 25/50] Train Loss: 0.4869, Train Accuracy: 0.7961\n",
      "[Epoch 25/50] Val Loss: 0.4062, Val Accuracy: 0.7969\n",
      "[Epoch 26/50] Train Loss: 0.4855, Train Accuracy: 0.7698\n",
      "[Epoch 26/50] Val Loss: 0.4086, Val Accuracy: 0.7969\n",
      "[Epoch 27/50] Train Loss: 0.4901, Train Accuracy: 0.7711\n",
      "[Epoch 27/50] Val Loss: 0.4143, Val Accuracy: 0.7969\n",
      "[Epoch 28/50] Train Loss: 0.4646, Train Accuracy: 0.8211\n",
      "[Epoch 28/50] Val Loss: 0.4195, Val Accuracy: 0.7812\n",
      "[Epoch 29/50] Train Loss: 0.4511, Train Accuracy: 0.8280\n",
      "[Epoch 29/50] Val Loss: 0.4101, Val Accuracy: 0.7969\n",
      "[Epoch 30/50] Train Loss: 0.4887, Train Accuracy: 0.8037\n",
      "[Epoch 30/50] Val Loss: 0.4056, Val Accuracy: 0.7969\n",
      "[Epoch 31/50] Train Loss: 0.4277, Train Accuracy: 0.8349\n",
      "[Epoch 31/50] Val Loss: 0.3950, Val Accuracy: 0.7969\n",
      "[Epoch 32/50] Train Loss: 0.4481, Train Accuracy: 0.8073\n",
      "[Epoch 32/50] Val Loss: 0.4064, Val Accuracy: 0.7812\n",
      "[Epoch 33/50] Train Loss: 0.4580, Train Accuracy: 0.7636\n",
      "[Epoch 33/50] Val Loss: 0.4028, Val Accuracy: 0.7969\n",
      "[Epoch 34/50] Train Loss: 0.4131, Train Accuracy: 0.8237\n",
      "[Epoch 34/50] Val Loss: 0.3981, Val Accuracy: 0.7969\n",
      "[Epoch 35/50] Train Loss: 0.3786, Train Accuracy: 0.8537\n",
      "[Epoch 35/50] Val Loss: 0.3761, Val Accuracy: 0.7969\n",
      "[Epoch 36/50] Train Loss: 0.4093, Train Accuracy: 0.8149\n",
      "[Epoch 36/50] Val Loss: 0.3703, Val Accuracy: 0.7969\n",
      "[Epoch 37/50] Train Loss: 0.4423, Train Accuracy: 0.8017\n",
      "[Epoch 37/50] Val Loss: 0.3548, Val Accuracy: 0.8125\n",
      "[Epoch 38/50] Train Loss: 0.4155, Train Accuracy: 0.8149\n",
      "[Epoch 38/50] Val Loss: 0.3532, Val Accuracy: 0.7969\n",
      "[Epoch 39/50] Train Loss: 0.3729, Train Accuracy: 0.8280\n",
      "[Epoch 39/50] Val Loss: 0.3543, Val Accuracy: 0.7969\n",
      "[Epoch 40/50] Train Loss: 0.4437, Train Accuracy: 0.8024\n",
      "[Epoch 40/50] Val Loss: 0.3506, Val Accuracy: 0.8125\n",
      "[Epoch 41/50] Train Loss: 0.4546, Train Accuracy: 0.7662\n",
      "[Epoch 41/50] Val Loss: 0.3462, Val Accuracy: 0.8125\n",
      "[Epoch 42/50] Train Loss: 0.4380, Train Accuracy: 0.7849\n",
      "[Epoch 42/50] Val Loss: 0.3419, Val Accuracy: 0.8125\n",
      "[Epoch 43/50] Train Loss: 0.4350, Train Accuracy: 0.8168\n",
      "[Epoch 43/50] Val Loss: 0.3293, Val Accuracy: 0.8750\n",
      "[Epoch 44/50] Train Loss: 0.4059, Train Accuracy: 0.8086\n",
      "[Epoch 44/50] Val Loss: 0.3336, Val Accuracy: 0.8125\n",
      "[Epoch 45/50] Train Loss: 0.3354, Train Accuracy: 0.8675\n",
      "[Epoch 45/50] Val Loss: 0.3490, Val Accuracy: 0.8750\n",
      "[Epoch 46/50] Train Loss: 0.4007, Train Accuracy: 0.8218\n",
      "[Epoch 46/50] Val Loss: 0.3463, Val Accuracy: 0.8750\n",
      "[Epoch 47/50] Train Loss: 0.3964, Train Accuracy: 0.8461\n",
      "[Epoch 47/50] Val Loss: 0.3388, Val Accuracy: 0.8750\n",
      "[Epoch 48/50] Train Loss: 0.3903, Train Accuracy: 0.8080\n",
      "[Epoch 48/50] Val Loss: 0.3425, Val Accuracy: 0.8750\n",
      "[Epoch 49/50] Train Loss: 0.4188, Train Accuracy: 0.8343\n",
      "[Epoch 49/50] Val Loss: 0.3153, Val Accuracy: 0.8750\n",
      "[Epoch 50/50] Train Loss: 0.3688, Train Accuracy: 0.8593\n",
      "[Epoch 50/50] Val Loss: 0.3162, Val Accuracy: 0.8750\n"
     ]
    }
   ],
   "source": [
    "from binn import BINN, BINNDataLoader, BINNTrainer\n",
    "import pandas as pd\n",
    "\n",
    "# Load your data\n",
    "data_matrix = pd.read_csv(\"../data/sample_datamatrix.csv\")\n",
    "design_matrix = pd.read_csv(\"../data/sample_design_matrix.tsv\", sep=\"\\t\")\n",
    "\n",
    "# Initialize BINN\n",
    "binn = BINN(data_matrix=data_matrix, network_source=\"reactome\", n_layers=4, dropout=0.2)\n",
    "\n",
    "## Initialize DataLoader\n",
    "binn_dataloader = BINNDataLoader(binn)\n",
    "\n",
    "# Create DataLoaders\n",
    "dataloaders = binn_dataloader.create_dataloaders(\n",
    "    data_matrix=data_matrix,\n",
    "    design_matrix=design_matrix,\n",
    "    feature_column=\"Protein\",\n",
    "    group_column=\"group\",\n",
    "    sample_column=\"sample\",\n",
    "    batch_size=32,\n",
    "    validation_split=0.2,\n",
    ")\n",
    "# Train the model\n",
    "trainer = BINNTrainer(binn)\n",
    "trainer.fit(dataloaders=dataloaders, num_epochs=50)"
   ]
  },
  {
   "cell_type": "code",
   "execution_count": 2,
   "metadata": {},
   "outputs": [
    {
     "data": {
      "text/html": [
       "<div>\n",
       "<style scoped>\n",
       "    .dataframe tbody tr th:only-of-type {\n",
       "        vertical-align: middle;\n",
       "    }\n",
       "\n",
       "    .dataframe tbody tr th {\n",
       "        vertical-align: top;\n",
       "    }\n",
       "\n",
       "    .dataframe thead th {\n",
       "        text-align: right;\n",
       "    }\n",
       "</style>\n",
       "<table border=\"1\" class=\"dataframe\">\n",
       "  <thead>\n",
       "    <tr style=\"text-align: right;\">\n",
       "      <th></th>\n",
       "      <th>source_layer</th>\n",
       "      <th>target_layer</th>\n",
       "      <th>source_node</th>\n",
       "      <th>target_node</th>\n",
       "      <th>class_idx</th>\n",
       "      <th>importance</th>\n",
       "      <th>normalized_importance</th>\n",
       "    </tr>\n",
       "  </thead>\n",
       "  <tbody>\n",
       "    <tr>\n",
       "      <th>0</th>\n",
       "      <td>0</td>\n",
       "      <td>1</td>\n",
       "      <td>A0M8Q6</td>\n",
       "      <td>R-HSA-166663</td>\n",
       "      <td>0</td>\n",
       "      <td>0.003728</td>\n",
       "      <td>0.000932</td>\n",
       "    </tr>\n",
       "    <tr>\n",
       "      <th>1</th>\n",
       "      <td>0</td>\n",
       "      <td>1</td>\n",
       "      <td>A0M8Q6</td>\n",
       "      <td>R-HSA-166663</td>\n",
       "      <td>1</td>\n",
       "      <td>0.002787</td>\n",
       "      <td>0.000697</td>\n",
       "    </tr>\n",
       "    <tr>\n",
       "      <th>2</th>\n",
       "      <td>0</td>\n",
       "      <td>1</td>\n",
       "      <td>A0M8Q6</td>\n",
       "      <td>R-HSA-198933</td>\n",
       "      <td>0</td>\n",
       "      <td>0.003728</td>\n",
       "      <td>0.000932</td>\n",
       "    </tr>\n",
       "    <tr>\n",
       "      <th>3</th>\n",
       "      <td>0</td>\n",
       "      <td>1</td>\n",
       "      <td>A0M8Q6</td>\n",
       "      <td>R-HSA-198933</td>\n",
       "      <td>1</td>\n",
       "      <td>0.002787</td>\n",
       "      <td>0.000697</td>\n",
       "    </tr>\n",
       "    <tr>\n",
       "      <th>4</th>\n",
       "      <td>0</td>\n",
       "      <td>1</td>\n",
       "      <td>A0M8Q6</td>\n",
       "      <td>R-HSA-2029481</td>\n",
       "      <td>0</td>\n",
       "      <td>0.003728</td>\n",
       "      <td>0.000932</td>\n",
       "    </tr>\n",
       "    <tr>\n",
       "      <th>...</th>\n",
       "      <td>...</td>\n",
       "      <td>...</td>\n",
       "      <td>...</td>\n",
       "      <td>...</td>\n",
       "      <td>...</td>\n",
       "      <td>...</td>\n",
       "      <td>...</td>\n",
       "    </tr>\n",
       "    <tr>\n",
       "      <th>7079</th>\n",
       "      <td>4</td>\n",
       "      <td>5</td>\n",
       "      <td>R-HSA-9612973</td>\n",
       "      <td>output_node</td>\n",
       "      <td>1</td>\n",
       "      <td>0.204866</td>\n",
       "      <td>0.088231</td>\n",
       "    </tr>\n",
       "    <tr>\n",
       "      <th>7080</th>\n",
       "      <td>4</td>\n",
       "      <td>5</td>\n",
       "      <td>R-HSA-9709957</td>\n",
       "      <td>output_node</td>\n",
       "      <td>0</td>\n",
       "      <td>0.103269</td>\n",
       "      <td>0.051635</td>\n",
       "    </tr>\n",
       "    <tr>\n",
       "      <th>7081</th>\n",
       "      <td>4</td>\n",
       "      <td>5</td>\n",
       "      <td>R-HSA-9709957</td>\n",
       "      <td>output_node</td>\n",
       "      <td>1</td>\n",
       "      <td>0.174556</td>\n",
       "      <td>0.087278</td>\n",
       "    </tr>\n",
       "    <tr>\n",
       "      <th>7082</th>\n",
       "      <td>4</td>\n",
       "      <td>5</td>\n",
       "      <td>R-HSA-9748784</td>\n",
       "      <td>output_node</td>\n",
       "      <td>0</td>\n",
       "      <td>0.050014</td>\n",
       "      <td>0.016671</td>\n",
       "    </tr>\n",
       "    <tr>\n",
       "      <th>7083</th>\n",
       "      <td>4</td>\n",
       "      <td>5</td>\n",
       "      <td>R-HSA-9748784</td>\n",
       "      <td>output_node</td>\n",
       "      <td>1</td>\n",
       "      <td>0.218826</td>\n",
       "      <td>0.072942</td>\n",
       "    </tr>\n",
       "  </tbody>\n",
       "</table>\n",
       "<p>7084 rows × 7 columns</p>\n",
       "</div>"
      ],
      "text/plain": [
       "      source_layer  target_layer    source_node    target_node  class_idx  \\\n",
       "0                0             1         A0M8Q6   R-HSA-166663          0   \n",
       "1                0             1         A0M8Q6   R-HSA-166663          1   \n",
       "2                0             1         A0M8Q6   R-HSA-198933          0   \n",
       "3                0             1         A0M8Q6   R-HSA-198933          1   \n",
       "4                0             1         A0M8Q6  R-HSA-2029481          0   \n",
       "...            ...           ...            ...            ...        ...   \n",
       "7079             4             5  R-HSA-9612973    output_node          1   \n",
       "7080             4             5  R-HSA-9709957    output_node          0   \n",
       "7081             4             5  R-HSA-9709957    output_node          1   \n",
       "7082             4             5  R-HSA-9748784    output_node          0   \n",
       "7083             4             5  R-HSA-9748784    output_node          1   \n",
       "\n",
       "      importance  normalized_importance  \n",
       "0       0.003728               0.000932  \n",
       "1       0.002787               0.000697  \n",
       "2       0.003728               0.000932  \n",
       "3       0.002787               0.000697  \n",
       "4       0.003728               0.000932  \n",
       "...          ...                    ...  \n",
       "7079    0.204866               0.088231  \n",
       "7080    0.103269               0.051635  \n",
       "7081    0.174556               0.087278  \n",
       "7082    0.050014               0.016671  \n",
       "7083    0.218826               0.072942  \n",
       "\n",
       "[7084 rows x 7 columns]"
      ]
     },
     "execution_count": 2,
     "metadata": {},
     "output_type": "execute_result"
    }
   ],
   "source": [
    "from binn import BINNExplainer\n",
    "\n",
    "explainer = BINNExplainer(binn)\n",
    "single_explanations = explainer.explain_single(dataloaders, split=\"val\")\n",
    "normalized_single_explanations = explainer.normalize_importances(single_explanations, method=\"fan\")\n",
    "normalized_single_explanations"
   ]
  },
  {
   "cell_type": "code",
   "execution_count": 3,
   "metadata": {},
   "outputs": [
    {
     "data": {
      "application/vnd.plotly.v1+json": {
       "config": {
        "plotlyServerURL": "https://plot.ly"
       },
       "data": [
        {
         "arrangement": "snap",
         "link": {
          "color": [
           "rgba(103,0,13,0.75)",
           "rgba(103,0,13,0.75)",
           "rgba(255,242,235,0.75)",
           "rgba(255,242,235,0.75)",
           "rgba(255,242,235,0.75)",
           "rgba(255,242,235,0.75)",
           "rgba(255,242,235,0.75)",
           "rgba(255,242,235,0.75)",
           "rgba(254,227,214,0.75)",
           "rgba(254,227,214,0.75)",
           "rgba(254,227,214,0.75)",
           "rgba(254,227,214,0.75)",
           "rgba(254,227,214,0.75)",
           "rgba(254,227,214,0.75)",
           "rgba(252,170,141,0.75)",
           "rgba(252,170,141,0.75)",
           "rgba(252,187,161,0.75)",
           "rgba(252,187,161,0.75)",
           "rgba(252,188,162,0.75)",
           "rgba(252,188,162,0.75)",
           "rgba(254,224,210,0.75)",
           "rgba(254,224,210,0.75)",
           "rgba(179,18,24,0.75)",
           "rgba(179,18,24,0.75)",
           "rgba(103,0,13,0.75)",
           "rgba(103,0,13,0.75)",
           "rgba(252,130,98,0.75)",
           "rgba(252,130,98,0.75)",
           "rgba(252,189,164,0.75)",
           "rgba(252,189,164,0.75)",
           "rgba(244,77,56,0.75)",
           "rgba(244,77,56,0.75)",
           "rgba(252,179,152,0.75)",
           "rgba(252,179,152,0.75)",
           "rgba(196,22,28,0.75)",
           "rgba(196,22,28,0.75)",
           "rgba(103,0,13,0.75)",
           "rgba(103,0,13,0.75)",
           "rgba(251,109,77,0.75)",
           "rgba(251,109,77,0.75)",
           "rgba(252,178,150,0.75)",
           "rgba(252,178,150,0.75)",
           "rgba(201,24,29,0.75)",
           "rgba(201,24,29,0.75)",
           "rgba(103,0,13,0.75)",
           "rgba(103,0,13,0.75)",
           "rgba(246,88,62,0.75)",
           "rgba(246,88,62,0.75)",
           "rgba(252,128,96,0.75)",
           "rgba(252,128,96,0.75)",
           "rgba(175,17,23,0.75)",
           "rgba(175,17,23,0.75)",
           "rgba(176,18,23,0.75)",
           "rgba(176,18,23,0.75)",
           "rgba(252,142,110,0.75)",
           "rgba(252,142,110,0.75)",
           "rgba(103,0,13,0.75)",
           "rgba(103,0,13,0.75)",
           "rgba(236,236,236,0.75)",
           "rgba(236,236,236,0.75)",
           "rgba(236,236,236,0.75)",
           "rgba(236,236,236,0.75)",
           "rgba(236,236,236,0.75)",
           "rgba(236,236,236,0.75)",
           "rgba(236,236,236,0.75)",
           "rgba(236,236,236,0.75)",
           "rgba(236,236,236,0.75)",
           "rgba(236,236,236,0.75)",
           "rgba(236,236,236,0.75)",
           "rgba(236,236,236,0.75)",
           "rgba(236,236,236,0.75)",
           "rgba(236,236,236,0.75)",
           "rgba(236,236,236,0.75)",
           "rgba(236,236,236,0.75)",
           "rgba(236,236,236,0.75)",
           "rgba(236,236,236,0.75)",
           "rgba(236,236,236,0.75)",
           "rgba(236,236,236,0.75)",
           "rgba(236,236,236,0.75)",
           "rgba(236,236,236,0.75)",
           "rgba(236,236,236,0.75)",
           "rgba(236,236,236,0.75)",
           "rgba(236,236,236,0.75)",
           "rgba(236,236,236,0.75)",
           "rgba(236,236,236,0.75)",
           "rgba(236,236,236,0.75)",
           "rgba(236,236,236,0.75)",
           "rgba(236,236,236,0.75)"
          ],
          "source": [
           0,
           0,
           1,
           1,
           1,
           1,
           1,
           1,
           2,
           2,
           2,
           2,
           2,
           2,
           3,
           3,
           4,
           4,
           5,
           5,
           6,
           6,
           7,
           7,
           8,
           8,
           9,
           9,
           10,
           10,
           11,
           11,
           12,
           12,
           13,
           13,
           14,
           14,
           15,
           15,
           16,
           16,
           17,
           17,
           18,
           18,
           19,
           19,
           20,
           20,
           21,
           21,
           22,
           22,
           23,
           23,
           24,
           24,
           25,
           25,
           25,
           25,
           25,
           25,
           26,
           26,
           26,
           26,
           27,
           27,
           27,
           27,
           27,
           27,
           28,
           28,
           28,
           28,
           28,
           28,
           28,
           28,
           28,
           28,
           28,
           28,
           29,
           29
          ],
          "target": [
           26,
           26,
           26,
           26,
           8,
           8,
           9,
           9,
           26,
           26,
           6,
           6,
           7,
           7,
           26,
           26,
           26,
           26,
           27,
           27,
           27,
           27,
           13,
           13,
           14,
           14,
           10,
           10,
           28,
           28,
           19,
           19,
           28,
           28,
           17,
           17,
           18,
           18,
           29,
           29,
           29,
           29,
           22,
           22,
           24,
           24,
           23,
           23,
           30,
           30,
           30,
           30,
           30,
           30,
           30,
           30,
           30,
           30,
           26,
           26,
           6,
           6,
           5,
           5,
           27,
           27,
           11,
           11,
           15,
           15,
           28,
           28,
           16,
           16,
           29,
           29,
           20,
           20,
           23,
           23,
           24,
           24,
           21,
           21,
           22,
           22,
           30,
           30
          ],
          "value": [
           0.10294249467299661,
           0.301905740073994,
           0.0732117289178258,
           0.02506924537781914,
           0.004880781927855054,
           0.0016712830251879426,
           0.004880781927855054,
           0.0016712830251879426,
           0.04655561714454624,
           0.15359693632341664,
           0.0018622246857818495,
           0.0061438774529366654,
           0.0018622246857818495,
           0.0061438774529366654,
           0.13906360045603278,
           0.00469808129437663,
           0.09223090564325412,
           0.031609315912215157,
           0.09901812568343728,
           0.04747879952099947,
           0.07286663993651392,
           0.05004445532888691,
           0.09712519517985357,
           0.16116369994911808,
           0.14468795297100076,
           0.14745834318101064,
           0.025997775985472704,
           0.1541590122637065,
           0.02270719621970173,
           0.1346468609132383,
           0.09478615482627077,
           0.10577022053489366,
           0.026783301329486545,
           0.13454053438444785,
           0.08483191117401905,
           0.1407649617352569,
           0.12637456320701054,
           0.1287942956756745,
           0.12552835709005739,
           0.06019035182991809,
           0.05742645768569213,
           0.1036426901489733,
           0.08133191869549017,
           0.1349572859856763,
           0.12116060500483752,
           0.12348050764187249,
           0.09087547029559061,
           0.10140635562189201,
           0.06249024954360768,
           0.11376809081317397,
           0.09455416808303647,
           0.11795428613510717,
           0.07974281924795718,
           0.13232042998181806,
           0.08158587247973577,
           0.09104025116850002,
           0.11219777361769753,
           0.1143460589293662,
           0.053073270830626476,
           0.0465413462823875,
           0.00012812546023735036,
           0.00009587606872033535,
           0.00014415281890499596,
           0.00001722853912335171,
           0.043846350230881695,
           0.047660762519817795,
           0.004061208608492409,
           0.004431678640808099,
           0.002731127681810969,
           0.001309564956316061,
           0.04485438431368644,
           0.04588438567751931,
           0.001861293602143011,
           0.0033592437685242013,
           0.04018065532036053,
           0.03820719343663152,
           0.002712505987716437,
           0.004938316543867792,
           0.0011161757164248566,
           0.0012455210131200709,
           0.001330140700909919,
           0.0013556093049025058,
           0.0030470629647594513,
           0.0038011453583129593,
           0.0007767618605665023,
           0.001288911792427452,
           0.050866992316687454,
           0.04913300768331254
          ]
         },
         "node": {
          "color": [
           "rgba(103,0,13,0.75)",
           "rgba(255,242,235,0.75)",
           "rgba(254,227,214,0.75)",
           "rgba(252,170,141,0.75)",
           "rgba(252,187,161,0.75)",
           "rgba(252,188,162,0.75)",
           "rgba(254,224,210,0.75)",
           "rgba(179,18,24,0.75)",
           "rgba(103,0,13,0.75)",
           "rgba(252,130,98,0.75)",
           "rgba(252,189,164,0.75)",
           "rgba(244,77,56,0.75)",
           "rgba(252,179,152,0.75)",
           "rgba(196,22,28,0.75)",
           "rgba(103,0,13,0.75)",
           "rgba(251,109,77,0.75)",
           "rgba(252,178,150,0.75)",
           "rgba(201,24,29,0.75)",
           "rgba(103,0,13,0.75)",
           "rgba(246,88,62,0.75)",
           "rgba(252,128,96,0.75)",
           "rgba(175,17,23,0.75)",
           "rgba(176,18,23,0.75)",
           "rgba(252,142,110,0.75)",
           "rgba(103,0,13,0.75)",
           "rgba(236,236,236,0.75)",
           "rgba(236,236,236,0.75)",
           "rgba(236,236,236,0.75)",
           "rgba(236,236,236,0.75)",
           "rgba(236,236,236,0.75)",
           "rgba(0,0,0,1)"
          ],
          "label": [
           "P04908",
           "P11142",
           "P60709",
           "P62258",
           "Q71U36",
           "R-HSA-140534",
           "R-HSA-418990",
           "R-HSA-5696394",
           "R-HSA-72163",
           "R-HSA-888590",
           "R-HSA-112310",
           "R-HSA-212436",
           "R-HSA-3214815",
           "R-HSA-5696399",
           "R-HSA-72172",
           "R-HSA-109581",
           "R-HSA-199991",
           "R-HSA-5696398",
           "R-HSA-72203",
           "R-HSA-73857",
           "R-HSA-1430728",
           "R-HSA-1643685",
           "R-HSA-73894",
           "R-HSA-74160",
           "R-HSA-8953854",
           "Other connections 1",
           "Other connections 2",
           "Other connections 3",
           "Other connections 4",
           "Other connections 5",
           "noutput_node_l5"
          ],
          "line": {
           "color": "white",
           "width": 0
          },
          "pad": 15,
          "thickness": 15,
          "x": [
           0.0036363636363636364,
           0.0036363636363636364,
           0.0036363636363636364,
           0.0036363636363636364,
           0.0036363636363636364,
           0.18545454545454546,
           0.18545454545454546,
           0.18545454545454546,
           0.18545454545454546,
           0.18545454545454546,
           0.36727272727272725,
           0.36727272727272725,
           0.36727272727272725,
           0.36727272727272725,
           0.36727272727272725,
           0.5490909090909091,
           0.5490909090909091,
           0.5490909090909091,
           0.5490909090909091,
           0.5490909090909091,
           0.7309090909090908,
           0.7309090909090908,
           0.7309090909090908,
           0.7309090909090908,
           0.7309090909090908,
           0.0036363636363636364,
           0.18545454545454546,
           0.36727272727272725,
           0.5490909090909091,
           0.7309090909090908,
           0.85
          ],
          "y": [
           0,
           0.7998000499875031,
           0.5998500374906274,
           0.19995001249687577,
           0.39990002499375155,
           0.5998500374906274,
           0.7998000499875031,
           0.19995001249687577,
           0,
           0.39990002499375155,
           0.7998000499875031,
           0.39990002499375155,
           0.5998500374906274,
           0.19995001249687577,
           0,
           0.5998500374906274,
           0.7998000499875031,
           0.19995001249687577,
           0,
           0.39990002499375155,
           0.5998500374906274,
           0.19995001249687577,
           0.39990002499375155,
           0.7998000499875031,
           0,
           0.95,
           0.95,
           0.95,
           0.95,
           0.95,
           0.5
          ]
         },
         "orientation": "h",
         "textfont": {
          "family": "Arial",
          "size": 15
         },
         "type": "sankey"
        }
       ],
       "layout": {
        "template": {
         "data": {
          "bar": [
           {
            "error_x": {
             "color": "#2a3f5f"
            },
            "error_y": {
             "color": "#2a3f5f"
            },
            "marker": {
             "line": {
              "color": "#E5ECF6",
              "width": 0.5
             },
             "pattern": {
              "fillmode": "overlay",
              "size": 10,
              "solidity": 0.2
             }
            },
            "type": "bar"
           }
          ],
          "barpolar": [
           {
            "marker": {
             "line": {
              "color": "#E5ECF6",
              "width": 0.5
             },
             "pattern": {
              "fillmode": "overlay",
              "size": 10,
              "solidity": 0.2
             }
            },
            "type": "barpolar"
           }
          ],
          "carpet": [
           {
            "aaxis": {
             "endlinecolor": "#2a3f5f",
             "gridcolor": "white",
             "linecolor": "white",
             "minorgridcolor": "white",
             "startlinecolor": "#2a3f5f"
            },
            "baxis": {
             "endlinecolor": "#2a3f5f",
             "gridcolor": "white",
             "linecolor": "white",
             "minorgridcolor": "white",
             "startlinecolor": "#2a3f5f"
            },
            "type": "carpet"
           }
          ],
          "choropleth": [
           {
            "colorbar": {
             "outlinewidth": 0,
             "ticks": ""
            },
            "type": "choropleth"
           }
          ],
          "contour": [
           {
            "colorbar": {
             "outlinewidth": 0,
             "ticks": ""
            },
            "colorscale": [
             [
              0,
              "#0d0887"
             ],
             [
              0.1111111111111111,
              "#46039f"
             ],
             [
              0.2222222222222222,
              "#7201a8"
             ],
             [
              0.3333333333333333,
              "#9c179e"
             ],
             [
              0.4444444444444444,
              "#bd3786"
             ],
             [
              0.5555555555555556,
              "#d8576b"
             ],
             [
              0.6666666666666666,
              "#ed7953"
             ],
             [
              0.7777777777777778,
              "#fb9f3a"
             ],
             [
              0.8888888888888888,
              "#fdca26"
             ],
             [
              1,
              "#f0f921"
             ]
            ],
            "type": "contour"
           }
          ],
          "contourcarpet": [
           {
            "colorbar": {
             "outlinewidth": 0,
             "ticks": ""
            },
            "type": "contourcarpet"
           }
          ],
          "heatmap": [
           {
            "colorbar": {
             "outlinewidth": 0,
             "ticks": ""
            },
            "colorscale": [
             [
              0,
              "#0d0887"
             ],
             [
              0.1111111111111111,
              "#46039f"
             ],
             [
              0.2222222222222222,
              "#7201a8"
             ],
             [
              0.3333333333333333,
              "#9c179e"
             ],
             [
              0.4444444444444444,
              "#bd3786"
             ],
             [
              0.5555555555555556,
              "#d8576b"
             ],
             [
              0.6666666666666666,
              "#ed7953"
             ],
             [
              0.7777777777777778,
              "#fb9f3a"
             ],
             [
              0.8888888888888888,
              "#fdca26"
             ],
             [
              1,
              "#f0f921"
             ]
            ],
            "type": "heatmap"
           }
          ],
          "heatmapgl": [
           {
            "colorbar": {
             "outlinewidth": 0,
             "ticks": ""
            },
            "colorscale": [
             [
              0,
              "#0d0887"
             ],
             [
              0.1111111111111111,
              "#46039f"
             ],
             [
              0.2222222222222222,
              "#7201a8"
             ],
             [
              0.3333333333333333,
              "#9c179e"
             ],
             [
              0.4444444444444444,
              "#bd3786"
             ],
             [
              0.5555555555555556,
              "#d8576b"
             ],
             [
              0.6666666666666666,
              "#ed7953"
             ],
             [
              0.7777777777777778,
              "#fb9f3a"
             ],
             [
              0.8888888888888888,
              "#fdca26"
             ],
             [
              1,
              "#f0f921"
             ]
            ],
            "type": "heatmapgl"
           }
          ],
          "histogram": [
           {
            "marker": {
             "pattern": {
              "fillmode": "overlay",
              "size": 10,
              "solidity": 0.2
             }
            },
            "type": "histogram"
           }
          ],
          "histogram2d": [
           {
            "colorbar": {
             "outlinewidth": 0,
             "ticks": ""
            },
            "colorscale": [
             [
              0,
              "#0d0887"
             ],
             [
              0.1111111111111111,
              "#46039f"
             ],
             [
              0.2222222222222222,
              "#7201a8"
             ],
             [
              0.3333333333333333,
              "#9c179e"
             ],
             [
              0.4444444444444444,
              "#bd3786"
             ],
             [
              0.5555555555555556,
              "#d8576b"
             ],
             [
              0.6666666666666666,
              "#ed7953"
             ],
             [
              0.7777777777777778,
              "#fb9f3a"
             ],
             [
              0.8888888888888888,
              "#fdca26"
             ],
             [
              1,
              "#f0f921"
             ]
            ],
            "type": "histogram2d"
           }
          ],
          "histogram2dcontour": [
           {
            "colorbar": {
             "outlinewidth": 0,
             "ticks": ""
            },
            "colorscale": [
             [
              0,
              "#0d0887"
             ],
             [
              0.1111111111111111,
              "#46039f"
             ],
             [
              0.2222222222222222,
              "#7201a8"
             ],
             [
              0.3333333333333333,
              "#9c179e"
             ],
             [
              0.4444444444444444,
              "#bd3786"
             ],
             [
              0.5555555555555556,
              "#d8576b"
             ],
             [
              0.6666666666666666,
              "#ed7953"
             ],
             [
              0.7777777777777778,
              "#fb9f3a"
             ],
             [
              0.8888888888888888,
              "#fdca26"
             ],
             [
              1,
              "#f0f921"
             ]
            ],
            "type": "histogram2dcontour"
           }
          ],
          "mesh3d": [
           {
            "colorbar": {
             "outlinewidth": 0,
             "ticks": ""
            },
            "type": "mesh3d"
           }
          ],
          "parcoords": [
           {
            "line": {
             "colorbar": {
              "outlinewidth": 0,
              "ticks": ""
             }
            },
            "type": "parcoords"
           }
          ],
          "pie": [
           {
            "automargin": true,
            "type": "pie"
           }
          ],
          "scatter": [
           {
            "fillpattern": {
             "fillmode": "overlay",
             "size": 10,
             "solidity": 0.2
            },
            "type": "scatter"
           }
          ],
          "scatter3d": [
           {
            "line": {
             "colorbar": {
              "outlinewidth": 0,
              "ticks": ""
             }
            },
            "marker": {
             "colorbar": {
              "outlinewidth": 0,
              "ticks": ""
             }
            },
            "type": "scatter3d"
           }
          ],
          "scattercarpet": [
           {
            "marker": {
             "colorbar": {
              "outlinewidth": 0,
              "ticks": ""
             }
            },
            "type": "scattercarpet"
           }
          ],
          "scattergeo": [
           {
            "marker": {
             "colorbar": {
              "outlinewidth": 0,
              "ticks": ""
             }
            },
            "type": "scattergeo"
           }
          ],
          "scattergl": [
           {
            "marker": {
             "colorbar": {
              "outlinewidth": 0,
              "ticks": ""
             }
            },
            "type": "scattergl"
           }
          ],
          "scattermapbox": [
           {
            "marker": {
             "colorbar": {
              "outlinewidth": 0,
              "ticks": ""
             }
            },
            "type": "scattermapbox"
           }
          ],
          "scatterpolar": [
           {
            "marker": {
             "colorbar": {
              "outlinewidth": 0,
              "ticks": ""
             }
            },
            "type": "scatterpolar"
           }
          ],
          "scatterpolargl": [
           {
            "marker": {
             "colorbar": {
              "outlinewidth": 0,
              "ticks": ""
             }
            },
            "type": "scatterpolargl"
           }
          ],
          "scatterternary": [
           {
            "marker": {
             "colorbar": {
              "outlinewidth": 0,
              "ticks": ""
             }
            },
            "type": "scatterternary"
           }
          ],
          "surface": [
           {
            "colorbar": {
             "outlinewidth": 0,
             "ticks": ""
            },
            "colorscale": [
             [
              0,
              "#0d0887"
             ],
             [
              0.1111111111111111,
              "#46039f"
             ],
             [
              0.2222222222222222,
              "#7201a8"
             ],
             [
              0.3333333333333333,
              "#9c179e"
             ],
             [
              0.4444444444444444,
              "#bd3786"
             ],
             [
              0.5555555555555556,
              "#d8576b"
             ],
             [
              0.6666666666666666,
              "#ed7953"
             ],
             [
              0.7777777777777778,
              "#fb9f3a"
             ],
             [
              0.8888888888888888,
              "#fdca26"
             ],
             [
              1,
              "#f0f921"
             ]
            ],
            "type": "surface"
           }
          ],
          "table": [
           {
            "cells": {
             "fill": {
              "color": "#EBF0F8"
             },
             "line": {
              "color": "white"
             }
            },
            "header": {
             "fill": {
              "color": "#C8D4E3"
             },
             "line": {
              "color": "white"
             }
            },
            "type": "table"
           }
          ]
         },
         "layout": {
          "annotationdefaults": {
           "arrowcolor": "#2a3f5f",
           "arrowhead": 0,
           "arrowwidth": 1
          },
          "autotypenumbers": "strict",
          "coloraxis": {
           "colorbar": {
            "outlinewidth": 0,
            "ticks": ""
           }
          },
          "colorscale": {
           "diverging": [
            [
             0,
             "#8e0152"
            ],
            [
             0.1,
             "#c51b7d"
            ],
            [
             0.2,
             "#de77ae"
            ],
            [
             0.3,
             "#f1b6da"
            ],
            [
             0.4,
             "#fde0ef"
            ],
            [
             0.5,
             "#f7f7f7"
            ],
            [
             0.6,
             "#e6f5d0"
            ],
            [
             0.7,
             "#b8e186"
            ],
            [
             0.8,
             "#7fbc41"
            ],
            [
             0.9,
             "#4d9221"
            ],
            [
             1,
             "#276419"
            ]
           ],
           "sequential": [
            [
             0,
             "#0d0887"
            ],
            [
             0.1111111111111111,
             "#46039f"
            ],
            [
             0.2222222222222222,
             "#7201a8"
            ],
            [
             0.3333333333333333,
             "#9c179e"
            ],
            [
             0.4444444444444444,
             "#bd3786"
            ],
            [
             0.5555555555555556,
             "#d8576b"
            ],
            [
             0.6666666666666666,
             "#ed7953"
            ],
            [
             0.7777777777777778,
             "#fb9f3a"
            ],
            [
             0.8888888888888888,
             "#fdca26"
            ],
            [
             1,
             "#f0f921"
            ]
           ],
           "sequentialminus": [
            [
             0,
             "#0d0887"
            ],
            [
             0.1111111111111111,
             "#46039f"
            ],
            [
             0.2222222222222222,
             "#7201a8"
            ],
            [
             0.3333333333333333,
             "#9c179e"
            ],
            [
             0.4444444444444444,
             "#bd3786"
            ],
            [
             0.5555555555555556,
             "#d8576b"
            ],
            [
             0.6666666666666666,
             "#ed7953"
            ],
            [
             0.7777777777777778,
             "#fb9f3a"
            ],
            [
             0.8888888888888888,
             "#fdca26"
            ],
            [
             1,
             "#f0f921"
            ]
           ]
          },
          "colorway": [
           "#636efa",
           "#EF553B",
           "#00cc96",
           "#ab63fa",
           "#FFA15A",
           "#19d3f3",
           "#FF6692",
           "#B6E880",
           "#FF97FF",
           "#FECB52"
          ],
          "font": {
           "color": "#2a3f5f"
          },
          "geo": {
           "bgcolor": "white",
           "lakecolor": "white",
           "landcolor": "#E5ECF6",
           "showlakes": true,
           "showland": true,
           "subunitcolor": "white"
          },
          "hoverlabel": {
           "align": "left"
          },
          "hovermode": "closest",
          "mapbox": {
           "style": "light"
          },
          "paper_bgcolor": "white",
          "plot_bgcolor": "#E5ECF6",
          "polar": {
           "angularaxis": {
            "gridcolor": "white",
            "linecolor": "white",
            "ticks": ""
           },
           "bgcolor": "#E5ECF6",
           "radialaxis": {
            "gridcolor": "white",
            "linecolor": "white",
            "ticks": ""
           }
          },
          "scene": {
           "xaxis": {
            "backgroundcolor": "#E5ECF6",
            "gridcolor": "white",
            "gridwidth": 2,
            "linecolor": "white",
            "showbackground": true,
            "ticks": "",
            "zerolinecolor": "white"
           },
           "yaxis": {
            "backgroundcolor": "#E5ECF6",
            "gridcolor": "white",
            "gridwidth": 2,
            "linecolor": "white",
            "showbackground": true,
            "ticks": "",
            "zerolinecolor": "white"
           },
           "zaxis": {
            "backgroundcolor": "#E5ECF6",
            "gridcolor": "white",
            "gridwidth": 2,
            "linecolor": "white",
            "showbackground": true,
            "ticks": "",
            "zerolinecolor": "white"
           }
          },
          "shapedefaults": {
           "line": {
            "color": "#2a3f5f"
           }
          },
          "ternary": {
           "aaxis": {
            "gridcolor": "white",
            "linecolor": "white",
            "ticks": ""
           },
           "baxis": {
            "gridcolor": "white",
            "linecolor": "white",
            "ticks": ""
           },
           "bgcolor": "#E5ECF6",
           "caxis": {
            "gridcolor": "white",
            "linecolor": "white",
            "ticks": ""
           }
          },
          "title": {
           "x": 0.05
          },
          "xaxis": {
           "automargin": true,
           "gridcolor": "white",
           "linecolor": "white",
           "ticks": "",
           "title": {
            "standoff": 15
           },
           "zerolinecolor": "white",
           "zerolinewidth": 2
          },
          "yaxis": {
           "automargin": true,
           "gridcolor": "white",
           "linecolor": "white",
           "ticks": "",
           "title": {
            "standoff": 15
           },
           "zerolinecolor": "white",
           "zerolinewidth": 2
          }
         }
        }
       }
      }
     },
     "metadata": {},
     "output_type": "display_data"
    }
   ],
   "source": [
    "from binn.plot.sankey import SankeyPlotter\n",
    "\n",
    "plotter = SankeyPlotter(\n",
    "    explanations_data=single_explanations,\n",
    "    show_top_n=5,\n",
    "    value_col=\"importance\",\n",
    "    node_cmap=\"Reds\",\n",
    "    edge_cmap=\"coolwarm\"\n",
    ")\n",
    "\n",
    "fig = plotter.plot()\n",
    "fig.show()"
   ]
  },
  {
   "cell_type": "code",
   "execution_count": 4,
   "metadata": {},
   "outputs": [
    {
     "name": "stdout",
     "output_type": "stream",
     "text": [
      "[BINNExplainer] Iteration 1/3...\n",
      "[Epoch 1/50] Train Loss: 0.6708, Train Accuracy: 0.6629\n",
      "[Epoch 1/50] Val Loss: 0.6929, Val Accuracy: 0.5312\n",
      "[Epoch 2/50] Train Loss: 0.6445, Train Accuracy: 0.6761\n",
      "[Epoch 2/50] Val Loss: 0.6927, Val Accuracy: 0.5312\n",
      "[Epoch 3/50] Train Loss: 0.6418, Train Accuracy: 0.5991\n",
      "[Epoch 3/50] Val Loss: 0.6923, Val Accuracy: 0.5312\n",
      "[Epoch 4/50] Train Loss: 0.6443, Train Accuracy: 0.6241\n",
      "[Epoch 4/50] Val Loss: 0.6917, Val Accuracy: 0.5312\n",
      "[Epoch 5/50] Train Loss: 0.6390, Train Accuracy: 0.6235\n",
      "[Epoch 5/50] Val Loss: 0.6905, Val Accuracy: 0.5312\n",
      "[Epoch 6/50] Train Loss: 0.6050, Train Accuracy: 0.6823\n",
      "[Epoch 6/50] Val Loss: 0.6877, Val Accuracy: 0.5312\n",
      "[Epoch 7/50] Train Loss: 0.6678, Train Accuracy: 0.6610\n",
      "[Epoch 7/50] Val Loss: 0.6815, Val Accuracy: 0.5312\n",
      "[Epoch 8/50] Train Loss: 0.6211, Train Accuracy: 0.6379\n",
      "[Epoch 8/50] Val Loss: 0.6702, Val Accuracy: 0.7969\n",
      "[Epoch 9/50] Train Loss: 0.6309, Train Accuracy: 0.6905\n",
      "[Epoch 9/50] Val Loss: 0.6498, Val Accuracy: 0.8594\n",
      "[Epoch 10/50] Train Loss: 0.5633, Train Accuracy: 0.6961\n",
      "[Epoch 10/50] Val Loss: 0.6208, Val Accuracy: 0.8281\n",
      "[Epoch 11/50] Train Loss: 0.6178, Train Accuracy: 0.6179\n",
      "[Epoch 11/50] Val Loss: 0.5881, Val Accuracy: 0.8281\n",
      "[Epoch 12/50] Train Loss: 0.5594, Train Accuracy: 0.7261\n",
      "[Epoch 12/50] Val Loss: 0.5536, Val Accuracy: 0.7969\n",
      "[Epoch 13/50] Train Loss: 0.5693, Train Accuracy: 0.7093\n",
      "[Epoch 13/50] Val Loss: 0.5192, Val Accuracy: 0.7969\n",
      "[Epoch 14/50] Train Loss: 0.5330, Train Accuracy: 0.7504\n",
      "[Epoch 14/50] Val Loss: 0.4951, Val Accuracy: 0.7812\n",
      "[Epoch 15/50] Train Loss: 0.5490, Train Accuracy: 0.7142\n",
      "[Epoch 15/50] Val Loss: 0.4765, Val Accuracy: 0.7500\n",
      "[Epoch 16/50] Train Loss: 0.5061, Train Accuracy: 0.7787\n",
      "[Epoch 16/50] Val Loss: 0.4629, Val Accuracy: 0.7500\n",
      "[Epoch 17/50] Train Loss: 0.5506, Train Accuracy: 0.7418\n",
      "[Epoch 17/50] Val Loss: 0.4585, Val Accuracy: 0.7656\n",
      "[Epoch 18/50] Train Loss: 0.5247, Train Accuracy: 0.7343\n",
      "[Epoch 18/50] Val Loss: 0.4533, Val Accuracy: 0.7812\n",
      "[Epoch 19/50] Train Loss: 0.5538, Train Accuracy: 0.7185\n",
      "[Epoch 19/50] Val Loss: 0.4546, Val Accuracy: 0.7812\n",
      "[Epoch 20/50] Train Loss: 0.5422, Train Accuracy: 0.7123\n",
      "[Epoch 20/50] Val Loss: 0.4569, Val Accuracy: 0.7812\n",
      "[Epoch 21/50] Train Loss: 0.4734, Train Accuracy: 0.7767\n",
      "[Epoch 21/50] Val Loss: 0.4526, Val Accuracy: 0.7969\n",
      "[Epoch 22/50] Train Loss: 0.4866, Train Accuracy: 0.7698\n",
      "[Epoch 22/50] Val Loss: 0.4416, Val Accuracy: 0.8125\n",
      "[Epoch 23/50] Train Loss: 0.4682, Train Accuracy: 0.8168\n",
      "[Epoch 23/50] Val Loss: 0.4218, Val Accuracy: 0.8125\n",
      "[Epoch 24/50] Train Loss: 0.4445, Train Accuracy: 0.8336\n",
      "[Epoch 24/50] Val Loss: 0.4132, Val Accuracy: 0.8281\n",
      "[Epoch 25/50] Train Loss: 0.5038, Train Accuracy: 0.7248\n",
      "[Epoch 25/50] Val Loss: 0.4091, Val Accuracy: 0.8281\n",
      "[Epoch 26/50] Train Loss: 0.4460, Train Accuracy: 0.8211\n",
      "[Epoch 26/50] Val Loss: 0.3985, Val Accuracy: 0.8438\n",
      "[Epoch 27/50] Train Loss: 0.4597, Train Accuracy: 0.7981\n",
      "[Epoch 27/50] Val Loss: 0.3991, Val Accuracy: 0.8594\n",
      "[Epoch 28/50] Train Loss: 0.4349, Train Accuracy: 0.8330\n",
      "[Epoch 28/50] Val Loss: 0.4069, Val Accuracy: 0.8125\n",
      "[Epoch 29/50] Train Loss: 0.4919, Train Accuracy: 0.7474\n",
      "[Epoch 29/50] Val Loss: 0.4253, Val Accuracy: 0.7969\n",
      "[Epoch 30/50] Train Loss: 0.4172, Train Accuracy: 0.8487\n",
      "[Epoch 30/50] Val Loss: 0.4171, Val Accuracy: 0.7969\n",
      "[Epoch 31/50] Train Loss: 0.4430, Train Accuracy: 0.8280\n",
      "[Epoch 31/50] Val Loss: 0.4397, Val Accuracy: 0.7969\n",
      "[Epoch 32/50] Train Loss: 0.3880, Train Accuracy: 0.8530\n",
      "[Epoch 32/50] Val Loss: 0.4426, Val Accuracy: 0.7656\n",
      "[Epoch 33/50] Train Loss: 0.4426, Train Accuracy: 0.8149\n",
      "[Epoch 33/50] Val Loss: 0.4217, Val Accuracy: 0.7969\n",
      "[Epoch 34/50] Train Loss: 0.3991, Train Accuracy: 0.8593\n",
      "[Epoch 34/50] Val Loss: 0.3975, Val Accuracy: 0.8125\n",
      "[Epoch 35/50] Train Loss: 0.4233, Train Accuracy: 0.8099\n",
      "[Epoch 35/50] Val Loss: 0.3961, Val Accuracy: 0.8125\n",
      "[Epoch 36/50] Train Loss: 0.4052, Train Accuracy: 0.8287\n",
      "[Epoch 36/50] Val Loss: 0.3854, Val Accuracy: 0.8438\n",
      "[Epoch 37/50] Train Loss: 0.4344, Train Accuracy: 0.8343\n",
      "[Epoch 37/50] Val Loss: 0.3923, Val Accuracy: 0.8125\n",
      "[Epoch 38/50] Train Loss: 0.3779, Train Accuracy: 0.8461\n",
      "[Epoch 38/50] Val Loss: 0.4252, Val Accuracy: 0.7969\n",
      "[Epoch 39/50] Train Loss: 0.4452, Train Accuracy: 0.7942\n",
      "[Epoch 39/50] Val Loss: 0.4380, Val Accuracy: 0.7812\n",
      "[Epoch 40/50] Train Loss: 0.3872, Train Accuracy: 0.8543\n",
      "[Epoch 40/50] Val Loss: 0.4025, Val Accuracy: 0.8125\n",
      "[Epoch 41/50] Train Loss: 0.4292, Train Accuracy: 0.8073\n",
      "[Epoch 41/50] Val Loss: 0.3996, Val Accuracy: 0.8125\n",
      "[Epoch 42/50] Train Loss: 0.4140, Train Accuracy: 0.8086\n",
      "[Epoch 42/50] Val Loss: 0.4108, Val Accuracy: 0.7969\n",
      "[Epoch 43/50] Train Loss: 0.3878, Train Accuracy: 0.8481\n",
      "[Epoch 43/50] Val Loss: 0.3797, Val Accuracy: 0.8125\n",
      "[Epoch 44/50] Train Loss: 0.3781, Train Accuracy: 0.8524\n",
      "[Epoch 44/50] Val Loss: 0.3744, Val Accuracy: 0.8125\n",
      "[Epoch 45/50] Train Loss: 0.4089, Train Accuracy: 0.8425\n",
      "[Epoch 45/50] Val Loss: 0.3747, Val Accuracy: 0.8125\n",
      "[Epoch 46/50] Train Loss: 0.3996, Train Accuracy: 0.8537\n",
      "[Epoch 46/50] Val Loss: 0.3465, Val Accuracy: 0.8281\n",
      "[Epoch 47/50] Train Loss: 0.3889, Train Accuracy: 0.8586\n",
      "[Epoch 47/50] Val Loss: 0.3310, Val Accuracy: 0.8438\n",
      "[Epoch 48/50] Train Loss: 0.3607, Train Accuracy: 0.8856\n",
      "[Epoch 48/50] Val Loss: 0.3321, Val Accuracy: 0.8438\n",
      "[Epoch 49/50] Train Loss: 0.3801, Train Accuracy: 0.8343\n",
      "[Epoch 49/50] Val Loss: 0.3356, Val Accuracy: 0.8438\n",
      "[Epoch 50/50] Train Loss: 0.3656, Train Accuracy: 0.8261\n",
      "[Epoch 50/50] Val Loss: 0.3442, Val Accuracy: 0.8125\n",
      "[BINNExplainer] Iteration 2/3...\n",
      "[Epoch 1/50] Train Loss: 0.9146, Train Accuracy: 0.4239\n",
      "[Epoch 1/50] Val Loss: 0.6931, Val Accuracy: 0.4688\n",
      "[Epoch 2/50] Train Loss: 0.8138, Train Accuracy: 0.5153\n",
      "[Epoch 2/50] Val Loss: 0.6929, Val Accuracy: 0.5312\n",
      "[Epoch 3/50] Train Loss: 0.7843, Train Accuracy: 0.5366\n",
      "[Epoch 3/50] Val Loss: 0.6928, Val Accuracy: 0.5312\n",
      "[Epoch 4/50] Train Loss: 0.7544, Train Accuracy: 0.5466\n",
      "[Epoch 4/50] Val Loss: 0.6927, Val Accuracy: 0.4688\n",
      "[Epoch 5/50] Train Loss: 0.8375, Train Accuracy: 0.5291\n",
      "[Epoch 5/50] Val Loss: 0.6918, Val Accuracy: 0.5000\n",
      "[Epoch 6/50] Train Loss: 0.8225, Train Accuracy: 0.5004\n",
      "[Epoch 6/50] Val Loss: 0.6895, Val Accuracy: 0.9531\n",
      "[Epoch 7/50] Train Loss: 0.7475, Train Accuracy: 0.5741\n",
      "[Epoch 7/50] Val Loss: 0.6852, Val Accuracy: 0.8125\n",
      "[Epoch 8/50] Train Loss: 0.7340, Train Accuracy: 0.5722\n",
      "[Epoch 8/50] Val Loss: 0.6769, Val Accuracy: 0.8125\n",
      "[Epoch 9/50] Train Loss: 0.7680, Train Accuracy: 0.5347\n",
      "[Epoch 9/50] Val Loss: 0.6646, Val Accuracy: 0.8125\n",
      "[Epoch 10/50] Train Loss: 0.6921, Train Accuracy: 0.6091\n",
      "[Epoch 10/50] Val Loss: 0.6476, Val Accuracy: 0.8125\n",
      "[Epoch 11/50] Train Loss: 0.7092, Train Accuracy: 0.6248\n",
      "[Epoch 11/50] Val Loss: 0.6333, Val Accuracy: 0.7500\n",
      "[Epoch 12/50] Train Loss: 0.6796, Train Accuracy: 0.6267\n",
      "[Epoch 12/50] Val Loss: 0.6183, Val Accuracy: 0.6250\n",
      "[Epoch 13/50] Train Loss: 0.6978, Train Accuracy: 0.6504\n",
      "[Epoch 13/50] Val Loss: 0.6112, Val Accuracy: 0.6406\n",
      "[Epoch 14/50] Train Loss: 0.6575, Train Accuracy: 0.6409\n",
      "[Epoch 14/50] Val Loss: 0.6090, Val Accuracy: 0.6250\n",
      "[Epoch 15/50] Train Loss: 0.6634, Train Accuracy: 0.6366\n",
      "[Epoch 15/50] Val Loss: 0.6063, Val Accuracy: 0.6250\n",
      "[Epoch 16/50] Train Loss: 0.6218, Train Accuracy: 0.6899\n",
      "[Epoch 16/50] Val Loss: 0.6054, Val Accuracy: 0.6719\n",
      "[Epoch 17/50] Train Loss: 0.6882, Train Accuracy: 0.6185\n",
      "[Epoch 17/50] Val Loss: 0.5965, Val Accuracy: 0.6875\n",
      "[Epoch 18/50] Train Loss: 0.7033, Train Accuracy: 0.6054\n",
      "[Epoch 18/50] Val Loss: 0.5780, Val Accuracy: 0.6719\n",
      "[Epoch 19/50] Train Loss: 0.5995, Train Accuracy: 0.6836\n",
      "[Epoch 19/50] Val Loss: 0.5641, Val Accuracy: 0.6719\n",
      "[Epoch 20/50] Train Loss: 0.6110, Train Accuracy: 0.7017\n",
      "[Epoch 20/50] Val Loss: 0.5506, Val Accuracy: 0.7031\n",
      "[Epoch 21/50] Train Loss: 0.6413, Train Accuracy: 0.6429\n",
      "[Epoch 21/50] Val Loss: 0.5206, Val Accuracy: 0.7969\n",
      "[Epoch 22/50] Train Loss: 0.5996, Train Accuracy: 0.7080\n",
      "[Epoch 22/50] Val Loss: 0.5014, Val Accuracy: 0.8125\n",
      "[Epoch 23/50] Train Loss: 0.6201, Train Accuracy: 0.6692\n",
      "[Epoch 23/50] Val Loss: 0.4917, Val Accuracy: 0.8125\n",
      "[Epoch 24/50] Train Loss: 0.6457, Train Accuracy: 0.6304\n",
      "[Epoch 24/50] Val Loss: 0.4816, Val Accuracy: 0.8281\n",
      "[Epoch 25/50] Train Loss: 0.6087, Train Accuracy: 0.6836\n",
      "[Epoch 25/50] Val Loss: 0.4725, Val Accuracy: 0.8281\n",
      "[Epoch 26/50] Train Loss: 0.5792, Train Accuracy: 0.6817\n",
      "[Epoch 26/50] Val Loss: 0.4640, Val Accuracy: 0.8281\n",
      "[Epoch 27/50] Train Loss: 0.6149, Train Accuracy: 0.6942\n",
      "[Epoch 27/50] Val Loss: 0.4543, Val Accuracy: 0.8125\n",
      "[Epoch 28/50] Train Loss: 0.5678, Train Accuracy: 0.7185\n",
      "[Epoch 28/50] Val Loss: 0.4472, Val Accuracy: 0.8281\n",
      "[Epoch 29/50] Train Loss: 0.5342, Train Accuracy: 0.7261\n",
      "[Epoch 29/50] Val Loss: 0.4416, Val Accuracy: 0.8438\n",
      "[Epoch 30/50] Train Loss: 0.5612, Train Accuracy: 0.7317\n",
      "[Epoch 30/50] Val Loss: 0.4408, Val Accuracy: 0.8281\n",
      "[Epoch 31/50] Train Loss: 0.5422, Train Accuracy: 0.7386\n",
      "[Epoch 31/50] Val Loss: 0.4342, Val Accuracy: 0.8594\n",
      "[Epoch 32/50] Train Loss: 0.5605, Train Accuracy: 0.7060\n",
      "[Epoch 32/50] Val Loss: 0.4226, Val Accuracy: 0.8594\n",
      "[Epoch 33/50] Train Loss: 0.5784, Train Accuracy: 0.6554\n",
      "[Epoch 33/50] Val Loss: 0.4135, Val Accuracy: 0.8438\n",
      "[Epoch 34/50] Train Loss: 0.5043, Train Accuracy: 0.7511\n",
      "[Epoch 34/50] Val Loss: 0.4155, Val Accuracy: 0.8438\n",
      "[Epoch 35/50] Train Loss: 0.5227, Train Accuracy: 0.7442\n",
      "[Epoch 35/50] Val Loss: 0.4037, Val Accuracy: 0.8438\n",
      "[Epoch 36/50] Train Loss: 0.5383, Train Accuracy: 0.7481\n",
      "[Epoch 36/50] Val Loss: 0.3953, Val Accuracy: 0.8594\n",
      "[Epoch 37/50] Train Loss: 0.5178, Train Accuracy: 0.7649\n",
      "[Epoch 37/50] Val Loss: 0.3899, Val Accuracy: 0.8750\n",
      "[Epoch 38/50] Train Loss: 0.5105, Train Accuracy: 0.7386\n",
      "[Epoch 38/50] Val Loss: 0.3892, Val Accuracy: 0.8750\n",
      "[Epoch 39/50] Train Loss: 0.5144, Train Accuracy: 0.7580\n",
      "[Epoch 39/50] Val Loss: 0.3883, Val Accuracy: 0.8594\n",
      "[Epoch 40/50] Train Loss: 0.5121, Train Accuracy: 0.7448\n",
      "[Epoch 40/50] Val Loss: 0.3846, Val Accuracy: 0.8594\n",
      "[Epoch 41/50] Train Loss: 0.4807, Train Accuracy: 0.7455\n",
      "[Epoch 41/50] Val Loss: 0.3822, Val Accuracy: 0.8594\n",
      "[Epoch 42/50] Train Loss: 0.4190, Train Accuracy: 0.8149\n",
      "[Epoch 42/50] Val Loss: 0.3802, Val Accuracy: 0.8594\n",
      "[Epoch 43/50] Train Loss: 0.5070, Train Accuracy: 0.7586\n",
      "[Epoch 43/50] Val Loss: 0.3809, Val Accuracy: 0.8594\n",
      "[Epoch 44/50] Train Loss: 0.4489, Train Accuracy: 0.8093\n",
      "[Epoch 44/50] Val Loss: 0.3839, Val Accuracy: 0.8438\n",
      "[Epoch 45/50] Train Loss: 0.4259, Train Accuracy: 0.8218\n",
      "[Epoch 45/50] Val Loss: 0.3796, Val Accuracy: 0.8438\n",
      "[Epoch 46/50] Train Loss: 0.4440, Train Accuracy: 0.8030\n",
      "[Epoch 46/50] Val Loss: 0.3611, Val Accuracy: 0.8125\n",
      "[Epoch 47/50] Train Loss: 0.4752, Train Accuracy: 0.7830\n",
      "[Epoch 47/50] Val Loss: 0.3517, Val Accuracy: 0.8125\n",
      "[Epoch 48/50] Train Loss: 0.4344, Train Accuracy: 0.8211\n",
      "[Epoch 48/50] Val Loss: 0.3532, Val Accuracy: 0.8594\n",
      "[Epoch 49/50] Train Loss: 0.4180, Train Accuracy: 0.8086\n",
      "[Epoch 49/50] Val Loss: 0.3530, Val Accuracy: 0.8594\n",
      "[Epoch 50/50] Train Loss: 0.4604, Train Accuracy: 0.7793\n",
      "[Epoch 50/50] Val Loss: 0.3337, Val Accuracy: 0.8750\n",
      "[BINNExplainer] Iteration 3/3...\n",
      "[Epoch 1/50] Train Loss: 0.6622, Train Accuracy: 0.6060\n",
      "[Epoch 1/50] Val Loss: 0.6930, Val Accuracy: 0.5312\n",
      "[Epoch 2/50] Train Loss: 0.7015, Train Accuracy: 0.5466\n",
      "[Epoch 2/50] Val Loss: 0.6930, Val Accuracy: 0.5312\n",
      "[Epoch 3/50] Train Loss: 0.6782, Train Accuracy: 0.6353\n",
      "[Epoch 3/50] Val Loss: 0.6933, Val Accuracy: 0.5312\n",
      "[Epoch 4/50] Train Loss: 0.6826, Train Accuracy: 0.6491\n",
      "[Epoch 4/50] Val Loss: 0.6937, Val Accuracy: 0.5312\n",
      "[Epoch 5/50] Train Loss: 0.6897, Train Accuracy: 0.6110\n",
      "[Epoch 5/50] Val Loss: 0.6949, Val Accuracy: 0.5312\n",
      "[Epoch 6/50] Train Loss: 0.5986, Train Accuracy: 0.6985\n",
      "[Epoch 6/50] Val Loss: 0.6979, Val Accuracy: 0.5312\n",
      "[Epoch 7/50] Train Loss: 0.5862, Train Accuracy: 0.6666\n",
      "[Epoch 7/50] Val Loss: 0.7037, Val Accuracy: 0.3906\n",
      "[Epoch 8/50] Train Loss: 0.6625, Train Accuracy: 0.6629\n",
      "[Epoch 8/50] Val Loss: 0.7130, Val Accuracy: 0.3125\n",
      "[Epoch 9/50] Train Loss: 0.5627, Train Accuracy: 0.6692\n",
      "[Epoch 9/50] Val Loss: 0.7238, Val Accuracy: 0.2969\n",
      "[Epoch 10/50] Train Loss: 0.5778, Train Accuracy: 0.7254\n",
      "[Epoch 10/50] Val Loss: 0.7288, Val Accuracy: 0.3125\n",
      "[Epoch 11/50] Train Loss: 0.5757, Train Accuracy: 0.7274\n",
      "[Epoch 11/50] Val Loss: 0.7187, Val Accuracy: 0.3438\n",
      "[Epoch 12/50] Train Loss: 0.5253, Train Accuracy: 0.7399\n",
      "[Epoch 12/50] Val Loss: 0.6922, Val Accuracy: 0.6094\n",
      "[Epoch 13/50] Train Loss: 0.5902, Train Accuracy: 0.6541\n",
      "[Epoch 13/50] Val Loss: 0.6562, Val Accuracy: 0.6094\n",
      "[Epoch 14/50] Train Loss: 0.5166, Train Accuracy: 0.7280\n",
      "[Epoch 14/50] Val Loss: 0.6200, Val Accuracy: 0.6406\n",
      "[Epoch 15/50] Train Loss: 0.5014, Train Accuracy: 0.7567\n",
      "[Epoch 15/50] Val Loss: 0.5810, Val Accuracy: 0.6406\n",
      "[Epoch 16/50] Train Loss: 0.5681, Train Accuracy: 0.7373\n",
      "[Epoch 16/50] Val Loss: 0.5441, Val Accuracy: 0.7188\n",
      "[Epoch 17/50] Train Loss: 0.4619, Train Accuracy: 0.7879\n",
      "[Epoch 17/50] Val Loss: 0.5225, Val Accuracy: 0.7031\n",
      "[Epoch 18/50] Train Loss: 0.5474, Train Accuracy: 0.7099\n",
      "[Epoch 18/50] Val Loss: 0.4975, Val Accuracy: 0.7656\n",
      "[Epoch 19/50] Train Loss: 0.4955, Train Accuracy: 0.7504\n",
      "[Epoch 19/50] Val Loss: 0.4615, Val Accuracy: 0.7812\n",
      "[Epoch 20/50] Train Loss: 0.4663, Train Accuracy: 0.7636\n",
      "[Epoch 20/50] Val Loss: 0.4527, Val Accuracy: 0.7656\n",
      "[Epoch 21/50] Train Loss: 0.4771, Train Accuracy: 0.7899\n",
      "[Epoch 21/50] Val Loss: 0.4417, Val Accuracy: 0.7656\n",
      "[Epoch 22/50] Train Loss: 0.4904, Train Accuracy: 0.7567\n",
      "[Epoch 22/50] Val Loss: 0.4497, Val Accuracy: 0.7656\n",
      "[Epoch 23/50] Train Loss: 0.4938, Train Accuracy: 0.8073\n",
      "[Epoch 23/50] Val Loss: 0.4594, Val Accuracy: 0.7656\n",
      "[Epoch 24/50] Train Loss: 0.5011, Train Accuracy: 0.7524\n",
      "[Epoch 24/50] Val Loss: 0.4458, Val Accuracy: 0.7656\n",
      "[Epoch 25/50] Train Loss: 0.4888, Train Accuracy: 0.7748\n",
      "[Epoch 25/50] Val Loss: 0.4296, Val Accuracy: 0.7656\n",
      "[Epoch 26/50] Train Loss: 0.4311, Train Accuracy: 0.8349\n",
      "[Epoch 26/50] Val Loss: 0.4157, Val Accuracy: 0.7969\n",
      "[Epoch 27/50] Train Loss: 0.4354, Train Accuracy: 0.8080\n",
      "[Epoch 27/50] Val Loss: 0.4119, Val Accuracy: 0.7969\n",
      "[Epoch 28/50] Train Loss: 0.4457, Train Accuracy: 0.8205\n",
      "[Epoch 28/50] Val Loss: 0.4116, Val Accuracy: 0.7969\n",
      "[Epoch 29/50] Train Loss: 0.4478, Train Accuracy: 0.7649\n",
      "[Epoch 29/50] Val Loss: 0.4044, Val Accuracy: 0.7969\n",
      "[Epoch 30/50] Train Loss: 0.4299, Train Accuracy: 0.8254\n",
      "[Epoch 30/50] Val Loss: 0.3891, Val Accuracy: 0.8125\n",
      "[Epoch 31/50] Train Loss: 0.4505, Train Accuracy: 0.7899\n",
      "[Epoch 31/50] Val Loss: 0.4082, Val Accuracy: 0.7656\n",
      "[Epoch 32/50] Train Loss: 0.4912, Train Accuracy: 0.7849\n",
      "[Epoch 32/50] Val Loss: 0.4126, Val Accuracy: 0.7656\n",
      "[Epoch 33/50] Train Loss: 0.4055, Train Accuracy: 0.8349\n",
      "[Epoch 33/50] Val Loss: 0.4219, Val Accuracy: 0.7656\n",
      "[Epoch 34/50] Train Loss: 0.4131, Train Accuracy: 0.8067\n",
      "[Epoch 34/50] Val Loss: 0.3819, Val Accuracy: 0.7656\n",
      "[Epoch 35/50] Train Loss: 0.4557, Train Accuracy: 0.7856\n",
      "[Epoch 35/50] Val Loss: 0.3580, Val Accuracy: 0.7969\n",
      "[Epoch 36/50] Train Loss: 0.4078, Train Accuracy: 0.8343\n",
      "[Epoch 36/50] Val Loss: 0.3515, Val Accuracy: 0.8125\n",
      "[Epoch 37/50] Train Loss: 0.4911, Train Accuracy: 0.7616\n",
      "[Epoch 37/50] Val Loss: 0.3448, Val Accuracy: 0.8125\n",
      "[Epoch 38/50] Train Loss: 0.4091, Train Accuracy: 0.8356\n",
      "[Epoch 38/50] Val Loss: 0.3487, Val Accuracy: 0.8281\n",
      "[Epoch 39/50] Train Loss: 0.4081, Train Accuracy: 0.8349\n",
      "[Epoch 39/50] Val Loss: 0.3508, Val Accuracy: 0.7969\n",
      "[Epoch 40/50] Train Loss: 0.3939, Train Accuracy: 0.8224\n",
      "[Epoch 40/50] Val Loss: 0.3461, Val Accuracy: 0.8125\n",
      "[Epoch 41/50] Train Loss: 0.4109, Train Accuracy: 0.8474\n",
      "[Epoch 41/50] Val Loss: 0.3431, Val Accuracy: 0.7969\n",
      "[Epoch 42/50] Train Loss: 0.4073, Train Accuracy: 0.8162\n",
      "[Epoch 42/50] Val Loss: 0.3458, Val Accuracy: 0.7812\n",
      "[Epoch 43/50] Train Loss: 0.3735, Train Accuracy: 0.8619\n",
      "[Epoch 43/50] Val Loss: 0.3563, Val Accuracy: 0.7812\n",
      "[Epoch 44/50] Train Loss: 0.3499, Train Accuracy: 0.8836\n",
      "[Epoch 44/50] Val Loss: 0.3535, Val Accuracy: 0.7812\n",
      "[Epoch 45/50] Train Loss: 0.3879, Train Accuracy: 0.8474\n",
      "[Epoch 45/50] Val Loss: 0.3531, Val Accuracy: 0.7969\n",
      "[Epoch 46/50] Train Loss: 0.4046, Train Accuracy: 0.8237\n",
      "[Epoch 46/50] Val Loss: 0.3722, Val Accuracy: 0.7812\n",
      "[Epoch 47/50] Train Loss: 0.4181, Train Accuracy: 0.8017\n",
      "[Epoch 47/50] Val Loss: 0.3862, Val Accuracy: 0.7812\n",
      "[Epoch 48/50] Train Loss: 0.4112, Train Accuracy: 0.8017\n",
      "[Epoch 48/50] Val Loss: 0.3692, Val Accuracy: 0.7812\n",
      "[Epoch 49/50] Train Loss: 0.3713, Train Accuracy: 0.8668\n",
      "[Epoch 49/50] Val Loss: 0.3627, Val Accuracy: 0.7812\n",
      "[Epoch 50/50] Train Loss: 0.3709, Train Accuracy: 0.8474\n",
      "[Epoch 50/50] Val Loss: 0.3465, Val Accuracy: 0.7812\n"
     ]
    }
   ],
   "source": [
    "average_explanations = explainer.explain(dataloaders, nr_iterations=3, num_epochs=50, trainer=trainer)"
   ]
  },
  {
   "cell_type": "code",
   "execution_count": 5,
   "metadata": {},
   "outputs": [
    {
     "data": {
      "text/html": [
       "<div>\n",
       "<style scoped>\n",
       "    .dataframe tbody tr th:only-of-type {\n",
       "        vertical-align: middle;\n",
       "    }\n",
       "\n",
       "    .dataframe tbody tr th {\n",
       "        vertical-align: top;\n",
       "    }\n",
       "\n",
       "    .dataframe thead th {\n",
       "        text-align: right;\n",
       "    }\n",
       "</style>\n",
       "<table border=\"1\" class=\"dataframe\">\n",
       "  <thead>\n",
       "    <tr style=\"text-align: right;\">\n",
       "      <th></th>\n",
       "      <th>source_layer</th>\n",
       "      <th>target_layer</th>\n",
       "      <th>source_node</th>\n",
       "      <th>target_node</th>\n",
       "      <th>class_idx</th>\n",
       "      <th>importance</th>\n",
       "      <th>importance_0</th>\n",
       "      <th>importance_1</th>\n",
       "      <th>importance_2</th>\n",
       "      <th>importance_mean</th>\n",
       "      <th>importance_std</th>\n",
       "      <th>normalized_importance</th>\n",
       "    </tr>\n",
       "  </thead>\n",
       "  <tbody>\n",
       "    <tr>\n",
       "      <th>0</th>\n",
       "      <td>0</td>\n",
       "      <td>1</td>\n",
       "      <td>A0M8Q6</td>\n",
       "      <td>R-HSA-166663</td>\n",
       "      <td>0</td>\n",
       "      <td>0.020381</td>\n",
       "      <td>0.040898</td>\n",
       "      <td>0.006035</td>\n",
       "      <td>0.014211</td>\n",
       "      <td>0.020381</td>\n",
       "      <td>0.014886</td>\n",
       "      <td>0.005095</td>\n",
       "    </tr>\n",
       "    <tr>\n",
       "      <th>1</th>\n",
       "      <td>0</td>\n",
       "      <td>1</td>\n",
       "      <td>A0M8Q6</td>\n",
       "      <td>R-HSA-166663</td>\n",
       "      <td>1</td>\n",
       "      <td>0.025529</td>\n",
       "      <td>0.000998</td>\n",
       "      <td>0.018965</td>\n",
       "      <td>0.056623</td>\n",
       "      <td>0.025529</td>\n",
       "      <td>0.023178</td>\n",
       "      <td>0.006382</td>\n",
       "    </tr>\n",
       "    <tr>\n",
       "      <th>2</th>\n",
       "      <td>0</td>\n",
       "      <td>1</td>\n",
       "      <td>A0M8Q6</td>\n",
       "      <td>R-HSA-198933</td>\n",
       "      <td>0</td>\n",
       "      <td>0.020381</td>\n",
       "      <td>0.040898</td>\n",
       "      <td>0.006035</td>\n",
       "      <td>0.014211</td>\n",
       "      <td>0.020381</td>\n",
       "      <td>0.014886</td>\n",
       "      <td>0.005095</td>\n",
       "    </tr>\n",
       "    <tr>\n",
       "      <th>3</th>\n",
       "      <td>0</td>\n",
       "      <td>1</td>\n",
       "      <td>A0M8Q6</td>\n",
       "      <td>R-HSA-198933</td>\n",
       "      <td>1</td>\n",
       "      <td>0.025529</td>\n",
       "      <td>0.000998</td>\n",
       "      <td>0.018965</td>\n",
       "      <td>0.056623</td>\n",
       "      <td>0.025529</td>\n",
       "      <td>0.023178</td>\n",
       "      <td>0.006382</td>\n",
       "    </tr>\n",
       "    <tr>\n",
       "      <th>4</th>\n",
       "      <td>0</td>\n",
       "      <td>1</td>\n",
       "      <td>A0M8Q6</td>\n",
       "      <td>R-HSA-2029481</td>\n",
       "      <td>0</td>\n",
       "      <td>0.020381</td>\n",
       "      <td>0.040898</td>\n",
       "      <td>0.006035</td>\n",
       "      <td>0.014211</td>\n",
       "      <td>0.020381</td>\n",
       "      <td>0.014886</td>\n",
       "      <td>0.005095</td>\n",
       "    </tr>\n",
       "    <tr>\n",
       "      <th>...</th>\n",
       "      <td>...</td>\n",
       "      <td>...</td>\n",
       "      <td>...</td>\n",
       "      <td>...</td>\n",
       "      <td>...</td>\n",
       "      <td>...</td>\n",
       "      <td>...</td>\n",
       "      <td>...</td>\n",
       "      <td>...</td>\n",
       "      <td>...</td>\n",
       "      <td>...</td>\n",
       "      <td>...</td>\n",
       "    </tr>\n",
       "    <tr>\n",
       "      <th>7079</th>\n",
       "      <td>4</td>\n",
       "      <td>5</td>\n",
       "      <td>R-HSA-9612973</td>\n",
       "      <td>output_node</td>\n",
       "      <td>1</td>\n",
       "      <td>0.153014</td>\n",
       "      <td>0.186016</td>\n",
       "      <td>0.209957</td>\n",
       "      <td>0.063067</td>\n",
       "      <td>0.153014</td>\n",
       "      <td>0.064348</td>\n",
       "      <td>0.065899</td>\n",
       "    </tr>\n",
       "    <tr>\n",
       "      <th>7080</th>\n",
       "      <td>4</td>\n",
       "      <td>5</td>\n",
       "      <td>R-HSA-9709957</td>\n",
       "      <td>output_node</td>\n",
       "      <td>0</td>\n",
       "      <td>0.180209</td>\n",
       "      <td>0.189706</td>\n",
       "      <td>0.130507</td>\n",
       "      <td>0.220414</td>\n",
       "      <td>0.180209</td>\n",
       "      <td>0.037314</td>\n",
       "      <td>0.090104</td>\n",
       "    </tr>\n",
       "    <tr>\n",
       "      <th>7081</th>\n",
       "      <td>4</td>\n",
       "      <td>5</td>\n",
       "      <td>R-HSA-9709957</td>\n",
       "      <td>output_node</td>\n",
       "      <td>1</td>\n",
       "      <td>0.195636</td>\n",
       "      <td>0.129179</td>\n",
       "      <td>0.317847</td>\n",
       "      <td>0.139884</td>\n",
       "      <td>0.195636</td>\n",
       "      <td>0.086526</td>\n",
       "      <td>0.097818</td>\n",
       "    </tr>\n",
       "    <tr>\n",
       "      <th>7082</th>\n",
       "      <td>4</td>\n",
       "      <td>5</td>\n",
       "      <td>R-HSA-9748784</td>\n",
       "      <td>output_node</td>\n",
       "      <td>0</td>\n",
       "      <td>0.154748</td>\n",
       "      <td>0.156551</td>\n",
       "      <td>0.188176</td>\n",
       "      <td>0.119518</td>\n",
       "      <td>0.154748</td>\n",
       "      <td>0.028059</td>\n",
       "      <td>0.051583</td>\n",
       "    </tr>\n",
       "    <tr>\n",
       "      <th>7083</th>\n",
       "      <td>4</td>\n",
       "      <td>5</td>\n",
       "      <td>R-HSA-9748784</td>\n",
       "      <td>output_node</td>\n",
       "      <td>1</td>\n",
       "      <td>0.159009</td>\n",
       "      <td>0.108950</td>\n",
       "      <td>0.098862</td>\n",
       "      <td>0.269215</td>\n",
       "      <td>0.159009</td>\n",
       "      <td>0.078036</td>\n",
       "      <td>0.053003</td>\n",
       "    </tr>\n",
       "  </tbody>\n",
       "</table>\n",
       "<p>7084 rows × 12 columns</p>\n",
       "</div>"
      ],
      "text/plain": [
       "      source_layer  target_layer    source_node    target_node  class_idx  \\\n",
       "0                0             1         A0M8Q6   R-HSA-166663          0   \n",
       "1                0             1         A0M8Q6   R-HSA-166663          1   \n",
       "2                0             1         A0M8Q6   R-HSA-198933          0   \n",
       "3                0             1         A0M8Q6   R-HSA-198933          1   \n",
       "4                0             1         A0M8Q6  R-HSA-2029481          0   \n",
       "...            ...           ...            ...            ...        ...   \n",
       "7079             4             5  R-HSA-9612973    output_node          1   \n",
       "7080             4             5  R-HSA-9709957    output_node          0   \n",
       "7081             4             5  R-HSA-9709957    output_node          1   \n",
       "7082             4             5  R-HSA-9748784    output_node          0   \n",
       "7083             4             5  R-HSA-9748784    output_node          1   \n",
       "\n",
       "      importance  importance_0  importance_1  importance_2  importance_mean  \\\n",
       "0       0.020381      0.040898      0.006035      0.014211         0.020381   \n",
       "1       0.025529      0.000998      0.018965      0.056623         0.025529   \n",
       "2       0.020381      0.040898      0.006035      0.014211         0.020381   \n",
       "3       0.025529      0.000998      0.018965      0.056623         0.025529   \n",
       "4       0.020381      0.040898      0.006035      0.014211         0.020381   \n",
       "...          ...           ...           ...           ...              ...   \n",
       "7079    0.153014      0.186016      0.209957      0.063067         0.153014   \n",
       "7080    0.180209      0.189706      0.130507      0.220414         0.180209   \n",
       "7081    0.195636      0.129179      0.317847      0.139884         0.195636   \n",
       "7082    0.154748      0.156551      0.188176      0.119518         0.154748   \n",
       "7083    0.159009      0.108950      0.098862      0.269215         0.159009   \n",
       "\n",
       "      importance_std  normalized_importance  \n",
       "0           0.014886               0.005095  \n",
       "1           0.023178               0.006382  \n",
       "2           0.014886               0.005095  \n",
       "3           0.023178               0.006382  \n",
       "4           0.014886               0.005095  \n",
       "...              ...                    ...  \n",
       "7079        0.064348               0.065899  \n",
       "7080        0.037314               0.090104  \n",
       "7081        0.086526               0.097818  \n",
       "7082        0.028059               0.051583  \n",
       "7083        0.078036               0.053003  \n",
       "\n",
       "[7084 rows x 12 columns]"
      ]
     },
     "execution_count": 5,
     "metadata": {},
     "output_type": "execute_result"
    }
   ],
   "source": [
    "normalized_average_explanations = explainer.normalize_importances(average_explanations, method=\"fan\")\n",
    "normalized_average_explanations"
   ]
  }
 ],
 "metadata": {
  "kernelspec": {
   "display_name": ".venv",
   "language": "python",
   "name": "python3"
  },
  "language_info": {
   "codemirror_mode": {
    "name": "ipython",
    "version": 3
   },
   "file_extension": ".py",
   "mimetype": "text/x-python",
   "name": "python",
   "nbconvert_exporter": "python",
   "pygments_lexer": "ipython3",
   "version": "3.10.15"
  },
  "orig_nbformat": 4
 },
 "nbformat": 4,
 "nbformat_minor": 2
}
