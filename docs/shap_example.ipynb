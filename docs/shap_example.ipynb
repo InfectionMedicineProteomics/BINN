{
 "cells": [
  {
   "cell_type": "code",
   "execution_count": 6,
   "metadata": {},
   "outputs": [
    {
     "name": "stdout",
     "output_type": "stream",
     "text": [
      "\n",
      "[INFO] BINN is on device: cpu\n",
      "Mapping group labels: {np.int64(1): 0, np.int64(2): 1}\n",
      "[Epoch 1/200] Train Loss: 0.7487, Train Accuracy: 0.5653\n",
      "[Epoch 1/200] Val Loss: 0.6936, Val Accuracy: 0.3750\n",
      "[Epoch 2/200] Train Loss: 0.7813, Train Accuracy: 0.5034\n",
      "[Epoch 2/200] Val Loss: 0.6957, Val Accuracy: 0.3750\n",
      "[Epoch 3/200] Train Loss: 0.8375, Train Accuracy: 0.5185\n",
      "[Epoch 3/200] Val Loss: 0.6953, Val Accuracy: 0.3750\n",
      "[Epoch 4/200] Train Loss: 0.7762, Train Accuracy: 0.5403\n",
      "[Epoch 4/200] Val Loss: 0.6955, Val Accuracy: 0.3750\n",
      "[Epoch 5/200] Train Loss: 0.8002, Train Accuracy: 0.5084\n",
      "[Epoch 5/200] Val Loss: 0.6962, Val Accuracy: 0.3750\n",
      "[Epoch 6/200] Train Loss: 0.7655, Train Accuracy: 0.5097\n",
      "[Epoch 6/200] Val Loss: 0.6982, Val Accuracy: 0.3281\n",
      "[Epoch 7/200] Train Loss: 0.6893, Train Accuracy: 0.5873\n",
      "[Epoch 7/200] Val Loss: 0.6934, Val Accuracy: 0.3750\n",
      "[Epoch 8/200] Train Loss: 0.6710, Train Accuracy: 0.6041\n",
      "[Epoch 8/200] Val Loss: 0.6812, Val Accuracy: 0.5156\n",
      "[Epoch 9/200] Train Loss: 0.7459, Train Accuracy: 0.5728\n",
      "[Epoch 9/200] Val Loss: 0.6511, Val Accuracy: 0.6719\n",
      "[Epoch 10/200] Train Loss: 0.6893, Train Accuracy: 0.5991\n",
      "[Epoch 10/200] Val Loss: 0.6728, Val Accuracy: 0.5625\n",
      "[Epoch 11/200] Train Loss: 0.7566, Train Accuracy: 0.5659\n",
      "[Epoch 11/200] Val Loss: 0.6640, Val Accuracy: 0.5625\n",
      "[Epoch 12/200] Train Loss: 0.6572, Train Accuracy: 0.6297\n",
      "[Epoch 12/200] Val Loss: 0.5847, Val Accuracy: 0.6719\n",
      "[Epoch 13/200] Train Loss: 0.7037, Train Accuracy: 0.5567\n",
      "[Epoch 13/200] Val Loss: 0.6337, Val Accuracy: 0.6094\n",
      "[Epoch 14/200] Train Loss: 0.6892, Train Accuracy: 0.6554\n",
      "[Epoch 14/200] Val Loss: 0.5994, Val Accuracy: 0.6562\n",
      "[Epoch 15/200] Train Loss: 0.6342, Train Accuracy: 0.6373\n",
      "[Epoch 15/200] Val Loss: 0.5748, Val Accuracy: 0.6562\n",
      "[Epoch 16/200] Train Loss: 0.6226, Train Accuracy: 0.6698\n",
      "[Epoch 16/200] Val Loss: 0.4750, Val Accuracy: 0.7031\n",
      "[Epoch 17/200] Train Loss: 0.6366, Train Accuracy: 0.6873\n",
      "[Epoch 17/200] Val Loss: 0.5261, Val Accuracy: 0.7656\n",
      "[Epoch 18/200] Train Loss: 0.6199, Train Accuracy: 0.6317\n",
      "[Epoch 18/200] Val Loss: 0.3989, Val Accuracy: 0.8281\n",
      "[Epoch 19/200] Train Loss: 0.6024, Train Accuracy: 0.6616\n",
      "[Epoch 19/200] Val Loss: 0.4450, Val Accuracy: 0.7812\n",
      "[Epoch 20/200] Train Loss: 0.5919, Train Accuracy: 0.7004\n",
      "[Epoch 20/200] Val Loss: 0.4916, Val Accuracy: 0.7969\n",
      "[Epoch 21/200] Train Loss: 0.5853, Train Accuracy: 0.7004\n",
      "[Epoch 21/200] Val Loss: 0.3860, Val Accuracy: 0.9219\n",
      "[Epoch 22/200] Train Loss: 0.6130, Train Accuracy: 0.6741\n",
      "[Epoch 22/200] Val Loss: 0.4034, Val Accuracy: 0.9219\n",
      "[Epoch 23/200] Train Loss: 0.6222, Train Accuracy: 0.6593\n",
      "[Epoch 23/200] Val Loss: 0.4785, Val Accuracy: 0.8281\n",
      "[Epoch 24/200] Train Loss: 0.5819, Train Accuracy: 0.6623\n",
      "[Epoch 24/200] Val Loss: 0.3952, Val Accuracy: 0.8594\n",
      "[Epoch 25/200] Train Loss: 0.6122, Train Accuracy: 0.6580\n",
      "[Epoch 25/200] Val Loss: 0.3985, Val Accuracy: 0.8438\n",
      "[Epoch 26/200] Train Loss: 0.6007, Train Accuracy: 0.6610\n",
      "[Epoch 26/200] Val Loss: 0.3947, Val Accuracy: 0.8594\n",
      "[Epoch 27/200] Train Loss: 0.5813, Train Accuracy: 0.6935\n",
      "[Epoch 27/200] Val Loss: 0.3679, Val Accuracy: 0.8750\n",
      "[Epoch 28/200] Train Loss: 0.5992, Train Accuracy: 0.6567\n",
      "[Epoch 28/200] Val Loss: 0.3391, Val Accuracy: 0.9219\n",
      "[Epoch 29/200] Train Loss: 0.6227, Train Accuracy: 0.6179\n",
      "[Epoch 29/200] Val Loss: 0.4183, Val Accuracy: 0.8281\n",
      "[Epoch 30/200] Train Loss: 0.5971, Train Accuracy: 0.6774\n",
      "[Epoch 30/200] Val Loss: 0.3884, Val Accuracy: 0.9531\n",
      "[Epoch 31/200] Train Loss: 0.4856, Train Accuracy: 0.7336\n",
      "[Epoch 31/200] Val Loss: 0.3756, Val Accuracy: 0.8594\n",
      "[Epoch 32/200] Train Loss: 0.5852, Train Accuracy: 0.7004\n",
      "[Epoch 32/200] Val Loss: 0.4376, Val Accuracy: 0.8125\n",
      "[Epoch 33/200] Train Loss: 0.5226, Train Accuracy: 0.7261\n",
      "[Epoch 33/200] Val Loss: 0.3373, Val Accuracy: 0.9531\n",
      "[Epoch 34/200] Train Loss: 0.5207, Train Accuracy: 0.7698\n",
      "[Epoch 34/200] Val Loss: 0.3690, Val Accuracy: 0.8906\n",
      "[Epoch 35/200] Train Loss: 0.5657, Train Accuracy: 0.7386\n",
      "[Epoch 35/200] Val Loss: 0.4524, Val Accuracy: 0.8281\n",
      "[Epoch 36/200] Train Loss: 0.4770, Train Accuracy: 0.7836\n",
      "[Epoch 36/200] Val Loss: 0.4111, Val Accuracy: 0.8594\n",
      "[Epoch 37/200] Train Loss: 0.4905, Train Accuracy: 0.7580\n",
      "[Epoch 37/200] Val Loss: 0.3983, Val Accuracy: 0.7812\n",
      "[Epoch 38/200] Train Loss: 0.5037, Train Accuracy: 0.7685\n",
      "[Epoch 38/200] Val Loss: 0.4662, Val Accuracy: 0.6875\n",
      "[Epoch 39/200] Train Loss: 0.5085, Train Accuracy: 0.7580\n",
      "[Epoch 39/200] Val Loss: 0.3222, Val Accuracy: 0.9219\n",
      "[Epoch 40/200] Train Loss: 0.5904, Train Accuracy: 0.7067\n",
      "[Epoch 40/200] Val Loss: 0.3269, Val Accuracy: 0.9219\n",
      "[Epoch 41/200] Train Loss: 0.4911, Train Accuracy: 0.7586\n",
      "[Epoch 41/200] Val Loss: 0.3700, Val Accuracy: 0.8906\n",
      "[Epoch 42/200] Train Loss: 0.5410, Train Accuracy: 0.7073\n",
      "[Epoch 42/200] Val Loss: 0.3266, Val Accuracy: 0.9375\n",
      "[Epoch 43/200] Train Loss: 0.4933, Train Accuracy: 0.7593\n",
      "[Epoch 43/200] Val Loss: 0.3399, Val Accuracy: 0.9375\n",
      "[Epoch 44/200] Train Loss: 0.5116, Train Accuracy: 0.6961\n",
      "[Epoch 44/200] Val Loss: 0.3294, Val Accuracy: 0.8750\n",
      "[Epoch 45/200] Train Loss: 0.4696, Train Accuracy: 0.7580\n",
      "[Epoch 45/200] Val Loss: 0.3092, Val Accuracy: 0.9375\n",
      "[Epoch 46/200] Train Loss: 0.4243, Train Accuracy: 0.8237\n",
      "[Epoch 46/200] Val Loss: 0.3492, Val Accuracy: 0.8906\n",
      "[Epoch 47/200] Train Loss: 0.4551, Train Accuracy: 0.7843\n",
      "[Epoch 47/200] Val Loss: 0.3484, Val Accuracy: 0.9219\n",
      "[Epoch 48/200] Train Loss: 0.4936, Train Accuracy: 0.7586\n",
      "[Epoch 48/200] Val Loss: 0.3326, Val Accuracy: 0.8750\n",
      "[Epoch 49/200] Train Loss: 0.4151, Train Accuracy: 0.8099\n",
      "[Epoch 49/200] Val Loss: 0.3925, Val Accuracy: 0.8281\n",
      "[Epoch 50/200] Train Loss: 0.4615, Train Accuracy: 0.7892\n",
      "[Epoch 50/200] Val Loss: 0.3743, Val Accuracy: 0.8125\n",
      "[Epoch 51/200] Train Loss: 0.4452, Train Accuracy: 0.7668\n",
      "[Epoch 51/200] Val Loss: 0.3477, Val Accuracy: 0.8906\n",
      "[Epoch 52/200] Train Loss: 0.4566, Train Accuracy: 0.7774\n",
      "[Epoch 52/200] Val Loss: 0.3315, Val Accuracy: 0.8750\n",
      "[Epoch 53/200] Train Loss: 0.4425, Train Accuracy: 0.7886\n",
      "[Epoch 53/200] Val Loss: 0.4122, Val Accuracy: 0.8281\n",
      "[Epoch 54/200] Train Loss: 0.3811, Train Accuracy: 0.8349\n",
      "[Epoch 54/200] Val Loss: 0.3666, Val Accuracy: 0.8750\n",
      "[Epoch 55/200] Train Loss: 0.4141, Train Accuracy: 0.8218\n",
      "[Epoch 55/200] Val Loss: 0.3364, Val Accuracy: 0.8750\n",
      "[Epoch 56/200] Train Loss: 0.4663, Train Accuracy: 0.7761\n",
      "[Epoch 56/200] Val Loss: 0.3310, Val Accuracy: 0.9219\n",
      "[Epoch 57/200] Train Loss: 0.3852, Train Accuracy: 0.8093\n",
      "[Epoch 57/200] Val Loss: 0.3314, Val Accuracy: 0.8750\n",
      "[Epoch 58/200] Train Loss: 0.4178, Train Accuracy: 0.8136\n",
      "[Epoch 58/200] Val Loss: 0.3998, Val Accuracy: 0.8281\n",
      "[Epoch 59/200] Train Loss: 0.3919, Train Accuracy: 0.8293\n",
      "[Epoch 59/200] Val Loss: 0.3684, Val Accuracy: 0.8750\n",
      "[Epoch 60/200] Train Loss: 0.4181, Train Accuracy: 0.8280\n",
      "[Epoch 60/200] Val Loss: 0.3074, Val Accuracy: 0.9219\n",
      "[Epoch 61/200] Train Loss: 0.3663, Train Accuracy: 0.8455\n",
      "[Epoch 61/200] Val Loss: 0.3044, Val Accuracy: 0.9219\n",
      "[Epoch 62/200] Train Loss: 0.4051, Train Accuracy: 0.8218\n",
      "[Epoch 62/200] Val Loss: 0.3185, Val Accuracy: 0.8750\n",
      "[Epoch 63/200] Train Loss: 0.3642, Train Accuracy: 0.8399\n",
      "[Epoch 63/200] Val Loss: 0.3988, Val Accuracy: 0.7812\n",
      "[Epoch 64/200] Train Loss: 0.4074, Train Accuracy: 0.8248\n",
      "[Epoch 64/200] Val Loss: 0.3509, Val Accuracy: 0.8750\n",
      "[Epoch 65/200] Train Loss: 0.4054, Train Accuracy: 0.8399\n",
      "[Epoch 65/200] Val Loss: 0.2843, Val Accuracy: 0.9219\n",
      "[Epoch 66/200] Train Loss: 0.3785, Train Accuracy: 0.8267\n",
      "[Epoch 66/200] Val Loss: 0.4182, Val Accuracy: 0.8281\n",
      "[Epoch 67/200] Train Loss: 0.4178, Train Accuracy: 0.8205\n",
      "[Epoch 67/200] Val Loss: 0.3180, Val Accuracy: 0.8750\n",
      "[Epoch 68/200] Train Loss: 0.3712, Train Accuracy: 0.8300\n",
      "[Epoch 68/200] Val Loss: 0.5487, Val Accuracy: 0.6875\n",
      "[Epoch 69/200] Train Loss: 0.3563, Train Accuracy: 0.8662\n",
      "[Epoch 69/200] Val Loss: 0.3440, Val Accuracy: 0.8750\n",
      "[Epoch 70/200] Train Loss: 0.3842, Train Accuracy: 0.8373\n",
      "[Epoch 70/200] Val Loss: 0.2709, Val Accuracy: 0.9219\n",
      "[Epoch 71/200] Train Loss: 0.3490, Train Accuracy: 0.8293\n",
      "[Epoch 71/200] Val Loss: 0.3358, Val Accuracy: 0.8750\n",
      "[Epoch 72/200] Train Loss: 0.4078, Train Accuracy: 0.8030\n",
      "[Epoch 72/200] Val Loss: 0.3275, Val Accuracy: 0.8750\n",
      "[Epoch 73/200] Train Loss: 0.3629, Train Accuracy: 0.8636\n",
      "[Epoch 73/200] Val Loss: 0.2875, Val Accuracy: 0.9219\n",
      "[Epoch 74/200] Train Loss: 0.3577, Train Accuracy: 0.8599\n",
      "[Epoch 74/200] Val Loss: 0.3025, Val Accuracy: 0.8750\n",
      "[Epoch 75/200] Train Loss: 0.3410, Train Accuracy: 0.8718\n",
      "[Epoch 75/200] Val Loss: 0.3105, Val Accuracy: 0.8750\n",
      "[Epoch 76/200] Train Loss: 0.3930, Train Accuracy: 0.8474\n",
      "[Epoch 76/200] Val Loss: 0.3189, Val Accuracy: 0.8750\n",
      "[Epoch 77/200] Train Loss: 0.4064, Train Accuracy: 0.8211\n",
      "[Epoch 77/200] Val Loss: 0.2799, Val Accuracy: 0.8594\n",
      "[Epoch 78/200] Train Loss: 0.3260, Train Accuracy: 0.8606\n",
      "[Epoch 78/200] Val Loss: 0.2499, Val Accuracy: 0.9062\n",
      "[Epoch 79/200] Train Loss: 0.3572, Train Accuracy: 0.8162\n",
      "[Epoch 79/200] Val Loss: 0.3922, Val Accuracy: 0.7656\n",
      "[Epoch 80/200] Train Loss: 0.3467, Train Accuracy: 0.8550\n",
      "[Epoch 80/200] Val Loss: 0.2829, Val Accuracy: 0.9375\n",
      "[Epoch 81/200] Train Loss: 0.3314, Train Accuracy: 0.8550\n",
      "[Epoch 81/200] Val Loss: 0.3117, Val Accuracy: 0.8281\n",
      "[Epoch 82/200] Train Loss: 0.3571, Train Accuracy: 0.8550\n",
      "[Epoch 82/200] Val Loss: 0.2741, Val Accuracy: 0.8906\n",
      "[Epoch 83/200] Train Loss: 0.3606, Train Accuracy: 0.8711\n",
      "[Epoch 83/200] Val Loss: 0.2776, Val Accuracy: 0.8906\n",
      "[Epoch 84/200] Train Loss: 0.3398, Train Accuracy: 0.8481\n",
      "[Epoch 84/200] Val Loss: 0.2540, Val Accuracy: 0.9375\n",
      "[Epoch 85/200] Train Loss: 0.3351, Train Accuracy: 0.8556\n",
      "[Epoch 85/200] Val Loss: 0.2825, Val Accuracy: 0.8906\n",
      "[Epoch 86/200] Train Loss: 0.3333, Train Accuracy: 0.8599\n",
      "[Epoch 86/200] Val Loss: 0.3277, Val Accuracy: 0.8281\n",
      "[Epoch 87/200] Train Loss: 0.3366, Train Accuracy: 0.8724\n",
      "[Epoch 87/200] Val Loss: 0.2508, Val Accuracy: 0.9219\n",
      "[Epoch 88/200] Train Loss: 0.3887, Train Accuracy: 0.8550\n",
      "[Epoch 88/200] Val Loss: 0.2258, Val Accuracy: 0.9219\n",
      "[Epoch 89/200] Train Loss: 0.3066, Train Accuracy: 0.8869\n",
      "[Epoch 89/200] Val Loss: 0.2479, Val Accuracy: 0.8594\n",
      "[Epoch 90/200] Train Loss: 0.3384, Train Accuracy: 0.8843\n",
      "[Epoch 90/200] Val Loss: 0.2793, Val Accuracy: 0.8125\n",
      "[Epoch 91/200] Train Loss: 0.3346, Train Accuracy: 0.8455\n",
      "[Epoch 91/200] Val Loss: 0.2449, Val Accuracy: 0.9375\n",
      "[Epoch 92/200] Train Loss: 0.2837, Train Accuracy: 0.9162\n",
      "[Epoch 92/200] Val Loss: 0.2086, Val Accuracy: 0.9375\n",
      "[Epoch 93/200] Train Loss: 0.3143, Train Accuracy: 0.8718\n",
      "[Epoch 93/200] Val Loss: 0.2863, Val Accuracy: 0.8281\n",
      "[Epoch 94/200] Train Loss: 0.3256, Train Accuracy: 0.8912\n",
      "[Epoch 94/200] Val Loss: 0.2179, Val Accuracy: 0.9062\n",
      "[Epoch 95/200] Train Loss: 0.3376, Train Accuracy: 0.8612\n",
      "[Epoch 95/200] Val Loss: 0.2604, Val Accuracy: 0.8750\n",
      "[Epoch 96/200] Train Loss: 0.2738, Train Accuracy: 0.8806\n",
      "[Epoch 96/200] Val Loss: 0.2463, Val Accuracy: 0.9219\n",
      "[Epoch 97/200] Train Loss: 0.3435, Train Accuracy: 0.8806\n",
      "[Epoch 97/200] Val Loss: 0.2187, Val Accuracy: 0.8750\n",
      "[Epoch 98/200] Train Loss: 0.3173, Train Accuracy: 0.8800\n",
      "[Epoch 98/200] Val Loss: 0.2705, Val Accuracy: 0.8281\n",
      "[Epoch 99/200] Train Loss: 0.2701, Train Accuracy: 0.9056\n",
      "[Epoch 99/200] Val Loss: 0.2955, Val Accuracy: 0.7656\n",
      "[Epoch 100/200] Train Loss: 0.2860, Train Accuracy: 0.9112\n",
      "[Epoch 100/200] Val Loss: 0.2110, Val Accuracy: 0.9219\n",
      "[Epoch 101/200] Train Loss: 0.2868, Train Accuracy: 0.8987\n",
      "[Epoch 101/200] Val Loss: 0.2998, Val Accuracy: 0.7656\n",
      "[Epoch 102/200] Train Loss: 0.2936, Train Accuracy: 0.8849\n",
      "[Epoch 102/200] Val Loss: 0.2087, Val Accuracy: 0.9062\n",
      "[Epoch 103/200] Train Loss: 0.3052, Train Accuracy: 0.8987\n",
      "[Epoch 103/200] Val Loss: 0.1954, Val Accuracy: 0.9219\n",
      "[Epoch 104/200] Train Loss: 0.3026, Train Accuracy: 0.8793\n",
      "[Epoch 104/200] Val Loss: 0.2212, Val Accuracy: 0.8750\n",
      "[Epoch 105/200] Train Loss: 0.3345, Train Accuracy: 0.8774\n",
      "[Epoch 105/200] Val Loss: 0.2623, Val Accuracy: 0.8438\n",
      "[Epoch 106/200] Train Loss: 0.2858, Train Accuracy: 0.8987\n",
      "[Epoch 106/200] Val Loss: 0.2579, Val Accuracy: 0.8281\n",
      "[Epoch 107/200] Train Loss: 0.3068, Train Accuracy: 0.8787\n",
      "[Epoch 107/200] Val Loss: 0.2957, Val Accuracy: 0.8750\n",
      "[Epoch 108/200] Train Loss: 0.2963, Train Accuracy: 0.8524\n",
      "[Epoch 108/200] Val Loss: 0.2452, Val Accuracy: 0.8750\n",
      "[Epoch 109/200] Train Loss: 0.2561, Train Accuracy: 0.9181\n",
      "[Epoch 109/200] Val Loss: 0.2587, Val Accuracy: 0.8750\n",
      "[Epoch 110/200] Train Loss: 0.2580, Train Accuracy: 0.9125\n",
      "[Epoch 110/200] Val Loss: 0.2090, Val Accuracy: 0.9219\n",
      "[Epoch 111/200] Train Loss: 0.2363, Train Accuracy: 0.9244\n",
      "[Epoch 111/200] Val Loss: 0.2394, Val Accuracy: 0.9219\n",
      "[Epoch 112/200] Train Loss: 0.2588, Train Accuracy: 0.9062\n",
      "[Epoch 112/200] Val Loss: 0.2396, Val Accuracy: 0.8750\n",
      "[Epoch 113/200] Train Loss: 0.2259, Train Accuracy: 0.9431\n",
      "[Epoch 113/200] Val Loss: 0.3235, Val Accuracy: 0.8281\n",
      "[Epoch 114/200] Train Loss: 0.2751, Train Accuracy: 0.8961\n",
      "[Epoch 114/200] Val Loss: 0.3143, Val Accuracy: 0.8281\n",
      "[Epoch 115/200] Train Loss: 0.2762, Train Accuracy: 0.8836\n",
      "[Epoch 115/200] Val Loss: 0.1915, Val Accuracy: 0.9219\n",
      "[Epoch 116/200] Train Loss: 0.2571, Train Accuracy: 0.9237\n",
      "[Epoch 116/200] Val Loss: 0.2064, Val Accuracy: 0.9219\n",
      "[Epoch 117/200] Train Loss: 0.2685, Train Accuracy: 0.9099\n",
      "[Epoch 117/200] Val Loss: 0.3723, Val Accuracy: 0.7812\n",
      "[Epoch 118/200] Train Loss: 0.2673, Train Accuracy: 0.9056\n",
      "[Epoch 118/200] Val Loss: 0.2058, Val Accuracy: 0.9375\n",
      "[Epoch 119/200] Train Loss: 0.2352, Train Accuracy: 0.9425\n",
      "[Epoch 119/200] Val Loss: 0.2378, Val Accuracy: 0.8906\n",
      "[Epoch 120/200] Train Loss: 0.2569, Train Accuracy: 0.9244\n",
      "[Epoch 120/200] Val Loss: 0.2602, Val Accuracy: 0.8281\n",
      "[Epoch 121/200] Train Loss: 0.2905, Train Accuracy: 0.8856\n",
      "[Epoch 121/200] Val Loss: 0.1989, Val Accuracy: 0.8750\n",
      "[Epoch 122/200] Train Loss: 0.2279, Train Accuracy: 0.9431\n",
      "[Epoch 122/200] Val Loss: 0.3121, Val Accuracy: 0.8281\n",
      "[Epoch 123/200] Train Loss: 0.2751, Train Accuracy: 0.8918\n",
      "[Epoch 123/200] Val Loss: 0.2121, Val Accuracy: 0.9375\n",
      "[Epoch 124/200] Train Loss: 0.2195, Train Accuracy: 0.9224\n",
      "[Epoch 124/200] Val Loss: 0.1856, Val Accuracy: 0.9375\n",
      "[Epoch 125/200] Train Loss: 0.2570, Train Accuracy: 0.9024\n",
      "[Epoch 125/200] Val Loss: 0.1809, Val Accuracy: 0.9375\n",
      "[Epoch 126/200] Train Loss: 0.2123, Train Accuracy: 0.9563\n",
      "[Epoch 126/200] Val Loss: 0.2046, Val Accuracy: 0.9375\n",
      "[Epoch 127/200] Train Loss: 0.2396, Train Accuracy: 0.9237\n",
      "[Epoch 127/200] Val Loss: 0.2625, Val Accuracy: 0.8438\n",
      "[Epoch 128/200] Train Loss: 0.2520, Train Accuracy: 0.8987\n",
      "[Epoch 128/200] Val Loss: 0.2631, Val Accuracy: 0.8438\n",
      "[Epoch 129/200] Train Loss: 0.2381, Train Accuracy: 0.9231\n",
      "[Epoch 129/200] Val Loss: 0.1802, Val Accuracy: 0.9219\n",
      "[Epoch 130/200] Train Loss: 0.2295, Train Accuracy: 0.9313\n",
      "[Epoch 130/200] Val Loss: 0.1970, Val Accuracy: 0.9219\n",
      "[Epoch 131/200] Train Loss: 0.2124, Train Accuracy: 0.9425\n",
      "[Epoch 131/200] Val Loss: 0.3236, Val Accuracy: 0.7812\n",
      "[Epoch 132/200] Train Loss: 0.2556, Train Accuracy: 0.9175\n",
      "[Epoch 132/200] Val Loss: 0.2108, Val Accuracy: 0.8906\n",
      "[Epoch 133/200] Train Loss: 0.2293, Train Accuracy: 0.9293\n",
      "[Epoch 133/200] Val Loss: 0.1799, Val Accuracy: 0.9375\n",
      "[Epoch 134/200] Train Loss: 0.2333, Train Accuracy: 0.9425\n",
      "[Epoch 134/200] Val Loss: 0.2726, Val Accuracy: 0.8438\n",
      "[Epoch 135/200] Train Loss: 0.2087, Train Accuracy: 0.9556\n",
      "[Epoch 135/200] Val Loss: 0.2198, Val Accuracy: 0.8906\n",
      "[Epoch 136/200] Train Loss: 0.2449, Train Accuracy: 0.9168\n",
      "[Epoch 136/200] Val Loss: 0.2065, Val Accuracy: 0.9375\n",
      "[Epoch 137/200] Train Loss: 0.2165, Train Accuracy: 0.9405\n",
      "[Epoch 137/200] Val Loss: 0.1769, Val Accuracy: 0.9375\n",
      "[Epoch 138/200] Train Loss: 0.2381, Train Accuracy: 0.9293\n",
      "[Epoch 138/200] Val Loss: 0.2273, Val Accuracy: 0.8906\n",
      "[Epoch 139/200] Train Loss: 0.2209, Train Accuracy: 0.9313\n",
      "[Epoch 139/200] Val Loss: 0.1755, Val Accuracy: 0.8906\n",
      "[Epoch 140/200] Train Loss: 0.1963, Train Accuracy: 0.9800\n",
      "[Epoch 140/200] Val Loss: 0.2813, Val Accuracy: 0.8438\n",
      "[Epoch 141/200] Train Loss: 0.2007, Train Accuracy: 0.9556\n",
      "[Epoch 141/200] Val Loss: 0.2089, Val Accuracy: 0.8906\n",
      "[Epoch 142/200] Train Loss: 0.2498, Train Accuracy: 0.9162\n",
      "[Epoch 142/200] Val Loss: 0.2429, Val Accuracy: 0.8281\n",
      "[Epoch 143/200] Train Loss: 0.2128, Train Accuracy: 0.9425\n",
      "[Epoch 143/200] Val Loss: 0.2849, Val Accuracy: 0.8438\n",
      "[Epoch 144/200] Train Loss: 0.2246, Train Accuracy: 0.9300\n",
      "[Epoch 144/200] Val Loss: 0.2420, Val Accuracy: 0.8906\n",
      "[Epoch 145/200] Train Loss: 0.2405, Train Accuracy: 0.9187\n",
      "[Epoch 145/200] Val Loss: 0.1643, Val Accuracy: 0.9219\n",
      "[Epoch 146/200] Train Loss: 0.2208, Train Accuracy: 0.9056\n",
      "[Epoch 146/200] Val Loss: 0.1754, Val Accuracy: 0.9219\n",
      "[Epoch 147/200] Train Loss: 0.2255, Train Accuracy: 0.9543\n",
      "[Epoch 147/200] Val Loss: 0.2730, Val Accuracy: 0.8906\n",
      "[Epoch 148/200] Train Loss: 0.2291, Train Accuracy: 0.9425\n",
      "[Epoch 148/200] Val Loss: 0.1919, Val Accuracy: 0.9375\n",
      "[Epoch 149/200] Train Loss: 0.2194, Train Accuracy: 0.9688\n",
      "[Epoch 149/200] Val Loss: 0.1998, Val Accuracy: 0.8906\n",
      "[Epoch 150/200] Train Loss: 0.1730, Train Accuracy: 0.9875\n",
      "[Epoch 150/200] Val Loss: 0.2613, Val Accuracy: 0.8438\n",
      "[Epoch 151/200] Train Loss: 0.1732, Train Accuracy: 0.9550\n",
      "[Epoch 151/200] Val Loss: 0.1802, Val Accuracy: 0.9375\n",
      "[Epoch 152/200] Train Loss: 0.1974, Train Accuracy: 0.9625\n",
      "[Epoch 152/200] Val Loss: 0.1656, Val Accuracy: 0.9375\n",
      "[Epoch 153/200] Train Loss: 0.2137, Train Accuracy: 0.9362\n",
      "[Epoch 153/200] Val Loss: 0.1796, Val Accuracy: 0.9375\n",
      "[Epoch 154/200] Train Loss: 0.1984, Train Accuracy: 0.9500\n",
      "[Epoch 154/200] Val Loss: 0.1900, Val Accuracy: 0.9219\n",
      "[Epoch 155/200] Train Loss: 0.1790, Train Accuracy: 0.9612\n",
      "[Epoch 155/200] Val Loss: 0.1420, Val Accuracy: 0.9375\n",
      "[Epoch 156/200] Train Loss: 0.1934, Train Accuracy: 0.9563\n",
      "[Epoch 156/200] Val Loss: 0.1506, Val Accuracy: 0.9375\n",
      "[Epoch 157/200] Train Loss: 0.1965, Train Accuracy: 0.9431\n",
      "[Epoch 157/200] Val Loss: 0.1813, Val Accuracy: 0.8906\n",
      "[Epoch 158/200] Train Loss: 0.1993, Train Accuracy: 0.9356\n",
      "[Epoch 158/200] Val Loss: 0.1748, Val Accuracy: 0.9375\n",
      "[Epoch 159/200] Train Loss: 0.2026, Train Accuracy: 0.9494\n",
      "[Epoch 159/200] Val Loss: 0.1607, Val Accuracy: 0.9375\n",
      "[Epoch 160/200] Train Loss: 0.1747, Train Accuracy: 0.9806\n",
      "[Epoch 160/200] Val Loss: 0.2155, Val Accuracy: 0.8750\n",
      "[Epoch 161/200] Train Loss: 0.1821, Train Accuracy: 0.9556\n",
      "[Epoch 161/200] Val Loss: 0.1809, Val Accuracy: 0.9219\n",
      "[Epoch 162/200] Train Loss: 0.1986, Train Accuracy: 0.9494\n",
      "[Epoch 162/200] Val Loss: 0.1638, Val Accuracy: 0.9219\n",
      "[Epoch 163/200] Train Loss: 0.2025, Train Accuracy: 0.9681\n",
      "[Epoch 163/200] Val Loss: 0.1736, Val Accuracy: 0.9219\n",
      "[Epoch 164/200] Train Loss: 0.2537, Train Accuracy: 0.9056\n",
      "[Epoch 164/200] Val Loss: 0.2134, Val Accuracy: 0.8750\n",
      "[Epoch 165/200] Train Loss: 0.2132, Train Accuracy: 0.9437\n",
      "[Epoch 165/200] Val Loss: 0.2141, Val Accuracy: 0.8906\n",
      "[Epoch 166/200] Train Loss: 0.1959, Train Accuracy: 0.9375\n",
      "[Epoch 166/200] Val Loss: 0.1995, Val Accuracy: 0.8906\n",
      "[Epoch 167/200] Train Loss: 0.1977, Train Accuracy: 0.9362\n",
      "[Epoch 167/200] Val Loss: 0.2593, Val Accuracy: 0.7812\n",
      "[Epoch 168/200] Train Loss: 0.2002, Train Accuracy: 0.9425\n",
      "[Epoch 168/200] Val Loss: 0.2849, Val Accuracy: 0.8906\n",
      "[Epoch 169/200] Train Loss: 0.2088, Train Accuracy: 0.9612\n",
      "[Epoch 169/200] Val Loss: 0.1515, Val Accuracy: 0.9375\n",
      "[Epoch 170/200] Train Loss: 0.2101, Train Accuracy: 0.9237\n",
      "[Epoch 170/200] Val Loss: 0.1903, Val Accuracy: 0.8906\n",
      "[Epoch 171/200] Train Loss: 0.1619, Train Accuracy: 0.9369\n",
      "[Epoch 171/200] Val Loss: 0.1739, Val Accuracy: 0.8906\n",
      "[Epoch 172/200] Train Loss: 0.2127, Train Accuracy: 0.9224\n",
      "[Epoch 172/200] Val Loss: 0.2084, Val Accuracy: 0.8906\n",
      "[Epoch 173/200] Train Loss: 0.1990, Train Accuracy: 0.9431\n",
      "[Epoch 173/200] Val Loss: 0.2670, Val Accuracy: 0.8438\n",
      "[Epoch 174/200] Train Loss: 0.1811, Train Accuracy: 0.9500\n",
      "[Epoch 174/200] Val Loss: 0.1510, Val Accuracy: 0.9375\n",
      "[Epoch 175/200] Train Loss: 0.1940, Train Accuracy: 0.9556\n",
      "[Epoch 175/200] Val Loss: 0.1743, Val Accuracy: 0.8906\n",
      "[Epoch 176/200] Train Loss: 0.1859, Train Accuracy: 0.9812\n",
      "[Epoch 176/200] Val Loss: 0.2113, Val Accuracy: 0.8906\n",
      "[Epoch 177/200] Train Loss: 0.1638, Train Accuracy: 0.9737\n",
      "[Epoch 177/200] Val Loss: 0.1802, Val Accuracy: 0.8906\n",
      "[Epoch 178/200] Train Loss: 0.1949, Train Accuracy: 0.9487\n",
      "[Epoch 178/200] Val Loss: 0.2120, Val Accuracy: 0.8594\n",
      "[Epoch 179/200] Train Loss: 0.1867, Train Accuracy: 0.9418\n",
      "[Epoch 179/200] Val Loss: 0.2923, Val Accuracy: 0.8125\n",
      "[Epoch 180/200] Train Loss: 0.1895, Train Accuracy: 0.9375\n",
      "[Epoch 180/200] Val Loss: 0.2014, Val Accuracy: 0.9062\n",
      "[Epoch 181/200] Train Loss: 0.1861, Train Accuracy: 0.9688\n",
      "[Epoch 181/200] Val Loss: 0.1306, Val Accuracy: 0.9531\n",
      "[Epoch 182/200] Train Loss: 0.1940, Train Accuracy: 0.9481\n",
      "[Epoch 182/200] Val Loss: 0.1836, Val Accuracy: 0.9688\n",
      "[Epoch 183/200] Train Loss: 0.1905, Train Accuracy: 0.9369\n",
      "[Epoch 183/200] Val Loss: 0.1793, Val Accuracy: 0.9688\n",
      "[Epoch 184/200] Train Loss: 0.2104, Train Accuracy: 0.9313\n",
      "[Epoch 184/200] Val Loss: 0.1522, Val Accuracy: 0.9375\n",
      "[Epoch 185/200] Train Loss: 0.1753, Train Accuracy: 0.9606\n",
      "[Epoch 185/200] Val Loss: 0.1459, Val Accuracy: 0.9375\n",
      "[Epoch 186/200] Train Loss: 0.1936, Train Accuracy: 0.9431\n",
      "[Epoch 186/200] Val Loss: 0.1855, Val Accuracy: 0.8906\n",
      "[Epoch 187/200] Train Loss: 0.1515, Train Accuracy: 0.9688\n",
      "[Epoch 187/200] Val Loss: 0.1757, Val Accuracy: 0.9375\n",
      "[Epoch 188/200] Train Loss: 0.1599, Train Accuracy: 0.9494\n",
      "[Epoch 188/200] Val Loss: 0.1695, Val Accuracy: 0.9219\n",
      "[Epoch 189/200] Train Loss: 0.1504, Train Accuracy: 0.9750\n",
      "[Epoch 189/200] Val Loss: 0.2591, Val Accuracy: 0.7812\n",
      "[Epoch 190/200] Train Loss: 0.1751, Train Accuracy: 0.9487\n",
      "[Epoch 190/200] Val Loss: 0.2298, Val Accuracy: 0.8594\n",
      "[Epoch 191/200] Train Loss: 0.1506, Train Accuracy: 0.9625\n",
      "[Epoch 191/200] Val Loss: 0.1690, Val Accuracy: 0.8750\n",
      "[Epoch 192/200] Train Loss: 0.2450, Train Accuracy: 0.9250\n",
      "[Epoch 192/200] Val Loss: 0.1668, Val Accuracy: 0.9531\n",
      "[Epoch 193/200] Train Loss: 0.1716, Train Accuracy: 0.9375\n",
      "[Epoch 193/200] Val Loss: 0.1621, Val Accuracy: 0.9219\n",
      "[Epoch 194/200] Train Loss: 0.1366, Train Accuracy: 0.9750\n",
      "[Epoch 194/200] Val Loss: 0.1215, Val Accuracy: 0.9688\n",
      "[Epoch 195/200] Train Loss: 0.1787, Train Accuracy: 0.9494\n",
      "[Epoch 195/200] Val Loss: 0.1708, Val Accuracy: 0.9688\n",
      "[Epoch 196/200] Train Loss: 0.1809, Train Accuracy: 0.9481\n",
      "[Epoch 196/200] Val Loss: 0.1439, Val Accuracy: 0.9688\n",
      "[Epoch 197/200] Train Loss: 0.1488, Train Accuracy: 0.9688\n",
      "[Epoch 197/200] Val Loss: 0.2020, Val Accuracy: 0.9219\n",
      "[Epoch 198/200] Train Loss: 0.1185, Train Accuracy: 0.9938\n",
      "[Epoch 198/200] Val Loss: 0.1562, Val Accuracy: 0.9531\n",
      "[Epoch 199/200] Train Loss: 0.1477, Train Accuracy: 0.9688\n",
      "[Epoch 199/200] Val Loss: 0.2334, Val Accuracy: 0.9062\n",
      "[Epoch 200/200] Train Loss: 0.1610, Train Accuracy: 0.9681\n",
      "[Epoch 200/200] Val Loss: 0.1605, Val Accuracy: 0.9531\n"
     ]
    }
   ],
   "source": [
    "from binn import BINN, BINNDataLoader, BINNTrainer\n",
    "import pandas as pd\n",
    "\n",
    "# Load your data\n",
    "data_matrix = pd.read_csv(\"../data/test_qm.csv\")\n",
    "design_matrix = pd.read_csv(\"../data/design_matrix.tsv\", sep=\"\\t\")\n",
    "\n",
    "# Initialize BINN and handler\n",
    "binn = BINN(data_matrix=data_matrix, use_reactome=True, n_layers=4, dropout=0.2)\n",
    "\n",
    "# Initialize DataLoader\n",
    "binn_dataloader = BINNDataLoader()\n",
    "\n",
    "# Align data to the BINN network\n",
    "aligned_data = binn_dataloader.align_to_network(data_matrix, binn)\n",
    "\n",
    "# Prepare training data\n",
    "data_splits = binn_dataloader.prepare_training_data(\n",
    "    aligned_data=aligned_data,\n",
    "    design_matrix=design_matrix,\n",
    "    group_column=\"group\",\n",
    "    sample_column=\"sample\",\n",
    "    validation_split=0.2,\n",
    ")\n",
    "\n",
    "# Create PyTorch DataLoaders\n",
    "train_loader = binn_dataloader.create_dataloader(*data_splits[\"train\"], batch_size=32)\n",
    "val_loader = None\n",
    "if \"val\" in data_splits:\n",
    "    val_loader = binn_dataloader.create_dataloader(*data_splits[\"val\"], batch_size=32)\n",
    "\n",
    "# Train the model\n",
    "trainer = BINNTrainer(binn)\n",
    "trainer.train(dataloaders={\"train\": train_loader, \"val\": val_loader}, num_epochs=200)"
   ]
  },
  {
   "cell_type": "code",
   "execution_count": 4,
   "metadata": {},
   "outputs": [],
   "source": [
    "from binn import BINNExplainer\n",
    "\n",
    "explainer = BINNExplainer(binn)"
   ]
  },
  {
   "cell_type": "code",
   "execution_count": 5,
   "metadata": {},
   "outputs": [
    {
     "data": {
      "text/html": [
       "<div>\n",
       "<style scoped>\n",
       "    .dataframe tbody tr th:only-of-type {\n",
       "        vertical-align: middle;\n",
       "    }\n",
       "\n",
       "    .dataframe tbody tr th {\n",
       "        vertical-align: top;\n",
       "    }\n",
       "\n",
       "    .dataframe thead th {\n",
       "        text-align: right;\n",
       "    }\n",
       "</style>\n",
       "<table border=\"1\" class=\"dataframe\">\n",
       "  <thead>\n",
       "    <tr style=\"text-align: right;\">\n",
       "      <th></th>\n",
       "      <th>source</th>\n",
       "      <th>target</th>\n",
       "      <th>source name</th>\n",
       "      <th>target name</th>\n",
       "      <th>value</th>\n",
       "      <th>type</th>\n",
       "      <th>source layer</th>\n",
       "      <th>target layer</th>\n",
       "    </tr>\n",
       "  </thead>\n",
       "  <tbody>\n",
       "    <tr>\n",
       "      <th>0</th>\n",
       "      <td>1</td>\n",
       "      <td>497</td>\n",
       "      <td>A0M8Q6</td>\n",
       "      <td>R-HSA-166663</td>\n",
       "      <td>0.000000</td>\n",
       "      <td>0</td>\n",
       "      <td>0</td>\n",
       "      <td>1</td>\n",
       "    </tr>\n",
       "    <tr>\n",
       "      <th>1</th>\n",
       "      <td>1</td>\n",
       "      <td>497</td>\n",
       "      <td>A0M8Q6</td>\n",
       "      <td>R-HSA-166663</td>\n",
       "      <td>0.000000</td>\n",
       "      <td>1</td>\n",
       "      <td>0</td>\n",
       "      <td>1</td>\n",
       "    </tr>\n",
       "    <tr>\n",
       "      <th>2</th>\n",
       "      <td>1</td>\n",
       "      <td>954</td>\n",
       "      <td>A0M8Q6</td>\n",
       "      <td>R-HSA-198933</td>\n",
       "      <td>0.000000</td>\n",
       "      <td>0</td>\n",
       "      <td>0</td>\n",
       "      <td>1</td>\n",
       "    </tr>\n",
       "    <tr>\n",
       "      <th>3</th>\n",
       "      <td>1</td>\n",
       "      <td>954</td>\n",
       "      <td>A0M8Q6</td>\n",
       "      <td>R-HSA-198933</td>\n",
       "      <td>0.000000</td>\n",
       "      <td>1</td>\n",
       "      <td>0</td>\n",
       "      <td>1</td>\n",
       "    </tr>\n",
       "    <tr>\n",
       "      <th>4</th>\n",
       "      <td>1</td>\n",
       "      <td>539</td>\n",
       "      <td>A0M8Q6</td>\n",
       "      <td>R-HSA-2029481</td>\n",
       "      <td>0.000000</td>\n",
       "      <td>0</td>\n",
       "      <td>0</td>\n",
       "      <td>1</td>\n",
       "    </tr>\n",
       "    <tr>\n",
       "      <th>...</th>\n",
       "      <td>...</td>\n",
       "      <td>...</td>\n",
       "      <td>...</td>\n",
       "      <td>...</td>\n",
       "      <td>...</td>\n",
       "      <td>...</td>\n",
       "      <td>...</td>\n",
       "      <td>...</td>\n",
       "    </tr>\n",
       "    <tr>\n",
       "      <th>6901</th>\n",
       "      <td>1319</td>\n",
       "      <td>0</td>\n",
       "      <td>R-HSA-9612973</td>\n",
       "      <td>root</td>\n",
       "      <td>0.306590</td>\n",
       "      <td>1</td>\n",
       "      <td>4</td>\n",
       "      <td>5</td>\n",
       "    </tr>\n",
       "    <tr>\n",
       "      <th>6902</th>\n",
       "      <td>1320</td>\n",
       "      <td>0</td>\n",
       "      <td>R-HSA-9709957</td>\n",
       "      <td>root</td>\n",
       "      <td>0.044687</td>\n",
       "      <td>0</td>\n",
       "      <td>4</td>\n",
       "      <td>5</td>\n",
       "    </tr>\n",
       "    <tr>\n",
       "      <th>6903</th>\n",
       "      <td>1320</td>\n",
       "      <td>0</td>\n",
       "      <td>R-HSA-9709957</td>\n",
       "      <td>root</td>\n",
       "      <td>0.014266</td>\n",
       "      <td>1</td>\n",
       "      <td>4</td>\n",
       "      <td>5</td>\n",
       "    </tr>\n",
       "    <tr>\n",
       "      <th>6904</th>\n",
       "      <td>1321</td>\n",
       "      <td>0</td>\n",
       "      <td>R-HSA-9748784</td>\n",
       "      <td>root</td>\n",
       "      <td>0.028765</td>\n",
       "      <td>0</td>\n",
       "      <td>4</td>\n",
       "      <td>5</td>\n",
       "    </tr>\n",
       "    <tr>\n",
       "      <th>6905</th>\n",
       "      <td>1321</td>\n",
       "      <td>0</td>\n",
       "      <td>R-HSA-9748784</td>\n",
       "      <td>root</td>\n",
       "      <td>0.120597</td>\n",
       "      <td>1</td>\n",
       "      <td>4</td>\n",
       "      <td>5</td>\n",
       "    </tr>\n",
       "  </tbody>\n",
       "</table>\n",
       "<p>6906 rows × 8 columns</p>\n",
       "</div>"
      ],
      "text/plain": [
       "      source  target    source name    target name     value  type  \\\n",
       "0          1     497         A0M8Q6   R-HSA-166663  0.000000     0   \n",
       "1          1     497         A0M8Q6   R-HSA-166663  0.000000     1   \n",
       "2          1     954         A0M8Q6   R-HSA-198933  0.000000     0   \n",
       "3          1     954         A0M8Q6   R-HSA-198933  0.000000     1   \n",
       "4          1     539         A0M8Q6  R-HSA-2029481  0.000000     0   \n",
       "...      ...     ...            ...            ...       ...   ...   \n",
       "6901    1319       0  R-HSA-9612973           root  0.306590     1   \n",
       "6902    1320       0  R-HSA-9709957           root  0.044687     0   \n",
       "6903    1320       0  R-HSA-9709957           root  0.014266     1   \n",
       "6904    1321       0  R-HSA-9748784           root  0.028765     0   \n",
       "6905    1321       0  R-HSA-9748784           root  0.120597     1   \n",
       "\n",
       "      source layer  target layer  \n",
       "0                0             1  \n",
       "1                0             1  \n",
       "2                0             1  \n",
       "3                0             1  \n",
       "4                0             1  \n",
       "...            ...           ...  \n",
       "6901             4             5  \n",
       "6902             4             5  \n",
       "6903             4             5  \n",
       "6904             4             5  \n",
       "6905             4             5  \n",
       "\n",
       "[6906 rows x 8 columns]"
      ]
     },
     "execution_count": 5,
     "metadata": {},
     "output_type": "execute_result"
    }
   ],
   "source": [
    "import torch\n",
    "\n",
    "test_data = torch.Tensor(X[5:10])\n",
    "background_data = torch.Tensor(X[0:5])\n",
    "\n",
    "importance_df = explainer.explain(test_data, background_data)\n",
    "importance_df"
   ]
  },
  {
   "cell_type": "code",
   "execution_count": 6,
   "metadata": {},
   "outputs": [],
   "source": [
    "from binn import ImportanceNetwork\n",
    "\n",
    "IG = ImportanceNetwork(importance_df, norm_method=\"fan\")"
   ]
  },
  {
   "cell_type": "code",
   "execution_count": 7,
   "metadata": {},
   "outputs": [
    {
     "data": {
      "application/vnd.plotly.v1+json": {
       "config": {
        "plotlyServerURL": "https://plot.ly"
       },
       "data": [
        {
         "arrangement": "snap",
         "link": {
          "color": [
           "rgba(103.127429076, 136.334090064, 237.660487722, 0.75)",
           "rgba(75.15320018999999, 100.353192084, 212.767962616, 0.75)",
           "rgba(64.4289623, 84.87338085, 199.834581615, 0.75)",
           "rgba(159.299325591, 190.82121424500002, 254.673463723, 0.75)",
           "rgba(242.49368131000003, 200.6531335, 179.713974115, 0.75)",
           "rgba(243.414284702, 198.658913276, 176.595369251, 0.75)",
           "rgba(199.422524862, 214.930374228, 240.459860034, 0.75)",
           "rgba(222.717582051, 98.67470795999999, 78.114778314, 0.75)",
           "rgba(179.94665529, 3.9668208, 38.30936706, 0.75)",
           "rgba(85.04007224200001, 113.79763094799999, 222.985303276, 0.75)",
           "rgba(85.04007224200001, 113.79763094799999, 222.985303276, 0.75)",
           "rgba(179.94665529, 3.9668208, 38.30936706, 0.75)",
           "rgba(188.40062870999998, 209.755763565, 246.906571275, 0.75)",
           "rgba(179.94665529, 3.9668208, 38.30936706, 0.75)",
           "rgba(111.132775608, 145.530362304, 242.687932227, 0.75)",
           "rgba(111.132775608, 145.530362304, 242.687932227, 0.75)",
           "rgba(113.839813816, 148.500888768, 244.130192899, 0.75)",
           "rgba(95.25586998, 126.86216988000001, 231.91417923, 0.75)",
           "rgba(182.032385294, 206.25857104099998, 249.743553731, 0.75)",
           "rgba(141.34952682799997, 175.97473785999998, 253.8564648, 0.75)",
           "rgba(141.34952682799997, 175.97473785999998, 253.8564648, 0.75)",
           "rgba(179.94665529, 3.9668208, 38.30936706, 0.75)",
           "rgba(234.440877171, 211.9745445, 199.632775764, 0.75)",
           "rgb(236,236,236, 0.75)",
           "rgb(236,236,236, 0.75)",
           "rgb(236,236,236, 0.75)",
           "rgb(236,236,236, 0.75)",
           "rgb(236,236,236, 0.75)",
           "rgba(227.413307491, 217.253185646, 211.416744935, 0.75)",
           "rgba(179.94665529, 3.9668208, 38.30936706, 0.75)",
           "rgba(139.96342393199998, 174.70141421999998, 253.56668080800003, 0.75)",
           "rgb(236,236,236, 0.75)",
           "rgba(221.194046947, 220.416032942, 219.96362781500002, 0.75)",
           "rgb(236,236,236, 0.75)",
           "rgba(179.94665529, 3.9668208, 38.30936706, 0.75)",
           "rgb(236,236,236, 0.75)",
           "rgb(236,236,236, 0.75)",
           "rgb(236,236,236, 0.75)",
           "rgb(236,236,236, 0.75)",
           "rgb(236,236,236, 0.75)",
           "rgb(236,236,236, 0.75)",
           "rgb(236,236,236, 0.75)"
          ],
          "source": [
           1,
           2,
           3,
           4,
           5,
           6,
           7,
           8,
           9,
           10,
           10,
           11,
           12,
           13,
           14,
           14,
           15,
           16,
           17,
           18,
           18,
           19,
           20,
           21,
           21,
           21,
           21,
           21,
           22,
           23,
           24,
           25,
           26,
           27,
           28,
           29,
           29,
           30,
           30,
           30,
           30,
           30
          ],
          "target": [
           21,
           29,
           25,
           29,
           0,
           0,
           0,
           0,
           0,
           25,
           15,
           29,
           27,
           19,
           25,
           26,
           12,
           29,
           24,
           25,
           4,
           8,
           13,
           9,
           7,
           5,
           6,
           8,
           27,
           25,
           27,
           17,
           28,
           0,
           27,
           24,
           22,
           16,
           20,
           1,
           11,
           2
          ],
          "value": [
           0.14133585555579006,
           0.09081198795960847,
           0.0414710601697268,
           0.16689158402584064,
           0.1919924759374548,
           0.19270518221788946,
           0.17687164971478103,
           0.21380758287654975,
           0.22462310925332496,
           0.08568826746868585,
           0.042844133734342926,
           0.3857301954028365,
           0.1698721897414183,
           0.3118498264450642,
           0.14012820301728107,
           0.046709401005760355,
           0.14736116965949175,
           0.1100804252550051,
           0.18680149362128073,
           0.1988652827683908,
           0.0497163206920977,
           0.24538893553717148,
           0.2464858073567092,
           0.03242533003801106,
           0.014444326563408143,
           0.022320985325096757,
           0.02315808707037178,
           0.007651271003112253,
           0.18693701842508267,
           0.3945773311437145,
           0.15266537454464083,
           0.1,
           0.21265165471837316,
           0.09999999999999999,
           0.24513648175168676,
           0.06182677524848057,
           0.03817322475151944,
           0.02151529008121763,
           0.02151529008121763,
           0.02151529008121763,
           0.015213212771072147,
           0.02024091698527496,
           0.14133585555579006,
           0.09081198795960847,
           0.0414710601697268,
           0.16689158402584064,
           0.1919924759374548,
           0.19270518221788946,
           0.17687164971478103,
           0.21380758287654975,
           0.22462310925332496,
           0.08568826746868585,
           0.042844133734342926,
           0.3857301954028365,
           0.1698721897414183,
           0.3118498264450642,
           0.14012820301728107,
           0.046709401005760355,
           0.14736116965949175,
           0.1100804252550051,
           0.18680149362128073,
           0.1988652827683908,
           0.0497163206920977,
           0.24538893553717148,
           0.2464858073567092,
           0.03242533003801106,
           0.014444326563408143,
           0.022320985325096757,
           0.02315808707037178,
           0.007651271003112253,
           0.18693701842508267,
           0.3945773311437145,
           0.15266537454464083,
           0.1,
           0.21265165471837316,
           0.09999999999999999,
           0.24513648175168676,
           0.06182677524848057,
           0.03817322475151944,
           0.02151529008121763,
           0.02151529008121763,
           0.02151529008121763,
           0.015213212771072147,
           0.02024091698527496,
           0.14133585555579006,
           0.09081198795960847,
           0.0414710601697268,
           0.16689158402584064,
           0.1919924759374548,
           0.19270518221788946,
           0.17687164971478103,
           0.21380758287654975,
           0.22462310925332496,
           0.08568826746868585,
           0.042844133734342926,
           0.3857301954028365,
           0.1698721897414183,
           0.3118498264450642,
           0.14012820301728107,
           0.046709401005760355,
           0.14736116965949175,
           0.1100804252550051,
           0.18680149362128073,
           0.1988652827683908,
           0.0497163206920977,
           0.24538893553717148,
           0.2464858073567092,
           0.03242533003801106,
           0.014444326563408143,
           0.022320985325096757,
           0.02315808707037178,
           0.007651271003112253,
           0.18693701842508267,
           0.3945773311437145,
           0.15266537454464083,
           0.1,
           0.21265165471837316,
           0.09999999999999999,
           0.24513648175168676,
           0.06182677524848057,
           0.03817322475151944,
           0.02151529008121763,
           0.02151529008121763,
           0.02151529008121763,
           0.015213212771072147,
           0.02024091698527496,
           0.14133585555579006,
           0.09081198795960847,
           0.0414710601697268,
           0.16689158402584064,
           0.1919924759374548,
           0.19270518221788946,
           0.17687164971478103,
           0.21380758287654975,
           0.22462310925332496,
           0.08568826746868585,
           0.042844133734342926,
           0.3857301954028365,
           0.1698721897414183,
           0.3118498264450642,
           0.14012820301728107,
           0.046709401005760355,
           0.14736116965949175,
           0.1100804252550051,
           0.18680149362128073,
           0.1988652827683908,
           0.0497163206920977,
           0.24538893553717148,
           0.2464858073567092,
           0.03242533003801106,
           0.014444326563408143,
           0.022320985325096757,
           0.02315808707037178,
           0.007651271003112253,
           0.18693701842508267,
           0.3945773311437145,
           0.15266537454464083,
           0.1,
           0.21265165471837316,
           0.09999999999999999,
           0.24513648175168676,
           0.06182677524848057,
           0.03817322475151944,
           0.02151529008121763,
           0.02151529008121763,
           0.02151529008121763,
           0.015213212771072147,
           0.02024091698527496,
           0.14133585555579006,
           0.09081198795960847,
           0.0414710601697268,
           0.16689158402584064,
           0.1919924759374548,
           0.19270518221788946,
           0.17687164971478103,
           0.21380758287654975,
           0.22462310925332496,
           0.08568826746868585,
           0.042844133734342926,
           0.3857301954028365,
           0.1698721897414183,
           0.3118498264450642,
           0.14012820301728107,
           0.046709401005760355,
           0.14736116965949175,
           0.1100804252550051,
           0.18680149362128073,
           0.1988652827683908,
           0.0497163206920977,
           0.24538893553717148,
           0.2464858073567092,
           0.03242533003801106,
           0.014444326563408143,
           0.022320985325096757,
           0.02315808707037178,
           0.007651271003112253,
           0.18693701842508267,
           0.3945773311437145,
           0.15266537454464083,
           0.1,
           0.21265165471837316,
           0.09999999999999999,
           0.24513648175168676,
           0.06182677524848057,
           0.03817322475151944,
           0.02151529008121763,
           0.02151529008121763,
           0.02151529008121763,
           0.015213212771072147,
           0.02024091698527496,
           0.14133585555579006,
           0.09081198795960847,
           0.0414710601697268,
           0.16689158402584064,
           0.1919924759374548,
           0.19270518221788946,
           0.17687164971478103,
           0.21380758287654975,
           0.22462310925332496,
           0.08568826746868585,
           0.042844133734342926,
           0.3857301954028365,
           0.1698721897414183,
           0.3118498264450642,
           0.14012820301728107,
           0.046709401005760355,
           0.14736116965949175,
           0.1100804252550051,
           0.18680149362128073,
           0.1988652827683908,
           0.0497163206920977,
           0.24538893553717148,
           0.2464858073567092,
           0.03242533003801106,
           0.014444326563408143,
           0.022320985325096757,
           0.02315808707037178,
           0.007651271003112253,
           0.18693701842508267,
           0.3945773311437145,
           0.15266537454464083,
           0.1,
           0.21265165471837316,
           0.09999999999999999,
           0.24513648175168676,
           0.06182677524848057,
           0.03817322475151944,
           0.02151529008121763,
           0.02151529008121763,
           0.02151529008121763,
           0.015213212771072147,
           0.02024091698527496,
           0.14133585555579006,
           0.09081198795960847,
           0.0414710601697268,
           0.16689158402584064,
           0.1919924759374548,
           0.19270518221788946,
           0.17687164971478103,
           0.21380758287654975,
           0.22462310925332496,
           0.08568826746868585,
           0.042844133734342926,
           0.3857301954028365,
           0.1698721897414183,
           0.3118498264450642,
           0.14012820301728107,
           0.046709401005760355,
           0.14736116965949175,
           0.1100804252550051,
           0.18680149362128073,
           0.1988652827683908,
           0.0497163206920977,
           0.24538893553717148,
           0.2464858073567092,
           0.03242533003801106,
           0.014444326563408143,
           0.022320985325096757,
           0.02315808707037178,
           0.007651271003112253,
           0.18693701842508267,
           0.3945773311437145,
           0.15266537454464083,
           0.1,
           0.21265165471837316,
           0.09999999999999999,
           0.24513648175168676,
           0.06182677524848057,
           0.03817322475151944,
           0.02151529008121763,
           0.02151529008121763,
           0.02151529008121763,
           0.015213212771072147,
           0.02024091698527496,
           0.14133585555579006,
           0.09081198795960847,
           0.0414710601697268,
           0.16689158402584064,
           0.1919924759374548,
           0.19270518221788946,
           0.17687164971478103,
           0.21380758287654975,
           0.22462310925332496,
           0.08568826746868585,
           0.042844133734342926,
           0.3857301954028365,
           0.1698721897414183,
           0.3118498264450642,
           0.14012820301728107,
           0.046709401005760355,
           0.14736116965949175,
           0.1100804252550051,
           0.18680149362128073,
           0.1988652827683908,
           0.0497163206920977,
           0.24538893553717148,
           0.2464858073567092,
           0.03242533003801106,
           0.014444326563408143,
           0.022320985325096757,
           0.02315808707037178,
           0.007651271003112253,
           0.18693701842508267,
           0.3945773311437145,
           0.15266537454464083,
           0.1,
           0.21265165471837316,
           0.09999999999999999,
           0.24513648175168676,
           0.06182677524848057,
           0.03817322475151944,
           0.02151529008121763,
           0.02151529008121763,
           0.02151529008121763,
           0.015213212771072147,
           0.02024091698527496,
           0.14133585555579006,
           0.09081198795960847,
           0.0414710601697268,
           0.16689158402584064,
           0.1919924759374548,
           0.19270518221788946,
           0.17687164971478103,
           0.21380758287654975,
           0.22462310925332496,
           0.08568826746868585,
           0.042844133734342926,
           0.3857301954028365,
           0.1698721897414183,
           0.3118498264450642,
           0.14012820301728107,
           0.046709401005760355,
           0.14736116965949175,
           0.1100804252550051,
           0.18680149362128073,
           0.1988652827683908,
           0.0497163206920977,
           0.24538893553717148,
           0.2464858073567092,
           0.03242533003801106,
           0.014444326563408143,
           0.022320985325096757,
           0.02315808707037178,
           0.007651271003112253,
           0.18693701842508267,
           0.3945773311437145,
           0.15266537454464083,
           0.1,
           0.21265165471837316,
           0.09999999999999999,
           0.24513648175168676,
           0.06182677524848057,
           0.03817322475151944,
           0.02151529008121763,
           0.02151529008121763,
           0.02151529008121763,
           0.015213212771072147,
           0.02024091698527496,
           0.14133585555579006,
           0.09081198795960847,
           0.0414710601697268,
           0.16689158402584064,
           0.1919924759374548,
           0.19270518221788946,
           0.17687164971478103,
           0.21380758287654975,
           0.22462310925332496,
           0.08568826746868585,
           0.042844133734342926,
           0.3857301954028365,
           0.1698721897414183,
           0.3118498264450642,
           0.14012820301728107,
           0.046709401005760355,
           0.14736116965949175,
           0.1100804252550051,
           0.18680149362128073,
           0.1988652827683908,
           0.0497163206920977,
           0.24538893553717148,
           0.2464858073567092,
           0.03242533003801106,
           0.014444326563408143,
           0.022320985325096757,
           0.02315808707037178,
           0.007651271003112253,
           0.18693701842508267,
           0.3945773311437145,
           0.15266537454464083,
           0.1,
           0.21265165471837316,
           0.09999999999999999,
           0.24513648175168676,
           0.06182677524848057,
           0.03817322475151944,
           0.02151529008121763,
           0.02151529008121763,
           0.02151529008121763,
           0.015213212771072147,
           0.02024091698527496
          ]
         },
         "node": {
          "color": [
           "rgba(0,0,0,1)",
           "rgba(103.127429076, 136.334090064, 237.660487722, 0.75)",
           "rgba(75.15320018999999, 100.353192084, 212.767962616, 0.75)",
           "rgba(64.4289623, 84.87338085, 199.834581615, 0.75)",
           "rgba(159.299325591, 190.82121424500002, 254.673463723, 0.75)",
           "rgba(242.49368131000003, 200.6531335, 179.713974115, 0.75)",
           "rgba(243.414284702, 198.658913276, 176.595369251, 0.75)",
           "rgba(199.422524862, 214.930374228, 240.459860034, 0.75)",
           "rgba(222.717582051, 98.67470795999999, 78.114778314, 0.75)",
           "rgba(179.94665529, 3.9668208, 38.30936706, 0.75)",
           "rgba(85.04007224200001, 113.79763094799999, 222.985303276, 0.75)",
           "rgba(179.94665529, 3.9668208, 38.30936706, 0.75)",
           "rgba(188.40062870999998, 209.755763565, 246.906571275, 0.75)",
           "rgba(179.94665529, 3.9668208, 38.30936706, 0.75)",
           "rgba(111.132775608, 145.530362304, 242.687932227, 0.75)",
           "rgba(113.839813816, 148.500888768, 244.130192899, 0.75)",
           "rgba(95.25586998, 126.86216988000001, 231.91417923, 0.75)",
           "rgba(182.032385294, 206.25857104099998, 249.743553731, 0.75)",
           "rgba(141.34952682799997, 175.97473785999998, 253.8564648, 0.75)",
           "rgba(179.94665529, 3.9668208, 38.30936706, 0.75)",
           "rgba(234.440877171, 211.9745445, 199.632775764, 0.75)",
           "rgb(236,236,236, 0.75)",
           "rgba(227.413307491, 217.253185646, 211.416744935, 0.75)",
           "rgba(179.94665529, 3.9668208, 38.30936706, 0.75)",
           "rgba(139.96342393199998, 174.70141421999998, 253.56668080800003, 0.75)",
           "rgb(236,236,236, 0.75)",
           "rgba(221.194046947, 220.416032942, 219.96362781500002, 0.75)",
           "rgb(236,236,236, 0.75)",
           "rgba(179.94665529, 3.9668208, 38.30936706, 0.75)",
           "rgb(236,236,236, 0.75)",
           "rgb(236,236,236, 0.75)"
          ],
          "label": [
           "Output",
           "R-HSA-1221632",
           "R-HSA-442755",
           "O95445",
           "R-HSA-446388",
           "R-HSA-1500931",
           "R-HSA-397014",
           "R-HSA-4839726",
           "R-HSA-69306",
           "R-HSA-9612973",
           "P07327",
           "R-HSA-2173793",
           "R-HSA-2161522",
           "R-HSA-68867",
           "P09110",
           "R-HSA-2161541",
           "R-HSA-606279",
           "R-HSA-76005",
           "P12814",
           "R-HSA-69002",
           "R-HSA-68616",
           "Other connections 4",
           "R-HSA-73857",
           "P68871",
           "R-HSA-76002",
           "Other connections 2",
           "R-HSA-9033500",
           "Other connections 5",
           "R-HSA-9033241",
           "Other connections 3",
           "Other connections 1"
          ],
          "line": {
           "color": "white",
           "width": 0
          },
          "pad": 15,
          "thickness": 15,
          "x": [
           0.85,
           [
            0.33499999999999996
           ],
           [
            0.16833333333333333
           ],
           [
            0.0016666666666666668
           ],
           [
            0.16833333333333333
           ],
           [
            0.6683333333333333
           ],
           [
            0.6683333333333333
           ],
           [
            0.6683333333333333
           ],
           [
            0.6683333333333333
           ],
           [
            0.6683333333333333
           ],
           [
            0.0016666666666666668
           ],
           [
            0.16833333333333333
           ],
           [
            0.5016666666666666
           ],
           [
            0.33499999999999996
           ],
           [
            0.0016666666666666668
           ],
           [
            0.33499999999999996
           ],
           [
            0.16833333333333333
           ],
           [
            0.33499999999999996
           ],
           [
            0.0016666666666666668
           ],
           [
            0.5016666666666666
           ],
           [
            0.16833333333333333
           ],
           [
            0.5016666666666666
           ],
           [
            0.5016666666666666
           ],
           [
            0.0016666666666666668
           ],
           [
            0.5016666666666666
           ],
           [
            0.16833333333333333
           ],
           [
            0.33499999999999996
           ],
           [
            0.6683333333333333
           ],
           [
            0.5016666666666666
           ],
           [
            0.33499999999999996
           ],
           [
            0.0016666666666666668
           ]
          ],
          "y": [
           0.5,
           [
            0.752
           ],
           [
            0.752
           ],
           [
            0.752
           ],
           [
            0.352
           ],
           [
            0.5519999999999999
           ],
           [
            0.352
           ],
           [
            0.752
           ],
           [
            0.15199999999999997
           ],
           [
            -0.04800000000000004
           ],
           [
            0.5519999999999999
           ],
           [
            -0.04800000000000004
           ],
           [
            0.5519999999999999
           ],
           [
            -0.04800000000000004
           ],
           [
            0.352
           ],
           [
            0.5519999999999999
           ],
           [
            0.5519999999999999
           ],
           [
            0.352
           ],
           [
            0.15199999999999997
           ],
           [
            -0.04800000000000004
           ],
           [
            0.15199999999999997
           ],
           [
            0.9
           ],
           [
            0.352
           ],
           [
            -0.04800000000000004
           ],
           [
            0.752
           ],
           [
            0.9
           ],
           [
            0.15199999999999997
           ],
           [
            0.9
           ],
           [
            0.15199999999999997
           ],
           [
            0.9
           ],
           [
            0.9
           ]
          ]
         },
         "orientation": "h",
         "textfont": {
          "family": "Arial",
          "size": 15
         },
         "type": "sankey"
        }
       ],
       "layout": {
        "template": {
         "data": {
          "bar": [
           {
            "error_x": {
             "color": "#2a3f5f"
            },
            "error_y": {
             "color": "#2a3f5f"
            },
            "marker": {
             "line": {
              "color": "#E5ECF6",
              "width": 0.5
             },
             "pattern": {
              "fillmode": "overlay",
              "size": 10,
              "solidity": 0.2
             }
            },
            "type": "bar"
           }
          ],
          "barpolar": [
           {
            "marker": {
             "line": {
              "color": "#E5ECF6",
              "width": 0.5
             },
             "pattern": {
              "fillmode": "overlay",
              "size": 10,
              "solidity": 0.2
             }
            },
            "type": "barpolar"
           }
          ],
          "carpet": [
           {
            "aaxis": {
             "endlinecolor": "#2a3f5f",
             "gridcolor": "white",
             "linecolor": "white",
             "minorgridcolor": "white",
             "startlinecolor": "#2a3f5f"
            },
            "baxis": {
             "endlinecolor": "#2a3f5f",
             "gridcolor": "white",
             "linecolor": "white",
             "minorgridcolor": "white",
             "startlinecolor": "#2a3f5f"
            },
            "type": "carpet"
           }
          ],
          "choropleth": [
           {
            "colorbar": {
             "outlinewidth": 0,
             "ticks": ""
            },
            "type": "choropleth"
           }
          ],
          "contour": [
           {
            "colorbar": {
             "outlinewidth": 0,
             "ticks": ""
            },
            "colorscale": [
             [
              0,
              "#0d0887"
             ],
             [
              0.1111111111111111,
              "#46039f"
             ],
             [
              0.2222222222222222,
              "#7201a8"
             ],
             [
              0.3333333333333333,
              "#9c179e"
             ],
             [
              0.4444444444444444,
              "#bd3786"
             ],
             [
              0.5555555555555556,
              "#d8576b"
             ],
             [
              0.6666666666666666,
              "#ed7953"
             ],
             [
              0.7777777777777778,
              "#fb9f3a"
             ],
             [
              0.8888888888888888,
              "#fdca26"
             ],
             [
              1,
              "#f0f921"
             ]
            ],
            "type": "contour"
           }
          ],
          "contourcarpet": [
           {
            "colorbar": {
             "outlinewidth": 0,
             "ticks": ""
            },
            "type": "contourcarpet"
           }
          ],
          "heatmap": [
           {
            "colorbar": {
             "outlinewidth": 0,
             "ticks": ""
            },
            "colorscale": [
             [
              0,
              "#0d0887"
             ],
             [
              0.1111111111111111,
              "#46039f"
             ],
             [
              0.2222222222222222,
              "#7201a8"
             ],
             [
              0.3333333333333333,
              "#9c179e"
             ],
             [
              0.4444444444444444,
              "#bd3786"
             ],
             [
              0.5555555555555556,
              "#d8576b"
             ],
             [
              0.6666666666666666,
              "#ed7953"
             ],
             [
              0.7777777777777778,
              "#fb9f3a"
             ],
             [
              0.8888888888888888,
              "#fdca26"
             ],
             [
              1,
              "#f0f921"
             ]
            ],
            "type": "heatmap"
           }
          ],
          "heatmapgl": [
           {
            "colorbar": {
             "outlinewidth": 0,
             "ticks": ""
            },
            "colorscale": [
             [
              0,
              "#0d0887"
             ],
             [
              0.1111111111111111,
              "#46039f"
             ],
             [
              0.2222222222222222,
              "#7201a8"
             ],
             [
              0.3333333333333333,
              "#9c179e"
             ],
             [
              0.4444444444444444,
              "#bd3786"
             ],
             [
              0.5555555555555556,
              "#d8576b"
             ],
             [
              0.6666666666666666,
              "#ed7953"
             ],
             [
              0.7777777777777778,
              "#fb9f3a"
             ],
             [
              0.8888888888888888,
              "#fdca26"
             ],
             [
              1,
              "#f0f921"
             ]
            ],
            "type": "heatmapgl"
           }
          ],
          "histogram": [
           {
            "marker": {
             "pattern": {
              "fillmode": "overlay",
              "size": 10,
              "solidity": 0.2
             }
            },
            "type": "histogram"
           }
          ],
          "histogram2d": [
           {
            "colorbar": {
             "outlinewidth": 0,
             "ticks": ""
            },
            "colorscale": [
             [
              0,
              "#0d0887"
             ],
             [
              0.1111111111111111,
              "#46039f"
             ],
             [
              0.2222222222222222,
              "#7201a8"
             ],
             [
              0.3333333333333333,
              "#9c179e"
             ],
             [
              0.4444444444444444,
              "#bd3786"
             ],
             [
              0.5555555555555556,
              "#d8576b"
             ],
             [
              0.6666666666666666,
              "#ed7953"
             ],
             [
              0.7777777777777778,
              "#fb9f3a"
             ],
             [
              0.8888888888888888,
              "#fdca26"
             ],
             [
              1,
              "#f0f921"
             ]
            ],
            "type": "histogram2d"
           }
          ],
          "histogram2dcontour": [
           {
            "colorbar": {
             "outlinewidth": 0,
             "ticks": ""
            },
            "colorscale": [
             [
              0,
              "#0d0887"
             ],
             [
              0.1111111111111111,
              "#46039f"
             ],
             [
              0.2222222222222222,
              "#7201a8"
             ],
             [
              0.3333333333333333,
              "#9c179e"
             ],
             [
              0.4444444444444444,
              "#bd3786"
             ],
             [
              0.5555555555555556,
              "#d8576b"
             ],
             [
              0.6666666666666666,
              "#ed7953"
             ],
             [
              0.7777777777777778,
              "#fb9f3a"
             ],
             [
              0.8888888888888888,
              "#fdca26"
             ],
             [
              1,
              "#f0f921"
             ]
            ],
            "type": "histogram2dcontour"
           }
          ],
          "mesh3d": [
           {
            "colorbar": {
             "outlinewidth": 0,
             "ticks": ""
            },
            "type": "mesh3d"
           }
          ],
          "parcoords": [
           {
            "line": {
             "colorbar": {
              "outlinewidth": 0,
              "ticks": ""
             }
            },
            "type": "parcoords"
           }
          ],
          "pie": [
           {
            "automargin": true,
            "type": "pie"
           }
          ],
          "scatter": [
           {
            "fillpattern": {
             "fillmode": "overlay",
             "size": 10,
             "solidity": 0.2
            },
            "type": "scatter"
           }
          ],
          "scatter3d": [
           {
            "line": {
             "colorbar": {
              "outlinewidth": 0,
              "ticks": ""
             }
            },
            "marker": {
             "colorbar": {
              "outlinewidth": 0,
              "ticks": ""
             }
            },
            "type": "scatter3d"
           }
          ],
          "scattercarpet": [
           {
            "marker": {
             "colorbar": {
              "outlinewidth": 0,
              "ticks": ""
             }
            },
            "type": "scattercarpet"
           }
          ],
          "scattergeo": [
           {
            "marker": {
             "colorbar": {
              "outlinewidth": 0,
              "ticks": ""
             }
            },
            "type": "scattergeo"
           }
          ],
          "scattergl": [
           {
            "marker": {
             "colorbar": {
              "outlinewidth": 0,
              "ticks": ""
             }
            },
            "type": "scattergl"
           }
          ],
          "scattermapbox": [
           {
            "marker": {
             "colorbar": {
              "outlinewidth": 0,
              "ticks": ""
             }
            },
            "type": "scattermapbox"
           }
          ],
          "scatterpolar": [
           {
            "marker": {
             "colorbar": {
              "outlinewidth": 0,
              "ticks": ""
             }
            },
            "type": "scatterpolar"
           }
          ],
          "scatterpolargl": [
           {
            "marker": {
             "colorbar": {
              "outlinewidth": 0,
              "ticks": ""
             }
            },
            "type": "scatterpolargl"
           }
          ],
          "scatterternary": [
           {
            "marker": {
             "colorbar": {
              "outlinewidth": 0,
              "ticks": ""
             }
            },
            "type": "scatterternary"
           }
          ],
          "surface": [
           {
            "colorbar": {
             "outlinewidth": 0,
             "ticks": ""
            },
            "colorscale": [
             [
              0,
              "#0d0887"
             ],
             [
              0.1111111111111111,
              "#46039f"
             ],
             [
              0.2222222222222222,
              "#7201a8"
             ],
             [
              0.3333333333333333,
              "#9c179e"
             ],
             [
              0.4444444444444444,
              "#bd3786"
             ],
             [
              0.5555555555555556,
              "#d8576b"
             ],
             [
              0.6666666666666666,
              "#ed7953"
             ],
             [
              0.7777777777777778,
              "#fb9f3a"
             ],
             [
              0.8888888888888888,
              "#fdca26"
             ],
             [
              1,
              "#f0f921"
             ]
            ],
            "type": "surface"
           }
          ],
          "table": [
           {
            "cells": {
             "fill": {
              "color": "#EBF0F8"
             },
             "line": {
              "color": "white"
             }
            },
            "header": {
             "fill": {
              "color": "#C8D4E3"
             },
             "line": {
              "color": "white"
             }
            },
            "type": "table"
           }
          ]
         },
         "layout": {
          "annotationdefaults": {
           "arrowcolor": "#2a3f5f",
           "arrowhead": 0,
           "arrowwidth": 1
          },
          "autotypenumbers": "strict",
          "coloraxis": {
           "colorbar": {
            "outlinewidth": 0,
            "ticks": ""
           }
          },
          "colorscale": {
           "diverging": [
            [
             0,
             "#8e0152"
            ],
            [
             0.1,
             "#c51b7d"
            ],
            [
             0.2,
             "#de77ae"
            ],
            [
             0.3,
             "#f1b6da"
            ],
            [
             0.4,
             "#fde0ef"
            ],
            [
             0.5,
             "#f7f7f7"
            ],
            [
             0.6,
             "#e6f5d0"
            ],
            [
             0.7,
             "#b8e186"
            ],
            [
             0.8,
             "#7fbc41"
            ],
            [
             0.9,
             "#4d9221"
            ],
            [
             1,
             "#276419"
            ]
           ],
           "sequential": [
            [
             0,
             "#0d0887"
            ],
            [
             0.1111111111111111,
             "#46039f"
            ],
            [
             0.2222222222222222,
             "#7201a8"
            ],
            [
             0.3333333333333333,
             "#9c179e"
            ],
            [
             0.4444444444444444,
             "#bd3786"
            ],
            [
             0.5555555555555556,
             "#d8576b"
            ],
            [
             0.6666666666666666,
             "#ed7953"
            ],
            [
             0.7777777777777778,
             "#fb9f3a"
            ],
            [
             0.8888888888888888,
             "#fdca26"
            ],
            [
             1,
             "#f0f921"
            ]
           ],
           "sequentialminus": [
            [
             0,
             "#0d0887"
            ],
            [
             0.1111111111111111,
             "#46039f"
            ],
            [
             0.2222222222222222,
             "#7201a8"
            ],
            [
             0.3333333333333333,
             "#9c179e"
            ],
            [
             0.4444444444444444,
             "#bd3786"
            ],
            [
             0.5555555555555556,
             "#d8576b"
            ],
            [
             0.6666666666666666,
             "#ed7953"
            ],
            [
             0.7777777777777778,
             "#fb9f3a"
            ],
            [
             0.8888888888888888,
             "#fdca26"
            ],
            [
             1,
             "#f0f921"
            ]
           ]
          },
          "colorway": [
           "#636efa",
           "#EF553B",
           "#00cc96",
           "#ab63fa",
           "#FFA15A",
           "#19d3f3",
           "#FF6692",
           "#B6E880",
           "#FF97FF",
           "#FECB52"
          ],
          "font": {
           "color": "#2a3f5f"
          },
          "geo": {
           "bgcolor": "white",
           "lakecolor": "white",
           "landcolor": "#E5ECF6",
           "showlakes": true,
           "showland": true,
           "subunitcolor": "white"
          },
          "hoverlabel": {
           "align": "left"
          },
          "hovermode": "closest",
          "mapbox": {
           "style": "light"
          },
          "paper_bgcolor": "white",
          "plot_bgcolor": "#E5ECF6",
          "polar": {
           "angularaxis": {
            "gridcolor": "white",
            "linecolor": "white",
            "ticks": ""
           },
           "bgcolor": "#E5ECF6",
           "radialaxis": {
            "gridcolor": "white",
            "linecolor": "white",
            "ticks": ""
           }
          },
          "scene": {
           "xaxis": {
            "backgroundcolor": "#E5ECF6",
            "gridcolor": "white",
            "gridwidth": 2,
            "linecolor": "white",
            "showbackground": true,
            "ticks": "",
            "zerolinecolor": "white"
           },
           "yaxis": {
            "backgroundcolor": "#E5ECF6",
            "gridcolor": "white",
            "gridwidth": 2,
            "linecolor": "white",
            "showbackground": true,
            "ticks": "",
            "zerolinecolor": "white"
           },
           "zaxis": {
            "backgroundcolor": "#E5ECF6",
            "gridcolor": "white",
            "gridwidth": 2,
            "linecolor": "white",
            "showbackground": true,
            "ticks": "",
            "zerolinecolor": "white"
           }
          },
          "shapedefaults": {
           "line": {
            "color": "#2a3f5f"
           }
          },
          "ternary": {
           "aaxis": {
            "gridcolor": "white",
            "linecolor": "white",
            "ticks": ""
           },
           "baxis": {
            "gridcolor": "white",
            "linecolor": "white",
            "ticks": ""
           },
           "bgcolor": "#E5ECF6",
           "caxis": {
            "gridcolor": "white",
            "linecolor": "white",
            "ticks": ""
           }
          },
          "title": {
           "x": 0.05
          },
          "xaxis": {
           "automargin": true,
           "gridcolor": "white",
           "linecolor": "white",
           "ticks": "",
           "title": {
            "standoff": 15
           },
           "zerolinecolor": "white",
           "zerolinewidth": 2
          },
          "yaxis": {
           "automargin": true,
           "gridcolor": "white",
           "linecolor": "white",
           "ticks": "",
           "title": {
            "standoff": 15
           },
           "zerolinecolor": "white",
           "zerolinewidth": 2
          }
         }
        }
       }
      }
     },
     "metadata": {},
     "output_type": "display_data"
    }
   ],
   "source": [
    "IG.plot_complete_sankey(\n",
    "    show_top_n=5,\n",
    "    multiclass=False, savename=\"img/complete_sankey.png\", node_cmap=\"coolwarm\", edge_cmap=\"coolwarm\"\n",
    ")"
   ]
  },
  {
   "cell_type": "code",
   "execution_count": 8,
   "metadata": {},
   "outputs": [
    {
     "data": {
      "application/vnd.plotly.v1+json": {
       "config": {
        "plotlyServerURL": "https://plot.ly"
       },
       "data": [
        {
         "arrangement": "snap",
         "link": {
          "color": [
           "rgba(58.6004535, 76.17308133, 192.189204015, 0.5)",
           "rgba(58.6004535, 76.17308133, 192.189204015, 0.5)",
           "rgba(75.15320018999999, 100.353192084, 212.767962616, 0.5)",
           "rgba(75.15320018999999, 100.353192084, 212.767962616, 0.5)",
           "rgba(62.09755878, 81.393261042, 196.77643057499998, 0.5)",
           "rgba(62.09755878, 81.393261042, 196.77643057499998, 0.5)",
           "rgba(81.30225771399999, 108.78428803599999, 219.26364929200003, 0.5)",
           "rgba(81.30225771399999, 108.78428803599999, 219.26364929200003, 0.5)",
           "rgba(58.6004535, 76.17308133, 192.189204015, 0.5)",
           "rgba(58.6004535, 76.17308133, 192.189204015, 0.5)",
           "rgba(90.109135644, 120.377507864, 227.60545308599998, 0.5)",
           "rgba(90.109135644, 120.377507864, 227.60545308599998, 0.5)",
           "rgba(198.231270878, 214.434909812, 241.268071906, 0.5)",
           "rgba(198.231270878, 214.434909812, 241.268071906, 0.5)",
           "rgba(123.38285404799998, 158.622711648, 248.576091663, 0.5)",
           "rgba(123.38285404799998, 158.622711648, 248.576091663, 0.5)",
           "rgba(127.507793952, 162.81965923200002, 250.172881647, 0.5)",
           "rgba(127.507793952, 162.81965923200002, 250.172881647, 0.5)",
           "rgba(145.507191404, 179.54783626, 254.28468192, 0.5)",
           "rgba(145.507191404, 179.54783626, 254.28468192, 0.5)",
           "rgba(60.93185702, 79.653201138, 195.24735505499999, 0.5)",
           "rgba(60.93185702, 79.653201138, 195.24735505499999, 0.5)",
           "rgba(64.4289623, 84.87338085, 199.834581615, 0.5)",
           "rgba(64.4289623, 84.87338085, 199.834581615, 0.5)",
           "rgba(65.59466406, 86.61344075400001, 201.36365713499998, 0.5)",
           "rgba(65.59466406, 86.61344075400001, 201.36365713499998, 0.5)",
           "rgba(64.4289623, 84.87338085, 199.834581615, 0.5)",
           "rgba(64.4289623, 84.87338085, 199.834581615, 0.5)",
           "rgba(185.88724279, 208.45335460500002, 248.16285543499998, 0.5)",
           "rgba(185.88724279, 208.45335460500002, 248.16285543499998, 0.5)",
           "rgba(239.27322086499998, 206.273720768, 188.996186332, 0.5)",
           "rgba(239.27322086499998, 206.273720768, 188.996186332, 0.5)",
           "rgba(65.59466406, 86.61344075400001, 201.36365713499998, 0.5)",
           "rgba(65.59466406, 86.61344075400001, 201.36365713499998, 0.5)",
           "rgba(59.76615526, 77.91314123400001, 193.718279535, 0.5)",
           "rgba(59.76615526, 77.91314123400001, 193.718279535, 0.5)",
           "rgba(88.82245206, 118.75634235999999, 226.52827154999997, 0.5)",
           "rgba(88.82245206, 118.75634235999999, 226.52827154999997, 0.5)",
           "rgba(93.969186396, 125.24100437599999, 230.836997694, 0.5)",
           "rgba(93.969186396, 125.24100437599999, 230.836997694, 0.5)",
           "rgba(72.74455827, 96.93300277200001, 209.984480568, 0.5)",
           "rgba(72.74455827, 96.93300277200001, 209.984480568, 0.5)",
           "rgba(80.056319538, 107.11317373199999, 218.023097964, 0.5)",
           "rgba(80.056319538, 107.11317373199999, 218.023097964, 0.5)",
           "rgba(127.507793952, 162.81965923200002, 250.172881647, 0.5)",
           "rgba(127.507793952, 162.81965923200002, 250.172881647, 0.5)",
           "rgba(76.35752115, 102.06328674, 214.15970364, 0.5)",
           "rgba(76.35752115, 102.06328674, 214.15970364, 0.5)",
           "rgba(65.59466406, 86.61344075400001, 201.36365713499998, 0.5)",
           "rgba(65.59466406, 86.61344075400001, 201.36365713499998, 0.5)",
           "rgba(65.59466406, 86.61344075400001, 201.36365713499998, 0.5)",
           "rgba(65.59466406, 86.61344075400001, 201.36365713499998, 0.5)",
           "rgba(185.88724279, 208.45335460500002, 248.16285543499998, 0.5)",
           "rgba(185.88724279, 208.45335460500002, 248.16285543499998, 0.5)",
           "rgba(135.80490053999998, 170.79915246, 252.55028388000002, 0.5)",
           "rgba(135.80490053999998, 170.79915246, 252.55028388000002, 0.5)",
           "rgba(135.80490053999998, 170.79915246, 252.55028388000002, 0.5)",
           "rgba(135.80490053999998, 170.79915246, 252.55028388000002, 0.5)",
           "rgba(135.80490053999998, 170.79915246, 252.55028388000002, 0.5)",
           "rgba(135.80490053999998, 170.79915246, 252.55028388000002, 0.5)",
           "rgba(107.097630804, 141.012079056, 240.370737258, 0.5)",
           "rgba(107.097630804, 141.012079056, 240.370737258, 0.5)",
           "rgba(112.486294712, 147.01562553600002, 243.409062563, 0.5)",
           "rgba(112.486294712, 147.01562553600002, 243.409062563, 0.5)",
           "rgba(126.13281398399998, 161.420676704, 249.640618319, 0.5)",
           "rgba(126.13281398399998, 161.420676704, 249.640618319, 0.5)",
           "rgba(59.76615526, 77.91314123400001, 193.718279535, 0.5)",
           "rgba(59.76615526, 77.91314123400001, 193.718279535, 0.5)",
           "rgba(199.422524862, 214.930374228, 240.459860034, 0.5)",
           "rgba(199.422524862, 214.930374228, 240.459860034, 0.5)",
           "rgba(67.92727442999998, 90.09262414800001, 204.417516472, 0.5)",
           "rgba(67.92727442999998, 90.09262414800001, 204.417516472, 0.5)",
           "rgba(58.6004535, 76.17308133, 192.189204015, 0.5)",
           "rgba(58.6004535, 76.17308133, 192.189204015, 0.5)",
           "rgba(58.6004535, 76.17308133, 192.189204015, 0.5)",
           "rgba(58.6004535, 76.17308133, 192.189204015, 0.5)",
           "rgba(82.54819589, 110.45540233999999, 220.50420062, 0.5)",
           "rgba(82.54819589, 110.45540233999999, 220.50420062, 0.5)",
           "rgba(95.25586998, 126.86216988000001, 231.91417923, 0.5)",
           "rgba(95.25586998, 126.86216988000001, 231.91417923, 0.5)",
           "rgba(58.6004535, 76.17308133, 192.189204015, 0.5)",
           "rgba(58.6004535, 76.17308133, 192.189204015, 0.5)",
           "rgba(58.6004535, 76.17308133, 192.189204015, 0.5)",
           "rgba(58.6004535, 76.17308133, 192.189204015, 0.5)",
           "rgba(58.6004535, 76.17308133, 192.189204015, 0.5)",
           "rgba(58.6004535, 76.17308133, 192.189204015, 0.5)",
           "rgba(60.93185702, 79.653201138, 195.24735505499999, 0.5)",
           "rgba(60.93185702, 79.653201138, 195.24735505499999, 0.5)",
           "rgba(60.93185702, 79.653201138, 195.24735505499999, 0.5)",
           "rgba(60.93185702, 79.653201138, 195.24735505499999, 0.5)",
           "rgba(71.54023731, 95.222908116, 208.592739544, 0.5)",
           "rgba(71.54023731, 95.222908116, 208.592739544, 0.5)",
           "rgba(59.76615526, 77.91314123400001, 193.718279535, 0.5)",
           "rgba(59.76615526, 77.91314123400001, 193.718279535, 0.5)",
           "rgba(59.76615526, 77.91314123400001, 193.718279535, 0.5)",
           "rgba(59.76615526, 77.91314123400001, 193.718279535, 0.5)",
           "rgba(75.15320018999999, 100.353192084, 212.767962616, 0.5)",
           "rgba(75.15320018999999, 100.353192084, 212.767962616, 0.5)",
           "rgba(83.794134066, 112.12651664399999, 221.744751948, 0.5)",
           "rgba(83.794134066, 112.12651664399999, 221.744751948, 0.5)",
           "rgba(83.794134066, 112.12651664399999, 221.744751948, 0.5)",
           "rgba(83.794134066, 112.12651664399999, 221.744751948, 0.5)",
           "rgba(83.794134066, 112.12651664399999, 221.744751948, 0.5)",
           "rgba(83.794134066, 112.12651664399999, 221.744751948, 0.5)",
           "rgba(197.040016894, 213.939445396, 242.076283778, 0.5)",
           "rgba(197.040016894, 213.939445396, 242.076283778, 0.5)",
           "rgba(197.040016894, 213.939445396, 242.076283778, 0.5)",
           "rgba(197.040016894, 213.939445396, 242.076283778, 0.5)",
           "rgba(197.040016894, 213.939445396, 242.076283778, 0.5)",
           "rgba(197.040016894, 213.939445396, 242.076283778, 0.5)",
           "rgba(116.546852024, 151.471415232, 245.57245357099998, 0.5)",
           "rgba(116.546852024, 151.471415232, 245.57245357099998, 0.5)",
           "rgba(71.54023731, 95.222908116, 208.592739544, 0.5)",
           "rgba(71.54023731, 95.222908116, 208.592739544, 0.5)",
           "rgba(58.6004535, 76.17308133, 192.189204015, 0.5)",
           "rgba(58.6004535, 76.17308133, 192.189204015, 0.5)",
           "rgba(58.6004535, 76.17308133, 192.189204015, 0.5)",
           "rgba(58.6004535, 76.17308133, 192.189204015, 0.5)",
           "rgba(58.6004535, 76.17308133, 192.189204015, 0.5)",
           "rgba(58.6004535, 76.17308133, 192.189204015, 0.5)",
           "rgba(58.6004535, 76.17308133, 192.189204015, 0.5)",
           "rgba(58.6004535, 76.17308133, 192.189204015, 0.5)",
           "rgba(58.6004535, 76.17308133, 192.189204015, 0.5)",
           "rgba(58.6004535, 76.17308133, 192.189204015, 0.5)",
           "rgba(58.6004535, 76.17308133, 192.189204015, 0.5)",
           "rgba(58.6004535, 76.17308133, 192.189204015, 0.5)",
           "rgba(58.6004535, 76.17308133, 192.189204015, 0.5)",
           "rgba(58.6004535, 76.17308133, 192.189204015, 0.5)",
           "rgba(58.6004535, 76.17308133, 192.189204015, 0.5)",
           "rgba(58.6004535, 76.17308133, 192.189204015, 0.5)",
           "rgba(58.6004535, 76.17308133, 192.189204015, 0.5)",
           "rgba(58.6004535, 76.17308133, 192.189204015, 0.5)",
           "rgba(62.09755878, 81.393261042, 196.77643057499998, 0.5)",
           "rgba(62.09755878, 81.393261042, 196.77643057499998, 0.5)",
           "rgba(58.6004535, 76.17308133, 192.189204015, 0.5)",
           "rgba(58.6004535, 76.17308133, 192.189204015, 0.5)",
           "rgba(93.969186396, 125.24100437599999, 230.836997694, 0.5)",
           "rgba(93.969186396, 125.24100437599999, 230.836997694, 0.5)",
           "rgba(93.969186396, 125.24100437599999, 230.836997694, 0.5)",
           "rgba(93.969186396, 125.24100437599999, 230.836997694, 0.5)",
           "rgba(93.969186396, 125.24100437599999, 230.836997694, 0.5)",
           "rgba(93.969186396, 125.24100437599999, 230.836997694, 0.5)",
           "rgba(104.450829652, 137.89341972800003, 238.563904234, 0.5)",
           "rgba(104.450829652, 137.89341972800003, 238.563904234, 0.5)",
           "rgba(58.6004535, 76.17308133, 192.189204015, 0.5)",
           "rgba(58.6004535, 76.17308133, 192.189204015, 0.5)",
           "rgba(58.6004535, 76.17308133, 192.189204015, 0.5)",
           "rgba(58.6004535, 76.17308133, 192.189204015, 0.5)",
           "rgba(58.6004535, 76.17308133, 192.189204015, 0.5)",
           "rgba(58.6004535, 76.17308133, 192.189204015, 0.5)",
           "rgba(58.6004535, 76.17308133, 192.189204015, 0.5)",
           "rgba(58.6004535, 76.17308133, 192.189204015, 0.5)",
           "rgba(70.33591634999999, 93.51281346, 207.20099852, 0.5)",
           "rgba(70.33591634999999, 93.51281346, 207.20099852, 0.5)",
           "rgba(119.257914144, 154.425764064, 246.97930167899997, 0.5)",
           "rgba(119.257914144, 154.425764064, 246.97930167899997, 0.5)",
           "rgba(90.109135644, 120.377507864, 227.60545308599998, 0.5)",
           "rgba(90.109135644, 120.377507864, 227.60545308599998, 0.5)",
           "rgba(62.09755878, 81.393261042, 196.77643057499998, 0.5)",
           "rgba(62.09755878, 81.393261042, 196.77643057499998, 0.5)",
           "rgba(58.6004535, 76.17308133, 192.189204015, 0.5)",
           "rgba(58.6004535, 76.17308133, 192.189204015, 0.5)",
           "rgba(58.6004535, 76.17308133, 192.189204015, 0.5)",
           "rgba(58.6004535, 76.17308133, 192.189204015, 0.5)",
           "rgba(58.6004535, 76.17308133, 192.189204015, 0.5)",
           "rgba(58.6004535, 76.17308133, 192.189204015, 0.5)",
           "rgba(58.6004535, 76.17308133, 192.189204015, 0.5)",
           "rgba(58.6004535, 76.17308133, 192.189204015, 0.5)",
           "rgba(59.76615526, 77.91314123400001, 193.718279535, 0.5)",
           "rgba(59.76615526, 77.91314123400001, 193.718279535, 0.5)",
           "rgba(81.30225771399999, 108.78428803599999, 219.26364929200003, 0.5)",
           "rgba(81.30225771399999, 108.78428803599999, 219.26364929200003, 0.5)",
           "rgba(82.54819589, 110.45540233999999, 220.50420062, 0.5)",
           "rgba(82.54819589, 110.45540233999999, 220.50420062, 0.5)",
           "rgba(76.35752115, 102.06328674, 214.15970364, 0.5)",
           "rgba(76.35752115, 102.06328674, 214.15970364, 0.5)",
           "rgba(58.6004535, 76.17308133, 192.189204015, 0.5)",
           "rgba(58.6004535, 76.17308133, 192.189204015, 0.5)",
           "rgba(157.926076023, 189.750787365, 254.727384299, 0.5)",
           "rgba(157.926076023, 189.750787365, 254.727384299, 0.5)",
           "rgba(62.09755878, 81.393261042, 196.77643057499998, 0.5)",
           "rgba(62.09755878, 81.393261042, 196.77643057499998, 0.5)",
           "rgba(243.414284702, 198.658913276, 176.595369251, 0.5)",
           "rgba(243.414284702, 198.658913276, 176.595369251, 0.5)",
           "rgba(243.414284702, 198.658913276, 176.595369251, 0.5)",
           "rgba(243.414284702, 198.658913276, 176.595369251, 0.5)",
           "rgba(96.542553564, 128.48333538400001, 232.991360766, 0.5)",
           "rgba(96.542553564, 128.48333538400001, 232.991360766, 0.5)",
           "rgba(96.542553564, 128.48333538400001, 232.991360766, 0.5)",
           "rgba(96.542553564, 128.48333538400001, 232.991360766, 0.5)",
           "rgba(96.542553564, 128.48333538400001, 232.991360766, 0.5)",
           "rgba(96.542553564, 128.48333538400001, 232.991360766, 0.5)",
           "rgba(116.546852024, 151.471415232, 245.57245357099998, 0.5)",
           "rgba(116.546852024, 151.471415232, 245.57245357099998, 0.5)",
           "rgba(65.59466406, 86.61344075400001, 201.36365713499998, 0.5)",
           "rgba(65.59466406, 86.61344075400001, 201.36365713499998, 0.5)",
           "rgba(184.63054983, 207.802150125, 248.79099751500002, 0.5)",
           "rgba(184.63054983, 207.802150125, 248.79099751500002, 0.5)",
           "rgba(62.09755878, 81.393261042, 196.77643057499998, 0.5)",
           "rgba(62.09755878, 81.393261042, 196.77643057499998, 0.5)",
           "rgba(82.54819589, 110.45540233999999, 220.50420062, 0.5)",
           "rgba(82.54819589, 110.45540233999999, 220.50420062, 0.5)",
           "rgba(207.49160838, 217.84186883, 234.21242614, 0.5)",
           "rgba(207.49160838, 217.84186883, 234.21242614, 0.5)",
           "rgba(122.00787408, 157.22372912, 248.043828335, 0.5)",
           "rgba(122.00787408, 157.22372912, 248.043828335, 0.5)",
           "rgba(81.30225771399999, 108.78428803599999, 219.26364929200003, 0.5)",
           "rgba(81.30225771399999, 108.78428803599999, 219.26364929200003, 0.5)",
           "rgba(62.09755878, 81.393261042, 196.77643057499998, 0.5)",
           "rgba(62.09755878, 81.393261042, 196.77643057499998, 0.5)",
           "rgba(159.299325591, 190.82121424500002, 254.673463723, 0.5)",
           "rgba(159.299325591, 190.82121424500002, 254.673463723, 0.5)",
           "rgba(58.6004535, 76.17308133, 192.189204015, 0.5)",
           "rgba(58.6004535, 76.17308133, 192.189204015, 0.5)",
           "rgba(91.39581922800001, 121.998673368, 228.682634622, 0.5)",
           "rgba(91.39581922800001, 121.998673368, 228.682634622, 0.5)",
           "rgba(70.33591634999999, 93.51281346, 207.20099852, 0.5)",
           "rgba(70.33591634999999, 93.51281346, 207.20099852, 0.5)",
           "rgba(116.546852024, 151.471415232, 245.57245357099998, 0.5)",
           "rgba(116.546852024, 151.471415232, 245.57245357099998, 0.5)",
           "rgba(82.54819589, 110.45540233999999, 220.50420062, 0.5)",
           "rgba(82.54819589, 110.45540233999999, 220.50420062, 0.5)",
           "rgba(209.71720326000002, 218.508866718, 232.2527583, 0.5)",
           "rgba(209.71720326000002, 218.508866718, 232.2527583, 0.5)",
           "rgba(87.53576847600002, 117.135176856, 225.45109001400002, 0.5)",
           "rgba(87.53576847600002, 117.135176856, 225.45109001400002, 0.5)",
           "rgba(144.121303212, 178.35680345999998, 254.14194288000002, 0.5)",
           "rgba(144.121303212, 178.35680345999998, 254.14194288000002, 0.5)",
           "rgba(64.4289623, 84.87338085, 199.834581615, 0.5)",
           "rgba(64.4289623, 84.87338085, 199.834581615, 0.5)",
           "rgba(85.04007224200001, 113.79763094799999, 222.985303276, 0.5)",
           "rgba(85.04007224200001, 113.79763094799999, 222.985303276, 0.5)",
           "rgba(88.82245206, 118.75634235999999, 226.52827154999997, 0.5)",
           "rgba(88.82245206, 118.75634235999999, 226.52827154999997, 0.5)",
           "rgba(58.6004535, 76.17308133, 192.189204015, 0.5)",
           "rgba(58.6004535, 76.17308133, 192.189204015, 0.5)",
           "rgba(58.6004535, 76.17308133, 192.189204015, 0.5)",
           "rgba(58.6004535, 76.17308133, 192.189204015, 0.5)",
           "rgba(58.6004535, 76.17308133, 192.189204015, 0.5)",
           "rgba(58.6004535, 76.17308133, 192.189204015, 0.5)",
           "rgba(73.94887922999999, 98.64309742799999, 211.37622159199998, 0.5)",
           "rgba(73.94887922999999, 98.64309742799999, 211.37622159199998, 0.5)",
           "rgba(120.632894112, 155.824746592, 247.51156500699997, 0.5)",
           "rgba(120.632894112, 155.824746592, 247.51156500699997, 0.5)"
          ],
          "source": [
           0,
           0,
           1,
           1,
           2,
           2,
           4,
           4,
           5,
           5,
           7,
           7,
           8,
           8,
           9,
           9,
           10,
           10,
           11,
           11,
           12,
           12,
           13,
           13,
           14,
           14,
           15,
           15,
           16,
           16,
           19,
           19,
           20,
           20,
           21,
           21,
           23,
           23,
           24,
           24,
           28,
           28,
           31,
           31,
           33,
           33,
           34,
           34,
           35,
           35,
           35,
           35,
           36,
           36,
           37,
           37,
           37,
           37,
           37,
           37,
           38,
           38,
           41,
           41,
           42,
           42,
           43,
           43,
           44,
           44,
           48,
           48,
           49,
           49,
           50,
           50,
           51,
           51,
           52,
           52,
           53,
           53,
           55,
           55,
           55,
           55,
           56,
           56,
           57,
           57,
           58,
           58,
           59,
           59,
           60,
           60,
           61,
           61,
           62,
           62,
           62,
           62,
           62,
           62,
           63,
           63,
           63,
           63,
           63,
           63,
           65,
           65,
           66,
           66,
           67,
           67,
           67,
           67,
           67,
           67,
           68,
           68,
           68,
           68,
           68,
           68,
           69,
           69,
           69,
           69,
           69,
           69,
           70,
           70,
           71,
           71,
           72,
           72,
           72,
           72,
           72,
           72,
           73,
           73,
           74,
           74,
           74,
           74,
           74,
           74,
           75,
           75,
           76,
           76,
           77,
           77,
           78,
           78,
           79,
           79,
           80,
           80,
           81,
           81,
           81,
           81,
           81,
           81,
           82,
           82,
           83,
           83,
           84,
           84,
           85,
           85,
           86,
           86,
           88,
           88,
           90,
           90,
           91,
           91,
           91,
           91,
           92,
           92,
           92,
           92,
           92,
           92,
           93,
           93,
           94,
           94,
           95,
           95,
           96,
           96,
           97,
           97,
           99,
           99,
           18,
           18,
           22,
           22,
           39,
           39,
           40,
           40,
           45,
           45,
           46,
           46,
           47,
           47,
           64,
           64,
           87,
           87,
           89,
           89,
           98,
           98,
           3,
           3,
           6,
           6,
           17,
           17,
           25,
           25,
           26,
           26,
           27,
           27,
           29,
           29,
           30,
           30,
           32,
           32
          ],
          "target": [
           26,
           26,
           32,
           32,
           32,
           32,
           87,
           87,
           32,
           32,
           32,
           32,
           99,
           99,
           99,
           99,
           99,
           99,
           32,
           32,
           32,
           32,
           32,
           32,
           32,
           32,
           32,
           32,
           32,
           32,
           32,
           32,
           32,
           32,
           32,
           32,
           32,
           32,
           32,
           32,
           32,
           32,
           32,
           32,
           32,
           32,
           32,
           32,
           99,
           99,
           32,
           32,
           32,
           32,
           45,
           45,
           46,
           46,
           47,
           47,
           32,
           32,
           99,
           99,
           32,
           32,
           39,
           39,
           99,
           99,
           32,
           32,
           32,
           32,
           32,
           32,
           27,
           27,
           32,
           32,
           32,
           32,
           40,
           40,
           32,
           32,
           32,
           32,
           32,
           32,
           32,
           32,
           32,
           32,
           99,
           99,
           32,
           32,
           45,
           45,
           46,
           46,
           29,
           29,
           45,
           45,
           46,
           46,
           29,
           29,
           40,
           40,
           39,
           39,
           45,
           45,
           46,
           46,
           29,
           29,
           45,
           45,
           46,
           46,
           29,
           29,
           45,
           45,
           46,
           46,
           29,
           29,
           40,
           40,
           32,
           32,
           45,
           45,
           46,
           46,
           29,
           29,
           45,
           45,
           45,
           45,
           46,
           46,
           29,
           29,
           26,
           26,
           18,
           18,
           30,
           30,
           30,
           30,
           87,
           87,
           32,
           32,
           45,
           45,
           46,
           46,
           29,
           29,
           87,
           87,
           32,
           32,
           32,
           32,
           30,
           30,
           40,
           40,
           30,
           30,
           32,
           32,
           46,
           46,
           64,
           64,
           45,
           45,
           46,
           46,
           29,
           29,
           18,
           18,
           32,
           32,
           30,
           30,
           22,
           22,
           32,
           32,
           89,
           89,
           98,
           98,
           98,
           98,
           6,
           6,
           3,
           3,
           17,
           17,
           17,
           17,
           17,
           17,
           25,
           25,
           54,
           54,
           54,
           54,
           54,
           54,
           54,
           54,
           54,
           54,
           54,
           54,
           54,
           54,
           54,
           54,
           54,
           54,
           54,
           54,
           54,
           54,
           54,
           54
          ],
          "value": [
           0,
           0,
           0.005079206038353133,
           0.003482503813901336,
           0.0007074215237787247,
           0.0007572542524727713,
           0.014859852867597612,
           0.004707932723406531,
           0,
           0,
           0.009604094976087784,
           0.006356302711662108,
           0.015740851622817003,
           0.02575592759472871,
           0.011834318608231871,
           0.012406549147123008,
           0.013018196810193762,
           0.013132637502756886,
           0.01599725852573199,
           0.016118755959232716,
           0.00047775901625894934,
           0.0005100519731857277,
           0.0008099400667250473,
           0.0012275704277635072,
           0.002186809206071138,
           0.0015726233688134158,
           0.0030852772289567533,
           0.001418168402728143,
           0.016523860435438492,
           0.023292524634491597,
           0.03809642198995539,
           0.035651243033381325,
           0.004751682579485338,
           0.0016397650114818878,
           0.006214525927380415,
           0.0003321495926722929,
           0.010732588405571238,
           0.0060683487996881095,
           0.0039386656425487105,
           0.007066253314628703,
           0.0011470464778574377,
           0.002982999347117172,
           0.008498697800639778,
           0.004383345970349971,
           0.005497590809498415,
           0.013104485956651254,
           0.002214381859534338,
           0.003771395203736158,
           0.0018386166659263349,
           0.0014510742494704795,
           0.0018386166659263349,
           0.0014510742494704795,
           0.035109435672960904,
           0.023367255634159926,
           0.06117580581113141,
           0.01454777017839739,
           0.06117580581113141,
           0.01454777017839739,
           0.06117580581113141,
           0.01454777017839739,
           0.008606051191789784,
           0.00948730699301026,
           0.010353861478334454,
           0.010354076332373544,
           0.005188599675392715,
           0.012828340454867613,
           0.001069823520787624,
           0.0003687134750988528,
           0.02621992876892799,
           0.025848957150891555,
           0.004446427313049206,
           0.002054075155808525,
           0,
           0,
           0,
           0,
           0.002083687454940926,
           0.004967053097270359,
           0.007086141077637056,
           0.007308303565393753,
           0,
           0,
           0,
           0,
           0,
           0,
           0.001462997822408111,
           0.0006782993847316729,
           0.0005436790097487108,
           0.0005168555717562234,
           0.00603123853606459,
           0.0027753521328451225,
           0.0005448332322375801,
           0.0002507119937870279,
           0.0008232968794679413,
           0.00037885066802712723,
           0.008216292574170895,
           0.0035119656500804146,
           0.002469722745115121,
           0.005087788624592962,
           0.002469722745115121,
           0.005087788624592962,
           0.002469722745115121,
           0.005087788624592962,
           0.013313431108466636,
           0.025547067142315524,
           0.013313431108466636,
           0.025547067142315524,
           0.013313431108466636,
           0.025547067142315524,
           0.018227736873136627,
           0.01111774695344891,
           0.004299018447061184,
           0.0027197550305346463,
           0,
           0,
           0,
           0,
           0,
           0,
           0,
           0,
           0,
           0,
           0,
           0,
           0,
           0,
           0,
           0,
           0,
           0,
           0.0017106391462396171,
           0.0007825048486177906,
           0,
           0,
           0.0063945160955921265,
           0.006939560608666217,
           0.0063945160955921265,
           0.006939560608666217,
           0.0063945160955921265,
           0.006939560608666217,
           0.011664590982344557,
           0.008989288780694027,
           0,
           0,
           0,
           0,
           0,
           0,
           0,
           0,
           0.005926270156588149,
           0.002509055012922405,
           0.041488573222423865,
           0.01151500399160712,
           0.0086407345115733,
           0.006376430426777976,
           0.00175777953759078,
           0.0008088648355114843,
           0,
           0,
           0,
           0,
           0,
           0,
           0,
           0,
           0.0012075371336513637,
           0.0003809508328777704,
           0.002049460171860274,
           0.004689325174475015,
           0.011749624052962022,
           0.004867144653499189,
           0.003352921042709728,
           0.003799945530773953,
           0,
           0,
           0.015184864531463095,
           0.018327167103014238,
           0.0018912914344476448,
           0.0008703020656351838,
           0.04202265273853124,
           0.037677592174823374,
           0.04202265273853124,
           0.037677592174823374,
           0.01903777871206741,
           0.007599565014819268,
           0.01903777871206741,
           0.007599565014819268,
           0.01903777871206741,
           0.007599565014819268,
           0.0012950614876895189,
           0.011079996039841769,
           0.00346482341144575,
           0.0015830337519227345,
           0.022324235418679443,
           0.023143721983748793,
           0.00161303661737241,
           0.0007422595390285223,
           0.010490512919008934,
           0.004827344121758354,
           0.31933840936703917,
           0.14694766425799766,
           0.14687993663253968,
           0.06758868853075041,
           0.06441798531695234,
           0.02964276326286054,
           0.023036971903564542,
           0.010600758199962215,
           0.22014906239954654,
           0.1013044211495025,
           0.01369610599168053,
           0.006302438553648498,
           0.08611410274916871,
           0.039626506416085866,
           0.0422363856951952,
           0.019435614470412768,
           0.13814026039687322,
           0.0635670148908597,
           0.06305025192185547,
           0.02901338579815783,
           0.3582425146502057,
           0.16484989298616196,
           0.07352675411211876,
           0.03383428007091066,
           0.2013947420864458,
           0.09267438220109177,
           0.016305434339888354,
           0.007503155021941792,
           0.06888373550511771,
           0.03169773196306557,
           0.07748476710229209,
           0.03565560794575023,
           0,
           0,
           0.002513097417295596,
           0.0011564341156735727,
           0.001032989998581703,
           0.00047534361948830547,
           0.04233589165689988,
           0.019481404597581672,
           0.14923903570025843,
           0.06867425737385745
          ]
         },
         "node": {
          "color": [
           "rgba(58.6004535, 76.17308133, 192.189204015, 0.5)",
           "rgba(75.15320018999999, 100.353192084, 212.767962616, 0.5)",
           "rgba(62.09755878, 81.393261042, 196.77643057499998, 0.5)",
           "rgba(144.121303212, 178.35680345999998, 254.14194288000002, 0.5)",
           "rgba(81.30225771399999, 108.78428803599999, 219.26364929200003, 0.5)",
           "rgba(58.6004535, 76.17308133, 192.189204015, 0.5)",
           "rgba(64.4289623, 84.87338085, 199.834581615, 0.5)",
           "rgba(90.109135644, 120.377507864, 227.60545308599998, 0.5)",
           "rgba(198.231270878, 214.434909812, 241.268071906, 0.5)",
           "rgba(123.38285404799998, 158.622711648, 248.576091663, 0.5)",
           "rgba(127.507793952, 162.81965923200002, 250.172881647, 0.5)",
           "rgba(145.507191404, 179.54783626, 254.28468192, 0.5)",
           "rgba(60.93185702, 79.653201138, 195.24735505499999, 0.5)",
           "rgba(64.4289623, 84.87338085, 199.834581615, 0.5)",
           "rgba(65.59466406, 86.61344075400001, 201.36365713499998, 0.5)",
           "rgba(64.4289623, 84.87338085, 199.834581615, 0.5)",
           "rgba(185.88724279, 208.45335460500002, 248.16285543499998, 0.5)",
           "rgba(85.04007224200001, 113.79763094799999, 222.985303276, 0.5)",
           "rgba(122.00787408, 157.22372912, 248.043828335, 0.5)",
           "rgba(239.27322086499998, 206.273720768, 188.996186332, 0.5)",
           "rgba(65.59466406, 86.61344075400001, 201.36365713499998, 0.5)",
           "rgba(59.76615526, 77.91314123400001, 193.718279535, 0.5)",
           "rgba(81.30225771399999, 108.78428803599999, 219.26364929200003, 0.5)",
           "rgba(88.82245206, 118.75634235999999, 226.52827154999997, 0.5)",
           "rgba(93.969186396, 125.24100437599999, 230.836997694, 0.5)",
           "rgba(88.82245206, 118.75634235999999, 226.52827154999997, 0.5)",
           "rgba(58.6004535, 76.17308133, 192.189204015, 0.5)",
           "rgba(58.6004535, 76.17308133, 192.189204015, 0.5)",
           "rgba(72.74455827, 96.93300277200001, 209.984480568, 0.5)",
           "rgba(58.6004535, 76.17308133, 192.189204015, 0.5)",
           "rgba(73.94887922999999, 98.64309742799999, 211.37622159199998, 0.5)",
           "rgba(80.056319538, 107.11317373199999, 218.023097964, 0.5)",
           "rgba(120.632894112, 155.824746592, 247.51156500699997, 0.5)",
           "rgba(127.507793952, 162.81965923200002, 250.172881647, 0.5)",
           "rgba(76.35752115, 102.06328674, 214.15970364, 0.5)",
           "rgba(65.59466406, 86.61344075400001, 201.36365713499998, 0.5)",
           "rgba(185.88724279, 208.45335460500002, 248.16285543499998, 0.5)",
           "rgba(135.80490053999998, 170.79915246, 252.55028388000002, 0.5)",
           "rgba(107.097630804, 141.012079056, 240.370737258, 0.5)",
           "rgba(62.09755878, 81.393261042, 196.77643057499998, 0.5)",
           "rgba(159.299325591, 190.82121424500002, 254.673463723, 0.5)",
           "rgba(112.486294712, 147.01562553600002, 243.409062563, 0.5)",
           "rgba(126.13281398399998, 161.420676704, 249.640618319, 0.5)",
           "rgba(59.76615526, 77.91314123400001, 193.718279535, 0.5)",
           "rgba(199.422524862, 214.930374228, 240.459860034, 0.5)",
           "rgba(58.6004535, 76.17308133, 192.189204015, 0.5)",
           "rgba(91.39581922800001, 121.998673368, 228.682634622, 0.5)",
           "rgba(70.33591634999999, 93.51281346, 207.20099852, 0.5)",
           "rgba(67.92727442999998, 90.09262414800001, 204.417516472, 0.5)",
           "rgba(58.6004535, 76.17308133, 192.189204015, 0.5)",
           "rgba(58.6004535, 76.17308133, 192.189204015, 0.5)",
           "rgba(82.54819589, 110.45540233999999, 220.50420062, 0.5)",
           "rgba(95.25586998, 126.86216988000001, 231.91417923, 0.5)",
           "rgba(58.6004535, 76.17308133, 192.189204015, 0.5)",
           "rgba(0,0,0,1)",
           "rgba(58.6004535, 76.17308133, 192.189204015, 0.5)",
           "rgba(60.93185702, 79.653201138, 195.24735505499999, 0.5)",
           "rgba(60.93185702, 79.653201138, 195.24735505499999, 0.5)",
           "rgba(71.54023731, 95.222908116, 208.592739544, 0.5)",
           "rgba(59.76615526, 77.91314123400001, 193.718279535, 0.5)",
           "rgba(59.76615526, 77.91314123400001, 193.718279535, 0.5)",
           "rgba(75.15320018999999, 100.353192084, 212.767962616, 0.5)",
           "rgba(83.794134066, 112.12651664399999, 221.744751948, 0.5)",
           "rgba(197.040016894, 213.939445396, 242.076283778, 0.5)",
           "rgba(116.546852024, 151.471415232, 245.57245357099998, 0.5)",
           "rgba(116.546852024, 151.471415232, 245.57245357099998, 0.5)",
           "rgba(71.54023731, 95.222908116, 208.592739544, 0.5)",
           "rgba(58.6004535, 76.17308133, 192.189204015, 0.5)",
           "rgba(58.6004535, 76.17308133, 192.189204015, 0.5)",
           "rgba(58.6004535, 76.17308133, 192.189204015, 0.5)",
           "rgba(62.09755878, 81.393261042, 196.77643057499998, 0.5)",
           "rgba(58.6004535, 76.17308133, 192.189204015, 0.5)",
           "rgba(93.969186396, 125.24100437599999, 230.836997694, 0.5)",
           "rgba(104.450829652, 137.89341972800003, 238.563904234, 0.5)",
           "rgba(58.6004535, 76.17308133, 192.189204015, 0.5)",
           "rgba(58.6004535, 76.17308133, 192.189204015, 0.5)",
           "rgba(70.33591634999999, 93.51281346, 207.20099852, 0.5)",
           "rgba(119.257914144, 154.425764064, 246.97930167899997, 0.5)",
           "rgba(90.109135644, 120.377507864, 227.60545308599998, 0.5)",
           "rgba(62.09755878, 81.393261042, 196.77643057499998, 0.5)",
           "rgba(58.6004535, 76.17308133, 192.189204015, 0.5)",
           "rgba(58.6004535, 76.17308133, 192.189204015, 0.5)",
           "rgba(59.76615526, 77.91314123400001, 193.718279535, 0.5)",
           "rgba(81.30225771399999, 108.78428803599999, 219.26364929200003, 0.5)",
           "rgba(82.54819589, 110.45540233999999, 220.50420062, 0.5)",
           "rgba(76.35752115, 102.06328674, 214.15970364, 0.5)",
           "rgba(58.6004535, 76.17308133, 192.189204015, 0.5)",
           "rgba(82.54819589, 110.45540233999999, 220.50420062, 0.5)",
           "rgba(157.926076023, 189.750787365, 254.727384299, 0.5)",
           "rgba(209.71720326000002, 218.508866718, 232.2527583, 0.5)",
           "rgba(62.09755878, 81.393261042, 196.77643057499998, 0.5)",
           "rgba(243.414284702, 198.658913276, 176.595369251, 0.5)",
           "rgba(96.542553564, 128.48333538400001, 232.991360766, 0.5)",
           "rgba(116.546852024, 151.471415232, 245.57245357099998, 0.5)",
           "rgba(65.59466406, 86.61344075400001, 201.36365713499998, 0.5)",
           "rgba(184.63054983, 207.802150125, 248.79099751500002, 0.5)",
           "rgba(62.09755878, 81.393261042, 196.77643057499998, 0.5)",
           "rgba(82.54819589, 110.45540233999999, 220.50420062, 0.5)",
           "rgba(87.53576847600002, 117.135176856, 225.45109001400002, 0.5)",
           "rgba(207.49160838, 217.84186883, 234.21242614, 0.5)"
          ],
          "label": [
           "O00194",
           "O00391",
           "O14791",
           "R-HSA-446203",
           "O95497",
           "O95633",
           "R-HSA-5173105",
           "P00450",
           "P00734",
           "P00740",
           "P00742",
           "P01008",
           "P01009",
           "P01024",
           "P01033",
           "P01034",
           "P01042",
           "R-HSA-5688426",
           "R-HSA-3108232",
           "P02647",
           "P02649",
           "P02652",
           "R-HSA-3215018",
           "P02671",
           "P02679",
           "R-HSA-8852135",
           "R-HSA-8873719",
           "R-HSA-8876725",
           "P02751",
           "R-HSA-8951664",
           "R-HSA-8955332",
           "P02765",
           "R-HSA-8957275",
           "P02768",
           "P02787",
           "P04070",
           "P04114",
           "P04908",
           "P05546",
           "R-HSA-5173214",
           "R-HSA-532668",
           "P07225",
           "P07237",
           "P07996",
           "P08709",
           "R-HSA-5689603",
           "R-HSA-5689880",
           "R-HSA-5689901",
           "P0C0L4",
           "P10451",
           "P11047",
           "P11142",
           "P12259",
           "P13611",
           "R-HSA-597592",
           "P14314",
           "P14625",
           "P17936",
           "P19823",
           "P22692",
           "P22891",
           "P24821",
           "P25786",
           "P25788",
           "R-HSA-8866654",
           "P27797",
           "P27918",
           "P28066",
           "P28072",
           "P28074",
           "P30101",
           "P35555",
           "P49721",
           "P60709",
           "P60900",
           "P61026",
           "P62805",
           "P68363",
           "P68366",
           "P80108",
           "Q02818",
           "Q06323",
           "Q10588",
           "Q12841",
           "Q13103",
           "Q13885",
           "Q14697",
           "R-HSA-163125",
           "Q71U36",
           "R-HSA-163841",
           "Q8NBJ4",
           "Q96A08",
           "Q99436",
           "Q99497",
           "Q9BTY2",
           "Q9H4B7",
           "Q9UBE0",
           "Q9UK55",
           "R-HSA-2990846",
           "R-HSA-159854"
          ],
          "line": {
           "color": "white",
           "width": 2
          },
          "pad": 20,
          "thickness": 20
         },
         "orientation": "h",
         "textfont": {
          "family": "Arial",
          "size": 15
         },
         "type": "sankey"
        }
       ],
       "layout": {
        "template": {
         "data": {
          "bar": [
           {
            "error_x": {
             "color": "#2a3f5f"
            },
            "error_y": {
             "color": "#2a3f5f"
            },
            "marker": {
             "line": {
              "color": "#E5ECF6",
              "width": 0.5
             },
             "pattern": {
              "fillmode": "overlay",
              "size": 10,
              "solidity": 0.2
             }
            },
            "type": "bar"
           }
          ],
          "barpolar": [
           {
            "marker": {
             "line": {
              "color": "#E5ECF6",
              "width": 0.5
             },
             "pattern": {
              "fillmode": "overlay",
              "size": 10,
              "solidity": 0.2
             }
            },
            "type": "barpolar"
           }
          ],
          "carpet": [
           {
            "aaxis": {
             "endlinecolor": "#2a3f5f",
             "gridcolor": "white",
             "linecolor": "white",
             "minorgridcolor": "white",
             "startlinecolor": "#2a3f5f"
            },
            "baxis": {
             "endlinecolor": "#2a3f5f",
             "gridcolor": "white",
             "linecolor": "white",
             "minorgridcolor": "white",
             "startlinecolor": "#2a3f5f"
            },
            "type": "carpet"
           }
          ],
          "choropleth": [
           {
            "colorbar": {
             "outlinewidth": 0,
             "ticks": ""
            },
            "type": "choropleth"
           }
          ],
          "contour": [
           {
            "colorbar": {
             "outlinewidth": 0,
             "ticks": ""
            },
            "colorscale": [
             [
              0,
              "#0d0887"
             ],
             [
              0.1111111111111111,
              "#46039f"
             ],
             [
              0.2222222222222222,
              "#7201a8"
             ],
             [
              0.3333333333333333,
              "#9c179e"
             ],
             [
              0.4444444444444444,
              "#bd3786"
             ],
             [
              0.5555555555555556,
              "#d8576b"
             ],
             [
              0.6666666666666666,
              "#ed7953"
             ],
             [
              0.7777777777777778,
              "#fb9f3a"
             ],
             [
              0.8888888888888888,
              "#fdca26"
             ],
             [
              1,
              "#f0f921"
             ]
            ],
            "type": "contour"
           }
          ],
          "contourcarpet": [
           {
            "colorbar": {
             "outlinewidth": 0,
             "ticks": ""
            },
            "type": "contourcarpet"
           }
          ],
          "heatmap": [
           {
            "colorbar": {
             "outlinewidth": 0,
             "ticks": ""
            },
            "colorscale": [
             [
              0,
              "#0d0887"
             ],
             [
              0.1111111111111111,
              "#46039f"
             ],
             [
              0.2222222222222222,
              "#7201a8"
             ],
             [
              0.3333333333333333,
              "#9c179e"
             ],
             [
              0.4444444444444444,
              "#bd3786"
             ],
             [
              0.5555555555555556,
              "#d8576b"
             ],
             [
              0.6666666666666666,
              "#ed7953"
             ],
             [
              0.7777777777777778,
              "#fb9f3a"
             ],
             [
              0.8888888888888888,
              "#fdca26"
             ],
             [
              1,
              "#f0f921"
             ]
            ],
            "type": "heatmap"
           }
          ],
          "heatmapgl": [
           {
            "colorbar": {
             "outlinewidth": 0,
             "ticks": ""
            },
            "colorscale": [
             [
              0,
              "#0d0887"
             ],
             [
              0.1111111111111111,
              "#46039f"
             ],
             [
              0.2222222222222222,
              "#7201a8"
             ],
             [
              0.3333333333333333,
              "#9c179e"
             ],
             [
              0.4444444444444444,
              "#bd3786"
             ],
             [
              0.5555555555555556,
              "#d8576b"
             ],
             [
              0.6666666666666666,
              "#ed7953"
             ],
             [
              0.7777777777777778,
              "#fb9f3a"
             ],
             [
              0.8888888888888888,
              "#fdca26"
             ],
             [
              1,
              "#f0f921"
             ]
            ],
            "type": "heatmapgl"
           }
          ],
          "histogram": [
           {
            "marker": {
             "pattern": {
              "fillmode": "overlay",
              "size": 10,
              "solidity": 0.2
             }
            },
            "type": "histogram"
           }
          ],
          "histogram2d": [
           {
            "colorbar": {
             "outlinewidth": 0,
             "ticks": ""
            },
            "colorscale": [
             [
              0,
              "#0d0887"
             ],
             [
              0.1111111111111111,
              "#46039f"
             ],
             [
              0.2222222222222222,
              "#7201a8"
             ],
             [
              0.3333333333333333,
              "#9c179e"
             ],
             [
              0.4444444444444444,
              "#bd3786"
             ],
             [
              0.5555555555555556,
              "#d8576b"
             ],
             [
              0.6666666666666666,
              "#ed7953"
             ],
             [
              0.7777777777777778,
              "#fb9f3a"
             ],
             [
              0.8888888888888888,
              "#fdca26"
             ],
             [
              1,
              "#f0f921"
             ]
            ],
            "type": "histogram2d"
           }
          ],
          "histogram2dcontour": [
           {
            "colorbar": {
             "outlinewidth": 0,
             "ticks": ""
            },
            "colorscale": [
             [
              0,
              "#0d0887"
             ],
             [
              0.1111111111111111,
              "#46039f"
             ],
             [
              0.2222222222222222,
              "#7201a8"
             ],
             [
              0.3333333333333333,
              "#9c179e"
             ],
             [
              0.4444444444444444,
              "#bd3786"
             ],
             [
              0.5555555555555556,
              "#d8576b"
             ],
             [
              0.6666666666666666,
              "#ed7953"
             ],
             [
              0.7777777777777778,
              "#fb9f3a"
             ],
             [
              0.8888888888888888,
              "#fdca26"
             ],
             [
              1,
              "#f0f921"
             ]
            ],
            "type": "histogram2dcontour"
           }
          ],
          "mesh3d": [
           {
            "colorbar": {
             "outlinewidth": 0,
             "ticks": ""
            },
            "type": "mesh3d"
           }
          ],
          "parcoords": [
           {
            "line": {
             "colorbar": {
              "outlinewidth": 0,
              "ticks": ""
             }
            },
            "type": "parcoords"
           }
          ],
          "pie": [
           {
            "automargin": true,
            "type": "pie"
           }
          ],
          "scatter": [
           {
            "fillpattern": {
             "fillmode": "overlay",
             "size": 10,
             "solidity": 0.2
            },
            "type": "scatter"
           }
          ],
          "scatter3d": [
           {
            "line": {
             "colorbar": {
              "outlinewidth": 0,
              "ticks": ""
             }
            },
            "marker": {
             "colorbar": {
              "outlinewidth": 0,
              "ticks": ""
             }
            },
            "type": "scatter3d"
           }
          ],
          "scattercarpet": [
           {
            "marker": {
             "colorbar": {
              "outlinewidth": 0,
              "ticks": ""
             }
            },
            "type": "scattercarpet"
           }
          ],
          "scattergeo": [
           {
            "marker": {
             "colorbar": {
              "outlinewidth": 0,
              "ticks": ""
             }
            },
            "type": "scattergeo"
           }
          ],
          "scattergl": [
           {
            "marker": {
             "colorbar": {
              "outlinewidth": 0,
              "ticks": ""
             }
            },
            "type": "scattergl"
           }
          ],
          "scattermapbox": [
           {
            "marker": {
             "colorbar": {
              "outlinewidth": 0,
              "ticks": ""
             }
            },
            "type": "scattermapbox"
           }
          ],
          "scatterpolar": [
           {
            "marker": {
             "colorbar": {
              "outlinewidth": 0,
              "ticks": ""
             }
            },
            "type": "scatterpolar"
           }
          ],
          "scatterpolargl": [
           {
            "marker": {
             "colorbar": {
              "outlinewidth": 0,
              "ticks": ""
             }
            },
            "type": "scatterpolargl"
           }
          ],
          "scatterternary": [
           {
            "marker": {
             "colorbar": {
              "outlinewidth": 0,
              "ticks": ""
             }
            },
            "type": "scatterternary"
           }
          ],
          "surface": [
           {
            "colorbar": {
             "outlinewidth": 0,
             "ticks": ""
            },
            "colorscale": [
             [
              0,
              "#0d0887"
             ],
             [
              0.1111111111111111,
              "#46039f"
             ],
             [
              0.2222222222222222,
              "#7201a8"
             ],
             [
              0.3333333333333333,
              "#9c179e"
             ],
             [
              0.4444444444444444,
              "#bd3786"
             ],
             [
              0.5555555555555556,
              "#d8576b"
             ],
             [
              0.6666666666666666,
              "#ed7953"
             ],
             [
              0.7777777777777778,
              "#fb9f3a"
             ],
             [
              0.8888888888888888,
              "#fdca26"
             ],
             [
              1,
              "#f0f921"
             ]
            ],
            "type": "surface"
           }
          ],
          "table": [
           {
            "cells": {
             "fill": {
              "color": "#EBF0F8"
             },
             "line": {
              "color": "white"
             }
            },
            "header": {
             "fill": {
              "color": "#C8D4E3"
             },
             "line": {
              "color": "white"
             }
            },
            "type": "table"
           }
          ]
         },
         "layout": {
          "annotationdefaults": {
           "arrowcolor": "#2a3f5f",
           "arrowhead": 0,
           "arrowwidth": 1
          },
          "autotypenumbers": "strict",
          "coloraxis": {
           "colorbar": {
            "outlinewidth": 0,
            "ticks": ""
           }
          },
          "colorscale": {
           "diverging": [
            [
             0,
             "#8e0152"
            ],
            [
             0.1,
             "#c51b7d"
            ],
            [
             0.2,
             "#de77ae"
            ],
            [
             0.3,
             "#f1b6da"
            ],
            [
             0.4,
             "#fde0ef"
            ],
            [
             0.5,
             "#f7f7f7"
            ],
            [
             0.6,
             "#e6f5d0"
            ],
            [
             0.7,
             "#b8e186"
            ],
            [
             0.8,
             "#7fbc41"
            ],
            [
             0.9,
             "#4d9221"
            ],
            [
             1,
             "#276419"
            ]
           ],
           "sequential": [
            [
             0,
             "#0d0887"
            ],
            [
             0.1111111111111111,
             "#46039f"
            ],
            [
             0.2222222222222222,
             "#7201a8"
            ],
            [
             0.3333333333333333,
             "#9c179e"
            ],
            [
             0.4444444444444444,
             "#bd3786"
            ],
            [
             0.5555555555555556,
             "#d8576b"
            ],
            [
             0.6666666666666666,
             "#ed7953"
            ],
            [
             0.7777777777777778,
             "#fb9f3a"
            ],
            [
             0.8888888888888888,
             "#fdca26"
            ],
            [
             1,
             "#f0f921"
            ]
           ],
           "sequentialminus": [
            [
             0,
             "#0d0887"
            ],
            [
             0.1111111111111111,
             "#46039f"
            ],
            [
             0.2222222222222222,
             "#7201a8"
            ],
            [
             0.3333333333333333,
             "#9c179e"
            ],
            [
             0.4444444444444444,
             "#bd3786"
            ],
            [
             0.5555555555555556,
             "#d8576b"
            ],
            [
             0.6666666666666666,
             "#ed7953"
            ],
            [
             0.7777777777777778,
             "#fb9f3a"
            ],
            [
             0.8888888888888888,
             "#fdca26"
            ],
            [
             1,
             "#f0f921"
            ]
           ]
          },
          "colorway": [
           "#636efa",
           "#EF553B",
           "#00cc96",
           "#ab63fa",
           "#FFA15A",
           "#19d3f3",
           "#FF6692",
           "#B6E880",
           "#FF97FF",
           "#FECB52"
          ],
          "font": {
           "color": "#2a3f5f"
          },
          "geo": {
           "bgcolor": "white",
           "lakecolor": "white",
           "landcolor": "#E5ECF6",
           "showlakes": true,
           "showland": true,
           "subunitcolor": "white"
          },
          "hoverlabel": {
           "align": "left"
          },
          "hovermode": "closest",
          "mapbox": {
           "style": "light"
          },
          "paper_bgcolor": "white",
          "plot_bgcolor": "#E5ECF6",
          "polar": {
           "angularaxis": {
            "gridcolor": "white",
            "linecolor": "white",
            "ticks": ""
           },
           "bgcolor": "#E5ECF6",
           "radialaxis": {
            "gridcolor": "white",
            "linecolor": "white",
            "ticks": ""
           }
          },
          "scene": {
           "xaxis": {
            "backgroundcolor": "#E5ECF6",
            "gridcolor": "white",
            "gridwidth": 2,
            "linecolor": "white",
            "showbackground": true,
            "ticks": "",
            "zerolinecolor": "white"
           },
           "yaxis": {
            "backgroundcolor": "#E5ECF6",
            "gridcolor": "white",
            "gridwidth": 2,
            "linecolor": "white",
            "showbackground": true,
            "ticks": "",
            "zerolinecolor": "white"
           },
           "zaxis": {
            "backgroundcolor": "#E5ECF6",
            "gridcolor": "white",
            "gridwidth": 2,
            "linecolor": "white",
            "showbackground": true,
            "ticks": "",
            "zerolinecolor": "white"
           }
          },
          "shapedefaults": {
           "line": {
            "color": "#2a3f5f"
           }
          },
          "ternary": {
           "aaxis": {
            "gridcolor": "white",
            "linecolor": "white",
            "ticks": ""
           },
           "baxis": {
            "gridcolor": "white",
            "linecolor": "white",
            "ticks": ""
           },
           "bgcolor": "#E5ECF6",
           "caxis": {
            "gridcolor": "white",
            "linecolor": "white",
            "ticks": ""
           }
          },
          "title": {
           "x": 0.05
          },
          "xaxis": {
           "automargin": true,
           "gridcolor": "white",
           "linecolor": "white",
           "ticks": "",
           "title": {
            "standoff": 15
           },
           "zerolinecolor": "white",
           "zerolinewidth": 2
          },
          "yaxis": {
           "automargin": true,
           "gridcolor": "white",
           "linecolor": "white",
           "ticks": "",
           "title": {
            "standoff": 15
           },
           "zerolinecolor": "white",
           "zerolinewidth": 2
          }
         }
        }
       }
      }
     },
     "metadata": {},
     "output_type": "display_data"
    }
   ],
   "source": [
    "query_node = \"R-HSA-597592\"\n",
    "\n",
    "IG.plot_subgraph_sankey(\n",
    "    query_node, upstream=True, savename=\"img/subgraph_sankey.png\", cmap=\"coolwarm\"\n",
    ")"
   ]
  }
 ],
 "metadata": {
  "kernelspec": {
   "display_name": ".venv",
   "language": "python",
   "name": "python3"
  },
  "language_info": {
   "codemirror_mode": {
    "name": "ipython",
    "version": 3
   },
   "file_extension": ".py",
   "mimetype": "text/x-python",
   "name": "python",
   "nbconvert_exporter": "python",
   "pygments_lexer": "ipython3",
   "version": "3.10.15"
  },
  "orig_nbformat": 4
 },
 "nbformat": 4,
 "nbformat_minor": 2
}
