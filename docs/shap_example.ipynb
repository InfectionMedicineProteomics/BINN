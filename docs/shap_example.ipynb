{
 "cells": [
  {
   "cell_type": "code",
   "execution_count": 16,
   "metadata": {},
   "outputs": [
    {
     "name": "stdout",
     "output_type": "stream",
     "text": [
      "\n",
      "BINN is on the device: cpu\n"
     ]
    }
   ],
   "source": [
    "from binn import Network, BINN\n",
    "import pandas as pd\n",
    "\n",
    "input_data = pd.read_csv(\"../data/test_qm.csv\")\n",
    "translation = pd.read_csv(\"../data/translation.tsv\", sep=\"\\t\")\n",
    "pathways = pd.read_csv(\"../data/pathways.tsv\", sep=\"\\t\")\n",
    "\n",
    "network = Network(\n",
    "    input_data=input_data,\n",
    "    pathways=pathways,\n",
    "    mapping=translation,\n",
    "    source_column=\"child\",\n",
    "    target_column=\"parent\",\n",
    ")\n",
    "\n",
    "binn = BINN(\n",
    "    network=network,\n",
    "    n_layers=4,\n",
    "    dropout=0.2,\n",
    "    validate=False,\n",
    "    residual=False,\n",
    "    device=\"cpu\",\n",
    "    learning_rate=0.001\n",
    ")"
   ]
  },
  {
   "cell_type": "code",
   "execution_count": 17,
   "metadata": {},
   "outputs": [
    {
     "name": "stderr",
     "output_type": "stream",
     "text": [
      "GPU available: True (mps), used: True\n",
      "TPU available: False, using: 0 TPU cores\n",
      "IPU available: False, using: 0 IPUs\n",
      "HPU available: False, using: 0 HPUs\n"
     ]
    }
   ],
   "source": [
    "from util_for_examples import fit_data_matrix_to_network_input, generate_data\n",
    "import torch\n",
    "from lightning.pytorch import Trainer\n",
    "\n",
    "design_matrix = pd.read_csv(\"../data/design_matrix.tsv\", sep=\"\\t\")\n",
    "\n",
    "protein_matrix = fit_data_matrix_to_network_input(input_data, features=network.inputs)\n",
    "\n",
    "X, y = generate_data(protein_matrix, design_matrix=design_matrix)\n",
    "dataset = torch.utils.data.TensorDataset(\n",
    "    torch.tensor(X, dtype=torch.float32, device=binn.device),\n",
    "    torch.tensor(y, dtype=torch.int16, device=binn.device),\n",
    ")\n",
    "dataloader = torch.utils.data.DataLoader(dataset, batch_size=8, shuffle=True)\n",
    "\n",
    "# You can train using the Lightning Trainer\n",
    "trainer = Trainer(max_epochs=10, log_every_n_steps=10)\n",
    "#trainer.fit(binn, dataloader)"
   ]
  },
  {
   "cell_type": "markdown",
   "metadata": {},
   "source": [
    "Since training with the ```Lightning.Trainer``` is slow (since new workers are created for each epoch), we can implement our own training-loop in a standard PyTorch-fashion."
   ]
  },
  {
   "cell_type": "code",
   "execution_count": 18,
   "metadata": {},
   "outputs": [
    {
     "name": "stdout",
     "output_type": "stream",
     "text": [
      "Epoch 0, Average Accuracy 0.5519999861717224, Average Loss: 0.7984879660606384\n",
      "Epoch 1, Average Accuracy 0.7119999527931213, Average Loss: 0.5876554298400879\n",
      "Epoch 2, Average Accuracy 0.7699999809265137, Average Loss: 0.5000520890951157\n",
      "Epoch 3, Average Accuracy 0.8059999942779541, Average Loss: 0.4410453510284424\n",
      "Epoch 4, Average Accuracy 0.7699999809265137, Average Loss: 0.48531828820705414\n",
      "Epoch 5, Average Accuracy 0.8100000023841858, Average Loss: 0.38955733954906463\n",
      "Epoch 6, Average Accuracy 0.7809999585151672, Average Loss: 0.4015652185678482\n",
      "Epoch 7, Average Accuracy 0.7890000343322754, Average Loss: 0.4215572929382324\n",
      "Epoch 8, Average Accuracy 0.8889999985694885, Average Loss: 0.31606161445379255\n",
      "Epoch 9, Average Accuracy 0.8769999742507935, Average Loss: 0.3141865438222885\n",
      "Epoch 10, Average Accuracy 0.8849999904632568, Average Loss: 0.31385430574417117\n",
      "Epoch 11, Average Accuracy 0.871999979019165, Average Loss: 0.2942655232548714\n",
      "Epoch 12, Average Accuracy 0.8399999737739563, Average Loss: 0.2976784099638462\n",
      "Epoch 13, Average Accuracy 0.875, Average Loss: 0.25456758081912995\n",
      "Epoch 14, Average Accuracy 0.9519999623298645, Average Loss: 0.1938611924648285\n",
      "Epoch 15, Average Accuracy 0.9049999713897705, Average Loss: 0.2302371022105217\n",
      "Epoch 16, Average Accuracy 0.9519999623298645, Average Loss: 0.1974144048988819\n",
      "Epoch 17, Average Accuracy 0.8889999985694885, Average Loss: 0.22772141829133033\n",
      "Epoch 18, Average Accuracy 0.9300000071525574, Average Loss: 0.21292504481971264\n",
      "Epoch 19, Average Accuracy 0.925000011920929, Average Loss: 0.19984641671180725\n",
      "Epoch 20, Average Accuracy 0.8640000224113464, Average Loss: 0.30628247559070587\n",
      "Epoch 21, Average Accuracy 0.949999988079071, Average Loss: 0.18478416368365289\n",
      "Epoch 22, Average Accuracy 0.8919999599456787, Average Loss: 0.2577762907743454\n",
      "Epoch 23, Average Accuracy 0.9300000071525574, Average Loss: 0.19484564393758774\n",
      "Epoch 24, Average Accuracy 0.9549999833106995, Average Loss: 0.17850346982479096\n",
      "Epoch 25, Average Accuracy 0.9369999766349792, Average Loss: 0.18940596178174018\n",
      "Epoch 26, Average Accuracy 0.909000039100647, Average Loss: 0.21654408738017084\n",
      "Epoch 27, Average Accuracy 0.9449999928474426, Average Loss: 0.16795408174395562\n",
      "Epoch 28, Average Accuracy 0.9369999766349792, Average Loss: 0.1838543491065502\n",
      "Epoch 29, Average Accuracy 0.9350000023841858, Average Loss: 0.1619287095963955\n"
     ]
    }
   ],
   "source": [
    "import torch.nn.functional as F\n",
    "\n",
    "# You can also train with a standard PyTorch train loop \n",
    "\n",
    "optimizer = binn.configure_optimizers()[0][0]\n",
    "\n",
    "num_epochs = 30\n",
    "\n",
    "for epoch in range(num_epochs):\n",
    "    binn.train() \n",
    "    total_loss = 0.0\n",
    "    total_accuracy = 0\n",
    "\n",
    "    for batch_idx, (inputs, targets) in enumerate(dataloader):\n",
    "        inputs = inputs.to(binn.device)\n",
    "        targets = targets.to(binn.device).type(torch.LongTensor)\n",
    "        optimizer.zero_grad()\n",
    "        outputs = binn(inputs).to(binn.device)\n",
    "        loss = F.cross_entropy(outputs, targets)\n",
    "        loss.backward()\n",
    "        optimizer.step()\n",
    "        total_loss += loss.item()\n",
    "        total_accuracy += torch.sum(torch.argmax(outputs, axis=1) == targets) / len(targets)\n",
    "\n",
    "    avg_loss = total_loss / len(dataloader)\n",
    "    avg_accuracy = total_accuracy / len(dataloader)\n",
    "    print(f'Epoch {epoch}, Average Accuracy {avg_accuracy}, Average Loss: {avg_loss}')\n",
    "\n"
   ]
  },
  {
   "cell_type": "code",
   "execution_count": 19,
   "metadata": {},
   "outputs": [],
   "source": [
    "from binn import BINNExplainer\n",
    "\n",
    "explainer = BINNExplainer(binn)"
   ]
  },
  {
   "cell_type": "code",
   "execution_count": 20,
   "metadata": {},
   "outputs": [
    {
     "data": {
      "text/html": [
       "<div>\n",
       "<style scoped>\n",
       "    .dataframe tbody tr th:only-of-type {\n",
       "        vertical-align: middle;\n",
       "    }\n",
       "\n",
       "    .dataframe tbody tr th {\n",
       "        vertical-align: top;\n",
       "    }\n",
       "\n",
       "    .dataframe thead th {\n",
       "        text-align: right;\n",
       "    }\n",
       "</style>\n",
       "<table border=\"1\" class=\"dataframe\">\n",
       "  <thead>\n",
       "    <tr style=\"text-align: right;\">\n",
       "      <th></th>\n",
       "      <th>source</th>\n",
       "      <th>target</th>\n",
       "      <th>source name</th>\n",
       "      <th>target name</th>\n",
       "      <th>value</th>\n",
       "      <th>type</th>\n",
       "      <th>source layer</th>\n",
       "      <th>target layer</th>\n",
       "    </tr>\n",
       "  </thead>\n",
       "  <tbody>\n",
       "    <tr>\n",
       "      <th>0</th>\n",
       "      <td>1</td>\n",
       "      <td>497</td>\n",
       "      <td>A0M8Q6</td>\n",
       "      <td>R-HSA-166663</td>\n",
       "      <td>0.0</td>\n",
       "      <td>0</td>\n",
       "      <td>0</td>\n",
       "      <td>1</td>\n",
       "    </tr>\n",
       "    <tr>\n",
       "      <th>1</th>\n",
       "      <td>1</td>\n",
       "      <td>497</td>\n",
       "      <td>A0M8Q6</td>\n",
       "      <td>R-HSA-166663</td>\n",
       "      <td>0.0</td>\n",
       "      <td>1</td>\n",
       "      <td>0</td>\n",
       "      <td>1</td>\n",
       "    </tr>\n",
       "    <tr>\n",
       "      <th>2</th>\n",
       "      <td>1</td>\n",
       "      <td>954</td>\n",
       "      <td>A0M8Q6</td>\n",
       "      <td>R-HSA-198933</td>\n",
       "      <td>0.0</td>\n",
       "      <td>0</td>\n",
       "      <td>0</td>\n",
       "      <td>1</td>\n",
       "    </tr>\n",
       "    <tr>\n",
       "      <th>3</th>\n",
       "      <td>1</td>\n",
       "      <td>954</td>\n",
       "      <td>A0M8Q6</td>\n",
       "      <td>R-HSA-198933</td>\n",
       "      <td>0.0</td>\n",
       "      <td>1</td>\n",
       "      <td>0</td>\n",
       "      <td>1</td>\n",
       "    </tr>\n",
       "    <tr>\n",
       "      <th>4</th>\n",
       "      <td>1</td>\n",
       "      <td>539</td>\n",
       "      <td>A0M8Q6</td>\n",
       "      <td>R-HSA-2029481</td>\n",
       "      <td>0.0</td>\n",
       "      <td>0</td>\n",
       "      <td>0</td>\n",
       "      <td>1</td>\n",
       "    </tr>\n",
       "  </tbody>\n",
       "</table>\n",
       "</div>"
      ],
      "text/plain": [
       "   source  target source name    target name  value  type  source layer  \\\n",
       "0       1     497      A0M8Q6   R-HSA-166663    0.0     0             0   \n",
       "1       1     497      A0M8Q6   R-HSA-166663    0.0     1             0   \n",
       "2       1     954      A0M8Q6   R-HSA-198933    0.0     0             0   \n",
       "3       1     954      A0M8Q6   R-HSA-198933    0.0     1             0   \n",
       "4       1     539      A0M8Q6  R-HSA-2029481    0.0     0             0   \n",
       "\n",
       "   target layer  \n",
       "0             1  \n",
       "1             1  \n",
       "2             1  \n",
       "3             1  \n",
       "4             1  "
      ]
     },
     "execution_count": 20,
     "metadata": {},
     "output_type": "execute_result"
    }
   ],
   "source": [
    "test_data = torch.Tensor(X[5:10])\n",
    "background_data = torch.Tensor(X[0:5])\n",
    "\n",
    "importance_df = explainer.explain(test_data, background_data)\n",
    "importance_df.head()"
   ]
  },
  {
   "cell_type": "code",
   "execution_count": 21,
   "metadata": {},
   "outputs": [],
   "source": [
    "from binn import ImportanceNetwork\n",
    "\n",
    "IG = ImportanceNetwork(importance_df, norm_method=\"fan\")"
   ]
  },
  {
   "cell_type": "code",
   "execution_count": 22,
   "metadata": {},
   "outputs": [
    {
     "data": {
      "application/vnd.plotly.v1+json": {
       "config": {
        "plotlyServerURL": "https://plot.ly"
       },
       "data": [
        {
         "arrangement": "snap",
         "link": {
          "color": [
           "rgba(255.0, 255.0, 153.0, 0.3)",
           "rgba(127.0, 201.0, 127.0, 0.3)",
           "rgba(102.0, 102.0, 102.0, 0.3)",
           "rgba(56.0, 108.0, 176.0, 0.3)",
           "rgba(127.0, 201.0, 127.0, 0.3)",
           "rgba(102.0, 102.0, 102.0, 0.3)",
           "rgba(127.0, 201.0, 127.0, 0.3)",
           "rgba(102.0, 102.0, 102.0, 0.3)",
           "rgba(191.0, 91.0, 22.999999999999996, 0.3)",
           "rgba(240.0, 2.0, 127.0, 0.3)",
           "rgba(102.0, 102.0, 102.0, 0.3)",
           "rgba(102.0, 102.0, 102.0, 0.3)",
           "rgba(102.0, 102.0, 102.0, 0.3)",
           "rgba(102.0, 102.0, 102.0, 0.3)",
           "rgba(191.0, 91.0, 22.999999999999996, 0.3)",
           "rgba(191.0, 91.0, 22.999999999999996, 0.3)",
           "rgba(240.0, 2.0, 127.0, 0.3)",
           "rgba(253.0, 192.0, 134.0, 0.3)",
           "rgba(191.0, 91.0, 22.999999999999996, 0.3)",
           "rgba(191.0, 91.0, 22.999999999999996, 0.3)",
           "rgba(102.0, 102.0, 102.0, 0.3)",
           "rgba(102.0, 102.0, 102.0, 0.3)",
           "rgba(191.0, 91.0, 22.999999999999996, 0.3)",
           "rgba(102.0, 102.0, 102.0, 0.3)",
           "rgba(102.0, 102.0, 102.0, 0.3)",
           "rgba(240.0, 2.0, 127.0, 0.3)",
           "rgba(56.0, 108.0, 176.0, 0.3)",
           "rgba(191.0, 91.0, 22.999999999999996, 0.3)",
           "rgba(191.0, 91.0, 22.999999999999996, 0.3)",
           "rgba(102.0, 102.0, 102.0, 0.3)",
           "rgba(127.0, 201.0, 127.0, 0.3)",
           "rgba(127.0, 201.0, 127.0, 0.3)",
           "rgba(127.0, 201.0, 127.0, 0.3)",
           "rgba(102.0, 102.0, 102.0, 0.3)",
           "rgba(102.0, 102.0, 102.0, 0.3)",
           "rgba(191.0, 91.0, 22.999999999999996, 0.3)",
           "rgba(56.0, 108.0, 176.0, 0.3)",
           "rgba(240.0, 2.0, 127.0, 0.3)",
           "rgba(191.0, 91.0, 22.999999999999996, 0.3)",
           "rgba(191.0, 91.0, 22.999999999999996, 0.3)",
           "rgba(191.0, 91.0, 22.999999999999996, 0.3)",
           "rgba(240.0, 2.0, 127.0, 0.3)",
           "rgba(56.0, 108.0, 176.0, 0.3)",
           "rgba(127.0, 201.0, 127.0, 0.3)",
           "rgba(240.0, 2.0, 127.0, 0.3)",
           "rgba(56.0, 108.0, 176.0, 0.3)",
           "rgba(191.0, 91.0, 22.999999999999996, 0.3)",
           "rgba(255.0, 255.0, 153.0, 0.3)",
           "rgba(191.0, 91.0, 22.999999999999996, 0.3)",
           "rgba(240.0, 2.0, 127.0, 0.3)",
           "rgba(102.0, 102.0, 102.0, 0.3)",
           "rgb(236,236,236, 0.3)",
           "rgb(236,236,236, 0.3)",
           "rgb(236,236,236, 0.3)",
           "rgb(236,236,236, 0.3)",
           "rgb(236,236,236, 0.3)",
           "rgb(236,236,236, 0.3)",
           "rgb(236,236,236, 0.3)",
           "rgb(236,236,236, 0.3)",
           "rgb(236,236,236, 0.3)",
           "rgb(236,236,236, 0.3)",
           "rgb(236,236,236, 0.3)",
           "rgb(236,236,236, 0.3)",
           "rgb(236,236,236, 0.3)",
           "rgb(236,236,236, 0.3)",
           "rgb(236,236,236, 0.3)",
           "rgb(236,236,236, 0.3)",
           "rgb(236,236,236, 0.3)",
           "rgba(191.0, 91.0, 22.999999999999996, 0.3)",
           "rgb(236,236,236, 0.3)",
           "rgb(236,236,236, 0.3)",
           "rgb(236,236,236, 0.3)",
           "rgb(236,236,236, 0.3)",
           "rgb(236,236,236, 0.3)",
           "rgb(236,236,236, 0.3)",
           "rgba(102.0, 102.0, 102.0, 0.3)",
           "rgb(236,236,236, 0.3)",
           "rgba(190.0, 174.0, 212.0, 0.3)",
           "rgba(102.0, 102.0, 102.0, 0.3)",
           "rgb(236,236,236, 0.3)",
           "rgb(236,236,236, 0.3)",
           "rgb(236,236,236, 0.3)",
           "rgb(236,236,236, 0.3)",
           "rgb(236,236,236, 0.3)",
           "rgb(236,236,236, 0.3)",
           "rgb(236,236,236, 0.3)",
           "rgb(236,236,236, 0.3)",
           "rgb(236,236,236, 0.3)",
           "rgb(236,236,236, 0.3)"
          ],
          "source": [
           0,
           1,
           3,
           4,
           5,
           6,
           7,
           8,
           9,
           10,
           11,
           12,
           12,
           12,
           13,
           14,
           15,
           16,
           17,
           18,
           19,
           19,
           20,
           21,
           22,
           23,
           24,
           25,
           26,
           27,
           28,
           28,
           29,
           30,
           31,
           32,
           33,
           34,
           35,
           36,
           36,
           37,
           38,
           39,
           40,
           41,
           42,
           43,
           44,
           45,
           46,
           47,
           47,
           47,
           47,
           47,
           47,
           47,
           47,
           47,
           48,
           48,
           48,
           48,
           48,
           48,
           48,
           48,
           49,
           50,
           50,
           50,
           50,
           50,
           50,
           51,
           52,
           53,
           54,
           55,
           55,
           55,
           55,
           55,
           55,
           55,
           55,
           55,
           55
          ],
          "target": [
           34,
           16,
           10,
           53,
           1,
           37,
           2,
           50,
           32,
           2,
           50,
           50,
           51,
           0,
           2,
           29,
           2,
           7,
           50,
           2,
           39,
           50,
           2,
           50,
           2,
           2,
           2,
           38,
           2,
           47,
           50,
           5,
           52,
           50,
           47,
           23,
           41,
           29,
           42,
           50,
           4,
           9,
           15,
           14,
           10,
           20,
           52,
           33,
           48,
           48,
           9,
           24,
           13,
           15,
           22,
           26,
           10,
           18,
           23,
           20,
           16,
           32,
           3,
           29,
           38,
           40,
           42,
           54,
           35,
           14,
           27,
           35,
           34,
           9,
           31,
           27,
           2,
           24,
           52,
           0,
           46,
           37,
           43,
           51,
           25,
           45,
           44,
           49,
           5
          ],
          "value": [
           0.12157585914239515,
           0.22268912933243762,
           0.05788734937808082,
           0.12003857050487438,
           0.17669086885815868,
           0.042020883832981124,
           0.19297547259721617,
           0.024631582809127618,
           0.06942282194918772,
           0.1053221672589502,
           0.029724355166353373,
           0.0359487543258236,
           0.0359487543258236,
           0.0359487543258236,
           0.07496285447131486,
           0.08356969006428079,
           0.0962180101921617,
           0.13081752808993358,
           0.052882611613788,
           0.07918112660123065,
           0.039109727162071464,
           0.039109727162071464,
           0.08714473308620156,
           0.02850640146394857,
           0.06722284449418417,
           0.09706166758678648,
           0.12278888969704337,
           0.0764056404018031,
           0.07712223401491067,
           0.05302132722105265,
           0.43964163580343324,
           0.024424535322412958,
           0.17510119219044276,
           0.0289062793695867,
           0.05888478238396493,
           0.063369537569262,
           0.12484847304862035,
           0.1060777181897128,
           0.08504184690406581,
           0.10739699798756619,
           0.03579899932918873,
           0.08770315608784997,
           0.09851264931708381,
           0.16206703057610405,
           0.08325842555713608,
           0.10924369710185258,
           0.07057282924812981,
           0.11976968461466886,
           0.0652157340717217,
           0.07980195715928069,
           0.061098033941173566,
           0,
           0.02300774704035797,
           0.0005620178598284185,
           0.01937649987458865,
           0.022543286784457755,
           0.016768084304162375,
           0.015386889604074014,
           0.0009699721758594347,
           0.0013855023566713932,
           0.0014683121584815435,
           0.03663309150426115,
           0.012832171801311435,
           0.007247460875836866,
           0.00615174776273916,
           0.0100462432953358,
           0.014048315901750676,
           0.01157265670028337,
           0.06810266878301735,
           0.008327883705884914,
           0.009568034946665452,
           0.0035579864681750143,
           0.010692313172201602,
           0.01048830797212795,
           0.05736547373494507,
           0.057975006765629784,
           0.09999999999999999,
           0.15387347273772545,
           0.05736331881035309,
           0.013875145004542682,
           0.011993641571666401,
           0.008502832914583569,
           0.01812381211680637,
           0.0005540721988199933,
           0.01676470138494654,
           0.006790699517639545,
           0.007850428377780185,
           0.005925373620979324,
           0.0096192932922354
          ]
         },
         "node": {
          "color": [
           "rgba(255.0, 255.0, 153.0, 0.75)",
           "rgba(127.0, 201.0, 127.0, 0.75)",
           "rgba(0,0,0,1)",
           "rgba(102.0, 102.0, 102.0, 0.75)",
           "rgba(56.0, 108.0, 176.0, 0.75)",
           "rgba(127.0, 201.0, 127.0, 0.75)",
           "rgba(102.0, 102.0, 102.0, 0.75)",
           "rgba(127.0, 201.0, 127.0, 0.75)",
           "rgba(102.0, 102.0, 102.0, 0.75)",
           "rgba(191.0, 91.0, 22.999999999999996, 0.75)",
           "rgba(240.0, 2.0, 127.0, 0.75)",
           "rgba(102.0, 102.0, 102.0, 0.75)",
           "rgba(102.0, 102.0, 102.0, 0.75)",
           "rgba(191.0, 91.0, 22.999999999999996, 0.75)",
           "rgba(191.0, 91.0, 22.999999999999996, 0.75)",
           "rgba(240.0, 2.0, 127.0, 0.75)",
           "rgba(253.0, 192.0, 134.0, 0.75)",
           "rgba(191.0, 91.0, 22.999999999999996, 0.75)",
           "rgba(191.0, 91.0, 22.999999999999996, 0.75)",
           "rgba(102.0, 102.0, 102.0, 0.75)",
           "rgba(191.0, 91.0, 22.999999999999996, 0.75)",
           "rgba(102.0, 102.0, 102.0, 0.75)",
           "rgba(102.0, 102.0, 102.0, 0.75)",
           "rgba(240.0, 2.0, 127.0, 0.75)",
           "rgba(56.0, 108.0, 176.0, 0.75)",
           "rgba(191.0, 91.0, 22.999999999999996, 0.75)",
           "rgba(191.0, 91.0, 22.999999999999996, 0.75)",
           "rgba(102.0, 102.0, 102.0, 0.75)",
           "rgba(127.0, 201.0, 127.0, 0.75)",
           "rgba(127.0, 201.0, 127.0, 0.75)",
           "rgba(102.0, 102.0, 102.0, 0.75)",
           "rgba(102.0, 102.0, 102.0, 0.75)",
           "rgba(191.0, 91.0, 22.999999999999996, 0.75)",
           "rgba(56.0, 108.0, 176.0, 0.75)",
           "rgba(240.0, 2.0, 127.0, 0.75)",
           "rgba(191.0, 91.0, 22.999999999999996, 0.75)",
           "rgba(191.0, 91.0, 22.999999999999996, 0.75)",
           "rgba(240.0, 2.0, 127.0, 0.75)",
           "rgba(56.0, 108.0, 176.0, 0.75)",
           "rgba(127.0, 201.0, 127.0, 0.75)",
           "rgba(240.0, 2.0, 127.0, 0.75)",
           "rgba(56.0, 108.0, 176.0, 0.75)",
           "rgba(191.0, 91.0, 22.999999999999996, 0.75)",
           "rgba(255.0, 255.0, 153.0, 0.75)",
           "rgba(191.0, 91.0, 22.999999999999996, 0.75)",
           "rgba(240.0, 2.0, 127.0, 0.75)",
           "rgba(102.0, 102.0, 102.0, 0.75)",
           "rgb(236,236,236, 0.75)",
           "rgb(236,236,236, 0.75)",
           "rgba(191.0, 91.0, 22.999999999999996, 0.75)",
           "rgb(236,236,236, 0.75)",
           "rgba(102.0, 102.0, 102.0, 0.75)",
           "rgb(236,236,236, 0.75)",
           "rgba(190.0, 174.0, 212.0, 0.75)",
           "rgba(102.0, 102.0, 102.0, 0.75)",
           "rgb(236,236,236, 0.75)"
          ],
          "label": [
           "R-HSA-71384",
           "R-HSA-112314",
           "Output",
           "R-HSA-9675108",
           "R-HSA-9033500",
           "R-HSA-442755",
           "P22352",
           "R-HSA-112316",
           "O95678",
           "R-HSA-9711123",
           "R-HSA-1266738",
           "P00338",
           "P00352",
           "R-HSA-1474244",
           "R-HSA-156580",
           "R-HSA-1852241",
           "R-HSA-112315",
           "Q15848",
           "R-HSA-397014",
           "Q16851",
           "R-HSA-69306",
           "Q6ZMR3",
           "R-HSA-74160",
           "R-HSA-8953897",
           "R-HSA-9609507",
           "R-HSA-5620912",
           "R-HSA-9748784",
           "R-HSA-5652084",
           "Q9H4B7",
           "R-HSA-211859",
           "Q9UNW1",
           "R-HSA-6806667",
           "R-HSA-2262752",
           "R-HSA-68867",
           "R-HSA-211945",
           "R-HSA-69615",
           "P09110",
           "R-HSA-3299685",
           "R-HSA-5617833",
           "R-HSA-156588",
           "R-HSA-6805567",
           "R-HSA-69002",
           "R-HSA-69620",
           "R-HSA-68616",
           "R-HSA-1638074",
           "R-HSA-381070",
           "R-HSA-9707564",
           "Other connections 4",
           "Other connections 3",
           "R-HSA-69580",
           "Other connections 2",
           "R-HSA-70350",
           "Other connections 5",
           "R-HSA-9033241",
           "R-HSA-917937",
           "Other connections 1"
          ],
          "line": {
           "color": "white",
           "width": 0
          },
          "pad": 15,
          "thickness": 15,
          "x": [
           [
            0.16833333333333333
           ],
           [
            0.33499999999999996
           ],
           0.85,
           [
            0.5016666666666666
           ],
           [
            0.33499999999999996
           ],
           [
            0.16833333333333333
           ],
           [
            0.0016666666666666668
           ],
           [
            0.6683333333333333
           ],
           [
            0.0016666666666666668
           ],
           [
            0.33499999999999996
           ],
           [
            0.6683333333333333
           ],
           [
            0.0016666666666666668
           ],
           [
            0.0016666666666666668
           ],
           [
            0.6683333333333333
           ],
           [
            0.33499999999999996
           ],
           [
            0.6683333333333333
           ],
           [
            0.5016666666666666
           ],
           [
            0.0016666666666666668
           ],
           [
            0.6683333333333333
           ],
           [
            0.0016666666666666668
           ],
           [
            0.6683333333333333
           ],
           [
            0.0016666666666666668
           ],
           [
            0.6683333333333333
           ],
           [
            0.6683333333333333
           ],
           [
            0.6683333333333333
           ],
           [
            0.33499999999999996
           ],
           [
            0.6683333333333333
           ],
           [
            0.33499999999999996
           ],
           [
            0.0016666666666666668
           ],
           [
            0.5016666666666666
           ],
           [
            0.0016666666666666668
           ],
           [
            0.33499999999999996
           ],
           [
            0.5016666666666666
           ],
           [
            0.33499999999999996
           ],
           [
            0.33499999999999996
           ],
           [
            0.33499999999999996
           ],
           [
            0.0016666666666666668
           ],
           [
            0.16833333333333333
           ],
           [
            0.5016666666666666
           ],
           [
            0.16833333333333333
           ],
           [
            0.5016666666666666
           ],
           [
            0.5016666666666666
           ],
           [
            0.5016666666666666
           ],
           [
            0.16833333333333333
           ],
           [
            0.16833333333333333
           ],
           [
            0.16833333333333333
           ],
           [
            0.16833333333333333
           ],
           [
            0.5016666666666666
           ],
           [
            0.33499999999999996
           ],
           [
            0.16833333333333333
           ],
           [
            0.16833333333333333
           ],
           [
            0.16833333333333333
           ],
           [
            0.6683333333333333
           ],
           [
            0.5016666666666666
           ],
           [
            0.5016666666666666
           ],
           [
            0.0016666666666666668
           ]
          ],
          "y": [
           [
            0.12866666666666665
           ],
           [
            -0.04911111111111113
           ],
           0.5,
           [
            0.662
           ],
           [
            0.12866666666666665
           ],
           [
            -0.04911111111111113
           ],
           [
            0.21755555555555556
           ],
           [
            -0.04911111111111113
           ],
           [
            0.7508888888888888
           ],
           [
            0.5731111111111111
           ],
           [
            0.12866666666666665
           ],
           [
            0.48422222222222217
           ],
           [
            0.39533333333333337
           ],
           [
            0.662
           ],
           [
            0.39533333333333337
           ],
           [
            0.30644444444444446
           ],
           [
            0.12866666666666665
           ],
           [
            0.12866666666666665
           ],
           [
            0.48422222222222217
           ],
           [
            0.30644444444444446
           ],
           [
            0.39533333333333337
           ],
           [
            0.662
           ],
           [
            0.7508888888888888
           ],
           [
            0.21755555555555556
           ],
           [
            0.03977777777777776
           ],
           [
            0.48422222222222217
           ],
           [
            0.5731111111111111
           ],
           [
            0.7508888888888888
           ],
           [
            -0.04911111111111113
           ],
           [
            -0.04911111111111113
           ],
           [
            0.5731111111111111
           ],
           [
            0.662
           ],
           [
            0.5731111111111111
           ],
           [
            0.03977777777777776
           ],
           [
            0.21755555555555556
           ],
           [
            0.30644444444444446
           ],
           [
            0.03977777777777776
           ],
           [
            0.30644444444444446
           ],
           [
            0.30644444444444446
           ],
           [
            0.03977777777777776
           ],
           [
            0.39533333333333337
           ],
           [
            0.21755555555555556
           ],
           [
            0.48422222222222217
           ],
           [
            0.21755555555555556
           ],
           [
            0.5731111111111111
           ],
           [
            0.39533333333333337
           ],
           [
            0.662
           ],
           [
            0.9
           ],
           [
            0.9
           ],
           [
            0.48422222222222217
           ],
           [
            0.9
           ],
           [
            0.7508888888888888
           ],
           [
            0.9
           ],
           [
            0.03977777777777776
           ],
           [
            0.7508888888888888
           ],
           [
            0.9
           ]
          ]
         },
         "orientation": "h",
         "textfont": {
          "family": "Arial",
          "size": 15
         },
         "type": "sankey"
        }
       ],
       "layout": {
        "template": {
         "data": {
          "bar": [
           {
            "error_x": {
             "color": "#2a3f5f"
            },
            "error_y": {
             "color": "#2a3f5f"
            },
            "marker": {
             "line": {
              "color": "#E5ECF6",
              "width": 0.5
             },
             "pattern": {
              "fillmode": "overlay",
              "size": 10,
              "solidity": 0.2
             }
            },
            "type": "bar"
           }
          ],
          "barpolar": [
           {
            "marker": {
             "line": {
              "color": "#E5ECF6",
              "width": 0.5
             },
             "pattern": {
              "fillmode": "overlay",
              "size": 10,
              "solidity": 0.2
             }
            },
            "type": "barpolar"
           }
          ],
          "carpet": [
           {
            "aaxis": {
             "endlinecolor": "#2a3f5f",
             "gridcolor": "white",
             "linecolor": "white",
             "minorgridcolor": "white",
             "startlinecolor": "#2a3f5f"
            },
            "baxis": {
             "endlinecolor": "#2a3f5f",
             "gridcolor": "white",
             "linecolor": "white",
             "minorgridcolor": "white",
             "startlinecolor": "#2a3f5f"
            },
            "type": "carpet"
           }
          ],
          "choropleth": [
           {
            "colorbar": {
             "outlinewidth": 0,
             "ticks": ""
            },
            "type": "choropleth"
           }
          ],
          "contour": [
           {
            "colorbar": {
             "outlinewidth": 0,
             "ticks": ""
            },
            "colorscale": [
             [
              0,
              "#0d0887"
             ],
             [
              0.1111111111111111,
              "#46039f"
             ],
             [
              0.2222222222222222,
              "#7201a8"
             ],
             [
              0.3333333333333333,
              "#9c179e"
             ],
             [
              0.4444444444444444,
              "#bd3786"
             ],
             [
              0.5555555555555556,
              "#d8576b"
             ],
             [
              0.6666666666666666,
              "#ed7953"
             ],
             [
              0.7777777777777778,
              "#fb9f3a"
             ],
             [
              0.8888888888888888,
              "#fdca26"
             ],
             [
              1,
              "#f0f921"
             ]
            ],
            "type": "contour"
           }
          ],
          "contourcarpet": [
           {
            "colorbar": {
             "outlinewidth": 0,
             "ticks": ""
            },
            "type": "contourcarpet"
           }
          ],
          "heatmap": [
           {
            "colorbar": {
             "outlinewidth": 0,
             "ticks": ""
            },
            "colorscale": [
             [
              0,
              "#0d0887"
             ],
             [
              0.1111111111111111,
              "#46039f"
             ],
             [
              0.2222222222222222,
              "#7201a8"
             ],
             [
              0.3333333333333333,
              "#9c179e"
             ],
             [
              0.4444444444444444,
              "#bd3786"
             ],
             [
              0.5555555555555556,
              "#d8576b"
             ],
             [
              0.6666666666666666,
              "#ed7953"
             ],
             [
              0.7777777777777778,
              "#fb9f3a"
             ],
             [
              0.8888888888888888,
              "#fdca26"
             ],
             [
              1,
              "#f0f921"
             ]
            ],
            "type": "heatmap"
           }
          ],
          "heatmapgl": [
           {
            "colorbar": {
             "outlinewidth": 0,
             "ticks": ""
            },
            "colorscale": [
             [
              0,
              "#0d0887"
             ],
             [
              0.1111111111111111,
              "#46039f"
             ],
             [
              0.2222222222222222,
              "#7201a8"
             ],
             [
              0.3333333333333333,
              "#9c179e"
             ],
             [
              0.4444444444444444,
              "#bd3786"
             ],
             [
              0.5555555555555556,
              "#d8576b"
             ],
             [
              0.6666666666666666,
              "#ed7953"
             ],
             [
              0.7777777777777778,
              "#fb9f3a"
             ],
             [
              0.8888888888888888,
              "#fdca26"
             ],
             [
              1,
              "#f0f921"
             ]
            ],
            "type": "heatmapgl"
           }
          ],
          "histogram": [
           {
            "marker": {
             "pattern": {
              "fillmode": "overlay",
              "size": 10,
              "solidity": 0.2
             }
            },
            "type": "histogram"
           }
          ],
          "histogram2d": [
           {
            "colorbar": {
             "outlinewidth": 0,
             "ticks": ""
            },
            "colorscale": [
             [
              0,
              "#0d0887"
             ],
             [
              0.1111111111111111,
              "#46039f"
             ],
             [
              0.2222222222222222,
              "#7201a8"
             ],
             [
              0.3333333333333333,
              "#9c179e"
             ],
             [
              0.4444444444444444,
              "#bd3786"
             ],
             [
              0.5555555555555556,
              "#d8576b"
             ],
             [
              0.6666666666666666,
              "#ed7953"
             ],
             [
              0.7777777777777778,
              "#fb9f3a"
             ],
             [
              0.8888888888888888,
              "#fdca26"
             ],
             [
              1,
              "#f0f921"
             ]
            ],
            "type": "histogram2d"
           }
          ],
          "histogram2dcontour": [
           {
            "colorbar": {
             "outlinewidth": 0,
             "ticks": ""
            },
            "colorscale": [
             [
              0,
              "#0d0887"
             ],
             [
              0.1111111111111111,
              "#46039f"
             ],
             [
              0.2222222222222222,
              "#7201a8"
             ],
             [
              0.3333333333333333,
              "#9c179e"
             ],
             [
              0.4444444444444444,
              "#bd3786"
             ],
             [
              0.5555555555555556,
              "#d8576b"
             ],
             [
              0.6666666666666666,
              "#ed7953"
             ],
             [
              0.7777777777777778,
              "#fb9f3a"
             ],
             [
              0.8888888888888888,
              "#fdca26"
             ],
             [
              1,
              "#f0f921"
             ]
            ],
            "type": "histogram2dcontour"
           }
          ],
          "mesh3d": [
           {
            "colorbar": {
             "outlinewidth": 0,
             "ticks": ""
            },
            "type": "mesh3d"
           }
          ],
          "parcoords": [
           {
            "line": {
             "colorbar": {
              "outlinewidth": 0,
              "ticks": ""
             }
            },
            "type": "parcoords"
           }
          ],
          "pie": [
           {
            "automargin": true,
            "type": "pie"
           }
          ],
          "scatter": [
           {
            "fillpattern": {
             "fillmode": "overlay",
             "size": 10,
             "solidity": 0.2
            },
            "type": "scatter"
           }
          ],
          "scatter3d": [
           {
            "line": {
             "colorbar": {
              "outlinewidth": 0,
              "ticks": ""
             }
            },
            "marker": {
             "colorbar": {
              "outlinewidth": 0,
              "ticks": ""
             }
            },
            "type": "scatter3d"
           }
          ],
          "scattercarpet": [
           {
            "marker": {
             "colorbar": {
              "outlinewidth": 0,
              "ticks": ""
             }
            },
            "type": "scattercarpet"
           }
          ],
          "scattergeo": [
           {
            "marker": {
             "colorbar": {
              "outlinewidth": 0,
              "ticks": ""
             }
            },
            "type": "scattergeo"
           }
          ],
          "scattergl": [
           {
            "marker": {
             "colorbar": {
              "outlinewidth": 0,
              "ticks": ""
             }
            },
            "type": "scattergl"
           }
          ],
          "scattermapbox": [
           {
            "marker": {
             "colorbar": {
              "outlinewidth": 0,
              "ticks": ""
             }
            },
            "type": "scattermapbox"
           }
          ],
          "scatterpolar": [
           {
            "marker": {
             "colorbar": {
              "outlinewidth": 0,
              "ticks": ""
             }
            },
            "type": "scatterpolar"
           }
          ],
          "scatterpolargl": [
           {
            "marker": {
             "colorbar": {
              "outlinewidth": 0,
              "ticks": ""
             }
            },
            "type": "scatterpolargl"
           }
          ],
          "scatterternary": [
           {
            "marker": {
             "colorbar": {
              "outlinewidth": 0,
              "ticks": ""
             }
            },
            "type": "scatterternary"
           }
          ],
          "surface": [
           {
            "colorbar": {
             "outlinewidth": 0,
             "ticks": ""
            },
            "colorscale": [
             [
              0,
              "#0d0887"
             ],
             [
              0.1111111111111111,
              "#46039f"
             ],
             [
              0.2222222222222222,
              "#7201a8"
             ],
             [
              0.3333333333333333,
              "#9c179e"
             ],
             [
              0.4444444444444444,
              "#bd3786"
             ],
             [
              0.5555555555555556,
              "#d8576b"
             ],
             [
              0.6666666666666666,
              "#ed7953"
             ],
             [
              0.7777777777777778,
              "#fb9f3a"
             ],
             [
              0.8888888888888888,
              "#fdca26"
             ],
             [
              1,
              "#f0f921"
             ]
            ],
            "type": "surface"
           }
          ],
          "table": [
           {
            "cells": {
             "fill": {
              "color": "#EBF0F8"
             },
             "line": {
              "color": "white"
             }
            },
            "header": {
             "fill": {
              "color": "#C8D4E3"
             },
             "line": {
              "color": "white"
             }
            },
            "type": "table"
           }
          ]
         },
         "layout": {
          "annotationdefaults": {
           "arrowcolor": "#2a3f5f",
           "arrowhead": 0,
           "arrowwidth": 1
          },
          "autotypenumbers": "strict",
          "coloraxis": {
           "colorbar": {
            "outlinewidth": 0,
            "ticks": ""
           }
          },
          "colorscale": {
           "diverging": [
            [
             0,
             "#8e0152"
            ],
            [
             0.1,
             "#c51b7d"
            ],
            [
             0.2,
             "#de77ae"
            ],
            [
             0.3,
             "#f1b6da"
            ],
            [
             0.4,
             "#fde0ef"
            ],
            [
             0.5,
             "#f7f7f7"
            ],
            [
             0.6,
             "#e6f5d0"
            ],
            [
             0.7,
             "#b8e186"
            ],
            [
             0.8,
             "#7fbc41"
            ],
            [
             0.9,
             "#4d9221"
            ],
            [
             1,
             "#276419"
            ]
           ],
           "sequential": [
            [
             0,
             "#0d0887"
            ],
            [
             0.1111111111111111,
             "#46039f"
            ],
            [
             0.2222222222222222,
             "#7201a8"
            ],
            [
             0.3333333333333333,
             "#9c179e"
            ],
            [
             0.4444444444444444,
             "#bd3786"
            ],
            [
             0.5555555555555556,
             "#d8576b"
            ],
            [
             0.6666666666666666,
             "#ed7953"
            ],
            [
             0.7777777777777778,
             "#fb9f3a"
            ],
            [
             0.8888888888888888,
             "#fdca26"
            ],
            [
             1,
             "#f0f921"
            ]
           ],
           "sequentialminus": [
            [
             0,
             "#0d0887"
            ],
            [
             0.1111111111111111,
             "#46039f"
            ],
            [
             0.2222222222222222,
             "#7201a8"
            ],
            [
             0.3333333333333333,
             "#9c179e"
            ],
            [
             0.4444444444444444,
             "#bd3786"
            ],
            [
             0.5555555555555556,
             "#d8576b"
            ],
            [
             0.6666666666666666,
             "#ed7953"
            ],
            [
             0.7777777777777778,
             "#fb9f3a"
            ],
            [
             0.8888888888888888,
             "#fdca26"
            ],
            [
             1,
             "#f0f921"
            ]
           ]
          },
          "colorway": [
           "#636efa",
           "#EF553B",
           "#00cc96",
           "#ab63fa",
           "#FFA15A",
           "#19d3f3",
           "#FF6692",
           "#B6E880",
           "#FF97FF",
           "#FECB52"
          ],
          "font": {
           "color": "#2a3f5f"
          },
          "geo": {
           "bgcolor": "white",
           "lakecolor": "white",
           "landcolor": "#E5ECF6",
           "showlakes": true,
           "showland": true,
           "subunitcolor": "white"
          },
          "hoverlabel": {
           "align": "left"
          },
          "hovermode": "closest",
          "mapbox": {
           "style": "light"
          },
          "paper_bgcolor": "white",
          "plot_bgcolor": "#E5ECF6",
          "polar": {
           "angularaxis": {
            "gridcolor": "white",
            "linecolor": "white",
            "ticks": ""
           },
           "bgcolor": "#E5ECF6",
           "radialaxis": {
            "gridcolor": "white",
            "linecolor": "white",
            "ticks": ""
           }
          },
          "scene": {
           "xaxis": {
            "backgroundcolor": "#E5ECF6",
            "gridcolor": "white",
            "gridwidth": 2,
            "linecolor": "white",
            "showbackground": true,
            "ticks": "",
            "zerolinecolor": "white"
           },
           "yaxis": {
            "backgroundcolor": "#E5ECF6",
            "gridcolor": "white",
            "gridwidth": 2,
            "linecolor": "white",
            "showbackground": true,
            "ticks": "",
            "zerolinecolor": "white"
           },
           "zaxis": {
            "backgroundcolor": "#E5ECF6",
            "gridcolor": "white",
            "gridwidth": 2,
            "linecolor": "white",
            "showbackground": true,
            "ticks": "",
            "zerolinecolor": "white"
           }
          },
          "shapedefaults": {
           "line": {
            "color": "#2a3f5f"
           }
          },
          "ternary": {
           "aaxis": {
            "gridcolor": "white",
            "linecolor": "white",
            "ticks": ""
           },
           "baxis": {
            "gridcolor": "white",
            "linecolor": "white",
            "ticks": ""
           },
           "bgcolor": "#E5ECF6",
           "caxis": {
            "gridcolor": "white",
            "linecolor": "white",
            "ticks": ""
           }
          },
          "title": {
           "x": 0.05
          },
          "xaxis": {
           "automargin": true,
           "gridcolor": "white",
           "linecolor": "white",
           "ticks": "",
           "title": {
            "standoff": 15
           },
           "zerolinecolor": "white",
           "zerolinewidth": 2
          },
          "yaxis": {
           "automargin": true,
           "gridcolor": "white",
           "linecolor": "white",
           "ticks": "",
           "title": {
            "standoff": 15
           },
           "zerolinecolor": "white",
           "zerolinewidth": 2
          }
         }
        }
       }
      }
     },
     "metadata": {},
     "output_type": "display_data"
    }
   ],
   "source": [
    "IG.plot_complete_sankey(\n",
    "    multiclass=False, savename=\"img/complete_sankey.png\", node_cmap=\"Accent_r\", edge_cmap=\"Accent_r\"\n",
    ")"
   ]
  },
  {
   "cell_type": "code",
   "execution_count": 23,
   "metadata": {},
   "outputs": [
    {
     "data": {
      "application/vnd.plotly.v1+json": {
       "config": {
        "plotlyServerURL": "https://plot.ly"
       },
       "data": [
        {
         "arrangement": "snap",
         "link": {
          "color": [
           "rgba(58.6004535, 76.17308133, 192.189204015, 0.5)",
           "rgba(58.6004535, 76.17308133, 192.189204015, 0.5)",
           "rgba(69.13159538999999, 91.802718804, 205.809257496, 0.5)",
           "rgba(69.13159538999999, 91.802718804, 205.809257496, 0.5)",
           "rgba(69.13159538999999, 91.802718804, 205.809257496, 0.5)",
           "rgba(69.13159538999999, 91.802718804, 205.809257496, 0.5)",
           "rgba(73.94887922999999, 98.64309742799999, 211.37622159199998, 0.5)",
           "rgba(73.94887922999999, 98.64309742799999, 211.37622159199998, 0.5)",
           "rgba(58.6004535, 76.17308133, 192.189204015, 0.5)",
           "rgba(58.6004535, 76.17308133, 192.189204015, 0.5)",
           "rgba(67.92727442999998, 90.09262414800001, 204.417516472, 0.5)",
           "rgba(67.92727442999998, 90.09262414800001, 204.417516472, 0.5)",
           "rgba(103.127429076, 136.334090064, 237.660487722, 0.5)",
           "rgba(103.127429076, 136.334090064, 237.660487722, 0.5)",
           "rgba(64.4289623, 84.87338085, 199.834581615, 0.5)",
           "rgba(64.4289623, 84.87338085, 199.834581615, 0.5)",
           "rgba(70.33591634999999, 93.51281346, 207.20099852, 0.5)",
           "rgba(70.33591634999999, 93.51281346, 207.20099852, 0.5)",
           "rgba(73.94887922999999, 98.64309742799999, 211.37622159199998, 0.5)",
           "rgba(73.94887922999999, 98.64309742799999, 211.37622159199998, 0.5)",
           "rgba(69.13159538999999, 91.802718804, 205.809257496, 0.5)",
           "rgba(69.13159538999999, 91.802718804, 205.809257496, 0.5)",
           "rgba(63.26326054, 83.13332094600001, 198.305506095, 0.5)",
           "rgba(63.26326054, 83.13332094600001, 198.305506095, 0.5)",
           "rgba(59.76615526, 77.91314123400001, 193.718279535, 0.5)",
           "rgba(59.76615526, 77.91314123400001, 193.718279535, 0.5)",
           "rgba(58.6004535, 76.17308133, 192.189204015, 0.5)",
           "rgba(58.6004535, 76.17308133, 192.189204015, 0.5)",
           "rgba(77.564443186, 103.770945124, 215.541995308, 0.5)",
           "rgba(77.564443186, 103.770945124, 215.541995308, 0.5)",
           "rgba(245.206825223, 158.673007305, 127.89559426200002, 0.5)",
           "rgba(245.206825223, 158.673007305, 127.89559426200002, 0.5)",
           "rgba(65.59466406, 86.61344075400001, 201.36365713499998, 0.5)",
           "rgba(65.59466406, 86.61344075400001, 201.36365713499998, 0.5)",
           "rgba(60.93185702, 79.653201138, 195.24735505499999, 0.5)",
           "rgba(60.93185702, 79.653201138, 195.24735505499999, 0.5)",
           "rgba(80.056319538, 107.11317373199999, 218.023097964, 0.5)",
           "rgba(80.056319538, 107.11317373199999, 218.023097964, 0.5)",
           "rgba(120.632894112, 155.824746592, 247.51156500699997, 0.5)",
           "rgba(120.632894112, 155.824746592, 247.51156500699997, 0.5)",
           "rgba(64.4289623, 84.87338085, 199.834581615, 0.5)",
           "rgba(64.4289623, 84.87338085, 199.834581615, 0.5)",
           "rgba(80.056319538, 107.11317373199999, 218.023097964, 0.5)",
           "rgba(80.056319538, 107.11317373199999, 218.023097964, 0.5)",
           "rgba(71.54023731, 95.222908116, 208.592739544, 0.5)",
           "rgba(71.54023731, 95.222908116, 208.592739544, 0.5)",
           "rgba(215.05633441899997, 219.764011774, 226.95436480700002, 0.5)",
           "rgba(215.05633441899997, 219.764011774, 226.95436480700002, 0.5)",
           "rgba(62.09755878, 81.393261042, 196.77643057499998, 0.5)",
           "rgba(62.09755878, 81.393261042, 196.77643057499998, 0.5)",
           "rgba(62.09755878, 81.393261042, 196.77643057499998, 0.5)",
           "rgba(62.09755878, 81.393261042, 196.77643057499998, 0.5)",
           "rgba(247.16858509499997, 174.670345506, 145.088708196, 0.5)",
           "rgba(247.16858509499997, 174.670345506, 145.088708196, 0.5)",
           "rgba(215.05633441899997, 219.764011774, 226.95436480700002, 0.5)",
           "rgba(215.05633441899997, 219.764011774, 226.95436480700002, 0.5)",
           "rgba(215.05633441899997, 219.764011774, 226.95436480700002, 0.5)",
           "rgba(215.05633441899997, 219.764011774, 226.95436480700002, 0.5)",
           "rgba(215.05633441899997, 219.764011774, 226.95436480700002, 0.5)",
           "rgba(215.05633441899997, 219.764011774, 226.95436480700002, 0.5)",
           "rgba(63.26326054, 83.13332094600001, 198.305506095, 0.5)",
           "rgba(63.26326054, 83.13332094600001, 198.305506095, 0.5)",
           "rgba(71.54023731, 95.222908116, 208.592739544, 0.5)",
           "rgba(71.54023731, 95.222908116, 208.592739544, 0.5)",
           "rgba(85.04007224200001, 113.79763094799999, 222.985303276, 0.5)",
           "rgba(85.04007224200001, 113.79763094799999, 222.985303276, 0.5)",
           "rgba(72.74455827, 96.93300277200001, 209.984480568, 0.5)",
           "rgba(72.74455827, 96.93300277200001, 209.984480568, 0.5)",
           "rgba(77.564443186, 103.770945124, 215.541995308, 0.5)",
           "rgba(77.564443186, 103.770945124, 215.541995308, 0.5)",
           "rgba(71.54023731, 95.222908116, 208.592739544, 0.5)",
           "rgba(71.54023731, 95.222908116, 208.592739544, 0.5)",
           "rgba(58.6004535, 76.17308133, 192.189204015, 0.5)",
           "rgba(58.6004535, 76.17308133, 192.189204015, 0.5)",
           "rgba(58.6004535, 76.17308133, 192.189204015, 0.5)",
           "rgba(58.6004535, 76.17308133, 192.189204015, 0.5)",
           "rgba(59.76615526, 77.91314123400001, 193.718279535, 0.5)",
           "rgba(59.76615526, 77.91314123400001, 193.718279535, 0.5)",
           "rgba(59.76615526, 77.91314123400001, 193.718279535, 0.5)",
           "rgba(59.76615526, 77.91314123400001, 193.718279535, 0.5)",
           "rgba(58.6004535, 76.17308133, 192.189204015, 0.5)",
           "rgba(58.6004535, 76.17308133, 192.189204015, 0.5)",
           "rgba(58.6004535, 76.17308133, 192.189204015, 0.5)",
           "rgba(58.6004535, 76.17308133, 192.189204015, 0.5)",
           "rgba(58.6004535, 76.17308133, 192.189204015, 0.5)",
           "rgba(58.6004535, 76.17308133, 192.189204015, 0.5)",
           "rgba(59.76615526, 77.91314123400001, 193.718279535, 0.5)",
           "rgba(59.76615526, 77.91314123400001, 193.718279535, 0.5)",
           "rgba(58.6004535, 76.17308133, 192.189204015, 0.5)",
           "rgba(58.6004535, 76.17308133, 192.189204015, 0.5)",
           "rgba(67.92727442999998, 90.09262414800001, 204.417516472, 0.5)",
           "rgba(67.92727442999998, 90.09262414800001, 204.417516472, 0.5)",
           "rgba(59.76615526, 77.91314123400001, 193.718279535, 0.5)",
           "rgba(59.76615526, 77.91314123400001, 193.718279535, 0.5)",
           "rgba(58.6004535, 76.17308133, 192.189204015, 0.5)",
           "rgba(58.6004535, 76.17308133, 192.189204015, 0.5)",
           "rgba(127.507793952, 162.81965923200002, 250.172881647, 0.5)",
           "rgba(127.507793952, 162.81965923200002, 250.172881647, 0.5)",
           "rgba(77.564443186, 103.770945124, 215.541995308, 0.5)",
           "rgba(77.564443186, 103.770945124, 215.541995308, 0.5)",
           "rgba(77.564443186, 103.770945124, 215.541995308, 0.5)",
           "rgba(77.564443186, 103.770945124, 215.541995308, 0.5)",
           "rgba(77.564443186, 103.770945124, 215.541995308, 0.5)",
           "rgba(77.564443186, 103.770945124, 215.541995308, 0.5)",
           "rgba(91.39581922800001, 121.998673368, 228.682634622, 0.5)",
           "rgba(91.39581922800001, 121.998673368, 228.682634622, 0.5)",
           "rgba(91.39581922800001, 121.998673368, 228.682634622, 0.5)",
           "rgba(91.39581922800001, 121.998673368, 228.682634622, 0.5)",
           "rgba(91.39581922800001, 121.998673368, 228.682634622, 0.5)",
           "rgba(91.39581922800001, 121.998673368, 228.682634622, 0.5)",
           "rgba(246.723795897, 186.366677628, 159.29479694999998, 0.5)",
           "rgba(246.723795897, 186.366677628, 159.29479694999998, 0.5)",
           "rgba(64.4289623, 84.87338085, 199.834581615, 0.5)",
           "rgba(64.4289623, 84.87338085, 199.834581615, 0.5)",
           "rgba(58.6004535, 76.17308133, 192.189204015, 0.5)",
           "rgba(58.6004535, 76.17308133, 192.189204015, 0.5)",
           "rgba(58.6004535, 76.17308133, 192.189204015, 0.5)",
           "rgba(58.6004535, 76.17308133, 192.189204015, 0.5)",
           "rgba(58.6004535, 76.17308133, 192.189204015, 0.5)",
           "rgba(58.6004535, 76.17308133, 192.189204015, 0.5)",
           "rgba(58.6004535, 76.17308133, 192.189204015, 0.5)",
           "rgba(58.6004535, 76.17308133, 192.189204015, 0.5)",
           "rgba(58.6004535, 76.17308133, 192.189204015, 0.5)",
           "rgba(58.6004535, 76.17308133, 192.189204015, 0.5)",
           "rgba(58.6004535, 76.17308133, 192.189204015, 0.5)",
           "rgba(58.6004535, 76.17308133, 192.189204015, 0.5)",
           "rgba(58.6004535, 76.17308133, 192.189204015, 0.5)",
           "rgba(58.6004535, 76.17308133, 192.189204015, 0.5)",
           "rgba(58.6004535, 76.17308133, 192.189204015, 0.5)",
           "rgba(58.6004535, 76.17308133, 192.189204015, 0.5)",
           "rgba(58.6004535, 76.17308133, 192.189204015, 0.5)",
           "rgba(58.6004535, 76.17308133, 192.189204015, 0.5)",
           "rgba(59.76615526, 77.91314123400001, 193.718279535, 0.5)",
           "rgba(59.76615526, 77.91314123400001, 193.718279535, 0.5)",
           "rgba(58.6004535, 76.17308133, 192.189204015, 0.5)",
           "rgba(58.6004535, 76.17308133, 192.189204015, 0.5)",
           "rgba(122.00787408, 157.22372912, 248.043828335, 0.5)",
           "rgba(122.00787408, 157.22372912, 248.043828335, 0.5)",
           "rgba(122.00787408, 157.22372912, 248.043828335, 0.5)",
           "rgba(122.00787408, 157.22372912, 248.043828335, 0.5)",
           "rgba(122.00787408, 157.22372912, 248.043828335, 0.5)",
           "rgba(122.00787408, 157.22372912, 248.043828335, 0.5)",
           "rgba(100.48062792399999, 133.215430736, 235.85365469799999, 0.5)",
           "rgba(100.48062792399999, 133.215430736, 235.85365469799999, 0.5)",
           "rgba(58.6004535, 76.17308133, 192.189204015, 0.5)",
           "rgba(58.6004535, 76.17308133, 192.189204015, 0.5)",
           "rgba(58.6004535, 76.17308133, 192.189204015, 0.5)",
           "rgba(58.6004535, 76.17308133, 192.189204015, 0.5)",
           "rgba(58.6004535, 76.17308133, 192.189204015, 0.5)",
           "rgba(58.6004535, 76.17308133, 192.189204015, 0.5)",
           "rgba(58.6004535, 76.17308133, 192.189204015, 0.5)",
           "rgba(58.6004535, 76.17308133, 192.189204015, 0.5)",
           "rgba(124.757834016, 160.021694176, 249.108354991, 0.5)",
           "rgba(124.757834016, 160.021694176, 249.108354991, 0.5)",
           "rgba(72.74455827, 96.93300277200001, 209.984480568, 0.5)",
           "rgba(72.74455827, 96.93300277200001, 209.984480568, 0.5)",
           "rgba(205.2660135, 217.17487094199998, 236.17209398, 0.5)",
           "rgba(205.2660135, 217.17487094199998, 236.17209398, 0.5)",
           "rgba(67.92727442999998, 90.09262414800001, 204.417516472, 0.5)",
           "rgba(67.92727442999998, 90.09262414800001, 204.417516472, 0.5)",
           "rgba(58.6004535, 76.17308133, 192.189204015, 0.5)",
           "rgba(58.6004535, 76.17308133, 192.189204015, 0.5)",
           "rgba(58.6004535, 76.17308133, 192.189204015, 0.5)",
           "rgba(58.6004535, 76.17308133, 192.189204015, 0.5)",
           "rgba(58.6004535, 76.17308133, 192.189204015, 0.5)",
           "rgba(58.6004535, 76.17308133, 192.189204015, 0.5)",
           "rgba(58.6004535, 76.17308133, 192.189204015, 0.5)",
           "rgba(58.6004535, 76.17308133, 192.189204015, 0.5)",
           "rgba(75.15320018999999, 100.353192084, 212.767962616, 0.5)",
           "rgba(75.15320018999999, 100.353192084, 212.767962616, 0.5)",
           "rgba(58.6004535, 76.17308133, 192.189204015, 0.5)",
           "rgba(58.6004535, 76.17308133, 192.189204015, 0.5)",
           "rgba(85.04007224200001, 113.79763094799999, 222.985303276, 0.5)",
           "rgba(85.04007224200001, 113.79763094799999, 222.985303276, 0.5)",
           "rgba(113.839813816, 148.500888768, 244.130192899, 0.5)",
           "rgba(113.839813816, 148.500888768, 244.130192899, 0.5)",
           "rgba(58.6004535, 76.17308133, 192.189204015, 0.5)",
           "rgba(58.6004535, 76.17308133, 192.189204015, 0.5)",
           "rgba(179.414656462, 204.65933731299998, 250.626018883, 0.5)",
           "rgba(179.414656462, 204.65933731299998, 250.626018883, 0.5)",
           "rgba(75.15320018999999, 100.353192084, 212.767962616, 0.5)",
           "rgba(75.15320018999999, 100.353192084, 212.767962616, 0.5)",
           "rgba(162.045824727, 192.96206800500002, 254.565622571, 0.5)",
           "rgba(162.045824727, 192.96206800500002, 254.565622571, 0.5)",
           "rgba(162.045824727, 192.96206800500002, 254.565622571, 0.5)",
           "rgba(162.045824727, 192.96206800500002, 254.565622571, 0.5)",
           "rgba(62.09755878, 81.393261042, 196.77643057499998, 0.5)",
           "rgba(62.09755878, 81.393261042, 196.77643057499998, 0.5)",
           "rgba(62.09755878, 81.393261042, 196.77643057499998, 0.5)",
           "rgba(62.09755878, 81.393261042, 196.77643057499998, 0.5)",
           "rgba(62.09755878, 81.393261042, 196.77643057499998, 0.5)",
           "rgba(62.09755878, 81.393261042, 196.77643057499998, 0.5)",
           "rgba(92.682502812, 123.619838872, 229.759816158, 0.5)",
           "rgba(92.682502812, 123.619838872, 229.759816158, 0.5)",
           "rgba(90.109135644, 120.377507864, 227.60545308599998, 0.5)",
           "rgba(90.109135644, 120.377507864, 227.60545308599998, 0.5)",
           "rgba(205.459355577, 66.252349746, 58.793222637, 0.5)",
           "rgba(205.459355577, 66.252349746, 58.793222637, 0.5)",
           "rgba(62.09755878, 81.393261042, 196.77643057499998, 0.5)",
           "rgba(62.09755878, 81.393261042, 196.77643057499998, 0.5)",
           "rgba(67.92727442999998, 90.09262414800001, 204.417516472, 0.5)",
           "rgba(67.92727442999998, 90.09262414800001, 204.417516472, 0.5)",
           "rgba(93.969186396, 125.24100437599999, 230.836997694, 0.5)",
           "rgba(93.969186396, 125.24100437599999, 230.836997694, 0.5)",
           "rgba(60.93185702, 79.653201138, 195.24735505499999, 0.5)",
           "rgba(60.93185702, 79.653201138, 195.24735505499999, 0.5)",
           "rgba(66.76036582, 88.35350065800002, 202.89273265499997, 0.5)",
           "rgba(66.76036582, 88.35350065800002, 202.89273265499997, 0.5)",
           "rgba(62.09755878, 81.393261042, 196.77643057499998, 0.5)",
           "rgba(62.09755878, 81.393261042, 196.77643057499998, 0.5)",
           "rgba(237.616980633, 132.366808416, 103.652300193, 0.5)",
           "rgba(237.616980633, 132.366808416, 103.652300193, 0.5)",
           "rgba(58.6004535, 76.17308133, 192.189204015, 0.5)",
           "rgba(58.6004535, 76.17308133, 192.189204015, 0.5)",
           "rgba(58.6004535, 76.17308133, 192.189204015, 0.5)",
           "rgba(58.6004535, 76.17308133, 192.189204015, 0.5)",
           "rgba(58.6004535, 76.17308133, 192.189204015, 0.5)",
           "rgba(58.6004535, 76.17308133, 192.189204015, 0.5)",
           "rgba(211.94279814, 219.175864606, 230.29309046, 0.5)",
           "rgba(211.94279814, 219.175864606, 230.29309046, 0.5)",
           "rgba(67.92727442999998, 90.09262414800001, 204.417516472, 0.5)",
           "rgba(67.92727442999998, 90.09262414800001, 204.417516472, 0.5)",
           "rgba(103.127429076, 136.334090064, 237.660487722, 0.5)",
           "rgba(103.127429076, 136.334090064, 237.660487722, 0.5)",
           "rgba(62.09755878, 81.393261042, 196.77643057499998, 0.5)",
           "rgba(62.09755878, 81.393261042, 196.77643057499998, 0.5)",
           "rgba(237.616980633, 132.366808416, 103.652300193, 0.5)",
           "rgba(237.616980633, 132.366808416, 103.652300193, 0.5)",
           "rgba(60.93185702, 79.653201138, 195.24735505499999, 0.5)",
           "rgba(60.93185702, 79.653201138, 195.24735505499999, 0.5)",
           "rgba(58.6004535, 76.17308133, 192.189204015, 0.5)",
           "rgba(58.6004535, 76.17308133, 192.189204015, 0.5)",
           "rgba(153.806327319, 186.539506725, 254.88914602699998, 0.5)",
           "rgba(153.806327319, 186.539506725, 254.88914602699998, 0.5)",
           "rgba(58.6004535, 76.17308133, 192.189204015, 0.5)",
           "rgba(58.6004535, 76.17308133, 192.189204015, 0.5)",
           "rgba(58.6004535, 76.17308133, 192.189204015, 0.5)",
           "rgba(58.6004535, 76.17308133, 192.189204015, 0.5)",
           "rgba(66.76036582, 88.35350065800002, 202.89273265499997, 0.5)",
           "rgba(66.76036582, 88.35350065800002, 202.89273265499997, 0.5)",
           "rgba(87.53576847600002, 117.135176856, 225.45109001400002, 0.5)",
           "rgba(87.53576847600002, 117.135176856, 225.45109001400002, 0.5)",
           "rgba(80.056319538, 107.11317373199999, 218.023097964, 0.5)",
           "rgba(80.056319538, 107.11317373199999, 218.023097964, 0.5)"
          ],
          "source": [
           0,
           0,
           1,
           1,
           2,
           2,
           4,
           4,
           5,
           5,
           7,
           7,
           8,
           8,
           9,
           9,
           10,
           10,
           11,
           11,
           12,
           12,
           13,
           13,
           14,
           14,
           15,
           15,
           16,
           16,
           19,
           19,
           20,
           20,
           21,
           21,
           23,
           23,
           24,
           24,
           28,
           28,
           31,
           31,
           33,
           33,
           34,
           34,
           35,
           35,
           35,
           35,
           36,
           36,
           37,
           37,
           37,
           37,
           37,
           37,
           38,
           38,
           41,
           41,
           42,
           42,
           43,
           43,
           44,
           44,
           48,
           48,
           49,
           49,
           50,
           50,
           51,
           51,
           52,
           52,
           53,
           53,
           55,
           55,
           55,
           55,
           56,
           56,
           57,
           57,
           58,
           58,
           59,
           59,
           60,
           60,
           61,
           61,
           62,
           62,
           62,
           62,
           62,
           62,
           63,
           63,
           63,
           63,
           63,
           63,
           65,
           65,
           66,
           66,
           67,
           67,
           67,
           67,
           67,
           67,
           68,
           68,
           68,
           68,
           68,
           68,
           69,
           69,
           69,
           69,
           69,
           69,
           70,
           70,
           71,
           71,
           72,
           72,
           72,
           72,
           72,
           72,
           73,
           73,
           74,
           74,
           74,
           74,
           74,
           74,
           75,
           75,
           76,
           76,
           77,
           77,
           78,
           78,
           79,
           79,
           80,
           80,
           81,
           81,
           81,
           81,
           81,
           81,
           82,
           82,
           83,
           83,
           84,
           84,
           85,
           85,
           86,
           86,
           88,
           88,
           90,
           90,
           91,
           91,
           91,
           91,
           92,
           92,
           92,
           92,
           92,
           92,
           93,
           93,
           94,
           94,
           95,
           95,
           96,
           96,
           97,
           97,
           99,
           99,
           18,
           18,
           22,
           22,
           39,
           39,
           40,
           40,
           45,
           45,
           46,
           46,
           47,
           47,
           64,
           64,
           87,
           87,
           89,
           89,
           98,
           98,
           3,
           3,
           6,
           6,
           17,
           17,
           25,
           25,
           26,
           26,
           27,
           27,
           29,
           29,
           30,
           30,
           32,
           32
          ],
          "target": [
           26,
           26,
           32,
           32,
           32,
           32,
           87,
           87,
           32,
           32,
           32,
           32,
           99,
           99,
           99,
           99,
           99,
           99,
           32,
           32,
           32,
           32,
           32,
           32,
           32,
           32,
           32,
           32,
           32,
           32,
           32,
           32,
           32,
           32,
           32,
           32,
           32,
           32,
           32,
           32,
           32,
           32,
           32,
           32,
           32,
           32,
           32,
           32,
           99,
           99,
           32,
           32,
           32,
           32,
           45,
           45,
           46,
           46,
           47,
           47,
           32,
           32,
           99,
           99,
           32,
           32,
           39,
           39,
           99,
           99,
           32,
           32,
           32,
           32,
           32,
           32,
           27,
           27,
           32,
           32,
           32,
           32,
           40,
           40,
           32,
           32,
           32,
           32,
           32,
           32,
           32,
           32,
           32,
           32,
           99,
           99,
           32,
           32,
           45,
           45,
           46,
           46,
           29,
           29,
           45,
           45,
           46,
           46,
           29,
           29,
           40,
           40,
           39,
           39,
           45,
           45,
           46,
           46,
           29,
           29,
           45,
           45,
           46,
           46,
           29,
           29,
           45,
           45,
           46,
           46,
           29,
           29,
           40,
           40,
           32,
           32,
           45,
           45,
           46,
           46,
           29,
           29,
           45,
           45,
           45,
           45,
           46,
           46,
           29,
           29,
           26,
           26,
           18,
           18,
           30,
           30,
           30,
           30,
           87,
           87,
           32,
           32,
           45,
           45,
           46,
           46,
           29,
           29,
           87,
           87,
           32,
           32,
           32,
           32,
           30,
           30,
           40,
           40,
           30,
           30,
           32,
           32,
           46,
           46,
           64,
           64,
           45,
           45,
           46,
           46,
           29,
           29,
           18,
           18,
           32,
           32,
           30,
           30,
           22,
           22,
           32,
           32,
           89,
           89,
           98,
           98,
           98,
           98,
           6,
           6,
           3,
           3,
           17,
           17,
           17,
           17,
           17,
           17,
           25,
           25,
           54,
           54,
           54,
           54,
           54,
           54,
           54,
           54,
           54,
           54,
           54,
           54,
           54,
           54,
           54,
           54,
           54,
           54,
           54,
           54,
           54,
           54,
           54,
           54
          ],
          "value": [
           0,
           0,
           0.005331616936997879,
           0.0026729340947681856,
           0.0034446412951105033,
           0.002647024698732785,
           0.004012597164039729,
           0.0036056582244493028,
           0,
           0,
           0.003841310297625575,
           0.0021789710180966063,
           0.007309412088206901,
           0.009784263654935154,
           0.004632365401890194,
           0.0014678299061800385,
           0.0032117549360098606,
           0.0029252193714941273,
           0.011647062578227927,
           0.0034872902889787885,
           0.0028532581494461907,
           0.0026430655547609837,
           0.0012755503630834896,
           0.0012641329950046796,
           0.0014376181279438392,
           0.0002936215026489157,
           0.0002987961447395654,
           0.00023908068385763268,
           0.009694194144867899,
           0.004454947083554468,
           0.03557821206159644,
           0.05059906908517174,
           0.0027515236889430897,
           0.0016835337029009604,
           0.0003410501067613009,
           0.0005791413465982893,
           0.001638802977433362,
           0.005027515392139924,
           0.006115281206369679,
           0.01334908400941961,
           0.002152725791247179,
           0.0015914674649471178,
           0.005206826113350465,
           0.004917987455019622,
           0.010082418177345323,
           0.003143283734348449,
           0.02505623020957368,
           0.03295565592156807,
           0.0034778990424584517,
           0.0010069968780226466,
           0.0034778990424584517,
           0.0010069968780226466,
           0.04255366611056729,
           0.04758108772097404,
           0.05513494396228261,
           0.03271919411906279,
           0.05513494396228261,
           0.03271919411906279,
           0.05513494396228261,
           0.03271919411906279,
           0.0057381246809076695,
           0.001211902738813586,
           0.011024643935433441,
           0.0031289551363218315,
           0.005359166339863356,
           0.0061003493649031595,
           0.0018936947334725093,
           0.0032333011821891757,
           0.054484868332173995,
           0.004315224284772603,
           0.003885648885525417,
           0.003105498274003067,
           0,
           0,
           0,
           0,
           0.001471248802246807,
           0.0003836311752925775,
           0.0014037553949225645,
           0.000535053837965691,
           0,
           0,
           0,
           0,
           0,
           0,
           0.00024046865914188737,
           0.00027764385751595814,
           0.00019973963921728554,
           0.00014749897232693804,
           0.0029195963142290217,
           0.002333737478794123,
           0.0003732795234313,
           0.00029837564636692724,
           0.00008338662504484839,
           0.00006665391822564953,
           0.019452153238806218,
           0.014510710404090904,
           0.008066246029910372,
           0.004338020794914862,
           0.008066246029910372,
           0.004338020794914862,
           0.008066246029910372,
           0.004338020794914862,
           0.011730555707876364,
           0.007384808856617277,
           0.011730555707876364,
           0.007384808856617277,
           0.011730555707876364,
           0.007384808856617277,
           0.05025445913954832,
           0.04506374402294967,
           0.0002693761590835433,
           0.0013451703718713468,
           0,
           0,
           0,
           0,
           0,
           0,
           0,
           0,
           0,
           0,
           0,
           0,
           0,
           0,
           0,
           0,
           0,
           0,
           0.00045562778687747464,
           0.00036082873224356905,
           0,
           0,
           0.018209109026354982,
           0.013485716924568136,
           0.018209109026354982,
           0.013485716924568136,
           0.018209109026354982,
           0.013485716924568136,
           0.01666909446353394,
           0.00915017697054561,
           0,
           0,
           0,
           0,
           0,
           0,
           0,
           0,
           0.017713234245939055,
           0.013987531958224563,
           0.0015441723160776548,
           0.0034487899847069512,
           0.02105359817168147,
           0.030537428127365956,
           0.0027062300937322884,
           0.002163186609150648,
           0,
           0,
           0,
           0,
           0,
           0,
           0,
           0,
           0.004580427421265702,
           0.003915339971060749,
           0.00037552224271121353,
           0.00005914229668756666,
           0.00794310504231807,
           0.00602221799345873,
           0.008054167100987998,
           0.011815999029712393,
           0,
           0,
           0.009833297893483053,
           0.024861967383336497,
           0.00478085454838441,
           0.0038215076090582713,
           0.06859938249012833,
           0.021263509720004584,
           0.06859938249012833,
           0.021263509720004584,
           0.004310661332137452,
           0.0009416409211066941,
           0.004310661332137452,
           0.0009416409211066941,
           0.004310661332137452,
           0.0009416409211066941,
           0.006263854824701142,
           0.007652458854867395,
           0.008843978674013086,
           0.007034363211024024,
           0.03478335394503316,
           0.06356703686840397,
           0.0010823920923608032,
           0.0008651947009060183,
           0.0027327157890252624,
           0.0021843574073455575,
           0.0731811594648491,
           0.058496311678496504,
           0.00756981399500321,
           0.006050822677752248,
           0.019848594080111134,
           0.01586568954734239,
           0.008919462697092012,
           0.0071296455770456495,
           0.5034273480849986,
           0.4024074550493531,
           0.000726432160515439,
           0.0005806632020053217,
           0.0006624983281955952,
           0.0005295585892899058,
           0.0002935634840768432,
           0.00023465577600809696,
           0.2930345855517662,
           0.23423300375342404,
           0.021132588143109157,
           0.01689203129197646,
           0.08703171679855413,
           0.06956755504365313,
           0.0077316506406458815,
           0.00618018374296013,
           0.4882253587155949,
           0.39025595865531965,
           0.006692648399438362,
           0.005349672765276019,
           0.001113957367847247,
           0.0008904259259990463,
           0.17424774680701996,
           0.13928245709454518,
           0,
           0,
           2.0729736634840263e-7,
           1.6570020731526325e-7,
           0.01867624650800033,
           0.014928590641727302,
           0.05844362389776154,
           0.04671607493775099,
           0.044367709470884815,
           0.035464693851687136
          ]
         },
         "node": {
          "color": [
           "rgba(58.6004535, 76.17308133, 192.189204015, 0.5)",
           "rgba(69.13159538999999, 91.802718804, 205.809257496, 0.5)",
           "rgba(69.13159538999999, 91.802718804, 205.809257496, 0.5)",
           "rgba(237.616980633, 132.366808416, 103.652300193, 0.5)",
           "rgba(73.94887922999999, 98.64309742799999, 211.37622159199998, 0.5)",
           "rgba(58.6004535, 76.17308133, 192.189204015, 0.5)",
           "rgba(60.93185702, 79.653201138, 195.24735505499999, 0.5)",
           "rgba(67.92727442999998, 90.09262414800001, 204.417516472, 0.5)",
           "rgba(103.127429076, 136.334090064, 237.660487722, 0.5)",
           "rgba(64.4289623, 84.87338085, 199.834581615, 0.5)",
           "rgba(70.33591634999999, 93.51281346, 207.20099852, 0.5)",
           "rgba(73.94887922999999, 98.64309742799999, 211.37622159199998, 0.5)",
           "rgba(69.13159538999999, 91.802718804, 205.809257496, 0.5)",
           "rgba(63.26326054, 83.13332094600001, 198.305506095, 0.5)",
           "rgba(59.76615526, 77.91314123400001, 193.718279535, 0.5)",
           "rgba(58.6004535, 76.17308133, 192.189204015, 0.5)",
           "rgba(77.564443186, 103.770945124, 215.541995308, 0.5)",
           "rgba(58.6004535, 76.17308133, 192.189204015, 0.5)",
           "rgba(60.93185702, 79.653201138, 195.24735505499999, 0.5)",
           "rgba(245.206825223, 158.673007305, 127.89559426200002, 0.5)",
           "rgba(65.59466406, 86.61344075400001, 201.36365713499998, 0.5)",
           "rgba(60.93185702, 79.653201138, 195.24735505499999, 0.5)",
           "rgba(66.76036582, 88.35350065800002, 202.89273265499997, 0.5)",
           "rgba(80.056319538, 107.11317373199999, 218.023097964, 0.5)",
           "rgba(120.632894112, 155.824746592, 247.51156500699997, 0.5)",
           "rgba(153.806327319, 186.539506725, 254.88914602699998, 0.5)",
           "rgba(58.6004535, 76.17308133, 192.189204015, 0.5)",
           "rgba(58.6004535, 76.17308133, 192.189204015, 0.5)",
           "rgba(64.4289623, 84.87338085, 199.834581615, 0.5)",
           "rgba(66.76036582, 88.35350065800002, 202.89273265499997, 0.5)",
           "rgba(87.53576847600002, 117.135176856, 225.45109001400002, 0.5)",
           "rgba(80.056319538, 107.11317373199999, 218.023097964, 0.5)",
           "rgba(80.056319538, 107.11317373199999, 218.023097964, 0.5)",
           "rgba(71.54023731, 95.222908116, 208.592739544, 0.5)",
           "rgba(215.05633441899997, 219.764011774, 226.95436480700002, 0.5)",
           "rgba(62.09755878, 81.393261042, 196.77643057499998, 0.5)",
           "rgba(247.16858509499997, 174.670345506, 145.088708196, 0.5)",
           "rgba(215.05633441899997, 219.764011774, 226.95436480700002, 0.5)",
           "rgba(63.26326054, 83.13332094600001, 198.305506095, 0.5)",
           "rgba(62.09755878, 81.393261042, 196.77643057499998, 0.5)",
           "rgba(237.616980633, 132.366808416, 103.652300193, 0.5)",
           "rgba(71.54023731, 95.222908116, 208.592739544, 0.5)",
           "rgba(85.04007224200001, 113.79763094799999, 222.985303276, 0.5)",
           "rgba(72.74455827, 96.93300277200001, 209.984480568, 0.5)",
           "rgba(77.564443186, 103.770945124, 215.541995308, 0.5)",
           "rgba(58.6004535, 76.17308133, 192.189204015, 0.5)",
           "rgba(58.6004535, 76.17308133, 192.189204015, 0.5)",
           "rgba(58.6004535, 76.17308133, 192.189204015, 0.5)",
           "rgba(71.54023731, 95.222908116, 208.592739544, 0.5)",
           "rgba(58.6004535, 76.17308133, 192.189204015, 0.5)",
           "rgba(58.6004535, 76.17308133, 192.189204015, 0.5)",
           "rgba(59.76615526, 77.91314123400001, 193.718279535, 0.5)",
           "rgba(59.76615526, 77.91314123400001, 193.718279535, 0.5)",
           "rgba(58.6004535, 76.17308133, 192.189204015, 0.5)",
           "rgba(0,0,0,1)",
           "rgba(58.6004535, 76.17308133, 192.189204015, 0.5)",
           "rgba(59.76615526, 77.91314123400001, 193.718279535, 0.5)",
           "rgba(58.6004535, 76.17308133, 192.189204015, 0.5)",
           "rgba(67.92727442999998, 90.09262414800001, 204.417516472, 0.5)",
           "rgba(59.76615526, 77.91314123400001, 193.718279535, 0.5)",
           "rgba(58.6004535, 76.17308133, 192.189204015, 0.5)",
           "rgba(127.507793952, 162.81965923200002, 250.172881647, 0.5)",
           "rgba(77.564443186, 103.770945124, 215.541995308, 0.5)",
           "rgba(91.39581922800001, 121.998673368, 228.682634622, 0.5)",
           "rgba(211.94279814, 219.175864606, 230.29309046, 0.5)",
           "rgba(246.723795897, 186.366677628, 159.29479694999998, 0.5)",
           "rgba(64.4289623, 84.87338085, 199.834581615, 0.5)",
           "rgba(58.6004535, 76.17308133, 192.189204015, 0.5)",
           "rgba(58.6004535, 76.17308133, 192.189204015, 0.5)",
           "rgba(58.6004535, 76.17308133, 192.189204015, 0.5)",
           "rgba(59.76615526, 77.91314123400001, 193.718279535, 0.5)",
           "rgba(58.6004535, 76.17308133, 192.189204015, 0.5)",
           "rgba(122.00787408, 157.22372912, 248.043828335, 0.5)",
           "rgba(100.48062792399999, 133.215430736, 235.85365469799999, 0.5)",
           "rgba(58.6004535, 76.17308133, 192.189204015, 0.5)",
           "rgba(58.6004535, 76.17308133, 192.189204015, 0.5)",
           "rgba(124.757834016, 160.021694176, 249.108354991, 0.5)",
           "rgba(72.74455827, 96.93300277200001, 209.984480568, 0.5)",
           "rgba(205.2660135, 217.17487094199998, 236.17209398, 0.5)",
           "rgba(67.92727442999998, 90.09262414800001, 204.417516472, 0.5)",
           "rgba(58.6004535, 76.17308133, 192.189204015, 0.5)",
           "rgba(58.6004535, 76.17308133, 192.189204015, 0.5)",
           "rgba(75.15320018999999, 100.353192084, 212.767962616, 0.5)",
           "rgba(58.6004535, 76.17308133, 192.189204015, 0.5)",
           "rgba(85.04007224200001, 113.79763094799999, 222.985303276, 0.5)",
           "rgba(113.839813816, 148.500888768, 244.130192899, 0.5)",
           "rgba(58.6004535, 76.17308133, 192.189204015, 0.5)",
           "rgba(67.92727442999998, 90.09262414800001, 204.417516472, 0.5)",
           "rgba(179.414656462, 204.65933731299998, 250.626018883, 0.5)",
           "rgba(103.127429076, 136.334090064, 237.660487722, 0.5)",
           "rgba(75.15320018999999, 100.353192084, 212.767962616, 0.5)",
           "rgba(162.045824727, 192.96206800500002, 254.565622571, 0.5)",
           "rgba(62.09755878, 81.393261042, 196.77643057499998, 0.5)",
           "rgba(92.682502812, 123.619838872, 229.759816158, 0.5)",
           "rgba(90.109135644, 120.377507864, 227.60545308599998, 0.5)",
           "rgba(205.459355577, 66.252349746, 58.793222637, 0.5)",
           "rgba(62.09755878, 81.393261042, 196.77643057499998, 0.5)",
           "rgba(67.92727442999998, 90.09262414800001, 204.417516472, 0.5)",
           "rgba(62.09755878, 81.393261042, 196.77643057499998, 0.5)",
           "rgba(93.969186396, 125.24100437599999, 230.836997694, 0.5)"
          ],
          "label": [
           "O00194",
           "O00391",
           "O14791",
           "R-HSA-446203",
           "O95497",
           "O95633",
           "R-HSA-5173105",
           "P00450",
           "P00734",
           "P00740",
           "P00742",
           "P01008",
           "P01009",
           "P01024",
           "P01033",
           "P01034",
           "P01042",
           "R-HSA-5688426",
           "R-HSA-3108232",
           "P02647",
           "P02649",
           "P02652",
           "R-HSA-3215018",
           "P02671",
           "P02679",
           "R-HSA-8852135",
           "R-HSA-8873719",
           "R-HSA-8876725",
           "P02751",
           "R-HSA-8951664",
           "R-HSA-8955332",
           "P02765",
           "R-HSA-8957275",
           "P02768",
           "P02787",
           "P04070",
           "P04114",
           "P04908",
           "P05546",
           "R-HSA-5173214",
           "R-HSA-532668",
           "P07225",
           "P07237",
           "P07996",
           "P08709",
           "R-HSA-5689603",
           "R-HSA-5689880",
           "R-HSA-5689901",
           "P0C0L4",
           "P10451",
           "P11047",
           "P11142",
           "P12259",
           "P13611",
           "R-HSA-597592",
           "P14314",
           "P14625",
           "P17936",
           "P19823",
           "P22692",
           "P22891",
           "P24821",
           "P25786",
           "P25788",
           "R-HSA-8866654",
           "P27797",
           "P27918",
           "P28066",
           "P28072",
           "P28074",
           "P30101",
           "P35555",
           "P49721",
           "P60709",
           "P60900",
           "P61026",
           "P62805",
           "P68363",
           "P68366",
           "P80108",
           "Q02818",
           "Q06323",
           "Q10588",
           "Q12841",
           "Q13103",
           "Q13885",
           "Q14697",
           "R-HSA-163125",
           "Q71U36",
           "R-HSA-163841",
           "Q8NBJ4",
           "Q96A08",
           "Q99436",
           "Q99497",
           "Q9BTY2",
           "Q9H4B7",
           "Q9UBE0",
           "Q9UK55",
           "R-HSA-2990846",
           "R-HSA-159854"
          ],
          "line": {
           "color": "white",
           "width": 2
          },
          "pad": 20,
          "thickness": 20
         },
         "orientation": "h",
         "textfont": {
          "family": "Arial",
          "size": 15
         },
         "type": "sankey"
        }
       ],
       "layout": {
        "template": {
         "data": {
          "bar": [
           {
            "error_x": {
             "color": "#2a3f5f"
            },
            "error_y": {
             "color": "#2a3f5f"
            },
            "marker": {
             "line": {
              "color": "#E5ECF6",
              "width": 0.5
             },
             "pattern": {
              "fillmode": "overlay",
              "size": 10,
              "solidity": 0.2
             }
            },
            "type": "bar"
           }
          ],
          "barpolar": [
           {
            "marker": {
             "line": {
              "color": "#E5ECF6",
              "width": 0.5
             },
             "pattern": {
              "fillmode": "overlay",
              "size": 10,
              "solidity": 0.2
             }
            },
            "type": "barpolar"
           }
          ],
          "carpet": [
           {
            "aaxis": {
             "endlinecolor": "#2a3f5f",
             "gridcolor": "white",
             "linecolor": "white",
             "minorgridcolor": "white",
             "startlinecolor": "#2a3f5f"
            },
            "baxis": {
             "endlinecolor": "#2a3f5f",
             "gridcolor": "white",
             "linecolor": "white",
             "minorgridcolor": "white",
             "startlinecolor": "#2a3f5f"
            },
            "type": "carpet"
           }
          ],
          "choropleth": [
           {
            "colorbar": {
             "outlinewidth": 0,
             "ticks": ""
            },
            "type": "choropleth"
           }
          ],
          "contour": [
           {
            "colorbar": {
             "outlinewidth": 0,
             "ticks": ""
            },
            "colorscale": [
             [
              0,
              "#0d0887"
             ],
             [
              0.1111111111111111,
              "#46039f"
             ],
             [
              0.2222222222222222,
              "#7201a8"
             ],
             [
              0.3333333333333333,
              "#9c179e"
             ],
             [
              0.4444444444444444,
              "#bd3786"
             ],
             [
              0.5555555555555556,
              "#d8576b"
             ],
             [
              0.6666666666666666,
              "#ed7953"
             ],
             [
              0.7777777777777778,
              "#fb9f3a"
             ],
             [
              0.8888888888888888,
              "#fdca26"
             ],
             [
              1,
              "#f0f921"
             ]
            ],
            "type": "contour"
           }
          ],
          "contourcarpet": [
           {
            "colorbar": {
             "outlinewidth": 0,
             "ticks": ""
            },
            "type": "contourcarpet"
           }
          ],
          "heatmap": [
           {
            "colorbar": {
             "outlinewidth": 0,
             "ticks": ""
            },
            "colorscale": [
             [
              0,
              "#0d0887"
             ],
             [
              0.1111111111111111,
              "#46039f"
             ],
             [
              0.2222222222222222,
              "#7201a8"
             ],
             [
              0.3333333333333333,
              "#9c179e"
             ],
             [
              0.4444444444444444,
              "#bd3786"
             ],
             [
              0.5555555555555556,
              "#d8576b"
             ],
             [
              0.6666666666666666,
              "#ed7953"
             ],
             [
              0.7777777777777778,
              "#fb9f3a"
             ],
             [
              0.8888888888888888,
              "#fdca26"
             ],
             [
              1,
              "#f0f921"
             ]
            ],
            "type": "heatmap"
           }
          ],
          "heatmapgl": [
           {
            "colorbar": {
             "outlinewidth": 0,
             "ticks": ""
            },
            "colorscale": [
             [
              0,
              "#0d0887"
             ],
             [
              0.1111111111111111,
              "#46039f"
             ],
             [
              0.2222222222222222,
              "#7201a8"
             ],
             [
              0.3333333333333333,
              "#9c179e"
             ],
             [
              0.4444444444444444,
              "#bd3786"
             ],
             [
              0.5555555555555556,
              "#d8576b"
             ],
             [
              0.6666666666666666,
              "#ed7953"
             ],
             [
              0.7777777777777778,
              "#fb9f3a"
             ],
             [
              0.8888888888888888,
              "#fdca26"
             ],
             [
              1,
              "#f0f921"
             ]
            ],
            "type": "heatmapgl"
           }
          ],
          "histogram": [
           {
            "marker": {
             "pattern": {
              "fillmode": "overlay",
              "size": 10,
              "solidity": 0.2
             }
            },
            "type": "histogram"
           }
          ],
          "histogram2d": [
           {
            "colorbar": {
             "outlinewidth": 0,
             "ticks": ""
            },
            "colorscale": [
             [
              0,
              "#0d0887"
             ],
             [
              0.1111111111111111,
              "#46039f"
             ],
             [
              0.2222222222222222,
              "#7201a8"
             ],
             [
              0.3333333333333333,
              "#9c179e"
             ],
             [
              0.4444444444444444,
              "#bd3786"
             ],
             [
              0.5555555555555556,
              "#d8576b"
             ],
             [
              0.6666666666666666,
              "#ed7953"
             ],
             [
              0.7777777777777778,
              "#fb9f3a"
             ],
             [
              0.8888888888888888,
              "#fdca26"
             ],
             [
              1,
              "#f0f921"
             ]
            ],
            "type": "histogram2d"
           }
          ],
          "histogram2dcontour": [
           {
            "colorbar": {
             "outlinewidth": 0,
             "ticks": ""
            },
            "colorscale": [
             [
              0,
              "#0d0887"
             ],
             [
              0.1111111111111111,
              "#46039f"
             ],
             [
              0.2222222222222222,
              "#7201a8"
             ],
             [
              0.3333333333333333,
              "#9c179e"
             ],
             [
              0.4444444444444444,
              "#bd3786"
             ],
             [
              0.5555555555555556,
              "#d8576b"
             ],
             [
              0.6666666666666666,
              "#ed7953"
             ],
             [
              0.7777777777777778,
              "#fb9f3a"
             ],
             [
              0.8888888888888888,
              "#fdca26"
             ],
             [
              1,
              "#f0f921"
             ]
            ],
            "type": "histogram2dcontour"
           }
          ],
          "mesh3d": [
           {
            "colorbar": {
             "outlinewidth": 0,
             "ticks": ""
            },
            "type": "mesh3d"
           }
          ],
          "parcoords": [
           {
            "line": {
             "colorbar": {
              "outlinewidth": 0,
              "ticks": ""
             }
            },
            "type": "parcoords"
           }
          ],
          "pie": [
           {
            "automargin": true,
            "type": "pie"
           }
          ],
          "scatter": [
           {
            "fillpattern": {
             "fillmode": "overlay",
             "size": 10,
             "solidity": 0.2
            },
            "type": "scatter"
           }
          ],
          "scatter3d": [
           {
            "line": {
             "colorbar": {
              "outlinewidth": 0,
              "ticks": ""
             }
            },
            "marker": {
             "colorbar": {
              "outlinewidth": 0,
              "ticks": ""
             }
            },
            "type": "scatter3d"
           }
          ],
          "scattercarpet": [
           {
            "marker": {
             "colorbar": {
              "outlinewidth": 0,
              "ticks": ""
             }
            },
            "type": "scattercarpet"
           }
          ],
          "scattergeo": [
           {
            "marker": {
             "colorbar": {
              "outlinewidth": 0,
              "ticks": ""
             }
            },
            "type": "scattergeo"
           }
          ],
          "scattergl": [
           {
            "marker": {
             "colorbar": {
              "outlinewidth": 0,
              "ticks": ""
             }
            },
            "type": "scattergl"
           }
          ],
          "scattermapbox": [
           {
            "marker": {
             "colorbar": {
              "outlinewidth": 0,
              "ticks": ""
             }
            },
            "type": "scattermapbox"
           }
          ],
          "scatterpolar": [
           {
            "marker": {
             "colorbar": {
              "outlinewidth": 0,
              "ticks": ""
             }
            },
            "type": "scatterpolar"
           }
          ],
          "scatterpolargl": [
           {
            "marker": {
             "colorbar": {
              "outlinewidth": 0,
              "ticks": ""
             }
            },
            "type": "scatterpolargl"
           }
          ],
          "scatterternary": [
           {
            "marker": {
             "colorbar": {
              "outlinewidth": 0,
              "ticks": ""
             }
            },
            "type": "scatterternary"
           }
          ],
          "surface": [
           {
            "colorbar": {
             "outlinewidth": 0,
             "ticks": ""
            },
            "colorscale": [
             [
              0,
              "#0d0887"
             ],
             [
              0.1111111111111111,
              "#46039f"
             ],
             [
              0.2222222222222222,
              "#7201a8"
             ],
             [
              0.3333333333333333,
              "#9c179e"
             ],
             [
              0.4444444444444444,
              "#bd3786"
             ],
             [
              0.5555555555555556,
              "#d8576b"
             ],
             [
              0.6666666666666666,
              "#ed7953"
             ],
             [
              0.7777777777777778,
              "#fb9f3a"
             ],
             [
              0.8888888888888888,
              "#fdca26"
             ],
             [
              1,
              "#f0f921"
             ]
            ],
            "type": "surface"
           }
          ],
          "table": [
           {
            "cells": {
             "fill": {
              "color": "#EBF0F8"
             },
             "line": {
              "color": "white"
             }
            },
            "header": {
             "fill": {
              "color": "#C8D4E3"
             },
             "line": {
              "color": "white"
             }
            },
            "type": "table"
           }
          ]
         },
         "layout": {
          "annotationdefaults": {
           "arrowcolor": "#2a3f5f",
           "arrowhead": 0,
           "arrowwidth": 1
          },
          "autotypenumbers": "strict",
          "coloraxis": {
           "colorbar": {
            "outlinewidth": 0,
            "ticks": ""
           }
          },
          "colorscale": {
           "diverging": [
            [
             0,
             "#8e0152"
            ],
            [
             0.1,
             "#c51b7d"
            ],
            [
             0.2,
             "#de77ae"
            ],
            [
             0.3,
             "#f1b6da"
            ],
            [
             0.4,
             "#fde0ef"
            ],
            [
             0.5,
             "#f7f7f7"
            ],
            [
             0.6,
             "#e6f5d0"
            ],
            [
             0.7,
             "#b8e186"
            ],
            [
             0.8,
             "#7fbc41"
            ],
            [
             0.9,
             "#4d9221"
            ],
            [
             1,
             "#276419"
            ]
           ],
           "sequential": [
            [
             0,
             "#0d0887"
            ],
            [
             0.1111111111111111,
             "#46039f"
            ],
            [
             0.2222222222222222,
             "#7201a8"
            ],
            [
             0.3333333333333333,
             "#9c179e"
            ],
            [
             0.4444444444444444,
             "#bd3786"
            ],
            [
             0.5555555555555556,
             "#d8576b"
            ],
            [
             0.6666666666666666,
             "#ed7953"
            ],
            [
             0.7777777777777778,
             "#fb9f3a"
            ],
            [
             0.8888888888888888,
             "#fdca26"
            ],
            [
             1,
             "#f0f921"
            ]
           ],
           "sequentialminus": [
            [
             0,
             "#0d0887"
            ],
            [
             0.1111111111111111,
             "#46039f"
            ],
            [
             0.2222222222222222,
             "#7201a8"
            ],
            [
             0.3333333333333333,
             "#9c179e"
            ],
            [
             0.4444444444444444,
             "#bd3786"
            ],
            [
             0.5555555555555556,
             "#d8576b"
            ],
            [
             0.6666666666666666,
             "#ed7953"
            ],
            [
             0.7777777777777778,
             "#fb9f3a"
            ],
            [
             0.8888888888888888,
             "#fdca26"
            ],
            [
             1,
             "#f0f921"
            ]
           ]
          },
          "colorway": [
           "#636efa",
           "#EF553B",
           "#00cc96",
           "#ab63fa",
           "#FFA15A",
           "#19d3f3",
           "#FF6692",
           "#B6E880",
           "#FF97FF",
           "#FECB52"
          ],
          "font": {
           "color": "#2a3f5f"
          },
          "geo": {
           "bgcolor": "white",
           "lakecolor": "white",
           "landcolor": "#E5ECF6",
           "showlakes": true,
           "showland": true,
           "subunitcolor": "white"
          },
          "hoverlabel": {
           "align": "left"
          },
          "hovermode": "closest",
          "mapbox": {
           "style": "light"
          },
          "paper_bgcolor": "white",
          "plot_bgcolor": "#E5ECF6",
          "polar": {
           "angularaxis": {
            "gridcolor": "white",
            "linecolor": "white",
            "ticks": ""
           },
           "bgcolor": "#E5ECF6",
           "radialaxis": {
            "gridcolor": "white",
            "linecolor": "white",
            "ticks": ""
           }
          },
          "scene": {
           "xaxis": {
            "backgroundcolor": "#E5ECF6",
            "gridcolor": "white",
            "gridwidth": 2,
            "linecolor": "white",
            "showbackground": true,
            "ticks": "",
            "zerolinecolor": "white"
           },
           "yaxis": {
            "backgroundcolor": "#E5ECF6",
            "gridcolor": "white",
            "gridwidth": 2,
            "linecolor": "white",
            "showbackground": true,
            "ticks": "",
            "zerolinecolor": "white"
           },
           "zaxis": {
            "backgroundcolor": "#E5ECF6",
            "gridcolor": "white",
            "gridwidth": 2,
            "linecolor": "white",
            "showbackground": true,
            "ticks": "",
            "zerolinecolor": "white"
           }
          },
          "shapedefaults": {
           "line": {
            "color": "#2a3f5f"
           }
          },
          "ternary": {
           "aaxis": {
            "gridcolor": "white",
            "linecolor": "white",
            "ticks": ""
           },
           "baxis": {
            "gridcolor": "white",
            "linecolor": "white",
            "ticks": ""
           },
           "bgcolor": "#E5ECF6",
           "caxis": {
            "gridcolor": "white",
            "linecolor": "white",
            "ticks": ""
           }
          },
          "title": {
           "x": 0.05
          },
          "xaxis": {
           "automargin": true,
           "gridcolor": "white",
           "linecolor": "white",
           "ticks": "",
           "title": {
            "standoff": 15
           },
           "zerolinecolor": "white",
           "zerolinewidth": 2
          },
          "yaxis": {
           "automargin": true,
           "gridcolor": "white",
           "linecolor": "white",
           "ticks": "",
           "title": {
            "standoff": 15
           },
           "zerolinecolor": "white",
           "zerolinewidth": 2
          }
         }
        }
       }
      }
     },
     "metadata": {},
     "output_type": "display_data"
    }
   ],
   "source": [
    "query_node = \"R-HSA-597592\"\n",
    "\n",
    "IG.plot_subgraph_sankey(\n",
    "    query_node, upstream=True, savename=\"img/subgraph_sankey.png\", cmap=\"coolwarm\"\n",
    ")"
   ]
  }
 ],
 "metadata": {
  "kernelspec": {
   "display_name": "test-venv",
   "language": "python",
   "name": "python3"
  },
  "language_info": {
   "codemirror_mode": {
    "name": "ipython",
    "version": 3
   },
   "file_extension": ".py",
   "mimetype": "text/x-python",
   "name": "python",
   "nbconvert_exporter": "python",
   "pygments_lexer": "ipython3",
   "version": "3.9.6"
  },
  "orig_nbformat": 4
 },
 "nbformat": 4,
 "nbformat_minor": 2
}
