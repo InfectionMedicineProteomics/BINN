{
 "cells": [
  {
   "cell_type": "code",
   "execution_count": 1,
   "metadata": {},
   "outputs": [
    {
     "name": "stderr",
     "output_type": "stream",
     "text": [
      "IProgress not found. Please update jupyter and ipywidgets. See https://ipywidgets.readthedocs.io/en/stable/user_install.html\n"
     ]
    },
    {
     "name": "stdout",
     "output_type": "stream",
     "text": [
      "\n",
      "BINN is on the device: cpu\n"
     ]
    }
   ],
   "source": [
    "from binn import Network, BINN\n",
    "import pandas as pd\n",
    "\n",
    "input_data = pd.read_csv(\"../data/test_qm.csv\")\n",
    "translation = pd.read_csv(\"../data/translation.tsv\", sep=\"\\t\")\n",
    "pathways = pd.read_csv(\"../data/pathways.tsv\", sep=\"\\t\")\n",
    "\n",
    "network = Network(\n",
    "    input_data=input_data,\n",
    "    pathways=pathways,\n",
    "    mapping=translation,\n",
    "    source_column=\"child\",\n",
    "    target_column=\"parent\",\n",
    ")\n",
    "\n",
    "binn = BINN(\n",
    "    network=network,\n",
    "    n_layers=4,\n",
    "    dropout=0.2,\n",
    "    validate=False,\n",
    "    residual=True,\n",
    "    device=\"cpu\",\n",
    ")"
   ]
  },
  {
   "cell_type": "code",
   "execution_count": 2,
   "metadata": {},
   "outputs": [
    {
     "name": "stderr",
     "output_type": "stream",
     "text": [
      "GPU available: True (mps), used: True\n",
      "TPU available: False, using: 0 TPU cores\n",
      "IPU available: False, using: 0 IPUs\n",
      "HPU available: False, using: 0 HPUs\n",
      "Starting from v1.9.0, `tensorboardX` has been removed as a dependency of the `lightning.pytorch` package, due to potential conflicts with other packages in the ML ecosystem. For this reason, `logger=True` will use `CSVLogger` as the default logger, unless the `tensorboard` or `tensorboardX` packages are found. Please `pip install lightning[extra]` or one of them to enable TensorBoard support by default\n"
     ]
    }
   ],
   "source": [
    "from util_for_examples import fit_data_matrix_to_network_input, generate_data\n",
    "import torch\n",
    "from lightning.pytorch import Trainer\n",
    "\n",
    "design_matrix = pd.read_csv(\"../data/design_matrix.tsv\", sep=\"\\t\")\n",
    "\n",
    "protein_matrix = fit_data_matrix_to_network_input(input_data, features=network.inputs)\n",
    "\n",
    "X, y = generate_data(protein_matrix, design_matrix=design_matrix)\n",
    "dataset = torch.utils.data.TensorDataset(\n",
    "    torch.tensor(X, dtype=torch.float32, device=binn.device),\n",
    "    torch.tensor(y, dtype=torch.int16, device=binn.device),\n",
    ")\n",
    "dataloader = torch.utils.data.DataLoader(dataset, batch_size=8, shuffle=True)\n",
    "\n",
    "# You can train using the Lightning Trainer\n",
    "trainer = Trainer(max_epochs=10, log_every_n_steps=10)\n",
    "#trainer.fit(binn, dataloader)"
   ]
  },
  {
   "cell_type": "code",
   "execution_count": 3,
   "metadata": {},
   "outputs": [
    {
     "name": "stdout",
     "output_type": "stream",
     "text": [
      "Epoch 0, Average Accuracy 0.6669999957084656, Average Loss: 0.6535322880744934\n",
      "Epoch 1, Average Accuracy 0.824999988079071, Average Loss: 0.5731604671478272\n",
      "Epoch 2, Average Accuracy 0.8840000033378601, Average Loss: 0.5321515893936157\n",
      "Epoch 3, Average Accuracy 0.9100000262260437, Average Loss: 0.5054576551914215\n",
      "Epoch 4, Average Accuracy 0.9649999737739563, Average Loss: 0.4636109948158264\n",
      "Epoch 5, Average Accuracy 0.909000039100647, Average Loss: 0.4785078537464142\n",
      "Epoch 6, Average Accuracy 0.9519999623298645, Average Loss: 0.4421776020526886\n",
      "Epoch 7, Average Accuracy 0.9449999928474426, Average Loss: 0.42987540245056155\n",
      "Epoch 8, Average Accuracy 0.9649999737739563, Average Loss: 0.4235784935951233\n",
      "Epoch 9, Average Accuracy 0.9350000023841858, Average Loss: 0.42061012744903564\n",
      "Epoch 10, Average Accuracy 0.9449999928474426, Average Loss: 0.41523029446601867\n",
      "Epoch 11, Average Accuracy 0.9599999785423279, Average Loss: 0.4051105892658234\n",
      "Epoch 12, Average Accuracy 0.9449999928474426, Average Loss: 0.4121316242218018\n",
      "Epoch 13, Average Accuracy 0.9750000238418579, Average Loss: 0.3867115068435669\n",
      "Epoch 14, Average Accuracy 0.9950000047683716, Average Loss: 0.3781156075000763\n",
      "Epoch 15, Average Accuracy 0.9700000286102295, Average Loss: 0.3785518550872803\n",
      "Epoch 16, Average Accuracy 0.9669999480247498, Average Loss: 0.38377546548843383\n",
      "Epoch 17, Average Accuracy 0.9190000295639038, Average Loss: 0.42150614023208616\n",
      "Epoch 18, Average Accuracy 0.9900000095367432, Average Loss: 0.37560231804847716\n",
      "Epoch 19, Average Accuracy 0.9649999737739563, Average Loss: 0.37651482462882996\n",
      "Epoch 20, Average Accuracy 0.9769999980926514, Average Loss: 0.3687071430683136\n",
      "Epoch 21, Average Accuracy 0.9649999737739563, Average Loss: 0.3794515585899353\n",
      "Epoch 22, Average Accuracy 0.9589999914169312, Average Loss: 0.3779818499088287\n",
      "Epoch 23, Average Accuracy 0.9750000238418579, Average Loss: 0.36526280641555786\n",
      "Epoch 24, Average Accuracy 0.9750000238418579, Average Loss: 0.3597237813472748\n",
      "Epoch 25, Average Accuracy 0.9900000095367432, Average Loss: 0.3560494291782379\n",
      "Epoch 26, Average Accuracy 0.9950000047683716, Average Loss: 0.3570049488544464\n",
      "Epoch 27, Average Accuracy 0.9790000319480896, Average Loss: 0.3586646318435669\n",
      "Epoch 28, Average Accuracy 0.9580000042915344, Average Loss: 0.37978151321411135\n",
      "Epoch 29, Average Accuracy 0.9700000286102295, Average Loss: 0.36014627933502197\n"
     ]
    }
   ],
   "source": [
    "import torch.nn.functional as F\n",
    "\n",
    "# You can also train with a standard PyTorch train loop \n",
    "\n",
    "optimizer = torch.optim.Adam(binn.parameters(), lr=0.001)\n",
    "\n",
    "num_epochs = 30\n",
    "\n",
    "for epoch in range(num_epochs):\n",
    "    binn.train() \n",
    "    total_loss = 0.0\n",
    "    total_accuracy = 0\n",
    "\n",
    "    for batch_idx, (inputs, targets) in enumerate(dataloader):\n",
    "        inputs = inputs.to(binn.device)\n",
    "        targets = targets.to(binn.device).type(torch.LongTensor)\n",
    "        optimizer.zero_grad()\n",
    "        outputs = binn(inputs).to(binn.device)\n",
    "        loss = F.cross_entropy(outputs, targets)\n",
    "        loss.backward()\n",
    "        optimizer.step()\n",
    "        total_loss += loss.item()\n",
    "        total_accuracy += torch.sum(torch.argmax(outputs, axis=1) == targets) / len(targets)\n",
    "\n",
    "    avg_loss = total_loss / len(dataloader)\n",
    "    avg_accuracy = total_accuracy / len(dataloader)\n",
    "    print(f'Epoch {epoch}, Average Accuracy {avg_accuracy}, Average Loss: {avg_loss}')\n",
    "\n"
   ]
  },
  {
   "cell_type": "code",
   "execution_count": 4,
   "metadata": {},
   "outputs": [],
   "source": [
    "from binn import BINNExplainer\n",
    "\n",
    "explainer = BINNExplainer(binn)"
   ]
  },
  {
   "cell_type": "code",
   "execution_count": 5,
   "metadata": {},
   "outputs": [
    {
     "data": {
      "text/html": [
       "<div>\n",
       "<style scoped>\n",
       "    .dataframe tbody tr th:only-of-type {\n",
       "        vertical-align: middle;\n",
       "    }\n",
       "\n",
       "    .dataframe tbody tr th {\n",
       "        vertical-align: top;\n",
       "    }\n",
       "\n",
       "    .dataframe thead th {\n",
       "        text-align: right;\n",
       "    }\n",
       "</style>\n",
       "<table border=\"1\" class=\"dataframe\">\n",
       "  <thead>\n",
       "    <tr style=\"text-align: right;\">\n",
       "      <th></th>\n",
       "      <th>source</th>\n",
       "      <th>target</th>\n",
       "      <th>source name</th>\n",
       "      <th>target name</th>\n",
       "      <th>value</th>\n",
       "      <th>type</th>\n",
       "      <th>source layer</th>\n",
       "      <th>target layer</th>\n",
       "    </tr>\n",
       "  </thead>\n",
       "  <tbody>\n",
       "    <tr>\n",
       "      <th>0</th>\n",
       "      <td>1</td>\n",
       "      <td>497</td>\n",
       "      <td>A0M8Q6</td>\n",
       "      <td>R-HSA-166663</td>\n",
       "      <td>0.0</td>\n",
       "      <td>0</td>\n",
       "      <td>0</td>\n",
       "      <td>1</td>\n",
       "    </tr>\n",
       "    <tr>\n",
       "      <th>1</th>\n",
       "      <td>1</td>\n",
       "      <td>497</td>\n",
       "      <td>A0M8Q6</td>\n",
       "      <td>R-HSA-166663</td>\n",
       "      <td>0.0</td>\n",
       "      <td>1</td>\n",
       "      <td>0</td>\n",
       "      <td>1</td>\n",
       "    </tr>\n",
       "    <tr>\n",
       "      <th>2</th>\n",
       "      <td>1</td>\n",
       "      <td>954</td>\n",
       "      <td>A0M8Q6</td>\n",
       "      <td>R-HSA-198933</td>\n",
       "      <td>0.0</td>\n",
       "      <td>0</td>\n",
       "      <td>0</td>\n",
       "      <td>1</td>\n",
       "    </tr>\n",
       "    <tr>\n",
       "      <th>3</th>\n",
       "      <td>1</td>\n",
       "      <td>954</td>\n",
       "      <td>A0M8Q6</td>\n",
       "      <td>R-HSA-198933</td>\n",
       "      <td>0.0</td>\n",
       "      <td>1</td>\n",
       "      <td>0</td>\n",
       "      <td>1</td>\n",
       "    </tr>\n",
       "    <tr>\n",
       "      <th>4</th>\n",
       "      <td>1</td>\n",
       "      <td>539</td>\n",
       "      <td>A0M8Q6</td>\n",
       "      <td>R-HSA-2029481</td>\n",
       "      <td>0.0</td>\n",
       "      <td>0</td>\n",
       "      <td>0</td>\n",
       "      <td>1</td>\n",
       "    </tr>\n",
       "  </tbody>\n",
       "</table>\n",
       "</div>"
      ],
      "text/plain": [
       "   source  target source name    target name  value  type  source layer  \\\n",
       "0       1     497      A0M8Q6   R-HSA-166663    0.0     0             0   \n",
       "1       1     497      A0M8Q6   R-HSA-166663    0.0     1             0   \n",
       "2       1     954      A0M8Q6   R-HSA-198933    0.0     0             0   \n",
       "3       1     954      A0M8Q6   R-HSA-198933    0.0     1             0   \n",
       "4       1     539      A0M8Q6  R-HSA-2029481    0.0     0             0   \n",
       "\n",
       "   target layer  \n",
       "0             1  \n",
       "1             1  \n",
       "2             1  \n",
       "3             1  \n",
       "4             1  "
      ]
     },
     "execution_count": 5,
     "metadata": {},
     "output_type": "execute_result"
    }
   ],
   "source": [
    "test_data = torch.Tensor(X[5:10])\n",
    "background_data = torch.Tensor(X[0:5])\n",
    "\n",
    "importance_df = explainer.explain(test_data, background_data)\n",
    "importance_df.head()"
   ]
  },
  {
   "cell_type": "code",
   "execution_count": 6,
   "metadata": {},
   "outputs": [],
   "source": [
    "from binn import ImportanceNetwork\n",
    "\n",
    "IG = ImportanceNetwork(importance_df, norm_method=\"fan\")"
   ]
  },
  {
   "cell_type": "code",
   "execution_count": 21,
   "metadata": {},
   "outputs": [
    {
     "data": {
      "application/vnd.plotly.v1+json": {
       "config": {
        "plotlyServerURL": "https://plot.ly"
       },
       "data": [
        {
         "arrangement": "snap",
         "link": {
          "color": [
           "rgba(56.0, 108.0, 176.0, 0.3)",
           "rgba(56.0, 108.0, 176.0, 0.3)",
           "rgba(191.0, 91.0, 22.999999999999996, 0.3)",
           "rgba(190.0, 174.0, 212.0, 0.3)",
           "rgba(191.0, 91.0, 22.999999999999996, 0.3)",
           "rgba(56.0, 108.0, 176.0, 0.3)",
           "rgba(240.0, 2.0, 127.0, 0.3)",
           "rgba(102.0, 102.0, 102.0, 0.3)",
           "rgba(56.0, 108.0, 176.0, 0.3)",
           "rgba(191.0, 91.0, 22.999999999999996, 0.3)",
           "rgba(191.0, 91.0, 22.999999999999996, 0.3)",
           "rgba(240.0, 2.0, 127.0, 0.3)",
           "rgba(56.0, 108.0, 176.0, 0.3)",
           "rgba(240.0, 2.0, 127.0, 0.3)",
           "rgba(127.0, 201.0, 127.0, 0.3)",
           "rgba(56.0, 108.0, 176.0, 0.3)",
           "rgba(127.0, 201.0, 127.0, 0.3)",
           "rgba(102.0, 102.0, 102.0, 0.3)",
           "rgba(102.0, 102.0, 102.0, 0.3)",
           "rgba(56.0, 108.0, 176.0, 0.3)",
           "rgba(191.0, 91.0, 22.999999999999996, 0.3)",
           "rgba(191.0, 91.0, 22.999999999999996, 0.3)",
           "rgba(191.0, 91.0, 22.999999999999996, 0.3)",
           "rgba(255.0, 255.0, 153.0, 0.3)",
           "rgba(253.0, 192.0, 134.0, 0.3)",
           "rgba(56.0, 108.0, 176.0, 0.3)",
           "rgba(191.0, 91.0, 22.999999999999996, 0.3)",
           "rgba(240.0, 2.0, 127.0, 0.3)",
           "rgba(191.0, 91.0, 22.999999999999996, 0.3)",
           "rgba(191.0, 91.0, 22.999999999999996, 0.3)",
           "rgba(102.0, 102.0, 102.0, 0.3)",
           "rgba(102.0, 102.0, 102.0, 0.3)",
           "rgba(102.0, 102.0, 102.0, 0.3)",
           "rgba(102.0, 102.0, 102.0, 0.3)",
           "rgba(102.0, 102.0, 102.0, 0.3)",
           "rgba(56.0, 108.0, 176.0, 0.3)",
           "rgba(191.0, 91.0, 22.999999999999996, 0.3)",
           "rgba(102.0, 102.0, 102.0, 0.3)",
           "rgba(102.0, 102.0, 102.0, 0.3)",
           "rgba(240.0, 2.0, 127.0, 0.3)",
           "rgba(191.0, 91.0, 22.999999999999996, 0.3)",
           "rgba(253.0, 192.0, 134.0, 0.3)",
           "rgba(253.0, 192.0, 134.0, 0.3)",
           "rgba(56.0, 108.0, 176.0, 0.3)",
           "rgba(127.0, 201.0, 127.0, 0.3)",
           "rgba(253.0, 192.0, 134.0, 0.3)",
           "rgba(56.0, 108.0, 176.0, 0.3)",
           "rgba(253.0, 192.0, 134.0, 0.3)",
           "rgba(127.0, 201.0, 127.0, 0.3)",
           "rgb(236,236,236, 0.3)",
           "rgba(102.0, 102.0, 102.0, 0.3)",
           "rgba(102.0, 102.0, 102.0, 0.3)",
           "rgba(127.0, 201.0, 127.0, 0.3)",
           "rgba(191.0, 91.0, 22.999999999999996, 0.3)",
           "rgb(236,236,236, 0.3)",
           "rgb(236,236,236, 0.3)",
           "rgb(236,236,236, 0.3)",
           "rgb(236,236,236, 0.3)",
           "rgb(236,236,236, 0.3)",
           "rgb(236,236,236, 0.3)",
           "rgb(236,236,236, 0.3)",
           "rgb(236,236,236, 0.3)",
           "rgb(236,236,236, 0.3)",
           "rgba(240.0, 2.0, 127.0, 0.3)",
           "rgba(191.0, 91.0, 22.999999999999996, 0.3)",
           "rgb(236,236,236, 0.3)",
           "rgb(236,236,236, 0.3)",
           "rgb(236,236,236, 0.3)",
           "rgb(236,236,236, 0.3)",
           "rgb(236,236,236, 0.3)",
           "rgb(236,236,236, 0.3)",
           "rgb(236,236,236, 0.3)",
           "rgb(236,236,236, 0.3)",
           "rgb(236,236,236, 0.3)",
           "rgb(236,236,236, 0.3)",
           "rgb(236,236,236, 0.3)",
           "rgb(236,236,236, 0.3)",
           "rgb(236,236,236, 0.3)",
           "rgb(236,236,236, 0.3)",
           "rgb(236,236,236, 0.3)",
           "rgb(236,236,236, 0.3)",
           "rgba(127.0, 201.0, 127.0, 0.3)",
           "rgba(127.0, 201.0, 127.0, 0.3)",
           "rgba(127.0, 201.0, 127.0, 0.3)",
           "rgba(191.0, 91.0, 22.999999999999996, 0.3)",
           "rgb(236,236,236, 0.3)",
           "rgb(236,236,236, 0.3)",
           "rgb(236,236,236, 0.3)",
           "rgb(236,236,236, 0.3)",
           "rgb(236,236,236, 0.3)",
           "rgb(236,236,236, 0.3)",
           "rgb(236,236,236, 0.3)",
           "rgb(236,236,236, 0.3)",
           "rgb(236,236,236, 0.3)",
           "rgba(102.0, 102.0, 102.0, 0.3)"
          ],
          "source": [
           0,
           2,
           3,
           4,
           5,
           6,
           7,
           8,
           9,
           10,
           10,
           11,
           12,
           13,
           14,
           15,
           16,
           17,
           18,
           19,
           20,
           20,
           20,
           21,
           22,
           23,
           24,
           25,
           26,
           26,
           27,
           27,
           28,
           29,
           29,
           30,
           31,
           32,
           32,
           33,
           34,
           35,
           35,
           36,
           37,
           38,
           39,
           40,
           41,
           42,
           43,
           43,
           44,
           45,
           46,
           46,
           46,
           46,
           46,
           46,
           46,
           46,
           46,
           47,
           48,
           49,
           49,
           49,
           49,
           49,
           49,
           49,
           49,
           49,
           49,
           49,
           49,
           50,
           50,
           50,
           50,
           51,
           52,
           52,
           53,
           54,
           54,
           54,
           54,
           54,
           54,
           54,
           54,
           54,
           55
          ],
          "target": [
           12,
           7,
           50,
           40,
           0,
           1,
           1,
           1,
           1,
           50,
           44,
           46,
           6,
           46,
           4,
           1,
           1,
           1,
           1,
           50,
           50,
           51,
           14,
           13,
           40,
           1,
           1,
           54,
           8,
           42,
           44,
           50,
           46,
           44,
           50,
           23,
           46,
           50,
           53,
           9,
           42,
           50,
           44,
           46,
           15,
           54,
           22,
           16,
           7,
           1,
           50,
           44,
           40,
           54,
           8,
           18,
           15,
           23,
           16,
           7,
           17,
           9,
           24,
           16,
           54,
           53,
           44,
           33,
           48,
           21,
           39,
           55,
           14,
           45,
           5,
           25,
           38,
           36,
           11,
           28,
           31,
           28,
           50,
           44,
           11,
           12,
           26,
           47,
           40,
           30,
           2,
           34,
           37,
           41,
           46
          ],
          "value": [
           0.10186212419238024,
           0.0867901679721918,
           0.03503049436534247,
           0.1468647793419473,
           0.07047703903394062,
           0.11679631752832036,
           0.0954663261216176,
           0.06486784430924224,
           0.11971528481308005,
           0.05422554837605742,
           0.013556387094014355,
           0.084601261936574,
           0.09162132071947968,
           0.08456451213752636,
           0.14335069744087756,
           0.10868440764181986,
           0.19296453784830864,
           0.05953367238254156,
           0.05849421434861579,
           0.07299079544558236,
           0.08899537861306309,
           0.017799075722612617,
           0.017799075722612617,
           0.10766790816829078,
           0.1292047330043873,
           0.10587482517053669,
           0.07760256983591728,
           0.08085026846327997,
           0.06844040145251287,
           0.06844040145251287,
           0.018706206774233392,
           0.018706206774233392,
           0.056981976685974094,
           0.011416704634283143,
           0.011416704634283143,
           0.08854742417619532,
           0.06950714506763343,
           0.02327203008593791,
           0.011636015042968954,
           0.08031542858720728,
           0.06460718663342906,
           0.21632983150099727,
           0.01352061446881233,
           0.09769701111988308,
           0.1315832382355398,
           0.12555763333487344,
           0.10111272845906583,
           0.10901242717215541,
           0.13322679412790814,
           0.1,
           0.03785057833073289,
           0.012616859443577629,
           0.17069930375633016,
           0.07324284665943212,
           0.001356154320058361,
           0.007995765700040456,
           0.0000012951085375561888,
           0.0024461738791956723,
           0.02989664648757211,
           0.022504125229167938,
           0.01147397349846817,
           0.0008355262508260085,
           0.023490339526133726,
           0.07741520947086777,
           0.07175835846103565,
           0.030094310981345677,
           0.030307427466256597,
           0.004246954182253588,
           0.004806575027409205,
           0.004893706460260946,
           0.008025087892969789,
           0.0014735281191318977,
           0.00020183865383351348,
           0.0029411897096155984,
           0.007298494611519907,
           0.0018759858462788677,
           0.0038349010491244262,
           0.030043902553646633,
           0.020968535086032133,
           0.014021103354059546,
           0.034966459006261705,
           0.14915399319101083,
           0.3061241878056185,
           0.01800730516503638,
           0.07682852678819324,
           0.00011233743325794359,
           0.011500825141508061,
           0.010900148311626183,
           0.012232410721893983,
           0.023102554870063966,
           0.009507858191304546,
           0.00889834186546694,
           0.016170449242981028,
           0.0075750742218973315,
           0.058017152757364
          ]
         },
         "node": {
          "color": [
           "rgba(56.0, 108.0, 176.0, 0.75)",
           "rgba(0,0,0,1)",
           "rgba(56.0, 108.0, 176.0, 0.75)",
           "rgba(191.0, 91.0, 22.999999999999996, 0.75)",
           "rgba(190.0, 174.0, 212.0, 0.75)",
           "rgba(191.0, 91.0, 22.999999999999996, 0.75)",
           "rgba(56.0, 108.0, 176.0, 0.75)",
           "rgba(240.0, 2.0, 127.0, 0.75)",
           "rgba(102.0, 102.0, 102.0, 0.75)",
           "rgba(56.0, 108.0, 176.0, 0.75)",
           "rgba(191.0, 91.0, 22.999999999999996, 0.75)",
           "rgba(240.0, 2.0, 127.0, 0.75)",
           "rgba(56.0, 108.0, 176.0, 0.75)",
           "rgba(240.0, 2.0, 127.0, 0.75)",
           "rgba(127.0, 201.0, 127.0, 0.75)",
           "rgba(56.0, 108.0, 176.0, 0.75)",
           "rgba(127.0, 201.0, 127.0, 0.75)",
           "rgba(102.0, 102.0, 102.0, 0.75)",
           "rgba(102.0, 102.0, 102.0, 0.75)",
           "rgba(56.0, 108.0, 176.0, 0.75)",
           "rgba(191.0, 91.0, 22.999999999999996, 0.75)",
           "rgba(255.0, 255.0, 153.0, 0.75)",
           "rgba(253.0, 192.0, 134.0, 0.75)",
           "rgba(56.0, 108.0, 176.0, 0.75)",
           "rgba(191.0, 91.0, 22.999999999999996, 0.75)",
           "rgba(240.0, 2.0, 127.0, 0.75)",
           "rgba(191.0, 91.0, 22.999999999999996, 0.75)",
           "rgba(102.0, 102.0, 102.0, 0.75)",
           "rgba(102.0, 102.0, 102.0, 0.75)",
           "rgba(102.0, 102.0, 102.0, 0.75)",
           "rgba(56.0, 108.0, 176.0, 0.75)",
           "rgba(191.0, 91.0, 22.999999999999996, 0.75)",
           "rgba(102.0, 102.0, 102.0, 0.75)",
           "rgba(240.0, 2.0, 127.0, 0.75)",
           "rgba(191.0, 91.0, 22.999999999999996, 0.75)",
           "rgba(253.0, 192.0, 134.0, 0.75)",
           "rgba(56.0, 108.0, 176.0, 0.75)",
           "rgba(127.0, 201.0, 127.0, 0.75)",
           "rgba(253.0, 192.0, 134.0, 0.75)",
           "rgba(56.0, 108.0, 176.0, 0.75)",
           "rgba(253.0, 192.0, 134.0, 0.75)",
           "rgba(127.0, 201.0, 127.0, 0.75)",
           "rgb(236,236,236, 0.75)",
           "rgba(102.0, 102.0, 102.0, 0.75)",
           "rgba(127.0, 201.0, 127.0, 0.75)",
           "rgba(191.0, 91.0, 22.999999999999996, 0.75)",
           "rgb(236,236,236, 0.75)",
           "rgba(240.0, 2.0, 127.0, 0.75)",
           "rgba(191.0, 91.0, 22.999999999999996, 0.75)",
           "rgb(236,236,236, 0.75)",
           "rgb(236,236,236, 0.75)",
           "rgba(127.0, 201.0, 127.0, 0.75)",
           "rgba(127.0, 201.0, 127.0, 0.75)",
           "rgba(191.0, 91.0, 22.999999999999996, 0.75)",
           "rgb(236,236,236, 0.75)",
           "rgba(102.0, 102.0, 102.0, 0.75)"
          ],
          "label": [
           "R-HSA-112314",
           "Output",
           "R-HSA-9675108",
           "P19652",
           "R-HSA-446203",
           "R-HSA-442755",
           "R-HSA-112316",
           "R-HSA-1266738",
           "R-HSA-1474165",
           "R-HSA-1500931",
           "P24821",
           "R-HSA-983705",
           "R-HSA-112315",
           "R-HSA-5362517",
           "R-HSA-532668",
           "R-HSA-1852241",
           "R-HSA-392499",
           "R-HSA-397014",
           "R-HSA-400253",
           "P06727",
           "P27797",
           "R-HSA-5365859",
           "R-HSA-163841",
           "R-HSA-5653656",
           "R-HSA-73894",
           "R-HSA-5579007",
           "R-HSA-1500620",
           "Q8NBJ4",
           "R-HSA-168255",
           "Q9UK55",
           "R-HSA-2173782",
           "R-HSA-69481",
           "P01871",
           "R-HSA-373753",
           "R-HSA-418346",
           "P02647",
           "R-HSA-76005",
           "R-HSA-5617833",
           "R-HSA-156588",
           "R-HSA-159854",
           "R-HSA-597592",
           "R-HSA-6805567",
           "Other connections 5",
           "P02765",
           "R-HSA-8957275",
           "R-HSA-1638074",
           "Other connections 4",
           "R-HSA-72766",
           "R-HSA-70268",
           "Other connections 1",
           "Other connections 2",
           "R-HSA-168268",
           "P04114",
           "R-HSA-983695",
           "Other connections 3",
           "R-HSA-917977"
          ],
          "line": {
           "color": "white",
           "width": 0
          },
          "pad": 15,
          "thickness": 15,
          "x": [
           [
            0.33499999999999996
           ],
           0.85,
           [
            0.5016666666666666
           ],
           [
            0.0016666666666666668
           ],
           [
            0.33499999999999996
           ],
           [
            0.16833333333333333
           ],
           [
            0.6683333333333333
           ],
           [
            0.6683333333333333
           ],
           [
            0.6683333333333333
           ],
           [
            0.6683333333333333
           ],
           [
            0.0016666666666666668
           ],
           [
            0.33499999999999996
           ],
           [
            0.5016666666666666
           ],
           [
            0.33499999999999996
           ],
           [
            0.16833333333333333
           ],
           [
            0.6683333333333333
           ],
           [
            0.6683333333333333
           ],
           [
            0.6683333333333333
           ],
           [
            0.6683333333333333
           ],
           [
            0.0016666666666666668
           ],
           [
            0.0016666666666666668
           ],
           [
            0.16833333333333333
           ],
           [
            0.33499999999999996
           ],
           [
            0.6683333333333333
           ],
           [
            0.6683333333333333
           ],
           [
            0.16833333333333333
           ],
           [
            0.5016666666666666
           ],
           [
            0.0016666666666666668
           ],
           [
            0.33499999999999996
           ],
           [
            0.0016666666666666668
           ],
           [
            0.5016666666666666
           ],
           [
            0.33499999999999996
           ],
           [
            0.0016666666666666668
           ],
           [
            0.5016666666666666
           ],
           [
            0.5016666666666666
           ],
           [
            0.0016666666666666668
           ],
           [
            0.33499999999999996
           ],
           [
            0.5016666666666666
           ],
           [
            0.16833333333333333
           ],
           [
            0.16833333333333333
           ],
           [
            0.5016666666666666
           ],
           [
            0.5016666666666666
           ],
           [
            0.6683333333333333
           ],
           [
            0.0016666666666666668
           ],
           [
            0.33499999999999996
           ],
           [
            0.16833333333333333
           ],
           [
            0.5016666666666666
           ],
           [
            0.5016666666666666
           ],
           [
            0.16833333333333333
           ],
           [
            0.0016666666666666668
           ],
           [
            0.16833333333333333
           ],
           [
            0.16833333333333333
           ],
           [
            0.0016666666666666668
           ],
           [
            0.16833333333333333
           ],
           [
            0.33499999999999996
           ],
           [
            0.33499999999999996
           ]
          ],
          "y": [
           [
            0.21755555555555556
           ],
           0.5,
           [
            0.39533333333333337
           ],
           [
            0.30644444444444446
           ],
           [
            0.03977777777777776
           ],
           [
            0.7508888888888888
           ],
           [
            0.12866666666666665
           ],
           [
            0.39533333333333337
           ],
           [
            0.5731111111111111
           ],
           [
            0.03977777777777776
           ],
           [
            0.39533333333333337
           ],
           [
            0.39533333333333337
           ],
           [
            0.21755555555555556
           ],
           [
            0.48422222222222217
           ],
           [
            0.03977777777777776
           ],
           [
            0.21755555555555556
           ],
           [
            -0.04911111111111113
           ],
           [
            0.662
           ],
           [
            0.7508888888888888
           ],
           [
            0.12866666666666665
           ],
           [
            0.21755555555555556
           ],
           [
            0.21755555555555556
           ],
           [
            0.12866666666666665
           ],
           [
            0.30644444444444446
           ],
           [
            0.48422222222222217
           ],
           [
            0.39533333333333337
           ],
           [
            0.662
           ],
           [
            0.5731111111111111
           ],
           [
            0.7508888888888888
           ],
           [
            0.7508888888888888
           ],
           [
            0.30644444444444446
           ],
           [
            0.5731111111111111
           ],
           [
            0.662
           ],
           [
            0.48422222222222217
           ],
           [
            0.7508888888888888
           ],
           [
            0.03977777777777776
           ],
           [
            0.30644444444444446
           ],
           [
            0.03977777777777776
           ],
           [
            0.12866666666666665
           ],
           [
            0.30644444444444446
           ],
           [
            0.12866666666666665
           ],
           [
            -0.04911111111111113
           ],
           [
            0.9
           ],
           [
            0.48422222222222217
           ],
           [
            -0.04911111111111113
           ],
           [
            0.5731111111111111
           ],
           [
            0.9
           ],
           [
            0.5731111111111111
           ],
           [
            0.662
           ],
           [
            0.9
           ],
           [
            0.9
           ],
           [
            -0.04911111111111113
           ],
           [
            -0.04911111111111113
           ],
           [
            0.48422222222222217
           ],
           [
            0.9
           ],
           [
            0.662
           ]
          ]
         },
         "orientation": "h",
         "textfont": {
          "family": "Arial",
          "size": 15
         },
         "type": "sankey"
        }
       ],
       "layout": {
        "template": {
         "data": {
          "bar": [
           {
            "error_x": {
             "color": "#2a3f5f"
            },
            "error_y": {
             "color": "#2a3f5f"
            },
            "marker": {
             "line": {
              "color": "#E5ECF6",
              "width": 0.5
             },
             "pattern": {
              "fillmode": "overlay",
              "size": 10,
              "solidity": 0.2
             }
            },
            "type": "bar"
           }
          ],
          "barpolar": [
           {
            "marker": {
             "line": {
              "color": "#E5ECF6",
              "width": 0.5
             },
             "pattern": {
              "fillmode": "overlay",
              "size": 10,
              "solidity": 0.2
             }
            },
            "type": "barpolar"
           }
          ],
          "carpet": [
           {
            "aaxis": {
             "endlinecolor": "#2a3f5f",
             "gridcolor": "white",
             "linecolor": "white",
             "minorgridcolor": "white",
             "startlinecolor": "#2a3f5f"
            },
            "baxis": {
             "endlinecolor": "#2a3f5f",
             "gridcolor": "white",
             "linecolor": "white",
             "minorgridcolor": "white",
             "startlinecolor": "#2a3f5f"
            },
            "type": "carpet"
           }
          ],
          "choropleth": [
           {
            "colorbar": {
             "outlinewidth": 0,
             "ticks": ""
            },
            "type": "choropleth"
           }
          ],
          "contour": [
           {
            "colorbar": {
             "outlinewidth": 0,
             "ticks": ""
            },
            "colorscale": [
             [
              0,
              "#0d0887"
             ],
             [
              0.1111111111111111,
              "#46039f"
             ],
             [
              0.2222222222222222,
              "#7201a8"
             ],
             [
              0.3333333333333333,
              "#9c179e"
             ],
             [
              0.4444444444444444,
              "#bd3786"
             ],
             [
              0.5555555555555556,
              "#d8576b"
             ],
             [
              0.6666666666666666,
              "#ed7953"
             ],
             [
              0.7777777777777778,
              "#fb9f3a"
             ],
             [
              0.8888888888888888,
              "#fdca26"
             ],
             [
              1,
              "#f0f921"
             ]
            ],
            "type": "contour"
           }
          ],
          "contourcarpet": [
           {
            "colorbar": {
             "outlinewidth": 0,
             "ticks": ""
            },
            "type": "contourcarpet"
           }
          ],
          "heatmap": [
           {
            "colorbar": {
             "outlinewidth": 0,
             "ticks": ""
            },
            "colorscale": [
             [
              0,
              "#0d0887"
             ],
             [
              0.1111111111111111,
              "#46039f"
             ],
             [
              0.2222222222222222,
              "#7201a8"
             ],
             [
              0.3333333333333333,
              "#9c179e"
             ],
             [
              0.4444444444444444,
              "#bd3786"
             ],
             [
              0.5555555555555556,
              "#d8576b"
             ],
             [
              0.6666666666666666,
              "#ed7953"
             ],
             [
              0.7777777777777778,
              "#fb9f3a"
             ],
             [
              0.8888888888888888,
              "#fdca26"
             ],
             [
              1,
              "#f0f921"
             ]
            ],
            "type": "heatmap"
           }
          ],
          "heatmapgl": [
           {
            "colorbar": {
             "outlinewidth": 0,
             "ticks": ""
            },
            "colorscale": [
             [
              0,
              "#0d0887"
             ],
             [
              0.1111111111111111,
              "#46039f"
             ],
             [
              0.2222222222222222,
              "#7201a8"
             ],
             [
              0.3333333333333333,
              "#9c179e"
             ],
             [
              0.4444444444444444,
              "#bd3786"
             ],
             [
              0.5555555555555556,
              "#d8576b"
             ],
             [
              0.6666666666666666,
              "#ed7953"
             ],
             [
              0.7777777777777778,
              "#fb9f3a"
             ],
             [
              0.8888888888888888,
              "#fdca26"
             ],
             [
              1,
              "#f0f921"
             ]
            ],
            "type": "heatmapgl"
           }
          ],
          "histogram": [
           {
            "marker": {
             "pattern": {
              "fillmode": "overlay",
              "size": 10,
              "solidity": 0.2
             }
            },
            "type": "histogram"
           }
          ],
          "histogram2d": [
           {
            "colorbar": {
             "outlinewidth": 0,
             "ticks": ""
            },
            "colorscale": [
             [
              0,
              "#0d0887"
             ],
             [
              0.1111111111111111,
              "#46039f"
             ],
             [
              0.2222222222222222,
              "#7201a8"
             ],
             [
              0.3333333333333333,
              "#9c179e"
             ],
             [
              0.4444444444444444,
              "#bd3786"
             ],
             [
              0.5555555555555556,
              "#d8576b"
             ],
             [
              0.6666666666666666,
              "#ed7953"
             ],
             [
              0.7777777777777778,
              "#fb9f3a"
             ],
             [
              0.8888888888888888,
              "#fdca26"
             ],
             [
              1,
              "#f0f921"
             ]
            ],
            "type": "histogram2d"
           }
          ],
          "histogram2dcontour": [
           {
            "colorbar": {
             "outlinewidth": 0,
             "ticks": ""
            },
            "colorscale": [
             [
              0,
              "#0d0887"
             ],
             [
              0.1111111111111111,
              "#46039f"
             ],
             [
              0.2222222222222222,
              "#7201a8"
             ],
             [
              0.3333333333333333,
              "#9c179e"
             ],
             [
              0.4444444444444444,
              "#bd3786"
             ],
             [
              0.5555555555555556,
              "#d8576b"
             ],
             [
              0.6666666666666666,
              "#ed7953"
             ],
             [
              0.7777777777777778,
              "#fb9f3a"
             ],
             [
              0.8888888888888888,
              "#fdca26"
             ],
             [
              1,
              "#f0f921"
             ]
            ],
            "type": "histogram2dcontour"
           }
          ],
          "mesh3d": [
           {
            "colorbar": {
             "outlinewidth": 0,
             "ticks": ""
            },
            "type": "mesh3d"
           }
          ],
          "parcoords": [
           {
            "line": {
             "colorbar": {
              "outlinewidth": 0,
              "ticks": ""
             }
            },
            "type": "parcoords"
           }
          ],
          "pie": [
           {
            "automargin": true,
            "type": "pie"
           }
          ],
          "scatter": [
           {
            "fillpattern": {
             "fillmode": "overlay",
             "size": 10,
             "solidity": 0.2
            },
            "type": "scatter"
           }
          ],
          "scatter3d": [
           {
            "line": {
             "colorbar": {
              "outlinewidth": 0,
              "ticks": ""
             }
            },
            "marker": {
             "colorbar": {
              "outlinewidth": 0,
              "ticks": ""
             }
            },
            "type": "scatter3d"
           }
          ],
          "scattercarpet": [
           {
            "marker": {
             "colorbar": {
              "outlinewidth": 0,
              "ticks": ""
             }
            },
            "type": "scattercarpet"
           }
          ],
          "scattergeo": [
           {
            "marker": {
             "colorbar": {
              "outlinewidth": 0,
              "ticks": ""
             }
            },
            "type": "scattergeo"
           }
          ],
          "scattergl": [
           {
            "marker": {
             "colorbar": {
              "outlinewidth": 0,
              "ticks": ""
             }
            },
            "type": "scattergl"
           }
          ],
          "scattermapbox": [
           {
            "marker": {
             "colorbar": {
              "outlinewidth": 0,
              "ticks": ""
             }
            },
            "type": "scattermapbox"
           }
          ],
          "scatterpolar": [
           {
            "marker": {
             "colorbar": {
              "outlinewidth": 0,
              "ticks": ""
             }
            },
            "type": "scatterpolar"
           }
          ],
          "scatterpolargl": [
           {
            "marker": {
             "colorbar": {
              "outlinewidth": 0,
              "ticks": ""
             }
            },
            "type": "scatterpolargl"
           }
          ],
          "scatterternary": [
           {
            "marker": {
             "colorbar": {
              "outlinewidth": 0,
              "ticks": ""
             }
            },
            "type": "scatterternary"
           }
          ],
          "surface": [
           {
            "colorbar": {
             "outlinewidth": 0,
             "ticks": ""
            },
            "colorscale": [
             [
              0,
              "#0d0887"
             ],
             [
              0.1111111111111111,
              "#46039f"
             ],
             [
              0.2222222222222222,
              "#7201a8"
             ],
             [
              0.3333333333333333,
              "#9c179e"
             ],
             [
              0.4444444444444444,
              "#bd3786"
             ],
             [
              0.5555555555555556,
              "#d8576b"
             ],
             [
              0.6666666666666666,
              "#ed7953"
             ],
             [
              0.7777777777777778,
              "#fb9f3a"
             ],
             [
              0.8888888888888888,
              "#fdca26"
             ],
             [
              1,
              "#f0f921"
             ]
            ],
            "type": "surface"
           }
          ],
          "table": [
           {
            "cells": {
             "fill": {
              "color": "#EBF0F8"
             },
             "line": {
              "color": "white"
             }
            },
            "header": {
             "fill": {
              "color": "#C8D4E3"
             },
             "line": {
              "color": "white"
             }
            },
            "type": "table"
           }
          ]
         },
         "layout": {
          "annotationdefaults": {
           "arrowcolor": "#2a3f5f",
           "arrowhead": 0,
           "arrowwidth": 1
          },
          "autotypenumbers": "strict",
          "coloraxis": {
           "colorbar": {
            "outlinewidth": 0,
            "ticks": ""
           }
          },
          "colorscale": {
           "diverging": [
            [
             0,
             "#8e0152"
            ],
            [
             0.1,
             "#c51b7d"
            ],
            [
             0.2,
             "#de77ae"
            ],
            [
             0.3,
             "#f1b6da"
            ],
            [
             0.4,
             "#fde0ef"
            ],
            [
             0.5,
             "#f7f7f7"
            ],
            [
             0.6,
             "#e6f5d0"
            ],
            [
             0.7,
             "#b8e186"
            ],
            [
             0.8,
             "#7fbc41"
            ],
            [
             0.9,
             "#4d9221"
            ],
            [
             1,
             "#276419"
            ]
           ],
           "sequential": [
            [
             0,
             "#0d0887"
            ],
            [
             0.1111111111111111,
             "#46039f"
            ],
            [
             0.2222222222222222,
             "#7201a8"
            ],
            [
             0.3333333333333333,
             "#9c179e"
            ],
            [
             0.4444444444444444,
             "#bd3786"
            ],
            [
             0.5555555555555556,
             "#d8576b"
            ],
            [
             0.6666666666666666,
             "#ed7953"
            ],
            [
             0.7777777777777778,
             "#fb9f3a"
            ],
            [
             0.8888888888888888,
             "#fdca26"
            ],
            [
             1,
             "#f0f921"
            ]
           ],
           "sequentialminus": [
            [
             0,
             "#0d0887"
            ],
            [
             0.1111111111111111,
             "#46039f"
            ],
            [
             0.2222222222222222,
             "#7201a8"
            ],
            [
             0.3333333333333333,
             "#9c179e"
            ],
            [
             0.4444444444444444,
             "#bd3786"
            ],
            [
             0.5555555555555556,
             "#d8576b"
            ],
            [
             0.6666666666666666,
             "#ed7953"
            ],
            [
             0.7777777777777778,
             "#fb9f3a"
            ],
            [
             0.8888888888888888,
             "#fdca26"
            ],
            [
             1,
             "#f0f921"
            ]
           ]
          },
          "colorway": [
           "#636efa",
           "#EF553B",
           "#00cc96",
           "#ab63fa",
           "#FFA15A",
           "#19d3f3",
           "#FF6692",
           "#B6E880",
           "#FF97FF",
           "#FECB52"
          ],
          "font": {
           "color": "#2a3f5f"
          },
          "geo": {
           "bgcolor": "white",
           "lakecolor": "white",
           "landcolor": "#E5ECF6",
           "showlakes": true,
           "showland": true,
           "subunitcolor": "white"
          },
          "hoverlabel": {
           "align": "left"
          },
          "hovermode": "closest",
          "mapbox": {
           "style": "light"
          },
          "paper_bgcolor": "white",
          "plot_bgcolor": "#E5ECF6",
          "polar": {
           "angularaxis": {
            "gridcolor": "white",
            "linecolor": "white",
            "ticks": ""
           },
           "bgcolor": "#E5ECF6",
           "radialaxis": {
            "gridcolor": "white",
            "linecolor": "white",
            "ticks": ""
           }
          },
          "scene": {
           "xaxis": {
            "backgroundcolor": "#E5ECF6",
            "gridcolor": "white",
            "gridwidth": 2,
            "linecolor": "white",
            "showbackground": true,
            "ticks": "",
            "zerolinecolor": "white"
           },
           "yaxis": {
            "backgroundcolor": "#E5ECF6",
            "gridcolor": "white",
            "gridwidth": 2,
            "linecolor": "white",
            "showbackground": true,
            "ticks": "",
            "zerolinecolor": "white"
           },
           "zaxis": {
            "backgroundcolor": "#E5ECF6",
            "gridcolor": "white",
            "gridwidth": 2,
            "linecolor": "white",
            "showbackground": true,
            "ticks": "",
            "zerolinecolor": "white"
           }
          },
          "shapedefaults": {
           "line": {
            "color": "#2a3f5f"
           }
          },
          "ternary": {
           "aaxis": {
            "gridcolor": "white",
            "linecolor": "white",
            "ticks": ""
           },
           "baxis": {
            "gridcolor": "white",
            "linecolor": "white",
            "ticks": ""
           },
           "bgcolor": "#E5ECF6",
           "caxis": {
            "gridcolor": "white",
            "linecolor": "white",
            "ticks": ""
           }
          },
          "title": {
           "x": 0.05
          },
          "xaxis": {
           "automargin": true,
           "gridcolor": "white",
           "linecolor": "white",
           "ticks": "",
           "title": {
            "standoff": 15
           },
           "zerolinecolor": "white",
           "zerolinewidth": 2
          },
          "yaxis": {
           "automargin": true,
           "gridcolor": "white",
           "linecolor": "white",
           "ticks": "",
           "title": {
            "standoff": 15
           },
           "zerolinecolor": "white",
           "zerolinewidth": 2
          }
         }
        }
       }
      }
     },
     "metadata": {},
     "output_type": "display_data"
    }
   ],
   "source": [
    "IG.plot_complete_sankey(\n",
    "    multiclass=False, savename=\"img/complete_sankey.png\", node_cmap=\"Accent_r\", edge_cmap=\"Accent_r\"\n",
    ")"
   ]
  },
  {
   "cell_type": "code",
   "execution_count": 11,
   "metadata": {},
   "outputs": [
    {
     "data": {
      "application/vnd.plotly.v1+json": {
       "config": {
        "plotlyServerURL": "https://plot.ly"
       },
       "data": [
        {
         "arrangement": "snap",
         "link": {
          "color": [
           "rgba(58.6004535, 76.17308133, 192.189204015, 0.5)",
           "rgba(58.6004535, 76.17308133, 192.189204015, 0.5)",
           "rgba(221.194046947, 220.416032942, 219.96362781500002, 0.5)",
           "rgba(221.194046947, 220.416032942, 219.96362781500002, 0.5)",
           "rgba(127.507793952, 162.81965923200002, 250.172881647, 0.5)",
           "rgba(127.507793952, 162.81965923200002, 250.172881647, 0.5)",
           "rgba(146.893079596, 180.73886906, 254.42742096, 0.5)",
           "rgba(146.893079596, 180.73886906, 254.42742096, 0.5)",
           "rgba(58.6004535, 76.17308133, 192.189204015, 0.5)",
           "rgba(58.6004535, 76.17308133, 192.189204015, 0.5)",
           "rgba(97.833826772, 130.09677140800002, 234.046821674, 0.5)",
           "rgba(97.833826772, 130.09677140800002, 234.046821674, 0.5)",
           "rgba(168.80181346499998, 197.750324055, 253.453813971, 0.5)",
           "rgba(168.80181346499998, 197.750324055, 253.453813971, 0.5)",
           "rgba(75.15320018999999, 100.353192084, 212.767962616, 0.5)",
           "rgba(75.15320018999999, 100.353192084, 212.767962616, 0.5)",
           "rgba(112.486294712, 147.01562553600002, 243.409062563, 0.5)",
           "rgba(112.486294712, 147.01562553600002, 243.409062563, 0.5)",
           "rgba(170.14949570500002, 198.68999653499998, 253.204599315, 0.5)",
           "rgba(170.14949570500002, 198.68999653499998, 253.204599315, 0.5)",
           "rgba(64.4289623, 84.87338085, 199.834581615, 0.5)",
           "rgba(64.4289623, 84.87338085, 199.834581615, 0.5)",
           "rgba(126.13281398399998, 161.420676704, 249.640618319, 0.5)",
           "rgba(126.13281398399998, 161.420676704, 249.640618319, 0.5)",
           "rgba(128.88277391999998, 164.21864176000003, 250.705144975, 0.5)",
           "rgba(128.88277391999998, 164.21864176000003, 250.705144975, 0.5)",
           "rgba(69.13159538999999, 91.802718804, 205.809257496, 0.5)",
           "rgba(69.13159538999999, 91.802718804, 205.809257496, 0.5)",
           "rgba(213.012901395, 219.43106931, 229.237454535, 0.5)",
           "rgba(213.012901395, 219.43106931, 229.237454535, 0.5)",
           "rgba(236.018672865, 210.506911008, 196.639758492, 0.5)",
           "rgba(236.018672865, 210.506911008, 196.639758492, 0.5)",
           "rgba(100.48062792399999, 133.215430736, 235.85365469799999, 0.5)",
           "rgba(100.48062792399999, 133.215430736, 235.85365469799999, 0.5)",
           "rgba(60.93185702, 79.653201138, 195.24735505499999, 0.5)",
           "rgba(60.93185702, 79.653201138, 195.24735505499999, 0.5)",
           "rgba(139.96342393199998, 174.70141421999998, 253.56668080800003, 0.5)",
           "rgba(139.96342393199998, 174.70141421999998, 253.56668080800003, 0.5)",
           "rgba(104.450829652, 137.89341972800003, 238.563904234, 0.5)",
           "rgba(104.450829652, 137.89341972800003, 238.563904234, 0.5)",
           "rgba(88.82245206, 118.75634235999999, 226.52827154999997, 0.5)",
           "rgba(88.82245206, 118.75634235999999, 226.52827154999997, 0.5)",
           "rgba(246.766286215, 169.058118178, 138.80241238800002, 0.5)",
           "rgba(246.766286215, 169.058118178, 138.80241238800002, 0.5)",
           "rgba(60.93185702, 79.653201138, 195.24735505499999, 0.5)",
           "rgba(60.93185702, 79.653201138, 195.24735505499999, 0.5)",
           "rgba(96.542553564, 128.48333538400001, 232.991360766, 0.5)",
           "rgba(96.542553564, 128.48333538400001, 232.991360766, 0.5)",
           "rgba(67.92727442999998, 90.09262414800001, 204.417516472, 0.5)",
           "rgba(67.92727442999998, 90.09262414800001, 204.417516472, 0.5)",
           "rgba(67.92727442999998, 90.09262414800001, 204.417516472, 0.5)",
           "rgba(67.92727442999998, 90.09262414800001, 204.417516472, 0.5)",
           "rgba(198.834994741, 53.627820488, 52.811447509000004, 0.5)",
           "rgba(198.834994741, 53.627820488, 52.811447509000004, 0.5)",
           "rgba(221.194046947, 220.416032942, 219.96362781500002, 0.5)",
           "rgba(221.194046947, 220.416032942, 219.96362781500002, 0.5)",
           "rgba(221.194046947, 220.416032942, 219.96362781500002, 0.5)",
           "rgba(221.194046947, 220.416032942, 219.96362781500002, 0.5)",
           "rgba(221.194046947, 220.416032942, 219.96362781500002, 0.5)",
           "rgba(221.194046947, 220.416032942, 219.96362781500002, 0.5)",
           "rgba(105.774230228, 139.45274939200002, 239.467320746, 0.5)",
           "rgba(105.774230228, 139.45274939200002, 239.467320746, 0.5)",
           "rgba(104.450829652, 137.89341972800003, 238.563904234, 0.5)",
           "rgba(104.450829652, 137.89341972800003, 238.563904234, 0.5)",
           "rgba(193.42740055, 212.36058148499998, 244.394002955, 0.5)",
           "rgba(193.42740055, 212.36058148499998, 244.394002955, 0.5)",
           "rgba(63.26326054, 83.13332094600001, 198.305506095, 0.5)",
           "rgba(63.26326054, 83.13332094600001, 198.305506095, 0.5)",
           "rgba(188.40062870999998, 209.755763565, 246.906571275, 0.5)",
           "rgba(188.40062870999998, 209.755763565, 246.906571275, 0.5)",
           "rgba(103.127429076, 136.334090064, 237.660487722, 0.5)",
           "rgba(103.127429076, 136.334090064, 237.660487722, 0.5)",
           "rgba(58.6004535, 76.17308133, 192.189204015, 0.5)",
           "rgba(58.6004535, 76.17308133, 192.189204015, 0.5)",
           "rgba(58.6004535, 76.17308133, 192.189204015, 0.5)",
           "rgba(58.6004535, 76.17308133, 192.189204015, 0.5)",
           "rgba(60.93185702, 79.653201138, 195.24735505499999, 0.5)",
           "rgba(60.93185702, 79.653201138, 195.24735505499999, 0.5)",
           "rgba(71.54023731, 95.222908116, 208.592739544, 0.5)",
           "rgba(71.54023731, 95.222908116, 208.592739544, 0.5)",
           "rgba(58.6004535, 76.17308133, 192.189204015, 0.5)",
           "rgba(58.6004535, 76.17308133, 192.189204015, 0.5)",
           "rgba(58.6004535, 76.17308133, 192.189204015, 0.5)",
           "rgba(58.6004535, 76.17308133, 192.189204015, 0.5)",
           "rgba(58.6004535, 76.17308133, 192.189204015, 0.5)",
           "rgba(58.6004535, 76.17308133, 192.189204015, 0.5)",
           "rgba(67.92727442999998, 90.09262414800001, 204.417516472, 0.5)",
           "rgba(67.92727442999998, 90.09262414800001, 204.417516472, 0.5)",
           "rgba(60.93185702, 79.653201138, 195.24735505499999, 0.5)",
           "rgba(60.93185702, 79.653201138, 195.24735505499999, 0.5)",
           "rgba(242.49368131000003, 200.6531335, 179.713974115, 0.5)",
           "rgba(242.49368131000003, 200.6531335, 179.713974115, 0.5)",
           "rgba(73.94887922999999, 98.64309742799999, 211.37622159199998, 0.5)",
           "rgba(73.94887922999999, 98.64309742799999, 211.37622159199998, 0.5)",
           "rgba(92.682502812, 123.619838872, 229.759816158, 0.5)",
           "rgba(92.682502812, 123.619838872, 229.759816158, 0.5)",
           "rgba(244.36124647100002, 154.105449705, 123.24076085400002, 0.5)",
           "rgba(244.36124647100002, 154.105449705, 123.24076085400002, 0.5)",
           "rgba(63.26326054, 83.13332094600001, 198.305506095, 0.5)",
           "rgba(63.26326054, 83.13332094600001, 198.305506095, 0.5)",
           "rgba(63.26326054, 83.13332094600001, 198.305506095, 0.5)",
           "rgba(63.26326054, 83.13332094600001, 198.305506095, 0.5)",
           "rgba(63.26326054, 83.13332094600001, 198.305506095, 0.5)",
           "rgba(63.26326054, 83.13332094600001, 198.305506095, 0.5)",
           "rgba(142.73541501999998, 177.16577066, 253.99920384, 0.5)",
           "rgba(142.73541501999998, 177.16577066, 253.99920384, 0.5)",
           "rgba(142.73541501999998, 177.16577066, 253.99920384, 0.5)",
           "rgba(142.73541501999998, 177.16577066, 253.99920384, 0.5)",
           "rgba(142.73541501999998, 177.16577066, 253.99920384, 0.5)",
           "rgba(142.73541501999998, 177.16577066, 253.99920384, 0.5)",
           "rgba(179.94665529, 3.9668208, 38.30936706, 0.5)",
           "rgba(179.94665529, 3.9668208, 38.30936706, 0.5)",
           "rgba(60.93185702, 79.653201138, 195.24735505499999, 0.5)",
           "rgba(60.93185702, 79.653201138, 195.24735505499999, 0.5)",
           "rgba(58.6004535, 76.17308133, 192.189204015, 0.5)",
           "rgba(58.6004535, 76.17308133, 192.189204015, 0.5)",
           "rgba(58.6004535, 76.17308133, 192.189204015, 0.5)",
           "rgba(58.6004535, 76.17308133, 192.189204015, 0.5)",
           "rgba(58.6004535, 76.17308133, 192.189204015, 0.5)",
           "rgba(58.6004535, 76.17308133, 192.189204015, 0.5)",
           "rgba(58.6004535, 76.17308133, 192.189204015, 0.5)",
           "rgba(58.6004535, 76.17308133, 192.189204015, 0.5)",
           "rgba(58.6004535, 76.17308133, 192.189204015, 0.5)",
           "rgba(58.6004535, 76.17308133, 192.189204015, 0.5)",
           "rgba(58.6004535, 76.17308133, 192.189204015, 0.5)",
           "rgba(58.6004535, 76.17308133, 192.189204015, 0.5)",
           "rgba(58.6004535, 76.17308133, 192.189204015, 0.5)",
           "rgba(58.6004535, 76.17308133, 192.189204015, 0.5)",
           "rgba(58.6004535, 76.17308133, 192.189204015, 0.5)",
           "rgba(58.6004535, 76.17308133, 192.189204015, 0.5)",
           "rgba(58.6004535, 76.17308133, 192.189204015, 0.5)",
           "rgba(58.6004535, 76.17308133, 192.189204015, 0.5)",
           "rgba(62.09755878, 81.393261042, 196.77643057499998, 0.5)",
           "rgba(62.09755878, 81.393261042, 196.77643057499998, 0.5)",
           "rgba(58.6004535, 76.17308133, 192.189204015, 0.5)",
           "rgba(58.6004535, 76.17308133, 192.189204015, 0.5)",
           "rgba(67.92727442999998, 90.09262414800001, 204.417516472, 0.5)",
           "rgba(67.92727442999998, 90.09262414800001, 204.417516472, 0.5)",
           "rgba(67.92727442999998, 90.09262414800001, 204.417516472, 0.5)",
           "rgba(67.92727442999998, 90.09262414800001, 204.417516472, 0.5)",
           "rgba(67.92727442999998, 90.09262414800001, 204.417516472, 0.5)",
           "rgba(67.92727442999998, 90.09262414800001, 204.417516472, 0.5)",
           "rgba(127.507793952, 162.81965923200002, 250.172881647, 0.5)",
           "rgba(127.507793952, 162.81965923200002, 250.172881647, 0.5)",
           "rgba(58.6004535, 76.17308133, 192.189204015, 0.5)",
           "rgba(58.6004535, 76.17308133, 192.189204015, 0.5)",
           "rgba(58.6004535, 76.17308133, 192.189204015, 0.5)",
           "rgba(58.6004535, 76.17308133, 192.189204015, 0.5)",
           "rgba(58.6004535, 76.17308133, 192.189204015, 0.5)",
           "rgba(58.6004535, 76.17308133, 192.189204015, 0.5)",
           "rgba(58.6004535, 76.17308133, 192.189204015, 0.5)",
           "rgba(58.6004535, 76.17308133, 192.189204015, 0.5)",
           "rgba(75.15320018999999, 100.353192084, 212.767962616, 0.5)",
           "rgba(75.15320018999999, 100.353192084, 212.767962616, 0.5)",
           "rgba(145.507191404, 179.54783626, 254.28468192, 0.5)",
           "rgba(145.507191404, 179.54783626, 254.28468192, 0.5)",
           "rgba(92.682502812, 123.619838872, 229.759816158, 0.5)",
           "rgba(92.682502812, 123.619838872, 229.759816158, 0.5)",
           "rgba(66.76036582, 88.35350065800002, 202.89273265499997, 0.5)",
           "rgba(66.76036582, 88.35350065800002, 202.89273265499997, 0.5)",
           "rgba(58.6004535, 76.17308133, 192.189204015, 0.5)",
           "rgba(58.6004535, 76.17308133, 192.189204015, 0.5)",
           "rgba(58.6004535, 76.17308133, 192.189204015, 0.5)",
           "rgba(58.6004535, 76.17308133, 192.189204015, 0.5)",
           "rgba(58.6004535, 76.17308133, 192.189204015, 0.5)",
           "rgba(58.6004535, 76.17308133, 192.189204015, 0.5)",
           "rgba(58.6004535, 76.17308133, 192.189204015, 0.5)",
           "rgba(58.6004535, 76.17308133, 192.189204015, 0.5)",
           "rgba(70.33591634999999, 93.51281346, 207.20099852, 0.5)",
           "rgba(70.33591634999999, 93.51281346, 207.20099852, 0.5)",
           "rgba(72.74455827, 96.93300277200001, 209.984480568, 0.5)",
           "rgba(72.74455827, 96.93300277200001, 209.984480568, 0.5)",
           "rgba(65.59466406, 86.61344075400001, 201.36365713499998, 0.5)",
           "rgba(65.59466406, 86.61344075400001, 201.36365713499998, 0.5)",
           "rgba(146.893079596, 180.73886906, 254.42742096, 0.5)",
           "rgba(146.893079596, 180.73886906, 254.42742096, 0.5)",
           "rgba(58.6004535, 76.17308133, 192.189204015, 0.5)",
           "rgba(58.6004535, 76.17308133, 192.189204015, 0.5)",
           "rgba(160.672575159, 191.891641125, 254.619543147, 0.5)",
           "rgba(160.672575159, 191.891641125, 254.619543147, 0.5)",
           "rgba(190.443693114, 35.705359967999996, 45.899004724, 0.5)",
           "rgba(190.443693114, 35.705359967999996, 45.899004724, 0.5)",
           "rgba(175.488063214, 202.26048672099998, 251.949716611, 0.5)",
           "rgba(175.488063214, 202.26048672099998, 251.949716611, 0.5)",
           "rgba(175.488063214, 202.26048672099998, 251.949716611, 0.5)",
           "rgba(175.488063214, 202.26048672099998, 251.949716611, 0.5)",
           "rgba(91.39581922800001, 121.998673368, 228.682634622, 0.5)",
           "rgba(91.39581922800001, 121.998673368, 228.682634622, 0.5)",
           "rgba(91.39581922800001, 121.998673368, 228.682634622, 0.5)",
           "rgba(91.39581922800001, 121.998673368, 228.682634622, 0.5)",
           "rgba(91.39581922800001, 121.998673368, 228.682634622, 0.5)",
           "rgba(91.39581922800001, 121.998673368, 228.682634622, 0.5)",
           "rgba(85.04007224200001, 113.79763094799999, 222.985303276, 0.5)",
           "rgba(85.04007224200001, 113.79763094799999, 222.985303276, 0.5)",
           "rgba(87.53576847600002, 117.135176856, 225.45109001400002, 0.5)",
           "rgba(87.53576847600002, 117.135176856, 225.45109001400002, 0.5)",
           "rgba(99.15722734799999, 131.656101072, 234.95023818599998, 0.5)",
           "rgba(99.15722734799999, 131.656101072, 234.95023818599998, 0.5)",
           "rgba(76.35752115, 102.06328674, 214.15970364, 0.5)",
           "rgba(76.35752115, 102.06328674, 214.15970364, 0.5)",
           "rgba(237.971401665, 207.966996864, 192.05361519599998, 0.5)",
           "rgba(237.971401665, 207.966996864, 192.05361519599998, 0.5)",
           "rgba(246.334263559, 164.763084105, 134.102038806, 0.5)",
           "rgba(246.334263559, 164.763084105, 134.102038806, 0.5)",
           "rgba(105.774230228, 139.45274939200002, 239.467320746, 0.5)",
           "rgba(105.774230228, 139.45274939200002, 239.467320746, 0.5)",
           "rgba(80.056319538, 107.11317373199999, 218.023097964, 0.5)",
           "rgba(80.056319538, 107.11317373199999, 218.023097964, 0.5)",
           "rgba(69.13159538999999, 91.802718804, 205.809257496, 0.5)",
           "rgba(69.13159538999999, 91.802718804, 205.809257496, 0.5)",
           "rgba(179.94665529, 3.9668208, 38.30936706, 0.5)",
           "rgba(179.94665529, 3.9668208, 38.30936706, 0.5)",
           "rgba(75.15320018999999, 100.353192084, 212.767962616, 0.5)",
           "rgba(75.15320018999999, 100.353192084, 212.767962616, 0.5)",
           "rgba(59.76615526, 77.91314123400001, 193.718279535, 0.5)",
           "rgba(59.76615526, 77.91314123400001, 193.718279535, 0.5)",
           "rgba(156.552826455, 188.68036048500002, 254.781304875, 0.5)",
           "rgba(156.552826455, 188.68036048500002, 254.781304875, 0.5)",
           "rgba(65.59466406, 86.61344075400001, 201.36365713499998, 0.5)",
           "rgba(65.59466406, 86.61344075400001, 201.36365713499998, 0.5)",
           "rgba(67.92727442999998, 90.09262414800001, 204.417516472, 0.5)",
           "rgba(67.92727442999998, 90.09262414800001, 204.417516472, 0.5)",
           "rgba(236.35515989700002, 128.882494304, 100.690798817, 0.5)",
           "rgba(236.35515989700002, 128.882494304, 100.690798817, 0.5)",
           "rgba(60.93185702, 79.653201138, 195.24735505499999, 0.5)",
           "rgba(60.93185702, 79.653201138, 195.24735505499999, 0.5)",
           "rgba(206.706997081, 68.543250738, 60.034040941, 0.5)",
           "rgba(206.706997081, 68.543250738, 60.034040941, 0.5)",
           "rgba(70.33591634999999, 93.51281346, 207.20099852, 0.5)",
           "rgba(70.33591634999999, 93.51281346, 207.20099852, 0.5)",
           "rgba(77.564443186, 103.770945124, 215.541995308, 0.5)",
           "rgba(77.564443186, 103.770945124, 215.541995308, 0.5)",
           "rgba(71.54023731, 95.222908116, 208.592739544, 0.5)",
           "rgba(71.54023731, 95.222908116, 208.592739544, 0.5)",
           "rgba(58.6004535, 76.17308133, 192.189204015, 0.5)",
           "rgba(58.6004535, 76.17308133, 192.189204015, 0.5)",
           "rgba(59.76615526, 77.91314123400001, 193.718279535, 0.5)",
           "rgba(59.76615526, 77.91314123400001, 193.718279535, 0.5)",
           "rgba(75.15320018999999, 100.353192084, 212.767962616, 0.5)",
           "rgba(75.15320018999999, 100.353192084, 212.767962616, 0.5)",
           "rgba(86.286010418, 115.46874525199999, 224.22585460399998, 0.5)",
           "rgba(86.286010418, 115.46874525199999, 224.22585460399998, 0.5)",
           "rgba(179.94665529, 3.9668208, 38.30936706, 0.5)",
           "rgba(179.94665529, 3.9668208, 38.30936706, 0.5)"
          ],
          "source": [
           0,
           0,
           1,
           1,
           2,
           2,
           4,
           4,
           5,
           5,
           7,
           7,
           8,
           8,
           9,
           9,
           10,
           10,
           11,
           11,
           12,
           12,
           13,
           13,
           14,
           14,
           15,
           15,
           16,
           16,
           19,
           19,
           20,
           20,
           21,
           21,
           23,
           23,
           24,
           24,
           28,
           28,
           31,
           31,
           33,
           33,
           34,
           34,
           35,
           35,
           35,
           35,
           36,
           36,
           37,
           37,
           37,
           37,
           37,
           37,
           38,
           38,
           41,
           41,
           42,
           42,
           43,
           43,
           44,
           44,
           48,
           48,
           49,
           49,
           50,
           50,
           51,
           51,
           52,
           52,
           53,
           53,
           55,
           55,
           55,
           55,
           56,
           56,
           57,
           57,
           58,
           58,
           59,
           59,
           60,
           60,
           61,
           61,
           62,
           62,
           62,
           62,
           62,
           62,
           63,
           63,
           63,
           63,
           63,
           63,
           65,
           65,
           66,
           66,
           67,
           67,
           67,
           67,
           67,
           67,
           68,
           68,
           68,
           68,
           68,
           68,
           69,
           69,
           69,
           69,
           69,
           69,
           70,
           70,
           71,
           71,
           72,
           72,
           72,
           72,
           72,
           72,
           73,
           73,
           74,
           74,
           74,
           74,
           74,
           74,
           75,
           75,
           76,
           76,
           77,
           77,
           78,
           78,
           79,
           79,
           80,
           80,
           81,
           81,
           81,
           81,
           81,
           81,
           82,
           82,
           83,
           83,
           84,
           84,
           85,
           85,
           86,
           86,
           88,
           88,
           90,
           90,
           91,
           91,
           91,
           91,
           92,
           92,
           92,
           92,
           92,
           92,
           93,
           93,
           94,
           94,
           95,
           95,
           96,
           96,
           97,
           97,
           99,
           99,
           18,
           18,
           22,
           22,
           39,
           39,
           40,
           40,
           45,
           45,
           46,
           46,
           47,
           47,
           64,
           64,
           87,
           87,
           89,
           89,
           98,
           98,
           3,
           3,
           6,
           6,
           17,
           17,
           25,
           25,
           26,
           26,
           27,
           27,
           29,
           29,
           30,
           30,
           32,
           32
          ],
          "target": [
           26,
           26,
           32,
           32,
           32,
           32,
           87,
           87,
           32,
           32,
           32,
           32,
           99,
           99,
           99,
           99,
           99,
           99,
           32,
           32,
           32,
           32,
           32,
           32,
           32,
           32,
           32,
           32,
           32,
           32,
           32,
           32,
           32,
           32,
           32,
           32,
           32,
           32,
           32,
           32,
           32,
           32,
           32,
           32,
           32,
           32,
           32,
           32,
           99,
           99,
           32,
           32,
           32,
           32,
           45,
           45,
           46,
           46,
           47,
           47,
           32,
           32,
           99,
           99,
           32,
           32,
           39,
           39,
           99,
           99,
           32,
           32,
           32,
           32,
           32,
           32,
           27,
           27,
           32,
           32,
           32,
           32,
           40,
           40,
           32,
           32,
           32,
           32,
           32,
           32,
           32,
           32,
           32,
           32,
           99,
           99,
           32,
           32,
           45,
           45,
           46,
           46,
           29,
           29,
           45,
           45,
           46,
           46,
           29,
           29,
           40,
           40,
           39,
           39,
           45,
           45,
           46,
           46,
           29,
           29,
           45,
           45,
           46,
           46,
           29,
           29,
           45,
           45,
           46,
           46,
           29,
           29,
           40,
           40,
           32,
           32,
           45,
           45,
           46,
           46,
           29,
           29,
           45,
           45,
           45,
           45,
           46,
           46,
           29,
           29,
           26,
           26,
           18,
           18,
           30,
           30,
           30,
           30,
           87,
           87,
           32,
           32,
           45,
           45,
           46,
           46,
           29,
           29,
           87,
           87,
           32,
           32,
           32,
           32,
           30,
           30,
           40,
           40,
           30,
           30,
           32,
           32,
           46,
           46,
           64,
           64,
           45,
           45,
           46,
           46,
           29,
           29,
           18,
           18,
           32,
           32,
           30,
           30,
           22,
           22,
           32,
           32,
           89,
           89,
           98,
           98,
           98,
           98,
           6,
           6,
           3,
           3,
           17,
           17,
           17,
           17,
           17,
           17,
           25,
           25,
           54,
           54,
           54,
           54,
           54,
           54,
           54,
           54,
           54,
           54,
           54,
           54,
           54,
           54,
           54,
           54,
           54,
           54,
           54,
           54,
           54,
           54,
           54,
           54
          ],
          "value": [
           0,
           0,
           0.00026742371217028935,
           0.0002823663380192684,
           0.00010786748985746406,
           0.00012053746937748888,
           0.0000171562089058497,
           0.00015019552418423795,
           0,
           0,
           0.0000542128808756988,
           0.00007232541941908494,
           0.00014633008159716513,
           0.00018681166699513745,
           0.000053623655723309674,
           0.000032107271456646566,
           0.00008152696737595735,
           0.00009502101751529853,
           0.00016727323405778488,
           0.0001876725941816664,
           0.000009514952923240993,
           0.000011066962876651752,
           0.00007865711159374262,
           0.0001170020810506663,
           0.00010519076405317903,
           0.00012164844130739277,
           0.000014654071780942417,
           0.000021341105090848436,
           0.00023792732320882952,
           0.00026619250821092576,
           0.0004615631337356542,
           0.0003176221241332155,
           0.00006534223514078531,
           0.00007682288596584095,
           0.000002838430420259475,
           0.000005881688734698927,
           0.00015510314982726815,
           0.00014075991778425133,
           0.00017726273959890667,
           0.00008376423279521166,
           0.000049834394272618,
           0.00005645001381629561,
           0.00032629105716541046,
           0.00040081131689576456,
           0.00001547803913955453,
           0.0000060238455314045835,
           0.00008773365621431079,
           0.00006923922461235506,
           0.000015375113122484613,
           0.000019225416593169554,
           0.000015375113122484613,
           0.000019225416593169554,
           0.0005035712600372079,
           0.0005341794095723227,
           0.0002837407853357629,
           0.0002835652504383134,
           0.0002837407853357629,
           0.0002835652504383134,
           0.0002837407853357629,
           0.0002835652504383134,
           0.00007972556758805043,
           0.00008482299570288377,
           0.00008149484235063288,
           0.00008342956715769089,
           0.00013867062219399248,
           0.00022893548815206265,
           0.00003681213843942466,
           0.000009069842800566692,
           0.0001548872233121184,
           0.0002201231972827861,
           0.00006184042505460102,
           0.00007980298806319712,
           0,
           0,
           0,
           0,
           0.0000037709764284000766,
           0.000005096963037846871,
           0.000028512399861130115,
           0.000025178753110204534,
           0,
           0,
           0,
           0,
           0,
           0,
           0.000013351684326080923,
           0.00001798314226808103,
           0.000004116678400492193,
           0.000006244969443451335,
           0.00024124829781859602,
           0.0003431478919653051,
           0.000024645103918814643,
           0.00003051837846978978,
           0.00004410337919107511,
           0.00006365794779028047,
           0.0003591487578687361,
           0.00042209805587519996,
           0.000020855751351716015,
           0.000010183865498497441,
           0.000020855751351716015,
           0.000010183865498497441,
           0.000020855751351716015,
           0.000010183865498497441,
           0.00011995740858262672,
           0.00014398784547765817,
           0.00011995740858262672,
           0.00014398784547765817,
           0.00011995740858262672,
           0.00014398784547765817,
           0.0004612381249180692,
           0.0005645124013425694,
           0.000012729298423114895,
           0.000005877581047768006,
           0,
           0,
           0,
           0,
           0,
           0,
           0,
           0,
           0,
           0,
           0,
           0,
           0,
           0,
           0,
           0,
           0,
           0,
           0.00002497228106485437,
           0.000007163535119505807,
           0,
           0,
           0.0000420300346947729,
           0.000019273238425142734,
           0.0000420300346947729,
           0.000019273238425142734,
           0.0000420300346947729,
           0.000019273238425142734,
           0.00013430970082156684,
           0.00012124641876565777,
           0,
           0,
           0,
           0,
           0,
           0,
           0,
           0,
           0.000056647559515892075,
           0.00003170351727711794,
           0.00014003593968489725,
           0.00014957711066617137,
           0.000051687413452121676,
           0.00006204163118204638,
           0.000009664926372066445,
           0.00001590051045946741,
           0,
           0,
           0,
           0,
           0,
           0,
           0,
           0,
           0.0000405828894378509,
           0.000023386571028472343,
           0.0000137470327970338,
           0.000027194757079942842,
           0.000013528906658137238,
           0.000014928990937110537,
           0.00006596417788700423,
           0.00015192860188429402,
           0,
           0,
           0.00020231650278606093,
           0.0001729436064465623,
           0.0005308360466035151,
           0.0005471919219293224,
           0.0001987969751431656,
           0.00019656356657419709,
           0.0001987969751431656,
           0.00019656356657419709,
           0.00006367816561488232,
           0.00006167351761565283,
           0.00006367816561488232,
           0.00006167351761565283,
           0.00006367816561488232,
           0.00006167351761565283,
           0.000004118386490810442,
           0.00004896219255927669,
           0.000023710357951863407,
           0.00005354343753277985,
           0.00009214068113540388,
           0.00007339686335142436,
           0.00010322783243086807,
           0.000034971940228234484,
           0.000332031063728083,
           0.0003259070769530368,
           0.002134672767176781,
           0.003319514286583156,
           0.00045590564323028804,
           0.0007028603694646687,
           0.0002184244252205095,
           0.0003368594645516664,
           0.00020971354683122214,
           0.00018193185773024946,
           0.003125945370383993,
           0.004606627274473657,
           0.00004103041908705111,
           0.0002624261459351061,
           0.0000027832619853683756,
           0.00002172330611842474,
           0.00038950137470181596,
           0.0013578777238212737,
           0.0006953447333987104,
           0.0001241434363007395,
           0.00009350108457808187,
           0.00012821496679005245,
           0.0016506972676959663,
           0.0029773043398300253,
           0.000027162805531223083,
           0.00004043510338304998,
           0.0018460392936690913,
           0.0034145298749572815,
           0.00010168529678780561,
           0.00015209821505999085,
           0.00021941341049091433,
           0.0002419071693038087,
           0.00010456420341985806,
           0.00017081076979783686,
           0,
           0,
           0.000012585634777825598,
           0.00001626909577722841,
           0.00011076131711893339,
           0.00020418576737600203,
           0.00022697525419684017,
           0.0003338433508992472,
           0.0024232415722819215,
           0.0036910596132716934
          ]
         },
         "node": {
          "color": [
           "rgba(58.6004535, 76.17308133, 192.189204015, 0.5)",
           "rgba(221.194046947, 220.416032942, 219.96362781500002, 0.5)",
           "rgba(127.507793952, 162.81965923200002, 250.172881647, 0.5)",
           "rgba(206.706997081, 68.543250738, 60.034040941, 0.5)",
           "rgba(146.893079596, 180.73886906, 254.42742096, 0.5)",
           "rgba(58.6004535, 76.17308133, 192.189204015, 0.5)",
           "rgba(70.33591634999999, 93.51281346, 207.20099852, 0.5)",
           "rgba(97.833826772, 130.09677140800002, 234.046821674, 0.5)",
           "rgba(168.80181346499998, 197.750324055, 253.453813971, 0.5)",
           "rgba(75.15320018999999, 100.353192084, 212.767962616, 0.5)",
           "rgba(112.486294712, 147.01562553600002, 243.409062563, 0.5)",
           "rgba(170.14949570500002, 198.68999653499998, 253.204599315, 0.5)",
           "rgba(64.4289623, 84.87338085, 199.834581615, 0.5)",
           "rgba(126.13281398399998, 161.420676704, 249.640618319, 0.5)",
           "rgba(128.88277391999998, 164.21864176000003, 250.705144975, 0.5)",
           "rgba(69.13159538999999, 91.802718804, 205.809257496, 0.5)",
           "rgba(213.012901395, 219.43106931, 229.237454535, 0.5)",
           "rgba(77.564443186, 103.770945124, 215.541995308, 0.5)",
           "rgba(105.774230228, 139.45274939200002, 239.467320746, 0.5)",
           "rgba(236.018672865, 210.506911008, 196.639758492, 0.5)",
           "rgba(100.48062792399999, 133.215430736, 235.85365469799999, 0.5)",
           "rgba(60.93185702, 79.653201138, 195.24735505499999, 0.5)",
           "rgba(80.056319538, 107.11317373199999, 218.023097964, 0.5)",
           "rgba(139.96342393199998, 174.70141421999998, 253.56668080800003, 0.5)",
           "rgba(104.450829652, 137.89341972800003, 238.563904234, 0.5)",
           "rgba(71.54023731, 95.222908116, 208.592739544, 0.5)",
           "rgba(58.6004535, 76.17308133, 192.189204015, 0.5)",
           "rgba(59.76615526, 77.91314123400001, 193.718279535, 0.5)",
           "rgba(88.82245206, 118.75634235999999, 226.52827154999997, 0.5)",
           "rgba(75.15320018999999, 100.353192084, 212.767962616, 0.5)",
           "rgba(86.286010418, 115.46874525199999, 224.22585460399998, 0.5)",
           "rgba(246.766286215, 169.058118178, 138.80241238800002, 0.5)",
           "rgba(179.94665529, 3.9668208, 38.30936706, 0.5)",
           "rgba(60.93185702, 79.653201138, 195.24735505499999, 0.5)",
           "rgba(96.542553564, 128.48333538400001, 232.991360766, 0.5)",
           "rgba(67.92727442999998, 90.09262414800001, 204.417516472, 0.5)",
           "rgba(198.834994741, 53.627820488, 52.811447509000004, 0.5)",
           "rgba(221.194046947, 220.416032942, 219.96362781500002, 0.5)",
           "rgba(105.774230228, 139.45274939200002, 239.467320746, 0.5)",
           "rgba(69.13159538999999, 91.802718804, 205.809257496, 0.5)",
           "rgba(179.94665529, 3.9668208, 38.30936706, 0.5)",
           "rgba(104.450829652, 137.89341972800003, 238.563904234, 0.5)",
           "rgba(193.42740055, 212.36058148499998, 244.394002955, 0.5)",
           "rgba(63.26326054, 83.13332094600001, 198.305506095, 0.5)",
           "rgba(188.40062870999998, 209.755763565, 246.906571275, 0.5)",
           "rgba(75.15320018999999, 100.353192084, 212.767962616, 0.5)",
           "rgba(59.76615526, 77.91314123400001, 193.718279535, 0.5)",
           "rgba(156.552826455, 188.68036048500002, 254.781304875, 0.5)",
           "rgba(103.127429076, 136.334090064, 237.660487722, 0.5)",
           "rgba(58.6004535, 76.17308133, 192.189204015, 0.5)",
           "rgba(58.6004535, 76.17308133, 192.189204015, 0.5)",
           "rgba(60.93185702, 79.653201138, 195.24735505499999, 0.5)",
           "rgba(71.54023731, 95.222908116, 208.592739544, 0.5)",
           "rgba(58.6004535, 76.17308133, 192.189204015, 0.5)",
           "rgba(0,0,0,1)",
           "rgba(58.6004535, 76.17308133, 192.189204015, 0.5)",
           "rgba(67.92727442999998, 90.09262414800001, 204.417516472, 0.5)",
           "rgba(60.93185702, 79.653201138, 195.24735505499999, 0.5)",
           "rgba(242.49368131000003, 200.6531335, 179.713974115, 0.5)",
           "rgba(73.94887922999999, 98.64309742799999, 211.37622159199998, 0.5)",
           "rgba(92.682502812, 123.619838872, 229.759816158, 0.5)",
           "rgba(244.36124647100002, 154.105449705, 123.24076085400002, 0.5)",
           "rgba(63.26326054, 83.13332094600001, 198.305506095, 0.5)",
           "rgba(142.73541501999998, 177.16577066, 253.99920384, 0.5)",
           "rgba(65.59466406, 86.61344075400001, 201.36365713499998, 0.5)",
           "rgba(179.94665529, 3.9668208, 38.30936706, 0.5)",
           "rgba(60.93185702, 79.653201138, 195.24735505499999, 0.5)",
           "rgba(58.6004535, 76.17308133, 192.189204015, 0.5)",
           "rgba(58.6004535, 76.17308133, 192.189204015, 0.5)",
           "rgba(58.6004535, 76.17308133, 192.189204015, 0.5)",
           "rgba(62.09755878, 81.393261042, 196.77643057499998, 0.5)",
           "rgba(58.6004535, 76.17308133, 192.189204015, 0.5)",
           "rgba(67.92727442999998, 90.09262414800001, 204.417516472, 0.5)",
           "rgba(127.507793952, 162.81965923200002, 250.172881647, 0.5)",
           "rgba(58.6004535, 76.17308133, 192.189204015, 0.5)",
           "rgba(58.6004535, 76.17308133, 192.189204015, 0.5)",
           "rgba(75.15320018999999, 100.353192084, 212.767962616, 0.5)",
           "rgba(145.507191404, 179.54783626, 254.28468192, 0.5)",
           "rgba(92.682502812, 123.619838872, 229.759816158, 0.5)",
           "rgba(66.76036582, 88.35350065800002, 202.89273265499997, 0.5)",
           "rgba(58.6004535, 76.17308133, 192.189204015, 0.5)",
           "rgba(58.6004535, 76.17308133, 192.189204015, 0.5)",
           "rgba(70.33591634999999, 93.51281346, 207.20099852, 0.5)",
           "rgba(72.74455827, 96.93300277200001, 209.984480568, 0.5)",
           "rgba(65.59466406, 86.61344075400001, 201.36365713499998, 0.5)",
           "rgba(146.893079596, 180.73886906, 254.42742096, 0.5)",
           "rgba(58.6004535, 76.17308133, 192.189204015, 0.5)",
           "rgba(67.92727442999998, 90.09262414800001, 204.417516472, 0.5)",
           "rgba(160.672575159, 191.891641125, 254.619543147, 0.5)",
           "rgba(236.35515989700002, 128.882494304, 100.690798817, 0.5)",
           "rgba(190.443693114, 35.705359967999996, 45.899004724, 0.5)",
           "rgba(175.488063214, 202.26048672099998, 251.949716611, 0.5)",
           "rgba(91.39581922800001, 121.998673368, 228.682634622, 0.5)",
           "rgba(85.04007224200001, 113.79763094799999, 222.985303276, 0.5)",
           "rgba(87.53576847600002, 117.135176856, 225.45109001400002, 0.5)",
           "rgba(99.15722734799999, 131.656101072, 234.95023818599998, 0.5)",
           "rgba(76.35752115, 102.06328674, 214.15970364, 0.5)",
           "rgba(237.971401665, 207.966996864, 192.05361519599998, 0.5)",
           "rgba(60.93185702, 79.653201138, 195.24735505499999, 0.5)",
           "rgba(246.334263559, 164.763084105, 134.102038806, 0.5)"
          ],
          "label": [
           "O00194",
           "O00391",
           "O14791",
           "R-HSA-446203",
           "O95497",
           "O95633",
           "R-HSA-5173105",
           "P00450",
           "P00734",
           "P00740",
           "P00742",
           "P01008",
           "P01009",
           "P01024",
           "P01033",
           "P01034",
           "P01042",
           "R-HSA-5688426",
           "R-HSA-3108232",
           "P02647",
           "P02649",
           "P02652",
           "R-HSA-3215018",
           "P02671",
           "P02679",
           "R-HSA-8852135",
           "R-HSA-8873719",
           "R-HSA-8876725",
           "P02751",
           "R-HSA-8951664",
           "R-HSA-8955332",
           "P02765",
           "R-HSA-8957275",
           "P02768",
           "P02787",
           "P04070",
           "P04114",
           "P04908",
           "P05546",
           "R-HSA-5173214",
           "R-HSA-532668",
           "P07225",
           "P07237",
           "P07996",
           "P08709",
           "R-HSA-5689603",
           "R-HSA-5689880",
           "R-HSA-5689901",
           "P0C0L4",
           "P10451",
           "P11047",
           "P11142",
           "P12259",
           "P13611",
           "R-HSA-597592",
           "P14314",
           "P14625",
           "P17936",
           "P19823",
           "P22692",
           "P22891",
           "P24821",
           "P25786",
           "P25788",
           "R-HSA-8866654",
           "P27797",
           "P27918",
           "P28066",
           "P28072",
           "P28074",
           "P30101",
           "P35555",
           "P49721",
           "P60709",
           "P60900",
           "P61026",
           "P62805",
           "P68363",
           "P68366",
           "P80108",
           "Q02818",
           "Q06323",
           "Q10588",
           "Q12841",
           "Q13103",
           "Q13885",
           "Q14697",
           "R-HSA-163125",
           "Q71U36",
           "R-HSA-163841",
           "Q8NBJ4",
           "Q96A08",
           "Q99436",
           "Q99497",
           "Q9BTY2",
           "Q9H4B7",
           "Q9UBE0",
           "Q9UK55",
           "R-HSA-2990846",
           "R-HSA-159854"
          ],
          "line": {
           "color": "white",
           "width": 2
          },
          "pad": 20,
          "thickness": 20
         },
         "orientation": "h",
         "textfont": {
          "family": "Arial",
          "size": 15
         },
         "type": "sankey"
        }
       ],
       "layout": {
        "template": {
         "data": {
          "bar": [
           {
            "error_x": {
             "color": "#2a3f5f"
            },
            "error_y": {
             "color": "#2a3f5f"
            },
            "marker": {
             "line": {
              "color": "#E5ECF6",
              "width": 0.5
             },
             "pattern": {
              "fillmode": "overlay",
              "size": 10,
              "solidity": 0.2
             }
            },
            "type": "bar"
           }
          ],
          "barpolar": [
           {
            "marker": {
             "line": {
              "color": "#E5ECF6",
              "width": 0.5
             },
             "pattern": {
              "fillmode": "overlay",
              "size": 10,
              "solidity": 0.2
             }
            },
            "type": "barpolar"
           }
          ],
          "carpet": [
           {
            "aaxis": {
             "endlinecolor": "#2a3f5f",
             "gridcolor": "white",
             "linecolor": "white",
             "minorgridcolor": "white",
             "startlinecolor": "#2a3f5f"
            },
            "baxis": {
             "endlinecolor": "#2a3f5f",
             "gridcolor": "white",
             "linecolor": "white",
             "minorgridcolor": "white",
             "startlinecolor": "#2a3f5f"
            },
            "type": "carpet"
           }
          ],
          "choropleth": [
           {
            "colorbar": {
             "outlinewidth": 0,
             "ticks": ""
            },
            "type": "choropleth"
           }
          ],
          "contour": [
           {
            "colorbar": {
             "outlinewidth": 0,
             "ticks": ""
            },
            "colorscale": [
             [
              0,
              "#0d0887"
             ],
             [
              0.1111111111111111,
              "#46039f"
             ],
             [
              0.2222222222222222,
              "#7201a8"
             ],
             [
              0.3333333333333333,
              "#9c179e"
             ],
             [
              0.4444444444444444,
              "#bd3786"
             ],
             [
              0.5555555555555556,
              "#d8576b"
             ],
             [
              0.6666666666666666,
              "#ed7953"
             ],
             [
              0.7777777777777778,
              "#fb9f3a"
             ],
             [
              0.8888888888888888,
              "#fdca26"
             ],
             [
              1,
              "#f0f921"
             ]
            ],
            "type": "contour"
           }
          ],
          "contourcarpet": [
           {
            "colorbar": {
             "outlinewidth": 0,
             "ticks": ""
            },
            "type": "contourcarpet"
           }
          ],
          "heatmap": [
           {
            "colorbar": {
             "outlinewidth": 0,
             "ticks": ""
            },
            "colorscale": [
             [
              0,
              "#0d0887"
             ],
             [
              0.1111111111111111,
              "#46039f"
             ],
             [
              0.2222222222222222,
              "#7201a8"
             ],
             [
              0.3333333333333333,
              "#9c179e"
             ],
             [
              0.4444444444444444,
              "#bd3786"
             ],
             [
              0.5555555555555556,
              "#d8576b"
             ],
             [
              0.6666666666666666,
              "#ed7953"
             ],
             [
              0.7777777777777778,
              "#fb9f3a"
             ],
             [
              0.8888888888888888,
              "#fdca26"
             ],
             [
              1,
              "#f0f921"
             ]
            ],
            "type": "heatmap"
           }
          ],
          "heatmapgl": [
           {
            "colorbar": {
             "outlinewidth": 0,
             "ticks": ""
            },
            "colorscale": [
             [
              0,
              "#0d0887"
             ],
             [
              0.1111111111111111,
              "#46039f"
             ],
             [
              0.2222222222222222,
              "#7201a8"
             ],
             [
              0.3333333333333333,
              "#9c179e"
             ],
             [
              0.4444444444444444,
              "#bd3786"
             ],
             [
              0.5555555555555556,
              "#d8576b"
             ],
             [
              0.6666666666666666,
              "#ed7953"
             ],
             [
              0.7777777777777778,
              "#fb9f3a"
             ],
             [
              0.8888888888888888,
              "#fdca26"
             ],
             [
              1,
              "#f0f921"
             ]
            ],
            "type": "heatmapgl"
           }
          ],
          "histogram": [
           {
            "marker": {
             "pattern": {
              "fillmode": "overlay",
              "size": 10,
              "solidity": 0.2
             }
            },
            "type": "histogram"
           }
          ],
          "histogram2d": [
           {
            "colorbar": {
             "outlinewidth": 0,
             "ticks": ""
            },
            "colorscale": [
             [
              0,
              "#0d0887"
             ],
             [
              0.1111111111111111,
              "#46039f"
             ],
             [
              0.2222222222222222,
              "#7201a8"
             ],
             [
              0.3333333333333333,
              "#9c179e"
             ],
             [
              0.4444444444444444,
              "#bd3786"
             ],
             [
              0.5555555555555556,
              "#d8576b"
             ],
             [
              0.6666666666666666,
              "#ed7953"
             ],
             [
              0.7777777777777778,
              "#fb9f3a"
             ],
             [
              0.8888888888888888,
              "#fdca26"
             ],
             [
              1,
              "#f0f921"
             ]
            ],
            "type": "histogram2d"
           }
          ],
          "histogram2dcontour": [
           {
            "colorbar": {
             "outlinewidth": 0,
             "ticks": ""
            },
            "colorscale": [
             [
              0,
              "#0d0887"
             ],
             [
              0.1111111111111111,
              "#46039f"
             ],
             [
              0.2222222222222222,
              "#7201a8"
             ],
             [
              0.3333333333333333,
              "#9c179e"
             ],
             [
              0.4444444444444444,
              "#bd3786"
             ],
             [
              0.5555555555555556,
              "#d8576b"
             ],
             [
              0.6666666666666666,
              "#ed7953"
             ],
             [
              0.7777777777777778,
              "#fb9f3a"
             ],
             [
              0.8888888888888888,
              "#fdca26"
             ],
             [
              1,
              "#f0f921"
             ]
            ],
            "type": "histogram2dcontour"
           }
          ],
          "mesh3d": [
           {
            "colorbar": {
             "outlinewidth": 0,
             "ticks": ""
            },
            "type": "mesh3d"
           }
          ],
          "parcoords": [
           {
            "line": {
             "colorbar": {
              "outlinewidth": 0,
              "ticks": ""
             }
            },
            "type": "parcoords"
           }
          ],
          "pie": [
           {
            "automargin": true,
            "type": "pie"
           }
          ],
          "scatter": [
           {
            "fillpattern": {
             "fillmode": "overlay",
             "size": 10,
             "solidity": 0.2
            },
            "type": "scatter"
           }
          ],
          "scatter3d": [
           {
            "line": {
             "colorbar": {
              "outlinewidth": 0,
              "ticks": ""
             }
            },
            "marker": {
             "colorbar": {
              "outlinewidth": 0,
              "ticks": ""
             }
            },
            "type": "scatter3d"
           }
          ],
          "scattercarpet": [
           {
            "marker": {
             "colorbar": {
              "outlinewidth": 0,
              "ticks": ""
             }
            },
            "type": "scattercarpet"
           }
          ],
          "scattergeo": [
           {
            "marker": {
             "colorbar": {
              "outlinewidth": 0,
              "ticks": ""
             }
            },
            "type": "scattergeo"
           }
          ],
          "scattergl": [
           {
            "marker": {
             "colorbar": {
              "outlinewidth": 0,
              "ticks": ""
             }
            },
            "type": "scattergl"
           }
          ],
          "scattermapbox": [
           {
            "marker": {
             "colorbar": {
              "outlinewidth": 0,
              "ticks": ""
             }
            },
            "type": "scattermapbox"
           }
          ],
          "scatterpolar": [
           {
            "marker": {
             "colorbar": {
              "outlinewidth": 0,
              "ticks": ""
             }
            },
            "type": "scatterpolar"
           }
          ],
          "scatterpolargl": [
           {
            "marker": {
             "colorbar": {
              "outlinewidth": 0,
              "ticks": ""
             }
            },
            "type": "scatterpolargl"
           }
          ],
          "scatterternary": [
           {
            "marker": {
             "colorbar": {
              "outlinewidth": 0,
              "ticks": ""
             }
            },
            "type": "scatterternary"
           }
          ],
          "surface": [
           {
            "colorbar": {
             "outlinewidth": 0,
             "ticks": ""
            },
            "colorscale": [
             [
              0,
              "#0d0887"
             ],
             [
              0.1111111111111111,
              "#46039f"
             ],
             [
              0.2222222222222222,
              "#7201a8"
             ],
             [
              0.3333333333333333,
              "#9c179e"
             ],
             [
              0.4444444444444444,
              "#bd3786"
             ],
             [
              0.5555555555555556,
              "#d8576b"
             ],
             [
              0.6666666666666666,
              "#ed7953"
             ],
             [
              0.7777777777777778,
              "#fb9f3a"
             ],
             [
              0.8888888888888888,
              "#fdca26"
             ],
             [
              1,
              "#f0f921"
             ]
            ],
            "type": "surface"
           }
          ],
          "table": [
           {
            "cells": {
             "fill": {
              "color": "#EBF0F8"
             },
             "line": {
              "color": "white"
             }
            },
            "header": {
             "fill": {
              "color": "#C8D4E3"
             },
             "line": {
              "color": "white"
             }
            },
            "type": "table"
           }
          ]
         },
         "layout": {
          "annotationdefaults": {
           "arrowcolor": "#2a3f5f",
           "arrowhead": 0,
           "arrowwidth": 1
          },
          "autotypenumbers": "strict",
          "coloraxis": {
           "colorbar": {
            "outlinewidth": 0,
            "ticks": ""
           }
          },
          "colorscale": {
           "diverging": [
            [
             0,
             "#8e0152"
            ],
            [
             0.1,
             "#c51b7d"
            ],
            [
             0.2,
             "#de77ae"
            ],
            [
             0.3,
             "#f1b6da"
            ],
            [
             0.4,
             "#fde0ef"
            ],
            [
             0.5,
             "#f7f7f7"
            ],
            [
             0.6,
             "#e6f5d0"
            ],
            [
             0.7,
             "#b8e186"
            ],
            [
             0.8,
             "#7fbc41"
            ],
            [
             0.9,
             "#4d9221"
            ],
            [
             1,
             "#276419"
            ]
           ],
           "sequential": [
            [
             0,
             "#0d0887"
            ],
            [
             0.1111111111111111,
             "#46039f"
            ],
            [
             0.2222222222222222,
             "#7201a8"
            ],
            [
             0.3333333333333333,
             "#9c179e"
            ],
            [
             0.4444444444444444,
             "#bd3786"
            ],
            [
             0.5555555555555556,
             "#d8576b"
            ],
            [
             0.6666666666666666,
             "#ed7953"
            ],
            [
             0.7777777777777778,
             "#fb9f3a"
            ],
            [
             0.8888888888888888,
             "#fdca26"
            ],
            [
             1,
             "#f0f921"
            ]
           ],
           "sequentialminus": [
            [
             0,
             "#0d0887"
            ],
            [
             0.1111111111111111,
             "#46039f"
            ],
            [
             0.2222222222222222,
             "#7201a8"
            ],
            [
             0.3333333333333333,
             "#9c179e"
            ],
            [
             0.4444444444444444,
             "#bd3786"
            ],
            [
             0.5555555555555556,
             "#d8576b"
            ],
            [
             0.6666666666666666,
             "#ed7953"
            ],
            [
             0.7777777777777778,
             "#fb9f3a"
            ],
            [
             0.8888888888888888,
             "#fdca26"
            ],
            [
             1,
             "#f0f921"
            ]
           ]
          },
          "colorway": [
           "#636efa",
           "#EF553B",
           "#00cc96",
           "#ab63fa",
           "#FFA15A",
           "#19d3f3",
           "#FF6692",
           "#B6E880",
           "#FF97FF",
           "#FECB52"
          ],
          "font": {
           "color": "#2a3f5f"
          },
          "geo": {
           "bgcolor": "white",
           "lakecolor": "white",
           "landcolor": "#E5ECF6",
           "showlakes": true,
           "showland": true,
           "subunitcolor": "white"
          },
          "hoverlabel": {
           "align": "left"
          },
          "hovermode": "closest",
          "mapbox": {
           "style": "light"
          },
          "paper_bgcolor": "white",
          "plot_bgcolor": "#E5ECF6",
          "polar": {
           "angularaxis": {
            "gridcolor": "white",
            "linecolor": "white",
            "ticks": ""
           },
           "bgcolor": "#E5ECF6",
           "radialaxis": {
            "gridcolor": "white",
            "linecolor": "white",
            "ticks": ""
           }
          },
          "scene": {
           "xaxis": {
            "backgroundcolor": "#E5ECF6",
            "gridcolor": "white",
            "gridwidth": 2,
            "linecolor": "white",
            "showbackground": true,
            "ticks": "",
            "zerolinecolor": "white"
           },
           "yaxis": {
            "backgroundcolor": "#E5ECF6",
            "gridcolor": "white",
            "gridwidth": 2,
            "linecolor": "white",
            "showbackground": true,
            "ticks": "",
            "zerolinecolor": "white"
           },
           "zaxis": {
            "backgroundcolor": "#E5ECF6",
            "gridcolor": "white",
            "gridwidth": 2,
            "linecolor": "white",
            "showbackground": true,
            "ticks": "",
            "zerolinecolor": "white"
           }
          },
          "shapedefaults": {
           "line": {
            "color": "#2a3f5f"
           }
          },
          "ternary": {
           "aaxis": {
            "gridcolor": "white",
            "linecolor": "white",
            "ticks": ""
           },
           "baxis": {
            "gridcolor": "white",
            "linecolor": "white",
            "ticks": ""
           },
           "bgcolor": "#E5ECF6",
           "caxis": {
            "gridcolor": "white",
            "linecolor": "white",
            "ticks": ""
           }
          },
          "title": {
           "x": 0.05
          },
          "xaxis": {
           "automargin": true,
           "gridcolor": "white",
           "linecolor": "white",
           "ticks": "",
           "title": {
            "standoff": 15
           },
           "zerolinecolor": "white",
           "zerolinewidth": 2
          },
          "yaxis": {
           "automargin": true,
           "gridcolor": "white",
           "linecolor": "white",
           "ticks": "",
           "title": {
            "standoff": 15
           },
           "zerolinecolor": "white",
           "zerolinewidth": 2
          }
         }
        }
       }
      }
     },
     "metadata": {},
     "output_type": "display_data"
    }
   ],
   "source": [
    "query_node = \"R-HSA-597592\"\n",
    "\n",
    "IG.plot_subgraph_sankey(\n",
    "    query_node, upstream=True, savename=\"img/subgraph_sankey.png\", cmap=\"coolwarm\"\n",
    ")"
   ]
  }
 ],
 "metadata": {
  "kernelspec": {
   "display_name": "test-venv",
   "language": "python",
   "name": "python3"
  },
  "language_info": {
   "codemirror_mode": {
    "name": "ipython",
    "version": 3
   },
   "file_extension": ".py",
   "mimetype": "text/x-python",
   "name": "python",
   "nbconvert_exporter": "python",
   "pygments_lexer": "ipython3",
   "version": "3.9.6"
  },
  "orig_nbformat": 4
 },
 "nbformat": 4,
 "nbformat_minor": 2
}
