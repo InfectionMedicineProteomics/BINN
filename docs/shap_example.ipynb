{
 "cells": [
  {
   "cell_type": "code",
   "execution_count": 1,
   "metadata": {
    "tags": []
   },
   "outputs": [
    {
     "name": "stdout",
     "output_type": "stream",
     "text": [
      "\n",
      "BINN is on the device: cpu\n"
     ]
    }
   ],
   "source": [
    "from binn import Network, BINN\n",
    "import pandas as pd\n",
    "\n",
    "input_data = pd.read_csv(\"../data/test_qm.csv\")\n",
    "translation = pd.read_csv(\"../data/translation.tsv\", sep=\"\\t\")\n",
    "pathways = pd.read_csv(\"../data/pathways.tsv\", sep=\"\\t\")\n",
    "\n",
    "network = Network(\n",
    "    input_data=input_data,\n",
    "    pathways=pathways,\n",
    "    mapping=translation,\n",
    "    source_column=\"child\",\n",
    "    target_column=\"parent\",\n",
    ")\n",
    "\n",
    "binn = BINN(\n",
    "    network=network,\n",
    "    n_layers=4,\n",
    "    dropout=0.2,\n",
    "    validate=False,\n",
    "    residual=False,\n",
    ")"
   ]
  },
  {
   "cell_type": "code",
   "execution_count": 2,
   "metadata": {},
   "outputs": [
    {
     "name": "stderr",
     "output_type": "stream",
     "text": [
      "GPU available: False, used: False\n",
      "TPU available: False, using: 0 TPU cores\n",
      "IPU available: False, using: 0 IPUs\n",
      "HPU available: False, using: 0 HPUs\n",
      "Starting from v1.9.0, `tensorboardX` has been removed as a dependency of the `lightning.pytorch` package, due to potential conflicts with other packages in the ML ecosystem. For this reason, `logger=True` will use `CSVLogger` as the default logger, unless the `tensorboard` or `tensorboardX` packages are found. Please `pip install lightning[extra]` or one of them to enable TensorBoard support by default\n",
      "You defined a `validation_step` but have no `val_dataloader`. Skipping val loop.\n",
      "\n",
      "  | Name   | Type             | Params\n",
      "--------------------------------------------\n",
      "0 | layers | Sequential       | 364 K \n",
      "1 | loss   | CrossEntropyLoss | 0     \n",
      "--------------------------------------------\n",
      "364 K     Trainable params\n",
      "0         Non-trainable params\n",
      "364 K     Total params\n",
      "1.457     Total estimated model params size (MB)\n",
      "The 'train_dataloader' does not have many workers which may be a bottleneck. Consider increasing the value of the `num_workers` argument` to `num_workers=11` in the `DataLoader` to improve performance.\n"
     ]
    },
    {
     "data": {
      "application/vnd.jupyter.widget-view+json": {
       "model_id": "12ad636af8a54c60a6c5ca8d6f79f47a",
       "version_major": 2,
       "version_minor": 0
      },
      "text/plain": [
       "Training: |          | 0/? [00:00<?, ?it/s]"
      ]
     },
     "metadata": {},
     "output_type": "display_data"
    }
   ],
   "source": [
    "from util_for_examples import fit_data_matrix_to_network_input, generate_data\n",
    "import torch\n",
    "from lightning.pytorch import Trainer\n",
    "\n",
    "design_matrix = pd.read_csv(\"../data/design_matrix.tsv\", sep=\"\\t\")\n",
    "\n",
    "protein_matrix = fit_data_matrix_to_network_input(input_data, features=network.inputs)\n",
    "\n",
    "X, y = generate_data(protein_matrix, design_matrix=design_matrix)\n",
    "dataset = torch.utils.data.TensorDataset(\n",
    "    torch.tensor(X, dtype=torch.float32, device=binn.device),\n",
    "    torch.tensor(y, dtype=torch.int64, device=binn.device),\n",
    ")\n",
    "dataloader = torch.utils.data.DataLoader(dataset, batch_size=8, shuffle=True)\n",
    "\n",
    "trainer = Trainer(max_epochs=3, log_every_n_steps=10)\n",
    "trainer.fit(binn, dataloader)"
   ]
  },
  {
   "cell_type": "code",
   "execution_count": null,
   "metadata": {},
   "outputs": [],
   "source": [
    "from binn import BINNExplainer\n",
    "\n",
    "explainer = BINNExplainer(binn)"
   ]
  },
  {
   "cell_type": "code",
   "execution_count": null,
   "metadata": {},
   "outputs": [],
   "source": [
    "test_data = torch.Tensor(X[5:10])\n",
    "background_data = torch.Tensor(X[0:5])\n",
    "\n",
    "importance_df = explainer.explain(test_data, background_data)\n",
    "importance_df.head()"
   ]
  },
  {
   "cell_type": "code",
   "execution_count": null,
   "metadata": {},
   "outputs": [],
   "source": [
    "from binn import ImportanceNetwork\n",
    "import pandas as pd\n",
    "\n",
    "importance_df = pd.read_csv(\"../data/importance_df.csv\")\n",
    "IG = ImportanceNetwork(importance_df, norm_method=\"fan\")"
   ]
  },
  {
   "cell_type": "code",
   "execution_count": null,
   "metadata": {},
   "outputs": [],
   "source": [
    "IG.plot_complete_sankey(\n",
    "    multiclass=False, savename=\"img/test.png\", node_cmap=\"Reds\", edge_cmap=\"Blues\"\n",
    ")"
   ]
  },
  {
   "cell_type": "code",
   "execution_count": null,
   "metadata": {},
   "outputs": [],
   "source": [
    "query_node = \"R-HSA-68867\"\n",
    "\n",
    "IG.plot_subgraph_sankey(\n",
    "    query_node, upstream=True, savename=\"img/test.png\", cmap=\"coolwarm\"\n",
    ")"
   ]
  },
  {
   "cell_type": "code",
   "execution_count": null,
   "metadata": {},
   "outputs": [],
   "source": []
  }
 ],
 "metadata": {
  "kernelspec": {
   "display_name": "Python 3 (ipykernel)",
   "language": "python",
   "name": "python3"
  },
  "language_info": {
   "codemirror_mode": {
    "name": "ipython",
    "version": 3
   },
   "file_extension": ".py",
   "mimetype": "text/x-python",
   "name": "python",
   "nbconvert_exporter": "python",
   "pygments_lexer": "ipython3",
   "version": "3.11.5"
  }
 },
 "nbformat": 4,
 "nbformat_minor": 4
}
