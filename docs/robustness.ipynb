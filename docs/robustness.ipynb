{
 "cells": [
  {
   "cell_type": "markdown",
   "metadata": {},
   "source": [
    "# Robustness\n",
    "In this example we analyze how robust feature selection with BINN is. All feature selection methods are data-greedy, meaning that we need many samples to generate robust estimations of feature importance. One way to analyze this is to train and explain several models, and compare their feature importances."
   ]
  },
  {
   "cell_type": "code",
   "execution_count": 24,
   "metadata": {},
   "outputs": [
    {
     "name": "stdout",
     "output_type": "stream",
     "text": [
      "\n",
      "BINN is on the device: cpu\n"
     ]
    }
   ],
   "source": [
    "from binn import Network, BINN\n",
    "import pandas as pd\n",
    "\n",
    "input_data = pd.read_csv(\"../data/test_qm.csv\")\n",
    "translation = pd.read_csv(\"../data/translation.tsv\", sep=\"\\t\")\n",
    "pathways = pd.read_csv(\"../data/pathways.tsv\", sep=\"\\t\")\n",
    "\n",
    "network = Network(\n",
    "    input_data=input_data,\n",
    "    pathways=pathways,\n",
    "    mapping=translation,\n",
    "    source_column=\"child\",\n",
    "    target_column=\"parent\",\n",
    ")\n",
    "\n",
    "                \n",
    "binn = BINN(\n",
    "    network=network,\n",
    "    n_layers=4,\n",
    "    dropout=0.2,\n",
    "    validate=False,\n",
    "    residual=False,\n",
    "    device=\"cpu\",\n",
    "    learning_rate =0.001\n",
    ")\n"
   ]
  },
  {
   "cell_type": "code",
   "execution_count": 25,
   "metadata": {},
   "outputs": [],
   "source": [
    "from util_for_examples import fit_data_matrix_to_network_input, generate_data\n",
    "import torch\n",
    "\n",
    "design_matrix = pd.read_csv(\"../data/design_matrix.tsv\", sep=\"\\t\")\n",
    "\n",
    "protein_matrix = fit_data_matrix_to_network_input(input_data, features=network.inputs)\n",
    "\n",
    "X, y = generate_data(protein_matrix, design_matrix=design_matrix)\n",
    "dataset = torch.utils.data.TensorDataset(\n",
    "    torch.tensor(X, dtype=torch.float32, device=binn.device),\n",
    "    torch.tensor(y, dtype=torch.int16, device=binn.device),\n",
    ")\n",
    "dataloader = torch.utils.data.DataLoader(dataset, batch_size=8, shuffle=True)"
   ]
  },
  {
   "cell_type": "code",
   "execution_count": 26,
   "metadata": {},
   "outputs": [],
   "source": [
    "from binn.explainer import BINNExplainer\n",
    "\n",
    "explainer = BINNExplainer(binn)\n"
   ]
  },
  {
   "cell_type": "markdown",
   "metadata": {},
   "source": [
    "## Explain average\n",
    "In ```exlpainer.explain_average()``` we can train the n models and explain them separately. Their resulting feature importances are concatenated to the outputted ```ìmportance_df```. "
   ]
  },
  {
   "cell_type": "code",
   "execution_count": 35,
   "metadata": {},
   "outputs": [
    {
     "name": "stdout",
     "output_type": "stream",
     "text": [
      "Iteration 0\n",
      "Final epoch: Average Accuracy 0.98, Average Loss: 0.10\n",
      "Iteration 1\n",
      "Final epoch: Average Accuracy 0.98, Average Loss: 0.08\n",
      "Iteration 2\n",
      "Final epoch: Average Accuracy 0.93, Average Loss: 0.16\n",
      "Iteration 3\n",
      "Final epoch: Average Accuracy 0.97, Average Loss: 0.11\n",
      "Iteration 4\n",
      "Final epoch: Average Accuracy 0.96, Average Loss: 0.10\n",
      "Iteration 5\n",
      "Final epoch: Average Accuracy 1.00, Average Loss: 0.06\n",
      "Iteration 6\n",
      "Final epoch: Average Accuracy 0.95, Average Loss: 0.12\n",
      "Iteration 7\n",
      "Final epoch: Average Accuracy 0.98, Average Loss: 0.08\n",
      "Iteration 8\n",
      "Final epoch: Average Accuracy 0.97, Average Loss: 0.08\n",
      "Iteration 9\n",
      "Final epoch: Average Accuracy 0.98, Average Loss: 0.09\n"
     ]
    },
    {
     "data": {
      "text/html": [
       "<div>\n",
       "<style scoped>\n",
       "    .dataframe tbody tr th:only-of-type {\n",
       "        vertical-align: middle;\n",
       "    }\n",
       "\n",
       "    .dataframe tbody tr th {\n",
       "        vertical-align: top;\n",
       "    }\n",
       "\n",
       "    .dataframe thead th {\n",
       "        text-align: right;\n",
       "    }\n",
       "</style>\n",
       "<table border=\"1\" class=\"dataframe\">\n",
       "  <thead>\n",
       "    <tr style=\"text-align: right;\">\n",
       "      <th></th>\n",
       "      <th>source</th>\n",
       "      <th>target</th>\n",
       "      <th>source name</th>\n",
       "      <th>target name</th>\n",
       "      <th>type</th>\n",
       "      <th>source layer</th>\n",
       "      <th>target layer</th>\n",
       "      <th>value_0</th>\n",
       "      <th>value_1</th>\n",
       "      <th>value_2</th>\n",
       "      <th>value_3</th>\n",
       "      <th>value_4</th>\n",
       "      <th>value_5</th>\n",
       "      <th>value_6</th>\n",
       "      <th>value_7</th>\n",
       "      <th>value_8</th>\n",
       "      <th>value_9</th>\n",
       "      <th>value_mean</th>\n",
       "      <th>values_std</th>\n",
       "      <th>value</th>\n",
       "    </tr>\n",
       "  </thead>\n",
       "  <tbody>\n",
       "    <tr>\n",
       "      <th>0</th>\n",
       "      <td>1</td>\n",
       "      <td>497</td>\n",
       "      <td>A0M8Q6</td>\n",
       "      <td>R-HSA-166663</td>\n",
       "      <td>0</td>\n",
       "      <td>0</td>\n",
       "      <td>1</td>\n",
       "      <td>0.082424</td>\n",
       "      <td>0.067336</td>\n",
       "      <td>0.121985</td>\n",
       "      <td>0.014082</td>\n",
       "      <td>0.136884</td>\n",
       "      <td>0.072354</td>\n",
       "      <td>0.098352</td>\n",
       "      <td>0.096156</td>\n",
       "      <td>0.085417</td>\n",
       "      <td>0.052298</td>\n",
       "      <td>0.082729</td>\n",
       "      <td>0.032998</td>\n",
       "      <td>0.082729</td>\n",
       "    </tr>\n",
       "    <tr>\n",
       "      <th>1</th>\n",
       "      <td>1</td>\n",
       "      <td>497</td>\n",
       "      <td>A0M8Q6</td>\n",
       "      <td>R-HSA-166663</td>\n",
       "      <td>1</td>\n",
       "      <td>0</td>\n",
       "      <td>1</td>\n",
       "      <td>0.041309</td>\n",
       "      <td>0.044959</td>\n",
       "      <td>0.034864</td>\n",
       "      <td>0.098221</td>\n",
       "      <td>0.032610</td>\n",
       "      <td>0.055007</td>\n",
       "      <td>0.066917</td>\n",
       "      <td>0.035010</td>\n",
       "      <td>0.048155</td>\n",
       "      <td>0.129446</td>\n",
       "      <td>0.058650</td>\n",
       "      <td>0.030101</td>\n",
       "      <td>0.058650</td>\n",
       "    </tr>\n",
       "    <tr>\n",
       "      <th>2</th>\n",
       "      <td>1</td>\n",
       "      <td>954</td>\n",
       "      <td>A0M8Q6</td>\n",
       "      <td>R-HSA-198933</td>\n",
       "      <td>0</td>\n",
       "      <td>0</td>\n",
       "      <td>1</td>\n",
       "      <td>0.082424</td>\n",
       "      <td>0.067336</td>\n",
       "      <td>0.121985</td>\n",
       "      <td>0.014082</td>\n",
       "      <td>0.136884</td>\n",
       "      <td>0.072354</td>\n",
       "      <td>0.098352</td>\n",
       "      <td>0.096156</td>\n",
       "      <td>0.085417</td>\n",
       "      <td>0.052298</td>\n",
       "      <td>0.082729</td>\n",
       "      <td>0.032998</td>\n",
       "      <td>0.082729</td>\n",
       "    </tr>\n",
       "    <tr>\n",
       "      <th>3</th>\n",
       "      <td>1</td>\n",
       "      <td>954</td>\n",
       "      <td>A0M8Q6</td>\n",
       "      <td>R-HSA-198933</td>\n",
       "      <td>1</td>\n",
       "      <td>0</td>\n",
       "      <td>1</td>\n",
       "      <td>0.041309</td>\n",
       "      <td>0.044959</td>\n",
       "      <td>0.034864</td>\n",
       "      <td>0.098221</td>\n",
       "      <td>0.032610</td>\n",
       "      <td>0.055007</td>\n",
       "      <td>0.066917</td>\n",
       "      <td>0.035010</td>\n",
       "      <td>0.048155</td>\n",
       "      <td>0.129446</td>\n",
       "      <td>0.058650</td>\n",
       "      <td>0.030101</td>\n",
       "      <td>0.058650</td>\n",
       "    </tr>\n",
       "    <tr>\n",
       "      <th>4</th>\n",
       "      <td>1</td>\n",
       "      <td>539</td>\n",
       "      <td>A0M8Q6</td>\n",
       "      <td>R-HSA-2029481</td>\n",
       "      <td>0</td>\n",
       "      <td>0</td>\n",
       "      <td>1</td>\n",
       "      <td>0.082424</td>\n",
       "      <td>0.067336</td>\n",
       "      <td>0.121985</td>\n",
       "      <td>0.014082</td>\n",
       "      <td>0.136884</td>\n",
       "      <td>0.072354</td>\n",
       "      <td>0.098352</td>\n",
       "      <td>0.096156</td>\n",
       "      <td>0.085417</td>\n",
       "      <td>0.052298</td>\n",
       "      <td>0.082729</td>\n",
       "      <td>0.032998</td>\n",
       "      <td>0.082729</td>\n",
       "    </tr>\n",
       "  </tbody>\n",
       "</table>\n",
       "</div>"
      ],
      "text/plain": [
       "   source  target source name    target name  type  source layer  \\\n",
       "0       1     497      A0M8Q6   R-HSA-166663     0             0   \n",
       "1       1     497      A0M8Q6   R-HSA-166663     1             0   \n",
       "2       1     954      A0M8Q6   R-HSA-198933     0             0   \n",
       "3       1     954      A0M8Q6   R-HSA-198933     1             0   \n",
       "4       1     539      A0M8Q6  R-HSA-2029481     0             0   \n",
       "\n",
       "   target layer   value_0   value_1   value_2   value_3   value_4   value_5  \\\n",
       "0             1  0.082424  0.067336  0.121985  0.014082  0.136884  0.072354   \n",
       "1             1  0.041309  0.044959  0.034864  0.098221  0.032610  0.055007   \n",
       "2             1  0.082424  0.067336  0.121985  0.014082  0.136884  0.072354   \n",
       "3             1  0.041309  0.044959  0.034864  0.098221  0.032610  0.055007   \n",
       "4             1  0.082424  0.067336  0.121985  0.014082  0.136884  0.072354   \n",
       "\n",
       "    value_6   value_7   value_8   value_9  value_mean  values_std     value  \n",
       "0  0.098352  0.096156  0.085417  0.052298    0.082729    0.032998  0.082729  \n",
       "1  0.066917  0.035010  0.048155  0.129446    0.058650    0.030101  0.058650  \n",
       "2  0.098352  0.096156  0.085417  0.052298    0.082729    0.032998  0.082729  \n",
       "3  0.066917  0.035010  0.048155  0.129446    0.058650    0.030101  0.058650  \n",
       "4  0.098352  0.096156  0.085417  0.052298    0.082729    0.032998  0.082729  "
      ]
     },
     "execution_count": 35,
     "metadata": {},
     "output_type": "execute_result"
    }
   ],
   "source": [
    "test_data = torch.Tensor(X)\n",
    "background_data = torch.Tensor(X)\n",
    "\n",
    "n_iterations = 10\n",
    "n_epochs = 30\n",
    "\n",
    "importance_df = explainer.explain_average(test_data, background_data, n_iterations, n_epochs, dataloader, fast_train=True)\n",
    "importance_df.head()"
   ]
  },
  {
   "cell_type": "code",
   "execution_count": 28,
   "metadata": {},
   "outputs": [
    {
     "data": {
      "text/html": [
       "<div>\n",
       "<style scoped>\n",
       "    .dataframe tbody tr th:only-of-type {\n",
       "        vertical-align: middle;\n",
       "    }\n",
       "\n",
       "    .dataframe tbody tr th {\n",
       "        vertical-align: top;\n",
       "    }\n",
       "\n",
       "    .dataframe thead th {\n",
       "        text-align: right;\n",
       "    }\n",
       "</style>\n",
       "<table border=\"1\" class=\"dataframe\">\n",
       "  <thead>\n",
       "    <tr style=\"text-align: right;\">\n",
       "      <th></th>\n",
       "      <th>source</th>\n",
       "      <th>target</th>\n",
       "      <th>source name</th>\n",
       "      <th>target name</th>\n",
       "      <th>type</th>\n",
       "      <th>source layer</th>\n",
       "      <th>target layer</th>\n",
       "      <th>value_0</th>\n",
       "      <th>value_1</th>\n",
       "      <th>value_2</th>\n",
       "      <th>...</th>\n",
       "      <th>value_4</th>\n",
       "      <th>value_5</th>\n",
       "      <th>value_6</th>\n",
       "      <th>value_7</th>\n",
       "      <th>value_8</th>\n",
       "      <th>value_9</th>\n",
       "      <th>value_mean</th>\n",
       "      <th>values_std</th>\n",
       "      <th>value</th>\n",
       "      <th>copy</th>\n",
       "    </tr>\n",
       "  </thead>\n",
       "  <tbody>\n",
       "    <tr>\n",
       "      <th>0</th>\n",
       "      <td>1</td>\n",
       "      <td>497</td>\n",
       "      <td>A0M8Q6</td>\n",
       "      <td>R-HSA-166663</td>\n",
       "      <td>0</td>\n",
       "      <td>0</td>\n",
       "      <td>1</td>\n",
       "      <td>0.057292</td>\n",
       "      <td>0.031902</td>\n",
       "      <td>0.072215</td>\n",
       "      <td>...</td>\n",
       "      <td>0.026327</td>\n",
       "      <td>0.051485</td>\n",
       "      <td>0.049959</td>\n",
       "      <td>0.083155</td>\n",
       "      <td>0.038823</td>\n",
       "      <td>0.071860</td>\n",
       "      <td>0.056468</td>\n",
       "      <td>0.019296</td>\n",
       "      <td>0.056468</td>\n",
       "      <td>False</td>\n",
       "    </tr>\n",
       "    <tr>\n",
       "      <th>1</th>\n",
       "      <td>1</td>\n",
       "      <td>497</td>\n",
       "      <td>A0M8Q6</td>\n",
       "      <td>R-HSA-166663</td>\n",
       "      <td>1</td>\n",
       "      <td>0</td>\n",
       "      <td>1</td>\n",
       "      <td>0.033034</td>\n",
       "      <td>0.047299</td>\n",
       "      <td>0.129302</td>\n",
       "      <td>...</td>\n",
       "      <td>0.073976</td>\n",
       "      <td>0.053785</td>\n",
       "      <td>0.027834</td>\n",
       "      <td>0.039571</td>\n",
       "      <td>0.049074</td>\n",
       "      <td>0.025036</td>\n",
       "      <td>0.051177</td>\n",
       "      <td>0.029457</td>\n",
       "      <td>0.051177</td>\n",
       "      <td>False</td>\n",
       "    </tr>\n",
       "    <tr>\n",
       "      <th>2</th>\n",
       "      <td>1</td>\n",
       "      <td>954</td>\n",
       "      <td>A0M8Q6</td>\n",
       "      <td>R-HSA-198933</td>\n",
       "      <td>0</td>\n",
       "      <td>0</td>\n",
       "      <td>1</td>\n",
       "      <td>0.057292</td>\n",
       "      <td>0.031902</td>\n",
       "      <td>0.072215</td>\n",
       "      <td>...</td>\n",
       "      <td>0.026327</td>\n",
       "      <td>0.051485</td>\n",
       "      <td>0.049959</td>\n",
       "      <td>0.083155</td>\n",
       "      <td>0.038823</td>\n",
       "      <td>0.071860</td>\n",
       "      <td>0.056468</td>\n",
       "      <td>0.019296</td>\n",
       "      <td>0.056468</td>\n",
       "      <td>False</td>\n",
       "    </tr>\n",
       "    <tr>\n",
       "      <th>3</th>\n",
       "      <td>1</td>\n",
       "      <td>954</td>\n",
       "      <td>A0M8Q6</td>\n",
       "      <td>R-HSA-198933</td>\n",
       "      <td>1</td>\n",
       "      <td>0</td>\n",
       "      <td>1</td>\n",
       "      <td>0.033034</td>\n",
       "      <td>0.047299</td>\n",
       "      <td>0.129302</td>\n",
       "      <td>...</td>\n",
       "      <td>0.073976</td>\n",
       "      <td>0.053785</td>\n",
       "      <td>0.027834</td>\n",
       "      <td>0.039571</td>\n",
       "      <td>0.049074</td>\n",
       "      <td>0.025036</td>\n",
       "      <td>0.051177</td>\n",
       "      <td>0.029457</td>\n",
       "      <td>0.051177</td>\n",
       "      <td>False</td>\n",
       "    </tr>\n",
       "    <tr>\n",
       "      <th>4</th>\n",
       "      <td>1</td>\n",
       "      <td>539</td>\n",
       "      <td>A0M8Q6</td>\n",
       "      <td>R-HSA-2029481</td>\n",
       "      <td>0</td>\n",
       "      <td>0</td>\n",
       "      <td>1</td>\n",
       "      <td>0.057292</td>\n",
       "      <td>0.031902</td>\n",
       "      <td>0.072215</td>\n",
       "      <td>...</td>\n",
       "      <td>0.026327</td>\n",
       "      <td>0.051485</td>\n",
       "      <td>0.049959</td>\n",
       "      <td>0.083155</td>\n",
       "      <td>0.038823</td>\n",
       "      <td>0.071860</td>\n",
       "      <td>0.056468</td>\n",
       "      <td>0.019296</td>\n",
       "      <td>0.056468</td>\n",
       "      <td>False</td>\n",
       "    </tr>\n",
       "    <tr>\n",
       "      <th>...</th>\n",
       "      <td>...</td>\n",
       "      <td>...</td>\n",
       "      <td>...</td>\n",
       "      <td>...</td>\n",
       "      <td>...</td>\n",
       "      <td>...</td>\n",
       "      <td>...</td>\n",
       "      <td>...</td>\n",
       "      <td>...</td>\n",
       "      <td>...</td>\n",
       "      <td>...</td>\n",
       "      <td>...</td>\n",
       "      <td>...</td>\n",
       "      <td>...</td>\n",
       "      <td>...</td>\n",
       "      <td>...</td>\n",
       "      <td>...</td>\n",
       "      <td>...</td>\n",
       "      <td>...</td>\n",
       "      <td>...</td>\n",
       "      <td>...</td>\n",
       "    </tr>\n",
       "    <tr>\n",
       "      <th>6901</th>\n",
       "      <td>1319</td>\n",
       "      <td>0</td>\n",
       "      <td>R-HSA-9612973</td>\n",
       "      <td>root</td>\n",
       "      <td>1</td>\n",
       "      <td>4</td>\n",
       "      <td>5</td>\n",
       "      <td>0.168732</td>\n",
       "      <td>0.119193</td>\n",
       "      <td>0.382712</td>\n",
       "      <td>...</td>\n",
       "      <td>0.221143</td>\n",
       "      <td>0.306118</td>\n",
       "      <td>0.133829</td>\n",
       "      <td>0.069731</td>\n",
       "      <td>0.021349</td>\n",
       "      <td>0.306654</td>\n",
       "      <td>0.180958</td>\n",
       "      <td>0.113130</td>\n",
       "      <td>0.180958</td>\n",
       "      <td>False</td>\n",
       "    </tr>\n",
       "    <tr>\n",
       "      <th>6902</th>\n",
       "      <td>1320</td>\n",
       "      <td>0</td>\n",
       "      <td>R-HSA-9709957</td>\n",
       "      <td>root</td>\n",
       "      <td>0</td>\n",
       "      <td>4</td>\n",
       "      <td>5</td>\n",
       "      <td>0.282160</td>\n",
       "      <td>0.310405</td>\n",
       "      <td>0.046911</td>\n",
       "      <td>...</td>\n",
       "      <td>0.056053</td>\n",
       "      <td>0.235610</td>\n",
       "      <td>0.185094</td>\n",
       "      <td>0.237833</td>\n",
       "      <td>0.098621</td>\n",
       "      <td>0.226858</td>\n",
       "      <td>0.188058</td>\n",
       "      <td>0.086944</td>\n",
       "      <td>0.188058</td>\n",
       "      <td>False</td>\n",
       "    </tr>\n",
       "    <tr>\n",
       "      <th>6903</th>\n",
       "      <td>1320</td>\n",
       "      <td>0</td>\n",
       "      <td>R-HSA-9709957</td>\n",
       "      <td>root</td>\n",
       "      <td>1</td>\n",
       "      <td>4</td>\n",
       "      <td>5</td>\n",
       "      <td>0.000856</td>\n",
       "      <td>0.136307</td>\n",
       "      <td>0.297282</td>\n",
       "      <td>...</td>\n",
       "      <td>0.093029</td>\n",
       "      <td>0.040322</td>\n",
       "      <td>0.169211</td>\n",
       "      <td>0.004483</td>\n",
       "      <td>0.087137</td>\n",
       "      <td>0.031249</td>\n",
       "      <td>0.086141</td>\n",
       "      <td>0.089588</td>\n",
       "      <td>0.086141</td>\n",
       "      <td>False</td>\n",
       "    </tr>\n",
       "    <tr>\n",
       "      <th>6904</th>\n",
       "      <td>1321</td>\n",
       "      <td>0</td>\n",
       "      <td>R-HSA-9748784</td>\n",
       "      <td>root</td>\n",
       "      <td>0</td>\n",
       "      <td>4</td>\n",
       "      <td>5</td>\n",
       "      <td>0.133147</td>\n",
       "      <td>0.150910</td>\n",
       "      <td>0.033321</td>\n",
       "      <td>...</td>\n",
       "      <td>0.005379</td>\n",
       "      <td>0.094346</td>\n",
       "      <td>0.064461</td>\n",
       "      <td>0.094471</td>\n",
       "      <td>0.003258</td>\n",
       "      <td>0.029948</td>\n",
       "      <td>0.064763</td>\n",
       "      <td>0.049052</td>\n",
       "      <td>0.064763</td>\n",
       "      <td>False</td>\n",
       "    </tr>\n",
       "    <tr>\n",
       "      <th>6905</th>\n",
       "      <td>1321</td>\n",
       "      <td>0</td>\n",
       "      <td>R-HSA-9748784</td>\n",
       "      <td>root</td>\n",
       "      <td>1</td>\n",
       "      <td>4</td>\n",
       "      <td>5</td>\n",
       "      <td>0.021429</td>\n",
       "      <td>0.205977</td>\n",
       "      <td>0.185511</td>\n",
       "      <td>...</td>\n",
       "      <td>0.257590</td>\n",
       "      <td>0.033208</td>\n",
       "      <td>0.126084</td>\n",
       "      <td>0.059172</td>\n",
       "      <td>0.164633</td>\n",
       "      <td>0.228433</td>\n",
       "      <td>0.134989</td>\n",
       "      <td>0.081131</td>\n",
       "      <td>0.134989</td>\n",
       "      <td>False</td>\n",
       "    </tr>\n",
       "  </tbody>\n",
       "</table>\n",
       "<p>6580 rows × 21 columns</p>\n",
       "</div>"
      ],
      "text/plain": [
       "      source  target    source name    target name  type  source layer  \\\n",
       "0          1     497         A0M8Q6   R-HSA-166663     0             0   \n",
       "1          1     497         A0M8Q6   R-HSA-166663     1             0   \n",
       "2          1     954         A0M8Q6   R-HSA-198933     0             0   \n",
       "3          1     954         A0M8Q6   R-HSA-198933     1             0   \n",
       "4          1     539         A0M8Q6  R-HSA-2029481     0             0   \n",
       "...      ...     ...            ...            ...   ...           ...   \n",
       "6901    1319       0  R-HSA-9612973           root     1             4   \n",
       "6902    1320       0  R-HSA-9709957           root     0             4   \n",
       "6903    1320       0  R-HSA-9709957           root     1             4   \n",
       "6904    1321       0  R-HSA-9748784           root     0             4   \n",
       "6905    1321       0  R-HSA-9748784           root     1             4   \n",
       "\n",
       "      target layer   value_0   value_1   value_2  ...   value_4   value_5  \\\n",
       "0                1  0.057292  0.031902  0.072215  ...  0.026327  0.051485   \n",
       "1                1  0.033034  0.047299  0.129302  ...  0.073976  0.053785   \n",
       "2                1  0.057292  0.031902  0.072215  ...  0.026327  0.051485   \n",
       "3                1  0.033034  0.047299  0.129302  ...  0.073976  0.053785   \n",
       "4                1  0.057292  0.031902  0.072215  ...  0.026327  0.051485   \n",
       "...            ...       ...       ...       ...  ...       ...       ...   \n",
       "6901             5  0.168732  0.119193  0.382712  ...  0.221143  0.306118   \n",
       "6902             5  0.282160  0.310405  0.046911  ...  0.056053  0.235610   \n",
       "6903             5  0.000856  0.136307  0.297282  ...  0.093029  0.040322   \n",
       "6904             5  0.133147  0.150910  0.033321  ...  0.005379  0.094346   \n",
       "6905             5  0.021429  0.205977  0.185511  ...  0.257590  0.033208   \n",
       "\n",
       "       value_6   value_7   value_8   value_9  value_mean  values_std  \\\n",
       "0     0.049959  0.083155  0.038823  0.071860    0.056468    0.019296   \n",
       "1     0.027834  0.039571  0.049074  0.025036    0.051177    0.029457   \n",
       "2     0.049959  0.083155  0.038823  0.071860    0.056468    0.019296   \n",
       "3     0.027834  0.039571  0.049074  0.025036    0.051177    0.029457   \n",
       "4     0.049959  0.083155  0.038823  0.071860    0.056468    0.019296   \n",
       "...        ...       ...       ...       ...         ...         ...   \n",
       "6901  0.133829  0.069731  0.021349  0.306654    0.180958    0.113130   \n",
       "6902  0.185094  0.237833  0.098621  0.226858    0.188058    0.086944   \n",
       "6903  0.169211  0.004483  0.087137  0.031249    0.086141    0.089588   \n",
       "6904  0.064461  0.094471  0.003258  0.029948    0.064763    0.049052   \n",
       "6905  0.126084  0.059172  0.164633  0.228433    0.134989    0.081131   \n",
       "\n",
       "         value   copy  \n",
       "0     0.056468  False  \n",
       "1     0.051177  False  \n",
       "2     0.056468  False  \n",
       "3     0.051177  False  \n",
       "4     0.056468  False  \n",
       "...        ...    ...  \n",
       "6901  0.180958  False  \n",
       "6902  0.188058  False  \n",
       "6903  0.086141  False  \n",
       "6904  0.064763  False  \n",
       "6905  0.134989  False  \n",
       "\n",
       "[6580 rows x 21 columns]"
      ]
     },
     "execution_count": 28,
     "metadata": {},
     "output_type": "execute_result"
    }
   ],
   "source": [
    "importance_df[\"copy\"] = importance_df.apply(lambda x: True if x[\"source name\"] == x[\"target name\"] else False, axis=1)\n",
    "importance_df = importance_df[importance_df[\"copy\"] == False]\n",
    "importance_df"
   ]
  },
  {
   "cell_type": "code",
   "execution_count": 29,
   "metadata": {},
   "outputs": [],
   "source": [
    "importance_df_copy = importance_df.groupby([\"source name\", \"source layer\", \"target layer\"], as_index=False).mean(numeric_only=True)\n",
    "mean_ranks = []\n",
    "std_ranks = []\n",
    "source_layer = []\n",
    "sources = []\n",
    "for layer in range(binn.n_layers):\n",
    "    layer_df = importance_df_copy[importance_df_copy[\"source layer\"] == layer].copy()\n",
    "    for i in range(n_iterations):\n",
    "        layer_df.sort_values(f\"value_{i}\", ascending=False, inplace=True)\n",
    "        layer_df[f\"rank_{i}\"] = range(len(layer_df.index))\n",
    "    rank_cols = [c for c in layer_df.columns if c.startswith(\"rank\")]\n",
    "    mean_ranks += (layer_df[rank_cols].mean(axis=1)/ len(layer_df.index)).tolist()\n",
    "    sources += layer_df[\"source name\"].tolist()\n",
    "    std_ranks  += (layer_df[rank_cols].std(axis=1)/ len(layer_df.index)).tolist()\n",
    "    source_layer += layer_df[\"source layer\"].tolist()\n",
    "plot_df = pd.DataFrame({\"mean\":mean_ranks, \"std\":std_ranks, \"source layer\":source_layer, \"source\":sources})"
   ]
  },
  {
   "cell_type": "code",
   "execution_count": 30,
   "metadata": {},
   "outputs": [
    {
     "data": {
      "text/html": [
       "<div>\n",
       "<style scoped>\n",
       "    .dataframe tbody tr th:only-of-type {\n",
       "        vertical-align: middle;\n",
       "    }\n",
       "\n",
       "    .dataframe tbody tr th {\n",
       "        vertical-align: top;\n",
       "    }\n",
       "\n",
       "    .dataframe thead th {\n",
       "        text-align: right;\n",
       "    }\n",
       "</style>\n",
       "<table border=\"1\" class=\"dataframe\">\n",
       "  <thead>\n",
       "    <tr style=\"text-align: right;\">\n",
       "      <th></th>\n",
       "      <th>mean</th>\n",
       "      <th>std</th>\n",
       "      <th>source layer</th>\n",
       "      <th>source</th>\n",
       "    </tr>\n",
       "  </thead>\n",
       "  <tbody>\n",
       "    <tr>\n",
       "      <th>0</th>\n",
       "      <td>0.000223</td>\n",
       "      <td>0.000704</td>\n",
       "      <td>0</td>\n",
       "      <td>P04114</td>\n",
       "    </tr>\n",
       "    <tr>\n",
       "      <th>449</th>\n",
       "      <td>0.003257</td>\n",
       "      <td>0.005093</td>\n",
       "      <td>1</td>\n",
       "      <td>R-HSA-140534</td>\n",
       "    </tr>\n",
       "    <tr>\n",
       "      <th>450</th>\n",
       "      <td>0.004886</td>\n",
       "      <td>0.008986</td>\n",
       "      <td>1</td>\n",
       "      <td>R-HSA-975634</td>\n",
       "    </tr>\n",
       "    <tr>\n",
       "      <th>2</th>\n",
       "      <td>0.006682</td>\n",
       "      <td>0.005035</td>\n",
       "      <td>0</td>\n",
       "      <td>P02647</td>\n",
       "    </tr>\n",
       "    <tr>\n",
       "      <th>1</th>\n",
       "      <td>0.007572</td>\n",
       "      <td>0.009344</td>\n",
       "      <td>0</td>\n",
       "      <td>P08571</td>\n",
       "    </tr>\n",
       "    <tr>\n",
       "      <th>756</th>\n",
       "      <td>0.008108</td>\n",
       "      <td>0.015492</td>\n",
       "      <td>2</td>\n",
       "      <td>R-HSA-5357769</td>\n",
       "    </tr>\n",
       "    <tr>\n",
       "      <th>10</th>\n",
       "      <td>0.017372</td>\n",
       "      <td>0.013641</td>\n",
       "      <td>0</td>\n",
       "      <td>Q9UBR2</td>\n",
       "    </tr>\n",
       "    <tr>\n",
       "      <th>6</th>\n",
       "      <td>0.020713</td>\n",
       "      <td>0.014243</td>\n",
       "      <td>0</td>\n",
       "      <td>P04908</td>\n",
       "    </tr>\n",
       "    <tr>\n",
       "      <th>5</th>\n",
       "      <td>0.021604</td>\n",
       "      <td>0.010812</td>\n",
       "      <td>0</td>\n",
       "      <td>P68871</td>\n",
       "    </tr>\n",
       "    <tr>\n",
       "      <th>22</th>\n",
       "      <td>0.022049</td>\n",
       "      <td>0.013907</td>\n",
       "      <td>0</td>\n",
       "      <td>P02452</td>\n",
       "    </tr>\n",
       "    <tr>\n",
       "      <th>9</th>\n",
       "      <td>0.023608</td>\n",
       "      <td>0.009461</td>\n",
       "      <td>0</td>\n",
       "      <td>P06727</td>\n",
       "    </tr>\n",
       "    <tr>\n",
       "      <th>759</th>\n",
       "      <td>0.023938</td>\n",
       "      <td>0.027350</td>\n",
       "      <td>2</td>\n",
       "      <td>R-HSA-8957275</td>\n",
       "    </tr>\n",
       "    <tr>\n",
       "      <th>8</th>\n",
       "      <td>0.027171</td>\n",
       "      <td>0.032645</td>\n",
       "      <td>0</td>\n",
       "      <td>P00734</td>\n",
       "    </tr>\n",
       "    <tr>\n",
       "      <th>4</th>\n",
       "      <td>0.030290</td>\n",
       "      <td>0.016673</td>\n",
       "      <td>0</td>\n",
       "      <td>P10451</td>\n",
       "    </tr>\n",
       "    <tr>\n",
       "      <th>757</th>\n",
       "      <td>0.030888</td>\n",
       "      <td>0.047706</td>\n",
       "      <td>2</td>\n",
       "      <td>R-HSA-212436</td>\n",
       "    </tr>\n",
       "    <tr>\n",
       "      <th>13</th>\n",
       "      <td>0.036080</td>\n",
       "      <td>0.021202</td>\n",
       "      <td>0</td>\n",
       "      <td>P13611</td>\n",
       "    </tr>\n",
       "    <tr>\n",
       "      <th>29</th>\n",
       "      <td>0.037194</td>\n",
       "      <td>0.038691</td>\n",
       "      <td>0</td>\n",
       "      <td>Q96A08</td>\n",
       "    </tr>\n",
       "    <tr>\n",
       "      <th>538</th>\n",
       "      <td>0.037785</td>\n",
       "      <td>0.089036</td>\n",
       "      <td>1</td>\n",
       "      <td>R-HSA-114608</td>\n",
       "    </tr>\n",
       "    <tr>\n",
       "      <th>3</th>\n",
       "      <td>0.038085</td>\n",
       "      <td>0.077845</td>\n",
       "      <td>0</td>\n",
       "      <td>P60709</td>\n",
       "    </tr>\n",
       "    <tr>\n",
       "      <th>12</th>\n",
       "      <td>0.039644</td>\n",
       "      <td>0.033561</td>\n",
       "      <td>0</td>\n",
       "      <td>P07998</td>\n",
       "    </tr>\n",
       "  </tbody>\n",
       "</table>\n",
       "</div>"
      ],
      "text/plain": [
       "         mean       std  source layer         source\n",
       "0    0.000223  0.000704             0         P04114\n",
       "449  0.003257  0.005093             1   R-HSA-140534\n",
       "450  0.004886  0.008986             1   R-HSA-975634\n",
       "2    0.006682  0.005035             0         P02647\n",
       "1    0.007572  0.009344             0         P08571\n",
       "756  0.008108  0.015492             2  R-HSA-5357769\n",
       "10   0.017372  0.013641             0         Q9UBR2\n",
       "6    0.020713  0.014243             0         P04908\n",
       "5    0.021604  0.010812             0         P68871\n",
       "22   0.022049  0.013907             0         P02452\n",
       "9    0.023608  0.009461             0         P06727\n",
       "759  0.023938  0.027350             2  R-HSA-8957275\n",
       "8    0.027171  0.032645             0         P00734\n",
       "4    0.030290  0.016673             0         P10451\n",
       "757  0.030888  0.047706             2   R-HSA-212436\n",
       "13   0.036080  0.021202             0         P13611\n",
       "29   0.037194  0.038691             0         Q96A08\n",
       "538  0.037785  0.089036             1   R-HSA-114608\n",
       "3    0.038085  0.077845             0         P60709\n",
       "12   0.039644  0.033561             0         P07998"
      ]
     },
     "execution_count": 30,
     "metadata": {},
     "output_type": "execute_result"
    }
   ],
   "source": [
    "plot_df.sort_values(\"mean\").head(20)"
   ]
  },
  {
   "cell_type": "markdown",
   "metadata": {},
   "source": [
    "If we now plot the (normalized) mean and standard deviation of the rank, we see that highly important features generally have a low standard deviation. We can therefore be the most certain about the most important features."
   ]
  },
  {
   "cell_type": "code",
   "execution_count": 31,
   "metadata": {},
   "outputs": [
    {
     "data": {
      "text/plain": [
       "<seaborn.axisgrid.JointGrid at 0x2d9c03520>"
      ]
     },
     "execution_count": 31,
     "metadata": {},
     "output_type": "execute_result"
    },
    {
     "data": {
      "image/png": "[encoded data removed]",
      "text/plain": [
       "<Figure size 600x600 with 3 Axes>"
      ]
     },
     "metadata": {},
     "output_type": "display_data"
    }
   ],
   "source": [
    "import seaborn as sns\n",
    "\n",
    "\n",
    "sns.jointplot(plot_df, y=\"mean\", x=\"std\", hue=\"source layer\", palette=\"coolwarm\")\n",
    "\n"
   ]
  },
  {
   "cell_type": "code",
   "execution_count": 32,
   "metadata": {},
   "outputs": [],
   "source": [
    "from binn import ImportanceNetwork\n",
    "\n",
    "IG = ImportanceNetwork(importance_df, norm_method=\"fan\")\n"
   ]
  },
  {
   "cell_type": "code",
   "execution_count": 33,
   "metadata": {},
   "outputs": [
    {
     "data": {
      "application/vnd.plotly.v1+json": {
       "config": {
        "plotlyServerURL": "https://plot.ly"
       },
       "data": [
        {
         "arrangement": "snap",
         "link": {
          "color": [
           "rgba(191.0, 91.0, 22.999999999999996, 0.3)",
           "rgba(102.0, 102.0, 102.0, 0.3)",
           "rgba(102.0, 102.0, 102.0, 0.3)",
           "rgba(191.0, 91.0, 22.999999999999996, 0.3)",
           "rgba(240.0, 2.0, 127.0, 0.3)",
           "rgba(191.0, 91.0, 22.999999999999996, 0.3)",
           "rgba(240.0, 2.0, 127.0, 0.3)",
           "rgba(191.0, 91.0, 22.999999999999996, 0.3)",
           "rgba(191.0, 91.0, 22.999999999999996, 0.3)",
           "rgba(191.0, 91.0, 22.999999999999996, 0.3)",
           "rgba(127.0, 201.0, 127.0, 0.3)",
           "rgba(253.0, 192.0, 134.0, 0.3)",
           "rgba(127.0, 201.0, 127.0, 0.3)",
           "rgba(253.0, 192.0, 134.0, 0.3)",
           "rgba(255.0, 255.0, 153.0, 0.3)",
           "rgba(255.0, 255.0, 153.0, 0.3)",
           "rgba(127.0, 201.0, 127.0, 0.3)",
           "rgba(191.0, 91.0, 22.999999999999996, 0.3)",
           "rgba(102.0, 102.0, 102.0, 0.3)",
           "rgba(102.0, 102.0, 102.0, 0.3)",
           "rgba(255.0, 255.0, 153.0, 0.3)",
           "rgba(240.0, 2.0, 127.0, 0.3)",
           "rgba(191.0, 91.0, 22.999999999999996, 0.3)",
           "rgba(102.0, 102.0, 102.0, 0.3)",
           "rgba(102.0, 102.0, 102.0, 0.3)",
           "rgba(102.0, 102.0, 102.0, 0.3)",
           "rgba(191.0, 91.0, 22.999999999999996, 0.3)",
           "rgba(127.0, 201.0, 127.0, 0.3)",
           "rgba(191.0, 91.0, 22.999999999999996, 0.3)",
           "rgba(191.0, 91.0, 22.999999999999996, 0.3)",
           "rgba(240.0, 2.0, 127.0, 0.3)",
           "rgba(102.0, 102.0, 102.0, 0.3)",
           "rgba(240.0, 2.0, 127.0, 0.3)",
           "rgba(191.0, 91.0, 22.999999999999996, 0.3)",
           "rgba(56.0, 108.0, 176.0, 0.3)",
           "rgba(240.0, 2.0, 127.0, 0.3)",
           "rgba(56.0, 108.0, 176.0, 0.3)",
           "rgba(56.0, 108.0, 176.0, 0.3)",
           "rgba(191.0, 91.0, 22.999999999999996, 0.3)",
           "rgba(191.0, 91.0, 22.999999999999996, 0.3)",
           "rgba(255.0, 255.0, 153.0, 0.3)",
           "rgba(255.0, 255.0, 153.0, 0.3)",
           "rgba(127.0, 201.0, 127.0, 0.3)",
           "rgba(240.0, 2.0, 127.0, 0.3)",
           "rgba(240.0, 2.0, 127.0, 0.3)",
           "rgba(255.0, 255.0, 153.0, 0.3)",
           "rgba(191.0, 91.0, 22.999999999999996, 0.3)",
           "rgba(102.0, 102.0, 102.0, 0.3)",
           "rgba(240.0, 2.0, 127.0, 0.3)",
           "rgb(236,236,236, 0.3)",
           "rgba(102.0, 102.0, 102.0, 0.3)",
           "rgba(191.0, 91.0, 22.999999999999996, 0.3)",
           "rgba(127.0, 201.0, 127.0, 0.3)",
           "rgba(56.0, 108.0, 176.0, 0.3)",
           "rgba(191.0, 91.0, 22.999999999999996, 0.3)",
           "rgb(236,236,236, 0.3)",
           "rgb(236,236,236, 0.3)",
           "rgb(236,236,236, 0.3)",
           "rgb(236,236,236, 0.3)",
           "rgb(236,236,236, 0.3)",
           "rgb(236,236,236, 0.3)",
           "rgb(236,236,236, 0.3)",
           "rgb(236,236,236, 0.3)",
           "rgb(236,236,236, 0.3)",
           "rgb(236,236,236, 0.3)",
           "rgb(236,236,236, 0.3)",
           "rgb(236,236,236, 0.3)",
           "rgb(236,236,236, 0.3)",
           "rgb(236,236,236, 0.3)",
           "rgb(236,236,236, 0.3)",
           "rgba(127.0, 201.0, 127.0, 0.3)",
           "rgba(127.0, 201.0, 127.0, 0.3)",
           "rgb(236,236,236, 0.3)",
           "rgb(236,236,236, 0.3)",
           "rgb(236,236,236, 0.3)",
           "rgb(236,236,236, 0.3)",
           "rgb(236,236,236, 0.3)",
           "rgb(236,236,236, 0.3)",
           "rgb(236,236,236, 0.3)",
           "rgb(236,236,236, 0.3)",
           "rgb(236,236,236, 0.3)",
           "rgb(236,236,236, 0.3)",
           "rgb(236,236,236, 0.3)",
           "rgb(236,236,236, 0.3)",
           "rgb(236,236,236, 0.3)",
           "rgb(236,236,236, 0.3)",
           "rgb(236,236,236, 0.3)",
           "rgb(236,236,236, 0.3)",
           "rgb(236,236,236, 0.3)",
           "rgb(236,236,236, 0.3)",
           "rgba(102.0, 102.0, 102.0, 0.3)"
          ],
          "source": [
           1,
           2,
           3,
           4,
           5,
           6,
           7,
           8,
           8,
           9,
           10,
           11,
           12,
           13,
           14,
           15,
           16,
           17,
           18,
           18,
           19,
           20,
           21,
           22,
           23,
           23,
           24,
           25,
           26,
           26,
           27,
           28,
           29,
           30,
           31,
           32,
           33,
           33,
           34,
           35,
           36,
           36,
           37,
           38,
           39,
           40,
           41,
           42,
           43,
           44,
           45,
           46,
           47,
           48,
           49,
           50,
           50,
           50,
           50,
           50,
           50,
           50,
           50,
           50,
           50,
           51,
           51,
           51,
           51,
           51,
           52,
           52,
           53,
           53,
           53,
           53,
           53,
           53,
           53,
           53,
           53,
           53,
           54,
           54,
           54,
           54,
           54,
           54,
           54,
           54,
           55
          ],
          "target": [
           54,
           51,
           54,
           53,
           0,
           53,
           0,
           30,
           31,
           0,
           0,
           51,
           13,
           15,
           0,
           0,
           0,
           5,
           51,
           8,
           0,
           0,
           0,
           54,
           54,
           35,
           10,
           44,
           51,
           3,
           43,
           51,
           16,
           53,
           21,
           19,
           51,
           37,
           53,
           47,
           51,
           8,
           12,
           51,
           27,
           49,
           53,
           54,
           44,
           0,
           54,
           25,
           44,
           51,
           5,
           8,
           55,
           23,
           45,
           3,
           1,
           22,
           39,
           41,
           42,
           40,
           35,
           6,
           34,
           46,
           51,
           8,
           10,
           7,
           20,
           16,
           5,
           14,
           15,
           9,
           19,
           21,
           13,
           49,
           24,
           32,
           17,
           29,
           31,
           25,
           4
          ],
          "value": [
           0.08167593424780178,
           0.02366334214439889,
           0.06415659321914054,
           0.0734597569434036,
           0.08439110811660445,
           0.07517999887382446,
           0.08325039922871809,
           0.10298684002496228,
           0.05039925384940081,
           0.07735786525374423,
           0.13403360992588534,
           0.09618648538938576,
           0.20885723086460967,
           0.11957532483356215,
           0.10424804024845792,
           0.10137837159510461,
           0.14071319200788682,
           0.07775830600251842,
           0.0469268582841672,
           0.0117317145710418,
           0.10353785740832643,
           0.09138042271592765,
           0.07970913349934448,
           0.06396018080343177,
           0.0561295308249624,
           0.0561295308249624,
           0.07744906021014127,
           0.13895056365109135,
           0.05602391269876528,
           0.01400597817469132,
           0.09355223703687479,
           0.03253426005439991,
           0.08917064520374664,
           0.0774816495330264,
           0.09710561081545163,
           0.08979531229355453,
           0.1197214252310325,
           0.013302380581225834,
           0.07594165888623988,
           0.07200492522625267,
           0.16427283136954585,
           0.010267051960596615,
           0.27525272384117927,
           0.05395204281641381,
           0.12329239867226259,
           0.13393737033684855,
           0.07024604917997748,
           0.05927506090806803,
           0.08561722339377636,
           0.09999999999999999,
           0.06248326482333478,
           0.06893986926954175,
           0.14383179664885273,
           0.07848701776042198,
           0.08074615694730505,
           0.032444481022204215,
           0.01787019978053165,
           0.007596259906019153,
           0.009954576391986738,
           0.006253903850301505,
           0.0045615620520456195,
           0.005015094836256671,
           0.006604456297321927,
           0.0033789387819388723,
           0.006320527081393657,
           0.010117171123239583,
           0.04469944439103138,
           0.00953986625463226,
           0.013616519410671723,
           0.02202699882042507,
           0.263428882354807,
           0.015495816609106292,
           0.007445600389333749,
           0.02318489151285188,
           0.011130654550377317,
           0.005549847476872548,
           0.006834382416025071,
           0.015618002711052856,
           0.0006495360632052969,
           0.02151399100525092,
           0.004328607386350519,
           0.0037444864886798253,
           0.0078063293001236,
           0.005757940388701753,
           0.023242722701713094,
           0.02877735485252941,
           0.0087955484598148,
           0.013168396656920206,
           0.0018707274362933998,
           0.010580980203903731,
           0.054657941809894105
          ]
         },
         "node": {
          "color": [
           "rgba(0,0,0,1)",
           "rgba(191.0, 91.0, 22.999999999999996, 0.75)",
           "rgba(102.0, 102.0, 102.0, 0.75)",
           "rgba(102.0, 102.0, 102.0, 0.75)",
           "rgba(191.0, 91.0, 22.999999999999996, 0.75)",
           "rgba(240.0, 2.0, 127.0, 0.75)",
           "rgba(191.0, 91.0, 22.999999999999996, 0.75)",
           "rgba(240.0, 2.0, 127.0, 0.75)",
           "rgba(191.0, 91.0, 22.999999999999996, 0.75)",
           "rgba(191.0, 91.0, 22.999999999999996, 0.75)",
           "rgba(127.0, 201.0, 127.0, 0.75)",
           "rgba(253.0, 192.0, 134.0, 0.75)",
           "rgba(127.0, 201.0, 127.0, 0.75)",
           "rgba(253.0, 192.0, 134.0, 0.75)",
           "rgba(255.0, 255.0, 153.0, 0.75)",
           "rgba(255.0, 255.0, 153.0, 0.75)",
           "rgba(127.0, 201.0, 127.0, 0.75)",
           "rgba(191.0, 91.0, 22.999999999999996, 0.75)",
           "rgba(102.0, 102.0, 102.0, 0.75)",
           "rgba(255.0, 255.0, 153.0, 0.75)",
           "rgba(240.0, 2.0, 127.0, 0.75)",
           "rgba(191.0, 91.0, 22.999999999999996, 0.75)",
           "rgba(102.0, 102.0, 102.0, 0.75)",
           "rgba(102.0, 102.0, 102.0, 0.75)",
           "rgba(191.0, 91.0, 22.999999999999996, 0.75)",
           "rgba(127.0, 201.0, 127.0, 0.75)",
           "rgba(191.0, 91.0, 22.999999999999996, 0.75)",
           "rgba(240.0, 2.0, 127.0, 0.75)",
           "rgba(102.0, 102.0, 102.0, 0.75)",
           "rgba(240.0, 2.0, 127.0, 0.75)",
           "rgba(191.0, 91.0, 22.999999999999996, 0.75)",
           "rgba(56.0, 108.0, 176.0, 0.75)",
           "rgba(240.0, 2.0, 127.0, 0.75)",
           "rgba(56.0, 108.0, 176.0, 0.75)",
           "rgba(191.0, 91.0, 22.999999999999996, 0.75)",
           "rgba(191.0, 91.0, 22.999999999999996, 0.75)",
           "rgba(255.0, 255.0, 153.0, 0.75)",
           "rgba(127.0, 201.0, 127.0, 0.75)",
           "rgba(240.0, 2.0, 127.0, 0.75)",
           "rgba(240.0, 2.0, 127.0, 0.75)",
           "rgba(255.0, 255.0, 153.0, 0.75)",
           "rgba(191.0, 91.0, 22.999999999999996, 0.75)",
           "rgba(102.0, 102.0, 102.0, 0.75)",
           "rgba(240.0, 2.0, 127.0, 0.75)",
           "rgb(236,236,236, 0.75)",
           "rgba(102.0, 102.0, 102.0, 0.75)",
           "rgba(191.0, 91.0, 22.999999999999996, 0.75)",
           "rgba(127.0, 201.0, 127.0, 0.75)",
           "rgba(56.0, 108.0, 176.0, 0.75)",
           "rgba(191.0, 91.0, 22.999999999999996, 0.75)",
           "rgb(236,236,236, 0.75)",
           "rgb(236,236,236, 0.75)",
           "rgba(127.0, 201.0, 127.0, 0.75)",
           "rgb(236,236,236, 0.75)",
           "rgb(236,236,236, 0.75)",
           "rgba(102.0, 102.0, 102.0, 0.75)"
          ],
          "label": [
           "Output",
           "R-HSA-72163",
           "P19823",
           "R-HSA-432720",
           "R-HSA-421270",
           "R-HSA-109582",
           "R-HSA-500792",
           "R-HSA-1474244",
           "R-HSA-975634",
           "R-HSA-1643685",
           "R-HSA-168256",
           "P00734",
           "R-HSA-5357769",
           "R-HSA-109581",
           "R-HSA-392499",
           "R-HSA-5357801",
           "R-HSA-5653656",
           "R-HSA-140877",
           "P06727",
           "R-HSA-8953897",
           "R-HSA-9612973",
           "R-HSA-9709957",
           "R-HSA-2142845",
           "R-HSA-2173793",
           "R-HSA-168249",
           "R-HSA-174824",
           "Q9UBR2",
           "R-HSA-5696399",
           "P07998",
           "R-HSA-2173782",
           "R-HSA-6806667",
           "R-HSA-2187338",
           "R-HSA-2262752",
           "P08571",
           "R-HSA-69615",
           "R-HSA-212436",
           "P02647",
           "R-HSA-140534",
           "P10451",
           "R-HSA-5696394",
           "R-HSA-76005",
           "R-HSA-3214841",
           "R-HSA-6806942",
           "R-HSA-5696398",
           "Other connections 5",
           "R-HSA-381033",
           "R-HSA-8963898",
           "R-HSA-73857",
           "P68871",
           "R-HSA-76002",
           "Other connections 1",
           "Other connections 2",
           "P04114",
           "Other connections 4",
           "Other connections 3",
           "R-HSA-418990"
          ],
          "line": {
           "color": "white",
           "width": 0
          },
          "pad": 15,
          "thickness": 15,
          "x": [
           0.85,
           [
            0.16833333333333333
           ],
           [
            0.0016666666666666668
           ],
           [
            0.16833333333333333
           ],
           [
            0.33499999999999996
           ],
           [
            0.6683333333333333
           ],
           [
            0.33499999999999996
           ],
           [
            0.6683333333333333
           ],
           [
            0.16833333333333333
           ],
           [
            0.6683333333333333
           ],
           [
            0.6683333333333333
           ],
           [
            0.0016666666666666668
           ],
           [
            0.33499999999999996
           ],
           [
            0.5016666666666666
           ],
           [
            0.6683333333333333
           ],
           [
            0.6683333333333333
           ],
           [
            0.6683333333333333
           ],
           [
            0.5016666666666666
           ],
           [
            0.0016666666666666668
           ],
           [
            0.6683333333333333
           ],
           [
            0.6683333333333333
           ],
           [
            0.6683333333333333
           ],
           [
            0.16833333333333333
           ],
           [
            0.16833333333333333
           ],
           [
            0.5016666666666666
           ],
           [
            0.5016666666666666
           ],
           [
            0.0016666666666666668
           ],
           [
            0.33499999999999996
           ],
           [
            0.0016666666666666668
           ],
           [
            0.5016666666666666
           ],
           [
            0.33499999999999996
           ],
           [
            0.5016666666666666
           ],
           [
            0.5016666666666666
           ],
           [
            0.0016666666666666668
           ],
           [
            0.33499999999999996
           ],
           [
            0.33499999999999996
           ],
           [
            0.0016666666666666668
           ],
           [
            0.16833333333333333
           ],
           [
            0.0016666666666666668
           ],
           [
            0.16833333333333333
           ],
           [
            0.33499999999999996
           ],
           [
            0.33499999999999996
           ],
           [
            0.16833333333333333
           ],
           [
            0.5016666666666666
           ],
           [
            0.6683333333333333
           ],
           [
            0.16833333333333333
           ],
           [
            0.33499999999999996
           ],
           [
            0.5016666666666666
           ],
           [
            0.0016666666666666668
           ],
           [
            0.5016666666666666
           ],
           [
            0.0016666666666666668
           ],
           [
            0.16833333333333333
           ],
           [
            0.0016666666666666668
           ],
           [
            0.5016666666666666
           ],
           [
            0.33499999999999996
           ],
           [
            0.16833333333333333
           ]
          ],
          "y": [
           0.5,
           [
            0.21755555555555556
           ],
           [
            0.7508888888888888
           ],
           [
            0.30644444444444446
           ],
           [
            0.48422222222222217
           ],
           [
            0.48422222222222217
           ],
           [
            0.39533333333333337
           ],
           [
            0.5731111111111111
           ],
           [
            0.12866666666666665
           ],
           [
            0.7508888888888888
           ],
           [
            0.03977777777777776
           ],
           [
            0.03977777777777776
           ],
           [
            -0.04911111111111113
           ],
           [
            0.12866666666666665
           ],
           [
            0.12866666666666665
           ],
           [
            0.30644444444444446
           ],
           [
            -0.04911111111111113
           ],
           [
            0.662
           ],
           [
            0.662
           ],
           [
            0.21755555555555556
           ],
           [
            0.39533333333333337
           ],
           [
            0.662
           ],
           [
            0.39533333333333337
           ],
           [
            0.662
           ],
           [
            0.7508888888888888
           ],
           [
            0.03977777777777776
           ],
           [
            0.48422222222222217
           ],
           [
            0.12866666666666665
           ],
           [
            0.5731111111111111
           ],
           [
            0.39533333333333337
           ],
           [
            0.21755555555555556
           ],
           [
            0.21755555555555556
           ],
           [
            0.30644444444444446
           ],
           [
            0.30644444444444446
           ],
           [
            0.30644444444444446
           ],
           [
            0.5731111111111111
           ],
           [
            0.12866666666666665
           ],
           [
            -0.04911111111111113
           ],
           [
            0.39533333333333337
           ],
           [
            0.03977777777777776
           ],
           [
            0.03977777777777776
           ],
           [
            0.662
           ],
           [
            0.5731111111111111
           ],
           [
            0.48422222222222217
           ],
           [
            0.9
           ],
           [
            0.48422222222222217
           ],
           [
            0.7508888888888888
           ],
           [
            -0.04911111111111113
           ],
           [
            0.21755555555555556
           ],
           [
            0.5731111111111111
           ],
           [
            0.9
           ],
           [
            0.9
           ],
           [
            -0.04911111111111113
           ],
           [
            0.9
           ],
           [
            0.9
           ],
           [
            0.7508888888888888
           ]
          ]
         },
         "orientation": "h",
         "textfont": {
          "family": "Arial",
          "size": 15
         },
         "type": "sankey"
        }
       ],
       "layout": {
        "template": {
         "data": {
          "bar": [
           {
            "error_x": {
             "color": "#2a3f5f"
            },
            "error_y": {
             "color": "#2a3f5f"
            },
            "marker": {
             "line": {
              "color": "#E5ECF6",
              "width": 0.5
             },
             "pattern": {
              "fillmode": "overlay",
              "size": 10,
              "solidity": 0.2
             }
            },
            "type": "bar"
           }
          ],
          "barpolar": [
           {
            "marker": {
             "line": {
              "color": "#E5ECF6",
              "width": 0.5
             },
             "pattern": {
              "fillmode": "overlay",
              "size": 10,
              "solidity": 0.2
             }
            },
            "type": "barpolar"
           }
          ],
          "carpet": [
           {
            "aaxis": {
             "endlinecolor": "#2a3f5f",
             "gridcolor": "white",
             "linecolor": "white",
             "minorgridcolor": "white",
             "startlinecolor": "#2a3f5f"
            },
            "baxis": {
             "endlinecolor": "#2a3f5f",
             "gridcolor": "white",
             "linecolor": "white",
             "minorgridcolor": "white",
             "startlinecolor": "#2a3f5f"
            },
            "type": "carpet"
           }
          ],
          "choropleth": [
           {
            "colorbar": {
             "outlinewidth": 0,
             "ticks": ""
            },
            "type": "choropleth"
           }
          ],
          "contour": [
           {
            "colorbar": {
             "outlinewidth": 0,
             "ticks": ""
            },
            "colorscale": [
             [
              0,
              "#0d0887"
             ],
             [
              0.1111111111111111,
              "#46039f"
             ],
             [
              0.2222222222222222,
              "#7201a8"
             ],
             [
              0.3333333333333333,
              "#9c179e"
             ],
             [
              0.4444444444444444,
              "#bd3786"
             ],
             [
              0.5555555555555556,
              "#d8576b"
             ],
             [
              0.6666666666666666,
              "#ed7953"
             ],
             [
              0.7777777777777778,
              "#fb9f3a"
             ],
             [
              0.8888888888888888,
              "#fdca26"
             ],
             [
              1,
              "#f0f921"
             ]
            ],
            "type": "contour"
           }
          ],
          "contourcarpet": [
           {
            "colorbar": {
             "outlinewidth": 0,
             "ticks": ""
            },
            "type": "contourcarpet"
           }
          ],
          "heatmap": [
           {
            "colorbar": {
             "outlinewidth": 0,
             "ticks": ""
            },
            "colorscale": [
             [
              0,
              "#0d0887"
             ],
             [
              0.1111111111111111,
              "#46039f"
             ],
             [
              0.2222222222222222,
              "#7201a8"
             ],
             [
              0.3333333333333333,
              "#9c179e"
             ],
             [
              0.4444444444444444,
              "#bd3786"
             ],
             [
              0.5555555555555556,
              "#d8576b"
             ],
             [
              0.6666666666666666,
              "#ed7953"
             ],
             [
              0.7777777777777778,
              "#fb9f3a"
             ],
             [
              0.8888888888888888,
              "#fdca26"
             ],
             [
              1,
              "#f0f921"
             ]
            ],
            "type": "heatmap"
           }
          ],
          "heatmapgl": [
           {
            "colorbar": {
             "outlinewidth": 0,
             "ticks": ""
            },
            "colorscale": [
             [
              0,
              "#0d0887"
             ],
             [
              0.1111111111111111,
              "#46039f"
             ],
             [
              0.2222222222222222,
              "#7201a8"
             ],
             [
              0.3333333333333333,
              "#9c179e"
             ],
             [
              0.4444444444444444,
              "#bd3786"
             ],
             [
              0.5555555555555556,
              "#d8576b"
             ],
             [
              0.6666666666666666,
              "#ed7953"
             ],
             [
              0.7777777777777778,
              "#fb9f3a"
             ],
             [
              0.8888888888888888,
              "#fdca26"
             ],
             [
              1,
              "#f0f921"
             ]
            ],
            "type": "heatmapgl"
           }
          ],
          "histogram": [
           {
            "marker": {
             "pattern": {
              "fillmode": "overlay",
              "size": 10,
              "solidity": 0.2
             }
            },
            "type": "histogram"
           }
          ],
          "histogram2d": [
           {
            "colorbar": {
             "outlinewidth": 0,
             "ticks": ""
            },
            "colorscale": [
             [
              0,
              "#0d0887"
             ],
             [
              0.1111111111111111,
              "#46039f"
             ],
             [
              0.2222222222222222,
              "#7201a8"
             ],
             [
              0.3333333333333333,
              "#9c179e"
             ],
             [
              0.4444444444444444,
              "#bd3786"
             ],
             [
              0.5555555555555556,
              "#d8576b"
             ],
             [
              0.6666666666666666,
              "#ed7953"
             ],
             [
              0.7777777777777778,
              "#fb9f3a"
             ],
             [
              0.8888888888888888,
              "#fdca26"
             ],
             [
              1,
              "#f0f921"
             ]
            ],
            "type": "histogram2d"
           }
          ],
          "histogram2dcontour": [
           {
            "colorbar": {
             "outlinewidth": 0,
             "ticks": ""
            },
            "colorscale": [
             [
              0,
              "#0d0887"
             ],
             [
              0.1111111111111111,
              "#46039f"
             ],
             [
              0.2222222222222222,
              "#7201a8"
             ],
             [
              0.3333333333333333,
              "#9c179e"
             ],
             [
              0.4444444444444444,
              "#bd3786"
             ],
             [
              0.5555555555555556,
              "#d8576b"
             ],
             [
              0.6666666666666666,
              "#ed7953"
             ],
             [
              0.7777777777777778,
              "#fb9f3a"
             ],
             [
              0.8888888888888888,
              "#fdca26"
             ],
             [
              1,
              "#f0f921"
             ]
            ],
            "type": "histogram2dcontour"
           }
          ],
          "mesh3d": [
           {
            "colorbar": {
             "outlinewidth": 0,
             "ticks": ""
            },
            "type": "mesh3d"
           }
          ],
          "parcoords": [
           {
            "line": {
             "colorbar": {
              "outlinewidth": 0,
              "ticks": ""
             }
            },
            "type": "parcoords"
           }
          ],
          "pie": [
           {
            "automargin": true,
            "type": "pie"
           }
          ],
          "scatter": [
           {
            "fillpattern": {
             "fillmode": "overlay",
             "size": 10,
             "solidity": 0.2
            },
            "type": "scatter"
           }
          ],
          "scatter3d": [
           {
            "line": {
             "colorbar": {
              "outlinewidth": 0,
              "ticks": ""
             }
            },
            "marker": {
             "colorbar": {
              "outlinewidth": 0,
              "ticks": ""
             }
            },
            "type": "scatter3d"
           }
          ],
          "scattercarpet": [
           {
            "marker": {
             "colorbar": {
              "outlinewidth": 0,
              "ticks": ""
             }
            },
            "type": "scattercarpet"
           }
          ],
          "scattergeo": [
           {
            "marker": {
             "colorbar": {
              "outlinewidth": 0,
              "ticks": ""
             }
            },
            "type": "scattergeo"
           }
          ],
          "scattergl": [
           {
            "marker": {
             "colorbar": {
              "outlinewidth": 0,
              "ticks": ""
             }
            },
            "type": "scattergl"
           }
          ],
          "scattermapbox": [
           {
            "marker": {
             "colorbar": {
              "outlinewidth": 0,
              "ticks": ""
             }
            },
            "type": "scattermapbox"
           }
          ],
          "scatterpolar": [
           {
            "marker": {
             "colorbar": {
              "outlinewidth": 0,
              "ticks": ""
             }
            },
            "type": "scatterpolar"
           }
          ],
          "scatterpolargl": [
           {
            "marker": {
             "colorbar": {
              "outlinewidth": 0,
              "ticks": ""
             }
            },
            "type": "scatterpolargl"
           }
          ],
          "scatterternary": [
           {
            "marker": {
             "colorbar": {
              "outlinewidth": 0,
              "ticks": ""
             }
            },
            "type": "scatterternary"
           }
          ],
          "surface": [
           {
            "colorbar": {
             "outlinewidth": 0,
             "ticks": ""
            },
            "colorscale": [
             [
              0,
              "#0d0887"
             ],
             [
              0.1111111111111111,
              "#46039f"
             ],
             [
              0.2222222222222222,
              "#7201a8"
             ],
             [
              0.3333333333333333,
              "#9c179e"
             ],
             [
              0.4444444444444444,
              "#bd3786"
             ],
             [
              0.5555555555555556,
              "#d8576b"
             ],
             [
              0.6666666666666666,
              "#ed7953"
             ],
             [
              0.7777777777777778,
              "#fb9f3a"
             ],
             [
              0.8888888888888888,
              "#fdca26"
             ],
             [
              1,
              "#f0f921"
             ]
            ],
            "type": "surface"
           }
          ],
          "table": [
           {
            "cells": {
             "fill": {
              "color": "#EBF0F8"
             },
             "line": {
              "color": "white"
             }
            },
            "header": {
             "fill": {
              "color": "#C8D4E3"
             },
             "line": {
              "color": "white"
             }
            },
            "type": "table"
           }
          ]
         },
         "layout": {
          "annotationdefaults": {
           "arrowcolor": "#2a3f5f",
           "arrowhead": 0,
           "arrowwidth": 1
          },
          "autotypenumbers": "strict",
          "coloraxis": {
           "colorbar": {
            "outlinewidth": 0,
            "ticks": ""
           }
          },
          "colorscale": {
           "diverging": [
            [
             0,
             "#8e0152"
            ],
            [
             0.1,
             "#c51b7d"
            ],
            [
             0.2,
             "#de77ae"
            ],
            [
             0.3,
             "#f1b6da"
            ],
            [
             0.4,
             "#fde0ef"
            ],
            [
             0.5,
             "#f7f7f7"
            ],
            [
             0.6,
             "#e6f5d0"
            ],
            [
             0.7,
             "#b8e186"
            ],
            [
             0.8,
             "#7fbc41"
            ],
            [
             0.9,
             "#4d9221"
            ],
            [
             1,
             "#276419"
            ]
           ],
           "sequential": [
            [
             0,
             "#0d0887"
            ],
            [
             0.1111111111111111,
             "#46039f"
            ],
            [
             0.2222222222222222,
             "#7201a8"
            ],
            [
             0.3333333333333333,
             "#9c179e"
            ],
            [
             0.4444444444444444,
             "#bd3786"
            ],
            [
             0.5555555555555556,
             "#d8576b"
            ],
            [
             0.6666666666666666,
             "#ed7953"
            ],
            [
             0.7777777777777778,
             "#fb9f3a"
            ],
            [
             0.8888888888888888,
             "#fdca26"
            ],
            [
             1,
             "#f0f921"
            ]
           ],
           "sequentialminus": [
            [
             0,
             "#0d0887"
            ],
            [
             0.1111111111111111,
             "#46039f"
            ],
            [
             0.2222222222222222,
             "#7201a8"
            ],
            [
             0.3333333333333333,
             "#9c179e"
            ],
            [
             0.4444444444444444,
             "#bd3786"
            ],
            [
             0.5555555555555556,
             "#d8576b"
            ],
            [
             0.6666666666666666,
             "#ed7953"
            ],
            [
             0.7777777777777778,
             "#fb9f3a"
            ],
            [
             0.8888888888888888,
             "#fdca26"
            ],
            [
             1,
             "#f0f921"
            ]
           ]
          },
          "colorway": [
           "#636efa",
           "#EF553B",
           "#00cc96",
           "#ab63fa",
           "#FFA15A",
           "#19d3f3",
           "#FF6692",
           "#B6E880",
           "#FF97FF",
           "#FECB52"
          ],
          "font": {
           "color": "#2a3f5f"
          },
          "geo": {
           "bgcolor": "white",
           "lakecolor": "white",
           "landcolor": "#E5ECF6",
           "showlakes": true,
           "showland": true,
           "subunitcolor": "white"
          },
          "hoverlabel": {
           "align": "left"
          },
          "hovermode": "closest",
          "mapbox": {
           "style": "light"
          },
          "paper_bgcolor": "white",
          "plot_bgcolor": "#E5ECF6",
          "polar": {
           "angularaxis": {
            "gridcolor": "white",
            "linecolor": "white",
            "ticks": ""
           },
           "bgcolor": "#E5ECF6",
           "radialaxis": {
            "gridcolor": "white",
            "linecolor": "white",
            "ticks": ""
           }
          },
          "scene": {
           "xaxis": {
            "backgroundcolor": "#E5ECF6",
            "gridcolor": "white",
            "gridwidth": 2,
            "linecolor": "white",
            "showbackground": true,
            "ticks": "",
            "zerolinecolor": "white"
           },
           "yaxis": {
            "backgroundcolor": "#E5ECF6",
            "gridcolor": "white",
            "gridwidth": 2,
            "linecolor": "white",
            "showbackground": true,
            "ticks": "",
            "zerolinecolor": "white"
           },
           "zaxis": {
            "backgroundcolor": "#E5ECF6",
            "gridcolor": "white",
            "gridwidth": 2,
            "linecolor": "white",
            "showbackground": true,
            "ticks": "",
            "zerolinecolor": "white"
           }
          },
          "shapedefaults": {
           "line": {
            "color": "#2a3f5f"
           }
          },
          "ternary": {
           "aaxis": {
            "gridcolor": "white",
            "linecolor": "white",
            "ticks": ""
           },
           "baxis": {
            "gridcolor": "white",
            "linecolor": "white",
            "ticks": ""
           },
           "bgcolor": "#E5ECF6",
           "caxis": {
            "gridcolor": "white",
            "linecolor": "white",
            "ticks": ""
           }
          },
          "title": {
           "x": 0.05
          },
          "xaxis": {
           "automargin": true,
           "gridcolor": "white",
           "linecolor": "white",
           "ticks": "",
           "title": {
            "standoff": 15
           },
           "zerolinecolor": "white",
           "zerolinewidth": 2
          },
          "yaxis": {
           "automargin": true,
           "gridcolor": "white",
           "linecolor": "white",
           "ticks": "",
           "title": {
            "standoff": 15
           },
           "zerolinecolor": "white",
           "zerolinewidth": 2
          }
         }
        }
       }
      }
     },
     "metadata": {},
     "output_type": "display_data"
    }
   ],
   "source": [
    "IG.plot_complete_sankey(\n",
    "    multiclass=False, savename=\"img/complete_sankey.png\", node_cmap=\"Accent_r\", edge_cmap=\"Accent_r\"\n",
    ")"
   ]
  },
  {
   "cell_type": "code",
   "execution_count": 34,
   "metadata": {},
   "outputs": [
    {
     "data": {
      "application/vnd.plotly.v1+json": {
       "config": {
        "plotlyServerURL": "https://plot.ly"
       },
       "data": [
        {
         "arrangement": "snap",
         "link": {
          "color": [
           "rgba(58.6004535, 76.17308133, 192.189204015, 0.5)",
           "rgba(58.6004535, 76.17308133, 192.189204015, 0.5)",
           "rgba(115.19333291999999, 149.98615199999998, 244.85132323499997, 0.5)",
           "rgba(115.19333291999999, 149.98615199999998, 244.85132323499997, 0.5)",
           "rgba(83.794134066, 112.12651664399999, 221.744751948, 0.5)",
           "rgba(83.794134066, 112.12651664399999, 221.744751948, 0.5)",
           "rgba(73.94887922999999, 98.64309742799999, 211.37622159199998, 0.5)",
           "rgba(73.94887922999999, 98.64309742799999, 211.37622159199998, 0.5)",
           "rgba(66.76036582, 88.35350065800002, 202.89273265499997, 0.5)",
           "rgba(66.76036582, 88.35350065800002, 202.89273265499997, 0.5)",
           "rgba(99.15722734799999, 131.656101072, 234.95023818599998, 0.5)",
           "rgba(99.15722734799999, 131.656101072, 234.95023818599998, 0.5)",
           "rgba(220.164916979, 220.596367934, 221.246640487, 0.5)",
           "rgba(220.164916979, 220.596367934, 221.246640487, 0.5)",
           "rgba(156.552826455, 188.68036048500002, 254.781304875, 0.5)",
           "rgba(156.552826455, 188.68036048500002, 254.781304875, 0.5)",
           "rgba(208.60440581999998, 218.175367774, 233.23259222000002, 0.5)",
           "rgba(208.60440581999998, 218.175367774, 233.23259222000002, 0.5)",
           "rgba(187.14393574999997, 209.104559085, 247.534713355, 0.5)",
           "rgba(187.14393574999997, 209.104559085, 247.534713355, 0.5)",
           "rgba(71.54023731, 95.222908116, 208.592739544, 0.5)",
           "rgba(71.54023731, 95.222908116, 208.592739544, 0.5)",
           "rgba(75.15320018999999, 100.353192084, 212.767962616, 0.5)",
           "rgba(75.15320018999999, 100.353192084, 212.767962616, 0.5)",
           "rgba(133.032551612, 168.19764462, 251.872685928, 0.5)",
           "rgba(133.032551612, 168.19764462, 251.872685928, 0.5)",
           "rgba(76.35752115, 102.06328674, 214.15970364, 0.5)",
           "rgba(76.35752115, 102.06328674, 214.15970364, 0.5)",
           "rgba(206.37881093999997, 217.508369886, 235.19226006, 0.5)",
           "rgba(206.37881093999997, 217.508369886, 235.19226006, 0.5)",
           "rgba(246.30421903799999, 188.736168844, 162.44971539099998, 0.5)",
           "rgba(246.30421903799999, 188.736168844, 162.44971539099998, 0.5)",
           "rgba(90.109135644, 120.377507864, 227.60545308599998, 0.5)",
           "rgba(90.109135644, 120.377507864, 227.60545308599998, 0.5)",
           "rgba(83.794134066, 112.12651664399999, 221.744751948, 0.5)",
           "rgba(83.794134066, 112.12651664399999, 221.744751948, 0.5)",
           "rgba(88.82245206, 118.75634235999999, 226.52827154999997, 0.5)",
           "rgba(88.82245206, 118.75634235999999, 226.52827154999997, 0.5)",
           "rgba(71.54023731, 95.222908116, 208.592739544, 0.5)",
           "rgba(71.54023731, 95.222908116, 208.592739544, 0.5)",
           "rgba(83.794134066, 112.12651664399999, 221.744751948, 0.5)",
           "rgba(83.794134066, 112.12651664399999, 221.744751948, 0.5)",
           "rgba(176.79692763, 203.06010358499998, 251.508484035, 0.5)",
           "rgba(176.79692763, 203.06010358499998, 251.508484035, 0.5)",
           "rgba(113.839813816, 148.500888768, 244.130192899, 0.5)",
           "rgba(113.839813816, 148.500888768, 244.130192899, 0.5)",
           "rgba(82.54819589, 110.45540233999999, 220.50420062, 0.5)",
           "rgba(82.54819589, 110.45540233999999, 220.50420062, 0.5)",
           "rgba(78.810381362, 105.442059428, 216.782546636, 0.5)",
           "rgba(78.810381362, 105.442059428, 216.782546636, 0.5)",
           "rgba(78.810381362, 105.442059428, 216.782546636, 0.5)",
           "rgba(78.810381362, 105.442059428, 216.782546636, 0.5)",
           "rgba(226.539575139, 106.51424395999999, 83.613967306, 0.5)",
           "rgba(226.539575139, 106.51424395999999, 83.613967306, 0.5)",
           "rgba(197.040016894, 213.939445396, 242.076283778, 0.5)",
           "rgba(197.040016894, 213.939445396, 242.076283778, 0.5)",
           "rgba(197.040016894, 213.939445396, 242.076283778, 0.5)",
           "rgba(197.040016894, 213.939445396, 242.076283778, 0.5)",
           "rgba(197.040016894, 213.939445396, 242.076283778, 0.5)",
           "rgba(197.040016894, 213.939445396, 242.076283778, 0.5)",
           "rgba(112.486294712, 147.01562553600002, 243.409062563, 0.5)",
           "rgba(112.486294712, 147.01562553600002, 243.409062563, 0.5)",
           "rgba(76.35752115, 102.06328674, 214.15970364, 0.5)",
           "rgba(76.35752115, 102.06328674, 214.15970364, 0.5)",
           "rgba(119.257914144, 154.425764064, 246.97930167899997, 0.5)",
           "rgba(119.257914144, 154.425764064, 246.97930167899997, 0.5)",
           "rgba(88.82245206, 118.75634235999999, 226.52827154999997, 0.5)",
           "rgba(88.82245206, 118.75634235999999, 226.52827154999997, 0.5)",
           "rgba(144.121303212, 178.35680345999998, 254.14194288000002, 0.5)",
           "rgba(144.121303212, 178.35680345999998, 254.14194288000002, 0.5)",
           "rgba(71.54023731, 95.222908116, 208.592739544, 0.5)",
           "rgba(71.54023731, 95.222908116, 208.592739544, 0.5)",
           "rgba(231.912197427, 214.04355234, 204.08449486799998, 0.5)",
           "rgba(231.912197427, 214.04355234, 204.08449486799998, 0.5)",
           "rgba(100.48062792399999, 133.215430736, 235.85365469799999, 0.5)",
           "rgba(100.48062792399999, 133.215430736, 235.85365469799999, 0.5)",
           "rgba(160.672575159, 191.891641125, 254.619543147, 0.5)",
           "rgba(160.672575159, 191.891641125, 254.619543147, 0.5)",
           "rgba(75.15320018999999, 100.353192084, 212.767962616, 0.5)",
           "rgba(75.15320018999999, 100.353192084, 212.767962616, 0.5)",
           "rgba(226.376764067, 217.78032686199998, 212.841225415, 0.5)",
           "rgba(226.376764067, 217.78032686199998, 212.841225415, 0.5)",
           "rgba(91.39581922800001, 121.998673368, 228.682634622, 0.5)",
           "rgba(91.39581922800001, 121.998673368, 228.682634622, 0.5)",
           "rgba(91.39581922800001, 121.998673368, 228.682634622, 0.5)",
           "rgba(91.39581922800001, 121.998673368, 228.682634622, 0.5)",
           "rgba(69.13159538999999, 91.802718804, 205.809257496, 0.5)",
           "rgba(69.13159538999999, 91.802718804, 205.809257496, 0.5)",
           "rgba(103.127429076, 136.334090064, 237.660487722, 0.5)",
           "rgba(103.127429076, 136.334090064, 237.660487722, 0.5)",
           "rgba(245.488684807, 160.195526505, 129.447205398, 0.5)",
           "rgba(245.488684807, 160.195526505, 129.447205398, 0.5)",
           "rgba(77.564443186, 103.770945124, 215.541995308, 0.5)",
           "rgba(77.564443186, 103.770945124, 215.541995308, 0.5)",
           "rgba(71.54023731, 95.222908116, 208.592739544, 0.5)",
           "rgba(71.54023731, 95.222908116, 208.592739544, 0.5)",
           "rgba(209.71720326000002, 218.508866718, 232.2527583, 0.5)",
           "rgba(209.71720326000002, 218.508866718, 232.2527583, 0.5)",
           "rgba(83.794134066, 112.12651664399999, 221.744751948, 0.5)",
           "rgba(83.794134066, 112.12651664399999, 221.744751948, 0.5)",
           "rgba(83.794134066, 112.12651664399999, 221.744751948, 0.5)",
           "rgba(83.794134066, 112.12651664399999, 221.744751948, 0.5)",
           "rgba(83.794134066, 112.12651664399999, 221.744751948, 0.5)",
           "rgba(83.794134066, 112.12651664399999, 221.744751948, 0.5)",
           "rgba(134.41872607599998, 169.49839853999998, 252.211484904, 0.5)",
           "rgba(134.41872607599998, 169.49839853999998, 252.211484904, 0.5)",
           "rgba(134.41872607599998, 169.49839853999998, 252.211484904, 0.5)",
           "rgba(134.41872607599998, 169.49839853999998, 252.211484904, 0.5)",
           "rgba(134.41872607599998, 169.49839853999998, 252.211484904, 0.5)",
           "rgba(134.41872607599998, 169.49839853999998, 252.211484904, 0.5)",
           "rgba(216.078050931, 219.930483006, 225.81281994300002, 0.5)",
           "rgba(216.078050931, 219.930483006, 225.81281994300002, 0.5)",
           "rgba(69.13159538999999, 91.802718804, 205.809257496, 0.5)",
           "rgba(69.13159538999999, 91.802718804, 205.809257496, 0.5)",
           "rgba(78.810381362, 105.442059428, 216.782546636, 0.5)",
           "rgba(78.810381362, 105.442059428, 216.782546636, 0.5)",
           "rgba(78.810381362, 105.442059428, 216.782546636, 0.5)",
           "rgba(78.810381362, 105.442059428, 216.782546636, 0.5)",
           "rgba(78.810381362, 105.442059428, 216.782546636, 0.5)",
           "rgba(78.810381362, 105.442059428, 216.782546636, 0.5)",
           "rgba(96.542553564, 128.48333538400001, 232.991360766, 0.5)",
           "rgba(96.542553564, 128.48333538400001, 232.991360766, 0.5)",
           "rgba(96.542553564, 128.48333538400001, 232.991360766, 0.5)",
           "rgba(96.542553564, 128.48333538400001, 232.991360766, 0.5)",
           "rgba(96.542553564, 128.48333538400001, 232.991360766, 0.5)",
           "rgba(96.542553564, 128.48333538400001, 232.991360766, 0.5)",
           "rgba(77.564443186, 103.770945124, 215.541995308, 0.5)",
           "rgba(77.564443186, 103.770945124, 215.541995308, 0.5)",
           "rgba(77.564443186, 103.770945124, 215.541995308, 0.5)",
           "rgba(77.564443186, 103.770945124, 215.541995308, 0.5)",
           "rgba(77.564443186, 103.770945124, 215.541995308, 0.5)",
           "rgba(77.564443186, 103.770945124, 215.541995308, 0.5)",
           "rgba(66.76036582, 88.35350065800002, 202.89273265499997, 0.5)",
           "rgba(66.76036582, 88.35350065800002, 202.89273265499997, 0.5)",
           "rgba(120.632894112, 155.824746592, 247.51156500699997, 0.5)",
           "rgba(120.632894112, 155.824746592, 247.51156500699997, 0.5)",
           "rgba(81.30225771399999, 108.78428803599999, 219.26364929200003, 0.5)",
           "rgba(81.30225771399999, 108.78428803599999, 219.26364929200003, 0.5)",
           "rgba(81.30225771399999, 108.78428803599999, 219.26364929200003, 0.5)",
           "rgba(81.30225771399999, 108.78428803599999, 219.26364929200003, 0.5)",
           "rgba(81.30225771399999, 108.78428803599999, 219.26364929200003, 0.5)",
           "rgba(81.30225771399999, 108.78428803599999, 219.26364929200003, 0.5)",
           "rgba(183.34124971, 207.05818790499998, 249.302321155, 0.5)",
           "rgba(183.34124971, 207.05818790499998, 249.302321155, 0.5)",
           "rgba(127.507793952, 162.81965923200002, 250.172881647, 0.5)",
           "rgba(127.507793952, 162.81965923200002, 250.172881647, 0.5)",
           "rgba(127.507793952, 162.81965923200002, 250.172881647, 0.5)",
           "rgba(127.507793952, 162.81965923200002, 250.172881647, 0.5)",
           "rgba(127.507793952, 162.81965923200002, 250.172881647, 0.5)",
           "rgba(127.507793952, 162.81965923200002, 250.172881647, 0.5)",
           "rgba(63.26326054, 83.13332094600001, 198.305506095, 0.5)",
           "rgba(63.26326054, 83.13332094600001, 198.305506095, 0.5)",
           "rgba(151.050744172, 184.31196746, 254.85563808, 0.5)",
           "rgba(151.050744172, 184.31196746, 254.85563808, 0.5)",
           "rgba(156.552826455, 188.68036048500002, 254.781304875, 0.5)",
           "rgba(156.552826455, 188.68036048500002, 254.781304875, 0.5)",
           "rgba(73.94887922999999, 98.64309742799999, 211.37622159199998, 0.5)",
           "rgba(73.94887922999999, 98.64309742799999, 211.37622159199998, 0.5)",
           "rgba(83.794134066, 112.12651664399999, 221.744751948, 0.5)",
           "rgba(83.794134066, 112.12651664399999, 221.744751948, 0.5)",
           "rgba(157.926076023, 189.750787365, 254.727384299, 0.5)",
           "rgba(157.926076023, 189.750787365, 254.727384299, 0.5)",
           "rgba(65.59466406, 86.61344075400001, 201.36365713499998, 0.5)",
           "rgba(65.59466406, 86.61344075400001, 201.36365713499998, 0.5)",
           "rgba(65.59466406, 86.61344075400001, 201.36365713499998, 0.5)",
           "rgba(65.59466406, 86.61344075400001, 201.36365713499998, 0.5)",
           "rgba(65.59466406, 86.61344075400001, 201.36365713499998, 0.5)",
           "rgba(65.59466406, 86.61344075400001, 201.36365713499998, 0.5)",
           "rgba(86.286010418, 115.46874525199999, 224.22585460399998, 0.5)",
           "rgba(86.286010418, 115.46874525199999, 224.22585460399998, 0.5)",
           "rgba(71.54023731, 95.222908116, 208.592739544, 0.5)",
           "rgba(71.54023731, 95.222908116, 208.592739544, 0.5)",
           "rgba(99.15722734799999, 131.656101072, 234.95023818599998, 0.5)",
           "rgba(99.15722734799999, 131.656101072, 234.95023818599998, 0.5)",
           "rgba(87.53576847600002, 117.135176856, 225.45109001400002, 0.5)",
           "rgba(87.53576847600002, 117.135176856, 225.45109001400002, 0.5)",
           "rgba(95.25586998, 126.86216988000001, 231.91417923, 0.5)",
           "rgba(95.25586998, 126.86216988000001, 231.91417923, 0.5)",
           "rgba(119.257914144, 154.425764064, 246.97930167899997, 0.5)",
           "rgba(119.257914144, 154.425764064, 246.97930167899997, 0.5)",
           "rgba(171.497177945, 199.629669015, 252.955384659, 0.5)",
           "rgba(171.497177945, 199.629669015, 252.955384659, 0.5)",
           "rgba(175.488063214, 202.26048672099998, 251.949716611, 0.5)",
           "rgba(175.488063214, 202.26048672099998, 251.949716611, 0.5)",
           "rgba(175.488063214, 202.26048672099998, 251.949716611, 0.5)",
           "rgba(175.488063214, 202.26048672099998, 251.949716611, 0.5)",
           "rgba(101.80402849999999, 134.77476040000002, 236.75707121000002, 0.5)",
           "rgba(101.80402849999999, 134.77476040000002, 236.75707121000002, 0.5)",
           "rgba(101.80402849999999, 134.77476040000002, 236.75707121000002, 0.5)",
           "rgba(101.80402849999999, 134.77476040000002, 236.75707121000002, 0.5)",
           "rgba(101.80402849999999, 134.77476040000002, 236.75707121000002, 0.5)",
           "rgba(101.80402849999999, 134.77476040000002, 236.75707121000002, 0.5)",
           "rgba(92.682502812, 123.619838872, 229.759816158, 0.5)",
           "rgba(92.682502812, 123.619838872, 229.759816158, 0.5)",
           "rgba(111.132775608, 145.530362304, 242.687932227, 0.5)",
           "rgba(111.132775608, 145.530362304, 242.687932227, 0.5)",
           "rgba(122.00787408, 157.22372912, 248.043828335, 0.5)",
           "rgba(122.00787408, 157.22372912, 248.043828335, 0.5)",
           "rgba(76.35752115, 102.06328674, 214.15970364, 0.5)",
           "rgba(76.35752115, 102.06328674, 214.15970364, 0.5)",
           "rgba(211.94279814, 219.175864606, 230.29309046, 0.5)",
           "rgba(211.94279814, 219.175864606, 230.29309046, 0.5)",
           "rgba(181.446232122, 8.500897823999995, 39.393601012, 0.5)",
           "rgba(181.446232122, 8.500897823999995, 39.393601012, 0.5)",
           "rgba(145.507191404, 179.54783626, 254.28468192, 0.5)",
           "rgba(145.507191404, 179.54783626, 254.28468192, 0.5)",
           "rgba(168.80181346499998, 197.750324055, 253.453813971, 0.5)",
           "rgba(168.80181346499998, 197.750324055, 253.453813971, 0.5)",
           "rgba(218.121483955, 220.26342547, 223.529730215, 0.5)",
           "rgba(218.121483955, 220.26342547, 223.529730215, 0.5)",
           "rgba(179.94665529, 3.9668208, 38.30936706, 0.5)",
           "rgba(179.94665529, 3.9668208, 38.30936706, 0.5)",
           "rgba(90.109135644, 120.377507864, 227.60545308599998, 0.5)",
           "rgba(90.109135644, 120.377507864, 227.60545308599998, 0.5)",
           "rgba(71.54023731, 95.222908116, 208.592739544, 0.5)",
           "rgba(71.54023731, 95.222908116, 208.592739544, 0.5)",
           "rgba(168.80181346499998, 197.750324055, 253.453813971, 0.5)",
           "rgba(168.80181346499998, 197.750324055, 253.453813971, 0.5)",
           "rgba(58.6004535, 76.17308133, 192.189204015, 0.5)",
           "rgba(58.6004535, 76.17308133, 192.189204015, 0.5)",
           "rgba(151.050744172, 184.31196746, 254.85563808, 0.5)",
           "rgba(151.050744172, 184.31196746, 254.85563808, 0.5)",
           "rgba(201.59319064500002, 59.00623476, 55.141719765, 0.5)",
           "rgba(201.59319064500002, 59.00623476, 55.141719765, 0.5)",
           "rgba(115.19333291999999, 149.98615199999998, 244.85132323499997, 0.5)",
           "rgba(115.19333291999999, 149.98615199999998, 244.85132323499997, 0.5)",
           "rgba(242.11076732700002, 145.95891752900005, 115.62795911000006, 0.5)",
           "rgba(242.11076732700002, 145.95891752900005, 115.62795911000006, 0.5)",
           "rgba(155.179576887, 187.609933605, 254.83522545099999, 0.5)",
           "rgba(155.179576887, 187.609933605, 254.83522545099999, 0.5)",
           "rgba(100.48062792399999, 133.215430736, 235.85365469799999, 0.5)",
           "rgba(100.48062792399999, 133.215430736, 235.85365469799999, 0.5)",
           "rgba(58.6004535, 76.17308133, 192.189204015, 0.5)",
           "rgba(58.6004535, 76.17308133, 192.189204015, 0.5)",
           "rgba(71.54023731, 95.222908116, 208.592739544, 0.5)",
           "rgba(71.54023731, 95.222908116, 208.592739544, 0.5)",
           "rgba(142.73541501999998, 177.16577066, 253.99920384, 0.5)",
           "rgba(142.73541501999998, 177.16577066, 253.99920384, 0.5)",
           "rgba(95.25586998, 126.86216988000001, 231.91417923, 0.5)",
           "rgba(95.25586998, 126.86216988000001, 231.91417923, 0.5)",
           "rgba(73.94887922999999, 98.64309742799999, 211.37622159199998, 0.5)",
           "rgba(73.94887922999999, 98.64309742799999, 211.37622159199998, 0.5)",
           "rgba(179.94665529, 3.9668208, 38.30936706, 0.5)",
           "rgba(179.94665529, 3.9668208, 38.30936706, 0.5)"
          ],
          "source": [
           0,
           0,
           1,
           1,
           2,
           2,
           4,
           4,
           5,
           5,
           7,
           7,
           8,
           8,
           9,
           9,
           10,
           10,
           11,
           11,
           12,
           12,
           13,
           13,
           14,
           14,
           15,
           15,
           16,
           16,
           19,
           19,
           20,
           20,
           21,
           21,
           23,
           23,
           24,
           24,
           28,
           28,
           31,
           31,
           33,
           33,
           34,
           34,
           35,
           35,
           35,
           35,
           36,
           36,
           37,
           37,
           37,
           37,
           37,
           37,
           38,
           38,
           41,
           41,
           42,
           42,
           43,
           43,
           44,
           44,
           48,
           48,
           49,
           49,
           50,
           50,
           51,
           51,
           52,
           52,
           53,
           53,
           55,
           55,
           55,
           55,
           56,
           56,
           57,
           57,
           58,
           58,
           59,
           59,
           60,
           60,
           61,
           61,
           62,
           62,
           62,
           62,
           62,
           62,
           63,
           63,
           63,
           63,
           63,
           63,
           65,
           65,
           66,
           66,
           67,
           67,
           67,
           67,
           67,
           67,
           68,
           68,
           68,
           68,
           68,
           68,
           69,
           69,
           69,
           69,
           69,
           69,
           70,
           70,
           71,
           71,
           72,
           72,
           72,
           72,
           72,
           72,
           73,
           73,
           74,
           74,
           74,
           74,
           74,
           74,
           75,
           75,
           76,
           76,
           77,
           77,
           78,
           78,
           79,
           79,
           80,
           80,
           81,
           81,
           81,
           81,
           81,
           81,
           82,
           82,
           83,
           83,
           84,
           84,
           85,
           85,
           86,
           86,
           88,
           88,
           90,
           90,
           91,
           91,
           91,
           91,
           92,
           92,
           92,
           92,
           92,
           92,
           93,
           93,
           94,
           94,
           95,
           95,
           96,
           96,
           97,
           97,
           99,
           99,
           18,
           18,
           22,
           22,
           39,
           39,
           40,
           40,
           45,
           45,
           46,
           46,
           47,
           47,
           64,
           64,
           87,
           87,
           89,
           89,
           98,
           98,
           3,
           3,
           6,
           6,
           17,
           17,
           25,
           25,
           26,
           26,
           27,
           27,
           29,
           29,
           30,
           30,
           32,
           32
          ],
          "target": [
           26,
           26,
           32,
           32,
           32,
           32,
           87,
           87,
           32,
           32,
           32,
           32,
           99,
           99,
           99,
           99,
           99,
           99,
           32,
           32,
           32,
           32,
           32,
           32,
           32,
           32,
           32,
           32,
           32,
           32,
           32,
           32,
           32,
           32,
           32,
           32,
           32,
           32,
           32,
           32,
           32,
           32,
           32,
           32,
           32,
           32,
           32,
           32,
           99,
           99,
           32,
           32,
           32,
           32,
           45,
           45,
           46,
           46,
           47,
           47,
           32,
           32,
           99,
           99,
           32,
           32,
           39,
           39,
           99,
           99,
           32,
           32,
           32,
           32,
           32,
           32,
           27,
           27,
           32,
           32,
           32,
           32,
           40,
           40,
           32,
           32,
           32,
           32,
           32,
           32,
           32,
           32,
           32,
           32,
           99,
           99,
           32,
           32,
           45,
           45,
           46,
           46,
           29,
           29,
           45,
           45,
           46,
           46,
           29,
           29,
           40,
           40,
           39,
           39,
           45,
           45,
           46,
           46,
           29,
           29,
           45,
           45,
           46,
           46,
           29,
           29,
           45,
           45,
           46,
           46,
           29,
           29,
           40,
           40,
           32,
           32,
           45,
           45,
           46,
           46,
           29,
           29,
           45,
           45,
           45,
           45,
           46,
           46,
           29,
           29,
           26,
           26,
           18,
           18,
           30,
           30,
           30,
           30,
           87,
           87,
           32,
           32,
           45,
           45,
           46,
           46,
           29,
           29,
           87,
           87,
           32,
           32,
           32,
           32,
           30,
           30,
           40,
           40,
           30,
           30,
           32,
           32,
           46,
           46,
           64,
           64,
           45,
           45,
           46,
           46,
           29,
           29,
           18,
           18,
           32,
           32,
           30,
           30,
           22,
           22,
           32,
           32,
           89,
           89,
           98,
           98,
           98,
           98,
           6,
           6,
           3,
           3,
           17,
           17,
           17,
           17,
           17,
           17,
           25,
           25,
           54,
           54,
           54,
           54,
           54,
           54,
           54,
           54,
           54,
           54,
           54,
           54,
           54,
           54,
           54,
           54,
           54,
           54,
           54,
           54,
           54,
           54,
           54,
           54
          ],
          "value": [
           0.00026561410433603635,
           0.0002890809659406467,
           0.01606749011366935,
           0.016695076544466208,
           0.00886561470564713,
           0.008195701134798488,
           0.00667923553083359,
           0.005349386152691342,
           0.0026662741216000683,
           0.002864805832912385,
           0.013309899022149947,
           0.012577037427880624,
           0.06098599045475789,
           0.04661493477727847,
           0.0329787905894897,
           0.0277359469244243,
           0.05238418023813028,
           0.04258938690929483,
           0.0433133375080013,
           0.036208764502573695,
           0.006794984393009467,
           0.004564443373914903,
           0.004675388086715551,
           0.005605346511165969,
           0.019061650812047082,
           0.021514713218866246,
           0.005033339488905054,
           0.005891173180670849,
           0.0499262039747336,
           0.04197239576689638,
           0.05380571897254656,
           0.061048700116925446,
           0.017553218405672772,
           0.01006842582241485,
           0.014164416663395678,
           0.008058558396829623,
           0.009637971089571465,
           0.00966369080788566,
           0.0040590799204404575,
           0.004363745863933534,
           0.008873937905391493,
           0.007983013936196019,
           0.031902629816252775,
           0.033083067049419906,
           0.01088885507380279,
           0.016344557164411237,
           0.008230617864621878,
           0.007586606380296498,
           0.0091054481692892,
           0.006804573544751342,
           0.0091054481692892,
           0.006804573544751342,
           0.09356860565400085,
           0.07977842928712486,
           0.029646728250033016,
           0.03906501952950199,
           0.029646728250033016,
           0.03906501952950199,
           0.029646728250033016,
           0.03906501952950199,
           0.023008948880008023,
           0.016113744849504705,
           0.009958410665504723,
           0.0058997377891317,
           0.014066670998564654,
           0.01779487818067239,
           0.00989764685835141,
           0.009545060752823239,
           0.04342465145279701,
           0.024484147447441325,
           0.003917549607758626,
           0.004573359455176096,
           0.06963314962715765,
           0.051075902204882444,
           0.008065340266465347,
           0.012749143694330334,
           0.02840454910691686,
           0.028962214969908428,
           0.00846710756469965,
           0.005445277695776813,
           0.0531631365330703,
           0.04893907575689162,
           0.006437526619315369,
           0.010234819405430542,
           0.006437526619315369,
           0.010234819405430542,
           0.004124725406279604,
           0.0036530780470971883,
           0.01330155058147546,
           0.013629550480634795,
           0.06358855368867282,
           0.06876878832834478,
           0.006057149106613706,
           0.006162897195147917,
           0.0038006901146672863,
           0.0043153863811341495,
           0.03787706010826931,
           0.04297759451571044,
           0.010533069890695128,
           0.00794295017228164,
           0.010533069890695128,
           0.00794295017228164,
           0.010533069890695128,
           0.00794295017228164,
           0.024020685152308267,
           0.02183667102557706,
           0.024020685152308267,
           0.02183667102557706,
           0.024020685152308267,
           0.02183667102557706,
           0.05292805603368175,
           0.04510035421368493,
           0.002192483387066232,
           0.0036681635051272485,
           0.004465570046880971,
           0.006655859032240539,
           0.004465570046880971,
           0.006655859032240539,
           0.004465570046880971,
           0.006655859032240539,
           0.00827833334884659,
           0.011824098360981571,
           0.00827833334884659,
           0.011824098360981571,
           0.00827833334884659,
           0.011824098360981571,
           0.004382515029612517,
           0.00627823148887607,
           0.004382515029612517,
           0.00627823148887607,
           0.004382515029612517,
           0.00627823148887607,
           0.0030746664717334364,
           0.0029093980094753364,
           0.019156871187270802,
           0.01815803215199639,
           0.013914652703270388,
           0.007397959314388339,
           0.013914652703270388,
           0.007397959314388339,
           0.013914652703270388,
           0.007397959314388339,
           0.04791896080824444,
           0.035139491963271416,
           0.021849506961947002,
           0.020260839125712422,
           0.021849506961947002,
           0.020260839125712422,
           0.021849506961947002,
           0.020260839125712422,
           0.0027493843462163426,
           0.002044811983221156,
           0.016117478939652485,
           0.026376469782714723,
           0.017825903192791922,
           0.02778524573507665,
           0.004525808396366014,
           0.005086793703320179,
           0.008562560418409158,
           0.007950831068882775,
           0.028397150906745206,
           0.028275342034795356,
           0.0034724929524772305,
           0.0025095834755100386,
           0.0034724929524772305,
           0.0025095834755100386,
           0.0034724929524772305,
           0.0025095834755100386,
           0.005909309912484733,
           0.00898868241633774,
           0.013006743371721198,
           0.004525260950361356,
           0.017405339780862904,
           0.012353176067477432,
           0.008349929534123984,
           0.009274644193286621,
           0.013591784983287636,
           0.011236147420180628,
           0.015707420128449737,
           0.018044372346492022,
           0.027382142701556422,
           0.031835803326264976,
           0.028110759246207814,
           0.03285922308857533,
           0.028110759246207814,
           0.03285922308857533,
           0.01404684419759563,
           0.013147404877592228,
           0.01404684419759563,
           0.013147404877592228,
           0.01404684419759563,
           0.013147404877592228,
           0.01423161690611761,
           0.010768734776139457,
           0.013904490548770411,
           0.015693832276265973,
           0.016862506928917997,
           0.01876398703197211,
           0.005384977703261358,
           0.0058975266329789255,
           0.040633415194877835,
           0.04391094224962989,
           0.49559391012977405,
           0.5274494088305532,
           0.1185162896133684,
           0.14065140301760448,
           0.15917441815130215,
           0.17432483635492638,
           0.21858970511149925,
           0.26063108514971367,
           0.4947792916438744,
           0.529922245618384,
           0.04967572157197239,
           0.05424221399054752,
           0.02519911935053084,
           0.023500844508346514,
           0.20267999631504408,
           0.17454794764116313,
           0.000001145262098308613,
           0.000005969187801627826,
           0.1211498175094305,
           0.13211503163291008,
           0.41430478626000855,
           0.44093522998511275,
           0.07838897384424205,
           0.08446231610336066,
           0.33729566877486494,
           0.3612529523393398,
           0.11529346616142616,
           0.137467870634521,
           0.061288389336027004,
           0.06421143255300783,
           4.78706002107874e-7,
           0.0000024950498723085664,
           0.017053701155075686,
           0.020856180892345737,
           0.11641552653139645,
           0.11994010681823665,
           0.03803195606525626,
           0.055393514442942444,
           0.01617445292483626,
           0.024296557504825473,
           0.42294241657638104,
           0.47021222964708304
          ]
         },
         "node": {
          "color": [
           "rgba(58.6004535, 76.17308133, 192.189204015, 0.5)",
           "rgba(115.19333291999999, 149.98615199999998, 244.85132323499997, 0.5)",
           "rgba(83.794134066, 112.12651664399999, 221.744751948, 0.5)",
           "rgba(242.11076732700002, 145.95891752900005, 115.62795911000006, 0.5)",
           "rgba(73.94887922999999, 98.64309742799999, 211.37622159199998, 0.5)",
           "rgba(66.76036582, 88.35350065800002, 202.89273265499997, 0.5)",
           "rgba(155.179576887, 187.609933605, 254.83522545099999, 0.5)",
           "rgba(99.15722734799999, 131.656101072, 234.95023818599998, 0.5)",
           "rgba(220.164916979, 220.596367934, 221.246640487, 0.5)",
           "rgba(156.552826455, 188.68036048500002, 254.781304875, 0.5)",
           "rgba(208.60440581999998, 218.175367774, 233.23259222000002, 0.5)",
           "rgba(187.14393574999997, 209.104559085, 247.534713355, 0.5)",
           "rgba(71.54023731, 95.222908116, 208.592739544, 0.5)",
           "rgba(75.15320018999999, 100.353192084, 212.767962616, 0.5)",
           "rgba(133.032551612, 168.19764462, 251.872685928, 0.5)",
           "rgba(76.35752115, 102.06328674, 214.15970364, 0.5)",
           "rgba(206.37881093999997, 217.508369886, 235.19226006, 0.5)",
           "rgba(100.48062792399999, 133.215430736, 235.85365469799999, 0.5)",
           "rgba(145.507191404, 179.54783626, 254.28468192, 0.5)",
           "rgba(246.30421903799999, 188.736168844, 162.44971539099998, 0.5)",
           "rgba(90.109135644, 120.377507864, 227.60545308599998, 0.5)",
           "rgba(83.794134066, 112.12651664399999, 221.744751948, 0.5)",
           "rgba(168.80181346499998, 197.750324055, 253.453813971, 0.5)",
           "rgba(88.82245206, 118.75634235999999, 226.52827154999997, 0.5)",
           "rgba(71.54023731, 95.222908116, 208.592739544, 0.5)",
           "rgba(58.6004535, 76.17308133, 192.189204015, 0.5)",
           "rgba(71.54023731, 95.222908116, 208.592739544, 0.5)",
           "rgba(142.73541501999998, 177.16577066, 253.99920384, 0.5)",
           "rgba(83.794134066, 112.12651664399999, 221.744751948, 0.5)",
           "rgba(95.25586998, 126.86216988000001, 231.91417923, 0.5)",
           "rgba(73.94887922999999, 98.64309742799999, 211.37622159199998, 0.5)",
           "rgba(176.79692763, 203.06010358499998, 251.508484035, 0.5)",
           "rgba(179.94665529, 3.9668208, 38.30936706, 0.5)",
           "rgba(113.839813816, 148.500888768, 244.130192899, 0.5)",
           "rgba(82.54819589, 110.45540233999999, 220.50420062, 0.5)",
           "rgba(78.810381362, 105.442059428, 216.782546636, 0.5)",
           "rgba(226.539575139, 106.51424395999999, 83.613967306, 0.5)",
           "rgba(197.040016894, 213.939445396, 242.076283778, 0.5)",
           "rgba(112.486294712, 147.01562553600002, 243.409062563, 0.5)",
           "rgba(218.121483955, 220.26342547, 223.529730215, 0.5)",
           "rgba(179.94665529, 3.9668208, 38.30936706, 0.5)",
           "rgba(76.35752115, 102.06328674, 214.15970364, 0.5)",
           "rgba(119.257914144, 154.425764064, 246.97930167899997, 0.5)",
           "rgba(88.82245206, 118.75634235999999, 226.52827154999997, 0.5)",
           "rgba(144.121303212, 178.35680345999998, 254.14194288000002, 0.5)",
           "rgba(90.109135644, 120.377507864, 227.60545308599998, 0.5)",
           "rgba(71.54023731, 95.222908116, 208.592739544, 0.5)",
           "rgba(168.80181346499998, 197.750324055, 253.453813971, 0.5)",
           "rgba(71.54023731, 95.222908116, 208.592739544, 0.5)",
           "rgba(231.912197427, 214.04355234, 204.08449486799998, 0.5)",
           "rgba(100.48062792399999, 133.215430736, 235.85365469799999, 0.5)",
           "rgba(160.672575159, 191.891641125, 254.619543147, 0.5)",
           "rgba(75.15320018999999, 100.353192084, 212.767962616, 0.5)",
           "rgba(226.376764067, 217.78032686199998, 212.841225415, 0.5)",
           "rgba(0,0,0,1)",
           "rgba(91.39581922800001, 121.998673368, 228.682634622, 0.5)",
           "rgba(69.13159538999999, 91.802718804, 205.809257496, 0.5)",
           "rgba(103.127429076, 136.334090064, 237.660487722, 0.5)",
           "rgba(245.488684807, 160.195526505, 129.447205398, 0.5)",
           "rgba(77.564443186, 103.770945124, 215.541995308, 0.5)",
           "rgba(71.54023731, 95.222908116, 208.592739544, 0.5)",
           "rgba(209.71720326000002, 218.508866718, 232.2527583, 0.5)",
           "rgba(83.794134066, 112.12651664399999, 221.744751948, 0.5)",
           "rgba(134.41872607599998, 169.49839853999998, 252.211484904, 0.5)",
           "rgba(58.6004535, 76.17308133, 192.189204015, 0.5)",
           "rgba(216.078050931, 219.930483006, 225.81281994300002, 0.5)",
           "rgba(69.13159538999999, 91.802718804, 205.809257496, 0.5)",
           "rgba(78.810381362, 105.442059428, 216.782546636, 0.5)",
           "rgba(96.542553564, 128.48333538400001, 232.991360766, 0.5)",
           "rgba(77.564443186, 103.770945124, 215.541995308, 0.5)",
           "rgba(66.76036582, 88.35350065800002, 202.89273265499997, 0.5)",
           "rgba(120.632894112, 155.824746592, 247.51156500699997, 0.5)",
           "rgba(81.30225771399999, 108.78428803599999, 219.26364929200003, 0.5)",
           "rgba(183.34124971, 207.05818790499998, 249.302321155, 0.5)",
           "rgba(127.507793952, 162.81965923200002, 250.172881647, 0.5)",
           "rgba(63.26326054, 83.13332094600001, 198.305506095, 0.5)",
           "rgba(151.050744172, 184.31196746, 254.85563808, 0.5)",
           "rgba(156.552826455, 188.68036048500002, 254.781304875, 0.5)",
           "rgba(73.94887922999999, 98.64309742799999, 211.37622159199998, 0.5)",
           "rgba(83.794134066, 112.12651664399999, 221.744751948, 0.5)",
           "rgba(157.926076023, 189.750787365, 254.727384299, 0.5)",
           "rgba(65.59466406, 86.61344075400001, 201.36365713499998, 0.5)",
           "rgba(86.286010418, 115.46874525199999, 224.22585460399998, 0.5)",
           "rgba(71.54023731, 95.222908116, 208.592739544, 0.5)",
           "rgba(99.15722734799999, 131.656101072, 234.95023818599998, 0.5)",
           "rgba(87.53576847600002, 117.135176856, 225.45109001400002, 0.5)",
           "rgba(95.25586998, 126.86216988000001, 231.91417923, 0.5)",
           "rgba(151.050744172, 184.31196746, 254.85563808, 0.5)",
           "rgba(119.257914144, 154.425764064, 246.97930167899997, 0.5)",
           "rgba(201.59319064500002, 59.00623476, 55.141719765, 0.5)",
           "rgba(171.497177945, 199.629669015, 252.955384659, 0.5)",
           "rgba(175.488063214, 202.26048672099998, 251.949716611, 0.5)",
           "rgba(101.80402849999999, 134.77476040000002, 236.75707121000002, 0.5)",
           "rgba(92.682502812, 123.619838872, 229.759816158, 0.5)",
           "rgba(111.132775608, 145.530362304, 242.687932227, 0.5)",
           "rgba(122.00787408, 157.22372912, 248.043828335, 0.5)",
           "rgba(76.35752115, 102.06328674, 214.15970364, 0.5)",
           "rgba(211.94279814, 219.175864606, 230.29309046, 0.5)",
           "rgba(115.19333291999999, 149.98615199999998, 244.85132323499997, 0.5)",
           "rgba(181.446232122, 8.500897823999995, 39.393601012, 0.5)"
          ],
          "label": [
           "O00194",
           "O00391",
           "O14791",
           "R-HSA-446203",
           "O95497",
           "O95633",
           "R-HSA-5173105",
           "P00450",
           "P00734",
           "P00740",
           "P00742",
           "P01008",
           "P01009",
           "P01024",
           "P01033",
           "P01034",
           "P01042",
           "R-HSA-5688426",
           "R-HSA-3108232",
           "P02647",
           "P02649",
           "P02652",
           "R-HSA-3215018",
           "P02671",
           "P02679",
           "R-HSA-8852135",
           "R-HSA-8873719",
           "R-HSA-8876725",
           "P02751",
           "R-HSA-8951664",
           "R-HSA-8955332",
           "P02765",
           "R-HSA-8957275",
           "P02768",
           "P02787",
           "P04070",
           "P04114",
           "P04908",
           "P05546",
           "R-HSA-5173214",
           "R-HSA-532668",
           "P07225",
           "P07237",
           "P07996",
           "P08709",
           "R-HSA-5689603",
           "R-HSA-5689880",
           "R-HSA-5689901",
           "P0C0L4",
           "P10451",
           "P11047",
           "P11142",
           "P12259",
           "P13611",
           "R-HSA-597592",
           "P14314",
           "P14625",
           "P17936",
           "P19823",
           "P22692",
           "P22891",
           "P24821",
           "P25786",
           "P25788",
           "R-HSA-8866654",
           "P27797",
           "P27918",
           "P28066",
           "P28072",
           "P28074",
           "P30101",
           "P35555",
           "P49721",
           "P60709",
           "P60900",
           "P61026",
           "P62805",
           "P68363",
           "P68366",
           "P80108",
           "Q02818",
           "Q06323",
           "Q10588",
           "Q12841",
           "Q13103",
           "Q13885",
           "Q14697",
           "R-HSA-163125",
           "Q71U36",
           "R-HSA-163841",
           "Q8NBJ4",
           "Q96A08",
           "Q99436",
           "Q99497",
           "Q9BTY2",
           "Q9H4B7",
           "Q9UBE0",
           "Q9UK55",
           "R-HSA-2990846",
           "R-HSA-159854"
          ],
          "line": {
           "color": "white",
           "width": 2
          },
          "pad": 20,
          "thickness": 20
         },
         "orientation": "h",
         "textfont": {
          "family": "Arial",
          "size": 15
         },
         "type": "sankey"
        }
       ],
       "layout": {
        "template": {
         "data": {
          "bar": [
           {
            "error_x": {
             "color": "#2a3f5f"
            },
            "error_y": {
             "color": "#2a3f5f"
            },
            "marker": {
             "line": {
              "color": "#E5ECF6",
              "width": 0.5
             },
             "pattern": {
              "fillmode": "overlay",
              "size": 10,
              "solidity": 0.2
             }
            },
            "type": "bar"
           }
          ],
          "barpolar": [
           {
            "marker": {
             "line": {
              "color": "#E5ECF6",
              "width": 0.5
             },
             "pattern": {
              "fillmode": "overlay",
              "size": 10,
              "solidity": 0.2
             }
            },
            "type": "barpolar"
           }
          ],
          "carpet": [
           {
            "aaxis": {
             "endlinecolor": "#2a3f5f",
             "gridcolor": "white",
             "linecolor": "white",
             "minorgridcolor": "white",
             "startlinecolor": "#2a3f5f"
            },
            "baxis": {
             "endlinecolor": "#2a3f5f",
             "gridcolor": "white",
             "linecolor": "white",
             "minorgridcolor": "white",
             "startlinecolor": "#2a3f5f"
            },
            "type": "carpet"
           }
          ],
          "choropleth": [
           {
            "colorbar": {
             "outlinewidth": 0,
             "ticks": ""
            },
            "type": "choropleth"
           }
          ],
          "contour": [
           {
            "colorbar": {
             "outlinewidth": 0,
             "ticks": ""
            },
            "colorscale": [
             [
              0,
              "#0d0887"
             ],
             [
              0.1111111111111111,
              "#46039f"
             ],
             [
              0.2222222222222222,
              "#7201a8"
             ],
             [
              0.3333333333333333,
              "#9c179e"
             ],
             [
              0.4444444444444444,
              "#bd3786"
             ],
             [
              0.5555555555555556,
              "#d8576b"
             ],
             [
              0.6666666666666666,
              "#ed7953"
             ],
             [
              0.7777777777777778,
              "#fb9f3a"
             ],
             [
              0.8888888888888888,
              "#fdca26"
             ],
             [
              1,
              "#f0f921"
             ]
            ],
            "type": "contour"
           }
          ],
          "contourcarpet": [
           {
            "colorbar": {
             "outlinewidth": 0,
             "ticks": ""
            },
            "type": "contourcarpet"
           }
          ],
          "heatmap": [
           {
            "colorbar": {
             "outlinewidth": 0,
             "ticks": ""
            },
            "colorscale": [
             [
              0,
              "#0d0887"
             ],
             [
              0.1111111111111111,
              "#46039f"
             ],
             [
              0.2222222222222222,
              "#7201a8"
             ],
             [
              0.3333333333333333,
              "#9c179e"
             ],
             [
              0.4444444444444444,
              "#bd3786"
             ],
             [
              0.5555555555555556,
              "#d8576b"
             ],
             [
              0.6666666666666666,
              "#ed7953"
             ],
             [
              0.7777777777777778,
              "#fb9f3a"
             ],
             [
              0.8888888888888888,
              "#fdca26"
             ],
             [
              1,
              "#f0f921"
             ]
            ],
            "type": "heatmap"
           }
          ],
          "heatmapgl": [
           {
            "colorbar": {
             "outlinewidth": 0,
             "ticks": ""
            },
            "colorscale": [
             [
              0,
              "#0d0887"
             ],
             [
              0.1111111111111111,
              "#46039f"
             ],
             [
              0.2222222222222222,
              "#7201a8"
             ],
             [
              0.3333333333333333,
              "#9c179e"
             ],
             [
              0.4444444444444444,
              "#bd3786"
             ],
             [
              0.5555555555555556,
              "#d8576b"
             ],
             [
              0.6666666666666666,
              "#ed7953"
             ],
             [
              0.7777777777777778,
              "#fb9f3a"
             ],
             [
              0.8888888888888888,
              "#fdca26"
             ],
             [
              1,
              "#f0f921"
             ]
            ],
            "type": "heatmapgl"
           }
          ],
          "histogram": [
           {
            "marker": {
             "pattern": {
              "fillmode": "overlay",
              "size": 10,
              "solidity": 0.2
             }
            },
            "type": "histogram"
           }
          ],
          "histogram2d": [
           {
            "colorbar": {
             "outlinewidth": 0,
             "ticks": ""
            },
            "colorscale": [
             [
              0,
              "#0d0887"
             ],
             [
              0.1111111111111111,
              "#46039f"
             ],
             [
              0.2222222222222222,
              "#7201a8"
             ],
             [
              0.3333333333333333,
              "#9c179e"
             ],
             [
              0.4444444444444444,
              "#bd3786"
             ],
             [
              0.5555555555555556,
              "#d8576b"
             ],
             [
              0.6666666666666666,
              "#ed7953"
             ],
             [
              0.7777777777777778,
              "#fb9f3a"
             ],
             [
              0.8888888888888888,
              "#fdca26"
             ],
             [
              1,
              "#f0f921"
             ]
            ],
            "type": "histogram2d"
           }
          ],
          "histogram2dcontour": [
           {
            "colorbar": {
             "outlinewidth": 0,
             "ticks": ""
            },
            "colorscale": [
             [
              0,
              "#0d0887"
             ],
             [
              0.1111111111111111,
              "#46039f"
             ],
             [
              0.2222222222222222,
              "#7201a8"
             ],
             [
              0.3333333333333333,
              "#9c179e"
             ],
             [
              0.4444444444444444,
              "#bd3786"
             ],
             [
              0.5555555555555556,
              "#d8576b"
             ],
             [
              0.6666666666666666,
              "#ed7953"
             ],
             [
              0.7777777777777778,
              "#fb9f3a"
             ],
             [
              0.8888888888888888,
              "#fdca26"
             ],
             [
              1,
              "#f0f921"
             ]
            ],
            "type": "histogram2dcontour"
           }
          ],
          "mesh3d": [
           {
            "colorbar": {
             "outlinewidth": 0,
             "ticks": ""
            },
            "type": "mesh3d"
           }
          ],
          "parcoords": [
           {
            "line": {
             "colorbar": {
              "outlinewidth": 0,
              "ticks": ""
             }
            },
            "type": "parcoords"
           }
          ],
          "pie": [
           {
            "automargin": true,
            "type": "pie"
           }
          ],
          "scatter": [
           {
            "fillpattern": {
             "fillmode": "overlay",
             "size": 10,
             "solidity": 0.2
            },
            "type": "scatter"
           }
          ],
          "scatter3d": [
           {
            "line": {
             "colorbar": {
              "outlinewidth": 0,
              "ticks": ""
             }
            },
            "marker": {
             "colorbar": {
              "outlinewidth": 0,
              "ticks": ""
             }
            },
            "type": "scatter3d"
           }
          ],
          "scattercarpet": [
           {
            "marker": {
             "colorbar": {
              "outlinewidth": 0,
              "ticks": ""
             }
            },
            "type": "scattercarpet"
           }
          ],
          "scattergeo": [
           {
            "marker": {
             "colorbar": {
              "outlinewidth": 0,
              "ticks": ""
             }
            },
            "type": "scattergeo"
           }
          ],
          "scattergl": [
           {
            "marker": {
             "colorbar": {
              "outlinewidth": 0,
              "ticks": ""
             }
            },
            "type": "scattergl"
           }
          ],
          "scattermapbox": [
           {
            "marker": {
             "colorbar": {
              "outlinewidth": 0,
              "ticks": ""
             }
            },
            "type": "scattermapbox"
           }
          ],
          "scatterpolar": [
           {
            "marker": {
             "colorbar": {
              "outlinewidth": 0,
              "ticks": ""
             }
            },
            "type": "scatterpolar"
           }
          ],
          "scatterpolargl": [
           {
            "marker": {
             "colorbar": {
              "outlinewidth": 0,
              "ticks": ""
             }
            },
            "type": "scatterpolargl"
           }
          ],
          "scatterternary": [
           {
            "marker": {
             "colorbar": {
              "outlinewidth": 0,
              "ticks": ""
             }
            },
            "type": "scatterternary"
           }
          ],
          "surface": [
           {
            "colorbar": {
             "outlinewidth": 0,
             "ticks": ""
            },
            "colorscale": [
             [
              0,
              "#0d0887"
             ],
             [
              0.1111111111111111,
              "#46039f"
             ],
             [
              0.2222222222222222,
              "#7201a8"
             ],
             [
              0.3333333333333333,
              "#9c179e"
             ],
             [
              0.4444444444444444,
              "#bd3786"
             ],
             [
              0.5555555555555556,
              "#d8576b"
             ],
             [
              0.6666666666666666,
              "#ed7953"
             ],
             [
              0.7777777777777778,
              "#fb9f3a"
             ],
             [
              0.8888888888888888,
              "#fdca26"
             ],
             [
              1,
              "#f0f921"
             ]
            ],
            "type": "surface"
           }
          ],
          "table": [
           {
            "cells": {
             "fill": {
              "color": "#EBF0F8"
             },
             "line": {
              "color": "white"
             }
            },
            "header": {
             "fill": {
              "color": "#C8D4E3"
             },
             "line": {
              "color": "white"
             }
            },
            "type": "table"
           }
          ]
         },
         "layout": {
          "annotationdefaults": {
           "arrowcolor": "#2a3f5f",
           "arrowhead": 0,
           "arrowwidth": 1
          },
          "autotypenumbers": "strict",
          "coloraxis": {
           "colorbar": {
            "outlinewidth": 0,
            "ticks": ""
           }
          },
          "colorscale": {
           "diverging": [
            [
             0,
             "#8e0152"
            ],
            [
             0.1,
             "#c51b7d"
            ],
            [
             0.2,
             "#de77ae"
            ],
            [
             0.3,
             "#f1b6da"
            ],
            [
             0.4,
             "#fde0ef"
            ],
            [
             0.5,
             "#f7f7f7"
            ],
            [
             0.6,
             "#e6f5d0"
            ],
            [
             0.7,
             "#b8e186"
            ],
            [
             0.8,
             "#7fbc41"
            ],
            [
             0.9,
             "#4d9221"
            ],
            [
             1,
             "#276419"
            ]
           ],
           "sequential": [
            [
             0,
             "#0d0887"
            ],
            [
             0.1111111111111111,
             "#46039f"
            ],
            [
             0.2222222222222222,
             "#7201a8"
            ],
            [
             0.3333333333333333,
             "#9c179e"
            ],
            [
             0.4444444444444444,
             "#bd3786"
            ],
            [
             0.5555555555555556,
             "#d8576b"
            ],
            [
             0.6666666666666666,
             "#ed7953"
            ],
            [
             0.7777777777777778,
             "#fb9f3a"
            ],
            [
             0.8888888888888888,
             "#fdca26"
            ],
            [
             1,
             "#f0f921"
            ]
           ],
           "sequentialminus": [
            [
             0,
             "#0d0887"
            ],
            [
             0.1111111111111111,
             "#46039f"
            ],
            [
             0.2222222222222222,
             "#7201a8"
            ],
            [
             0.3333333333333333,
             "#9c179e"
            ],
            [
             0.4444444444444444,
             "#bd3786"
            ],
            [
             0.5555555555555556,
             "#d8576b"
            ],
            [
             0.6666666666666666,
             "#ed7953"
            ],
            [
             0.7777777777777778,
             "#fb9f3a"
            ],
            [
             0.8888888888888888,
             "#fdca26"
            ],
            [
             1,
             "#f0f921"
            ]
           ]
          },
          "colorway": [
           "#636efa",
           "#EF553B",
           "#00cc96",
           "#ab63fa",
           "#FFA15A",
           "#19d3f3",
           "#FF6692",
           "#B6E880",
           "#FF97FF",
           "#FECB52"
          ],
          "font": {
           "color": "#2a3f5f"
          },
          "geo": {
           "bgcolor": "white",
           "lakecolor": "white",
           "landcolor": "#E5ECF6",
           "showlakes": true,
           "showland": true,
           "subunitcolor": "white"
          },
          "hoverlabel": {
           "align": "left"
          },
          "hovermode": "closest",
          "mapbox": {
           "style": "light"
          },
          "paper_bgcolor": "white",
          "plot_bgcolor": "#E5ECF6",
          "polar": {
           "angularaxis": {
            "gridcolor": "white",
            "linecolor": "white",
            "ticks": ""
           },
           "bgcolor": "#E5ECF6",
           "radialaxis": {
            "gridcolor": "white",
            "linecolor": "white",
            "ticks": ""
           }
          },
          "scene": {
           "xaxis": {
            "backgroundcolor": "#E5ECF6",
            "gridcolor": "white",
            "gridwidth": 2,
            "linecolor": "white",
            "showbackground": true,
            "ticks": "",
            "zerolinecolor": "white"
           },
           "yaxis": {
            "backgroundcolor": "#E5ECF6",
            "gridcolor": "white",
            "gridwidth": 2,
            "linecolor": "white",
            "showbackground": true,
            "ticks": "",
            "zerolinecolor": "white"
           },
           "zaxis": {
            "backgroundcolor": "#E5ECF6",
            "gridcolor": "white",
            "gridwidth": 2,
            "linecolor": "white",
            "showbackground": true,
            "ticks": "",
            "zerolinecolor": "white"
           }
          },
          "shapedefaults": {
           "line": {
            "color": "#2a3f5f"
           }
          },
          "ternary": {
           "aaxis": {
            "gridcolor": "white",
            "linecolor": "white",
            "ticks": ""
           },
           "baxis": {
            "gridcolor": "white",
            "linecolor": "white",
            "ticks": ""
           },
           "bgcolor": "#E5ECF6",
           "caxis": {
            "gridcolor": "white",
            "linecolor": "white",
            "ticks": ""
           }
          },
          "title": {
           "x": 0.05
          },
          "xaxis": {
           "automargin": true,
           "gridcolor": "white",
           "linecolor": "white",
           "ticks": "",
           "title": {
            "standoff": 15
           },
           "zerolinecolor": "white",
           "zerolinewidth": 2
          },
          "yaxis": {
           "automargin": true,
           "gridcolor": "white",
           "linecolor": "white",
           "ticks": "",
           "title": {
            "standoff": 15
           },
           "zerolinecolor": "white",
           "zerolinewidth": 2
          }
         }
        }
       }
      }
     },
     "metadata": {},
     "output_type": "display_data"
    }
   ],
   "source": [
    "query_node = \"R-HSA-597592\"\n",
    "\n",
    "IG.plot_subgraph_sankey(\n",
    "    query_node, upstream=True, savename=\"img/subgraph_sankey.png\", cmap=\"coolwarm\"\n",
    ")"
   ]
  }
 ],
 "metadata": {
  "kernelspec": {
   "display_name": ".fresh-venv",
   "language": "python",
   "name": "python3"
  },
  "language_info": {
   "codemirror_mode": {
    "name": "ipython",
    "version": 3
   },
   "file_extension": ".py",
   "mimetype": "text/x-python",
   "name": "python",
   "nbconvert_exporter": "python",
   "pygments_lexer": "ipython3",
   "version": "3.9.6"
  }
 },
 "nbformat": 4,
 "nbformat_minor": 2
}
