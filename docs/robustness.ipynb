{
 "cells": [
  {
   "cell_type": "markdown",
   "metadata": {},
   "source": [
    "# Robustness\n",
    "In this example we analyze how robust feature selection with BINN is. All feature selection methods are data-greedy, meaning that we need many samples to generate robust estimations of feature importance. One way to analyze this is to train and explain several models, and compare their feature importances."
   ]
  },
  {
   "cell_type": "code",
   "execution_count": 1,
   "metadata": {},
   "outputs": [
    {
     "name": "stderr",
     "output_type": "stream",
     "text": [
      "IProgress not found. Please update jupyter and ipywidgets. See https://ipywidgets.readthedocs.io/en/stable/user_install.html\n"
     ]
    },
    {
     "name": "stdout",
     "output_type": "stream",
     "text": [
      "\n",
      "BINN is on the device: cpu\n"
     ]
    }
   ],
   "source": [
    "from binn import Network, BINN\n",
    "import pandas as pd\n",
    "import numpy as np\n",
    "import torch\n",
    "import random\n",
    "\n",
    "# random seed for reproducibility\n",
    "random.seed(42)\n",
    "torch.manual_seed(42)\n",
    "np.random.seed(42)\n",
    "\n",
    "input_data = pd.read_csv(\"../data/test_qm.csv\")\n",
    "translation = pd.read_csv(\"../data/translation.tsv\", sep=\"\\t\")\n",
    "pathways = pd.read_csv(\"../data/pathways.tsv\", sep=\"\\t\")\n",
    "\n",
    "network = Network(\n",
    "    input_data=input_data,\n",
    "    pathways=pathways,\n",
    "    mapping=translation,\n",
    "    source_column=\"child\",\n",
    "    target_column=\"parent\",\n",
    ")\n",
    "\n",
    "                \n",
    "binn = BINN(\n",
    "    network=network,\n",
    "    n_layers=4,\n",
    "    dropout=0.2,\n",
    "    validate=False,\n",
    "    residual=False,\n",
    "    device=\"cpu\",\n",
    "    learning_rate =0.001\n",
    ")\n"
   ]
  },
  {
   "cell_type": "code",
   "execution_count": 2,
   "metadata": {},
   "outputs": [],
   "source": [
    "from util_for_examples import fit_data_matrix_to_network_input, generate_data\n",
    "import torch\n",
    "\n",
    "design_matrix = pd.read_csv(\"../data/design_matrix.tsv\", sep=\"\\t\")\n",
    "\n",
    "protein_matrix = fit_data_matrix_to_network_input(input_data, features=network.inputs)\n",
    "\n",
    "X, y = generate_data(protein_matrix, design_matrix=design_matrix)\n",
    "dataset = torch.utils.data.TensorDataset(\n",
    "    torch.tensor(X, dtype=torch.float32, device=binn.device),\n",
    "    torch.tensor(y, dtype=torch.int16, device=binn.device),\n",
    ")\n",
    "dataloader = torch.utils.data.DataLoader(dataset, batch_size=8, shuffle=True)"
   ]
  },
  {
   "cell_type": "code",
   "execution_count": 3,
   "metadata": {},
   "outputs": [],
   "source": [
    "from binn.explainer import BINNExplainer\n",
    "\n",
    "explainer = BINNExplainer(binn)\n"
   ]
  },
  {
   "cell_type": "markdown",
   "metadata": {},
   "source": [
    "## Explain average\n",
    "In ```exlpainer.explain_average()``` we can train the n models and explain them separately. Their resulting feature importances are concatenated to the outputted ```ìmportance_df```. "
   ]
  },
  {
   "cell_type": "code",
   "execution_count": 4,
   "metadata": {},
   "outputs": [
    {
     "name": "stdout",
     "output_type": "stream",
     "text": [
      "Iteration 0\n",
      "Final epoch: Average Accuracy 0.96, Average Loss: 0.14\n",
      "Iteration 1\n",
      "Final epoch: Average Accuracy 0.94, Average Loss: 0.15\n",
      "Iteration 2\n",
      "Final epoch: Average Accuracy 0.96, Average Loss: 0.12\n",
      "Iteration 3\n",
      "Final epoch: Average Accuracy 0.96, Average Loss: 0.14\n",
      "Iteration 4\n",
      "Final epoch: Average Accuracy 0.95, Average Loss: 0.15\n",
      "Iteration 5\n",
      "Final epoch: Average Accuracy 0.92, Average Loss: 0.19\n",
      "Iteration 6\n",
      "Final epoch: Average Accuracy 0.94, Average Loss: 0.14\n",
      "Iteration 7\n",
      "Final epoch: Average Accuracy 0.95, Average Loss: 0.15\n",
      "Iteration 8\n",
      "Final epoch: Average Accuracy 0.95, Average Loss: 0.12\n",
      "Iteration 9\n",
      "Final epoch: Average Accuracy 0.96, Average Loss: 0.15\n"
     ]
    },
    {
     "data": {
      "text/html": [
       "<div>\n",
       "<style scoped>\n",
       "    .dataframe tbody tr th:only-of-type {\n",
       "        vertical-align: middle;\n",
       "    }\n",
       "\n",
       "    .dataframe tbody tr th {\n",
       "        vertical-align: top;\n",
       "    }\n",
       "\n",
       "    .dataframe thead th {\n",
       "        text-align: right;\n",
       "    }\n",
       "</style>\n",
       "<table border=\"1\" class=\"dataframe\">\n",
       "  <thead>\n",
       "    <tr style=\"text-align: right;\">\n",
       "      <th></th>\n",
       "      <th>source</th>\n",
       "      <th>target</th>\n",
       "      <th>source name</th>\n",
       "      <th>target name</th>\n",
       "      <th>type</th>\n",
       "      <th>source layer</th>\n",
       "      <th>target layer</th>\n",
       "      <th>value_0</th>\n",
       "      <th>value_1</th>\n",
       "      <th>value_2</th>\n",
       "      <th>value_3</th>\n",
       "      <th>value_4</th>\n",
       "      <th>value_5</th>\n",
       "      <th>value_6</th>\n",
       "      <th>value_7</th>\n",
       "      <th>value_8</th>\n",
       "      <th>value_9</th>\n",
       "      <th>value_mean</th>\n",
       "      <th>values_std</th>\n",
       "      <th>value</th>\n",
       "    </tr>\n",
       "  </thead>\n",
       "  <tbody>\n",
       "    <tr>\n",
       "      <th>0</th>\n",
       "      <td>1</td>\n",
       "      <td>497</td>\n",
       "      <td>A0M8Q6</td>\n",
       "      <td>R-HSA-166663</td>\n",
       "      <td>0</td>\n",
       "      <td>0</td>\n",
       "      <td>1</td>\n",
       "      <td>0.003766</td>\n",
       "      <td>0.04759</td>\n",
       "      <td>0.040599</td>\n",
       "      <td>0.037591</td>\n",
       "      <td>0.030930</td>\n",
       "      <td>0.050208</td>\n",
       "      <td>0.044990</td>\n",
       "      <td>0.020216</td>\n",
       "      <td>0.037221</td>\n",
       "      <td>0.067721</td>\n",
       "      <td>0.038083</td>\n",
       "      <td>0.016489</td>\n",
       "      <td>0.038083</td>\n",
       "    </tr>\n",
       "    <tr>\n",
       "      <th>1</th>\n",
       "      <td>1</td>\n",
       "      <td>497</td>\n",
       "      <td>A0M8Q6</td>\n",
       "      <td>R-HSA-166663</td>\n",
       "      <td>1</td>\n",
       "      <td>0</td>\n",
       "      <td>1</td>\n",
       "      <td>0.020309</td>\n",
       "      <td>0.04680</td>\n",
       "      <td>0.014003</td>\n",
       "      <td>0.018245</td>\n",
       "      <td>0.056983</td>\n",
       "      <td>0.062000</td>\n",
       "      <td>0.052162</td>\n",
       "      <td>0.033551</td>\n",
       "      <td>0.087089</td>\n",
       "      <td>0.098307</td>\n",
       "      <td>0.048945</td>\n",
       "      <td>0.027133</td>\n",
       "      <td>0.048945</td>\n",
       "    </tr>\n",
       "    <tr>\n",
       "      <th>2</th>\n",
       "      <td>1</td>\n",
       "      <td>954</td>\n",
       "      <td>A0M8Q6</td>\n",
       "      <td>R-HSA-198933</td>\n",
       "      <td>0</td>\n",
       "      <td>0</td>\n",
       "      <td>1</td>\n",
       "      <td>0.003766</td>\n",
       "      <td>0.04759</td>\n",
       "      <td>0.040599</td>\n",
       "      <td>0.037591</td>\n",
       "      <td>0.030930</td>\n",
       "      <td>0.050208</td>\n",
       "      <td>0.044990</td>\n",
       "      <td>0.020216</td>\n",
       "      <td>0.037221</td>\n",
       "      <td>0.067721</td>\n",
       "      <td>0.038083</td>\n",
       "      <td>0.016489</td>\n",
       "      <td>0.038083</td>\n",
       "    </tr>\n",
       "    <tr>\n",
       "      <th>3</th>\n",
       "      <td>1</td>\n",
       "      <td>954</td>\n",
       "      <td>A0M8Q6</td>\n",
       "      <td>R-HSA-198933</td>\n",
       "      <td>1</td>\n",
       "      <td>0</td>\n",
       "      <td>1</td>\n",
       "      <td>0.020309</td>\n",
       "      <td>0.04680</td>\n",
       "      <td>0.014003</td>\n",
       "      <td>0.018245</td>\n",
       "      <td>0.056983</td>\n",
       "      <td>0.062000</td>\n",
       "      <td>0.052162</td>\n",
       "      <td>0.033551</td>\n",
       "      <td>0.087089</td>\n",
       "      <td>0.098307</td>\n",
       "      <td>0.048945</td>\n",
       "      <td>0.027133</td>\n",
       "      <td>0.048945</td>\n",
       "    </tr>\n",
       "    <tr>\n",
       "      <th>4</th>\n",
       "      <td>1</td>\n",
       "      <td>539</td>\n",
       "      <td>A0M8Q6</td>\n",
       "      <td>R-HSA-2029481</td>\n",
       "      <td>0</td>\n",
       "      <td>0</td>\n",
       "      <td>1</td>\n",
       "      <td>0.003766</td>\n",
       "      <td>0.04759</td>\n",
       "      <td>0.040599</td>\n",
       "      <td>0.037591</td>\n",
       "      <td>0.030930</td>\n",
       "      <td>0.050208</td>\n",
       "      <td>0.044990</td>\n",
       "      <td>0.020216</td>\n",
       "      <td>0.037221</td>\n",
       "      <td>0.067721</td>\n",
       "      <td>0.038083</td>\n",
       "      <td>0.016489</td>\n",
       "      <td>0.038083</td>\n",
       "    </tr>\n",
       "  </tbody>\n",
       "</table>\n",
       "</div>"
      ],
      "text/plain": [
       "   source  target source name    target name  type  source layer  \\\n",
       "0       1     497      A0M8Q6   R-HSA-166663     0             0   \n",
       "1       1     497      A0M8Q6   R-HSA-166663     1             0   \n",
       "2       1     954      A0M8Q6   R-HSA-198933     0             0   \n",
       "3       1     954      A0M8Q6   R-HSA-198933     1             0   \n",
       "4       1     539      A0M8Q6  R-HSA-2029481     0             0   \n",
       "\n",
       "   target layer   value_0  value_1   value_2   value_3   value_4   value_5  \\\n",
       "0             1  0.003766  0.04759  0.040599  0.037591  0.030930  0.050208   \n",
       "1             1  0.020309  0.04680  0.014003  0.018245  0.056983  0.062000   \n",
       "2             1  0.003766  0.04759  0.040599  0.037591  0.030930  0.050208   \n",
       "3             1  0.020309  0.04680  0.014003  0.018245  0.056983  0.062000   \n",
       "4             1  0.003766  0.04759  0.040599  0.037591  0.030930  0.050208   \n",
       "\n",
       "    value_6   value_7   value_8   value_9  value_mean  values_std     value  \n",
       "0  0.044990  0.020216  0.037221  0.067721    0.038083    0.016489  0.038083  \n",
       "1  0.052162  0.033551  0.087089  0.098307    0.048945    0.027133  0.048945  \n",
       "2  0.044990  0.020216  0.037221  0.067721    0.038083    0.016489  0.038083  \n",
       "3  0.052162  0.033551  0.087089  0.098307    0.048945    0.027133  0.048945  \n",
       "4  0.044990  0.020216  0.037221  0.067721    0.038083    0.016489  0.038083  "
      ]
     },
     "execution_count": 4,
     "metadata": {},
     "output_type": "execute_result"
    }
   ],
   "source": [
    "test_data = torch.Tensor(X)\n",
    "background_data = torch.Tensor(X)\n",
    "\n",
    "n_iterations = 10\n",
    "n_epochs = 30\n",
    "\n",
    "importance_df = explainer.explain_average(test_data, background_data, n_iterations, n_epochs, dataloader, fast_train=True)\n",
    "importance_df.head()"
   ]
  },
  {
   "cell_type": "code",
   "execution_count": 5,
   "metadata": {},
   "outputs": [
    {
     "data": {
      "text/html": [
       "<div>\n",
       "<style scoped>\n",
       "    .dataframe tbody tr th:only-of-type {\n",
       "        vertical-align: middle;\n",
       "    }\n",
       "\n",
       "    .dataframe tbody tr th {\n",
       "        vertical-align: top;\n",
       "    }\n",
       "\n",
       "    .dataframe thead th {\n",
       "        text-align: right;\n",
       "    }\n",
       "</style>\n",
       "<table border=\"1\" class=\"dataframe\">\n",
       "  <thead>\n",
       "    <tr style=\"text-align: right;\">\n",
       "      <th></th>\n",
       "      <th>source</th>\n",
       "      <th>target</th>\n",
       "      <th>source name</th>\n",
       "      <th>target name</th>\n",
       "      <th>type</th>\n",
       "      <th>source layer</th>\n",
       "      <th>target layer</th>\n",
       "      <th>value_0</th>\n",
       "      <th>value_1</th>\n",
       "      <th>value_2</th>\n",
       "      <th>...</th>\n",
       "      <th>value_4</th>\n",
       "      <th>value_5</th>\n",
       "      <th>value_6</th>\n",
       "      <th>value_7</th>\n",
       "      <th>value_8</th>\n",
       "      <th>value_9</th>\n",
       "      <th>value_mean</th>\n",
       "      <th>values_std</th>\n",
       "      <th>value</th>\n",
       "      <th>copy</th>\n",
       "    </tr>\n",
       "  </thead>\n",
       "  <tbody>\n",
       "    <tr>\n",
       "      <th>0</th>\n",
       "      <td>1</td>\n",
       "      <td>497</td>\n",
       "      <td>A0M8Q6</td>\n",
       "      <td>R-HSA-166663</td>\n",
       "      <td>0</td>\n",
       "      <td>0</td>\n",
       "      <td>1</td>\n",
       "      <td>0.003766</td>\n",
       "      <td>0.047590</td>\n",
       "      <td>0.040599</td>\n",
       "      <td>...</td>\n",
       "      <td>0.030930</td>\n",
       "      <td>0.050208</td>\n",
       "      <td>0.044990</td>\n",
       "      <td>0.020216</td>\n",
       "      <td>0.037221</td>\n",
       "      <td>0.067721</td>\n",
       "      <td>0.038083</td>\n",
       "      <td>0.016489</td>\n",
       "      <td>0.038083</td>\n",
       "      <td>False</td>\n",
       "    </tr>\n",
       "    <tr>\n",
       "      <th>1</th>\n",
       "      <td>1</td>\n",
       "      <td>497</td>\n",
       "      <td>A0M8Q6</td>\n",
       "      <td>R-HSA-166663</td>\n",
       "      <td>1</td>\n",
       "      <td>0</td>\n",
       "      <td>1</td>\n",
       "      <td>0.020309</td>\n",
       "      <td>0.046800</td>\n",
       "      <td>0.014003</td>\n",
       "      <td>...</td>\n",
       "      <td>0.056983</td>\n",
       "      <td>0.062000</td>\n",
       "      <td>0.052162</td>\n",
       "      <td>0.033551</td>\n",
       "      <td>0.087089</td>\n",
       "      <td>0.098307</td>\n",
       "      <td>0.048945</td>\n",
       "      <td>0.027133</td>\n",
       "      <td>0.048945</td>\n",
       "      <td>False</td>\n",
       "    </tr>\n",
       "    <tr>\n",
       "      <th>2</th>\n",
       "      <td>1</td>\n",
       "      <td>954</td>\n",
       "      <td>A0M8Q6</td>\n",
       "      <td>R-HSA-198933</td>\n",
       "      <td>0</td>\n",
       "      <td>0</td>\n",
       "      <td>1</td>\n",
       "      <td>0.003766</td>\n",
       "      <td>0.047590</td>\n",
       "      <td>0.040599</td>\n",
       "      <td>...</td>\n",
       "      <td>0.030930</td>\n",
       "      <td>0.050208</td>\n",
       "      <td>0.044990</td>\n",
       "      <td>0.020216</td>\n",
       "      <td>0.037221</td>\n",
       "      <td>0.067721</td>\n",
       "      <td>0.038083</td>\n",
       "      <td>0.016489</td>\n",
       "      <td>0.038083</td>\n",
       "      <td>False</td>\n",
       "    </tr>\n",
       "    <tr>\n",
       "      <th>3</th>\n",
       "      <td>1</td>\n",
       "      <td>954</td>\n",
       "      <td>A0M8Q6</td>\n",
       "      <td>R-HSA-198933</td>\n",
       "      <td>1</td>\n",
       "      <td>0</td>\n",
       "      <td>1</td>\n",
       "      <td>0.020309</td>\n",
       "      <td>0.046800</td>\n",
       "      <td>0.014003</td>\n",
       "      <td>...</td>\n",
       "      <td>0.056983</td>\n",
       "      <td>0.062000</td>\n",
       "      <td>0.052162</td>\n",
       "      <td>0.033551</td>\n",
       "      <td>0.087089</td>\n",
       "      <td>0.098307</td>\n",
       "      <td>0.048945</td>\n",
       "      <td>0.027133</td>\n",
       "      <td>0.048945</td>\n",
       "      <td>False</td>\n",
       "    </tr>\n",
       "    <tr>\n",
       "      <th>4</th>\n",
       "      <td>1</td>\n",
       "      <td>539</td>\n",
       "      <td>A0M8Q6</td>\n",
       "      <td>R-HSA-2029481</td>\n",
       "      <td>0</td>\n",
       "      <td>0</td>\n",
       "      <td>1</td>\n",
       "      <td>0.003766</td>\n",
       "      <td>0.047590</td>\n",
       "      <td>0.040599</td>\n",
       "      <td>...</td>\n",
       "      <td>0.030930</td>\n",
       "      <td>0.050208</td>\n",
       "      <td>0.044990</td>\n",
       "      <td>0.020216</td>\n",
       "      <td>0.037221</td>\n",
       "      <td>0.067721</td>\n",
       "      <td>0.038083</td>\n",
       "      <td>0.016489</td>\n",
       "      <td>0.038083</td>\n",
       "      <td>False</td>\n",
       "    </tr>\n",
       "    <tr>\n",
       "      <th>...</th>\n",
       "      <td>...</td>\n",
       "      <td>...</td>\n",
       "      <td>...</td>\n",
       "      <td>...</td>\n",
       "      <td>...</td>\n",
       "      <td>...</td>\n",
       "      <td>...</td>\n",
       "      <td>...</td>\n",
       "      <td>...</td>\n",
       "      <td>...</td>\n",
       "      <td>...</td>\n",
       "      <td>...</td>\n",
       "      <td>...</td>\n",
       "      <td>...</td>\n",
       "      <td>...</td>\n",
       "      <td>...</td>\n",
       "      <td>...</td>\n",
       "      <td>...</td>\n",
       "      <td>...</td>\n",
       "      <td>...</td>\n",
       "      <td>...</td>\n",
       "    </tr>\n",
       "    <tr>\n",
       "      <th>6901</th>\n",
       "      <td>1319</td>\n",
       "      <td>0</td>\n",
       "      <td>R-HSA-9612973</td>\n",
       "      <td>root</td>\n",
       "      <td>1</td>\n",
       "      <td>4</td>\n",
       "      <td>5</td>\n",
       "      <td>0.210430</td>\n",
       "      <td>0.345282</td>\n",
       "      <td>0.247439</td>\n",
       "      <td>...</td>\n",
       "      <td>0.027536</td>\n",
       "      <td>0.200686</td>\n",
       "      <td>0.034322</td>\n",
       "      <td>0.072509</td>\n",
       "      <td>0.065099</td>\n",
       "      <td>0.055107</td>\n",
       "      <td>0.130016</td>\n",
       "      <td>0.105911</td>\n",
       "      <td>0.130016</td>\n",
       "      <td>False</td>\n",
       "    </tr>\n",
       "    <tr>\n",
       "      <th>6902</th>\n",
       "      <td>1320</td>\n",
       "      <td>0</td>\n",
       "      <td>R-HSA-9709957</td>\n",
       "      <td>root</td>\n",
       "      <td>0</td>\n",
       "      <td>4</td>\n",
       "      <td>5</td>\n",
       "      <td>0.326383</td>\n",
       "      <td>0.150743</td>\n",
       "      <td>0.016936</td>\n",
       "      <td>...</td>\n",
       "      <td>0.020470</td>\n",
       "      <td>0.271241</td>\n",
       "      <td>0.300268</td>\n",
       "      <td>0.062605</td>\n",
       "      <td>0.252250</td>\n",
       "      <td>0.265667</td>\n",
       "      <td>0.177835</td>\n",
       "      <td>0.113163</td>\n",
       "      <td>0.177835</td>\n",
       "      <td>False</td>\n",
       "    </tr>\n",
       "    <tr>\n",
       "      <th>6903</th>\n",
       "      <td>1320</td>\n",
       "      <td>0</td>\n",
       "      <td>R-HSA-9709957</td>\n",
       "      <td>root</td>\n",
       "      <td>1</td>\n",
       "      <td>4</td>\n",
       "      <td>5</td>\n",
       "      <td>0.143852</td>\n",
       "      <td>0.296020</td>\n",
       "      <td>0.360922</td>\n",
       "      <td>...</td>\n",
       "      <td>0.321963</td>\n",
       "      <td>0.252727</td>\n",
       "      <td>0.338927</td>\n",
       "      <td>0.087586</td>\n",
       "      <td>0.328766</td>\n",
       "      <td>0.161152</td>\n",
       "      <td>0.260301</td>\n",
       "      <td>0.090516</td>\n",
       "      <td>0.260301</td>\n",
       "      <td>False</td>\n",
       "    </tr>\n",
       "    <tr>\n",
       "      <th>6904</th>\n",
       "      <td>1321</td>\n",
       "      <td>0</td>\n",
       "      <td>R-HSA-9748784</td>\n",
       "      <td>root</td>\n",
       "      <td>0</td>\n",
       "      <td>4</td>\n",
       "      <td>5</td>\n",
       "      <td>0.048347</td>\n",
       "      <td>0.106638</td>\n",
       "      <td>0.033202</td>\n",
       "      <td>...</td>\n",
       "      <td>0.035684</td>\n",
       "      <td>0.144263</td>\n",
       "      <td>0.139459</td>\n",
       "      <td>0.157461</td>\n",
       "      <td>0.186026</td>\n",
       "      <td>0.096128</td>\n",
       "      <td>0.115311</td>\n",
       "      <td>0.058665</td>\n",
       "      <td>0.115311</td>\n",
       "      <td>False</td>\n",
       "    </tr>\n",
       "    <tr>\n",
       "      <th>6905</th>\n",
       "      <td>1321</td>\n",
       "      <td>0</td>\n",
       "      <td>R-HSA-9748784</td>\n",
       "      <td>root</td>\n",
       "      <td>1</td>\n",
       "      <td>4</td>\n",
       "      <td>5</td>\n",
       "      <td>0.152744</td>\n",
       "      <td>0.171184</td>\n",
       "      <td>0.042447</td>\n",
       "      <td>...</td>\n",
       "      <td>0.046416</td>\n",
       "      <td>0.024173</td>\n",
       "      <td>0.066416</td>\n",
       "      <td>0.053887</td>\n",
       "      <td>0.158463</td>\n",
       "      <td>0.207614</td>\n",
       "      <td>0.098276</td>\n",
       "      <td>0.062971</td>\n",
       "      <td>0.098276</td>\n",
       "      <td>False</td>\n",
       "    </tr>\n",
       "  </tbody>\n",
       "</table>\n",
       "<p>6580 rows × 21 columns</p>\n",
       "</div>"
      ],
      "text/plain": [
       "      source  target    source name    target name  type  source layer  \\\n",
       "0          1     497         A0M8Q6   R-HSA-166663     0             0   \n",
       "1          1     497         A0M8Q6   R-HSA-166663     1             0   \n",
       "2          1     954         A0M8Q6   R-HSA-198933     0             0   \n",
       "3          1     954         A0M8Q6   R-HSA-198933     1             0   \n",
       "4          1     539         A0M8Q6  R-HSA-2029481     0             0   \n",
       "...      ...     ...            ...            ...   ...           ...   \n",
       "6901    1319       0  R-HSA-9612973           root     1             4   \n",
       "6902    1320       0  R-HSA-9709957           root     0             4   \n",
       "6903    1320       0  R-HSA-9709957           root     1             4   \n",
       "6904    1321       0  R-HSA-9748784           root     0             4   \n",
       "6905    1321       0  R-HSA-9748784           root     1             4   \n",
       "\n",
       "      target layer   value_0   value_1   value_2  ...   value_4   value_5  \\\n",
       "0                1  0.003766  0.047590  0.040599  ...  0.030930  0.050208   \n",
       "1                1  0.020309  0.046800  0.014003  ...  0.056983  0.062000   \n",
       "2                1  0.003766  0.047590  0.040599  ...  0.030930  0.050208   \n",
       "3                1  0.020309  0.046800  0.014003  ...  0.056983  0.062000   \n",
       "4                1  0.003766  0.047590  0.040599  ...  0.030930  0.050208   \n",
       "...            ...       ...       ...       ...  ...       ...       ...   \n",
       "6901             5  0.210430  0.345282  0.247439  ...  0.027536  0.200686   \n",
       "6902             5  0.326383  0.150743  0.016936  ...  0.020470  0.271241   \n",
       "6903             5  0.143852  0.296020  0.360922  ...  0.321963  0.252727   \n",
       "6904             5  0.048347  0.106638  0.033202  ...  0.035684  0.144263   \n",
       "6905             5  0.152744  0.171184  0.042447  ...  0.046416  0.024173   \n",
       "\n",
       "       value_6   value_7   value_8   value_9  value_mean  values_std  \\\n",
       "0     0.044990  0.020216  0.037221  0.067721    0.038083    0.016489   \n",
       "1     0.052162  0.033551  0.087089  0.098307    0.048945    0.027133   \n",
       "2     0.044990  0.020216  0.037221  0.067721    0.038083    0.016489   \n",
       "3     0.052162  0.033551  0.087089  0.098307    0.048945    0.027133   \n",
       "4     0.044990  0.020216  0.037221  0.067721    0.038083    0.016489   \n",
       "...        ...       ...       ...       ...         ...         ...   \n",
       "6901  0.034322  0.072509  0.065099  0.055107    0.130016    0.105911   \n",
       "6902  0.300268  0.062605  0.252250  0.265667    0.177835    0.113163   \n",
       "6903  0.338927  0.087586  0.328766  0.161152    0.260301    0.090516   \n",
       "6904  0.139459  0.157461  0.186026  0.096128    0.115311    0.058665   \n",
       "6905  0.066416  0.053887  0.158463  0.207614    0.098276    0.062971   \n",
       "\n",
       "         value   copy  \n",
       "0     0.038083  False  \n",
       "1     0.048945  False  \n",
       "2     0.038083  False  \n",
       "3     0.048945  False  \n",
       "4     0.038083  False  \n",
       "...        ...    ...  \n",
       "6901  0.130016  False  \n",
       "6902  0.177835  False  \n",
       "6903  0.260301  False  \n",
       "6904  0.115311  False  \n",
       "6905  0.098276  False  \n",
       "\n",
       "[6580 rows x 21 columns]"
      ]
     },
     "execution_count": 5,
     "metadata": {},
     "output_type": "execute_result"
    }
   ],
   "source": [
    "importance_df[\"copy\"] = importance_df.apply(lambda x: True if x[\"source name\"] == x[\"target name\"] else False, axis=1)\n",
    "importance_df = importance_df[importance_df[\"copy\"] == False]\n",
    "importance_df"
   ]
  },
  {
   "cell_type": "code",
   "execution_count": 6,
   "metadata": {},
   "outputs": [],
   "source": [
    "importance_df_copy = importance_df.groupby([\"source name\", \"source layer\", \"target layer\"], as_index=False).mean(numeric_only=True)\n",
    "mean_ranks = []\n",
    "std_ranks = []\n",
    "source_layer = []\n",
    "sources = []\n",
    "for layer in range(binn.n_layers):\n",
    "    layer_df = importance_df_copy[importance_df_copy[\"source layer\"] == layer].copy()\n",
    "    for i in range(n_iterations):\n",
    "        layer_df.sort_values(f\"value_{i}\", ascending=False, inplace=True)\n",
    "        layer_df[f\"rank_{i}\"] = range(len(layer_df.index))\n",
    "    rank_cols = [c for c in layer_df.columns if c.startswith(\"rank\")]\n",
    "    mean_ranks += (layer_df[rank_cols].mean(axis=1)/ len(layer_df.index)).tolist()\n",
    "    sources += layer_df[\"source name\"].tolist()\n",
    "    std_ranks  += (layer_df[rank_cols].std(axis=1)/ len(layer_df.index)).tolist()\n",
    "    source_layer += layer_df[\"source layer\"].tolist()\n",
    "plot_df = pd.DataFrame({\"mean\":mean_ranks, \"std\":std_ranks, \"source layer\":source_layer, \"source\":sources})"
   ]
  },
  {
   "cell_type": "code",
   "execution_count": 7,
   "metadata": {},
   "outputs": [
    {
     "data": {
      "text/html": [
       "<div>\n",
       "<style scoped>\n",
       "    .dataframe tbody tr th:only-of-type {\n",
       "        vertical-align: middle;\n",
       "    }\n",
       "\n",
       "    .dataframe tbody tr th {\n",
       "        vertical-align: top;\n",
       "    }\n",
       "\n",
       "    .dataframe thead th {\n",
       "        text-align: right;\n",
       "    }\n",
       "</style>\n",
       "<table border=\"1\" class=\"dataframe\">\n",
       "  <thead>\n",
       "    <tr style=\"text-align: right;\">\n",
       "      <th></th>\n",
       "      <th>mean</th>\n",
       "      <th>std</th>\n",
       "      <th>source layer</th>\n",
       "      <th>source</th>\n",
       "    </tr>\n",
       "  </thead>\n",
       "  <tbody>\n",
       "    <tr>\n",
       "      <th>449</th>\n",
       "      <td>0.000651</td>\n",
       "      <td>0.002060</td>\n",
       "      <td>1</td>\n",
       "      <td>R-HSA-975634</td>\n",
       "    </tr>\n",
       "    <tr>\n",
       "      <th>3</th>\n",
       "      <td>0.001114</td>\n",
       "      <td>0.002406</td>\n",
       "      <td>0</td>\n",
       "      <td>P04114</td>\n",
       "    </tr>\n",
       "    <tr>\n",
       "      <th>2</th>\n",
       "      <td>0.009354</td>\n",
       "      <td>0.005435</td>\n",
       "      <td>0</td>\n",
       "      <td>P02647</td>\n",
       "    </tr>\n",
       "    <tr>\n",
       "      <th>759</th>\n",
       "      <td>0.009653</td>\n",
       "      <td>0.017576</td>\n",
       "      <td>2</td>\n",
       "      <td>R-HSA-975634</td>\n",
       "    </tr>\n",
       "    <tr>\n",
       "      <th>1</th>\n",
       "      <td>0.014477</td>\n",
       "      <td>0.027282</td>\n",
       "      <td>0</td>\n",
       "      <td>P60709</td>\n",
       "    </tr>\n",
       "    <tr>\n",
       "      <th>8</th>\n",
       "      <td>0.016036</td>\n",
       "      <td>0.011634</td>\n",
       "      <td>0</td>\n",
       "      <td>P00734</td>\n",
       "    </tr>\n",
       "    <tr>\n",
       "      <th>4</th>\n",
       "      <td>0.017817</td>\n",
       "      <td>0.008529</td>\n",
       "      <td>0</td>\n",
       "      <td>P06727</td>\n",
       "    </tr>\n",
       "    <tr>\n",
       "      <th>12</th>\n",
       "      <td>0.019822</td>\n",
       "      <td>0.015122</td>\n",
       "      <td>0</td>\n",
       "      <td>P02452</td>\n",
       "    </tr>\n",
       "    <tr>\n",
       "      <th>6</th>\n",
       "      <td>0.021826</td>\n",
       "      <td>0.010488</td>\n",
       "      <td>0</td>\n",
       "      <td>Q9UBR2</td>\n",
       "    </tr>\n",
       "    <tr>\n",
       "      <th>0</th>\n",
       "      <td>0.026281</td>\n",
       "      <td>0.052071</td>\n",
       "      <td>0</td>\n",
       "      <td>P08571</td>\n",
       "    </tr>\n",
       "    <tr>\n",
       "      <th>29</th>\n",
       "      <td>0.027394</td>\n",
       "      <td>0.021569</td>\n",
       "      <td>0</td>\n",
       "      <td>P04908</td>\n",
       "    </tr>\n",
       "    <tr>\n",
       "      <th>451</th>\n",
       "      <td>0.028013</td>\n",
       "      <td>0.060282</td>\n",
       "      <td>1</td>\n",
       "      <td>R-HSA-5696394</td>\n",
       "    </tr>\n",
       "    <tr>\n",
       "      <th>11</th>\n",
       "      <td>0.028285</td>\n",
       "      <td>0.025199</td>\n",
       "      <td>0</td>\n",
       "      <td>P10451</td>\n",
       "    </tr>\n",
       "    <tr>\n",
       "      <th>42</th>\n",
       "      <td>0.036080</td>\n",
       "      <td>0.027853</td>\n",
       "      <td>0</td>\n",
       "      <td>P00742</td>\n",
       "    </tr>\n",
       "    <tr>\n",
       "      <th>7</th>\n",
       "      <td>0.037416</td>\n",
       "      <td>0.016460</td>\n",
       "      <td>0</td>\n",
       "      <td>P13611</td>\n",
       "    </tr>\n",
       "    <tr>\n",
       "      <th>10</th>\n",
       "      <td>0.037639</td>\n",
       "      <td>0.040546</td>\n",
       "      <td>0</td>\n",
       "      <td>P68871</td>\n",
       "    </tr>\n",
       "    <tr>\n",
       "      <th>1021</th>\n",
       "      <td>0.039655</td>\n",
       "      <td>0.064152</td>\n",
       "      <td>3</td>\n",
       "      <td>R-HSA-2187338</td>\n",
       "    </tr>\n",
       "    <tr>\n",
       "      <th>49</th>\n",
       "      <td>0.042316</td>\n",
       "      <td>0.028541</td>\n",
       "      <td>0</td>\n",
       "      <td>P27797</td>\n",
       "    </tr>\n",
       "    <tr>\n",
       "      <th>50</th>\n",
       "      <td>0.043207</td>\n",
       "      <td>0.029866</td>\n",
       "      <td>0</td>\n",
       "      <td>P01042</td>\n",
       "    </tr>\n",
       "    <tr>\n",
       "      <th>16</th>\n",
       "      <td>0.045434</td>\n",
       "      <td>0.021598</td>\n",
       "      <td>0</td>\n",
       "      <td>P02656</td>\n",
       "    </tr>\n",
       "  </tbody>\n",
       "</table>\n",
       "</div>"
      ],
      "text/plain": [
       "          mean       std  source layer         source\n",
       "449   0.000651  0.002060             1   R-HSA-975634\n",
       "3     0.001114  0.002406             0         P04114\n",
       "2     0.009354  0.005435             0         P02647\n",
       "759   0.009653  0.017576             2   R-HSA-975634\n",
       "1     0.014477  0.027282             0         P60709\n",
       "8     0.016036  0.011634             0         P00734\n",
       "4     0.017817  0.008529             0         P06727\n",
       "12    0.019822  0.015122             0         P02452\n",
       "6     0.021826  0.010488             0         Q9UBR2\n",
       "0     0.026281  0.052071             0         P08571\n",
       "29    0.027394  0.021569             0         P04908\n",
       "451   0.028013  0.060282             1  R-HSA-5696394\n",
       "11    0.028285  0.025199             0         P10451\n",
       "42    0.036080  0.027853             0         P00742\n",
       "7     0.037416  0.016460             0         P13611\n",
       "10    0.037639  0.040546             0         P68871\n",
       "1021  0.039655  0.064152             3  R-HSA-2187338\n",
       "49    0.042316  0.028541             0         P27797\n",
       "50    0.043207  0.029866             0         P01042\n",
       "16    0.045434  0.021598             0         P02656"
      ]
     },
     "execution_count": 7,
     "metadata": {},
     "output_type": "execute_result"
    }
   ],
   "source": [
    "plot_df.sort_values(\"mean\").head(20)"
   ]
  },
  {
   "cell_type": "markdown",
   "metadata": {},
   "source": [
    "If we now plot the (normalized) mean and standard deviation of the rank, we see that highly important features generally have a low standard deviation. We can therefore be the most certain about the most important features."
   ]
  },
  {
   "cell_type": "code",
   "execution_count": 8,
   "metadata": {},
   "outputs": [
    {
     "data": {
      "text/plain": [
       "<seaborn.axisgrid.JointGrid at 0x2aa140fa0>"
      ]
     },
     "execution_count": 8,
     "metadata": {},
     "output_type": "execute_result"
    },
    {
     "data": {
      "image/png": "[encoded data removed]",
      "text/plain": [
       "<Figure size 600x600 with 3 Axes>"
      ]
     },
     "metadata": {},
     "output_type": "display_data"
    }
   ],
   "source": [
    "import seaborn as sns\n",
    "\n",
    "\n",
    "sns.jointplot(plot_df, y=\"mean\", x=\"std\", hue=\"source layer\", palette=\"coolwarm\")\n",
    "\n"
   ]
  },
  {
   "cell_type": "code",
   "execution_count": 9,
   "metadata": {},
   "outputs": [],
   "source": [
    "from binn import ImportanceNetwork\n",
    "\n",
    "IG = ImportanceNetwork(importance_df, norm_method=\"fan\")\n"
   ]
  },
  {
   "cell_type": "code",
   "execution_count": 10,
   "metadata": {},
   "outputs": [
    {
     "data": {
      "application/vnd.plotly.v1+json": {
       "config": {
        "plotlyServerURL": "https://plot.ly"
       },
       "data": [
        {
         "arrangement": "snap",
         "link": {
          "color": [
           "rgba(191.0, 91.0, 22.999999999999996, 0.3)",
           "rgba(191.0, 91.0, 22.999999999999996, 0.3)",
           "rgba(102.0, 102.0, 102.0, 0.3)",
           "rgba(191.0, 91.0, 22.999999999999996, 0.3)",
           "rgba(191.0, 91.0, 22.999999999999996, 0.3)",
           "rgba(102.0, 102.0, 102.0, 0.3)",
           "rgba(102.0, 102.0, 102.0, 0.3)",
           "rgba(240.0, 2.0, 127.0, 0.3)",
           "rgba(191.0, 91.0, 22.999999999999996, 0.3)",
           "rgba(255.0, 255.0, 153.0, 0.3)",
           "rgba(255.0, 255.0, 153.0, 0.3)",
           "rgba(191.0, 91.0, 22.999999999999996, 0.3)",
           "rgba(240.0, 2.0, 127.0, 0.3)",
           "rgba(127.0, 201.0, 127.0, 0.3)",
           "rgba(127.0, 201.0, 127.0, 0.3)",
           "rgba(240.0, 2.0, 127.0, 0.3)",
           "rgba(191.0, 91.0, 22.999999999999996, 0.3)",
           "rgba(191.0, 91.0, 22.999999999999996, 0.3)",
           "rgba(255.0, 255.0, 153.0, 0.3)",
           "rgba(240.0, 2.0, 127.0, 0.3)",
           "rgba(191.0, 91.0, 22.999999999999996, 0.3)",
           "rgba(127.0, 201.0, 127.0, 0.3)",
           "rgba(191.0, 91.0, 22.999999999999996, 0.3)",
           "rgba(191.0, 91.0, 22.999999999999996, 0.3)",
           "rgba(191.0, 91.0, 22.999999999999996, 0.3)",
           "rgba(56.0, 108.0, 176.0, 0.3)",
           "rgba(255.0, 255.0, 153.0, 0.3)",
           "rgba(127.0, 201.0, 127.0, 0.3)",
           "rgba(191.0, 91.0, 22.999999999999996, 0.3)",
           "rgba(102.0, 102.0, 102.0, 0.3)",
           "rgba(190.0, 174.0, 212.0, 0.3)",
           "rgba(253.0, 192.0, 134.0, 0.3)",
           "rgba(127.0, 201.0, 127.0, 0.3)",
           "rgba(191.0, 91.0, 22.999999999999996, 0.3)",
           "rgba(191.0, 91.0, 22.999999999999996, 0.3)",
           "rgba(56.0, 108.0, 176.0, 0.3)",
           "rgba(127.0, 201.0, 127.0, 0.3)",
           "rgba(191.0, 91.0, 22.999999999999996, 0.3)",
           "rgba(253.0, 192.0, 134.0, 0.3)",
           "rgba(253.0, 192.0, 134.0, 0.3)",
           "rgba(191.0, 91.0, 22.999999999999996, 0.3)",
           "rgba(127.0, 201.0, 127.0, 0.3)",
           "rgba(191.0, 91.0, 22.999999999999996, 0.3)",
           "rgba(253.0, 192.0, 134.0, 0.3)",
           "rgba(127.0, 201.0, 127.0, 0.3)",
           "rgba(102.0, 102.0, 102.0, 0.3)",
           "rgba(102.0, 102.0, 102.0, 0.3)",
           "rgba(102.0, 102.0, 102.0, 0.3)",
           "rgba(240.0, 2.0, 127.0, 0.3)",
           "rgba(253.0, 192.0, 134.0, 0.3)",
           "rgba(191.0, 91.0, 22.999999999999996, 0.3)",
           "rgb(236,236,236, 0.3)",
           "rgba(191.0, 91.0, 22.999999999999996, 0.3)",
           "rgba(102.0, 102.0, 102.0, 0.3)",
           "rgba(190.0, 174.0, 212.0, 0.3)",
           "rgb(236,236,236, 0.3)",
           "rgb(236,236,236, 0.3)",
           "rgb(236,236,236, 0.3)",
           "rgb(236,236,236, 0.3)",
           "rgb(236,236,236, 0.3)",
           "rgb(236,236,236, 0.3)",
           "rgb(236,236,236, 0.3)",
           "rgb(236,236,236, 0.3)",
           "rgb(236,236,236, 0.3)",
           "rgb(236,236,236, 0.3)",
           "rgb(236,236,236, 0.3)",
           "rgb(236,236,236, 0.3)",
           "rgba(127.0, 201.0, 127.0, 0.3)",
           "rgba(127.0, 201.0, 127.0, 0.3)",
           "rgba(127.0, 201.0, 127.0, 0.3)",
           "rgb(236,236,236, 0.3)",
           "rgb(236,236,236, 0.3)",
           "rgb(236,236,236, 0.3)",
           "rgb(236,236,236, 0.3)",
           "rgb(236,236,236, 0.3)",
           "rgb(236,236,236, 0.3)",
           "rgb(236,236,236, 0.3)",
           "rgb(236,236,236, 0.3)",
           "rgb(236,236,236, 0.3)",
           "rgb(236,236,236, 0.3)",
           "rgb(236,236,236, 0.3)",
           "rgb(236,236,236, 0.3)",
           "rgb(236,236,236, 0.3)",
           "rgb(236,236,236, 0.3)",
           "rgb(236,236,236, 0.3)",
           "rgb(236,236,236, 0.3)",
           "rgb(236,236,236, 0.3)",
           "rgba(102.0, 102.0, 102.0, 0.3)"
          ],
          "source": [
           1,
           2,
           3,
           4,
           5,
           6,
           6,
           7,
           8,
           9,
           9,
           10,
           11,
           12,
           13,
           14,
           15,
           16,
           17,
           18,
           19,
           20,
           21,
           21,
           21,
           22,
           23,
           24,
           25,
           26,
           27,
           28,
           29,
           30,
           31,
           32,
           33,
           34,
           35,
           35,
           36,
           37,
           38,
           39,
           40,
           41,
           41,
           41,
           42,
           43,
           44,
           45,
           46,
           47,
           48,
           49,
           49,
           49,
           49,
           49,
           49,
           49,
           49,
           49,
           49,
           50,
           50,
           51,
           51,
           51,
           52,
           52,
           52,
           52,
           52,
           52,
           52,
           52,
           52,
           52,
           53,
           53,
           53,
           53,
           53,
           53,
           53,
           54
          ],
          "target": [
           52,
           45,
           38,
           9,
           34,
           50,
           19,
           52,
           0,
           32,
           33,
           0,
           0,
           0,
           14,
           18,
           45,
           0,
           0,
           0,
           52,
           0,
           50,
           26,
           9,
           7,
           0,
           0,
           53,
           53,
           16,
           50,
           43,
           50,
           20,
           52,
           24,
           23,
           50,
           37,
           48,
           13,
           5,
           50,
           29,
           50,
           26,
           9,
           15,
           45,
           53,
           0,
           45,
           53,
           45,
           26,
           9,
           54,
           38,
           47,
           22,
           42,
           25,
           40,
           44,
           36,
           5,
           50,
           26,
           9,
           12,
           8,
           16,
           20,
           17,
           10,
           18,
           11,
           23,
           24,
           14,
           34,
           2,
           31,
           33,
           46,
           27,
           1
          ],
          "value": [
           0.07728034967159617,
           0.07401521631693675,
           0.01798301175289831,
           0.02966989058014644,
           0.07658796330613711,
           0.029478469510776907,
           0.014739234755388454,
           0.09288960169401896,
           0.07776851137081682,
           0.1506414602627141,
           0.0912688532427745,
           0.07386229380897592,
           0.07967204489803799,
           0.13694235935892068,
           0.16305078739862874,
           0.08642315510731022,
           0.07890856173313995,
           0.07656321588865861,
           0.10535063492896565,
           0.08469171524235442,
           0.07771975062560954,
           0.12984057104583827,
           0.05670708393102892,
           0.018902361310342973,
           0.018902361310342973,
           0.11134816295791711,
           0.10564620802460678,
           0.12966244543282468,
           0.06717382872767512,
           0.05854499253653891,
           0.13131259684168087,
           0.08596650035472683,
           0.15115450520765894,
           0.03388176794610006,
           0.07424228997773237,
           0.09931627422675311,
           0.15341841196760156,
           0.07519704305450221,
           0.16117138332486175,
           0.017907931480540193,
           0.07350342575842912,
           0.19545142637271357,
           0.06100903858154679,
           0.08869717377635447,
           0.1811911776290488,
           0.028944494173588672,
           0.014472247086794336,
           0.014472247086794336,
           0.09722848886839366,
           0.12267376364576975,
           0.07194303143925818,
           0.1,
           0.07360508209463905,
           0.050396278441651045,
           0.13020387926068724,
           0.013577559657408514,
           0.025226737869733284,
           0.016998225181680683,
           0.006720522375012452,
           0.008229148061908961,
           0.0037643800254964846,
           0.004588208581125756,
           0.006288721828730512,
           0.00741032566910683,
           0.007196170749796547,
           0.08765457628202906,
           0.012345423717970937,
           0.3272034147727239,
           0.020450213423295244,
           0.020450213423295244,
           0.013695160351940874,
           0.017666676421803695,
           0.008453006022931801,
           0.005026593747610216,
           0.016093566706737228,
           0.010189340923483574,
           0.0004462308961472258,
           0.020924343828147958,
           0.004066712481173099,
           0.0034383686200243173,
           0.009945995742694736,
           0.02250410322770327,
           0.011186535065710747,
           0.01432423957654783,
           0.004434684229124356,
           0.011124547961121682,
           0.02647989419709737,
           0.052300603050936416
          ]
         },
         "node": {
          "color": [
           "rgba(0,0,0,1)",
           "rgba(191.0, 91.0, 22.999999999999996, 0.75)",
           "rgba(191.0, 91.0, 22.999999999999996, 0.75)",
           "rgba(102.0, 102.0, 102.0, 0.75)",
           "rgba(191.0, 91.0, 22.999999999999996, 0.75)",
           "rgba(191.0, 91.0, 22.999999999999996, 0.75)",
           "rgba(102.0, 102.0, 102.0, 0.75)",
           "rgba(240.0, 2.0, 127.0, 0.75)",
           "rgba(191.0, 91.0, 22.999999999999996, 0.75)",
           "rgba(255.0, 255.0, 153.0, 0.75)",
           "rgba(191.0, 91.0, 22.999999999999996, 0.75)",
           "rgba(240.0, 2.0, 127.0, 0.75)",
           "rgba(127.0, 201.0, 127.0, 0.75)",
           "rgba(127.0, 201.0, 127.0, 0.75)",
           "rgba(240.0, 2.0, 127.0, 0.75)",
           "rgba(191.0, 91.0, 22.999999999999996, 0.75)",
           "rgba(191.0, 91.0, 22.999999999999996, 0.75)",
           "rgba(255.0, 255.0, 153.0, 0.75)",
           "rgba(240.0, 2.0, 127.0, 0.75)",
           "rgba(191.0, 91.0, 22.999999999999996, 0.75)",
           "rgba(127.0, 201.0, 127.0, 0.75)",
           "rgba(191.0, 91.0, 22.999999999999996, 0.75)",
           "rgba(56.0, 108.0, 176.0, 0.75)",
           "rgba(255.0, 255.0, 153.0, 0.75)",
           "rgba(127.0, 201.0, 127.0, 0.75)",
           "rgba(191.0, 91.0, 22.999999999999996, 0.75)",
           "rgba(102.0, 102.0, 102.0, 0.75)",
           "rgba(190.0, 174.0, 212.0, 0.75)",
           "rgba(253.0, 192.0, 134.0, 0.75)",
           "rgba(127.0, 201.0, 127.0, 0.75)",
           "rgba(191.0, 91.0, 22.999999999999996, 0.75)",
           "rgba(191.0, 91.0, 22.999999999999996, 0.75)",
           "rgba(56.0, 108.0, 176.0, 0.75)",
           "rgba(127.0, 201.0, 127.0, 0.75)",
           "rgba(191.0, 91.0, 22.999999999999996, 0.75)",
           "rgba(253.0, 192.0, 134.0, 0.75)",
           "rgba(191.0, 91.0, 22.999999999999996, 0.75)",
           "rgba(127.0, 201.0, 127.0, 0.75)",
           "rgba(191.0, 91.0, 22.999999999999996, 0.75)",
           "rgba(253.0, 192.0, 134.0, 0.75)",
           "rgba(127.0, 201.0, 127.0, 0.75)",
           "rgba(102.0, 102.0, 102.0, 0.75)",
           "rgba(240.0, 2.0, 127.0, 0.75)",
           "rgba(253.0, 192.0, 134.0, 0.75)",
           "rgba(191.0, 91.0, 22.999999999999996, 0.75)",
           "rgb(236,236,236, 0.75)",
           "rgba(191.0, 91.0, 22.999999999999996, 0.75)",
           "rgba(102.0, 102.0, 102.0, 0.75)",
           "rgba(190.0, 174.0, 212.0, 0.75)",
           "rgb(236,236,236, 0.75)",
           "rgb(236,236,236, 0.75)",
           "rgba(127.0, 201.0, 127.0, 0.75)",
           "rgb(236,236,236, 0.75)",
           "rgb(236,236,236, 0.75)",
           "rgba(102.0, 102.0, 102.0, 0.75)"
          ],
          "label": [
           "Output",
           "R-HSA-421270",
           "R-HSA-9716542",
           "P22352",
           "O95445",
           "R-HSA-9711123",
           "P23141",
           "R-HSA-112310",
           "R-HSA-1474244",
           "R-HSA-975634",
           "R-HSA-1500931",
           "R-HSA-1643685",
           "R-HSA-168256",
           "R-HSA-5357769",
           "R-HSA-109581",
           "R-HSA-1187000",
           "R-HSA-382551",
           "R-HSA-392499",
           "R-HSA-5357801",
           "R-HSA-5578768",
           "R-HSA-5653656",
           "P06727",
           "R-HSA-888590",
           "R-HSA-8953897",
           "R-HSA-9709957",
           "R-HSA-2142845",
           "R-HSA-8963901",
           "R-HSA-174824",
           "Q9UBR2",
           "R-HSA-5696399",
           "P07998",
           "R-HSA-2173782",
           "R-HSA-6806667",
           "R-HSA-2187338",
           "R-HSA-2262752",
           "P08571",
           "R-HSA-212436",
           "R-HSA-140534",
           "R-HSA-3299685",
           "P10451",
           "R-HSA-5696394",
           "P02656",
           "R-HSA-2534343",
           "R-HSA-5696398",
           "R-HSA-6806942",
           "Other connections 5",
           "R-HSA-69239",
           "R-HSA-381033",
           "R-HSA-73857",
           "Other connections 1",
           "Other connections 2",
           "P04114",
           "Other connections 4",
           "Other connections 3",
           "R-HSA-418990"
          ],
          "line": {
           "color": "white",
           "width": 0
          },
          "pad": 15,
          "thickness": 15,
          "x": [
           0.85,
           [
            0.33499999999999996
           ],
           [
            0.5016666666666666
           ],
           [
            0.0016666666666666668
           ],
           [
            0.0016666666666666668
           ],
           [
            0.33499999999999996
           ],
           [
            0.0016666666666666668
           ],
           [
            0.33499999999999996
           ],
           [
            0.6683333333333333
           ],
           [
            0.16833333333333333
           ],
           [
            0.6683333333333333
           ],
           [
            0.6683333333333333
           ],
           [
            0.6683333333333333
           ],
           [
            0.33499999999999996
           ],
           [
            0.5016666666666666
           ],
           [
            0.5016666666666666
           ],
           [
            0.6683333333333333
           ],
           [
            0.6683333333333333
           ],
           [
            0.6683333333333333
           ],
           [
            0.33499999999999996
           ],
           [
            0.6683333333333333
           ],
           [
            0.0016666666666666668
           ],
           [
            0.16833333333333333
           ],
           [
            0.6683333333333333
           ],
           [
            0.6683333333333333
           ],
           [
            0.16833333333333333
           ],
           [
            0.16833333333333333
           ],
           [
            0.5016666666666666
           ],
           [
            0.0016666666666666668
           ],
           [
            0.33499999999999996
           ],
           [
            0.0016666666666666668
           ],
           [
            0.5016666666666666
           ],
           [
            0.33499999999999996
           ],
           [
            0.5016666666666666
           ],
           [
            0.5016666666666666
           ],
           [
            0.0016666666666666668
           ],
           [
            0.33499999999999996
           ],
           [
            0.16833333333333333
           ],
           [
            0.16833333333333333
           ],
           [
            0.0016666666666666668
           ],
           [
            0.16833333333333333
           ],
           [
            0.0016666666666666668
           ],
           [
            0.33499999999999996
           ],
           [
            0.5016666666666666
           ],
           [
            0.16833333333333333
           ],
           [
            0.6683333333333333
           ],
           [
            0.5016666666666666
           ],
           [
            0.16833333333333333
           ],
           [
            0.5016666666666666
           ],
           [
            0.0016666666666666668
           ],
           [
            0.16833333333333333
           ],
           [
            0.0016666666666666668
           ],
           [
            0.5016666666666666
           ],
           [
            0.33499999999999996
           ],
           [
            0.16833333333333333
           ]
          ],
          "y": [
           0.5,
           [
            0.5509999999999999
           ],
           [
            0.662
           ],
           [
            0.7508888888888888
           ],
           [
            0.48422222222222217
           ],
           [
            0.651
           ],
           [
            0.5731111111111111
           ],
           [
            0.35100000000000003
           ],
           [
            0.5731111111111111
           ],
           [
            0.12866666666666665
           ],
           [
            0.7508888888888888
           ],
           [
            0.48422222222222217
           ],
           [
            -0.04911111111111113
           ],
           [
            -0.04900000000000002
           ],
           [
            0.30644444444444446
           ],
           [
            0.39533333333333337
           ],
           [
            0.662
           ],
           [
            0.30644444444444446
           ],
           [
            0.39533333333333337
           ],
           [
            0.451
           ],
           [
            0.03977777777777776
           ],
           [
            0.39533333333333337
           ],
           [
            0.21755555555555556
           ],
           [
            0.21755555555555556
           ],
           [
            0.12866666666666665
           ],
           [
            0.39533333333333337
           ],
           [
            0.5731111111111111
           ],
           [
            0.03977777777777776
           ],
           [
            0.21755555555555556
           ],
           [
            0.050999999999999976
           ],
           [
            0.30644444444444446
           ],
           [
            0.5731111111111111
           ],
           [
            0.15099999999999997
           ],
           [
            -0.04911111111111113
           ],
           [
            0.48422222222222217
           ],
           [
            0.03977777777777776
           ],
           [
            0.751
           ],
           [
            -0.04911111111111113
           ],
           [
            0.48422222222222217
           ],
           [
            0.12866666666666665
           ],
           [
            0.03977777777777776
           ],
           [
            0.662
           ],
           [
            0.251
           ],
           [
            0.21755555555555556
           ],
           [
            0.30644444444444446
           ],
           [
            0.9
           ],
           [
            0.7508888888888888
           ],
           [
            0.7508888888888888
           ],
           [
            0.12866666666666665
           ],
           [
            0.9
           ],
           [
            0.9
           ],
           [
            -0.04911111111111113
           ],
           [
            0.9
           ],
           [
            0.9
           ],
           [
            0.662
           ]
          ]
         },
         "orientation": "h",
         "textfont": {
          "family": "Arial",
          "size": 15
         },
         "type": "sankey"
        }
       ],
       "layout": {
        "template": {
         "data": {
          "bar": [
           {
            "error_x": {
             "color": "#2a3f5f"
            },
            "error_y": {
             "color": "#2a3f5f"
            },
            "marker": {
             "line": {
              "color": "#E5ECF6",
              "width": 0.5
             },
             "pattern": {
              "fillmode": "overlay",
              "size": 10,
              "solidity": 0.2
             }
            },
            "type": "bar"
           }
          ],
          "barpolar": [
           {
            "marker": {
             "line": {
              "color": "#E5ECF6",
              "width": 0.5
             },
             "pattern": {
              "fillmode": "overlay",
              "size": 10,
              "solidity": 0.2
             }
            },
            "type": "barpolar"
           }
          ],
          "carpet": [
           {
            "aaxis": {
             "endlinecolor": "#2a3f5f",
             "gridcolor": "white",
             "linecolor": "white",
             "minorgridcolor": "white",
             "startlinecolor": "#2a3f5f"
            },
            "baxis": {
             "endlinecolor": "#2a3f5f",
             "gridcolor": "white",
             "linecolor": "white",
             "minorgridcolor": "white",
             "startlinecolor": "#2a3f5f"
            },
            "type": "carpet"
           }
          ],
          "choropleth": [
           {
            "colorbar": {
             "outlinewidth": 0,
             "ticks": ""
            },
            "type": "choropleth"
           }
          ],
          "contour": [
           {
            "colorbar": {
             "outlinewidth": 0,
             "ticks": ""
            },
            "colorscale": [
             [
              0,
              "#0d0887"
             ],
             [
              0.1111111111111111,
              "#46039f"
             ],
             [
              0.2222222222222222,
              "#7201a8"
             ],
             [
              0.3333333333333333,
              "#9c179e"
             ],
             [
              0.4444444444444444,
              "#bd3786"
             ],
             [
              0.5555555555555556,
              "#d8576b"
             ],
             [
              0.6666666666666666,
              "#ed7953"
             ],
             [
              0.7777777777777778,
              "#fb9f3a"
             ],
             [
              0.8888888888888888,
              "#fdca26"
             ],
             [
              1,
              "#f0f921"
             ]
            ],
            "type": "contour"
           }
          ],
          "contourcarpet": [
           {
            "colorbar": {
             "outlinewidth": 0,
             "ticks": ""
            },
            "type": "contourcarpet"
           }
          ],
          "heatmap": [
           {
            "colorbar": {
             "outlinewidth": 0,
             "ticks": ""
            },
            "colorscale": [
             [
              0,
              "#0d0887"
             ],
             [
              0.1111111111111111,
              "#46039f"
             ],
             [
              0.2222222222222222,
              "#7201a8"
             ],
             [
              0.3333333333333333,
              "#9c179e"
             ],
             [
              0.4444444444444444,
              "#bd3786"
             ],
             [
              0.5555555555555556,
              "#d8576b"
             ],
             [
              0.6666666666666666,
              "#ed7953"
             ],
             [
              0.7777777777777778,
              "#fb9f3a"
             ],
             [
              0.8888888888888888,
              "#fdca26"
             ],
             [
              1,
              "#f0f921"
             ]
            ],
            "type": "heatmap"
           }
          ],
          "heatmapgl": [
           {
            "colorbar": {
             "outlinewidth": 0,
             "ticks": ""
            },
            "colorscale": [
             [
              0,
              "#0d0887"
             ],
             [
              0.1111111111111111,
              "#46039f"
             ],
             [
              0.2222222222222222,
              "#7201a8"
             ],
             [
              0.3333333333333333,
              "#9c179e"
             ],
             [
              0.4444444444444444,
              "#bd3786"
             ],
             [
              0.5555555555555556,
              "#d8576b"
             ],
             [
              0.6666666666666666,
              "#ed7953"
             ],
             [
              0.7777777777777778,
              "#fb9f3a"
             ],
             [
              0.8888888888888888,
              "#fdca26"
             ],
             [
              1,
              "#f0f921"
             ]
            ],
            "type": "heatmapgl"
           }
          ],
          "histogram": [
           {
            "marker": {
             "pattern": {
              "fillmode": "overlay",
              "size": 10,
              "solidity": 0.2
             }
            },
            "type": "histogram"
           }
          ],
          "histogram2d": [
           {
            "colorbar": {
             "outlinewidth": 0,
             "ticks": ""
            },
            "colorscale": [
             [
              0,
              "#0d0887"
             ],
             [
              0.1111111111111111,
              "#46039f"
             ],
             [
              0.2222222222222222,
              "#7201a8"
             ],
             [
              0.3333333333333333,
              "#9c179e"
             ],
             [
              0.4444444444444444,
              "#bd3786"
             ],
             [
              0.5555555555555556,
              "#d8576b"
             ],
             [
              0.6666666666666666,
              "#ed7953"
             ],
             [
              0.7777777777777778,
              "#fb9f3a"
             ],
             [
              0.8888888888888888,
              "#fdca26"
             ],
             [
              1,
              "#f0f921"
             ]
            ],
            "type": "histogram2d"
           }
          ],
          "histogram2dcontour": [
           {
            "colorbar": {
             "outlinewidth": 0,
             "ticks": ""
            },
            "colorscale": [
             [
              0,
              "#0d0887"
             ],
             [
              0.1111111111111111,
              "#46039f"
             ],
             [
              0.2222222222222222,
              "#7201a8"
             ],
             [
              0.3333333333333333,
              "#9c179e"
             ],
             [
              0.4444444444444444,
              "#bd3786"
             ],
             [
              0.5555555555555556,
              "#d8576b"
             ],
             [
              0.6666666666666666,
              "#ed7953"
             ],
             [
              0.7777777777777778,
              "#fb9f3a"
             ],
             [
              0.8888888888888888,
              "#fdca26"
             ],
             [
              1,
              "#f0f921"
             ]
            ],
            "type": "histogram2dcontour"
           }
          ],
          "mesh3d": [
           {
            "colorbar": {
             "outlinewidth": 0,
             "ticks": ""
            },
            "type": "mesh3d"
           }
          ],
          "parcoords": [
           {
            "line": {
             "colorbar": {
              "outlinewidth": 0,
              "ticks": ""
             }
            },
            "type": "parcoords"
           }
          ],
          "pie": [
           {
            "automargin": true,
            "type": "pie"
           }
          ],
          "scatter": [
           {
            "fillpattern": {
             "fillmode": "overlay",
             "size": 10,
             "solidity": 0.2
            },
            "type": "scatter"
           }
          ],
          "scatter3d": [
           {
            "line": {
             "colorbar": {
              "outlinewidth": 0,
              "ticks": ""
             }
            },
            "marker": {
             "colorbar": {
              "outlinewidth": 0,
              "ticks": ""
             }
            },
            "type": "scatter3d"
           }
          ],
          "scattercarpet": [
           {
            "marker": {
             "colorbar": {
              "outlinewidth": 0,
              "ticks": ""
             }
            },
            "type": "scattercarpet"
           }
          ],
          "scattergeo": [
           {
            "marker": {
             "colorbar": {
              "outlinewidth": 0,
              "ticks": ""
             }
            },
            "type": "scattergeo"
           }
          ],
          "scattergl": [
           {
            "marker": {
             "colorbar": {
              "outlinewidth": 0,
              "ticks": ""
             }
            },
            "type": "scattergl"
           }
          ],
          "scattermapbox": [
           {
            "marker": {
             "colorbar": {
              "outlinewidth": 0,
              "ticks": ""
             }
            },
            "type": "scattermapbox"
           }
          ],
          "scatterpolar": [
           {
            "marker": {
             "colorbar": {
              "outlinewidth": 0,
              "ticks": ""
             }
            },
            "type": "scatterpolar"
           }
          ],
          "scatterpolargl": [
           {
            "marker": {
             "colorbar": {
              "outlinewidth": 0,
              "ticks": ""
             }
            },
            "type": "scatterpolargl"
           }
          ],
          "scatterternary": [
           {
            "marker": {
             "colorbar": {
              "outlinewidth": 0,
              "ticks": ""
             }
            },
            "type": "scatterternary"
           }
          ],
          "surface": [
           {
            "colorbar": {
             "outlinewidth": 0,
             "ticks": ""
            },
            "colorscale": [
             [
              0,
              "#0d0887"
             ],
             [
              0.1111111111111111,
              "#46039f"
             ],
             [
              0.2222222222222222,
              "#7201a8"
             ],
             [
              0.3333333333333333,
              "#9c179e"
             ],
             [
              0.4444444444444444,
              "#bd3786"
             ],
             [
              0.5555555555555556,
              "#d8576b"
             ],
             [
              0.6666666666666666,
              "#ed7953"
             ],
             [
              0.7777777777777778,
              "#fb9f3a"
             ],
             [
              0.8888888888888888,
              "#fdca26"
             ],
             [
              1,
              "#f0f921"
             ]
            ],
            "type": "surface"
           }
          ],
          "table": [
           {
            "cells": {
             "fill": {
              "color": "#EBF0F8"
             },
             "line": {
              "color": "white"
             }
            },
            "header": {
             "fill": {
              "color": "#C8D4E3"
             },
             "line": {
              "color": "white"
             }
            },
            "type": "table"
           }
          ]
         },
         "layout": {
          "annotationdefaults": {
           "arrowcolor": "#2a3f5f",
           "arrowhead": 0,
           "arrowwidth": 1
          },
          "autotypenumbers": "strict",
          "coloraxis": {
           "colorbar": {
            "outlinewidth": 0,
            "ticks": ""
           }
          },
          "colorscale": {
           "diverging": [
            [
             0,
             "#8e0152"
            ],
            [
             0.1,
             "#c51b7d"
            ],
            [
             0.2,
             "#de77ae"
            ],
            [
             0.3,
             "#f1b6da"
            ],
            [
             0.4,
             "#fde0ef"
            ],
            [
             0.5,
             "#f7f7f7"
            ],
            [
             0.6,
             "#e6f5d0"
            ],
            [
             0.7,
             "#b8e186"
            ],
            [
             0.8,
             "#7fbc41"
            ],
            [
             0.9,
             "#4d9221"
            ],
            [
             1,
             "#276419"
            ]
           ],
           "sequential": [
            [
             0,
             "#0d0887"
            ],
            [
             0.1111111111111111,
             "#46039f"
            ],
            [
             0.2222222222222222,
             "#7201a8"
            ],
            [
             0.3333333333333333,
             "#9c179e"
            ],
            [
             0.4444444444444444,
             "#bd3786"
            ],
            [
             0.5555555555555556,
             "#d8576b"
            ],
            [
             0.6666666666666666,
             "#ed7953"
            ],
            [
             0.7777777777777778,
             "#fb9f3a"
            ],
            [
             0.8888888888888888,
             "#fdca26"
            ],
            [
             1,
             "#f0f921"
            ]
           ],
           "sequentialminus": [
            [
             0,
             "#0d0887"
            ],
            [
             0.1111111111111111,
             "#46039f"
            ],
            [
             0.2222222222222222,
             "#7201a8"
            ],
            [
             0.3333333333333333,
             "#9c179e"
            ],
            [
             0.4444444444444444,
             "#bd3786"
            ],
            [
             0.5555555555555556,
             "#d8576b"
            ],
            [
             0.6666666666666666,
             "#ed7953"
            ],
            [
             0.7777777777777778,
             "#fb9f3a"
            ],
            [
             0.8888888888888888,
             "#fdca26"
            ],
            [
             1,
             "#f0f921"
            ]
           ]
          },
          "colorway": [
           "#636efa",
           "#EF553B",
           "#00cc96",
           "#ab63fa",
           "#FFA15A",
           "#19d3f3",
           "#FF6692",
           "#B6E880",
           "#FF97FF",
           "#FECB52"
          ],
          "font": {
           "color": "#2a3f5f"
          },
          "geo": {
           "bgcolor": "white",
           "lakecolor": "white",
           "landcolor": "#E5ECF6",
           "showlakes": true,
           "showland": true,
           "subunitcolor": "white"
          },
          "hoverlabel": {
           "align": "left"
          },
          "hovermode": "closest",
          "mapbox": {
           "style": "light"
          },
          "paper_bgcolor": "white",
          "plot_bgcolor": "#E5ECF6",
          "polar": {
           "angularaxis": {
            "gridcolor": "white",
            "linecolor": "white",
            "ticks": ""
           },
           "bgcolor": "#E5ECF6",
           "radialaxis": {
            "gridcolor": "white",
            "linecolor": "white",
            "ticks": ""
           }
          },
          "scene": {
           "xaxis": {
            "backgroundcolor": "#E5ECF6",
            "gridcolor": "white",
            "gridwidth": 2,
            "linecolor": "white",
            "showbackground": true,
            "ticks": "",
            "zerolinecolor": "white"
           },
           "yaxis": {
            "backgroundcolor": "#E5ECF6",
            "gridcolor": "white",
            "gridwidth": 2,
            "linecolor": "white",
            "showbackground": true,
            "ticks": "",
            "zerolinecolor": "white"
           },
           "zaxis": {
            "backgroundcolor": "#E5ECF6",
            "gridcolor": "white",
            "gridwidth": 2,
            "linecolor": "white",
            "showbackground": true,
            "ticks": "",
            "zerolinecolor": "white"
           }
          },
          "shapedefaults": {
           "line": {
            "color": "#2a3f5f"
           }
          },
          "ternary": {
           "aaxis": {
            "gridcolor": "white",
            "linecolor": "white",
            "ticks": ""
           },
           "baxis": {
            "gridcolor": "white",
            "linecolor": "white",
            "ticks": ""
           },
           "bgcolor": "#E5ECF6",
           "caxis": {
            "gridcolor": "white",
            "linecolor": "white",
            "ticks": ""
           }
          },
          "title": {
           "x": 0.05
          },
          "xaxis": {
           "automargin": true,
           "gridcolor": "white",
           "linecolor": "white",
           "ticks": "",
           "title": {
            "standoff": 15
           },
           "zerolinecolor": "white",
           "zerolinewidth": 2
          },
          "yaxis": {
           "automargin": true,
           "gridcolor": "white",
           "linecolor": "white",
           "ticks": "",
           "title": {
            "standoff": 15
           },
           "zerolinecolor": "white",
           "zerolinewidth": 2
          }
         }
        }
       }
      }
     },
     "metadata": {},
     "output_type": "display_data"
    }
   ],
   "source": [
    "IG.plot_complete_sankey(\n",
    "    multiclass=False, savename=\"img/complete_sankey.png\", node_cmap=\"Accent_r\", edge_cmap=\"Accent_r\"\n",
    ")"
   ]
  },
  {
   "cell_type": "code",
   "execution_count": 11,
   "metadata": {},
   "outputs": [
    {
     "data": {
      "application/vnd.plotly.v1+json": {
       "config": {
        "plotlyServerURL": "https://plot.ly"
       },
       "data": [
        {
         "arrangement": "snap",
         "link": {
          "color": [
           "rgba(58.6004535, 76.17308133, 192.189204015, 0.5)",
           "rgba(58.6004535, 76.17308133, 192.189204015, 0.5)",
           "rgba(104.450829652, 137.89341972800003, 238.563904234, 0.5)",
           "rgba(104.450829652, 137.89341972800003, 238.563904234, 0.5)",
           "rgba(87.53576847600002, 117.135176856, 225.45109001400002, 0.5)",
           "rgba(87.53576847600002, 117.135176856, 225.45109001400002, 0.5)",
           "rgba(70.33591634999999, 93.51281346, 207.20099852, 0.5)",
           "rgba(70.33591634999999, 93.51281346, 207.20099852, 0.5)",
           "rgba(62.09755878, 81.393261042, 196.77643057499998, 0.5)",
           "rgba(62.09755878, 81.393261042, 196.77643057499998, 0.5)",
           "rgba(88.82245206, 118.75634235999999, 226.52827154999997, 0.5)",
           "rgba(88.82245206, 118.75634235999999, 226.52827154999997, 0.5)",
           "rgba(237.320492065, 208.81363491200003, 193.582329628, 0.5)",
           "rgba(237.320492065, 208.81363491200003, 193.582329628, 0.5)",
           "rgba(141.34952682799997, 175.97473785999998, 253.8564648, 0.5)",
           "rgba(141.34952682799997, 175.97473785999998, 253.8564648, 0.5)",
           "rgba(208.60440581999998, 218.175367774, 233.23259222000002, 0.5)",
           "rgba(208.60440581999998, 218.175367774, 233.23259222000002, 0.5)",
           "rgba(167.454131225, 196.81065157499998, 253.703028627, 0.5)",
           "rgba(167.454131225, 196.81065157499998, 253.703028627, 0.5)",
           "rgba(83.794134066, 112.12651664399999, 221.744751948, 0.5)",
           "rgba(83.794134066, 112.12651664399999, 221.744751948, 0.5)",
           "rgba(93.969186396, 125.24100437599999, 230.836997694, 0.5)",
           "rgba(93.969186396, 125.24100437599999, 230.836997694, 0.5)",
           "rgba(133.032551612, 168.19764462, 251.872685928, 0.5)",
           "rgba(133.032551612, 168.19764462, 251.872685928, 0.5)",
           "rgba(73.94887922999999, 98.64309742799999, 211.37622159199998, 0.5)",
           "rgba(73.94887922999999, 98.64309742799999, 211.37622159199998, 0.5)",
           "rgba(215.05633441899997, 219.764011774, 226.95436480700002, 0.5)",
           "rgba(215.05633441899997, 219.764011774, 226.95436480700002, 0.5)",
           "rgba(244.64310605499998, 155.62796890500002, 124.79237199, 0.5)",
           "rgba(244.64310605499998, 155.62796890500002, 124.79237199, 0.5)",
           "rgba(91.39581922800001, 121.998673368, 228.682634622, 0.5)",
           "rgba(91.39581922800001, 121.998673368, 228.682634622, 0.5)",
           "rgba(137.19107500399997, 172.09990637999996, 252.889082856, 0.5)",
           "rgba(137.19107500399997, 172.09990637999996, 252.889082856, 0.5)",
           "rgba(87.53576847600002, 117.135176856, 225.45109001400002, 0.5)",
           "rgba(87.53576847600002, 117.135176856, 225.45109001400002, 0.5)",
           "rgba(77.564443186, 103.770945124, 215.541995308, 0.5)",
           "rgba(77.564443186, 103.770945124, 215.541995308, 0.5)",
           "rgba(82.54819589, 110.45540233999999, 220.50420062, 0.5)",
           "rgba(82.54819589, 110.45540233999999, 220.50420062, 0.5)",
           "rgba(139.96342393199998, 174.70141421999998, 253.56668080800003, 0.5)",
           "rgba(139.96342393199998, 174.70141421999998, 253.56668080800003, 0.5)",
           "rgba(81.30225771399999, 108.78428803599999, 219.26364929200003, 0.5)",
           "rgba(81.30225771399999, 108.78428803599999, 219.26364929200003, 0.5)",
           "rgba(85.04007224200001, 113.79763094799999, 222.985303276, 0.5)",
           "rgba(85.04007224200001, 113.79763094799999, 222.985303276, 0.5)",
           "rgba(83.794134066, 112.12651664399999, 221.744751948, 0.5)",
           "rgba(83.794134066, 112.12651664399999, 221.744751948, 0.5)",
           "rgba(83.794134066, 112.12651664399999, 221.744751948, 0.5)",
           "rgba(83.794134066, 112.12651664399999, 221.744751948, 0.5)",
           "rgba(179.94665529, 3.9668208, 38.30936706, 0.5)",
           "rgba(179.94665529, 3.9668208, 38.30936706, 0.5)",
           "rgba(197.040016894, 213.939445396, 242.076283778, 0.5)",
           "rgba(197.040016894, 213.939445396, 242.076283778, 0.5)",
           "rgba(197.040016894, 213.939445396, 242.076283778, 0.5)",
           "rgba(197.040016894, 213.939445396, 242.076283778, 0.5)",
           "rgba(197.040016894, 213.939445396, 242.076283778, 0.5)",
           "rgba(197.040016894, 213.939445396, 242.076283778, 0.5)",
           "rgba(96.542553564, 128.48333538400001, 232.991360766, 0.5)",
           "rgba(96.542553564, 128.48333538400001, 232.991360766, 0.5)",
           "rgba(91.39581922800001, 121.998673368, 228.682634622, 0.5)",
           "rgba(91.39581922800001, 121.998673368, 228.682634622, 0.5)",
           "rgba(88.82245206, 118.75634235999999, 226.52827154999997, 0.5)",
           "rgba(88.82245206, 118.75634235999999, 226.52827154999997, 0.5)",
           "rgba(81.30225771399999, 108.78428803599999, 219.26364929200003, 0.5)",
           "rgba(81.30225771399999, 108.78428803599999, 219.26364929200003, 0.5)",
           "rgba(182.032385294, 206.25857104099998, 249.743553731, 0.5)",
           "rgba(182.032385294, 206.25857104099998, 249.743553731, 0.5)",
           "rgba(82.54819589, 110.45540233999999, 220.50420062, 0.5)",
           "rgba(82.54819589, 110.45540233999999, 220.50420062, 0.5)",
           "rgba(244.924965639, 157.150488105, 126.34398312600001, 0.5)",
           "rgba(244.924965639, 157.150488105, 126.34398312600001, 0.5)",
           "rgba(100.48062792399999, 133.215430736, 235.85365469799999, 0.5)",
           "rgba(100.48062792399999, 133.215430736, 235.85365469799999, 0.5)",
           "rgba(153.806327319, 186.539506725, 254.88914602699998, 0.5)",
           "rgba(153.806327319, 186.539506725, 254.88914602699998, 0.5)",
           "rgba(73.94887922999999, 98.64309742799999, 211.37622159199998, 0.5)",
           "rgba(73.94887922999999, 98.64309742799999, 211.37622159199998, 0.5)",
           "rgba(227.413307491, 217.253185646, 211.416744935, 0.5)",
           "rgba(227.413307491, 217.253185646, 211.416744935, 0.5)",
           "rgba(112.486294712, 147.01562553600002, 243.409062563, 0.5)",
           "rgba(112.486294712, 147.01562553600002, 243.409062563, 0.5)",
           "rgba(112.486294712, 147.01562553600002, 243.409062563, 0.5)",
           "rgba(112.486294712, 147.01562553600002, 243.409062563, 0.5)",
           "rgba(78.810381362, 105.442059428, 216.782546636, 0.5)",
           "rgba(78.810381362, 105.442059428, 216.782546636, 0.5)",
           "rgba(90.109135644, 120.377507864, 227.60545308599998, 0.5)",
           "rgba(90.109135644, 120.377507864, 227.60545308599998, 0.5)",
           "rgba(216.078050931, 219.930483006, 225.81281994300002, 0.5)",
           "rgba(216.078050931, 219.930483006, 225.81281994300002, 0.5)",
           "rgba(66.76036582, 88.35350065800002, 202.89273265499997, 0.5)",
           "rgba(66.76036582, 88.35350065800002, 202.89273265499997, 0.5)",
           "rgba(76.35752115, 102.06328674, 214.15970364, 0.5)",
           "rgba(76.35752115, 102.06328674, 214.15970364, 0.5)",
           "rgba(164.75876674499997, 194.93130661499998, 254.201457939, 0.5)",
           "rgba(164.75876674499997, 194.93130661499998, 254.201457939, 0.5)",
           "rgba(87.53576847600002, 117.135176856, 225.45109001400002, 0.5)",
           "rgba(87.53576847600002, 117.135176856, 225.45109001400002, 0.5)",
           "rgba(87.53576847600002, 117.135176856, 225.45109001400002, 0.5)",
           "rgba(87.53576847600002, 117.135176856, 225.45109001400002, 0.5)",
           "rgba(87.53576847600002, 117.135176856, 225.45109001400002, 0.5)",
           "rgba(87.53576847600002, 117.135176856, 225.45109001400002, 0.5)",
           "rgba(126.13281398399998, 161.420676704, 249.640618319, 0.5)",
           "rgba(126.13281398399998, 161.420676704, 249.640618319, 0.5)",
           "rgba(126.13281398399998, 161.420676704, 249.640618319, 0.5)",
           "rgba(126.13281398399998, 161.420676704, 249.640618319, 0.5)",
           "rgba(126.13281398399998, 161.420676704, 249.640618319, 0.5)",
           "rgba(126.13281398399998, 161.420676704, 249.640618319, 0.5)",
           "rgba(234.440877171, 211.9745445, 199.632775764, 0.5)",
           "rgba(234.440877171, 211.9745445, 199.632775764, 0.5)",
           "rgba(66.76036582, 88.35350065800002, 202.89273265499997, 0.5)",
           "rgba(66.76036582, 88.35350065800002, 202.89273265499997, 0.5)",
           "rgba(73.94887922999999, 98.64309742799999, 211.37622159199998, 0.5)",
           "rgba(73.94887922999999, 98.64309742799999, 211.37622159199998, 0.5)",
           "rgba(73.94887922999999, 98.64309742799999, 211.37622159199998, 0.5)",
           "rgba(73.94887922999999, 98.64309742799999, 211.37622159199998, 0.5)",
           "rgba(73.94887922999999, 98.64309742799999, 211.37622159199998, 0.5)",
           "rgba(73.94887922999999, 98.64309742799999, 211.37622159199998, 0.5)",
           "rgba(83.794134066, 112.12651664399999, 221.744751948, 0.5)",
           "rgba(83.794134066, 112.12651664399999, 221.744751948, 0.5)",
           "rgba(83.794134066, 112.12651664399999, 221.744751948, 0.5)",
           "rgba(83.794134066, 112.12651664399999, 221.744751948, 0.5)",
           "rgba(83.794134066, 112.12651664399999, 221.744751948, 0.5)",
           "rgba(83.794134066, 112.12651664399999, 221.744751948, 0.5)",
           "rgba(87.53576847600002, 117.135176856, 225.45109001400002, 0.5)",
           "rgba(87.53576847600002, 117.135176856, 225.45109001400002, 0.5)",
           "rgba(87.53576847600002, 117.135176856, 225.45109001400002, 0.5)",
           "rgba(87.53576847600002, 117.135176856, 225.45109001400002, 0.5)",
           "rgba(87.53576847600002, 117.135176856, 225.45109001400002, 0.5)",
           "rgba(87.53576847600002, 117.135176856, 225.45109001400002, 0.5)",
           "rgba(72.74455827, 96.93300277200001, 209.984480568, 0.5)",
           "rgba(72.74455827, 96.93300277200001, 209.984480568, 0.5)",
           "rgba(101.80402849999999, 134.77476040000002, 236.75707121000002, 0.5)",
           "rgba(101.80402849999999, 134.77476040000002, 236.75707121000002, 0.5)",
           "rgba(101.80402849999999, 134.77476040000002, 236.75707121000002, 0.5)",
           "rgba(101.80402849999999, 134.77476040000002, 236.75707121000002, 0.5)",
           "rgba(101.80402849999999, 134.77476040000002, 236.75707121000002, 0.5)",
           "rgba(101.80402849999999, 134.77476040000002, 236.75707121000002, 0.5)",
           "rgba(101.80402849999999, 134.77476040000002, 236.75707121000002, 0.5)",
           "rgba(101.80402849999999, 134.77476040000002, 236.75707121000002, 0.5)",
           "rgba(218.121483955, 220.26342547, 223.529730215, 0.5)",
           "rgba(218.121483955, 220.26342547, 223.529730215, 0.5)",
           "rgba(108.4257374, 142.55983584, 241.245671555, 0.5)",
           "rgba(108.4257374, 142.55983584, 241.245671555, 0.5)",
           "rgba(108.4257374, 142.55983584, 241.245671555, 0.5)",
           "rgba(108.4257374, 142.55983584, 241.245671555, 0.5)",
           "rgba(108.4257374, 142.55983584, 241.245671555, 0.5)",
           "rgba(108.4257374, 142.55983584, 241.245671555, 0.5)",
           "rgba(67.92727442999998, 90.09262414800001, 204.417516472, 0.5)",
           "rgba(67.92727442999998, 90.09262414800001, 204.417516472, 0.5)",
           "rgba(127.507793952, 162.81965923200002, 250.172881647, 0.5)",
           "rgba(127.507793952, 162.81965923200002, 250.172881647, 0.5)",
           "rgba(108.4257374, 142.55983584, 241.245671555, 0.5)",
           "rgba(108.4257374, 142.55983584, 241.245671555, 0.5)",
           "rgba(83.794134066, 112.12651664399999, 221.744751948, 0.5)",
           "rgba(83.794134066, 112.12651664399999, 221.744751948, 0.5)",
           "rgba(66.76036582, 88.35350065800002, 202.89273265499997, 0.5)",
           "rgba(66.76036582, 88.35350065800002, 202.89273265499997, 0.5)",
           "rgba(138.577249468, 173.4006603, 253.227881832, 0.5)",
           "rgba(138.577249468, 173.4006603, 253.227881832, 0.5)",
           "rgba(66.76036582, 88.35350065800002, 202.89273265499997, 0.5)",
           "rgba(66.76036582, 88.35350065800002, 202.89273265499997, 0.5)",
           "rgba(66.76036582, 88.35350065800002, 202.89273265499997, 0.5)",
           "rgba(66.76036582, 88.35350065800002, 202.89273265499997, 0.5)",
           "rgba(66.76036582, 88.35350065800002, 202.89273265499997, 0.5)",
           "rgba(66.76036582, 88.35350065800002, 202.89273265499997, 0.5)",
           "rgba(83.794134066, 112.12651664399999, 221.744751948, 0.5)",
           "rgba(83.794134066, 112.12651664399999, 221.744751948, 0.5)",
           "rgba(83.794134066, 112.12651664399999, 221.744751948, 0.5)",
           "rgba(83.794134066, 112.12651664399999, 221.744751948, 0.5)",
           "rgba(77.564443186, 103.770945124, 215.541995308, 0.5)",
           "rgba(77.564443186, 103.770945124, 215.541995308, 0.5)",
           "rgba(76.35752115, 102.06328674, 214.15970364, 0.5)",
           "rgba(76.35752115, 102.06328674, 214.15970364, 0.5)",
           "rgba(126.13281398399998, 161.420676704, 249.640618319, 0.5)",
           "rgba(126.13281398399998, 161.420676704, 249.640618319, 0.5)",
           "rgba(137.19107500399997, 172.09990637999996, 252.889082856, 0.5)",
           "rgba(137.19107500399997, 172.09990637999996, 252.889082856, 0.5)",
           "rgba(184.63054983, 207.802150125, 248.79099751500002, 0.5)",
           "rgba(184.63054983, 207.802150125, 248.79099751500002, 0.5)",
           "rgba(149.66485598, 183.12093466, 254.71289904, 0.5)",
           "rgba(149.66485598, 183.12093466, 254.71289904, 0.5)",
           "rgba(149.66485598, 183.12093466, 254.71289904, 0.5)",
           "rgba(149.66485598, 183.12093466, 254.71289904, 0.5)",
           "rgba(91.39581922800001, 121.998673368, 228.682634622, 0.5)",
           "rgba(91.39581922800001, 121.998673368, 228.682634622, 0.5)",
           "rgba(91.39581922800001, 121.998673368, 228.682634622, 0.5)",
           "rgba(91.39581922800001, 121.998673368, 228.682634622, 0.5)",
           "rgba(91.39581922800001, 121.998673368, 228.682634622, 0.5)",
           "rgba(91.39581922800001, 121.998673368, 228.682634622, 0.5)",
           "rgba(81.30225771399999, 108.78428803599999, 219.26364929200003, 0.5)",
           "rgba(81.30225771399999, 108.78428803599999, 219.26364929200003, 0.5)",
           "rgba(92.682502812, 123.619838872, 229.759816158, 0.5)",
           "rgba(92.682502812, 123.619838872, 229.759816158, 0.5)",
           "rgba(96.542553564, 128.48333538400001, 232.991360766, 0.5)",
           "rgba(96.542553564, 128.48333538400001, 232.991360766, 0.5)",
           "rgba(67.92727442999998, 90.09262414800001, 204.417516472, 0.5)",
           "rgba(67.92727442999998, 90.09262414800001, 204.417516472, 0.5)",
           "rgba(155.179576887, 187.609933605, 254.83522545099999, 0.5)",
           "rgba(155.179576887, 187.609933605, 254.83522545099999, 0.5)",
           "rgba(243.874586398, 197.66180316400002, 175.03606681899998, 0.5)",
           "rgba(243.874586398, 197.66180316400002, 175.03606681899998, 0.5)",
           "rgba(71.54023731, 95.222908116, 208.592739544, 0.5)",
           "rgba(71.54023731, 95.222908116, 208.592739544, 0.5)",
           "rgba(87.53576847600002, 117.135176856, 225.45109001400002, 0.5)",
           "rgba(87.53576847600002, 117.135176856, 225.45109001400002, 0.5)",
           "rgba(88.82245206, 118.75634235999999, 226.52827154999997, 0.5)",
           "rgba(88.82245206, 118.75634235999999, 226.52827154999997, 0.5)",
           "rgba(226.376764067, 217.78032686199998, 212.841225415, 0.5)",
           "rgba(226.376764067, 217.78032686199998, 212.841225415, 0.5)",
           "rgba(58.6004535, 76.17308133, 192.189204015, 0.5)",
           "rgba(58.6004535, 76.17308133, 192.189204015, 0.5)",
           "rgba(59.76615526, 77.91314123400001, 193.718279535, 0.5)",
           "rgba(59.76615526, 77.91314123400001, 193.718279535, 0.5)",
           "rgba(109.779256504, 144.045099072, 241.966801891, 0.5)",
           "rgba(109.779256504, 144.045099072, 241.966801891, 0.5)",
           "rgba(178.10579204599998, 203.85972044899998, 251.067251459, 0.5)",
           "rgba(178.10579204599998, 203.85972044899998, 251.067251459, 0.5)",
           "rgba(86.286010418, 115.46874525199999, 224.22585460399998, 0.5)",
           "rgba(86.286010418, 115.46874525199999, 224.22585460399998, 0.5)",
           "rgba(244.334888094, 196.66469305200002, 173.476764387, 0.5)",
           "rgba(244.334888094, 196.66469305200002, 173.476764387, 0.5)",
           "rgba(71.54023731, 95.222908116, 208.592739544, 0.5)",
           "rgba(71.54023731, 95.222908116, 208.592739544, 0.5)",
           "rgba(199.422524862, 214.930374228, 240.459860034, 0.5)",
           "rgba(199.422524862, 214.930374228, 240.459860034, 0.5)",
           "rgba(76.35752115, 102.06328674, 214.15970364, 0.5)",
           "rgba(76.35752115, 102.06328674, 214.15970364, 0.5)",
           "rgba(75.15320018999999, 100.353192084, 212.767962616, 0.5)",
           "rgba(75.15320018999999, 100.353192084, 212.767962616, 0.5)",
           "rgba(112.486294712, 147.01562553600002, 243.409062563, 0.5)",
           "rgba(112.486294712, 147.01562553600002, 243.409062563, 0.5)",
           "rgba(58.6004535, 76.17308133, 192.189204015, 0.5)",
           "rgba(58.6004535, 76.17308133, 192.189204015, 0.5)",
           "rgba(95.25586998, 126.86216988000001, 231.91417923, 0.5)",
           "rgba(95.25586998, 126.86216988000001, 231.91417923, 0.5)",
           "rgba(71.54023731, 95.222908116, 208.592739544, 0.5)",
           "rgba(71.54023731, 95.222908116, 208.592739544, 0.5)",
           "rgba(67.92727442999998, 90.09262414800001, 204.417516472, 0.5)",
           "rgba(67.92727442999998, 90.09262414800001, 204.417516472, 0.5)",
           "rgba(184.63054983, 207.802150125, 248.79099751500002, 0.5)",
           "rgba(184.63054983, 207.802150125, 248.79099751500002, 0.5)"
          ],
          "source": [
           0,
           0,
           1,
           1,
           2,
           2,
           4,
           4,
           5,
           5,
           7,
           7,
           8,
           8,
           9,
           9,
           10,
           10,
           11,
           11,
           12,
           12,
           13,
           13,
           14,
           14,
           15,
           15,
           16,
           16,
           19,
           19,
           20,
           20,
           21,
           21,
           23,
           23,
           24,
           24,
           28,
           28,
           31,
           31,
           33,
           33,
           34,
           34,
           35,
           35,
           35,
           35,
           36,
           36,
           37,
           37,
           37,
           37,
           37,
           37,
           38,
           38,
           41,
           41,
           42,
           42,
           43,
           43,
           44,
           44,
           48,
           48,
           49,
           49,
           50,
           50,
           51,
           51,
           52,
           52,
           53,
           53,
           55,
           55,
           55,
           55,
           56,
           56,
           57,
           57,
           58,
           58,
           59,
           59,
           60,
           60,
           61,
           61,
           62,
           62,
           62,
           62,
           62,
           62,
           63,
           63,
           63,
           63,
           63,
           63,
           65,
           65,
           66,
           66,
           67,
           67,
           67,
           67,
           67,
           67,
           68,
           68,
           68,
           68,
           68,
           68,
           69,
           69,
           69,
           69,
           69,
           69,
           70,
           70,
           71,
           71,
           72,
           72,
           72,
           72,
           72,
           72,
           73,
           73,
           74,
           74,
           74,
           74,
           74,
           74,
           75,
           75,
           76,
           76,
           77,
           77,
           78,
           78,
           79,
           79,
           80,
           80,
           81,
           81,
           81,
           81,
           81,
           81,
           82,
           82,
           83,
           83,
           84,
           84,
           85,
           85,
           86,
           86,
           88,
           88,
           90,
           90,
           91,
           91,
           91,
           91,
           92,
           92,
           92,
           92,
           92,
           92,
           93,
           93,
           94,
           94,
           95,
           95,
           96,
           96,
           97,
           97,
           99,
           99,
           18,
           18,
           22,
           22,
           39,
           39,
           40,
           40,
           45,
           45,
           46,
           46,
           47,
           47,
           64,
           64,
           87,
           87,
           89,
           89,
           98,
           98,
           3,
           3,
           6,
           6,
           17,
           17,
           25,
           25,
           26,
           26,
           27,
           27,
           29,
           29,
           30,
           30,
           32,
           32
          ],
          "target": [
           26,
           26,
           32,
           32,
           32,
           32,
           87,
           87,
           32,
           32,
           32,
           32,
           99,
           99,
           99,
           99,
           99,
           99,
           32,
           32,
           32,
           32,
           32,
           32,
           32,
           32,
           32,
           32,
           32,
           32,
           32,
           32,
           32,
           32,
           32,
           32,
           32,
           32,
           32,
           32,
           32,
           32,
           32,
           32,
           32,
           32,
           32,
           32,
           99,
           99,
           32,
           32,
           32,
           32,
           45,
           45,
           46,
           46,
           47,
           47,
           32,
           32,
           99,
           99,
           32,
           32,
           39,
           39,
           99,
           99,
           32,
           32,
           32,
           32,
           32,
           32,
           27,
           27,
           32,
           32,
           32,
           32,
           40,
           40,
           32,
           32,
           32,
           32,
           32,
           32,
           32,
           32,
           32,
           32,
           99,
           99,
           32,
           32,
           45,
           45,
           46,
           46,
           29,
           29,
           45,
           45,
           46,
           46,
           29,
           29,
           40,
           40,
           39,
           39,
           45,
           45,
           46,
           46,
           29,
           29,
           45,
           45,
           46,
           46,
           29,
           29,
           45,
           45,
           46,
           46,
           29,
           29,
           40,
           40,
           32,
           32,
           45,
           45,
           46,
           46,
           29,
           29,
           45,
           45,
           45,
           45,
           46,
           46,
           29,
           29,
           26,
           26,
           18,
           18,
           30,
           30,
           30,
           30,
           87,
           87,
           32,
           32,
           45,
           45,
           46,
           46,
           29,
           29,
           87,
           87,
           32,
           32,
           32,
           32,
           30,
           30,
           40,
           40,
           30,
           30,
           32,
           32,
           46,
           46,
           64,
           64,
           45,
           45,
           46,
           46,
           29,
           29,
           18,
           18,
           32,
           32,
           30,
           30,
           22,
           22,
           32,
           32,
           89,
           89,
           98,
           98,
           98,
           98,
           6,
           6,
           3,
           3,
           17,
           17,
           17,
           17,
           17,
           17,
           25,
           25,
           54,
           54,
           54,
           54,
           54,
           54,
           54,
           54,
           54,
           54,
           54,
           54,
           54,
           54,
           54,
           54,
           54,
           54,
           54,
           54,
           54,
           54,
           54,
           54
          ],
          "value": [
           0.00005749777519403602,
           0.000049662737586829084,
           0.016357368468967185,
           0.01339827704867217,
           0.007567233051171724,
           0.008819743091687978,
           0.005942135391527514,
           0.003931159605927005,
           0.0014063079654850078,
           0.0012965616124807448,
           0.009956380552908796,
           0.00925778685791649,
           0.059668114968459834,
           0.0522301948916772,
           0.03360782657441688,
           0.023009414761181433,
           0.05822658117465538,
           0.04153910490900505,
           0.04037456181407801,
           0.029906282340277358,
           0.006577656661348282,
           0.007601645512132428,
           0.013024641808976126,
           0.010464789958400068,
           0.023012075568995687,
           0.021071261956587484,
           0.005922705919311749,
           0.0048353395837377276,
           0.045869146229383796,
           0.04369472363487392,
           0.045457959166644864,
           0.0678303209286293,
           0.007634457555304301,
           0.009888199056067167,
           0.012935062073277808,
           0.02202176897717511,
           0.006371169008573116,
           0.008757877933510579,
           0.005957649400666121,
           0.005887217998060368,
           0.005227753275152638,
           0.007195865497247469,
           0.027702342589161957,
           0.022820932249430485,
           0.008965905444441683,
           0.007027101112276595,
           0.007893071691535181,
           0.008211489819115018,
           0.01311472313828348,
           0.007783204776771154,
           0.01311472313828348,
           0.007783204776771154,
           0.06896002598014692,
           0.09128965965761894,
           0.028085671893361513,
           0.038139612125544,
           0.028085671893361513,
           0.038139612125544,
           0.028085671893361513,
           0.038139612125544,
           0.01768489204043124,
           0.011105775318037739,
           0.016161760607435578,
           0.00997242818875113,
           0.010975479001346981,
           0.009313817455290217,
           0.007217054310618753,
           0.007112109715699884,
           0.022433506990123187,
           0.033802316527887184,
           0.00777920329386701,
           0.007427081320611007,
           0.07129141120215297,
           0.06771637243719032,
           0.009713565950115674,
           0.012498307311200017,
           0.029961760527149484,
           0.02607722305592581,
           0.0052077092387969905,
           0.004992655463377505,
           0.04971645116730359,
           0.04804419142004264,
           0.017023099704474187,
           0.015515857426438861,
           0.017023099704474187,
           0.015515857426438861,
           0.007048821641793314,
           0.006298956882856202,
           0.012449140453551855,
           0.00964569509999536,
           0.06341293023126554,
           0.043999476901444096,
           0.0029682433625063368,
           0.0027745791448199114,
           0.009963010408830323,
           0.0055171503215229135,
           0.028858107589462723,
           0.028995851344990296,
           0.012536278789314995,
           0.00890922077174414,
           0.012536278789314995,
           0.00890922077174414,
           0.012536278789314995,
           0.00890922077174414,
           0.023349743520622007,
           0.019002432979905552,
           0.023349743520622007,
           0.019002432979905552,
           0.023349743520622007,
           0.019002432979905552,
           0.042426944579717005,
           0.0507814958843083,
           0.0024279817113145954,
           0.002690000467231799,
           0.00502472615754598,
           0.004739121107295689,
           0.00502472615754598,
           0.004739121107295689,
           0.00502472615754598,
           0.004739121107295689,
           0.011426182767483877,
           0.00778093562036082,
           0.011426182767483877,
           0.00778093562036082,
           0.011426182767483877,
           0.00778093562036082,
           0.008916736726430358,
           0.008628873652081558,
           0.008916736726430358,
           0.008628873652081558,
           0.008916736726430358,
           0.008628873652081558,
           0.003615944809897748,
           0.0044830086625567535,
           0.013140869437462463,
           0.012645760260266418,
           0.01139573793920261,
           0.01273448388300444,
           0.01139573793920261,
           0.01273448388300444,
           0.01139573793920261,
           0.01273448388300444,
           0.06559449267945153,
           0.04472038406085567,
           0.026039584593872532,
           0.01448181561714858,
           0.026039584593872532,
           0.01448181561714858,
           0.026039584593872532,
           0.01448181561714858,
           0.0025458828505849898,
           0.0030723092404837597,
           0.015814270272667456,
           0.01944217866584447,
           0.015004141448028863,
           0.014546127567254073,
           0.005919858691428622,
           0.00776579236962022,
           0.0047189816181753205,
           0.0025623374928400713,
           0.029722415469589102,
           0.02228102983693275,
           0.0036537537476697742,
           0.0025831774336004657,
           0.0036537537476697742,
           0.0025831774336004657,
           0.0036537537476697742,
           0.0025831774336004657,
           0.007335217338232861,
           0.0076295006196068285,
           0.014845068789653188,
           0.007671679789590591,
           0.006006733522469381,
           0.005807337156891122,
           0.006273032590615923,
           0.005397763602296336,
           0.016223562828588153,
           0.019246440754932672,
           0.01665074514242167,
           0.022101158047892595,
           0.05188211351600874,
           0.03455083128078815,
           0.02833735104085074,
           0.025243900829154668,
           0.02833735104085074,
           0.025243900829154668,
           0.014860070007234386,
           0.0099684576185808,
           0.014860070007234386,
           0.0099684576185808,
           0.014860070007234386,
           0.0099684576185808,
           0.007060944664623195,
           0.006859519084381554,
           0.009842134766329553,
           0.010358938321815869,
           0.012142525854575007,
           0.011244680885777717,
           0.0035316572623884154,
           0.0031437538991593594,
           0.03798971576484889,
           0.026735936029707467,
           0.6600576613477384,
           0.4145456290544049,
           0.07889857809178856,
           0.04442301563636395,
           0.08579919008678005,
           0.07637534428606747,
           0.11486161192292992,
           0.0795224039801382,
           0.5171823303303327,
           0.35039078005304974,
           0.031008666644812777,
           0.015229678840024526,
           0.03370001676674818,
           0.02018380418309577,
           0.19509534362321726,
           0.12069594438191979,
           0.43942608999405525,
           0.24471228282205207,
           0.11034760596310687,
           0.06831312595034443,
           0.6324199093997126,
           0.3971878828441936,
           0.056248543539850794,
           0.03887524739814768,
           0.4040848827744659,
           0.273767321961435,
           0.06943518103408103,
           0.04807221823690587,
           0.07476997884592781,
           0.04577698949297508,
           0.21051327977443363,
           0.11723287758368003,
           0.025100000678580002,
           0.011544088250376273,
           0.1017643881082659,
           0.08621165632036834,
           0.04232549585253528,
           0.0406037548661596,
           0.0454461074122673,
           0.032882757301834126,
           0.3435349810675536,
           0.2456500973883184
          ]
         },
         "node": {
          "color": [
           "rgba(58.6004535, 76.17308133, 192.189204015, 0.5)",
           "rgba(104.450829652, 137.89341972800003, 238.563904234, 0.5)",
           "rgba(87.53576847600002, 117.135176856, 225.45109001400002, 0.5)",
           "rgba(199.422524862, 214.930374228, 240.459860034, 0.5)",
           "rgba(70.33591634999999, 93.51281346, 207.20099852, 0.5)",
           "rgba(62.09755878, 81.393261042, 196.77643057499998, 0.5)",
           "rgba(76.35752115, 102.06328674, 214.15970364, 0.5)",
           "rgba(88.82245206, 118.75634235999999, 226.52827154999997, 0.5)",
           "rgba(237.320492065, 208.81363491200003, 193.582329628, 0.5)",
           "rgba(141.34952682799997, 175.97473785999998, 253.8564648, 0.5)",
           "rgba(208.60440581999998, 218.175367774, 233.23259222000002, 0.5)",
           "rgba(167.454131225, 196.81065157499998, 253.703028627, 0.5)",
           "rgba(83.794134066, 112.12651664399999, 221.744751948, 0.5)",
           "rgba(93.969186396, 125.24100437599999, 230.836997694, 0.5)",
           "rgba(133.032551612, 168.19764462, 251.872685928, 0.5)",
           "rgba(73.94887922999999, 98.64309742799999, 211.37622159199998, 0.5)",
           "rgba(215.05633441899997, 219.764011774, 226.95436480700002, 0.5)",
           "rgba(75.15320018999999, 100.353192084, 212.767962616, 0.5)",
           "rgba(71.54023731, 95.222908116, 208.592739544, 0.5)",
           "rgba(244.64310605499998, 155.62796890500002, 124.79237199, 0.5)",
           "rgba(91.39581922800001, 121.998673368, 228.682634622, 0.5)",
           "rgba(137.19107500399997, 172.09990637999996, 252.889082856, 0.5)",
           "rgba(87.53576847600002, 117.135176856, 225.45109001400002, 0.5)",
           "rgba(87.53576847600002, 117.135176856, 225.45109001400002, 0.5)",
           "rgba(77.564443186, 103.770945124, 215.541995308, 0.5)",
           "rgba(112.486294712, 147.01562553600002, 243.409062563, 0.5)",
           "rgba(58.6004535, 76.17308133, 192.189204015, 0.5)",
           "rgba(95.25586998, 126.86216988000001, 231.91417923, 0.5)",
           "rgba(82.54819589, 110.45540233999999, 220.50420062, 0.5)",
           "rgba(71.54023731, 95.222908116, 208.592739544, 0.5)",
           "rgba(67.92727442999998, 90.09262414800001, 204.417516472, 0.5)",
           "rgba(139.96342393199998, 174.70141421999998, 253.56668080800003, 0.5)",
           "rgba(184.63054983, 207.802150125, 248.79099751500002, 0.5)",
           "rgba(81.30225771399999, 108.78428803599999, 219.26364929200003, 0.5)",
           "rgba(85.04007224200001, 113.79763094799999, 222.985303276, 0.5)",
           "rgba(83.794134066, 112.12651664399999, 221.744751948, 0.5)",
           "rgba(179.94665529, 3.9668208, 38.30936706, 0.5)",
           "rgba(197.040016894, 213.939445396, 242.076283778, 0.5)",
           "rgba(96.542553564, 128.48333538400001, 232.991360766, 0.5)",
           "rgba(88.82245206, 118.75634235999999, 226.52827154999997, 0.5)",
           "rgba(226.376764067, 217.78032686199998, 212.841225415, 0.5)",
           "rgba(91.39581922800001, 121.998673368, 228.682634622, 0.5)",
           "rgba(88.82245206, 118.75634235999999, 226.52827154999997, 0.5)",
           "rgba(81.30225771399999, 108.78428803599999, 219.26364929200003, 0.5)",
           "rgba(182.032385294, 206.25857104099998, 249.743553731, 0.5)",
           "rgba(58.6004535, 76.17308133, 192.189204015, 0.5)",
           "rgba(59.76615526, 77.91314123400001, 193.718279535, 0.5)",
           "rgba(109.779256504, 144.045099072, 241.966801891, 0.5)",
           "rgba(82.54819589, 110.45540233999999, 220.50420062, 0.5)",
           "rgba(244.924965639, 157.150488105, 126.34398312600001, 0.5)",
           "rgba(100.48062792399999, 133.215430736, 235.85365469799999, 0.5)",
           "rgba(153.806327319, 186.539506725, 254.88914602699998, 0.5)",
           "rgba(73.94887922999999, 98.64309742799999, 211.37622159199998, 0.5)",
           "rgba(227.413307491, 217.253185646, 211.416744935, 0.5)",
           "rgba(0,0,0,1)",
           "rgba(112.486294712, 147.01562553600002, 243.409062563, 0.5)",
           "rgba(78.810381362, 105.442059428, 216.782546636, 0.5)",
           "rgba(90.109135644, 120.377507864, 227.60545308599998, 0.5)",
           "rgba(216.078050931, 219.930483006, 225.81281994300002, 0.5)",
           "rgba(66.76036582, 88.35350065800002, 202.89273265499997, 0.5)",
           "rgba(76.35752115, 102.06328674, 214.15970364, 0.5)",
           "rgba(164.75876674499997, 194.93130661499998, 254.201457939, 0.5)",
           "rgba(87.53576847600002, 117.135176856, 225.45109001400002, 0.5)",
           "rgba(126.13281398399998, 161.420676704, 249.640618319, 0.5)",
           "rgba(178.10579204599998, 203.85972044899998, 251.067251459, 0.5)",
           "rgba(234.440877171, 211.9745445, 199.632775764, 0.5)",
           "rgba(66.76036582, 88.35350065800002, 202.89273265499997, 0.5)",
           "rgba(73.94887922999999, 98.64309742799999, 211.37622159199998, 0.5)",
           "rgba(83.794134066, 112.12651664399999, 221.744751948, 0.5)",
           "rgba(87.53576847600002, 117.135176856, 225.45109001400002, 0.5)",
           "rgba(72.74455827, 96.93300277200001, 209.984480568, 0.5)",
           "rgba(101.80402849999999, 134.77476040000002, 236.75707121000002, 0.5)",
           "rgba(101.80402849999999, 134.77476040000002, 236.75707121000002, 0.5)",
           "rgba(218.121483955, 220.26342547, 223.529730215, 0.5)",
           "rgba(108.4257374, 142.55983584, 241.245671555, 0.5)",
           "rgba(67.92727442999998, 90.09262414800001, 204.417516472, 0.5)",
           "rgba(127.507793952, 162.81965923200002, 250.172881647, 0.5)",
           "rgba(108.4257374, 142.55983584, 241.245671555, 0.5)",
           "rgba(83.794134066, 112.12651664399999, 221.744751948, 0.5)",
           "rgba(66.76036582, 88.35350065800002, 202.89273265499997, 0.5)",
           "rgba(138.577249468, 173.4006603, 253.227881832, 0.5)",
           "rgba(66.76036582, 88.35350065800002, 202.89273265499997, 0.5)",
           "rgba(83.794134066, 112.12651664399999, 221.744751948, 0.5)",
           "rgba(83.794134066, 112.12651664399999, 221.744751948, 0.5)",
           "rgba(77.564443186, 103.770945124, 215.541995308, 0.5)",
           "rgba(76.35752115, 102.06328674, 214.15970364, 0.5)",
           "rgba(126.13281398399998, 161.420676704, 249.640618319, 0.5)",
           "rgba(86.286010418, 115.46874525199999, 224.22585460399998, 0.5)",
           "rgba(137.19107500399997, 172.09990637999996, 252.889082856, 0.5)",
           "rgba(244.334888094, 196.66469305200002, 173.476764387, 0.5)",
           "rgba(184.63054983, 207.802150125, 248.79099751500002, 0.5)",
           "rgba(149.66485598, 183.12093466, 254.71289904, 0.5)",
           "rgba(91.39581922800001, 121.998673368, 228.682634622, 0.5)",
           "rgba(81.30225771399999, 108.78428803599999, 219.26364929200003, 0.5)",
           "rgba(92.682502812, 123.619838872, 229.759816158, 0.5)",
           "rgba(96.542553564, 128.48333538400001, 232.991360766, 0.5)",
           "rgba(67.92727442999998, 90.09262414800001, 204.417516472, 0.5)",
           "rgba(155.179576887, 187.609933605, 254.83522545099999, 0.5)",
           "rgba(71.54023731, 95.222908116, 208.592739544, 0.5)",
           "rgba(243.874586398, 197.66180316400002, 175.03606681899998, 0.5)"
          ],
          "label": [
           "O00194",
           "O00391",
           "O14791",
           "R-HSA-446203",
           "O95497",
           "O95633",
           "R-HSA-5173105",
           "P00450",
           "P00734",
           "P00740",
           "P00742",
           "P01008",
           "P01009",
           "P01024",
           "P01033",
           "P01034",
           "P01042",
           "R-HSA-5688426",
           "R-HSA-3108232",
           "P02647",
           "P02649",
           "P02652",
           "R-HSA-3215018",
           "P02671",
           "P02679",
           "R-HSA-8852135",
           "R-HSA-8873719",
           "R-HSA-8876725",
           "P02751",
           "R-HSA-8951664",
           "R-HSA-8955332",
           "P02765",
           "R-HSA-8957275",
           "P02768",
           "P02787",
           "P04070",
           "P04114",
           "P04908",
           "P05546",
           "R-HSA-5173214",
           "R-HSA-532668",
           "P07225",
           "P07237",
           "P07996",
           "P08709",
           "R-HSA-5689603",
           "R-HSA-5689880",
           "R-HSA-5689901",
           "P0C0L4",
           "P10451",
           "P11047",
           "P11142",
           "P12259",
           "P13611",
           "R-HSA-597592",
           "P14314",
           "P14625",
           "P17936",
           "P19823",
           "P22692",
           "P22891",
           "P24821",
           "P25786",
           "P25788",
           "R-HSA-8866654",
           "P27797",
           "P27918",
           "P28066",
           "P28072",
           "P28074",
           "P30101",
           "P35555",
           "P49721",
           "P60709",
           "P60900",
           "P61026",
           "P62805",
           "P68363",
           "P68366",
           "P80108",
           "Q02818",
           "Q06323",
           "Q10588",
           "Q12841",
           "Q13103",
           "Q13885",
           "Q14697",
           "R-HSA-163125",
           "Q71U36",
           "R-HSA-163841",
           "Q8NBJ4",
           "Q96A08",
           "Q99436",
           "Q99497",
           "Q9BTY2",
           "Q9H4B7",
           "Q9UBE0",
           "Q9UK55",
           "R-HSA-2990846",
           "R-HSA-159854"
          ],
          "line": {
           "color": "white",
           "width": 2
          },
          "pad": 20,
          "thickness": 20
         },
         "orientation": "h",
         "textfont": {
          "family": "Arial",
          "size": 15
         },
         "type": "sankey"
        }
       ],
       "layout": {
        "template": {
         "data": {
          "bar": [
           {
            "error_x": {
             "color": "#2a3f5f"
            },
            "error_y": {
             "color": "#2a3f5f"
            },
            "marker": {
             "line": {
              "color": "#E5ECF6",
              "width": 0.5
             },
             "pattern": {
              "fillmode": "overlay",
              "size": 10,
              "solidity": 0.2
             }
            },
            "type": "bar"
           }
          ],
          "barpolar": [
           {
            "marker": {
             "line": {
              "color": "#E5ECF6",
              "width": 0.5
             },
             "pattern": {
              "fillmode": "overlay",
              "size": 10,
              "solidity": 0.2
             }
            },
            "type": "barpolar"
           }
          ],
          "carpet": [
           {
            "aaxis": {
             "endlinecolor": "#2a3f5f",
             "gridcolor": "white",
             "linecolor": "white",
             "minorgridcolor": "white",
             "startlinecolor": "#2a3f5f"
            },
            "baxis": {
             "endlinecolor": "#2a3f5f",
             "gridcolor": "white",
             "linecolor": "white",
             "minorgridcolor": "white",
             "startlinecolor": "#2a3f5f"
            },
            "type": "carpet"
           }
          ],
          "choropleth": [
           {
            "colorbar": {
             "outlinewidth": 0,
             "ticks": ""
            },
            "type": "choropleth"
           }
          ],
          "contour": [
           {
            "colorbar": {
             "outlinewidth": 0,
             "ticks": ""
            },
            "colorscale": [
             [
              0,
              "#0d0887"
             ],
             [
              0.1111111111111111,
              "#46039f"
             ],
             [
              0.2222222222222222,
              "#7201a8"
             ],
             [
              0.3333333333333333,
              "#9c179e"
             ],
             [
              0.4444444444444444,
              "#bd3786"
             ],
             [
              0.5555555555555556,
              "#d8576b"
             ],
             [
              0.6666666666666666,
              "#ed7953"
             ],
             [
              0.7777777777777778,
              "#fb9f3a"
             ],
             [
              0.8888888888888888,
              "#fdca26"
             ],
             [
              1,
              "#f0f921"
             ]
            ],
            "type": "contour"
           }
          ],
          "contourcarpet": [
           {
            "colorbar": {
             "outlinewidth": 0,
             "ticks": ""
            },
            "type": "contourcarpet"
           }
          ],
          "heatmap": [
           {
            "colorbar": {
             "outlinewidth": 0,
             "ticks": ""
            },
            "colorscale": [
             [
              0,
              "#0d0887"
             ],
             [
              0.1111111111111111,
              "#46039f"
             ],
             [
              0.2222222222222222,
              "#7201a8"
             ],
             [
              0.3333333333333333,
              "#9c179e"
             ],
             [
              0.4444444444444444,
              "#bd3786"
             ],
             [
              0.5555555555555556,
              "#d8576b"
             ],
             [
              0.6666666666666666,
              "#ed7953"
             ],
             [
              0.7777777777777778,
              "#fb9f3a"
             ],
             [
              0.8888888888888888,
              "#fdca26"
             ],
             [
              1,
              "#f0f921"
             ]
            ],
            "type": "heatmap"
           }
          ],
          "heatmapgl": [
           {
            "colorbar": {
             "outlinewidth": 0,
             "ticks": ""
            },
            "colorscale": [
             [
              0,
              "#0d0887"
             ],
             [
              0.1111111111111111,
              "#46039f"
             ],
             [
              0.2222222222222222,
              "#7201a8"
             ],
             [
              0.3333333333333333,
              "#9c179e"
             ],
             [
              0.4444444444444444,
              "#bd3786"
             ],
             [
              0.5555555555555556,
              "#d8576b"
             ],
             [
              0.6666666666666666,
              "#ed7953"
             ],
             [
              0.7777777777777778,
              "#fb9f3a"
             ],
             [
              0.8888888888888888,
              "#fdca26"
             ],
             [
              1,
              "#f0f921"
             ]
            ],
            "type": "heatmapgl"
           }
          ],
          "histogram": [
           {
            "marker": {
             "pattern": {
              "fillmode": "overlay",
              "size": 10,
              "solidity": 0.2
             }
            },
            "type": "histogram"
           }
          ],
          "histogram2d": [
           {
            "colorbar": {
             "outlinewidth": 0,
             "ticks": ""
            },
            "colorscale": [
             [
              0,
              "#0d0887"
             ],
             [
              0.1111111111111111,
              "#46039f"
             ],
             [
              0.2222222222222222,
              "#7201a8"
             ],
             [
              0.3333333333333333,
              "#9c179e"
             ],
             [
              0.4444444444444444,
              "#bd3786"
             ],
             [
              0.5555555555555556,
              "#d8576b"
             ],
             [
              0.6666666666666666,
              "#ed7953"
             ],
             [
              0.7777777777777778,
              "#fb9f3a"
             ],
             [
              0.8888888888888888,
              "#fdca26"
             ],
             [
              1,
              "#f0f921"
             ]
            ],
            "type": "histogram2d"
           }
          ],
          "histogram2dcontour": [
           {
            "colorbar": {
             "outlinewidth": 0,
             "ticks": ""
            },
            "colorscale": [
             [
              0,
              "#0d0887"
             ],
             [
              0.1111111111111111,
              "#46039f"
             ],
             [
              0.2222222222222222,
              "#7201a8"
             ],
             [
              0.3333333333333333,
              "#9c179e"
             ],
             [
              0.4444444444444444,
              "#bd3786"
             ],
             [
              0.5555555555555556,
              "#d8576b"
             ],
             [
              0.6666666666666666,
              "#ed7953"
             ],
             [
              0.7777777777777778,
              "#fb9f3a"
             ],
             [
              0.8888888888888888,
              "#fdca26"
             ],
             [
              1,
              "#f0f921"
             ]
            ],
            "type": "histogram2dcontour"
           }
          ],
          "mesh3d": [
           {
            "colorbar": {
             "outlinewidth": 0,
             "ticks": ""
            },
            "type": "mesh3d"
           }
          ],
          "parcoords": [
           {
            "line": {
             "colorbar": {
              "outlinewidth": 0,
              "ticks": ""
             }
            },
            "type": "parcoords"
           }
          ],
          "pie": [
           {
            "automargin": true,
            "type": "pie"
           }
          ],
          "scatter": [
           {
            "fillpattern": {
             "fillmode": "overlay",
             "size": 10,
             "solidity": 0.2
            },
            "type": "scatter"
           }
          ],
          "scatter3d": [
           {
            "line": {
             "colorbar": {
              "outlinewidth": 0,
              "ticks": ""
             }
            },
            "marker": {
             "colorbar": {
              "outlinewidth": 0,
              "ticks": ""
             }
            },
            "type": "scatter3d"
           }
          ],
          "scattercarpet": [
           {
            "marker": {
             "colorbar": {
              "outlinewidth": 0,
              "ticks": ""
             }
            },
            "type": "scattercarpet"
           }
          ],
          "scattergeo": [
           {
            "marker": {
             "colorbar": {
              "outlinewidth": 0,
              "ticks": ""
             }
            },
            "type": "scattergeo"
           }
          ],
          "scattergl": [
           {
            "marker": {
             "colorbar": {
              "outlinewidth": 0,
              "ticks": ""
             }
            },
            "type": "scattergl"
           }
          ],
          "scattermapbox": [
           {
            "marker": {
             "colorbar": {
              "outlinewidth": 0,
              "ticks": ""
             }
            },
            "type": "scattermapbox"
           }
          ],
          "scatterpolar": [
           {
            "marker": {
             "colorbar": {
              "outlinewidth": 0,
              "ticks": ""
             }
            },
            "type": "scatterpolar"
           }
          ],
          "scatterpolargl": [
           {
            "marker": {
             "colorbar": {
              "outlinewidth": 0,
              "ticks": ""
             }
            },
            "type": "scatterpolargl"
           }
          ],
          "scatterternary": [
           {
            "marker": {
             "colorbar": {
              "outlinewidth": 0,
              "ticks": ""
             }
            },
            "type": "scatterternary"
           }
          ],
          "surface": [
           {
            "colorbar": {
             "outlinewidth": 0,
             "ticks": ""
            },
            "colorscale": [
             [
              0,
              "#0d0887"
             ],
             [
              0.1111111111111111,
              "#46039f"
             ],
             [
              0.2222222222222222,
              "#7201a8"
             ],
             [
              0.3333333333333333,
              "#9c179e"
             ],
             [
              0.4444444444444444,
              "#bd3786"
             ],
             [
              0.5555555555555556,
              "#d8576b"
             ],
             [
              0.6666666666666666,
              "#ed7953"
             ],
             [
              0.7777777777777778,
              "#fb9f3a"
             ],
             [
              0.8888888888888888,
              "#fdca26"
             ],
             [
              1,
              "#f0f921"
             ]
            ],
            "type": "surface"
           }
          ],
          "table": [
           {
            "cells": {
             "fill": {
              "color": "#EBF0F8"
             },
             "line": {
              "color": "white"
             }
            },
            "header": {
             "fill": {
              "color": "#C8D4E3"
             },
             "line": {
              "color": "white"
             }
            },
            "type": "table"
           }
          ]
         },
         "layout": {
          "annotationdefaults": {
           "arrowcolor": "#2a3f5f",
           "arrowhead": 0,
           "arrowwidth": 1
          },
          "autotypenumbers": "strict",
          "coloraxis": {
           "colorbar": {
            "outlinewidth": 0,
            "ticks": ""
           }
          },
          "colorscale": {
           "diverging": [
            [
             0,
             "#8e0152"
            ],
            [
             0.1,
             "#c51b7d"
            ],
            [
             0.2,
             "#de77ae"
            ],
            [
             0.3,
             "#f1b6da"
            ],
            [
             0.4,
             "#fde0ef"
            ],
            [
             0.5,
             "#f7f7f7"
            ],
            [
             0.6,
             "#e6f5d0"
            ],
            [
             0.7,
             "#b8e186"
            ],
            [
             0.8,
             "#7fbc41"
            ],
            [
             0.9,
             "#4d9221"
            ],
            [
             1,
             "#276419"
            ]
           ],
           "sequential": [
            [
             0,
             "#0d0887"
            ],
            [
             0.1111111111111111,
             "#46039f"
            ],
            [
             0.2222222222222222,
             "#7201a8"
            ],
            [
             0.3333333333333333,
             "#9c179e"
            ],
            [
             0.4444444444444444,
             "#bd3786"
            ],
            [
             0.5555555555555556,
             "#d8576b"
            ],
            [
             0.6666666666666666,
             "#ed7953"
            ],
            [
             0.7777777777777778,
             "#fb9f3a"
            ],
            [
             0.8888888888888888,
             "#fdca26"
            ],
            [
             1,
             "#f0f921"
            ]
           ],
           "sequentialminus": [
            [
             0,
             "#0d0887"
            ],
            [
             0.1111111111111111,
             "#46039f"
            ],
            [
             0.2222222222222222,
             "#7201a8"
            ],
            [
             0.3333333333333333,
             "#9c179e"
            ],
            [
             0.4444444444444444,
             "#bd3786"
            ],
            [
             0.5555555555555556,
             "#d8576b"
            ],
            [
             0.6666666666666666,
             "#ed7953"
            ],
            [
             0.7777777777777778,
             "#fb9f3a"
            ],
            [
             0.8888888888888888,
             "#fdca26"
            ],
            [
             1,
             "#f0f921"
            ]
           ]
          },
          "colorway": [
           "#636efa",
           "#EF553B",
           "#00cc96",
           "#ab63fa",
           "#FFA15A",
           "#19d3f3",
           "#FF6692",
           "#B6E880",
           "#FF97FF",
           "#FECB52"
          ],
          "font": {
           "color": "#2a3f5f"
          },
          "geo": {
           "bgcolor": "white",
           "lakecolor": "white",
           "landcolor": "#E5ECF6",
           "showlakes": true,
           "showland": true,
           "subunitcolor": "white"
          },
          "hoverlabel": {
           "align": "left"
          },
          "hovermode": "closest",
          "mapbox": {
           "style": "light"
          },
          "paper_bgcolor": "white",
          "plot_bgcolor": "#E5ECF6",
          "polar": {
           "angularaxis": {
            "gridcolor": "white",
            "linecolor": "white",
            "ticks": ""
           },
           "bgcolor": "#E5ECF6",
           "radialaxis": {
            "gridcolor": "white",
            "linecolor": "white",
            "ticks": ""
           }
          },
          "scene": {
           "xaxis": {
            "backgroundcolor": "#E5ECF6",
            "gridcolor": "white",
            "gridwidth": 2,
            "linecolor": "white",
            "showbackground": true,
            "ticks": "",
            "zerolinecolor": "white"
           },
           "yaxis": {
            "backgroundcolor": "#E5ECF6",
            "gridcolor": "white",
            "gridwidth": 2,
            "linecolor": "white",
            "showbackground": true,
            "ticks": "",
            "zerolinecolor": "white"
           },
           "zaxis": {
            "backgroundcolor": "#E5ECF6",
            "gridcolor": "white",
            "gridwidth": 2,
            "linecolor": "white",
            "showbackground": true,
            "ticks": "",
            "zerolinecolor": "white"
           }
          },
          "shapedefaults": {
           "line": {
            "color": "#2a3f5f"
           }
          },
          "ternary": {
           "aaxis": {
            "gridcolor": "white",
            "linecolor": "white",
            "ticks": ""
           },
           "baxis": {
            "gridcolor": "white",
            "linecolor": "white",
            "ticks": ""
           },
           "bgcolor": "#E5ECF6",
           "caxis": {
            "gridcolor": "white",
            "linecolor": "white",
            "ticks": ""
           }
          },
          "title": {
           "x": 0.05
          },
          "xaxis": {
           "automargin": true,
           "gridcolor": "white",
           "linecolor": "white",
           "ticks": "",
           "title": {
            "standoff": 15
           },
           "zerolinecolor": "white",
           "zerolinewidth": 2
          },
          "yaxis": {
           "automargin": true,
           "gridcolor": "white",
           "linecolor": "white",
           "ticks": "",
           "title": {
            "standoff": 15
           },
           "zerolinecolor": "white",
           "zerolinewidth": 2
          }
         }
        }
       }
      }
     },
     "metadata": {},
     "output_type": "display_data"
    }
   ],
   "source": [
    "query_node = \"R-HSA-597592\"\n",
    "\n",
    "IG.plot_subgraph_sankey(\n",
    "    query_node, upstream=True, savename=\"img/subgraph_sankey.png\", cmap=\"coolwarm\"\n",
    ")"
   ]
  }
 ],
 "metadata": {
  "kernelspec": {
   "display_name": ".fresh-venv",
   "language": "python",
   "name": "python3"
  },
  "language_info": {
   "codemirror_mode": {
    "name": "ipython",
    "version": 3
   },
   "file_extension": ".py",
   "mimetype": "text/x-python",
   "name": "python",
   "nbconvert_exporter": "python",
   "pygments_lexer": "ipython3",
   "version": "3.9.6"
  }
 },
 "nbformat": 4,
 "nbformat_minor": 2
}
