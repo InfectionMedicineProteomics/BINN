{
 "cells": [
  {
   "cell_type": "markdown",
   "metadata": {},
   "source": [
    "# Robustness\n",
    "In this example we analyze how robust feature selection with BINN is. All feature selection methods are data-greedy, meaning that we need many samples to generate robust estimations of feature importance. One way to analyze this is to train and explain several models, and compare their feature importances. This will also yield a more robust method."
   ]
  },
  {
   "cell_type": "code",
   "execution_count": 1,
   "metadata": {},
   "outputs": [
    {
     "name": "stderr",
     "output_type": "stream",
     "text": [
      "IProgress not found. Please update jupyter and ipywidgets. See https://ipywidgets.readthedocs.io/en/stable/user_install.html\n"
     ]
    },
    {
     "name": "stdout",
     "output_type": "stream",
     "text": [
      "\n",
      "BINN is on the device: cpu\n"
     ]
    }
   ],
   "source": [
    "from binn import Network, BINN\n",
    "import pandas as pd\n",
    "import numpy as np\n",
    "import torch\n",
    "import random\n",
    "\n",
    "# random seed for reproducibility\n",
    "random.seed(42)\n",
    "torch.manual_seed(42)\n",
    "np.random.seed(42)\n",
    "\n",
    "input_data = pd.read_csv(\"../data/test_qm.csv\")\n",
    "translation = pd.read_csv(\"../data/translation.tsv\", sep=\"\\t\")\n",
    "pathways = pd.read_csv(\"../data/pathways.tsv\", sep=\"\\t\")\n",
    "\n",
    "network = Network(\n",
    "    input_data=input_data,\n",
    "    pathways=pathways,\n",
    "    mapping=translation,\n",
    "    source_column=\"child\",\n",
    "    target_column=\"parent\",\n",
    ")\n",
    "\n",
    "                \n",
    "binn = BINN(\n",
    "    network=network,\n",
    "    n_layers=4,\n",
    "    dropout=0.2,\n",
    "    validate=False,\n",
    "    residual=False,\n",
    "    device=\"cpu\",\n",
    "    learning_rate =0.001\n",
    ")\n"
   ]
  },
  {
   "cell_type": "code",
   "execution_count": 2,
   "metadata": {},
   "outputs": [],
   "source": [
    "from util_for_examples import fit_data_matrix_to_network_input, generate_data\n",
    "import torch\n",
    "\n",
    "design_matrix = pd.read_csv(\"../data/design_matrix.tsv\", sep=\"\\t\")\n",
    "\n",
    "protein_matrix = fit_data_matrix_to_network_input(input_data, features=network.inputs)\n",
    "\n",
    "X, y = generate_data(protein_matrix, design_matrix=design_matrix)\n",
    "dataset = torch.utils.data.TensorDataset(\n",
    "    torch.tensor(X, dtype=torch.float32, device=binn.device),\n",
    "    torch.tensor(y, dtype=torch.int16, device=binn.device),\n",
    ")\n",
    "dataloader = torch.utils.data.DataLoader(dataset, batch_size=8, shuffle=True)"
   ]
  },
  {
   "cell_type": "code",
   "execution_count": 3,
   "metadata": {},
   "outputs": [],
   "source": [
    "from binn.explainer import BINNExplainer\n",
    "\n",
    "explainer = BINNExplainer(binn)\n"
   ]
  },
  {
   "cell_type": "markdown",
   "metadata": {},
   "source": [
    "## Explain average\n",
    "In ```exlpainer.explain_average()``` we can train the n models and explain them separately. Their resulting feature importances are concatenated to the outputted ```ìmportance_df```. "
   ]
  },
  {
   "cell_type": "code",
   "execution_count": 5,
   "metadata": {},
   "outputs": [
    {
     "name": "stdout",
     "output_type": "stream",
     "text": [
      "Iteration 0\n",
      "Final epoch: Average Accuracy 0.99, Average Loss: 0.06\n",
      "Iteration 1\n",
      "Final epoch: Average Accuracy 0.93, Average Loss: 0.17\n",
      "Iteration 2\n",
      "Final epoch: Average Accuracy 0.95, Average Loss: 0.13\n",
      "Iteration 3\n",
      "Final epoch: Average Accuracy 0.97, Average Loss: 0.10\n",
      "Iteration 4\n",
      "Final epoch: Average Accuracy 0.94, Average Loss: 0.15\n",
      "Iteration 5\n",
      "Final epoch: Average Accuracy 0.95, Average Loss: 0.14\n",
      "Iteration 6\n",
      "Final epoch: Average Accuracy 0.99, Average Loss: 0.07\n",
      "Iteration 7\n",
      "Final epoch: Average Accuracy 0.96, Average Loss: 0.11\n",
      "Iteration 8\n",
      "Final epoch: Average Accuracy 0.94, Average Loss: 0.14\n",
      "Iteration 9\n",
      "Final epoch: Average Accuracy 0.98, Average Loss: 0.09\n"
     ]
    },
    {
     "data": {
      "text/html": [
       "<div>\n",
       "<style scoped>\n",
       "    .dataframe tbody tr th:only-of-type {\n",
       "        vertical-align: middle;\n",
       "    }\n",
       "\n",
       "    .dataframe tbody tr th {\n",
       "        vertical-align: top;\n",
       "    }\n",
       "\n",
       "    .dataframe thead th {\n",
       "        text-align: right;\n",
       "    }\n",
       "</style>\n",
       "<table border=\"1\" class=\"dataframe\">\n",
       "  <thead>\n",
       "    <tr style=\"text-align: right;\">\n",
       "      <th></th>\n",
       "      <th>source</th>\n",
       "      <th>target</th>\n",
       "      <th>source name</th>\n",
       "      <th>target name</th>\n",
       "      <th>type</th>\n",
       "      <th>source layer</th>\n",
       "      <th>target layer</th>\n",
       "      <th>value_0</th>\n",
       "      <th>value_1</th>\n",
       "      <th>value_2</th>\n",
       "      <th>value_3</th>\n",
       "      <th>value_4</th>\n",
       "      <th>value_5</th>\n",
       "      <th>value_6</th>\n",
       "      <th>value_7</th>\n",
       "      <th>value_8</th>\n",
       "      <th>value_9</th>\n",
       "      <th>value_mean</th>\n",
       "      <th>values_std</th>\n",
       "      <th>value</th>\n",
       "    </tr>\n",
       "  </thead>\n",
       "  <tbody>\n",
       "    <tr>\n",
       "      <th>0</th>\n",
       "      <td>1</td>\n",
       "      <td>497</td>\n",
       "      <td>A0M8Q6</td>\n",
       "      <td>R-HSA-166663</td>\n",
       "      <td>0</td>\n",
       "      <td>0</td>\n",
       "      <td>1</td>\n",
       "      <td>0.040034</td>\n",
       "      <td>0.042803</td>\n",
       "      <td>0.064148</td>\n",
       "      <td>0.067513</td>\n",
       "      <td>0.036837</td>\n",
       "      <td>0.063436</td>\n",
       "      <td>0.076752</td>\n",
       "      <td>0.108140</td>\n",
       "      <td>0.084760</td>\n",
       "      <td>0.097311</td>\n",
       "      <td>0.068174</td>\n",
       "      <td>0.022916</td>\n",
       "      <td>0.068174</td>\n",
       "    </tr>\n",
       "    <tr>\n",
       "      <th>1</th>\n",
       "      <td>1</td>\n",
       "      <td>497</td>\n",
       "      <td>A0M8Q6</td>\n",
       "      <td>R-HSA-166663</td>\n",
       "      <td>1</td>\n",
       "      <td>0</td>\n",
       "      <td>1</td>\n",
       "      <td>0.106065</td>\n",
       "      <td>0.060070</td>\n",
       "      <td>0.059538</td>\n",
       "      <td>0.021427</td>\n",
       "      <td>0.051316</td>\n",
       "      <td>0.072840</td>\n",
       "      <td>0.019320</td>\n",
       "      <td>0.037059</td>\n",
       "      <td>0.069426</td>\n",
       "      <td>0.127715</td>\n",
       "      <td>0.062478</td>\n",
       "      <td>0.032626</td>\n",
       "      <td>0.062478</td>\n",
       "    </tr>\n",
       "    <tr>\n",
       "      <th>2</th>\n",
       "      <td>1</td>\n",
       "      <td>954</td>\n",
       "      <td>A0M8Q6</td>\n",
       "      <td>R-HSA-198933</td>\n",
       "      <td>0</td>\n",
       "      <td>0</td>\n",
       "      <td>1</td>\n",
       "      <td>0.040034</td>\n",
       "      <td>0.042803</td>\n",
       "      <td>0.064148</td>\n",
       "      <td>0.067513</td>\n",
       "      <td>0.036837</td>\n",
       "      <td>0.063436</td>\n",
       "      <td>0.076752</td>\n",
       "      <td>0.108140</td>\n",
       "      <td>0.084760</td>\n",
       "      <td>0.097311</td>\n",
       "      <td>0.068174</td>\n",
       "      <td>0.022916</td>\n",
       "      <td>0.068174</td>\n",
       "    </tr>\n",
       "    <tr>\n",
       "      <th>3</th>\n",
       "      <td>1</td>\n",
       "      <td>954</td>\n",
       "      <td>A0M8Q6</td>\n",
       "      <td>R-HSA-198933</td>\n",
       "      <td>1</td>\n",
       "      <td>0</td>\n",
       "      <td>1</td>\n",
       "      <td>0.106065</td>\n",
       "      <td>0.060070</td>\n",
       "      <td>0.059538</td>\n",
       "      <td>0.021427</td>\n",
       "      <td>0.051316</td>\n",
       "      <td>0.072840</td>\n",
       "      <td>0.019320</td>\n",
       "      <td>0.037059</td>\n",
       "      <td>0.069426</td>\n",
       "      <td>0.127715</td>\n",
       "      <td>0.062478</td>\n",
       "      <td>0.032626</td>\n",
       "      <td>0.062478</td>\n",
       "    </tr>\n",
       "    <tr>\n",
       "      <th>4</th>\n",
       "      <td>1</td>\n",
       "      <td>539</td>\n",
       "      <td>A0M8Q6</td>\n",
       "      <td>R-HSA-2029481</td>\n",
       "      <td>0</td>\n",
       "      <td>0</td>\n",
       "      <td>1</td>\n",
       "      <td>0.040034</td>\n",
       "      <td>0.042803</td>\n",
       "      <td>0.064148</td>\n",
       "      <td>0.067513</td>\n",
       "      <td>0.036837</td>\n",
       "      <td>0.063436</td>\n",
       "      <td>0.076752</td>\n",
       "      <td>0.108140</td>\n",
       "      <td>0.084760</td>\n",
       "      <td>0.097311</td>\n",
       "      <td>0.068174</td>\n",
       "      <td>0.022916</td>\n",
       "      <td>0.068174</td>\n",
       "    </tr>\n",
       "  </tbody>\n",
       "</table>\n",
       "</div>"
      ],
      "text/plain": [
       "   source  target source name    target name  type  source layer  \\\n",
       "0       1     497      A0M8Q6   R-HSA-166663     0             0   \n",
       "1       1     497      A0M8Q6   R-HSA-166663     1             0   \n",
       "2       1     954      A0M8Q6   R-HSA-198933     0             0   \n",
       "3       1     954      A0M8Q6   R-HSA-198933     1             0   \n",
       "4       1     539      A0M8Q6  R-HSA-2029481     0             0   \n",
       "\n",
       "   target layer   value_0   value_1   value_2   value_3   value_4   value_5  \\\n",
       "0             1  0.040034  0.042803  0.064148  0.067513  0.036837  0.063436   \n",
       "1             1  0.106065  0.060070  0.059538  0.021427  0.051316  0.072840   \n",
       "2             1  0.040034  0.042803  0.064148  0.067513  0.036837  0.063436   \n",
       "3             1  0.106065  0.060070  0.059538  0.021427  0.051316  0.072840   \n",
       "4             1  0.040034  0.042803  0.064148  0.067513  0.036837  0.063436   \n",
       "\n",
       "    value_6   value_7   value_8   value_9  value_mean  values_std     value  \n",
       "0  0.076752  0.108140  0.084760  0.097311    0.068174    0.022916  0.068174  \n",
       "1  0.019320  0.037059  0.069426  0.127715    0.062478    0.032626  0.062478  \n",
       "2  0.076752  0.108140  0.084760  0.097311    0.068174    0.022916  0.068174  \n",
       "3  0.019320  0.037059  0.069426  0.127715    0.062478    0.032626  0.062478  \n",
       "4  0.076752  0.108140  0.084760  0.097311    0.068174    0.022916  0.068174  "
      ]
     },
     "execution_count": 5,
     "metadata": {},
     "output_type": "execute_result"
    }
   ],
   "source": [
    "test_data = torch.Tensor(X)\n",
    "background_data = torch.Tensor(X)\n",
    "\n",
    "n_iterations = 10\n",
    "n_epochs = 30\n",
    "\n",
    "importance_df, _ = explainer.explain_average(test_data, background_data, n_iterations, n_epochs, dataloader, fast_train=True)\n",
    "importance_df.head()"
   ]
  },
  {
   "cell_type": "code",
   "execution_count": 6,
   "metadata": {},
   "outputs": [
    {
     "data": {
      "text/html": [
       "<div>\n",
       "<style scoped>\n",
       "    .dataframe tbody tr th:only-of-type {\n",
       "        vertical-align: middle;\n",
       "    }\n",
       "\n",
       "    .dataframe tbody tr th {\n",
       "        vertical-align: top;\n",
       "    }\n",
       "\n",
       "    .dataframe thead th {\n",
       "        text-align: right;\n",
       "    }\n",
       "</style>\n",
       "<table border=\"1\" class=\"dataframe\">\n",
       "  <thead>\n",
       "    <tr style=\"text-align: right;\">\n",
       "      <th></th>\n",
       "      <th>source</th>\n",
       "      <th>target</th>\n",
       "      <th>source name</th>\n",
       "      <th>target name</th>\n",
       "      <th>type</th>\n",
       "      <th>source layer</th>\n",
       "      <th>target layer</th>\n",
       "      <th>value_0</th>\n",
       "      <th>value_1</th>\n",
       "      <th>value_2</th>\n",
       "      <th>...</th>\n",
       "      <th>value_4</th>\n",
       "      <th>value_5</th>\n",
       "      <th>value_6</th>\n",
       "      <th>value_7</th>\n",
       "      <th>value_8</th>\n",
       "      <th>value_9</th>\n",
       "      <th>value_mean</th>\n",
       "      <th>values_std</th>\n",
       "      <th>value</th>\n",
       "      <th>copy</th>\n",
       "    </tr>\n",
       "  </thead>\n",
       "  <tbody>\n",
       "    <tr>\n",
       "      <th>0</th>\n",
       "      <td>1</td>\n",
       "      <td>497</td>\n",
       "      <td>A0M8Q6</td>\n",
       "      <td>R-HSA-166663</td>\n",
       "      <td>0</td>\n",
       "      <td>0</td>\n",
       "      <td>1</td>\n",
       "      <td>0.040034</td>\n",
       "      <td>0.042803</td>\n",
       "      <td>0.064148</td>\n",
       "      <td>...</td>\n",
       "      <td>0.036837</td>\n",
       "      <td>0.063436</td>\n",
       "      <td>0.076752</td>\n",
       "      <td>0.108140</td>\n",
       "      <td>0.084760</td>\n",
       "      <td>0.097311</td>\n",
       "      <td>0.068174</td>\n",
       "      <td>0.022916</td>\n",
       "      <td>0.068174</td>\n",
       "      <td>False</td>\n",
       "    </tr>\n",
       "    <tr>\n",
       "      <th>1</th>\n",
       "      <td>1</td>\n",
       "      <td>497</td>\n",
       "      <td>A0M8Q6</td>\n",
       "      <td>R-HSA-166663</td>\n",
       "      <td>1</td>\n",
       "      <td>0</td>\n",
       "      <td>1</td>\n",
       "      <td>0.106065</td>\n",
       "      <td>0.060070</td>\n",
       "      <td>0.059538</td>\n",
       "      <td>...</td>\n",
       "      <td>0.051316</td>\n",
       "      <td>0.072840</td>\n",
       "      <td>0.019320</td>\n",
       "      <td>0.037059</td>\n",
       "      <td>0.069426</td>\n",
       "      <td>0.127715</td>\n",
       "      <td>0.062478</td>\n",
       "      <td>0.032626</td>\n",
       "      <td>0.062478</td>\n",
       "      <td>False</td>\n",
       "    </tr>\n",
       "    <tr>\n",
       "      <th>2</th>\n",
       "      <td>1</td>\n",
       "      <td>954</td>\n",
       "      <td>A0M8Q6</td>\n",
       "      <td>R-HSA-198933</td>\n",
       "      <td>0</td>\n",
       "      <td>0</td>\n",
       "      <td>1</td>\n",
       "      <td>0.040034</td>\n",
       "      <td>0.042803</td>\n",
       "      <td>0.064148</td>\n",
       "      <td>...</td>\n",
       "      <td>0.036837</td>\n",
       "      <td>0.063436</td>\n",
       "      <td>0.076752</td>\n",
       "      <td>0.108140</td>\n",
       "      <td>0.084760</td>\n",
       "      <td>0.097311</td>\n",
       "      <td>0.068174</td>\n",
       "      <td>0.022916</td>\n",
       "      <td>0.068174</td>\n",
       "      <td>False</td>\n",
       "    </tr>\n",
       "    <tr>\n",
       "      <th>3</th>\n",
       "      <td>1</td>\n",
       "      <td>954</td>\n",
       "      <td>A0M8Q6</td>\n",
       "      <td>R-HSA-198933</td>\n",
       "      <td>1</td>\n",
       "      <td>0</td>\n",
       "      <td>1</td>\n",
       "      <td>0.106065</td>\n",
       "      <td>0.060070</td>\n",
       "      <td>0.059538</td>\n",
       "      <td>...</td>\n",
       "      <td>0.051316</td>\n",
       "      <td>0.072840</td>\n",
       "      <td>0.019320</td>\n",
       "      <td>0.037059</td>\n",
       "      <td>0.069426</td>\n",
       "      <td>0.127715</td>\n",
       "      <td>0.062478</td>\n",
       "      <td>0.032626</td>\n",
       "      <td>0.062478</td>\n",
       "      <td>False</td>\n",
       "    </tr>\n",
       "    <tr>\n",
       "      <th>4</th>\n",
       "      <td>1</td>\n",
       "      <td>539</td>\n",
       "      <td>A0M8Q6</td>\n",
       "      <td>R-HSA-2029481</td>\n",
       "      <td>0</td>\n",
       "      <td>0</td>\n",
       "      <td>1</td>\n",
       "      <td>0.040034</td>\n",
       "      <td>0.042803</td>\n",
       "      <td>0.064148</td>\n",
       "      <td>...</td>\n",
       "      <td>0.036837</td>\n",
       "      <td>0.063436</td>\n",
       "      <td>0.076752</td>\n",
       "      <td>0.108140</td>\n",
       "      <td>0.084760</td>\n",
       "      <td>0.097311</td>\n",
       "      <td>0.068174</td>\n",
       "      <td>0.022916</td>\n",
       "      <td>0.068174</td>\n",
       "      <td>False</td>\n",
       "    </tr>\n",
       "    <tr>\n",
       "      <th>...</th>\n",
       "      <td>...</td>\n",
       "      <td>...</td>\n",
       "      <td>...</td>\n",
       "      <td>...</td>\n",
       "      <td>...</td>\n",
       "      <td>...</td>\n",
       "      <td>...</td>\n",
       "      <td>...</td>\n",
       "      <td>...</td>\n",
       "      <td>...</td>\n",
       "      <td>...</td>\n",
       "      <td>...</td>\n",
       "      <td>...</td>\n",
       "      <td>...</td>\n",
       "      <td>...</td>\n",
       "      <td>...</td>\n",
       "      <td>...</td>\n",
       "      <td>...</td>\n",
       "      <td>...</td>\n",
       "      <td>...</td>\n",
       "      <td>...</td>\n",
       "    </tr>\n",
       "    <tr>\n",
       "      <th>6901</th>\n",
       "      <td>1319</td>\n",
       "      <td>0</td>\n",
       "      <td>R-HSA-9612973</td>\n",
       "      <td>root</td>\n",
       "      <td>1</td>\n",
       "      <td>4</td>\n",
       "      <td>5</td>\n",
       "      <td>0.276476</td>\n",
       "      <td>0.160292</td>\n",
       "      <td>0.106753</td>\n",
       "      <td>...</td>\n",
       "      <td>0.402154</td>\n",
       "      <td>0.119403</td>\n",
       "      <td>0.171008</td>\n",
       "      <td>0.180892</td>\n",
       "      <td>0.347785</td>\n",
       "      <td>0.066606</td>\n",
       "      <td>0.184319</td>\n",
       "      <td>0.117165</td>\n",
       "      <td>0.184319</td>\n",
       "      <td>False</td>\n",
       "    </tr>\n",
       "    <tr>\n",
       "      <th>6902</th>\n",
       "      <td>1320</td>\n",
       "      <td>0</td>\n",
       "      <td>R-HSA-9709957</td>\n",
       "      <td>root</td>\n",
       "      <td>0</td>\n",
       "      <td>4</td>\n",
       "      <td>5</td>\n",
       "      <td>0.215785</td>\n",
       "      <td>0.255105</td>\n",
       "      <td>0.147392</td>\n",
       "      <td>...</td>\n",
       "      <td>0.248170</td>\n",
       "      <td>0.063769</td>\n",
       "      <td>0.364010</td>\n",
       "      <td>0.064352</td>\n",
       "      <td>0.318408</td>\n",
       "      <td>0.235631</td>\n",
       "      <td>0.192619</td>\n",
       "      <td>0.110334</td>\n",
       "      <td>0.192619</td>\n",
       "      <td>False</td>\n",
       "    </tr>\n",
       "    <tr>\n",
       "      <th>6903</th>\n",
       "      <td>1320</td>\n",
       "      <td>0</td>\n",
       "      <td>R-HSA-9709957</td>\n",
       "      <td>root</td>\n",
       "      <td>1</td>\n",
       "      <td>4</td>\n",
       "      <td>5</td>\n",
       "      <td>0.179124</td>\n",
       "      <td>0.071012</td>\n",
       "      <td>0.093746</td>\n",
       "      <td>...</td>\n",
       "      <td>0.075359</td>\n",
       "      <td>0.178961</td>\n",
       "      <td>0.211899</td>\n",
       "      <td>0.088309</td>\n",
       "      <td>0.124800</td>\n",
       "      <td>0.042180</td>\n",
       "      <td>0.124393</td>\n",
       "      <td>0.055513</td>\n",
       "      <td>0.124393</td>\n",
       "      <td>False</td>\n",
       "    </tr>\n",
       "    <tr>\n",
       "      <th>6904</th>\n",
       "      <td>1321</td>\n",
       "      <td>0</td>\n",
       "      <td>R-HSA-9748784</td>\n",
       "      <td>root</td>\n",
       "      <td>0</td>\n",
       "      <td>4</td>\n",
       "      <td>5</td>\n",
       "      <td>0.142421</td>\n",
       "      <td>0.050485</td>\n",
       "      <td>0.172400</td>\n",
       "      <td>...</td>\n",
       "      <td>0.164300</td>\n",
       "      <td>0.140965</td>\n",
       "      <td>0.162595</td>\n",
       "      <td>0.095270</td>\n",
       "      <td>0.158089</td>\n",
       "      <td>0.289934</td>\n",
       "      <td>0.154101</td>\n",
       "      <td>0.057960</td>\n",
       "      <td>0.154101</td>\n",
       "      <td>False</td>\n",
       "    </tr>\n",
       "    <tr>\n",
       "      <th>6905</th>\n",
       "      <td>1321</td>\n",
       "      <td>0</td>\n",
       "      <td>R-HSA-9748784</td>\n",
       "      <td>root</td>\n",
       "      <td>1</td>\n",
       "      <td>4</td>\n",
       "      <td>5</td>\n",
       "      <td>0.200290</td>\n",
       "      <td>0.056625</td>\n",
       "      <td>0.151126</td>\n",
       "      <td>...</td>\n",
       "      <td>0.017130</td>\n",
       "      <td>0.003003</td>\n",
       "      <td>0.030269</td>\n",
       "      <td>0.241374</td>\n",
       "      <td>0.008764</td>\n",
       "      <td>0.080853</td>\n",
       "      <td>0.081321</td>\n",
       "      <td>0.081664</td>\n",
       "      <td>0.081321</td>\n",
       "      <td>False</td>\n",
       "    </tr>\n",
       "  </tbody>\n",
       "</table>\n",
       "<p>6580 rows × 21 columns</p>\n",
       "</div>"
      ],
      "text/plain": [
       "      source  target    source name    target name  type  source layer  \\\n",
       "0          1     497         A0M8Q6   R-HSA-166663     0             0   \n",
       "1          1     497         A0M8Q6   R-HSA-166663     1             0   \n",
       "2          1     954         A0M8Q6   R-HSA-198933     0             0   \n",
       "3          1     954         A0M8Q6   R-HSA-198933     1             0   \n",
       "4          1     539         A0M8Q6  R-HSA-2029481     0             0   \n",
       "...      ...     ...            ...            ...   ...           ...   \n",
       "6901    1319       0  R-HSA-9612973           root     1             4   \n",
       "6902    1320       0  R-HSA-9709957           root     0             4   \n",
       "6903    1320       0  R-HSA-9709957           root     1             4   \n",
       "6904    1321       0  R-HSA-9748784           root     0             4   \n",
       "6905    1321       0  R-HSA-9748784           root     1             4   \n",
       "\n",
       "      target layer   value_0   value_1   value_2  ...   value_4   value_5  \\\n",
       "0                1  0.040034  0.042803  0.064148  ...  0.036837  0.063436   \n",
       "1                1  0.106065  0.060070  0.059538  ...  0.051316  0.072840   \n",
       "2                1  0.040034  0.042803  0.064148  ...  0.036837  0.063436   \n",
       "3                1  0.106065  0.060070  0.059538  ...  0.051316  0.072840   \n",
       "4                1  0.040034  0.042803  0.064148  ...  0.036837  0.063436   \n",
       "...            ...       ...       ...       ...  ...       ...       ...   \n",
       "6901             5  0.276476  0.160292  0.106753  ...  0.402154  0.119403   \n",
       "6902             5  0.215785  0.255105  0.147392  ...  0.248170  0.063769   \n",
       "6903             5  0.179124  0.071012  0.093746  ...  0.075359  0.178961   \n",
       "6904             5  0.142421  0.050485  0.172400  ...  0.164300  0.140965   \n",
       "6905             5  0.200290  0.056625  0.151126  ...  0.017130  0.003003   \n",
       "\n",
       "       value_6   value_7   value_8   value_9  value_mean  values_std  \\\n",
       "0     0.076752  0.108140  0.084760  0.097311    0.068174    0.022916   \n",
       "1     0.019320  0.037059  0.069426  0.127715    0.062478    0.032626   \n",
       "2     0.076752  0.108140  0.084760  0.097311    0.068174    0.022916   \n",
       "3     0.019320  0.037059  0.069426  0.127715    0.062478    0.032626   \n",
       "4     0.076752  0.108140  0.084760  0.097311    0.068174    0.022916   \n",
       "...        ...       ...       ...       ...         ...         ...   \n",
       "6901  0.171008  0.180892  0.347785  0.066606    0.184319    0.117165   \n",
       "6902  0.364010  0.064352  0.318408  0.235631    0.192619    0.110334   \n",
       "6903  0.211899  0.088309  0.124800  0.042180    0.124393    0.055513   \n",
       "6904  0.162595  0.095270  0.158089  0.289934    0.154101    0.057960   \n",
       "6905  0.030269  0.241374  0.008764  0.080853    0.081321    0.081664   \n",
       "\n",
       "         value   copy  \n",
       "0     0.068174  False  \n",
       "1     0.062478  False  \n",
       "2     0.068174  False  \n",
       "3     0.062478  False  \n",
       "4     0.068174  False  \n",
       "...        ...    ...  \n",
       "6901  0.184319  False  \n",
       "6902  0.192619  False  \n",
       "6903  0.124393  False  \n",
       "6904  0.154101  False  \n",
       "6905  0.081321  False  \n",
       "\n",
       "[6580 rows x 21 columns]"
      ]
     },
     "execution_count": 6,
     "metadata": {},
     "output_type": "execute_result"
    }
   ],
   "source": [
    "importance_df[\"copy\"] = importance_df.apply(lambda x: True if x[\"source name\"] == x[\"target name\"] else False, axis=1)\n",
    "importance_df = importance_df[importance_df[\"copy\"] == False]\n",
    "importance_df"
   ]
  },
  {
   "cell_type": "code",
   "execution_count": 7,
   "metadata": {},
   "outputs": [],
   "source": [
    "importance_df_copy = importance_df.groupby([\"source name\", \"source layer\", \"target layer\"], as_index=False).mean(numeric_only=True)\n",
    "mean_ranks = []\n",
    "std_ranks = []\n",
    "source_layer = []\n",
    "sources = []\n",
    "for layer in range(binn.n_layers):\n",
    "    layer_df = importance_df_copy[importance_df_copy[\"source layer\"] == layer].copy()\n",
    "    for i in range(n_iterations):\n",
    "        layer_df.sort_values(f\"value_{i}\", ascending=False, inplace=True)\n",
    "        layer_df[f\"rank_{i}\"] = range(len(layer_df.index))\n",
    "    rank_cols = [c for c in layer_df.columns if c.startswith(\"rank\")]\n",
    "    mean_ranks += (layer_df[rank_cols].mean(axis=1)/ len(layer_df.index)).tolist()\n",
    "    sources += layer_df[\"source name\"].tolist()\n",
    "    std_ranks  += (layer_df[rank_cols].std(axis=1)/ len(layer_df.index)).tolist()\n",
    "    source_layer += layer_df[\"source layer\"].tolist()\n",
    "plot_df = pd.DataFrame({\"mean\":mean_ranks, \"std\":std_ranks, \"source layer\":source_layer, \"source\":sources})"
   ]
  },
  {
   "cell_type": "code",
   "execution_count": 8,
   "metadata": {},
   "outputs": [
    {
     "data": {
      "text/html": [
       "<div>\n",
       "<style scoped>\n",
       "    .dataframe tbody tr th:only-of-type {\n",
       "        vertical-align: middle;\n",
       "    }\n",
       "\n",
       "    .dataframe tbody tr th {\n",
       "        vertical-align: top;\n",
       "    }\n",
       "\n",
       "    .dataframe thead th {\n",
       "        text-align: right;\n",
       "    }\n",
       "</style>\n",
       "<table border=\"1\" class=\"dataframe\">\n",
       "  <thead>\n",
       "    <tr style=\"text-align: right;\">\n",
       "      <th></th>\n",
       "      <th>mean</th>\n",
       "      <th>std</th>\n",
       "      <th>source layer</th>\n",
       "      <th>source</th>\n",
       "    </tr>\n",
       "  </thead>\n",
       "  <tbody>\n",
       "    <tr>\n",
       "      <th>1</th>\n",
       "      <td>0.000668</td>\n",
       "      <td>0.001503</td>\n",
       "      <td>0</td>\n",
       "      <td>P04114</td>\n",
       "    </tr>\n",
       "    <tr>\n",
       "      <th>450</th>\n",
       "      <td>0.002280</td>\n",
       "      <td>0.002199</td>\n",
       "      <td>1</td>\n",
       "      <td>R-HSA-975634</td>\n",
       "    </tr>\n",
       "    <tr>\n",
       "      <th>11</th>\n",
       "      <td>0.008463</td>\n",
       "      <td>0.008254</td>\n",
       "      <td>0</td>\n",
       "      <td>P60709</td>\n",
       "    </tr>\n",
       "    <tr>\n",
       "      <th>452</th>\n",
       "      <td>0.008469</td>\n",
       "      <td>0.007070</td>\n",
       "      <td>1</td>\n",
       "      <td>R-HSA-114608</td>\n",
       "    </tr>\n",
       "    <tr>\n",
       "      <th>2</th>\n",
       "      <td>0.010468</td>\n",
       "      <td>0.011881</td>\n",
       "      <td>0</td>\n",
       "      <td>P02647</td>\n",
       "    </tr>\n",
       "    <tr>\n",
       "      <th>451</th>\n",
       "      <td>0.013355</td>\n",
       "      <td>0.019145</td>\n",
       "      <td>1</td>\n",
       "      <td>R-HSA-140534</td>\n",
       "    </tr>\n",
       "    <tr>\n",
       "      <th>0</th>\n",
       "      <td>0.013586</td>\n",
       "      <td>0.018499</td>\n",
       "      <td>0</td>\n",
       "      <td>P08571</td>\n",
       "    </tr>\n",
       "    <tr>\n",
       "      <th>21</th>\n",
       "      <td>0.014031</td>\n",
       "      <td>0.012513</td>\n",
       "      <td>0</td>\n",
       "      <td>P00734</td>\n",
       "    </tr>\n",
       "    <tr>\n",
       "      <th>759</th>\n",
       "      <td>0.017761</td>\n",
       "      <td>0.019535</td>\n",
       "      <td>2</td>\n",
       "      <td>R-HSA-76005</td>\n",
       "    </tr>\n",
       "    <tr>\n",
       "      <th>6</th>\n",
       "      <td>0.021158</td>\n",
       "      <td>0.015931</td>\n",
       "      <td>0</td>\n",
       "      <td>P02452</td>\n",
       "    </tr>\n",
       "    <tr>\n",
       "      <th>12</th>\n",
       "      <td>0.023608</td>\n",
       "      <td>0.013205</td>\n",
       "      <td>0</td>\n",
       "      <td>P00742</td>\n",
       "    </tr>\n",
       "    <tr>\n",
       "      <th>19</th>\n",
       "      <td>0.024276</td>\n",
       "      <td>0.020071</td>\n",
       "      <td>0</td>\n",
       "      <td>P68871</td>\n",
       "    </tr>\n",
       "    <tr>\n",
       "      <th>455</th>\n",
       "      <td>0.025733</td>\n",
       "      <td>0.029753</td>\n",
       "      <td>1</td>\n",
       "      <td>R-HSA-418990</td>\n",
       "    </tr>\n",
       "    <tr>\n",
       "      <th>27</th>\n",
       "      <td>0.026058</td>\n",
       "      <td>0.017632</td>\n",
       "      <td>0</td>\n",
       "      <td>P01042</td>\n",
       "    </tr>\n",
       "    <tr>\n",
       "      <th>8</th>\n",
       "      <td>0.027394</td>\n",
       "      <td>0.012946</td>\n",
       "      <td>0</td>\n",
       "      <td>Q9UBR2</td>\n",
       "    </tr>\n",
       "    <tr>\n",
       "      <th>466</th>\n",
       "      <td>0.030945</td>\n",
       "      <td>0.025475</td>\n",
       "      <td>1</td>\n",
       "      <td>R-HSA-442755</td>\n",
       "    </tr>\n",
       "    <tr>\n",
       "      <th>757</th>\n",
       "      <td>0.031274</td>\n",
       "      <td>0.049191</td>\n",
       "      <td>2</td>\n",
       "      <td>R-HSA-2168880</td>\n",
       "    </tr>\n",
       "    <tr>\n",
       "      <th>758</th>\n",
       "      <td>0.031274</td>\n",
       "      <td>0.048955</td>\n",
       "      <td>2</td>\n",
       "      <td>R-HSA-5357769</td>\n",
       "    </tr>\n",
       "    <tr>\n",
       "      <th>16</th>\n",
       "      <td>0.033185</td>\n",
       "      <td>0.024588</td>\n",
       "      <td>0</td>\n",
       "      <td>P04908</td>\n",
       "    </tr>\n",
       "    <tr>\n",
       "      <th>766</th>\n",
       "      <td>0.038224</td>\n",
       "      <td>0.043509</td>\n",
       "      <td>2</td>\n",
       "      <td>R-HSA-975634</td>\n",
       "    </tr>\n",
       "  </tbody>\n",
       "</table>\n",
       "</div>"
      ],
      "text/plain": [
       "         mean       std  source layer         source\n",
       "1    0.000668  0.001503             0         P04114\n",
       "450  0.002280  0.002199             1   R-HSA-975634\n",
       "11   0.008463  0.008254             0         P60709\n",
       "452  0.008469  0.007070             1   R-HSA-114608\n",
       "2    0.010468  0.011881             0         P02647\n",
       "451  0.013355  0.019145             1   R-HSA-140534\n",
       "0    0.013586  0.018499             0         P08571\n",
       "21   0.014031  0.012513             0         P00734\n",
       "759  0.017761  0.019535             2    R-HSA-76005\n",
       "6    0.021158  0.015931             0         P02452\n",
       "12   0.023608  0.013205             0         P00742\n",
       "19   0.024276  0.020071             0         P68871\n",
       "455  0.025733  0.029753             1   R-HSA-418990\n",
       "27   0.026058  0.017632             0         P01042\n",
       "8    0.027394  0.012946             0         Q9UBR2\n",
       "466  0.030945  0.025475             1   R-HSA-442755\n",
       "757  0.031274  0.049191             2  R-HSA-2168880\n",
       "758  0.031274  0.048955             2  R-HSA-5357769\n",
       "16   0.033185  0.024588             0         P04908\n",
       "766  0.038224  0.043509             2   R-HSA-975634"
      ]
     },
     "execution_count": 8,
     "metadata": {},
     "output_type": "execute_result"
    }
   ],
   "source": [
    "plot_df.sort_values(\"mean\").head(20)"
   ]
  },
  {
   "cell_type": "markdown",
   "metadata": {},
   "source": [
    "If we now plot the (normalized) mean and standard deviation of the rank, we see that highly important features generally have a low standard deviation. We can therefore be the most certain about the most important features."
   ]
  },
  {
   "cell_type": "code",
   "execution_count": 9,
   "metadata": {},
   "outputs": [
    {
     "data": {
      "text/plain": [
       "<seaborn.axisgrid.JointGrid at 0x2ab43e760>"
      ]
     },
     "execution_count": 9,
     "metadata": {},
     "output_type": "execute_result"
    },
    {
     "data": {
      "image/png": "[encoded data removed]",
      "text/plain": [
       "<Figure size 600x600 with 3 Axes>"
      ]
     },
     "metadata": {},
     "output_type": "display_data"
    }
   ],
   "source": [
    "import seaborn as sns\n",
    "\n",
    "\n",
    "sns.jointplot(plot_df, y=\"mean\", x=\"std\", hue=\"source layer\", palette=\"coolwarm\")\n",
    "\n"
   ]
  },
  {
   "cell_type": "code",
   "execution_count": 10,
   "metadata": {},
   "outputs": [],
   "source": [
    "from binn import ImportanceNetwork\n",
    "\n",
    "IG = ImportanceNetwork(importance_df, norm_method=\"fan\")\n"
   ]
  },
  {
   "cell_type": "code",
   "execution_count": 11,
   "metadata": {},
   "outputs": [
    {
     "data": {
      "application/vnd.plotly.v1+json": {
       "config": {
        "plotlyServerURL": "https://plot.ly"
       },
       "data": [
        {
         "arrangement": "snap",
         "link": {
          "color": [
           "rgba(199.422524862, 214.930374228, 240.459860034, 0.75)",
           "rgba(133.032551612, 168.19764462, 251.872685928, 0.75)",
           "rgba(241.573077918, 202.647353724, 182.832578979, 0.75)",
           "rgba(113.839813816, 148.500888768, 244.130192899, 0.75)",
           "rgba(66.76036582, 88.35350065800002, 202.89273265499997, 0.75)",
           "rgba(171.497177945, 199.629669015, 252.955384659, 0.75)",
           "rgba(134.41872607599998, 169.49839853999998, 252.211484904, 0.75)",
           "rgba(134.41872607599998, 169.49839853999998, 252.211484904, 0.75)",
           "rgba(152.433077751, 185.46907984499998, 254.94306660299998, 0.75)",
           "rgba(179.94665529, 3.9668208, 38.30936706, 0.75)",
           "rgba(179.94665529, 3.9668208, 38.30936706, 0.75)",
           "rgba(181.446232122, 8.500897823999995, 39.393601012, 0.75)",
           "rgba(231.912197427, 214.04355234, 204.08449486799998, 0.75)",
           "rgba(128.88277391999998, 164.21864176000003, 250.705144975, 0.75)",
           "rgba(105.774230228, 139.45274939200002, 239.467320746, 0.75)",
           "rgba(245.219408286, 193.297441548, 168.75450668699997, 0.75)",
           "rgba(151.050744172, 184.31196746, 254.85563808, 0.75)",
           "rgba(167.454131225, 196.81065157499998, 253.703028627, 0.75)",
           "rgba(212.93193713099998, 79.979299668, 66.244703694, 0.75)",
           "rgba(142.73541501999998, 177.16577066, 253.99920384, 0.75)",
           "rgba(120.632894112, 155.824746592, 247.51156500699997, 0.75)",
           "rgba(151.050744172, 184.31196746, 254.85563808, 0.75)",
           "rgba(141.34952682799997, 175.97473785999998, 253.8564648, 0.75)",
           "rgba(126.13281398399998, 161.420676704, 249.640618319, 0.75)",
           "rgba(141.34952682799997, 175.97473785999998, 253.8564648, 0.75)",
           "rgba(141.34952682799997, 175.97473785999998, 253.8564648, 0.75)",
           "rgba(77.564443186, 103.770945124, 215.541995308, 0.75)",
           "rgba(117.900371128, 152.956678464, 246.29358390699997, 0.75)",
           "rgba(238.247891001, 134.108965472, 105.133050881, 0.75)",
           "rgba(207.49160838, 217.84186883, 234.21242614, 0.75)",
           "rgba(151.050744172, 184.31196746, 254.85563808, 0.75)",
           "rgba(117.900371128, 152.956678464, 246.29358390699997, 0.75)",
           "rgba(246.891866745, 183.8152455, 156.13471279, 0.75)",
           "rgba(176.79692763, 203.06010358499998, 251.508484035, 0.75)",
           "rgba(246.30421903799999, 188.736168844, 162.44971539099998, 0.75)",
           "rgba(87.53576847600002, 117.135176856, 225.45109001400002, 0.75)",
           "rgba(223.267133795, 219.36175050999998, 217.11466685500002, 0.75)",
           "rgba(223.267133795, 219.36175050999998, 217.11466685500002, 0.75)",
           "rgba(101.80402849999999, 134.77476040000002, 236.75707121000002, 0.75)",
           "rgba(126.13281398399998, 161.420676704, 249.640618319, 0.75)",
           "rgba(164.75876674499997, 194.93130661499998, 254.201457939, 0.75)",
           "rgba(164.75876674499997, 194.93130661499998, 254.201457939, 0.75)",
           "rgba(164.75876674499997, 194.93130661499998, 254.201457939, 0.75)",
           "rgba(164.75876674499997, 194.93130661499998, 254.201457939, 0.75)",
           "rgba(179.94665529, 3.9668208, 38.30936706, 0.75)",
           "rgba(149.66485598, 183.12093466, 254.71289904, 0.75)",
           "rgba(176.79692763, 203.06010358499998, 251.508484035, 0.75)",
           "rgba(130.26020268399998, 165.59613678, 251.19508797600002, 0.75)",
           "rgba(179.94665529, 3.9668208, 38.30936706, 0.75)",
           "rgba(175.488063214, 202.26048672099998, 251.949716611, 0.75)",
           "rgba(75.15320018999999, 100.353192084, 212.767962616, 0.75)",
           "rgb(236,236,236, 0.75)",
           "rgba(179.94665529, 3.9668208, 38.30936706, 0.75)",
           "rgba(243.487618431, 150.86369797700002, 120.19105319, 0.75)",
           "rgba(200.613778846, 215.425838644, 239.651648162, 0.75)",
           "rgb(236,236,236, 0.75)",
           "rgb(236,236,236, 0.75)",
           "rgb(236,236,236, 0.75)",
           "rgb(236,236,236, 0.75)",
           "rgb(236,236,236, 0.75)",
           "rgb(236,236,236, 0.75)",
           "rgb(236,236,236, 0.75)",
           "rgb(236,236,236, 0.75)",
           "rgb(236,236,236, 0.75)",
           "rgb(236,236,236, 0.75)",
           "rgb(236,236,236, 0.75)",
           "rgb(236,236,236, 0.75)",
           "rgb(236,236,236, 0.75)",
           "rgba(244.36124647100002, 154.105449705, 123.24076085400002, 0.75)",
           "rgba(244.36124647100002, 154.105449705, 123.24076085400002, 0.75)",
           "rgba(244.36124647100002, 154.105449705, 123.24076085400002, 0.75)",
           "rgb(236,236,236, 0.75)",
           "rgb(236,236,236, 0.75)",
           "rgb(236,236,236, 0.75)",
           "rgb(236,236,236, 0.75)",
           "rgb(236,236,236, 0.75)",
           "rgb(236,236,236, 0.75)",
           "rgb(236,236,236, 0.75)",
           "rgb(236,236,236, 0.75)",
           "rgb(236,236,236, 0.75)",
           "rgb(236,236,236, 0.75)",
           "rgb(236,236,236, 0.75)",
           "rgb(236,236,236, 0.75)",
           "rgb(236,236,236, 0.75)",
           "rgb(236,236,236, 0.75)",
           "rgb(236,236,236, 0.75)",
           "rgb(236,236,236, 0.75)",
           "rgb(236,236,236, 0.75)",
           "rgb(236,236,236, 0.75)",
           "rgba(145.507191404, 179.54783626, 254.28468192, 0.75)"
          ],
          "source": [
           0,
           2,
           3,
           4,
           5,
           6,
           7,
           7,
           8,
           9,
           10,
           11,
           12,
           13,
           14,
           15,
           16,
           17,
           18,
           19,
           20,
           21,
           22,
           23,
           24,
           24,
           25,
           26,
           27,
           28,
           29,
           30,
           31,
           32,
           33,
           34,
           35,
           35,
           36,
           37,
           38,
           38,
           38,
           38,
           39,
           40,
           41,
           42,
           43,
           44,
           45,
           46,
           47,
           48,
           49,
           50,
           50,
           50,
           50,
           50,
           50,
           50,
           50,
           50,
           50,
           51,
           51,
           51,
           52,
           52,
           52,
           53,
           53,
           53,
           53,
           53,
           53,
           53,
           53,
           53,
           53,
           54,
           54,
           54,
           54,
           54,
           54,
           54,
           54,
           55
          ],
          "target": [
           53,
           54,
           40,
           0,
           7,
           1,
           32,
           33,
           1,
           1,
           51,
           12,
           16,
           1,
           1,
           51,
           1,
           6,
           1,
           44,
           1,
           1,
           1,
           54,
           34,
           51,
           54,
           9,
           46,
           51,
           53,
           51,
           18,
           53,
           22,
           43,
           51,
           39,
           53,
           47,
           34,
           51,
           25,
           7,
           11,
           46,
           29,
           53,
           49,
           8,
           54,
           1,
           46,
           51,
           6,
           34,
           25,
           7,
           55,
           2,
           42,
           23,
           41,
           4,
           45,
           37,
           19,
           36,
           51,
           25,
           7,
           9,
           21,
           18,
           6,
           20,
           13,
           14,
           16,
           8,
           22,
           12,
           49,
           26,
           17,
           31,
           33,
           40,
           27,
           3
          ],
          "value": [
           0.09178845545277423,
           0.08870595427874285,
           0.11228523829768892,
           0.07826429922787466,
           0.014194286768544529,
           0.09473064339042127,
           0.12484150600674586,
           0.05345053453858041,
           0.08915818798037574,
           0.16182668568705533,
           0.11111288601065443,
           0.15821653131947452,
           0.1017748441808939,
           0.08241897635879983,
           0.07580146291597105,
           0.07450936692890034,
           0.08885698225917149,
           0.08438125136366136,
           0.15203914864827778,
           0.07259875278916585,
           0.08017459934034041,
           0.08870925492262455,
           0.08628405849696255,
           0.08512464533720097,
           0.010461256741631684,
           0.0627675404497901,
           0.05700421998518303,
           0.07319833536433758,
           0.12158742926922869,
           0.056268025575829286,
           0.07491737486026954,
           0.029690690448208334,
           0.11155821616261705,
           0.08354073036037855,
           0.11013198071450621,
           0.06307759655913206,
           0.11225083814249923,
           0.01247231534916658,
           0.05900770724649196,
           0.06700894754686587,
           0.01009934721332183,
           0.14139086098650563,
           0.01009934721332183,
           0.01009934721332183,
           0.2389493329338797,
           0.08047812917359935,
           0.11314530158733646,
           0.06848846122197744,
           0.15869726636633283,
           0.08644301367891914,
           0.055146069134283854,
           0.1,
           0.13800928600092466,
           0.08670370364796466,
           0.09243751409131211,
           0.05192625679616997,
           0.007897614590781123,
           0.012488173961664404,
           0.00992728243788602,
           0.0017582750600082903,
           0.001986707957506361,
           0.0021816106387142395,
           0.0034642426072148238,
           0.006107333602457049,
           0.0022625023475977475,
           0.06459034932843477,
           0.01967354470712169,
           0.015736105964443556,
           0.22922683316474624,
           0.01432667707279664,
           0.01432667707279664,
           0.011888848964624228,
           0.01317781479823886,
           0.006286489315257449,
           0.007771865341472056,
           0.012197790137307579,
           0.015097755467760847,
           0.006409461571597344,
           0.000853234789615465,
           0.02208186709710038,
           0.0042348725170258126,
           0.010830567774984876,
           0.006159708501334734,
           0.023031291318490518,
           0.011565332683109962,
           0.01583953674392197,
           0.0037208721977488855,
           0.008606821256933532,
           0.02024586952347552,
           0.09574107494962042,
           0.09178845545277423,
           0.08870595427874285,
           0.11228523829768892,
           0.07826429922787466,
           0.014194286768544529,
           0.09473064339042127,
           0.12484150600674586,
           0.05345053453858041,
           0.08915818798037574,
           0.16182668568705533,
           0.11111288601065443,
           0.15821653131947452,
           0.1017748441808939,
           0.08241897635879983,
           0.07580146291597105,
           0.07450936692890034,
           0.08885698225917149,
           0.08438125136366136,
           0.15203914864827778,
           0.07259875278916585,
           0.08017459934034041,
           0.08870925492262455,
           0.08628405849696255,
           0.08512464533720097,
           0.010461256741631684,
           0.0627675404497901,
           0.05700421998518303,
           0.07319833536433758,
           0.12158742926922869,
           0.056268025575829286,
           0.07491737486026954,
           0.029690690448208334,
           0.11155821616261705,
           0.08354073036037855,
           0.11013198071450621,
           0.06307759655913206,
           0.11225083814249923,
           0.01247231534916658,
           0.05900770724649196,
           0.06700894754686587,
           0.01009934721332183,
           0.14139086098650563,
           0.01009934721332183,
           0.01009934721332183,
           0.2389493329338797,
           0.08047812917359935,
           0.11314530158733646,
           0.06848846122197744,
           0.15869726636633283,
           0.08644301367891914,
           0.055146069134283854,
           0.1,
           0.13800928600092466,
           0.08670370364796466,
           0.09243751409131211,
           0.05192625679616997,
           0.007897614590781123,
           0.012488173961664404,
           0.00992728243788602,
           0.0017582750600082903,
           0.001986707957506361,
           0.0021816106387142395,
           0.0034642426072148238,
           0.006107333602457049,
           0.0022625023475977475,
           0.06459034932843477,
           0.01967354470712169,
           0.015736105964443556,
           0.22922683316474624,
           0.01432667707279664,
           0.01432667707279664,
           0.011888848964624228,
           0.01317781479823886,
           0.006286489315257449,
           0.007771865341472056,
           0.012197790137307579,
           0.015097755467760847,
           0.006409461571597344,
           0.000853234789615465,
           0.02208186709710038,
           0.0042348725170258126,
           0.010830567774984876,
           0.006159708501334734,
           0.023031291318490518,
           0.011565332683109962,
           0.01583953674392197,
           0.0037208721977488855,
           0.008606821256933532,
           0.02024586952347552,
           0.09574107494962042,
           0.09178845545277423,
           0.08870595427874285,
           0.11228523829768892,
           0.07826429922787466,
           0.014194286768544529,
           0.09473064339042127,
           0.12484150600674586,
           0.05345053453858041,
           0.08915818798037574,
           0.16182668568705533,
           0.11111288601065443,
           0.15821653131947452,
           0.1017748441808939,
           0.08241897635879983,
           0.07580146291597105,
           0.07450936692890034,
           0.08885698225917149,
           0.08438125136366136,
           0.15203914864827778,
           0.07259875278916585,
           0.08017459934034041,
           0.08870925492262455,
           0.08628405849696255,
           0.08512464533720097,
           0.010461256741631684,
           0.0627675404497901,
           0.05700421998518303,
           0.07319833536433758,
           0.12158742926922869,
           0.056268025575829286,
           0.07491737486026954,
           0.029690690448208334,
           0.11155821616261705,
           0.08354073036037855,
           0.11013198071450621,
           0.06307759655913206,
           0.11225083814249923,
           0.01247231534916658,
           0.05900770724649196,
           0.06700894754686587,
           0.01009934721332183,
           0.14139086098650563,
           0.01009934721332183,
           0.01009934721332183,
           0.2389493329338797,
           0.08047812917359935,
           0.11314530158733646,
           0.06848846122197744,
           0.15869726636633283,
           0.08644301367891914,
           0.055146069134283854,
           0.1,
           0.13800928600092466,
           0.08670370364796466,
           0.09243751409131211,
           0.05192625679616997,
           0.007897614590781123,
           0.012488173961664404,
           0.00992728243788602,
           0.0017582750600082903,
           0.001986707957506361,
           0.0021816106387142395,
           0.0034642426072148238,
           0.006107333602457049,
           0.0022625023475977475,
           0.06459034932843477,
           0.01967354470712169,
           0.015736105964443556,
           0.22922683316474624,
           0.01432667707279664,
           0.01432667707279664,
           0.011888848964624228,
           0.01317781479823886,
           0.006286489315257449,
           0.007771865341472056,
           0.012197790137307579,
           0.015097755467760847,
           0.006409461571597344,
           0.000853234789615465,
           0.02208186709710038,
           0.0042348725170258126,
           0.010830567774984876,
           0.006159708501334734,
           0.023031291318490518,
           0.011565332683109962,
           0.01583953674392197,
           0.0037208721977488855,
           0.008606821256933532,
           0.02024586952347552,
           0.09574107494962042,
           0.09178845545277423,
           0.08870595427874285,
           0.11228523829768892,
           0.07826429922787466,
           0.014194286768544529,
           0.09473064339042127,
           0.12484150600674586,
           0.05345053453858041,
           0.08915818798037574,
           0.16182668568705533,
           0.11111288601065443,
           0.15821653131947452,
           0.1017748441808939,
           0.08241897635879983,
           0.07580146291597105,
           0.07450936692890034,
           0.08885698225917149,
           0.08438125136366136,
           0.15203914864827778,
           0.07259875278916585,
           0.08017459934034041,
           0.08870925492262455,
           0.08628405849696255,
           0.08512464533720097,
           0.010461256741631684,
           0.0627675404497901,
           0.05700421998518303,
           0.07319833536433758,
           0.12158742926922869,
           0.056268025575829286,
           0.07491737486026954,
           0.029690690448208334,
           0.11155821616261705,
           0.08354073036037855,
           0.11013198071450621,
           0.06307759655913206,
           0.11225083814249923,
           0.01247231534916658,
           0.05900770724649196,
           0.06700894754686587,
           0.01009934721332183,
           0.14139086098650563,
           0.01009934721332183,
           0.01009934721332183,
           0.2389493329338797,
           0.08047812917359935,
           0.11314530158733646,
           0.06848846122197744,
           0.15869726636633283,
           0.08644301367891914,
           0.055146069134283854,
           0.1,
           0.13800928600092466,
           0.08670370364796466,
           0.09243751409131211,
           0.05192625679616997,
           0.007897614590781123,
           0.012488173961664404,
           0.00992728243788602,
           0.0017582750600082903,
           0.001986707957506361,
           0.0021816106387142395,
           0.0034642426072148238,
           0.006107333602457049,
           0.0022625023475977475,
           0.06459034932843477,
           0.01967354470712169,
           0.015736105964443556,
           0.22922683316474624,
           0.01432667707279664,
           0.01432667707279664,
           0.011888848964624228,
           0.01317781479823886,
           0.006286489315257449,
           0.007771865341472056,
           0.012197790137307579,
           0.015097755467760847,
           0.006409461571597344,
           0.000853234789615465,
           0.02208186709710038,
           0.0042348725170258126,
           0.010830567774984876,
           0.006159708501334734,
           0.023031291318490518,
           0.011565332683109962,
           0.01583953674392197,
           0.0037208721977488855,
           0.008606821256933532,
           0.02024586952347552,
           0.09574107494962042,
           0.09178845545277423,
           0.08870595427874285,
           0.11228523829768892,
           0.07826429922787466,
           0.014194286768544529,
           0.09473064339042127,
           0.12484150600674586,
           0.05345053453858041,
           0.08915818798037574,
           0.16182668568705533,
           0.11111288601065443,
           0.15821653131947452,
           0.1017748441808939,
           0.08241897635879983,
           0.07580146291597105,
           0.07450936692890034,
           0.08885698225917149,
           0.08438125136366136,
           0.15203914864827778,
           0.07259875278916585,
           0.08017459934034041,
           0.08870925492262455,
           0.08628405849696255,
           0.08512464533720097,
           0.010461256741631684,
           0.0627675404497901,
           0.05700421998518303,
           0.07319833536433758,
           0.12158742926922869,
           0.056268025575829286,
           0.07491737486026954,
           0.029690690448208334,
           0.11155821616261705,
           0.08354073036037855,
           0.11013198071450621,
           0.06307759655913206,
           0.11225083814249923,
           0.01247231534916658,
           0.05900770724649196,
           0.06700894754686587,
           0.01009934721332183,
           0.14139086098650563,
           0.01009934721332183,
           0.01009934721332183,
           0.2389493329338797,
           0.08047812917359935,
           0.11314530158733646,
           0.06848846122197744,
           0.15869726636633283,
           0.08644301367891914,
           0.055146069134283854,
           0.1,
           0.13800928600092466,
           0.08670370364796466,
           0.09243751409131211,
           0.05192625679616997,
           0.007897614590781123,
           0.012488173961664404,
           0.00992728243788602,
           0.0017582750600082903,
           0.001986707957506361,
           0.0021816106387142395,
           0.0034642426072148238,
           0.006107333602457049,
           0.0022625023475977475,
           0.06459034932843477,
           0.01967354470712169,
           0.015736105964443556,
           0.22922683316474624,
           0.01432667707279664,
           0.01432667707279664,
           0.011888848964624228,
           0.01317781479823886,
           0.006286489315257449,
           0.007771865341472056,
           0.012197790137307579,
           0.015097755467760847,
           0.006409461571597344,
           0.000853234789615465,
           0.02208186709710038,
           0.0042348725170258126,
           0.010830567774984876,
           0.006159708501334734,
           0.023031291318490518,
           0.011565332683109962,
           0.01583953674392197,
           0.0037208721977488855,
           0.008606821256933532,
           0.02024586952347552,
           0.09574107494962042,
           0.09178845545277423,
           0.08870595427874285,
           0.11228523829768892,
           0.07826429922787466,
           0.014194286768544529,
           0.09473064339042127,
           0.12484150600674586,
           0.05345053453858041,
           0.08915818798037574,
           0.16182668568705533,
           0.11111288601065443,
           0.15821653131947452,
           0.1017748441808939,
           0.08241897635879983,
           0.07580146291597105,
           0.07450936692890034,
           0.08885698225917149,
           0.08438125136366136,
           0.15203914864827778,
           0.07259875278916585,
           0.08017459934034041,
           0.08870925492262455,
           0.08628405849696255,
           0.08512464533720097,
           0.010461256741631684,
           0.0627675404497901,
           0.05700421998518303,
           0.07319833536433758,
           0.12158742926922869,
           0.056268025575829286,
           0.07491737486026954,
           0.029690690448208334,
           0.11155821616261705,
           0.08354073036037855,
           0.11013198071450621,
           0.06307759655913206,
           0.11225083814249923,
           0.01247231534916658,
           0.05900770724649196,
           0.06700894754686587,
           0.01009934721332183,
           0.14139086098650563,
           0.01009934721332183,
           0.01009934721332183,
           0.2389493329338797,
           0.08047812917359935,
           0.11314530158733646,
           0.06848846122197744,
           0.15869726636633283,
           0.08644301367891914,
           0.055146069134283854,
           0.1,
           0.13800928600092466,
           0.08670370364796466,
           0.09243751409131211,
           0.05192625679616997,
           0.007897614590781123,
           0.012488173961664404,
           0.00992728243788602,
           0.0017582750600082903,
           0.001986707957506361,
           0.0021816106387142395,
           0.0034642426072148238,
           0.006107333602457049,
           0.0022625023475977475,
           0.06459034932843477,
           0.01967354470712169,
           0.015736105964443556,
           0.22922683316474624,
           0.01432667707279664,
           0.01432667707279664,
           0.011888848964624228,
           0.01317781479823886,
           0.006286489315257449,
           0.007771865341472056,
           0.012197790137307579,
           0.015097755467760847,
           0.006409461571597344,
           0.000853234789615465,
           0.02208186709710038,
           0.0042348725170258126,
           0.010830567774984876,
           0.006159708501334734,
           0.023031291318490518,
           0.011565332683109962,
           0.01583953674392197,
           0.0037208721977488855,
           0.008606821256933532,
           0.02024586952347552,
           0.09574107494962042,
           0.09178845545277423,
           0.08870595427874285,
           0.11228523829768892,
           0.07826429922787466,
           0.014194286768544529,
           0.09473064339042127,
           0.12484150600674586,
           0.05345053453858041,
           0.08915818798037574,
           0.16182668568705533,
           0.11111288601065443,
           0.15821653131947452,
           0.1017748441808939,
           0.08241897635879983,
           0.07580146291597105,
           0.07450936692890034,
           0.08885698225917149,
           0.08438125136366136,
           0.15203914864827778,
           0.07259875278916585,
           0.08017459934034041,
           0.08870925492262455,
           0.08628405849696255,
           0.08512464533720097,
           0.010461256741631684,
           0.0627675404497901,
           0.05700421998518303,
           0.07319833536433758,
           0.12158742926922869,
           0.056268025575829286,
           0.07491737486026954,
           0.029690690448208334,
           0.11155821616261705,
           0.08354073036037855,
           0.11013198071450621,
           0.06307759655913206,
           0.11225083814249923,
           0.01247231534916658,
           0.05900770724649196,
           0.06700894754686587,
           0.01009934721332183,
           0.14139086098650563,
           0.01009934721332183,
           0.01009934721332183,
           0.2389493329338797,
           0.08047812917359935,
           0.11314530158733646,
           0.06848846122197744,
           0.15869726636633283,
           0.08644301367891914,
           0.055146069134283854,
           0.1,
           0.13800928600092466,
           0.08670370364796466,
           0.09243751409131211,
           0.05192625679616997,
           0.007897614590781123,
           0.012488173961664404,
           0.00992728243788602,
           0.0017582750600082903,
           0.001986707957506361,
           0.0021816106387142395,
           0.0034642426072148238,
           0.006107333602457049,
           0.0022625023475977475,
           0.06459034932843477,
           0.01967354470712169,
           0.015736105964443556,
           0.22922683316474624,
           0.01432667707279664,
           0.01432667707279664,
           0.011888848964624228,
           0.01317781479823886,
           0.006286489315257449,
           0.007771865341472056,
           0.012197790137307579,
           0.015097755467760847,
           0.006409461571597344,
           0.000853234789615465,
           0.02208186709710038,
           0.0042348725170258126,
           0.010830567774984876,
           0.006159708501334734,
           0.023031291318490518,
           0.011565332683109962,
           0.01583953674392197,
           0.0037208721977488855,
           0.008606821256933532,
           0.02024586952347552,
           0.09574107494962042,
           0.09178845545277423,
           0.08870595427874285,
           0.11228523829768892,
           0.07826429922787466,
           0.014194286768544529,
           0.09473064339042127,
           0.12484150600674586,
           0.05345053453858041,
           0.08915818798037574,
           0.16182668568705533,
           0.11111288601065443,
           0.15821653131947452,
           0.1017748441808939,
           0.08241897635879983,
           0.07580146291597105,
           0.07450936692890034,
           0.08885698225917149,
           0.08438125136366136,
           0.15203914864827778,
           0.07259875278916585,
           0.08017459934034041,
           0.08870925492262455,
           0.08628405849696255,
           0.08512464533720097,
           0.010461256741631684,
           0.0627675404497901,
           0.05700421998518303,
           0.07319833536433758,
           0.12158742926922869,
           0.056268025575829286,
           0.07491737486026954,
           0.029690690448208334,
           0.11155821616261705,
           0.08354073036037855,
           0.11013198071450621,
           0.06307759655913206,
           0.11225083814249923,
           0.01247231534916658,
           0.05900770724649196,
           0.06700894754686587,
           0.01009934721332183,
           0.14139086098650563,
           0.01009934721332183,
           0.01009934721332183,
           0.2389493329338797,
           0.08047812917359935,
           0.11314530158733646,
           0.06848846122197744,
           0.15869726636633283,
           0.08644301367891914,
           0.055146069134283854,
           0.1,
           0.13800928600092466,
           0.08670370364796466,
           0.09243751409131211,
           0.05192625679616997,
           0.007897614590781123,
           0.012488173961664404,
           0.00992728243788602,
           0.0017582750600082903,
           0.001986707957506361,
           0.0021816106387142395,
           0.0034642426072148238,
           0.006107333602457049,
           0.0022625023475977475,
           0.06459034932843477,
           0.01967354470712169,
           0.015736105964443556,
           0.22922683316474624,
           0.01432667707279664,
           0.01432667707279664,
           0.011888848964624228,
           0.01317781479823886,
           0.006286489315257449,
           0.007771865341472056,
           0.012197790137307579,
           0.015097755467760847,
           0.006409461571597344,
           0.000853234789615465,
           0.02208186709710038,
           0.0042348725170258126,
           0.010830567774984876,
           0.006159708501334734,
           0.023031291318490518,
           0.011565332683109962,
           0.01583953674392197,
           0.0037208721977488855,
           0.008606821256933532,
           0.02024586952347552,
           0.09574107494962042,
           0.09178845545277423,
           0.08870595427874285,
           0.11228523829768892,
           0.07826429922787466,
           0.014194286768544529,
           0.09473064339042127,
           0.12484150600674586,
           0.05345053453858041,
           0.08915818798037574,
           0.16182668568705533,
           0.11111288601065443,
           0.15821653131947452,
           0.1017748441808939,
           0.08241897635879983,
           0.07580146291597105,
           0.07450936692890034,
           0.08885698225917149,
           0.08438125136366136,
           0.15203914864827778,
           0.07259875278916585,
           0.08017459934034041,
           0.08870925492262455,
           0.08628405849696255,
           0.08512464533720097,
           0.010461256741631684,
           0.0627675404497901,
           0.05700421998518303,
           0.07319833536433758,
           0.12158742926922869,
           0.056268025575829286,
           0.07491737486026954,
           0.029690690448208334,
           0.11155821616261705,
           0.08354073036037855,
           0.11013198071450621,
           0.06307759655913206,
           0.11225083814249923,
           0.01247231534916658,
           0.05900770724649196,
           0.06700894754686587,
           0.01009934721332183,
           0.14139086098650563,
           0.01009934721332183,
           0.01009934721332183,
           0.2389493329338797,
           0.08047812917359935,
           0.11314530158733646,
           0.06848846122197744,
           0.15869726636633283,
           0.08644301367891914,
           0.055146069134283854,
           0.1,
           0.13800928600092466,
           0.08670370364796466,
           0.09243751409131211,
           0.05192625679616997,
           0.007897614590781123,
           0.012488173961664404,
           0.00992728243788602,
           0.0017582750600082903,
           0.001986707957506361,
           0.0021816106387142395,
           0.0034642426072148238,
           0.006107333602457049,
           0.0022625023475977475,
           0.06459034932843477,
           0.01967354470712169,
           0.015736105964443556,
           0.22922683316474624,
           0.01432667707279664,
           0.01432667707279664,
           0.011888848964624228,
           0.01317781479823886,
           0.006286489315257449,
           0.007771865341472056,
           0.012197790137307579,
           0.015097755467760847,
           0.006409461571597344,
           0.000853234789615465,
           0.02208186709710038,
           0.0042348725170258126,
           0.010830567774984876,
           0.006159708501334734,
           0.023031291318490518,
           0.011565332683109962,
           0.01583953674392197,
           0.0037208721977488855,
           0.008606821256933532,
           0.02024586952347552,
           0.09574107494962042,
           0.09178845545277423,
           0.08870595427874285,
           0.11228523829768892,
           0.07826429922787466,
           0.014194286768544529,
           0.09473064339042127,
           0.12484150600674586,
           0.05345053453858041,
           0.08915818798037574,
           0.16182668568705533,
           0.11111288601065443,
           0.15821653131947452,
           0.1017748441808939,
           0.08241897635879983,
           0.07580146291597105,
           0.07450936692890034,
           0.08885698225917149,
           0.08438125136366136,
           0.15203914864827778,
           0.07259875278916585,
           0.08017459934034041,
           0.08870925492262455,
           0.08628405849696255,
           0.08512464533720097,
           0.010461256741631684,
           0.0627675404497901,
           0.05700421998518303,
           0.07319833536433758,
           0.12158742926922869,
           0.056268025575829286,
           0.07491737486026954,
           0.029690690448208334,
           0.11155821616261705,
           0.08354073036037855,
           0.11013198071450621,
           0.06307759655913206,
           0.11225083814249923,
           0.01247231534916658,
           0.05900770724649196,
           0.06700894754686587,
           0.01009934721332183,
           0.14139086098650563,
           0.01009934721332183,
           0.01009934721332183,
           0.2389493329338797,
           0.08047812917359935,
           0.11314530158733646,
           0.06848846122197744,
           0.15869726636633283,
           0.08644301367891914,
           0.055146069134283854,
           0.1,
           0.13800928600092466,
           0.08670370364796466,
           0.09243751409131211,
           0.05192625679616997,
           0.007897614590781123,
           0.012488173961664404,
           0.00992728243788602,
           0.0017582750600082903,
           0.001986707957506361,
           0.0021816106387142395,
           0.0034642426072148238,
           0.006107333602457049,
           0.0022625023475977475,
           0.06459034932843477,
           0.01967354470712169,
           0.015736105964443556,
           0.22922683316474624,
           0.01432667707279664,
           0.01432667707279664,
           0.011888848964624228,
           0.01317781479823886,
           0.006286489315257449,
           0.007771865341472056,
           0.012197790137307579,
           0.015097755467760847,
           0.006409461571597344,
           0.000853234789615465,
           0.02208186709710038,
           0.0042348725170258126,
           0.010830567774984876,
           0.006159708501334734,
           0.023031291318490518,
           0.011565332683109962,
           0.01583953674392197,
           0.0037208721977488855,
           0.008606821256933532,
           0.02024586952347552,
           0.09574107494962042
          ]
         },
         "node": {
          "color": [
           "rgba(199.422524862, 214.930374228, 240.459860034, 0.75)",
           "rgba(0,0,0,1)",
           "rgba(133.032551612, 168.19764462, 251.872685928, 0.75)",
           "rgba(241.573077918, 202.647353724, 182.832578979, 0.75)",
           "rgba(113.839813816, 148.500888768, 244.130192899, 0.75)",
           "rgba(66.76036582, 88.35350065800002, 202.89273265499997, 0.75)",
           "rgba(171.497177945, 199.629669015, 252.955384659, 0.75)",
           "rgba(134.41872607599998, 169.49839853999998, 252.211484904, 0.75)",
           "rgba(152.433077751, 185.46907984499998, 254.94306660299998, 0.75)",
           "rgba(179.94665529, 3.9668208, 38.30936706, 0.75)",
           "rgba(179.94665529, 3.9668208, 38.30936706, 0.75)",
           "rgba(181.446232122, 8.500897823999995, 39.393601012, 0.75)",
           "rgba(231.912197427, 214.04355234, 204.08449486799998, 0.75)",
           "rgba(128.88277391999998, 164.21864176000003, 250.705144975, 0.75)",
           "rgba(105.774230228, 139.45274939200002, 239.467320746, 0.75)",
           "rgba(245.219408286, 193.297441548, 168.75450668699997, 0.75)",
           "rgba(151.050744172, 184.31196746, 254.85563808, 0.75)",
           "rgba(167.454131225, 196.81065157499998, 253.703028627, 0.75)",
           "rgba(212.93193713099998, 79.979299668, 66.244703694, 0.75)",
           "rgba(142.73541501999998, 177.16577066, 253.99920384, 0.75)",
           "rgba(120.632894112, 155.824746592, 247.51156500699997, 0.75)",
           "rgba(151.050744172, 184.31196746, 254.85563808, 0.75)",
           "rgba(141.34952682799997, 175.97473785999998, 253.8564648, 0.75)",
           "rgba(126.13281398399998, 161.420676704, 249.640618319, 0.75)",
           "rgba(141.34952682799997, 175.97473785999998, 253.8564648, 0.75)",
           "rgba(77.564443186, 103.770945124, 215.541995308, 0.75)",
           "rgba(117.900371128, 152.956678464, 246.29358390699997, 0.75)",
           "rgba(238.247891001, 134.108965472, 105.133050881, 0.75)",
           "rgba(207.49160838, 217.84186883, 234.21242614, 0.75)",
           "rgba(151.050744172, 184.31196746, 254.85563808, 0.75)",
           "rgba(117.900371128, 152.956678464, 246.29358390699997, 0.75)",
           "rgba(246.891866745, 183.8152455, 156.13471279, 0.75)",
           "rgba(176.79692763, 203.06010358499998, 251.508484035, 0.75)",
           "rgba(246.30421903799999, 188.736168844, 162.44971539099998, 0.75)",
           "rgba(87.53576847600002, 117.135176856, 225.45109001400002, 0.75)",
           "rgba(223.267133795, 219.36175050999998, 217.11466685500002, 0.75)",
           "rgba(101.80402849999999, 134.77476040000002, 236.75707121000002, 0.75)",
           "rgba(126.13281398399998, 161.420676704, 249.640618319, 0.75)",
           "rgba(164.75876674499997, 194.93130661499998, 254.201457939, 0.75)",
           "rgba(179.94665529, 3.9668208, 38.30936706, 0.75)",
           "rgba(149.66485598, 183.12093466, 254.71289904, 0.75)",
           "rgba(176.79692763, 203.06010358499998, 251.508484035, 0.75)",
           "rgba(130.26020268399998, 165.59613678, 251.19508797600002, 0.75)",
           "rgba(179.94665529, 3.9668208, 38.30936706, 0.75)",
           "rgba(175.488063214, 202.26048672099998, 251.949716611, 0.75)",
           "rgba(75.15320018999999, 100.353192084, 212.767962616, 0.75)",
           "rgb(236,236,236, 0.75)",
           "rgba(179.94665529, 3.9668208, 38.30936706, 0.75)",
           "rgba(243.487618431, 150.86369797700002, 120.19105319, 0.75)",
           "rgba(200.613778846, 215.425838644, 239.651648162, 0.75)",
           "rgb(236,236,236, 0.75)",
           "rgb(236,236,236, 0.75)",
           "rgba(244.36124647100002, 154.105449705, 123.24076085400002, 0.75)",
           "rgb(236,236,236, 0.75)",
           "rgb(236,236,236, 0.75)",
           "rgba(145.507191404, 179.54783626, 254.28468192, 0.75)"
          ],
          "label": [
           "R-HSA-112314",
           "Output",
           "R-HSA-72163",
           "R-HSA-421270",
           "R-HSA-442755",
           "O95445",
           "R-HSA-109582",
           "R-HSA-975634",
           "R-HSA-1643685",
           "R-HSA-168256",
           "P00734",
           "R-HSA-5357769",
           "R-HSA-109581",
           "R-HSA-392499",
           "R-HSA-4839726",
           "P00742",
           "R-HSA-5357801",
           "R-HSA-140877",
           "R-HSA-5653656",
           "R-HSA-5602358",
           "R-HSA-8953897",
           "R-HSA-9612973",
           "R-HSA-9709957",
           "R-HSA-2142845",
           "P01042",
           "R-HSA-8963901",
           "R-HSA-168249",
           "R-HSA-174824",
           "Q9UBR2",
           "R-HSA-5696399",
           "P07998",
           "R-HSA-2173782",
           "R-HSA-6806667",
           "R-HSA-2187338",
           "R-HSA-114608",
           "P08571",
           "R-HSA-69052",
           "R-HSA-212436",
           "P02647",
           "R-HSA-140534",
           "R-HSA-446728",
           "R-HSA-5696394",
           "R-HSA-2534343",
           "R-HSA-76005",
           "R-HSA-5260271",
           "R-HSA-6806942",
           "Other connections 5",
           "R-HSA-73857",
           "P68871",
           "R-HSA-76002",
           "Other connections 1",
           "Other connections 2",
           "P04114",
           "Other connections 4",
           "Other connections 3",
           "R-HSA-418990"
          ],
          "line": {
           "color": "white",
           "width": 0
          },
          "pad": 15,
          "thickness": 15,
          "x": [
           [
            0.33499999999999996
           ],
           0.85,
           [
            0.16833333333333333
           ],
           [
            0.33499999999999996
           ],
           [
            0.16833333333333333
           ],
           [
            0.0016666666666666668
           ],
           [
            0.6683333333333333
           ],
           [
            0.16833333333333333
           ],
           [
            0.6683333333333333
           ],
           [
            0.6683333333333333
           ],
           [
            0.0016666666666666668
           ],
           [
            0.33499999999999996
           ],
           [
            0.5016666666666666
           ],
           [
            0.6683333333333333
           ],
           [
            0.6683333333333333
           ],
           [
            0.0016666666666666668
           ],
           [
            0.6683333333333333
           ],
           [
            0.5016666666666666
           ],
           [
            0.6683333333333333
           ],
           [
            0.33499999999999996
           ],
           [
            0.6683333333333333
           ],
           [
            0.6683333333333333
           ],
           [
            0.6683333333333333
           ],
           [
            0.16833333333333333
           ],
           [
            0.0016666666666666668
           ],
           [
            0.16833333333333333
           ],
           [
            0.5016666666666666
           ],
           [
            0.5016666666666666
           ],
           [
            0.0016666666666666668
           ],
           [
            0.33499999999999996
           ],
           [
            0.0016666666666666668
           ],
           [
            0.5016666666666666
           ],
           [
            0.33499999999999996
           ],
           [
            0.5016666666666666
           ],
           [
            0.16833333333333333
           ],
           [
            0.0016666666666666668
           ],
           [
            0.33499999999999996
           ],
           [
            0.33499999999999996
           ],
           [
            0.0016666666666666668
           ],
           [
            0.16833333333333333
           ],
           [
            0.5016666666666666
           ],
           [
            0.16833333333333333
           ],
           [
            0.33499999999999996
           ],
           [
            0.33499999999999996
           ],
           [
            0.5016666666666666
           ],
           [
            0.16833333333333333
           ],
           [
            0.6683333333333333
           ],
           [
            0.5016666666666666
           ],
           [
            0.0016666666666666668
           ],
           [
            0.5016666666666666
           ],
           [
            0.0016666666666666668
           ],
           [
            0.16833333333333333
           ],
           [
            0.0016666666666666668
           ],
           [
            0.5016666666666666
           ],
           [
            0.33499999999999996
           ],
           [
            0.16833333333333333
           ]
          ],
          "y": [
           [
            0.21755555555555556
           ],
           0.5,
           [
            0.30644444444444446
           ],
           [
            0.12866666666666665
           ],
           [
            0.48422222222222217
           ],
           [
            0.7508888888888888
           ],
           [
            0.12866666666666665
           ],
           [
            0.12866666666666665
           ],
           [
            0.21755555555555556
           ],
           [
            -0.04911111111111113
           ],
           [
            -0.04911111111111113
           ],
           [
            0.03977777777777776
           ],
           [
            0.30644444444444446
           ],
           [
            0.5731111111111111
           ],
           [
            0.7508888888888888
           ],
           [
            0.21755555555555556
           ],
           [
            0.30644444444444446
           ],
           [
            0.5731111111111111
           ],
           [
            0.03977777777777776
           ],
           [
            0.48422222222222217
           ],
           [
            0.662
           ],
           [
            0.39533333333333337
           ],
           [
            0.48422222222222217
           ],
           [
            0.39533333333333337
           ],
           [
            0.5731111111111111
           ],
           [
            0.662
           ],
           [
            0.7508888888888888
           ],
           [
            0.03977777777777776
           ],
           [
            0.39533333333333337
           ],
           [
            0.39533333333333337
           ],
           [
            0.662
           ],
           [
            0.12866666666666665
           ],
           [
            0.30644444444444446
           ],
           [
            0.21755555555555556
           ],
           [
            0.5731111111111111
           ],
           [
            0.30644444444444446
           ],
           [
            0.7508888888888888
           ],
           [
            0.662
           ],
           [
            0.48422222222222217
           ],
           [
            -0.04911111111111113
           ],
           [
            0.662
           ],
           [
            0.03977777777777776
           ],
           [
            0.5731111111111111
           ],
           [
            -0.04911111111111113
           ],
           [
            0.48422222222222217
           ],
           [
            0.7508888888888888
           ],
           [
            0.9
           ],
           [
            -0.04911111111111113
           ],
           [
            0.03977777777777776
           ],
           [
            0.39533333333333337
           ],
           [
            0.9
           ],
           [
            0.9
           ],
           [
            0.12866666666666665
           ],
           [
            0.9
           ],
           [
            0.9
           ],
           [
            0.21755555555555556
           ]
          ]
         },
         "orientation": "h",
         "textfont": {
          "family": "Arial",
          "size": 15
         },
         "type": "sankey"
        }
       ],
       "layout": {
        "template": {
         "data": {
          "bar": [
           {
            "error_x": {
             "color": "#2a3f5f"
            },
            "error_y": {
             "color": "#2a3f5f"
            },
            "marker": {
             "line": {
              "color": "#E5ECF6",
              "width": 0.5
             },
             "pattern": {
              "fillmode": "overlay",
              "size": 10,
              "solidity": 0.2
             }
            },
            "type": "bar"
           }
          ],
          "barpolar": [
           {
            "marker": {
             "line": {
              "color": "#E5ECF6",
              "width": 0.5
             },
             "pattern": {
              "fillmode": "overlay",
              "size": 10,
              "solidity": 0.2
             }
            },
            "type": "barpolar"
           }
          ],
          "carpet": [
           {
            "aaxis": {
             "endlinecolor": "#2a3f5f",
             "gridcolor": "white",
             "linecolor": "white",
             "minorgridcolor": "white",
             "startlinecolor": "#2a3f5f"
            },
            "baxis": {
             "endlinecolor": "#2a3f5f",
             "gridcolor": "white",
             "linecolor": "white",
             "minorgridcolor": "white",
             "startlinecolor": "#2a3f5f"
            },
            "type": "carpet"
           }
          ],
          "choropleth": [
           {
            "colorbar": {
             "outlinewidth": 0,
             "ticks": ""
            },
            "type": "choropleth"
           }
          ],
          "contour": [
           {
            "colorbar": {
             "outlinewidth": 0,
             "ticks": ""
            },
            "colorscale": [
             [
              0,
              "#0d0887"
             ],
             [
              0.1111111111111111,
              "#46039f"
             ],
             [
              0.2222222222222222,
              "#7201a8"
             ],
             [
              0.3333333333333333,
              "#9c179e"
             ],
             [
              0.4444444444444444,
              "#bd3786"
             ],
             [
              0.5555555555555556,
              "#d8576b"
             ],
             [
              0.6666666666666666,
              "#ed7953"
             ],
             [
              0.7777777777777778,
              "#fb9f3a"
             ],
             [
              0.8888888888888888,
              "#fdca26"
             ],
             [
              1,
              "#f0f921"
             ]
            ],
            "type": "contour"
           }
          ],
          "contourcarpet": [
           {
            "colorbar": {
             "outlinewidth": 0,
             "ticks": ""
            },
            "type": "contourcarpet"
           }
          ],
          "heatmap": [
           {
            "colorbar": {
             "outlinewidth": 0,
             "ticks": ""
            },
            "colorscale": [
             [
              0,
              "#0d0887"
             ],
             [
              0.1111111111111111,
              "#46039f"
             ],
             [
              0.2222222222222222,
              "#7201a8"
             ],
             [
              0.3333333333333333,
              "#9c179e"
             ],
             [
              0.4444444444444444,
              "#bd3786"
             ],
             [
              0.5555555555555556,
              "#d8576b"
             ],
             [
              0.6666666666666666,
              "#ed7953"
             ],
             [
              0.7777777777777778,
              "#fb9f3a"
             ],
             [
              0.8888888888888888,
              "#fdca26"
             ],
             [
              1,
              "#f0f921"
             ]
            ],
            "type": "heatmap"
           }
          ],
          "heatmapgl": [
           {
            "colorbar": {
             "outlinewidth": 0,
             "ticks": ""
            },
            "colorscale": [
             [
              0,
              "#0d0887"
             ],
             [
              0.1111111111111111,
              "#46039f"
             ],
             [
              0.2222222222222222,
              "#7201a8"
             ],
             [
              0.3333333333333333,
              "#9c179e"
             ],
             [
              0.4444444444444444,
              "#bd3786"
             ],
             [
              0.5555555555555556,
              "#d8576b"
             ],
             [
              0.6666666666666666,
              "#ed7953"
             ],
             [
              0.7777777777777778,
              "#fb9f3a"
             ],
             [
              0.8888888888888888,
              "#fdca26"
             ],
             [
              1,
              "#f0f921"
             ]
            ],
            "type": "heatmapgl"
           }
          ],
          "histogram": [
           {
            "marker": {
             "pattern": {
              "fillmode": "overlay",
              "size": 10,
              "solidity": 0.2
             }
            },
            "type": "histogram"
           }
          ],
          "histogram2d": [
           {
            "colorbar": {
             "outlinewidth": 0,
             "ticks": ""
            },
            "colorscale": [
             [
              0,
              "#0d0887"
             ],
             [
              0.1111111111111111,
              "#46039f"
             ],
             [
              0.2222222222222222,
              "#7201a8"
             ],
             [
              0.3333333333333333,
              "#9c179e"
             ],
             [
              0.4444444444444444,
              "#bd3786"
             ],
             [
              0.5555555555555556,
              "#d8576b"
             ],
             [
              0.6666666666666666,
              "#ed7953"
             ],
             [
              0.7777777777777778,
              "#fb9f3a"
             ],
             [
              0.8888888888888888,
              "#fdca26"
             ],
             [
              1,
              "#f0f921"
             ]
            ],
            "type": "histogram2d"
           }
          ],
          "histogram2dcontour": [
           {
            "colorbar": {
             "outlinewidth": 0,
             "ticks": ""
            },
            "colorscale": [
             [
              0,
              "#0d0887"
             ],
             [
              0.1111111111111111,
              "#46039f"
             ],
             [
              0.2222222222222222,
              "#7201a8"
             ],
             [
              0.3333333333333333,
              "#9c179e"
             ],
             [
              0.4444444444444444,
              "#bd3786"
             ],
             [
              0.5555555555555556,
              "#d8576b"
             ],
             [
              0.6666666666666666,
              "#ed7953"
             ],
             [
              0.7777777777777778,
              "#fb9f3a"
             ],
             [
              0.8888888888888888,
              "#fdca26"
             ],
             [
              1,
              "#f0f921"
             ]
            ],
            "type": "histogram2dcontour"
           }
          ],
          "mesh3d": [
           {
            "colorbar": {
             "outlinewidth": 0,
             "ticks": ""
            },
            "type": "mesh3d"
           }
          ],
          "parcoords": [
           {
            "line": {
             "colorbar": {
              "outlinewidth": 0,
              "ticks": ""
             }
            },
            "type": "parcoords"
           }
          ],
          "pie": [
           {
            "automargin": true,
            "type": "pie"
           }
          ],
          "scatter": [
           {
            "fillpattern": {
             "fillmode": "overlay",
             "size": 10,
             "solidity": 0.2
            },
            "type": "scatter"
           }
          ],
          "scatter3d": [
           {
            "line": {
             "colorbar": {
              "outlinewidth": 0,
              "ticks": ""
             }
            },
            "marker": {
             "colorbar": {
              "outlinewidth": 0,
              "ticks": ""
             }
            },
            "type": "scatter3d"
           }
          ],
          "scattercarpet": [
           {
            "marker": {
             "colorbar": {
              "outlinewidth": 0,
              "ticks": ""
             }
            },
            "type": "scattercarpet"
           }
          ],
          "scattergeo": [
           {
            "marker": {
             "colorbar": {
              "outlinewidth": 0,
              "ticks": ""
             }
            },
            "type": "scattergeo"
           }
          ],
          "scattergl": [
           {
            "marker": {
             "colorbar": {
              "outlinewidth": 0,
              "ticks": ""
             }
            },
            "type": "scattergl"
           }
          ],
          "scattermapbox": [
           {
            "marker": {
             "colorbar": {
              "outlinewidth": 0,
              "ticks": ""
             }
            },
            "type": "scattermapbox"
           }
          ],
          "scatterpolar": [
           {
            "marker": {
             "colorbar": {
              "outlinewidth": 0,
              "ticks": ""
             }
            },
            "type": "scatterpolar"
           }
          ],
          "scatterpolargl": [
           {
            "marker": {
             "colorbar": {
              "outlinewidth": 0,
              "ticks": ""
             }
            },
            "type": "scatterpolargl"
           }
          ],
          "scatterternary": [
           {
            "marker": {
             "colorbar": {
              "outlinewidth": 0,
              "ticks": ""
             }
            },
            "type": "scatterternary"
           }
          ],
          "surface": [
           {
            "colorbar": {
             "outlinewidth": 0,
             "ticks": ""
            },
            "colorscale": [
             [
              0,
              "#0d0887"
             ],
             [
              0.1111111111111111,
              "#46039f"
             ],
             [
              0.2222222222222222,
              "#7201a8"
             ],
             [
              0.3333333333333333,
              "#9c179e"
             ],
             [
              0.4444444444444444,
              "#bd3786"
             ],
             [
              0.5555555555555556,
              "#d8576b"
             ],
             [
              0.6666666666666666,
              "#ed7953"
             ],
             [
              0.7777777777777778,
              "#fb9f3a"
             ],
             [
              0.8888888888888888,
              "#fdca26"
             ],
             [
              1,
              "#f0f921"
             ]
            ],
            "type": "surface"
           }
          ],
          "table": [
           {
            "cells": {
             "fill": {
              "color": "#EBF0F8"
             },
             "line": {
              "color": "white"
             }
            },
            "header": {
             "fill": {
              "color": "#C8D4E3"
             },
             "line": {
              "color": "white"
             }
            },
            "type": "table"
           }
          ]
         },
         "layout": {
          "annotationdefaults": {
           "arrowcolor": "#2a3f5f",
           "arrowhead": 0,
           "arrowwidth": 1
          },
          "autotypenumbers": "strict",
          "coloraxis": {
           "colorbar": {
            "outlinewidth": 0,
            "ticks": ""
           }
          },
          "colorscale": {
           "diverging": [
            [
             0,
             "#8e0152"
            ],
            [
             0.1,
             "#c51b7d"
            ],
            [
             0.2,
             "#de77ae"
            ],
            [
             0.3,
             "#f1b6da"
            ],
            [
             0.4,
             "#fde0ef"
            ],
            [
             0.5,
             "#f7f7f7"
            ],
            [
             0.6,
             "#e6f5d0"
            ],
            [
             0.7,
             "#b8e186"
            ],
            [
             0.8,
             "#7fbc41"
            ],
            [
             0.9,
             "#4d9221"
            ],
            [
             1,
             "#276419"
            ]
           ],
           "sequential": [
            [
             0,
             "#0d0887"
            ],
            [
             0.1111111111111111,
             "#46039f"
            ],
            [
             0.2222222222222222,
             "#7201a8"
            ],
            [
             0.3333333333333333,
             "#9c179e"
            ],
            [
             0.4444444444444444,
             "#bd3786"
            ],
            [
             0.5555555555555556,
             "#d8576b"
            ],
            [
             0.6666666666666666,
             "#ed7953"
            ],
            [
             0.7777777777777778,
             "#fb9f3a"
            ],
            [
             0.8888888888888888,
             "#fdca26"
            ],
            [
             1,
             "#f0f921"
            ]
           ],
           "sequentialminus": [
            [
             0,
             "#0d0887"
            ],
            [
             0.1111111111111111,
             "#46039f"
            ],
            [
             0.2222222222222222,
             "#7201a8"
            ],
            [
             0.3333333333333333,
             "#9c179e"
            ],
            [
             0.4444444444444444,
             "#bd3786"
            ],
            [
             0.5555555555555556,
             "#d8576b"
            ],
            [
             0.6666666666666666,
             "#ed7953"
            ],
            [
             0.7777777777777778,
             "#fb9f3a"
            ],
            [
             0.8888888888888888,
             "#fdca26"
            ],
            [
             1,
             "#f0f921"
            ]
           ]
          },
          "colorway": [
           "#636efa",
           "#EF553B",
           "#00cc96",
           "#ab63fa",
           "#FFA15A",
           "#19d3f3",
           "#FF6692",
           "#B6E880",
           "#FF97FF",
           "#FECB52"
          ],
          "font": {
           "color": "#2a3f5f"
          },
          "geo": {
           "bgcolor": "white",
           "lakecolor": "white",
           "landcolor": "#E5ECF6",
           "showlakes": true,
           "showland": true,
           "subunitcolor": "white"
          },
          "hoverlabel": {
           "align": "left"
          },
          "hovermode": "closest",
          "mapbox": {
           "style": "light"
          },
          "paper_bgcolor": "white",
          "plot_bgcolor": "#E5ECF6",
          "polar": {
           "angularaxis": {
            "gridcolor": "white",
            "linecolor": "white",
            "ticks": ""
           },
           "bgcolor": "#E5ECF6",
           "radialaxis": {
            "gridcolor": "white",
            "linecolor": "white",
            "ticks": ""
           }
          },
          "scene": {
           "xaxis": {
            "backgroundcolor": "#E5ECF6",
            "gridcolor": "white",
            "gridwidth": 2,
            "linecolor": "white",
            "showbackground": true,
            "ticks": "",
            "zerolinecolor": "white"
           },
           "yaxis": {
            "backgroundcolor": "#E5ECF6",
            "gridcolor": "white",
            "gridwidth": 2,
            "linecolor": "white",
            "showbackground": true,
            "ticks": "",
            "zerolinecolor": "white"
           },
           "zaxis": {
            "backgroundcolor": "#E5ECF6",
            "gridcolor": "white",
            "gridwidth": 2,
            "linecolor": "white",
            "showbackground": true,
            "ticks": "",
            "zerolinecolor": "white"
           }
          },
          "shapedefaults": {
           "line": {
            "color": "#2a3f5f"
           }
          },
          "ternary": {
           "aaxis": {
            "gridcolor": "white",
            "linecolor": "white",
            "ticks": ""
           },
           "baxis": {
            "gridcolor": "white",
            "linecolor": "white",
            "ticks": ""
           },
           "bgcolor": "#E5ECF6",
           "caxis": {
            "gridcolor": "white",
            "linecolor": "white",
            "ticks": ""
           }
          },
          "title": {
           "x": 0.05
          },
          "xaxis": {
           "automargin": true,
           "gridcolor": "white",
           "linecolor": "white",
           "ticks": "",
           "title": {
            "standoff": 15
           },
           "zerolinecolor": "white",
           "zerolinewidth": 2
          },
          "yaxis": {
           "automargin": true,
           "gridcolor": "white",
           "linecolor": "white",
           "ticks": "",
           "title": {
            "standoff": 15
           },
           "zerolinecolor": "white",
           "zerolinewidth": 2
          }
         }
        }
       }
      }
     },
     "metadata": {},
     "output_type": "display_data"
    }
   ],
   "source": [
    "IG.plot_complete_sankey(\n",
    "    multiclass=False, savename=\"img/complete_sankey.png\", node_cmap=\"coolwarm\", edge_cmap=\"coolwarm\"\n",
    ")"
   ]
  }
 ],
 "metadata": {
  "kernelspec": {
   "display_name": ".fresh-venv",
   "language": "python",
   "name": "python3"
  },
  "language_info": {
   "codemirror_mode": {
    "name": "ipython",
    "version": 3
   },
   "file_extension": ".py",
   "mimetype": "text/x-python",
   "name": "python",
   "nbconvert_exporter": "python",
   "pygments_lexer": "ipython3",
   "version": "3.9.6"
  }
 },
 "nbformat": 4,
 "nbformat_minor": 2
}
