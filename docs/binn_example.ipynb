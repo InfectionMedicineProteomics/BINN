{
 "cells": [
  {
   "attachments": {},
   "cell_type": "markdown",
   "metadata": {},
   "source": [
    "# Creating a BINN\n",
    "\n",
    "This notebook demonstrates some examples on how a BINN can be created and trained.\n",
    "\n",
    "The method begins with constructing a directed graph representing biological pathways, mapping input features (e.g., proteins or genes) to nodes within the network. This graph is manipulated to produce hierarchical layers and connectivity matrices, which guide the structure of the BINN.\n",
    "\n",
    "If you want to create your own BINN from scratch, you need some input data (`input_data` below) in the form of a pandas dataframe.\n",
    "\n"
   ]
  },
  {
   "cell_type": "code",
   "execution_count": 1,
   "metadata": {},
   "outputs": [
    {
     "name": "stdout",
     "output_type": "stream",
     "text": [
      "\n",
      "[INFO] BINN is on device: cpu\n"
     ]
    },
    {
     "data": {
      "text/plain": [
       "BINN(\n",
       "  (layers): Sequential(\n",
       "    (Layer_0): Linear(in_features=448, out_features=471, bias=True)\n",
       "    (BatchNorm_0): BatchNorm1d(471, eps=1e-05, momentum=0.1, affine=True, track_running_stats=True)\n",
       "    (Dropout_0): Dropout(p=0.2, inplace=False)\n",
       "    (Tanh_0): Tanh()\n",
       "    (Layer_1): Linear(in_features=471, out_features=306, bias=True)\n",
       "    (BatchNorm_1): BatchNorm1d(306, eps=1e-05, momentum=0.1, affine=True, track_running_stats=True)\n",
       "    (Dropout_1): Dropout(p=0.2, inplace=False)\n",
       "    (Tanh_1): Tanh()\n",
       "    (Layer_2): Linear(in_features=306, out_features=125, bias=True)\n",
       "    (BatchNorm_2): BatchNorm1d(125, eps=1e-05, momentum=0.1, affine=True, track_running_stats=True)\n",
       "    (Dropout_2): Dropout(p=0.2, inplace=False)\n",
       "    (Tanh_2): Tanh()\n",
       "    (Layer_3): Linear(in_features=125, out_features=28, bias=True)\n",
       "    (BatchNorm_3): BatchNorm1d(28, eps=1e-05, momentum=0.1, affine=True, track_running_stats=True)\n",
       "    (Dropout_3): Dropout(p=0.2, inplace=False)\n",
       "    (Tanh_3): Tanh()\n",
       "    (Output): Linear(in_features=28, out_features=2, bias=True)\n",
       "  )\n",
       ")"
      ]
     },
     "execution_count": 1,
     "metadata": {},
     "output_type": "execute_result"
    }
   ],
   "source": [
    "from binn import BINN\n",
    "import pandas as pd\n",
    "\n",
    "input_data = pd.read_csv(\"../data/sample_datamatrix.csv\")\n",
    "\n",
    "binn = BINN(\n",
    "    data_matrix=input_data,\n",
    "    network_source=\"reactome\",\n",
    "    input_source=\"uniprot\",\n",
    "    n_layers=4,\n",
    "    dropout=0.2,\n",
    ")\n",
    "\n",
    "binn"
   ]
  },
  {
   "attachments": {},
   "cell_type": "markdown",
   "metadata": {},
   "source": [
    "You can also provide your own pathways and mapping to create a PathwayNetwork. The PathwayNetwork is what underlies the pruning of the BINN to create sparsity. The pathway file is a standard edgelist. The mapping maps the input to the edgelist."
   ]
  },
  {
   "cell_type": "code",
   "execution_count": 2,
   "metadata": {},
   "outputs": [
    {
     "data": {
      "text/plain": [
       "('R-HSA-109703', 'R-HSA-109704')"
      ]
     },
     "execution_count": 2,
     "metadata": {},
     "output_type": "execute_result"
    }
   ],
   "source": [
    "from binn import PathwayNetwork\n",
    "\n",
    "mapping = pd.read_csv(\"../data/downloads/uniprot_2_reactome_2025_01_14.txt\", sep=\"\\t\")\n",
    "pathways = pd.read_csv(\"../data/downloads/reactome_pathways_relation_2025_01_14.txt\", sep=\"\\t\")\n",
    "pathways = list(pathways.itertuples(index=False, name=None))\n",
    "mapping = list(mapping.itertuples(index=False, name=None))\n",
    "input_entities = input_data[\"Protein\"].tolist()\n",
    "\n",
    "network = PathwayNetwork(\n",
    "    input_data=input_entities,\n",
    "    pathways=pathways,\n",
    "    mapping=mapping,\n",
    ")\n",
    "\n",
    "list(network.pathway_graph.edges())[0]"
   ]
  },
  {
   "cell_type": "code",
   "execution_count": 3,
   "metadata": {},
   "outputs": [
    {
     "name": "stdout",
     "output_type": "stream",
     "text": [
      "\n",
      "[INFO] BINN is on device: cpu\n"
     ]
    },
    {
     "data": {
      "text/plain": [
       "Sequential(\n",
       "  (Layer_0): Linear(in_features=448, out_features=471, bias=True)\n",
       "  (BatchNorm_0): BatchNorm1d(471, eps=1e-05, momentum=0.1, affine=True, track_running_stats=True)\n",
       "  (Dropout_0): Dropout(p=0, inplace=False)\n",
       "  (Tanh_0): Tanh()\n",
       "  (Layer_1): Linear(in_features=471, out_features=306, bias=True)\n",
       "  (BatchNorm_1): BatchNorm1d(306, eps=1e-05, momentum=0.1, affine=True, track_running_stats=True)\n",
       "  (Dropout_1): Dropout(p=0, inplace=False)\n",
       "  (Tanh_1): Tanh()\n",
       "  (Layer_2): Linear(in_features=306, out_features=125, bias=True)\n",
       "  (BatchNorm_2): BatchNorm1d(125, eps=1e-05, momentum=0.1, affine=True, track_running_stats=True)\n",
       "  (Dropout_2): Dropout(p=0, inplace=False)\n",
       "  (Tanh_2): Tanh()\n",
       "  (Layer_3): Linear(in_features=125, out_features=28, bias=True)\n",
       "  (BatchNorm_3): BatchNorm1d(28, eps=1e-05, momentum=0.1, affine=True, track_running_stats=True)\n",
       "  (Dropout_3): Dropout(p=0, inplace=False)\n",
       "  (Tanh_3): Tanh()\n",
       "  (Output): Linear(in_features=28, out_features=2, bias=True)\n",
       ")"
      ]
     },
     "execution_count": 3,
     "metadata": {},
     "output_type": "execute_result"
    }
   ],
   "source": [
    "\n",
    "# or custom pathways and mapping\n",
    "mapping = pd.read_csv(\n",
    "    \"../data/downloads/uniprot_2_reactome_2025_01_14.txt\",\n",
    "    sep=\"\\t\",\n",
    "    header=None,\n",
    "    names=[\"input\", \"translation\", \"url\", \"name\", \"x\", \"species\"],\n",
    ")\n",
    "pathways = pd.read_csv(\n",
    "    \"../data/downloads/reactome_pathways_relation_2025_01_14.txt\",\n",
    "    sep=\"\\t\",\n",
    "    header=None,\n",
    "    names=[\"target\", \"source\"],\n",
    ")\n",
    "\n",
    "binn = BINN(data_matrix=input_data, mapping=mapping, pathways=pathways)\n",
    "\n",
    "binn.layers"
   ]
  },
  {
   "cell_type": "markdown",
   "metadata": {},
   "source": [
    "We can also build an ensemble of heads, in which the output of each layer in the network is passed through a linear layer before being summed in the end."
   ]
  },
  {
   "cell_type": "code",
   "execution_count": 4,
   "metadata": {},
   "outputs": [
    {
     "name": "stdout",
     "output_type": "stream",
     "text": [
      "\n",
      "[INFO] BINN is on device: cpu\n"
     ]
    },
    {
     "data": {
      "text/plain": [
       "_EnsembleHeads(\n",
       "  (blocks): ModuleList(\n",
       "    (0): Sequential(\n",
       "      (Linear_0): Linear(in_features=448, out_features=471, bias=True)\n",
       "      (BatchNorm_0): BatchNorm1d(471, eps=1e-05, momentum=0.1, affine=True, track_running_stats=True)\n",
       "      (Tanh_0): Tanh()\n",
       "    )\n",
       "    (1): Sequential(\n",
       "      (Linear_1): Linear(in_features=471, out_features=306, bias=True)\n",
       "      (BatchNorm_1): BatchNorm1d(306, eps=1e-05, momentum=0.1, affine=True, track_running_stats=True)\n",
       "      (Tanh_1): Tanh()\n",
       "    )\n",
       "    (2): Sequential(\n",
       "      (Linear_2): Linear(in_features=306, out_features=125, bias=True)\n",
       "      (BatchNorm_2): BatchNorm1d(125, eps=1e-05, momentum=0.1, affine=True, track_running_stats=True)\n",
       "      (Tanh_2): Tanh()\n",
       "    )\n",
       "    (3): Sequential(\n",
       "      (Linear_3): Linear(in_features=125, out_features=28, bias=True)\n",
       "      (BatchNorm_3): BatchNorm1d(28, eps=1e-05, momentum=0.1, affine=True, track_running_stats=True)\n",
       "      (Tanh_3): Tanh()\n",
       "    )\n",
       "  )\n",
       "  (heads): ModuleList(\n",
       "    (0): Sequential(\n",
       "      (0): Linear(in_features=471, out_features=2, bias=True)\n",
       "      (1): Sigmoid()\n",
       "    )\n",
       "    (1): Sequential(\n",
       "      (0): Linear(in_features=306, out_features=2, bias=True)\n",
       "      (1): Sigmoid()\n",
       "    )\n",
       "    (2): Sequential(\n",
       "      (0): Linear(in_features=125, out_features=2, bias=True)\n",
       "      (1): Sigmoid()\n",
       "    )\n",
       "    (3): Sequential(\n",
       "      (0): Linear(in_features=28, out_features=2, bias=True)\n",
       "      (1): Sigmoid()\n",
       "    )\n",
       "  )\n",
       ")"
      ]
     },
     "execution_count": 4,
     "metadata": {},
     "output_type": "execute_result"
    }
   ],
   "source": [
    "binn = BINN(\n",
    "    data_matrix=input_data,\n",
    "    network_source=\"reactome\",\n",
    "    heads_ensemble=True,\n",
    "    n_layers=4,\n",
    "    dropout=0.2,\n",
    ")\n",
    "\n",
    "binn.layers"
   ]
  },
  {
   "cell_type": "code",
   "execution_count": 5,
   "metadata": {},
   "outputs": [
    {
     "data": {
      "text/plain": [
       "np.str_('A0M8Q6')"
      ]
     },
     "execution_count": 5,
     "metadata": {},
     "output_type": "execute_result"
    }
   ],
   "source": [
    "binn.inputs[0]"
   ]
  },
  {
   "attachments": {},
   "cell_type": "markdown",
   "metadata": {},
   "source": [
    "Looking at the layer names, we see that these correspond to the input and intermediary layers in the model."
   ]
  },
  {
   "cell_type": "code",
   "execution_count": 6,
   "metadata": {},
   "outputs": [
    {
     "data": {
      "text/plain": [
       "np.str_('A0M8Q6')"
      ]
     },
     "execution_count": 6,
     "metadata": {},
     "output_type": "execute_result"
    }
   ],
   "source": [
    "layers = binn.layer_names\n",
    "layers[0][0]"
   ]
  },
  {
   "cell_type": "markdown",
   "metadata": {},
   "source": [
    "# Training"
   ]
  },
  {
   "cell_type": "code",
   "execution_count": 7,
   "metadata": {},
   "outputs": [
    {
     "name": "stdout",
     "output_type": "stream",
     "text": [
      "\n",
      "[INFO] BINN is on device: cpu\n",
      "Mapping group labels: {np.int64(1): 0, np.int64(2): 1}\n",
      "[Epoch 1/50] Train Loss: 0.8285, Train Accuracy: 0.5022\n",
      "[Epoch 1/50] Val Loss: 0.6931, Val Accuracy: 0.5312\n",
      "[Epoch 2/50] Train Loss: 0.7945, Train Accuracy: 0.4903\n",
      "[Epoch 2/50] Val Loss: 0.6929, Val Accuracy: 0.5312\n",
      "[Epoch 3/50] Train Loss: 0.7385, Train Accuracy: 0.5310\n",
      "[Epoch 3/50] Val Loss: 0.6928, Val Accuracy: 0.5312\n",
      "[Epoch 4/50] Train Loss: 0.7525, Train Accuracy: 0.5334\n",
      "[Epoch 4/50] Val Loss: 0.6926, Val Accuracy: 0.5312\n",
      "[Epoch 5/50] Train Loss: 0.7214, Train Accuracy: 0.5466\n",
      "[Epoch 5/50] Val Loss: 0.6919, Val Accuracy: 0.5312\n",
      "[Epoch 6/50] Train Loss: 0.7080, Train Accuracy: 0.5528\n",
      "[Epoch 6/50] Val Loss: 0.6909, Val Accuracy: 0.5312\n",
      "[Epoch 7/50] Train Loss: 0.6774, Train Accuracy: 0.5972\n",
      "[Epoch 7/50] Val Loss: 0.6886, Val Accuracy: 0.6250\n",
      "[Epoch 8/50] Train Loss: 0.7330, Train Accuracy: 0.5748\n",
      "[Epoch 8/50] Val Loss: 0.6832, Val Accuracy: 0.7031\n",
      "[Epoch 9/50] Train Loss: 0.7200, Train Accuracy: 0.5478\n",
      "[Epoch 9/50] Val Loss: 0.6737, Val Accuracy: 0.7500\n",
      "[Epoch 10/50] Train Loss: 0.6613, Train Accuracy: 0.5903\n",
      "[Epoch 10/50] Val Loss: 0.6588, Val Accuracy: 0.8125\n",
      "[Epoch 11/50] Train Loss: 0.6917, Train Accuracy: 0.6422\n",
      "[Epoch 11/50] Val Loss: 0.6392, Val Accuracy: 0.7969\n",
      "[Epoch 12/50] Train Loss: 0.6616, Train Accuracy: 0.5922\n",
      "[Epoch 12/50] Val Loss: 0.6179, Val Accuracy: 0.7656\n",
      "[Epoch 13/50] Train Loss: 0.6598, Train Accuracy: 0.6297\n",
      "[Epoch 13/50] Val Loss: 0.6001, Val Accuracy: 0.7500\n",
      "[Epoch 14/50] Train Loss: 0.6865, Train Accuracy: 0.5735\n",
      "[Epoch 14/50] Val Loss: 0.5887, Val Accuracy: 0.6250\n",
      "[Epoch 15/50] Train Loss: 0.6448, Train Accuracy: 0.6304\n",
      "[Epoch 15/50] Val Loss: 0.5817, Val Accuracy: 0.6406\n",
      "[Epoch 16/50] Train Loss: 0.6313, Train Accuracy: 0.6360\n",
      "[Epoch 16/50] Val Loss: 0.5753, Val Accuracy: 0.6406\n",
      "[Epoch 17/50] Train Loss: 0.5888, Train Accuracy: 0.7149\n",
      "[Epoch 17/50] Val Loss: 0.5662, Val Accuracy: 0.6719\n",
      "[Epoch 18/50] Train Loss: 0.5892, Train Accuracy: 0.7099\n",
      "[Epoch 18/50] Val Loss: 0.5558, Val Accuracy: 0.6719\n",
      "[Epoch 19/50] Train Loss: 0.6263, Train Accuracy: 0.6879\n",
      "[Epoch 19/50] Val Loss: 0.5389, Val Accuracy: 0.6875\n",
      "[Epoch 20/50] Train Loss: 0.5608, Train Accuracy: 0.7280\n",
      "[Epoch 20/50] Val Loss: 0.5242, Val Accuracy: 0.7188\n",
      "[Epoch 21/50] Train Loss: 0.5746, Train Accuracy: 0.7293\n",
      "[Epoch 21/50] Val Loss: 0.5180, Val Accuracy: 0.7188\n",
      "[Epoch 22/50] Train Loss: 0.6143, Train Accuracy: 0.6886\n",
      "[Epoch 22/50] Val Loss: 0.5021, Val Accuracy: 0.7812\n",
      "[Epoch 23/50] Train Loss: 0.5671, Train Accuracy: 0.7129\n",
      "[Epoch 23/50] Val Loss: 0.4915, Val Accuracy: 0.7656\n",
      "[Epoch 24/50] Train Loss: 0.5990, Train Accuracy: 0.6692\n",
      "[Epoch 24/50] Val Loss: 0.4872, Val Accuracy: 0.7812\n",
      "[Epoch 25/50] Train Loss: 0.5343, Train Accuracy: 0.7636\n",
      "[Epoch 25/50] Val Loss: 0.4918, Val Accuracy: 0.7812\n",
      "[Epoch 26/50] Train Loss: 0.5729, Train Accuracy: 0.7267\n",
      "[Epoch 26/50] Val Loss: 0.4881, Val Accuracy: 0.8281\n",
      "[Epoch 27/50] Train Loss: 0.5342, Train Accuracy: 0.7698\n",
      "[Epoch 27/50] Val Loss: 0.4925, Val Accuracy: 0.8125\n",
      "[Epoch 28/50] Train Loss: 0.5460, Train Accuracy: 0.7468\n",
      "[Epoch 28/50] Val Loss: 0.4806, Val Accuracy: 0.8438\n",
      "[Epoch 29/50] Train Loss: 0.5794, Train Accuracy: 0.6942\n",
      "[Epoch 29/50] Val Loss: 0.4830, Val Accuracy: 0.8125\n",
      "[Epoch 30/50] Train Loss: 0.5585, Train Accuracy: 0.7261\n",
      "[Epoch 30/50] Val Loss: 0.4834, Val Accuracy: 0.8125\n",
      "[Epoch 31/50] Train Loss: 0.5482, Train Accuracy: 0.7149\n",
      "[Epoch 31/50] Val Loss: 0.4725, Val Accuracy: 0.8281\n",
      "[Epoch 32/50] Train Loss: 0.5521, Train Accuracy: 0.7455\n",
      "[Epoch 32/50] Val Loss: 0.4638, Val Accuracy: 0.8594\n",
      "[Epoch 33/50] Train Loss: 0.5200, Train Accuracy: 0.7636\n",
      "[Epoch 33/50] Val Loss: 0.4567, Val Accuracy: 0.8594\n",
      "[Epoch 34/50] Train Loss: 0.5464, Train Accuracy: 0.7511\n",
      "[Epoch 34/50] Val Loss: 0.4477, Val Accuracy: 0.8594\n",
      "[Epoch 35/50] Train Loss: 0.5174, Train Accuracy: 0.7787\n",
      "[Epoch 35/50] Val Loss: 0.4369, Val Accuracy: 0.8594\n",
      "[Epoch 36/50] Train Loss: 0.5047, Train Accuracy: 0.8142\n",
      "[Epoch 36/50] Val Loss: 0.4360, Val Accuracy: 0.8594\n",
      "[Epoch 37/50] Train Loss: 0.4981, Train Accuracy: 0.8405\n",
      "[Epoch 37/50] Val Loss: 0.4358, Val Accuracy: 0.8438\n",
      "[Epoch 38/50] Train Loss: 0.4965, Train Accuracy: 0.8056\n",
      "[Epoch 38/50] Val Loss: 0.4333, Val Accuracy: 0.8281\n",
      "[Epoch 39/50] Train Loss: 0.5082, Train Accuracy: 0.7642\n",
      "[Epoch 39/50] Val Loss: 0.4276, Val Accuracy: 0.8594\n",
      "[Epoch 40/50] Train Loss: 0.5220, Train Accuracy: 0.7580\n",
      "[Epoch 40/50] Val Loss: 0.4162, Val Accuracy: 0.8438\n",
      "[Epoch 41/50] Train Loss: 0.4862, Train Accuracy: 0.7879\n",
      "[Epoch 41/50] Val Loss: 0.4127, Val Accuracy: 0.8281\n",
      "[Epoch 42/50] Train Loss: 0.4892, Train Accuracy: 0.7843\n",
      "[Epoch 42/50] Val Loss: 0.4078, Val Accuracy: 0.8594\n",
      "[Epoch 43/50] Train Loss: 0.4921, Train Accuracy: 0.7918\n",
      "[Epoch 43/50] Val Loss: 0.4091, Val Accuracy: 0.8281\n",
      "[Epoch 44/50] Train Loss: 0.5096, Train Accuracy: 0.7655\n",
      "[Epoch 44/50] Val Loss: 0.4070, Val Accuracy: 0.8281\n",
      "[Epoch 45/50] Train Loss: 0.4955, Train Accuracy: 0.7668\n",
      "[Epoch 45/50] Val Loss: 0.4110, Val Accuracy: 0.8438\n",
      "[Epoch 46/50] Train Loss: 0.4803, Train Accuracy: 0.8099\n",
      "[Epoch 46/50] Val Loss: 0.4085, Val Accuracy: 0.8438\n",
      "[Epoch 47/50] Train Loss: 0.5032, Train Accuracy: 0.7524\n",
      "[Epoch 47/50] Val Loss: 0.4014, Val Accuracy: 0.8594\n",
      "[Epoch 48/50] Train Loss: 0.4872, Train Accuracy: 0.7623\n",
      "[Epoch 48/50] Val Loss: 0.4080, Val Accuracy: 0.8438\n",
      "[Epoch 49/50] Train Loss: 0.4822, Train Accuracy: 0.8086\n",
      "[Epoch 49/50] Val Loss: 0.4013, Val Accuracy: 0.8438\n",
      "[Epoch 50/50] Train Loss: 0.4546, Train Accuracy: 0.8468\n",
      "[Epoch 50/50] Val Loss: 0.3901, Val Accuracy: 0.8594\n"
     ]
    }
   ],
   "source": [
    "from binn import BINN, BINNDataLoader, BINNTrainer\n",
    "import pandas as pd\n",
    "\n",
    "# Load your data\n",
    "data_matrix = pd.read_csv(\"../data/sample_datamatrix.csv\")\n",
    "design_matrix = pd.read_csv(\"../data/sample_design_matrix.tsv\", sep=\"\\t\")\n",
    "\n",
    "# Initialize BINN\n",
    "binn = BINN(data_matrix=data_matrix, network_source=\"reactome\", n_layers=4, dropout=0.2)\n",
    "\n",
    "## Initialize DataLoader\n",
    "binn_dataloader = BINNDataLoader(binn)\n",
    "\n",
    "# Create DataLoaders\n",
    "dataloaders = binn_dataloader.create_dataloaders(\n",
    "    data_matrix=data_matrix,\n",
    "    design_matrix=design_matrix,\n",
    "    feature_column=\"Protein\",\n",
    "    group_column=\"group\",\n",
    "    sample_column=\"sample\",\n",
    "    batch_size=32,\n",
    "    validation_split=0.2,\n",
    ")\n",
    "# Train the model\n",
    "trainer = BINNTrainer(binn)\n",
    "trainer.fit(dataloaders=dataloaders, num_epochs=50)"
   ]
  }
 ],
 "metadata": {
  "kernelspec": {
   "display_name": ".venv",
   "language": "python",
   "name": "python3"
  },
  "language_info": {
   "codemirror_mode": {
    "name": "ipython",
    "version": 3
   },
   "file_extension": ".py",
   "mimetype": "text/x-python",
   "name": "python",
   "nbconvert_exporter": "python",
   "pygments_lexer": "ipython3",
   "version": "3.10.15"
  },
  "orig_nbformat": 4
 },
 "nbformat": 4,
 "nbformat_minor": 2
}
