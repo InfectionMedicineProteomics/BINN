{
 "cells": [
  {
   "attachments": {},
   "cell_type": "markdown",
   "metadata": {},
   "source": [
    "# Creating a BINN\n",
    "\n",
    "This notebook demonstrates some examples on how a BINN can be created and trained.\n",
    "\n",
    "The method begins with constructing a directed graph representing biological pathways, mapping input features (e.g., proteins or genes) to nodes within the network. This graph is manipulated to produce hierarchical layers and connectivity matrices, which guide the structure of the BINN.\n",
    "\n",
    "If you want to create your own BINN from scratch, you need some input data (`input_data` below) in the form of a pandas dataframe.\n",
    "\n"
   ]
  },
  {
   "cell_type": "code",
   "execution_count": 1,
   "metadata": {},
   "outputs": [
    {
     "name": "stdout",
     "output_type": "stream",
     "text": [
      "\n",
      "[INFO] BINN is on device: cpu\n"
     ]
    },
    {
     "data": {
      "text/plain": [
       "BINN(\n",
       "  (layers): Sequential(\n",
       "    (Layer_0): Linear(in_features=448, out_features=471, bias=True)\n",
       "    (BatchNorm_0): BatchNorm1d(471, eps=1e-05, momentum=0.1, affine=True, track_running_stats=True)\n",
       "    (Dropout_0): Dropout(p=0.2, inplace=False)\n",
       "    (Tanh_0): Tanh()\n",
       "    (Layer_1): Linear(in_features=471, out_features=306, bias=True)\n",
       "    (BatchNorm_1): BatchNorm1d(306, eps=1e-05, momentum=0.1, affine=True, track_running_stats=True)\n",
       "    (Dropout_1): Dropout(p=0.2, inplace=False)\n",
       "    (Tanh_1): Tanh()\n",
       "    (Layer_2): Linear(in_features=306, out_features=125, bias=True)\n",
       "    (BatchNorm_2): BatchNorm1d(125, eps=1e-05, momentum=0.1, affine=True, track_running_stats=True)\n",
       "    (Dropout_2): Dropout(p=0.2, inplace=False)\n",
       "    (Tanh_2): Tanh()\n",
       "    (Layer_3): Linear(in_features=125, out_features=28, bias=True)\n",
       "    (BatchNorm_3): BatchNorm1d(28, eps=1e-05, momentum=0.1, affine=True, track_running_stats=True)\n",
       "    (Dropout_3): Dropout(p=0.2, inplace=False)\n",
       "    (Tanh_3): Tanh()\n",
       "    (Output): Linear(in_features=28, out_features=2, bias=True)\n",
       "  )\n",
       ")"
      ]
     },
     "execution_count": 1,
     "metadata": {},
     "output_type": "execute_result"
    }
   ],
   "source": [
    "from binn import BINN\n",
    "import pandas as pd\n",
    "\n",
    "input_data = pd.read_csv(\"../binn/data/sample_datamatrix.csv\")\n",
    "\n",
    "binn = BINN(\n",
    "    data_matrix=input_data,\n",
    "    network_source=\"reactome\",\n",
    "    input_source=\"uniprot\",\n",
    "    n_layers=4,\n",
    "    dropout=0.2,\n",
    ")\n",
    "\n",
    "binn"
   ]
  },
  {
   "attachments": {},
   "cell_type": "markdown",
   "metadata": {},
   "source": [
    "You can also provide your own pathways and mapping to create a PathwayNetwork. The PathwayNetwork is what underlies the pruning of the BINN to create sparsity. The pathway file is a standard edgelist. The mapping maps the input to the edgelist."
   ]
  },
  {
   "cell_type": "code",
   "execution_count": 2,
   "metadata": {},
   "outputs": [
    {
     "data": {
      "text/plain": [
       "('R-HSA-109703', 'R-HSA-109704')"
      ]
     },
     "execution_count": 2,
     "metadata": {},
     "output_type": "execute_result"
    }
   ],
   "source": [
    "from binn import PathwayNetwork\n",
    "\n",
    "mapping = pd.read_csv(\"../binn/data/downloads/uniprot_2_reactome_2025_01_14.txt\", sep=\"\\t\")\n",
    "pathways = pd.read_csv(\"../binn/data/downloads/reactome_pathways_relation_2025_01_14.txt\", sep=\"\\t\")\n",
    "pathways = list(pathways.itertuples(index=False, name=None))\n",
    "mapping = list(mapping.itertuples(index=False, name=None))\n",
    "input_entities = input_data[\"Protein\"].tolist()\n",
    "\n",
    "network = PathwayNetwork(\n",
    "    input_data=input_entities,\n",
    "    pathways=pathways,\n",
    "    mapping=mapping,\n",
    ")\n",
    "\n",
    "list(network.pathway_graph.edges())[0]"
   ]
  },
  {
   "cell_type": "code",
   "execution_count": 3,
   "metadata": {},
   "outputs": [
    {
     "name": "stdout",
     "output_type": "stream",
     "text": [
      "\n",
      "[INFO] BINN is on device: cpu\n"
     ]
    },
    {
     "data": {
      "text/plain": [
       "Sequential(\n",
       "  (Layer_0): Linear(in_features=448, out_features=471, bias=True)\n",
       "  (BatchNorm_0): BatchNorm1d(471, eps=1e-05, momentum=0.1, affine=True, track_running_stats=True)\n",
       "  (Dropout_0): Dropout(p=0, inplace=False)\n",
       "  (Tanh_0): Tanh()\n",
       "  (Layer_1): Linear(in_features=471, out_features=306, bias=True)\n",
       "  (BatchNorm_1): BatchNorm1d(306, eps=1e-05, momentum=0.1, affine=True, track_running_stats=True)\n",
       "  (Dropout_1): Dropout(p=0, inplace=False)\n",
       "  (Tanh_1): Tanh()\n",
       "  (Layer_2): Linear(in_features=306, out_features=125, bias=True)\n",
       "  (BatchNorm_2): BatchNorm1d(125, eps=1e-05, momentum=0.1, affine=True, track_running_stats=True)\n",
       "  (Dropout_2): Dropout(p=0, inplace=False)\n",
       "  (Tanh_2): Tanh()\n",
       "  (Layer_3): Linear(in_features=125, out_features=28, bias=True)\n",
       "  (BatchNorm_3): BatchNorm1d(28, eps=1e-05, momentum=0.1, affine=True, track_running_stats=True)\n",
       "  (Dropout_3): Dropout(p=0, inplace=False)\n",
       "  (Tanh_3): Tanh()\n",
       "  (Output): Linear(in_features=28, out_features=2, bias=True)\n",
       ")"
      ]
     },
     "execution_count": 3,
     "metadata": {},
     "output_type": "execute_result"
    }
   ],
   "source": [
    "\n",
    "# or custom pathways and mapping\n",
    "mapping = pd.read_csv(\n",
    "    \"../binn/data/downloads/uniprot_2_reactome_2025_01_14.txt\",\n",
    "    sep=\"\\t\",\n",
    "    header=None,\n",
    "    names=[\"input\", \"translation\", \"url\", \"name\", \"x\", \"species\"],\n",
    ")\n",
    "pathways = pd.read_csv(\n",
    "    \"../binn/data/downloads/reactome_pathways_relation_2025_01_14.txt\",\n",
    "    sep=\"\\t\",\n",
    "    header=None,\n",
    "    names=[\"target\", \"source\"],\n",
    ")\n",
    "\n",
    "binn = BINN(data_matrix=input_data, mapping=mapping, pathways=pathways)\n",
    "\n",
    "binn.layers"
   ]
  },
  {
   "cell_type": "markdown",
   "metadata": {},
   "source": [
    "We can also build an ensemble of heads, in which the output of each layer in the network is passed through a linear layer before being summed in the end."
   ]
  },
  {
   "cell_type": "code",
   "execution_count": 4,
   "metadata": {},
   "outputs": [
    {
     "name": "stdout",
     "output_type": "stream",
     "text": [
      "\n",
      "[INFO] BINN is on device: cpu\n"
     ]
    },
    {
     "data": {
      "text/plain": [
       "_EnsembleHeads(\n",
       "  (blocks): ModuleList(\n",
       "    (0): Sequential(\n",
       "      (Linear_0): Linear(in_features=448, out_features=471, bias=True)\n",
       "      (BatchNorm_0): BatchNorm1d(471, eps=1e-05, momentum=0.1, affine=True, track_running_stats=True)\n",
       "      (Tanh_0): Tanh()\n",
       "    )\n",
       "    (1): Sequential(\n",
       "      (Linear_1): Linear(in_features=471, out_features=306, bias=True)\n",
       "      (BatchNorm_1): BatchNorm1d(306, eps=1e-05, momentum=0.1, affine=True, track_running_stats=True)\n",
       "      (Tanh_1): Tanh()\n",
       "    )\n",
       "    (2): Sequential(\n",
       "      (Linear_2): Linear(in_features=306, out_features=125, bias=True)\n",
       "      (BatchNorm_2): BatchNorm1d(125, eps=1e-05, momentum=0.1, affine=True, track_running_stats=True)\n",
       "      (Tanh_2): Tanh()\n",
       "    )\n",
       "    (3): Sequential(\n",
       "      (Linear_3): Linear(in_features=125, out_features=28, bias=True)\n",
       "      (BatchNorm_3): BatchNorm1d(28, eps=1e-05, momentum=0.1, affine=True, track_running_stats=True)\n",
       "      (Tanh_3): Tanh()\n",
       "    )\n",
       "  )\n",
       "  (heads): ModuleList(\n",
       "    (0): Sequential(\n",
       "      (0): Linear(in_features=471, out_features=2, bias=True)\n",
       "      (1): Sigmoid()\n",
       "    )\n",
       "    (1): Sequential(\n",
       "      (0): Linear(in_features=306, out_features=2, bias=True)\n",
       "      (1): Sigmoid()\n",
       "    )\n",
       "    (2): Sequential(\n",
       "      (0): Linear(in_features=125, out_features=2, bias=True)\n",
       "      (1): Sigmoid()\n",
       "    )\n",
       "    (3): Sequential(\n",
       "      (0): Linear(in_features=28, out_features=2, bias=True)\n",
       "      (1): Sigmoid()\n",
       "    )\n",
       "  )\n",
       ")"
      ]
     },
     "execution_count": 4,
     "metadata": {},
     "output_type": "execute_result"
    }
   ],
   "source": [
    "binn = BINN(\n",
    "    data_matrix=input_data,\n",
    "    network_source=\"reactome\",\n",
    "    heads_ensemble=True,\n",
    "    n_layers=4,\n",
    "    dropout=0.2,\n",
    ")\n",
    "\n",
    "binn.layers"
   ]
  },
  {
   "cell_type": "code",
   "execution_count": 5,
   "metadata": {},
   "outputs": [
    {
     "data": {
      "text/plain": [
       "np.str_('A0M8Q6')"
      ]
     },
     "execution_count": 5,
     "metadata": {},
     "output_type": "execute_result"
    }
   ],
   "source": [
    "binn.inputs[0]"
   ]
  },
  {
   "attachments": {},
   "cell_type": "markdown",
   "metadata": {},
   "source": [
    "Looking at the layer names, we see that these correspond to the input and intermediary layers in the model."
   ]
  },
  {
   "cell_type": "code",
   "execution_count": 6,
   "metadata": {},
   "outputs": [
    {
     "data": {
      "text/plain": [
       "np.str_('A0M8Q6')"
      ]
     },
     "execution_count": 6,
     "metadata": {},
     "output_type": "execute_result"
    }
   ],
   "source": [
    "layers = binn.layer_names\n",
    "layers[0][0]"
   ]
  },
  {
   "cell_type": "markdown",
   "metadata": {},
   "source": [
    "# Training"
   ]
  },
  {
   "cell_type": "code",
   "execution_count": 7,
   "metadata": {},
   "outputs": [
    {
     "name": "stdout",
     "output_type": "stream",
     "text": [
      "\n",
      "[INFO] BINN is on device: cpu\n",
      "Mapping group labels: {np.int64(1): 0, np.int64(2): 1}\n",
      "[Epoch 1/50] Train Loss: 0.8652, Train Accuracy: 0.4765\n",
      "[Epoch 1/50] Val Loss: 0.6931, Val Accuracy: 0.5312\n",
      "[Epoch 2/50] Train Loss: 0.9717, Train Accuracy: 0.4722\n",
      "[Epoch 2/50] Val Loss: 0.6932, Val Accuracy: 0.4688\n",
      "[Epoch 3/50] Train Loss: 0.8927, Train Accuracy: 0.4853\n",
      "[Epoch 3/50] Val Loss: 0.6934, Val Accuracy: 0.4688\n",
      "[Epoch 4/50] Train Loss: 0.8905, Train Accuracy: 0.4653\n",
      "[Epoch 4/50] Val Loss: 0.6935, Val Accuracy: 0.4688\n",
      "[Epoch 5/50] Train Loss: 0.8141, Train Accuracy: 0.4860\n",
      "[Epoch 5/50] Val Loss: 0.6933, Val Accuracy: 0.4688\n",
      "[Epoch 6/50] Train Loss: 0.8893, Train Accuracy: 0.4610\n",
      "[Epoch 6/50] Val Loss: 0.6925, Val Accuracy: 0.6250\n",
      "[Epoch 7/50] Train Loss: 0.8754, Train Accuracy: 0.4795\n",
      "[Epoch 7/50] Val Loss: 0.6908, Val Accuracy: 0.5781\n",
      "[Epoch 8/50] Train Loss: 0.7522, Train Accuracy: 0.5272\n",
      "[Epoch 8/50] Val Loss: 0.6875, Val Accuracy: 0.5469\n",
      "[Epoch 9/50] Train Loss: 0.8033, Train Accuracy: 0.5172\n",
      "[Epoch 9/50] Val Loss: 0.6805, Val Accuracy: 0.6875\n",
      "[Epoch 10/50] Train Loss: 0.7553, Train Accuracy: 0.5735\n",
      "[Epoch 10/50] Val Loss: 0.6678, Val Accuracy: 0.7188\n",
      "[Epoch 11/50] Train Loss: 0.7279, Train Accuracy: 0.6304\n",
      "[Epoch 11/50] Val Loss: 0.6495, Val Accuracy: 0.7188\n",
      "[Epoch 12/50] Train Loss: 0.7336, Train Accuracy: 0.6054\n",
      "[Epoch 12/50] Val Loss: 0.6328, Val Accuracy: 0.7031\n",
      "[Epoch 13/50] Train Loss: 0.7308, Train Accuracy: 0.5886\n",
      "[Epoch 13/50] Val Loss: 0.6206, Val Accuracy: 0.6875\n",
      "[Epoch 14/50] Train Loss: 0.6821, Train Accuracy: 0.6129\n",
      "[Epoch 14/50] Val Loss: 0.6210, Val Accuracy: 0.7031\n",
      "[Epoch 15/50] Train Loss: 0.7761, Train Accuracy: 0.5366\n",
      "[Epoch 15/50] Val Loss: 0.6288, Val Accuracy: 0.6875\n",
      "[Epoch 16/50] Train Loss: 0.6934, Train Accuracy: 0.6198\n",
      "[Epoch 16/50] Val Loss: 0.6242, Val Accuracy: 0.6875\n",
      "[Epoch 17/50] Train Loss: 0.7489, Train Accuracy: 0.5653\n",
      "[Epoch 17/50] Val Loss: 0.6164, Val Accuracy: 0.6875\n",
      "[Epoch 18/50] Train Loss: 0.6777, Train Accuracy: 0.5935\n",
      "[Epoch 18/50] Val Loss: 0.6113, Val Accuracy: 0.6875\n",
      "[Epoch 19/50] Train Loss: 0.6602, Train Accuracy: 0.6603\n",
      "[Epoch 19/50] Val Loss: 0.6093, Val Accuracy: 0.6875\n",
      "[Epoch 20/50] Train Loss: 0.6673, Train Accuracy: 0.6616\n",
      "[Epoch 20/50] Val Loss: 0.5920, Val Accuracy: 0.6719\n",
      "[Epoch 21/50] Train Loss: 0.7014, Train Accuracy: 0.6248\n",
      "[Epoch 21/50] Val Loss: 0.5725, Val Accuracy: 0.6875\n",
      "[Epoch 22/50] Train Loss: 0.6262, Train Accuracy: 0.6836\n",
      "[Epoch 22/50] Val Loss: 0.5611, Val Accuracy: 0.6875\n",
      "[Epoch 23/50] Train Loss: 0.7062, Train Accuracy: 0.5922\n",
      "[Epoch 23/50] Val Loss: 0.5487, Val Accuracy: 0.6719\n",
      "[Epoch 24/50] Train Loss: 0.6753, Train Accuracy: 0.6179\n",
      "[Epoch 24/50] Val Loss: 0.5264, Val Accuracy: 0.6875\n",
      "[Epoch 25/50] Train Loss: 0.6452, Train Accuracy: 0.6698\n",
      "[Epoch 25/50] Val Loss: 0.5277, Val Accuracy: 0.6875\n",
      "[Epoch 26/50] Train Loss: 0.5427, Train Accuracy: 0.7474\n",
      "[Epoch 26/50] Val Loss: 0.5150, Val Accuracy: 0.6875\n",
      "[Epoch 27/50] Train Loss: 0.5924, Train Accuracy: 0.6955\n",
      "[Epoch 27/50] Val Loss: 0.5012, Val Accuracy: 0.6875\n",
      "[Epoch 28/50] Train Loss: 0.5510, Train Accuracy: 0.7099\n",
      "[Epoch 28/50] Val Loss: 0.4868, Val Accuracy: 0.6875\n",
      "[Epoch 29/50] Train Loss: 0.6118, Train Accuracy: 0.6616\n",
      "[Epoch 29/50] Val Loss: 0.4787, Val Accuracy: 0.6875\n",
      "[Epoch 30/50] Train Loss: 0.6327, Train Accuracy: 0.6547\n",
      "[Epoch 30/50] Val Loss: 0.4753, Val Accuracy: 0.7500\n",
      "[Epoch 31/50] Train Loss: 0.6058, Train Accuracy: 0.6498\n",
      "[Epoch 31/50] Val Loss: 0.4657, Val Accuracy: 0.7500\n",
      "[Epoch 32/50] Train Loss: 0.5434, Train Accuracy: 0.7067\n",
      "[Epoch 32/50] Val Loss: 0.4630, Val Accuracy: 0.7500\n",
      "[Epoch 33/50] Train Loss: 0.5338, Train Accuracy: 0.7097\n",
      "[Epoch 33/50] Val Loss: 0.4551, Val Accuracy: 0.7500\n",
      "[Epoch 34/50] Train Loss: 0.5620, Train Accuracy: 0.7323\n",
      "[Epoch 34/50] Val Loss: 0.4604, Val Accuracy: 0.7344\n",
      "[Epoch 35/50] Train Loss: 0.5420, Train Accuracy: 0.7304\n",
      "[Epoch 35/50] Val Loss: 0.4668, Val Accuracy: 0.7344\n",
      "[Epoch 36/50] Train Loss: 0.5170, Train Accuracy: 0.7198\n",
      "[Epoch 36/50] Val Loss: 0.4559, Val Accuracy: 0.7344\n",
      "[Epoch 37/50] Train Loss: 0.5133, Train Accuracy: 0.7330\n",
      "[Epoch 37/50] Val Loss: 0.4469, Val Accuracy: 0.7344\n",
      "[Epoch 38/50] Train Loss: 0.5299, Train Accuracy: 0.7123\n",
      "[Epoch 38/50] Val Loss: 0.4464, Val Accuracy: 0.7344\n",
      "[Epoch 39/50] Train Loss: 0.5393, Train Accuracy: 0.7392\n",
      "[Epoch 39/50] Val Loss: 0.4374, Val Accuracy: 0.7344\n",
      "[Epoch 40/50] Train Loss: 0.5332, Train Accuracy: 0.7567\n",
      "[Epoch 40/50] Val Loss: 0.4332, Val Accuracy: 0.7344\n",
      "[Epoch 41/50] Train Loss: 0.5338, Train Accuracy: 0.7455\n",
      "[Epoch 41/50] Val Loss: 0.4242, Val Accuracy: 0.7344\n",
      "[Epoch 42/50] Train Loss: 0.4676, Train Accuracy: 0.8080\n",
      "[Epoch 42/50] Val Loss: 0.4175, Val Accuracy: 0.7969\n",
      "[Epoch 43/50] Train Loss: 0.4978, Train Accuracy: 0.7741\n",
      "[Epoch 43/50] Val Loss: 0.4174, Val Accuracy: 0.7344\n",
      "[Epoch 44/50] Train Loss: 0.5049, Train Accuracy: 0.7524\n",
      "[Epoch 44/50] Val Loss: 0.4220, Val Accuracy: 0.7188\n",
      "[Epoch 45/50] Train Loss: 0.4776, Train Accuracy: 0.7399\n",
      "[Epoch 45/50] Val Loss: 0.4222, Val Accuracy: 0.7188\n",
      "[Epoch 46/50] Train Loss: 0.5024, Train Accuracy: 0.7774\n",
      "[Epoch 46/50] Val Loss: 0.4190, Val Accuracy: 0.7188\n",
      "[Epoch 47/50] Train Loss: 0.4929, Train Accuracy: 0.7580\n",
      "[Epoch 47/50] Val Loss: 0.4136, Val Accuracy: 0.7188\n",
      "[Epoch 48/50] Train Loss: 0.4703, Train Accuracy: 0.7787\n",
      "[Epoch 48/50] Val Loss: 0.4126, Val Accuracy: 0.7812\n",
      "[Epoch 49/50] Train Loss: 0.4784, Train Accuracy: 0.7705\n",
      "[Epoch 49/50] Val Loss: 0.4172, Val Accuracy: 0.7344\n",
      "[Epoch 50/50] Train Loss: 0.5291, Train Accuracy: 0.7468\n",
      "[Epoch 50/50] Val Loss: 0.4138, Val Accuracy: 0.7344\n"
     ]
    }
   ],
   "source": [
    "from binn import BINN, BINNDataLoader, BINNTrainer\n",
    "import pandas as pd\n",
    "\n",
    "# Load your data\n",
    "data_matrix = pd.read_csv(\"../binn/data/sample_datamatrix.csv\")\n",
    "design_matrix = pd.read_csv(\"../binn/data/sample_design_matrix.tsv\", sep=\"\\t\")\n",
    "\n",
    "# Initialize BINN\n",
    "binn = BINN(data_matrix=data_matrix, network_source=\"reactome\", n_layers=4, dropout=0.2)\n",
    "\n",
    "## Initialize DataLoader\n",
    "binn_dataloader = BINNDataLoader(binn)\n",
    "\n",
    "# Create DataLoaders\n",
    "dataloaders = binn_dataloader.create_dataloaders(\n",
    "    data_matrix=data_matrix,\n",
    "    design_matrix=design_matrix,\n",
    "    feature_column=\"Protein\",\n",
    "    group_column=\"group\",\n",
    "    sample_column=\"sample\",\n",
    "    batch_size=32,\n",
    "    validation_split=0.2,\n",
    ")\n",
    "# Train the model\n",
    "trainer = BINNTrainer(binn)\n",
    "trainer.fit(dataloaders=dataloaders, num_epochs=50)"
   ]
  }
 ],
 "metadata": {
  "kernelspec": {
   "display_name": ".venv",
   "language": "python",
   "name": "python3"
  },
  "language_info": {
   "codemirror_mode": {
    "name": "ipython",
    "version": 3
   },
   "file_extension": ".py",
   "mimetype": "text/x-python",
   "name": "python",
   "nbconvert_exporter": "python",
   "pygments_lexer": "ipython3",
   "version": "3.10.15"
  },
  "orig_nbformat": 4
 },
 "nbformat": 4,
 "nbformat_minor": 2
}
