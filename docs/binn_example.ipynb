{
 "cells": [
  {
   "attachments": {},
   "cell_type": "markdown",
   "metadata": {},
   "source": [
    "# BINN - Biologically Informed Neural Network\n",
    "\n",
    "This notebooks demonstrates some examples on how a BINN can be created."
   ]
  },
  {
   "attachments": {},
   "cell_type": "markdown",
   "metadata": {},
   "source": [
    "Read some test data. This requires and input and a pathway file. These correspond to the first layer (input) and intermediary (hidden) layers in the model. We also include the option to have a translation-file which maps the input to the intermediary layers.\n",
    "\n",
    "In this example, the input layers consist of proteins with UniProt IDs and the intermediary layers consist of biological pathways with Reactome IDs. The translation file maps the UniProt IDs to the Reactome IDs."
   ]
  },
  {
   "cell_type": "code",
   "execution_count": 1,
   "metadata": {},
   "outputs": [],
   "source": [
    "import pandas as pd\n",
    "\n",
    "input_data = pd.read_csv(\"../data/test_qm.csv\")\n",
    "mapping = pd.read_csv(\"../data/uniprot_2_reactome_2025_01_14.txt\", sep=\"\\t\")\n",
    "pathways = pd.read_csv(\"../data/reactome_pathways_relation_2025_01_14.txt\", sep=\"\\t\")\n",
    "\n",
    "input_data = input_data[\"Protein\"].tolist()\n",
    "pathways = list(pathways.itertuples(index=False, name=None))\n",
    "mapping = list(mapping.itertuples(index=False, name=None))\n"
   ]
  },
  {
   "attachments": {},
   "cell_type": "markdown",
   "metadata": {},
   "source": [
    "The first step is to create the network as described above."
   ]
  },
  {
   "cell_type": "code",
   "execution_count": 3,
   "metadata": {},
   "outputs": [],
   "source": [
    "from binn import PathwayNetwork\n",
    "network = PathwayNetwork(\n",
    "    input_data=input_data,\n",
    "    pathways=pathways,\n",
    "    mapping=mapping,\n",
    ")"
   ]
  },
  {
   "attachments": {},
   "cell_type": "markdown",
   "metadata": {},
   "source": [
    "Thereafter we can create a BINN (model). The BINN is implemented in PyTorch Lightning and takes the network as input argument, as well as some other arguments."
   ]
  },
  {
   "cell_type": "code",
   "execution_count": 4,
   "metadata": {},
   "outputs": [
    {
     "name": "stdout",
     "output_type": "stream",
     "text": [
      "\n",
      "BINN is on the device: cpu\n"
     ]
    },
    {
     "data": {
      "text/plain": [
       "Sequential(\n",
       "  (Layer_0): Linear(in_features=288, out_features=270, bias=True)\n",
       "  (BatchNorm_0): BatchNorm1d(270, eps=1e-05, momentum=0.1, affine=True, track_running_stats=True)\n",
       "  (Dropout_0): Dropout(p=0.2, inplace=False)\n",
       "  (Tanh 0): Tanh()\n",
       "  (Layer_1): Linear(in_features=270, out_features=265, bias=True)\n",
       "  (BatchNorm_1): BatchNorm1d(265, eps=1e-05, momentum=0.1, affine=True, track_running_stats=True)\n",
       "  (Dropout_1): Dropout(p=0.2, inplace=False)\n",
       "  (Tanh 1): Tanh()\n",
       "  (Layer_2): Linear(in_features=265, out_features=254, bias=True)\n",
       "  (BatchNorm_2): BatchNorm1d(254, eps=1e-05, momentum=0.1, affine=True, track_running_stats=True)\n",
       "  (Dropout_2): Dropout(p=0.2, inplace=False)\n",
       "  (Tanh 2): Tanh()\n",
       "  (Layer_3): Linear(in_features=254, out_features=211, bias=True)\n",
       "  (BatchNorm_3): BatchNorm1d(211, eps=1e-05, momentum=0.1, affine=True, track_running_stats=True)\n",
       "  (Dropout_3): Dropout(p=0.2, inplace=False)\n",
       "  (Tanh 3): Tanh()\n",
       "  (Layer_4): Linear(in_features=211, out_features=96, bias=True)\n",
       "  (BatchNorm_4): BatchNorm1d(96, eps=1e-05, momentum=0.1, affine=True, track_running_stats=True)\n",
       "  (Dropout_4): Dropout(p=0.2, inplace=False)\n",
       "  (Tanh 4): Tanh()\n",
       "  (Output layer): Linear(in_features=96, out_features=2, bias=True)\n",
       ")"
      ]
     },
     "execution_count": 4,
     "metadata": {},
     "output_type": "execute_result"
    }
   ],
   "source": [
    "from binn import BINN\n",
    "\n",
    "binn = BINN(\n",
    "    network=network,\n",
    "    n_layers=5,\n",
    "    dropout=0.2,\n",
    "    validate=False,\n",
    "    )\n",
    "binn.layers"
   ]
  },
  {
   "cell_type": "code",
   "execution_count": 5,
   "metadata": {},
   "outputs": [
    {
     "data": {
      "text/plain": [
       "4079"
      ]
     },
     "execution_count": 5,
     "metadata": {},
     "output_type": "execute_result"
    }
   ],
   "source": [
    "binn.trainable_params"
   ]
  },
  {
   "attachments": {},
   "cell_type": "markdown",
   "metadata": {},
   "source": [
    "Looking at the layer names, we see that these correspond to the input and intermediary layers in the model."
   ]
  },
  {
   "cell_type": "code",
   "execution_count": 6,
   "metadata": {},
   "outputs": [
    {
     "data": {
      "text/plain": [
       "'A0M8Q6'"
      ]
     },
     "execution_count": 6,
     "metadata": {},
     "output_type": "execute_result"
    }
   ],
   "source": [
    "layers = binn.layer_names\n",
    "layers[0][0]"
   ]
  }
 ],
 "metadata": {
  "kernelspec": {
   "display_name": ".venv",
   "language": "python",
   "name": "python3"
  },
  "language_info": {
   "codemirror_mode": {
    "name": "ipython",
    "version": 3
   },
   "file_extension": ".py",
   "mimetype": "text/x-python",
   "name": "python",
   "nbconvert_exporter": "python",
   "pygments_lexer": "ipython3",
   "version": "3.9.6"
  },
  "orig_nbformat": 4
 },
 "nbformat": 4,
 "nbformat_minor": 2
}
