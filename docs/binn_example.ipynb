{
 "cells": [
  {
   "attachments": {},
   "cell_type": "markdown",
   "metadata": {},
   "source": [
    "# BINN - Biologically Informed Neural Network\n",
    "\n",
    "This notebooks demonstrates some examples on how a BINN can be created."
   ]
  },
  {
   "attachments": {},
   "cell_type": "markdown",
   "metadata": {},
   "source": [
    "Read some test data. This requires and input and a pathway file. These correspond to the first layer (input) and intermediary (hidden) layers in the model. We also include the option to have a translation-file which maps the input to the intermediary layers.\n",
    "\n",
    "In this example, the input layers consist of proteins with UniProt IDs and the intermediary layers consist of biological pathways with Reactome IDs. The translation file maps the UniProt IDs to the Reactome IDs."
   ]
  },
  {
   "cell_type": "code",
   "execution_count": 1,
   "metadata": {},
   "outputs": [],
   "source": [
    "import pandas as pd\n",
    "\n",
    "input_data = pd.read_csv(\"../data/test_qm.csv\")\n",
    "mapping = pd.read_csv(\"../data/uniprot_2_reactome_2025_01_14.txt\", sep=\"\\t\")\n",
    "pathways = pd.read_csv(\"../data/reactome_pathways_relation_2025_01_14.txt\", sep=\"\\t\")\n",
    "\n",
    "input_entities = input_data[\"Protein\"].tolist()\n",
    "pathways = list(pathways.itertuples(index=False, name=None))\n",
    "mapping = list(mapping.itertuples(index=False, name=None))"
   ]
  },
  {
   "attachments": {},
   "cell_type": "markdown",
   "metadata": {},
   "source": [
    "The BINN is created using a PathwayNetwork. We can create our own PathwayNetwork like so:"
   ]
  },
  {
   "cell_type": "code",
   "execution_count": 2,
   "metadata": {},
   "outputs": [
    {
     "name": "stderr",
     "output_type": "stream",
     "text": [
      "/Users/erikhartman/dev/BINN/.venv/lib/python3.10/site-packages/tqdm/auto.py:21: TqdmWarning: IProgress not found. Please update jupyter and ipywidgets. See https://ipywidgets.readthedocs.io/en/stable/user_install.html\n",
      "  from .autonotebook import tqdm as notebook_tqdm\n"
     ]
    },
    {
     "data": {
      "text/plain": [
       "OutEdgeView([('R-HSA-109703', 'R-HSA-109704'), ('R-HSA-165160', 'R-HSA-109703'), ('R-HSA-109704', 'R-HSA-112399'), ('R-HSA-165158', 'R-HSA-109704'), ('R-HSA-111885', 'R-HSA-418594'), ('R-HSA-112040', 'R-HSA-111885'), ('R-HSA-180024', 'R-HSA-111885'), ('R-HSA-202040', 'R-HSA-111885'), ('R-HSA-111931', 'R-HSA-111933'), ('R-HSA-163615', 'R-HSA-111931'), ('R-HSA-111933', 'R-HSA-111997'), ('R-HSA-111932', 'R-HSA-111933'), ('R-HSA-111957', 'R-HSA-111933'), ('R-HSA-111996', 'R-HSA-112043'), ('R-HSA-111995', 'R-HSA-111996'), ('R-HSA-111997', 'R-HSA-111996'), ('R-HSA-112043', 'R-HSA-112040'), ('R-HSA-170660', 'R-HSA-112040'), ('R-HSA-170670', 'R-HSA-112040'), ('R-HSA-379401', 'R-HSA-112311'), ('R-HSA-380615', 'R-HSA-112311'), ('R-HSA-112399', 'R-HSA-2428928'), ('R-HSA-112412', 'R-HSA-112399'), ('R-HSA-114508', 'R-HSA-416476'), ('R-HSA-426048', 'R-HSA-114508'), ('R-HSA-1250196', 'R-HSA-1227986'), ('R-HSA-1251932', 'R-HSA-1227986'), ('R-HSA-1306955', 'R-HSA-1227986'), ('R-HSA-1963640', 'R-HSA-1227986'), ('R-HSA-1963642', 'R-HSA-1227986'), ('R-HSA-6785631', 'R-HSA-1227986'), ('R-HSA-8847993', 'R-HSA-1227986'), ('R-HSA-8863795', 'R-HSA-1227986'), ('R-HSA-9652282', 'R-HSA-1227986'), ('R-HSA-140179', 'R-HSA-211945'), ('R-HSA-141333', 'R-HSA-140179'), ('R-HSA-141334', 'R-HSA-140179'), ('R-HSA-3371378', 'R-HSA-140534'), ('R-HSA-69416', 'R-HSA-140534'), ('R-HSA-1433559', 'R-HSA-1433557'), ('R-HSA-1461973', 'R-HSA-6803157'), ('R-HSA-1461957', 'R-HSA-1461973'), ('R-HSA-1462054', 'R-HSA-1461973'), ('R-HSA-1474228', 'R-HSA-1474244'), ('R-HSA-1442490', 'R-HSA-1474228'), ('R-HSA-1592389', 'R-HSA-1474228'), ('R-HSA-1474290', 'R-HSA-1474244'), ('R-HSA-1566948', 'R-HSA-1474244'), ('R-HSA-1566977', 'R-HSA-1474244'), ('R-HSA-216083', 'R-HSA-1474244'), ('R-HSA-3000157', 'R-HSA-1474244'), ('R-HSA-3000171', 'R-HSA-1474244'), ('R-HSA-3000178', 'R-HSA-1474244'), ('R-HSA-8941237', 'R-HSA-1474244'), ('R-HSA-1650814', 'R-HSA-1474290'), ('R-HSA-2022090', 'R-HSA-1474290'), ('R-HSA-174403', 'R-HSA-156590'), ('R-HSA-2129379', 'R-HSA-1566948'), ('R-HSA-156902', 'R-HSA-156842'), ('R-HSA-1614558', 'R-HSA-1614635'), ('R-HSA-1614517', 'R-HSA-1614558'), ('R-HSA-1237112', 'R-HSA-1614635'), ('R-HSA-1614603', 'R-HSA-1614635'), ('R-HSA-162589', 'R-HSA-162594'), ('R-HSA-164516', 'R-HSA-162589'), ('R-HSA-164525', 'R-HSA-162589'), ('R-HSA-162592', 'R-HSA-162594'), ('R-HSA-164843', 'R-HSA-162592'), ('R-HSA-175567', 'R-HSA-162592'), ('R-HSA-177539', 'R-HSA-162592'), ('R-HSA-162585', 'R-HSA-162594'), ('R-HSA-173107', 'R-HSA-162594'), ('R-HSA-162699', 'R-HSA-163125'), ('R-HSA-162710', 'R-HSA-163125'), ('R-HSA-162791', 'R-HSA-163125'), ('R-HSA-9663891', 'R-HSA-1632852'), ('R-HSA-8948216', 'R-HSA-1650814'), ('R-HSA-165181', 'R-HSA-165159'), ('R-HSA-166208', 'R-HSA-165159'), ('R-HSA-380972', 'R-HSA-165159'), ('R-HSA-166020', 'R-HSA-166016'), ('R-HSA-166058', 'R-HSA-166016'), ('R-HSA-166058', 'R-HSA-168179'), ('R-HSA-166058', 'R-HSA-168188'), ('R-HSA-166166', 'R-HSA-166016'), ('R-HSA-445989', 'R-HSA-166058'), ('R-HSA-445989', 'R-HSA-937061'), ('R-HSA-445989', 'R-HSA-9020702'), ('R-HSA-450294', 'R-HSA-166058'), ('R-HSA-450294', 'R-HSA-937061'), ('R-HSA-937039', 'R-HSA-166058'), ('R-HSA-937042', 'R-HSA-166058'), ('R-HSA-937061', 'R-HSA-166166'), ('R-HSA-166662', 'R-HSA-166786'), ('R-HSA-2855086', 'R-HSA-166662'), ('R-HSA-166786', 'R-HSA-166663'), ('R-HSA-173736', 'R-HSA-166663'), ('R-HSA-173623', 'R-HSA-166786'), ('R-HSA-168874', 'R-HSA-168316'), ('R-HSA-918233', 'R-HSA-168928'), ('R-HSA-933541', 'R-HSA-168928'), ('R-HSA-933542', 'R-HSA-168928'), ('R-HSA-933543', 'R-HSA-168928'), ('R-HSA-936440', 'R-HSA-168928'), ('R-HSA-174495', 'R-HSA-175474'), ('R-HSA-174490', 'R-HSA-174495'), ('R-HSA-171286', 'R-HSA-175474'), ('R-HSA-186763', 'R-HSA-186797'), ('R-HSA-190704', 'R-HSA-190861'), ('R-HSA-190827', 'R-HSA-190861'), ('R-HSA-190872', 'R-HSA-190861'), ('R-HSA-190840', 'R-HSA-190872'), ('R-HSA-196025', 'R-HSA-190873'), ('R-HSA-9911233', 'R-HSA-1912408'), ('R-HSA-196299', 'R-HSA-195253'), ('R-HSA-4641265', 'R-HSA-195253'), ('R-HSA-197264', 'R-HSA-196807'), ('R-HSA-198753', 'R-HSA-450282'), ('R-HSA-202670', 'R-HSA-198753'), ('R-HSA-196783', 'R-HSA-199220'), ('R-HSA-4411364', 'R-HSA-201722'), ('R-HSA-2214320', 'R-HSA-2022090'), ('R-HSA-2243919', 'R-HSA-2022090'), ('R-HSA-210990', 'R-HSA-202733'), ('R-HSA-210991', 'R-HSA-202733'), ('R-HSA-210993', 'R-HSA-202733'), ('R-HSA-211897', 'R-HSA-211945'), ('R-HSA-211916', 'R-HSA-211897'), ('R-HSA-211935', 'R-HSA-211897'), ('R-HSA-211958', 'R-HSA-211897'), ('R-HSA-211976', 'R-HSA-211897'), ('R-HSA-211979', 'R-HSA-211897'), ('R-HSA-211981', 'R-HSA-211897'), ('R-HSA-140180', 'R-HSA-211945'), ('R-HSA-217271', 'R-HSA-211945'), ('R-HSA-71384', 'R-HSA-211945'), ('R-HSA-8937144', 'R-HSA-211945'), ('R-HSA-211994', 'R-HSA-211976'), ('R-HSA-211957', 'R-HSA-211981'), ('R-HSA-211999', 'R-HSA-211981'), ('R-HSA-2424491', 'R-HSA-2172127'), ('R-HSA-2173788', 'R-HSA-2173789'), ('R-HSA-2428924', 'R-HSA-2404192'), ('R-HSA-2428928', 'R-HSA-2428924'), ('R-HSA-2428933', 'R-HSA-2428924'), ('R-HSA-2730905', 'R-HSA-2454202'), ('R-HSA-2871796', 'R-HSA-2454202'), ('R-HSA-2871809', 'R-HSA-2454202'), ('R-HSA-2871837', 'R-HSA-2454202'), ('R-HSA-2559584', 'R-HSA-2559586'), ('R-HSA-3295583', 'R-HSA-2672351'), ('R-HSA-3000170', 'R-HSA-3000171'), ('R-HSA-9913351', 'R-HSA-3000171'), ('R-HSA-3371568', 'R-HSA-3371571'), ('R-HSA-354192', 'R-HSA-76009'), ('R-HSA-354194', 'R-HSA-354192'), ('R-HSA-372708', 'R-HSA-354192'), ('R-HSA-376172', 'R-HSA-373752'), ('R-HSA-418885', 'R-HSA-373752'), ('R-HSA-418886', 'R-HSA-373752'), ('R-HSA-418890', 'R-HSA-373752'), ('R-HSA-437239', 'R-HSA-373760'), ('R-HSA-445095', 'R-HSA-373760'), ('R-HSA-445144', 'R-HSA-373760'), ('R-HSA-447038', 'R-HSA-373760'), ('R-HSA-447041', 'R-HSA-373760'), ('R-HSA-447043', 'R-HSA-373760'), ('R-HSA-380095', 'R-HSA-375276'), ('R-HSA-380108', 'R-HSA-375276'), ('R-HSA-388479', 'R-HSA-375276'), ('R-HSA-389397', 'R-HSA-375276'), ('R-HSA-444473', 'R-HSA-375276'), ('R-HSA-444821', 'R-HSA-375276'), ('R-HSA-428540', 'R-HSA-376176'), ('R-HSA-428542', 'R-HSA-376176'), ('R-HSA-428543', 'R-HSA-376176'), ('R-HSA-428890', 'R-HSA-376176'), ('R-HSA-8985586', 'R-HSA-376176'), ('R-HSA-8985801', 'R-HSA-376176'), ('R-HSA-9010553', 'R-HSA-376176'), ('R-HSA-9010642', 'R-HSA-376176'), ('R-HSA-379397', 'R-HSA-379401'), ('R-HSA-379398', 'R-HSA-379401'), ('R-HSA-380259', 'R-HSA-380284'), ('R-HSA-380612', 'R-HSA-380615'), ('R-HSA-381183', 'R-HSA-381033'), ('R-HSA-380994', 'R-HSA-381042'), ('R-HSA-381038', 'R-HSA-381070'), ('R-HSA-1369007', 'R-HSA-382556'), ('R-HSA-1369062', 'R-HSA-382556'), ('R-HSA-6783984', 'R-HSA-389661'), ('R-HSA-1989781', 'R-HSA-400206'), ('R-HSA-4608870', 'R-HSA-4086400'), ('R-HSA-5099900', 'R-HSA-4086400'), ('R-HSA-5140745', 'R-HSA-4086400'), ('R-HSA-881907', 'R-HSA-416476'), ('R-HSA-420597', 'R-HSA-418990'), ('R-HSA-9759476', 'R-HSA-418990'), ('R-HSA-435354', 'R-HSA-425410'), ('R-HSA-435368', 'R-HSA-435354'), ('R-HSA-442380', 'R-HSA-435354'), ('R-HSA-5218920', 'R-HSA-4420097'), ('R-HSA-5218921', 'R-HSA-4420097'), ('R-HSA-9758274', 'R-HSA-445989'), ('R-HSA-446343', 'R-HSA-446353'), ('R-HSA-446388', 'R-HSA-446353'), ('R-HSA-450282', 'R-HSA-450294'), ('R-HSA-199920', 'R-HSA-450282'), ('R-HSA-450341', 'R-HSA-450282'), ('R-HSA-450302', 'R-HSA-450294'), ('R-HSA-450321', 'R-HSA-450294'), ('R-HSA-5684264', 'R-HSA-450294'), ('R-HSA-5684264', 'R-HSA-9020702'), ('R-HSA-912526', 'R-HSA-512988'), ('R-HSA-912631', 'R-HSA-512988'), ('R-HSA-5173214', 'R-HSA-5173105'), ('R-HSA-913709', 'R-HSA-5173105'), ('R-HSA-5205647', 'R-HSA-9663891'), ('R-HSA-5205685', 'R-HSA-5205647'), ('R-HSA-8934903', 'R-HSA-5205647'), ('R-HSA-901042', 'R-HSA-532668'), ('R-HSA-5362798', 'R-HSA-5358346'), ('R-HSA-5607761', 'R-HSA-5607764'), ('R-HSA-5607763', 'R-HSA-5607764'), ('R-HSA-5660668', 'R-HSA-5607764'), ('R-HSA-5610780', 'R-HSA-5610787'), ('R-HSA-5610783', 'R-HSA-5610787'), ('R-HSA-5610785', 'R-HSA-5610787'), ('R-HSA-5620912', 'R-HSA-5617833'), ('R-HSA-5620920', 'R-HSA-5617833'), ('R-HSA-5620924', 'R-HSA-5617833'), ('R-HSA-5620916', 'R-HSA-5620920'), ('R-HSA-5620922', 'R-HSA-5620920'), ('R-HSA-5624138', 'R-HSA-5620920'), ('R-HSA-5624958', 'R-HSA-5620920'), ('R-HSA-5625886', 'R-HSA-5625740'), ('R-HSA-5632681', 'R-HSA-5632684'), ('R-HSA-5635838', 'R-HSA-5632684'), ('R-HSA-5635851', 'R-HSA-5632684'), ('R-HSA-5669034', 'R-HSA-5668541'), ('R-HSA-5676590', 'R-HSA-5668541'), ('R-HSA-5676594', 'R-HSA-5668541'), ('R-HSA-5674499', 'R-HSA-5675221'), ('R-HSA-5218900', 'R-HSA-5675482'), ('R-HSA-6799198', 'R-HSA-611105'), ('R-HSA-9856872', 'R-HSA-611105'), ('R-HSA-9864848', 'R-HSA-611105'), ('R-HSA-9865881', 'R-HSA-611105'), ('R-HSA-6799990', 'R-HSA-6803157'), ('R-HSA-6803544', 'R-HSA-6803157'), ('R-HSA-6809371', 'R-HSA-6805567'), ('R-HSA-68616', 'R-HSA-68867'), ('R-HSA-68689', 'R-HSA-68867'), ('R-HSA-2500257', 'R-HSA-68877'), ('R-HSA-2514853', 'R-HSA-68877'), ('R-HSA-380320', 'R-HSA-68877'), ('R-HSA-9648025', 'R-HSA-68877'), ('R-HSA-69473', 'R-HSA-69481'), ('R-HSA-75035', 'R-HSA-69473'), ('R-HSA-176187', 'R-HSA-69481'), ('R-HSA-69478', 'R-HSA-69481'), ('R-HSA-170822', 'R-HSA-70171'), ('R-HSA-9634600', 'R-HSA-70171'), ('R-HSA-9861559', 'R-HSA-70268'), ('R-HSA-9861718', 'R-HSA-70268'), ('R-HSA-9859138', 'R-HSA-70895'), ('R-HSA-73843', 'R-HSA-71336'), ('R-HSA-9853506', 'R-HSA-71403'), ('R-HSA-9854311', 'R-HSA-71403'), ('R-HSA-392023', 'R-HSA-76009'), ('R-HSA-77286', 'R-HSA-77289'), ('R-HSA-77285', 'R-HSA-77286'), ('R-HSA-77305', 'R-HSA-77286'), ('R-HSA-77310', 'R-HSA-77286'), ('R-HSA-77346', 'R-HSA-77286'), ('R-HSA-77348', 'R-HSA-77286'), ('R-HSA-77350', 'R-HSA-77286'), ('R-HSA-77352', 'R-HSA-77286'), ('R-HSA-71032', 'R-HSA-77289'), ('R-HSA-77288', 'R-HSA-77289'), ('R-HSA-877312', 'R-HSA-877300'), ('R-HSA-9732724', 'R-HSA-877300'), ('R-HSA-2179392', 'R-HSA-881907'), ('R-HSA-8856825', 'R-HSA-8856828'), ('R-HSA-1358803', 'R-HSA-8863795'), ('R-HSA-8866904', 'R-HSA-8864260'), ('R-HSA-8866906', 'R-HSA-8864260'), ('R-HSA-8866907', 'R-HSA-8864260'), ('R-HSA-8866910', 'R-HSA-8864260'), ('R-HSA-8866911', 'R-HSA-8864260'), ('R-HSA-8869496', 'R-HSA-8864260'), ('R-HSA-888568', 'R-HSA-888590'), ('R-HSA-888593', 'R-HSA-888590'), ('R-HSA-916853', 'R-HSA-888590'), ('R-HSA-9009391', 'R-HSA-8939211'), ('R-HSA-9018519', 'R-HSA-8939211'), ('R-HSA-9634635', 'R-HSA-9009391'), ('R-HSA-9634638', 'R-HSA-9009391'), ('R-HSA-901032', 'R-HSA-901042'), ('R-HSA-8950505', 'R-HSA-9020591'), ('R-HSA-9033500', 'R-HSA-9033241'), ('R-HSA-977068', 'R-HSA-913709'), ('R-HSA-917977', 'R-HSA-917937'), ('R-HSA-936964', 'R-HSA-937061'), ('R-HSA-9824878', 'R-HSA-936964'), ('R-HSA-2562578', 'R-HSA-937061'), ('R-HSA-937041', 'R-HSA-937061'), ('R-HSA-937072', 'R-HSA-937061'), ('R-HSA-9667769', 'R-HSA-9662361'), ('R-HSA-9613354', 'R-HSA-9663891'), ('R-HSA-9646399', 'R-HSA-9663891'), ('R-HSA-9664873', 'R-HSA-9663891'), ('R-HSA-9683439', 'R-HSA-9679504'), ('R-HSA-9684325', 'R-HSA-9679504'), ('R-HSA-9694271', 'R-HSA-9694676'), ('R-HSA-9694301', 'R-HSA-9694676'), ('R-HSA-9707587', 'R-HSA-9707564'), ('R-HSA-9725371', 'R-HSA-9725370'), ('R-HSA-9708530', 'R-HSA-9755511'), ('R-HSA-9759194', 'R-HSA-9755511'), ('R-HSA-9762114', 'R-HSA-9759194'), ('R-HSA-9818025', 'R-HSA-9759194'), ('R-HSA-9818026', 'R-HSA-9759194'), ('R-HSA-9818027', 'R-HSA-9759194'), ('R-HSA-9818028', 'R-HSA-9759194'), ('R-HSA-9818030', 'R-HSA-9759194'), ('R-HSA-9818032', 'R-HSA-9759194'), ('R-HSA-9818035', 'R-HSA-9759194'), ('R-HSA-9818749', 'R-HSA-9759194'), ('R-HSA-9759475', 'R-HSA-9764260'), ('R-HSA-9759811', 'R-HSA-9759475'), ('R-HSA-9762292', 'R-HSA-9759475'), ('R-HSA-9762293', 'R-HSA-9759475'), ('R-HSA-9764260', 'R-HSA-9759476'), ('R-HSA-9833576', 'R-HSA-9762292'), ('R-HSA-9764302', 'R-HSA-9764260'), ('R-HSA-983189', 'R-HSA-983231'), ('R-HSA-9833109', 'R-HSA-9833110'), ('R-HSA-204174', 'R-HSA-9861718'), ('output_node', 'R-HSA-165160'), ('output_node', 'R-HSA-165158'), ('output_node', 'R-HSA-180024'), ('output_node', 'R-HSA-202040'), ('output_node', 'R-HSA-163615'), ('output_node', 'R-HSA-111932'), ('output_node', 'R-HSA-111957'), ('output_node', 'R-HSA-111995'), ('output_node', 'R-HSA-170660'), ('output_node', 'R-HSA-170670'), ('output_node', 'R-HSA-112412'), ('output_node', 'R-HSA-426048'), ('output_node', 'R-HSA-1250196'), ('output_node', 'R-HSA-1251932'), ('output_node', 'R-HSA-1306955'), ('output_node', 'R-HSA-1963640'), ('output_node', 'R-HSA-1963642'), ('output_node', 'R-HSA-6785631'), ('output_node', 'R-HSA-8847993'), ('output_node', 'R-HSA-9652282'), ('output_node', 'R-HSA-141333'), ('output_node', 'R-HSA-141334'), ('output_node', 'R-HSA-3371378'), ('output_node', 'R-HSA-69416'), ('output_node', 'R-HSA-1433559'), ('output_node', 'R-HSA-1461957'), ('output_node', 'R-HSA-1462054'), ('output_node', 'R-HSA-1442490'), ('output_node', 'R-HSA-1592389'), ('output_node', 'R-HSA-1566977'), ('output_node', 'R-HSA-216083'), ('output_node', 'R-HSA-3000157'), ('output_node', 'R-HSA-3000178'), ('output_node', 'R-HSA-8941237'), ('output_node', 'R-HSA-174403'), ('output_node', 'R-HSA-2129379'), ('output_node', 'R-HSA-156902'), ('output_node', 'R-HSA-1614517'), ('output_node', 'R-HSA-1237112'), ('output_node', 'R-HSA-1614603'), ('output_node', 'R-HSA-164516'), ('output_node', 'R-HSA-164525'), ('output_node', 'R-HSA-164843'), ('output_node', 'R-HSA-175567'), ('output_node', 'R-HSA-177539'), ('output_node', 'R-HSA-162585'), ('output_node', 'R-HSA-173107'), ('output_node', 'R-HSA-162699'), ('output_node', 'R-HSA-162710'), ('output_node', 'R-HSA-162791'), ('output_node', 'R-HSA-8948216'), ('output_node', 'R-HSA-165181'), ('output_node', 'R-HSA-166208'), ('output_node', 'R-HSA-380972'), ('output_node', 'R-HSA-166020'), ('output_node', 'R-HSA-937039'), ('output_node', 'R-HSA-937042'), ('output_node', 'R-HSA-2855086'), ('output_node', 'R-HSA-173736'), ('output_node', 'R-HSA-173623'), ('output_node', 'R-HSA-168874'), ('output_node', 'R-HSA-918233'), ('output_node', 'R-HSA-933541'), ('output_node', 'R-HSA-933542'), ('output_node', 'R-HSA-933543'), ('output_node', 'R-HSA-936440'), ('output_node', 'R-HSA-174490'), ('output_node', 'R-HSA-171286'), ('output_node', 'R-HSA-186763'), ('output_node', 'R-HSA-190704'), ('output_node', 'R-HSA-190827'), ('output_node', 'R-HSA-190840'), ('output_node', 'R-HSA-196025'), ('output_node', 'R-HSA-9911233'), ('output_node', 'R-HSA-196299'), ('output_node', 'R-HSA-4641265'), ('output_node', 'R-HSA-197264'), ('output_node', 'R-HSA-202670'), ('output_node', 'R-HSA-196783'), ('output_node', 'R-HSA-4411364'), ('output_node', 'R-HSA-2214320'), ('output_node', 'R-HSA-2243919'), ('output_node', 'R-HSA-210990'), ('output_node', 'R-HSA-210991'), ('output_node', 'R-HSA-210993'), ('output_node', 'R-HSA-211916'), ('output_node', 'R-HSA-211935'), ('output_node', 'R-HSA-211958'), ('output_node', 'R-HSA-211979'), ('output_node', 'R-HSA-140180'), ('output_node', 'R-HSA-217271'), ('output_node', 'R-HSA-71384'), ('output_node', 'R-HSA-8937144'), ('output_node', 'R-HSA-211994'), ('output_node', 'R-HSA-211957'), ('output_node', 'R-HSA-211999'), ('output_node', 'R-HSA-2424491'), ('output_node', 'R-HSA-2173788'), ('output_node', 'R-HSA-2428933'), ('output_node', 'R-HSA-2730905'), ('output_node', 'R-HSA-2871796'), ('output_node', 'R-HSA-2871809'), ('output_node', 'R-HSA-2871837'), ('output_node', 'R-HSA-2559584'), ('output_node', 'R-HSA-3295583'), ('output_node', 'R-HSA-3000170'), ('output_node', 'R-HSA-9913351'), ('output_node', 'R-HSA-3371568'), ('output_node', 'R-HSA-354194'), ('output_node', 'R-HSA-372708'), ('output_node', 'R-HSA-376172'), ('output_node', 'R-HSA-418885'), ('output_node', 'R-HSA-418886'), ('output_node', 'R-HSA-418890'), ('output_node', 'R-HSA-437239'), ('output_node', 'R-HSA-445095'), ('output_node', 'R-HSA-445144'), ('output_node', 'R-HSA-447038'), ('output_node', 'R-HSA-447041'), ('output_node', 'R-HSA-447043'), ('output_node', 'R-HSA-380095'), ('output_node', 'R-HSA-380108'), ('output_node', 'R-HSA-388479'), ('output_node', 'R-HSA-389397'), ('output_node', 'R-HSA-444473'), ('output_node', 'R-HSA-444821'), ('output_node', 'R-HSA-428540'), ('output_node', 'R-HSA-428542'), ('output_node', 'R-HSA-428543'), ('output_node', 'R-HSA-428890'), ('output_node', 'R-HSA-8985586'), ('output_node', 'R-HSA-8985801'), ('output_node', 'R-HSA-9010553'), ('output_node', 'R-HSA-9010642'), ('output_node', 'R-HSA-379397'), ('output_node', 'R-HSA-379398'), ('output_node', 'R-HSA-380259'), ('output_node', 'R-HSA-380612'), ('output_node', 'R-HSA-381183'), ('output_node', 'R-HSA-380994'), ('output_node', 'R-HSA-381038'), ('output_node', 'R-HSA-1369007'), ('output_node', 'R-HSA-1369062'), ('output_node', 'R-HSA-6783984'), ('output_node', 'R-HSA-1989781'), ('output_node', 'R-HSA-4608870'), ('output_node', 'R-HSA-5099900'), ('output_node', 'R-HSA-5140745'), ('output_node', 'R-HSA-420597'), ('output_node', 'R-HSA-435368'), ('output_node', 'R-HSA-442380'), ('output_node', 'R-HSA-5218920'), ('output_node', 'R-HSA-5218921'), ('output_node', 'R-HSA-9758274'), ('output_node', 'R-HSA-446343'), ('output_node', 'R-HSA-446388'), ('output_node', 'R-HSA-199920'), ('output_node', 'R-HSA-450341'), ('output_node', 'R-HSA-450302'), ('output_node', 'R-HSA-450321'), ('output_node', 'R-HSA-5684264'), ('output_node', 'R-HSA-912526'), ('output_node', 'R-HSA-912631'), ('output_node', 'R-HSA-5173214'), ('output_node', 'R-HSA-5205685'), ('output_node', 'R-HSA-8934903'), ('output_node', 'R-HSA-5362798'), ('output_node', 'R-HSA-5607761'), ('output_node', 'R-HSA-5607763'), ('output_node', 'R-HSA-5660668'), ('output_node', 'R-HSA-5610780'), ('output_node', 'R-HSA-5610783'), ('output_node', 'R-HSA-5610785'), ('output_node', 'R-HSA-5620912'), ('output_node', 'R-HSA-5620924'), ('output_node', 'R-HSA-5620916'), ('output_node', 'R-HSA-5620922'), ('output_node', 'R-HSA-5624138'), ('output_node', 'R-HSA-5624958'), ('output_node', 'R-HSA-5625886'), ('output_node', 'R-HSA-5632681'), ('output_node', 'R-HSA-5635838'), ('output_node', 'R-HSA-5635851'), ('output_node', 'R-HSA-5669034'), ('output_node', 'R-HSA-5676590'), ('output_node', 'R-HSA-5676594'), ('output_node', 'R-HSA-5674499'), ('output_node', 'R-HSA-5218900'), ('output_node', 'R-HSA-6799198'), ('output_node', 'R-HSA-9856872'), ('output_node', 'R-HSA-9864848'), ('output_node', 'R-HSA-9865881'), ('output_node', 'R-HSA-6799990'), ('output_node', 'R-HSA-6803544'), ('output_node', 'R-HSA-6809371'), ('output_node', 'R-HSA-68616'), ('output_node', 'R-HSA-68689'), ('output_node', 'R-HSA-2500257'), ('output_node', 'R-HSA-2514853'), ('output_node', 'R-HSA-380320'), ('output_node', 'R-HSA-9648025'), ('output_node', 'R-HSA-75035'), ('output_node', 'R-HSA-176187'), ('output_node', 'R-HSA-69478'), ('output_node', 'R-HSA-170822'), ('output_node', 'R-HSA-9634600'), ('output_node', 'R-HSA-9861559'), ('output_node', 'R-HSA-9859138'), ('output_node', 'R-HSA-73843'), ('output_node', 'R-HSA-9853506'), ('output_node', 'R-HSA-9854311'), ('output_node', 'R-HSA-392023'), ('output_node', 'R-HSA-77285'), ('output_node', 'R-HSA-77305'), ('output_node', 'R-HSA-77310'), ('output_node', 'R-HSA-77346'), ('output_node', 'R-HSA-77348'), ('output_node', 'R-HSA-77350'), ('output_node', 'R-HSA-77352'), ('output_node', 'R-HSA-71032'), ('output_node', 'R-HSA-77288'), ('output_node', 'R-HSA-877312'), ('output_node', 'R-HSA-9732724'), ('output_node', 'R-HSA-2179392'), ('output_node', 'R-HSA-8856825'), ('output_node', 'R-HSA-1358803'), ('output_node', 'R-HSA-8866904'), ('output_node', 'R-HSA-8866906'), ('output_node', 'R-HSA-8866907'), ('output_node', 'R-HSA-8866910'), ('output_node', 'R-HSA-8866911'), ('output_node', 'R-HSA-8869496'), ('output_node', 'R-HSA-888568'), ('output_node', 'R-HSA-888593'), ('output_node', 'R-HSA-916853'), ('output_node', 'R-HSA-9018519'), ('output_node', 'R-HSA-9634635'), ('output_node', 'R-HSA-9634638'), ('output_node', 'R-HSA-901032'), ('output_node', 'R-HSA-8950505'), ('output_node', 'R-HSA-9033500'), ('output_node', 'R-HSA-977068'), ('output_node', 'R-HSA-917977'), ('output_node', 'R-HSA-9824878'), ('output_node', 'R-HSA-2562578'), ('output_node', 'R-HSA-937041'), ('output_node', 'R-HSA-937072'), ('output_node', 'R-HSA-9667769'), ('output_node', 'R-HSA-9613354'), ('output_node', 'R-HSA-9646399'), ('output_node', 'R-HSA-9664873'), ('output_node', 'R-HSA-9683439'), ('output_node', 'R-HSA-9684325'), ('output_node', 'R-HSA-9694271'), ('output_node', 'R-HSA-9694301'), ('output_node', 'R-HSA-9707587'), ('output_node', 'R-HSA-9725371'), ('output_node', 'R-HSA-9708530'), ('output_node', 'R-HSA-9762114'), ('output_node', 'R-HSA-9818025'), ('output_node', 'R-HSA-9818026'), ('output_node', 'R-HSA-9818027'), ('output_node', 'R-HSA-9818028'), ('output_node', 'R-HSA-9818030'), ('output_node', 'R-HSA-9818032'), ('output_node', 'R-HSA-9818035'), ('output_node', 'R-HSA-9818749'), ('output_node', 'R-HSA-9759811'), ('output_node', 'R-HSA-9762293'), ('output_node', 'R-HSA-9833576'), ('output_node', 'R-HSA-9764302'), ('output_node', 'R-HSA-983189'), ('output_node', 'R-HSA-9833109'), ('output_node', 'R-HSA-204174')])"
      ]
     },
     "execution_count": 2,
     "metadata": {},
     "output_type": "execute_result"
    }
   ],
   "source": [
    "from binn import PathwayNetwork\n",
    "\n",
    "network = PathwayNetwork(\n",
    "    input_data=input_entities,\n",
    "    pathways=pathways,\n",
    "    mapping=mapping,\n",
    ")\n",
    "\n",
    "network.pathway_graph.edges()"
   ]
  },
  {
   "attachments": {},
   "cell_type": "markdown",
   "metadata": {},
   "source": [
    "The BINN is implemented in PyTorch Lightning and takes a datamatrix as minimal input. If we have `use_reactome=True` we will use default reactome database to build the graph. Alternatively, we can provide arguments to supply our own pathways and mapping."
   ]
  },
  {
   "cell_type": "code",
   "execution_count": 6,
   "metadata": {},
   "outputs": [
    {
     "name": "stdout",
     "output_type": "stream",
     "text": [
      "\n",
      "BINN is on the device: cpu\n",
      "Sequential(\n",
      "  (Layer_0): Linear(in_features=448, out_features=471, bias=True)\n",
      "  (BatchNorm_0): BatchNorm1d(471, eps=1e-05, momentum=0.1, affine=True, track_running_stats=True)\n",
      "  (Dropout_0): Dropout(p=0.2, inplace=False)\n",
      "  (Tanh 0): Tanh()\n",
      "  (Layer_1): Linear(in_features=471, out_features=306, bias=True)\n",
      "  (BatchNorm_1): BatchNorm1d(306, eps=1e-05, momentum=0.1, affine=True, track_running_stats=True)\n",
      "  (Dropout_1): Dropout(p=0.2, inplace=False)\n",
      "  (Tanh 1): Tanh()\n",
      "  (Layer_2): Linear(in_features=306, out_features=125, bias=True)\n",
      "  (BatchNorm_2): BatchNorm1d(125, eps=1e-05, momentum=0.1, affine=True, track_running_stats=True)\n",
      "  (Dropout_2): Dropout(p=0.2, inplace=False)\n",
      "  (Tanh 2): Tanh()\n",
      "  (Layer_3): Linear(in_features=125, out_features=28, bias=True)\n",
      "  (BatchNorm_3): BatchNorm1d(28, eps=1e-05, momentum=0.1, affine=True, track_running_stats=True)\n",
      "  (Dropout_3): Dropout(p=0.2, inplace=False)\n",
      "  (Tanh 3): Tanh()\n",
      "  (Output): Linear(in_features=28, out_features=2, bias=True)\n",
      ")\n",
      "\n",
      "BINN is on the device: cpu\n"
     ]
    },
    {
     "data": {
      "text/plain": [
       "Sequential(\n",
       "  (Layer_0): Linear(in_features=448, out_features=471, bias=True)\n",
       "  (BatchNorm_0): BatchNorm1d(471, eps=1e-05, momentum=0.1, affine=True, track_running_stats=True)\n",
       "  (Dropout_0): Dropout(p=0, inplace=False)\n",
       "  (Tanh 0): Tanh()\n",
       "  (Layer_1): Linear(in_features=471, out_features=306, bias=True)\n",
       "  (BatchNorm_1): BatchNorm1d(306, eps=1e-05, momentum=0.1, affine=True, track_running_stats=True)\n",
       "  (Dropout_1): Dropout(p=0, inplace=False)\n",
       "  (Tanh 1): Tanh()\n",
       "  (Layer_2): Linear(in_features=306, out_features=125, bias=True)\n",
       "  (BatchNorm_2): BatchNorm1d(125, eps=1e-05, momentum=0.1, affine=True, track_running_stats=True)\n",
       "  (Dropout_2): Dropout(p=0, inplace=False)\n",
       "  (Tanh 2): Tanh()\n",
       "  (Layer_3): Linear(in_features=125, out_features=28, bias=True)\n",
       "  (BatchNorm_3): BatchNorm1d(28, eps=1e-05, momentum=0.1, affine=True, track_running_stats=True)\n",
       "  (Dropout_3): Dropout(p=0, inplace=False)\n",
       "  (Tanh 3): Tanh()\n",
       "  (Output): Linear(in_features=28, out_features=2, bias=True)\n",
       ")"
      ]
     },
     "execution_count": 6,
     "metadata": {},
     "output_type": "execute_result"
    }
   ],
   "source": [
    "from binn import BINN\n",
    "\n",
    "# Create using reactome (default)\n",
    "binn = BINN(\n",
    "    data_matrix=input_data,\n",
    "    use_reactome=True,\n",
    "    n_layers=4,\n",
    "    dropout=0.2,\n",
    "    validate=False,\n",
    ")\n",
    "\n",
    "print(binn.layers)\n",
    "\n",
    "# or custom pathways and mapping\n",
    "mapping = pd.read_csv(\n",
    "    \"../data/uniprot_2_reactome_2025_01_14.txt\",\n",
    "    sep=\"\\t\",\n",
    "    header=None,\n",
    "    names=[\"input\", \"translation\", \"url\", \"name\", \"x\", \"species\"],\n",
    ")\n",
    "pathways = pd.read_csv(\n",
    "    \"../data/reactome_pathways_relation_2025_01_14.txt\",\n",
    "    sep=\"\\t\",\n",
    "    header=None,\n",
    "    names=[\"target\", \"source\"],\n",
    ")\n",
    "\n",
    "binn = BINN(data_matrix=input_data, mapping=mapping, pathways=pathways)\n",
    "\n",
    "binn.layers"
   ]
  },
  {
   "cell_type": "markdown",
   "metadata": {},
   "source": [
    "We can also build an ensemble of heads, in which the output of each layer in the network is passed through a linear layer before being summed in the end."
   ]
  },
  {
   "cell_type": "code",
   "execution_count": 8,
   "metadata": {},
   "outputs": [
    {
     "name": "stdout",
     "output_type": "stream",
     "text": [
      "\n",
      "BINN is on the device: cpu\n"
     ]
    },
    {
     "data": {
      "text/plain": [
       "EnsembleHeads(\n",
       "  (blocks): ModuleList(\n",
       "    (0): Sequential(\n",
       "      (Linear_0): Linear(in_features=448, out_features=471, bias=True)\n",
       "      (BatchNorm_0): BatchNorm1d(471, eps=1e-05, momentum=0.1, affine=True, track_running_stats=True)\n",
       "      (Activation_0): Tanh()\n",
       "    )\n",
       "    (1): Sequential(\n",
       "      (Linear_1): Linear(in_features=471, out_features=306, bias=True)\n",
       "      (BatchNorm_1): BatchNorm1d(306, eps=1e-05, momentum=0.1, affine=True, track_running_stats=True)\n",
       "      (Activation_1): Tanh()\n",
       "    )\n",
       "    (2): Sequential(\n",
       "      (Linear_2): Linear(in_features=306, out_features=125, bias=True)\n",
       "      (BatchNorm_2): BatchNorm1d(125, eps=1e-05, momentum=0.1, affine=True, track_running_stats=True)\n",
       "      (Activation_2): Tanh()\n",
       "    )\n",
       "    (3): Sequential(\n",
       "      (Linear_3): Linear(in_features=125, out_features=28, bias=True)\n",
       "      (BatchNorm_3): BatchNorm1d(28, eps=1e-05, momentum=0.1, affine=True, track_running_stats=True)\n",
       "      (Activation_3): Tanh()\n",
       "    )\n",
       "  )\n",
       "  (heads): ModuleList(\n",
       "    (0): Sequential(\n",
       "      (0): Linear(in_features=471, out_features=2, bias=True)\n",
       "      (1): Sigmoid()\n",
       "    )\n",
       "    (1): Sequential(\n",
       "      (0): Linear(in_features=306, out_features=2, bias=True)\n",
       "      (1): Sigmoid()\n",
       "    )\n",
       "    (2): Sequential(\n",
       "      (0): Linear(in_features=125, out_features=2, bias=True)\n",
       "      (1): Sigmoid()\n",
       "    )\n",
       "    (3): Sequential(\n",
       "      (0): Linear(in_features=28, out_features=2, bias=True)\n",
       "      (1): Sigmoid()\n",
       "    )\n",
       "  )\n",
       ")"
      ]
     },
     "execution_count": 8,
     "metadata": {},
     "output_type": "execute_result"
    }
   ],
   "source": [
    "binn = BINN(\n",
    "    data_matrix=input_data,\n",
    "    use_reactome=True,\n",
    "    heads_ensemble=True,\n",
    "    n_layers=4,\n",
    "    dropout=0.2,\n",
    "    validate=False,\n",
    ")\n",
    "\n",
    "binn.layers"
   ]
  },
  {
   "cell_type": "code",
   "execution_count": 4,
   "metadata": {},
   "outputs": [
    {
     "data": {
      "text/plain": [
       "np.float64(4920.0)"
      ]
     },
     "execution_count": 4,
     "metadata": {},
     "output_type": "execute_result"
    }
   ],
   "source": [
    "binn.trainable_params"
   ]
  },
  {
   "attachments": {},
   "cell_type": "markdown",
   "metadata": {},
   "source": [
    "Looking at the layer names, we see that these correspond to the input and intermediary layers in the model."
   ]
  },
  {
   "cell_type": "code",
   "execution_count": 5,
   "metadata": {},
   "outputs": [
    {
     "data": {
      "text/plain": [
       "np.str_('A0M8Q6')"
      ]
     },
     "execution_count": 5,
     "metadata": {},
     "output_type": "execute_result"
    }
   ],
   "source": [
    "layers = binn.layer_names\n",
    "layers[0][0]"
   ]
  }
 ],
 "metadata": {
  "kernelspec": {
   "display_name": ".venv",
   "language": "python",
   "name": "python3"
  },
  "language_info": {
   "codemirror_mode": {
    "name": "ipython",
    "version": 3
   },
   "file_extension": ".py",
   "mimetype": "text/x-python",
   "name": "python",
   "nbconvert_exporter": "python",
   "pygments_lexer": "ipython3",
   "version": "3.10.15"
  },
  "orig_nbformat": 4
 },
 "nbformat": 4,
 "nbformat_minor": 2
}
