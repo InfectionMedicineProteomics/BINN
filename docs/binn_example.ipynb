{
 "cells": [
  {
   "attachments": {},
   "cell_type": "markdown",
   "metadata": {},
   "source": [
    "# Creating a BINN\n",
    "\n",
    "This notebook demonstrates some examples on how a BINN can be created and trained.\n",
    "\n",
    "The method begins with constructing a directed graph representing biological pathways, mapping input features (e.g., proteins or genes) to nodes within the network. This graph is manipulated to produce hierarchical layers and connectivity matrices, which guide the structure of the BINN.\n",
    "\n",
    "If you want to create your own BINN from scratch, you need some input data (`input_data` below) in the form of a pandas dataframe.\n",
    "\n"
   ]
  },
  {
   "cell_type": "code",
   "execution_count": 1,
   "metadata": {},
   "outputs": [
    {
     "name": "stderr",
     "output_type": "stream",
     "text": [
      "/Users/erikhartman/dev/BINN/test-venv/lib/python3.10/site-packages/tqdm/auto.py:21: TqdmWarning: IProgress not found. Please update jupyter and ipywidgets. See https://ipywidgets.readthedocs.io/en/stable/user_install.html\n",
      "  from .autonotebook import tqdm as notebook_tqdm\n"
     ]
    },
    {
     "name": "stdout",
     "output_type": "stream",
     "text": [
      "\n",
      "[INFO] BINN is on device: cpu\n"
     ]
    },
    {
     "data": {
      "text/plain": [
       "BINN(\n",
       "  (layers): Sequential(\n",
       "    (Layer_0): Linear(in_features=448, out_features=471, bias=True)\n",
       "    (BatchNorm_0): BatchNorm1d(471, eps=1e-05, momentum=0.1, affine=True, track_running_stats=True)\n",
       "    (Dropout_0): Dropout(p=0.2, inplace=False)\n",
       "    (Tanh_0): Tanh()\n",
       "    (Layer_1): Linear(in_features=471, out_features=306, bias=True)\n",
       "    (BatchNorm_1): BatchNorm1d(306, eps=1e-05, momentum=0.1, affine=True, track_running_stats=True)\n",
       "    (Dropout_1): Dropout(p=0.2, inplace=False)\n",
       "    (Tanh_1): Tanh()\n",
       "    (Layer_2): Linear(in_features=306, out_features=125, bias=True)\n",
       "    (BatchNorm_2): BatchNorm1d(125, eps=1e-05, momentum=0.1, affine=True, track_running_stats=True)\n",
       "    (Dropout_2): Dropout(p=0.2, inplace=False)\n",
       "    (Tanh_2): Tanh()\n",
       "    (Layer_3): Linear(in_features=125, out_features=28, bias=True)\n",
       "    (BatchNorm_3): BatchNorm1d(28, eps=1e-05, momentum=0.1, affine=True, track_running_stats=True)\n",
       "    (Dropout_3): Dropout(p=0.2, inplace=False)\n",
       "    (Tanh_3): Tanh()\n",
       "    (Output): Linear(in_features=28, out_features=2, bias=True)\n",
       "  )\n",
       ")"
      ]
     },
     "execution_count": 1,
     "metadata": {},
     "output_type": "execute_result"
    }
   ],
   "source": [
    "from binn import BINN\n",
    "import pandas as pd\n",
    "\n",
    "input_data = pd.read_csv(\"../binn/data/sample_datamatrix.csv\")\n",
    "\n",
    "binn = BINN(\n",
    "    data_matrix=input_data,\n",
    "    network_source=\"reactome\",\n",
    "    input_source=\"uniprot\",\n",
    "    n_layers=4,\n",
    "    dropout=0.2,\n",
    ")\n",
    "\n",
    "binn"
   ]
  },
  {
   "attachments": {},
   "cell_type": "markdown",
   "metadata": {},
   "source": [
    "You can also provide your own pathways and mapping to create a PathwayNetwork. The PathwayNetwork is what underlies the pruning of the BINN to create sparsity. The pathway file is a standard edgelist. The mapping maps the input to the edgelist."
   ]
  },
  {
   "cell_type": "code",
   "execution_count": 2,
   "metadata": {},
   "outputs": [
    {
     "data": {
      "text/plain": [
       "('R-HSA-109703', 'R-HSA-109704')"
      ]
     },
     "execution_count": 2,
     "metadata": {},
     "output_type": "execute_result"
    }
   ],
   "source": [
    "from binn import PathwayNetwork\n",
    "\n",
    "mapping = pd.read_csv(\"../binn/data/downloads/uniprot_2_reactome_2025_01_14.txt\", sep=\"\\t\")\n",
    "pathways = pd.read_csv(\"../binn/data/downloads/reactome_pathways_relation_2025_01_14.txt\", sep=\"\\t\")\n",
    "pathways = list(pathways.itertuples(index=False, name=None))\n",
    "mapping = list(mapping.itertuples(index=False, name=None))\n",
    "input_entities = input_data[\"Protein\"].tolist()\n",
    "\n",
    "network = PathwayNetwork(\n",
    "    input_data=input_entities,\n",
    "    pathways=pathways,\n",
    "    mapping=mapping,\n",
    ")\n",
    "\n",
    "list(network.pathway_graph.edges())[0]"
   ]
  },
  {
   "cell_type": "code",
   "execution_count": 3,
   "metadata": {},
   "outputs": [
    {
     "name": "stdout",
     "output_type": "stream",
     "text": [
      "\n",
      "[INFO] BINN is on device: cpu\n"
     ]
    },
    {
     "data": {
      "text/plain": [
       "Sequential(\n",
       "  (Layer_0): Linear(in_features=448, out_features=471, bias=True)\n",
       "  (BatchNorm_0): BatchNorm1d(471, eps=1e-05, momentum=0.1, affine=True, track_running_stats=True)\n",
       "  (Dropout_0): Dropout(p=0, inplace=False)\n",
       "  (Tanh_0): Tanh()\n",
       "  (Layer_1): Linear(in_features=471, out_features=306, bias=True)\n",
       "  (BatchNorm_1): BatchNorm1d(306, eps=1e-05, momentum=0.1, affine=True, track_running_stats=True)\n",
       "  (Dropout_1): Dropout(p=0, inplace=False)\n",
       "  (Tanh_1): Tanh()\n",
       "  (Layer_2): Linear(in_features=306, out_features=125, bias=True)\n",
       "  (BatchNorm_2): BatchNorm1d(125, eps=1e-05, momentum=0.1, affine=True, track_running_stats=True)\n",
       "  (Dropout_2): Dropout(p=0, inplace=False)\n",
       "  (Tanh_2): Tanh()\n",
       "  (Layer_3): Linear(in_features=125, out_features=28, bias=True)\n",
       "  (BatchNorm_3): BatchNorm1d(28, eps=1e-05, momentum=0.1, affine=True, track_running_stats=True)\n",
       "  (Dropout_3): Dropout(p=0, inplace=False)\n",
       "  (Tanh_3): Tanh()\n",
       "  (Output): Linear(in_features=28, out_features=2, bias=True)\n",
       ")"
      ]
     },
     "execution_count": 3,
     "metadata": {},
     "output_type": "execute_result"
    }
   ],
   "source": [
    "\n",
    "# or custom pathways and mapping\n",
    "mapping = pd.read_csv(\n",
    "    \"../binn/data/downloads/uniprot_2_reactome_2025_01_14.txt\",\n",
    "    sep=\"\\t\",\n",
    "    header=None,\n",
    "    names=[\"input\", \"translation\", \"url\", \"name\", \"x\", \"species\"],\n",
    ")\n",
    "pathways = pd.read_csv(\n",
    "    \"../binn/data/downloads/reactome_pathways_relation_2025_01_14.txt\",\n",
    "    sep=\"\\t\",\n",
    "    header=None,\n",
    "    names=[\"target\", \"source\"],\n",
    ")\n",
    "\n",
    "binn = BINN(data_matrix=input_data, mapping=mapping, pathways=pathways)\n",
    "\n",
    "binn.layers"
   ]
  },
  {
   "cell_type": "markdown",
   "metadata": {},
   "source": [
    "We can also build an ensemble of heads, in which the output of each layer in the network is passed through a linear layer before being summed in the end."
   ]
  },
  {
   "cell_type": "code",
   "execution_count": 4,
   "metadata": {},
   "outputs": [
    {
     "name": "stdout",
     "output_type": "stream",
     "text": [
      "\n",
      "[INFO] BINN is on device: cpu\n"
     ]
    },
    {
     "data": {
      "text/plain": [
       "_EnsembleHeads(\n",
       "  (blocks): ModuleList(\n",
       "    (0): Sequential(\n",
       "      (Linear_0): Linear(in_features=448, out_features=471, bias=True)\n",
       "      (BatchNorm_0): BatchNorm1d(471, eps=1e-05, momentum=0.1, affine=True, track_running_stats=True)\n",
       "      (Tanh_0): Tanh()\n",
       "    )\n",
       "    (1): Sequential(\n",
       "      (Linear_1): Linear(in_features=471, out_features=306, bias=True)\n",
       "      (BatchNorm_1): BatchNorm1d(306, eps=1e-05, momentum=0.1, affine=True, track_running_stats=True)\n",
       "      (Tanh_1): Tanh()\n",
       "    )\n",
       "    (2): Sequential(\n",
       "      (Linear_2): Linear(in_features=306, out_features=125, bias=True)\n",
       "      (BatchNorm_2): BatchNorm1d(125, eps=1e-05, momentum=0.1, affine=True, track_running_stats=True)\n",
       "      (Tanh_2): Tanh()\n",
       "    )\n",
       "    (3): Sequential(\n",
       "      (Linear_3): Linear(in_features=125, out_features=28, bias=True)\n",
       "      (BatchNorm_3): BatchNorm1d(28, eps=1e-05, momentum=0.1, affine=True, track_running_stats=True)\n",
       "      (Tanh_3): Tanh()\n",
       "    )\n",
       "  )\n",
       "  (heads): ModuleList(\n",
       "    (0): Sequential(\n",
       "      (0): Linear(in_features=471, out_features=2, bias=True)\n",
       "      (1): Sigmoid()\n",
       "    )\n",
       "    (1): Sequential(\n",
       "      (0): Linear(in_features=306, out_features=2, bias=True)\n",
       "      (1): Sigmoid()\n",
       "    )\n",
       "    (2): Sequential(\n",
       "      (0): Linear(in_features=125, out_features=2, bias=True)\n",
       "      (1): Sigmoid()\n",
       "    )\n",
       "    (3): Sequential(\n",
       "      (0): Linear(in_features=28, out_features=2, bias=True)\n",
       "      (1): Sigmoid()\n",
       "    )\n",
       "  )\n",
       ")"
      ]
     },
     "execution_count": 4,
     "metadata": {},
     "output_type": "execute_result"
    }
   ],
   "source": [
    "binn = BINN(\n",
    "    data_matrix=input_data,\n",
    "    network_source=\"reactome\",\n",
    "    heads_ensemble=True,\n",
    "    n_layers=4,\n",
    "    dropout=0.2,\n",
    ")\n",
    "\n",
    "binn.layers"
   ]
  },
  {
   "cell_type": "code",
   "execution_count": 5,
   "metadata": {},
   "outputs": [
    {
     "data": {
      "text/plain": [
       "np.str_('A0M8Q6')"
      ]
     },
     "execution_count": 5,
     "metadata": {},
     "output_type": "execute_result"
    }
   ],
   "source": [
    "binn.inputs[0]"
   ]
  },
  {
   "attachments": {},
   "cell_type": "markdown",
   "metadata": {},
   "source": [
    "Looking at the layer names, we see that these correspond to the input and intermediary layers in the model."
   ]
  },
  {
   "cell_type": "code",
   "execution_count": 6,
   "metadata": {},
   "outputs": [
    {
     "data": {
      "text/plain": [
       "np.str_('A0M8Q6')"
      ]
     },
     "execution_count": 6,
     "metadata": {},
     "output_type": "execute_result"
    }
   ],
   "source": [
    "layers = binn.layer_names\n",
    "layers[0][0]"
   ]
  },
  {
   "cell_type": "markdown",
   "metadata": {},
   "source": [
    "# Training"
   ]
  },
  {
   "cell_type": "code",
   "execution_count": 7,
   "metadata": {},
   "outputs": [
    {
     "name": "stdout",
     "output_type": "stream",
     "text": [
      "\n",
      "[INFO] BINN is on device: cpu\n",
      "Mapping group labels: {np.int64(1): 0, np.int64(2): 1}\n",
      "[Epoch 1/50] Train Loss: 0.6418, Train Accuracy: 0.6054\n",
      "[Epoch 1/50] Val Loss: 0.6931, Val Accuracy: 0.5312\n",
      "[Epoch 2/50] Train Loss: 0.6577, Train Accuracy: 0.6573\n",
      "[Epoch 2/50] Val Loss: 0.6929, Val Accuracy: 0.5312\n",
      "[Epoch 3/50] Train Loss: 0.6903, Train Accuracy: 0.6360\n",
      "[Epoch 3/50] Val Loss: 0.6925, Val Accuracy: 0.5312\n",
      "[Epoch 4/50] Train Loss: 0.6185, Train Accuracy: 0.6705\n",
      "[Epoch 4/50] Val Loss: 0.6921, Val Accuracy: 0.5312\n",
      "[Epoch 5/50] Train Loss: 0.6848, Train Accuracy: 0.5985\n",
      "[Epoch 5/50] Val Loss: 0.6916, Val Accuracy: 0.5312\n",
      "[Epoch 6/50] Train Loss: 0.6150, Train Accuracy: 0.6623\n",
      "[Epoch 6/50] Val Loss: 0.6906, Val Accuracy: 0.6719\n",
      "[Epoch 7/50] Train Loss: 0.6657, Train Accuracy: 0.5985\n",
      "[Epoch 7/50] Val Loss: 0.6872, Val Accuracy: 0.6875\n",
      "[Epoch 8/50] Train Loss: 0.6146, Train Accuracy: 0.6616\n",
      "[Epoch 8/50] Val Loss: 0.6794, Val Accuracy: 0.6562\n",
      "[Epoch 9/50] Train Loss: 0.5771, Train Accuracy: 0.6866\n",
      "[Epoch 9/50] Val Loss: 0.6634, Val Accuracy: 0.6406\n",
      "[Epoch 10/50] Train Loss: 0.6273, Train Accuracy: 0.6261\n",
      "[Epoch 10/50] Val Loss: 0.6365, Val Accuracy: 0.6250\n",
      "[Epoch 11/50] Train Loss: 0.6453, Train Accuracy: 0.6491\n",
      "[Epoch 11/50] Val Loss: 0.6013, Val Accuracy: 0.6094\n",
      "[Epoch 12/50] Train Loss: 0.5779, Train Accuracy: 0.7254\n",
      "[Epoch 12/50] Val Loss: 0.5644, Val Accuracy: 0.6094\n",
      "[Epoch 13/50] Train Loss: 0.5509, Train Accuracy: 0.6886\n",
      "[Epoch 13/50] Val Loss: 0.5365, Val Accuracy: 0.6250\n",
      "[Epoch 14/50] Train Loss: 0.5646, Train Accuracy: 0.7399\n",
      "[Epoch 14/50] Val Loss: 0.5061, Val Accuracy: 0.6406\n",
      "[Epoch 15/50] Train Loss: 0.6014, Train Accuracy: 0.6899\n",
      "[Epoch 15/50] Val Loss: 0.4778, Val Accuracy: 0.6562\n",
      "[Epoch 16/50] Train Loss: 0.5455, Train Accuracy: 0.7267\n",
      "[Epoch 16/50] Val Loss: 0.4539, Val Accuracy: 0.6719\n",
      "[Epoch 17/50] Train Loss: 0.5388, Train Accuracy: 0.7067\n",
      "[Epoch 17/50] Val Loss: 0.4343, Val Accuracy: 0.7656\n",
      "[Epoch 18/50] Train Loss: 0.5539, Train Accuracy: 0.7185\n",
      "[Epoch 18/50] Val Loss: 0.4200, Val Accuracy: 0.8281\n",
      "[Epoch 19/50] Train Loss: 0.5271, Train Accuracy: 0.7060\n",
      "[Epoch 19/50] Val Loss: 0.4084, Val Accuracy: 0.8281\n",
      "[Epoch 20/50] Train Loss: 0.5402, Train Accuracy: 0.7274\n",
      "[Epoch 20/50] Val Loss: 0.3927, Val Accuracy: 0.8594\n",
      "[Epoch 21/50] Train Loss: 0.4913, Train Accuracy: 0.7780\n",
      "[Epoch 21/50] Val Loss: 0.3846, Val Accuracy: 0.8438\n",
      "[Epoch 22/50] Train Loss: 0.4765, Train Accuracy: 0.7987\n",
      "[Epoch 22/50] Val Loss: 0.3799, Val Accuracy: 0.8281\n",
      "[Epoch 23/50] Train Loss: 0.5221, Train Accuracy: 0.7330\n",
      "[Epoch 23/50] Val Loss: 0.3813, Val Accuracy: 0.8438\n",
      "[Epoch 24/50] Train Loss: 0.5363, Train Accuracy: 0.7110\n",
      "[Epoch 24/50] Val Loss: 0.3797, Val Accuracy: 0.8438\n",
      "[Epoch 25/50] Train Loss: 0.4313, Train Accuracy: 0.8274\n",
      "[Epoch 25/50] Val Loss: 0.3781, Val Accuracy: 0.8438\n",
      "[Epoch 26/50] Train Loss: 0.4942, Train Accuracy: 0.7593\n",
      "[Epoch 26/50] Val Loss: 0.3714, Val Accuracy: 0.8281\n",
      "[Epoch 27/50] Train Loss: 0.4628, Train Accuracy: 0.8030\n",
      "[Epoch 27/50] Val Loss: 0.3701, Val Accuracy: 0.8438\n",
      "[Epoch 28/50] Train Loss: 0.5169, Train Accuracy: 0.7692\n",
      "[Epoch 28/50] Val Loss: 0.3647, Val Accuracy: 0.8438\n",
      "[Epoch 29/50] Train Loss: 0.4432, Train Accuracy: 0.7817\n",
      "[Epoch 29/50] Val Loss: 0.3614, Val Accuracy: 0.8281\n",
      "[Epoch 30/50] Train Loss: 0.4575, Train Accuracy: 0.7787\n",
      "[Epoch 30/50] Val Loss: 0.3685, Val Accuracy: 0.8906\n",
      "[Epoch 31/50] Train Loss: 0.4333, Train Accuracy: 0.8099\n",
      "[Epoch 31/50] Val Loss: 0.3616, Val Accuracy: 0.8906\n",
      "[Epoch 32/50] Train Loss: 0.4628, Train Accuracy: 0.7823\n",
      "[Epoch 32/50] Val Loss: 0.3494, Val Accuracy: 0.9062\n",
      "[Epoch 33/50] Train Loss: 0.4940, Train Accuracy: 0.7567\n",
      "[Epoch 33/50] Val Loss: 0.3428, Val Accuracy: 0.8750\n",
      "[Epoch 34/50] Train Loss: 0.4694, Train Accuracy: 0.8168\n",
      "[Epoch 34/50] Val Loss: 0.3310, Val Accuracy: 0.9375\n",
      "[Epoch 35/50] Train Loss: 0.4325, Train Accuracy: 0.7767\n",
      "[Epoch 35/50] Val Loss: 0.3372, Val Accuracy: 0.9062\n",
      "[Epoch 36/50] Train Loss: 0.4716, Train Accuracy: 0.7886\n",
      "[Epoch 36/50] Val Loss: 0.3479, Val Accuracy: 0.9062\n",
      "[Epoch 37/50] Train Loss: 0.3970, Train Accuracy: 0.8586\n",
      "[Epoch 37/50] Val Loss: 0.3442, Val Accuracy: 0.9062\n",
      "[Epoch 38/50] Train Loss: 0.4235, Train Accuracy: 0.8343\n",
      "[Epoch 38/50] Val Loss: 0.3405, Val Accuracy: 0.9062\n",
      "[Epoch 39/50] Train Loss: 0.4820, Train Accuracy: 0.8037\n",
      "[Epoch 39/50] Val Loss: 0.3304, Val Accuracy: 0.9062\n",
      "[Epoch 40/50] Train Loss: 0.4097, Train Accuracy: 0.8287\n",
      "[Epoch 40/50] Val Loss: 0.3296, Val Accuracy: 0.9062\n",
      "[Epoch 41/50] Train Loss: 0.3964, Train Accuracy: 0.8231\n",
      "[Epoch 41/50] Val Loss: 0.3088, Val Accuracy: 0.9219\n",
      "[Epoch 42/50] Train Loss: 0.3760, Train Accuracy: 0.8405\n",
      "[Epoch 42/50] Val Loss: 0.3109, Val Accuracy: 0.9062\n",
      "[Epoch 43/50] Train Loss: 0.3940, Train Accuracy: 0.8254\n",
      "[Epoch 43/50] Val Loss: 0.3070, Val Accuracy: 0.9062\n",
      "[Epoch 44/50] Train Loss: 0.3803, Train Accuracy: 0.8530\n",
      "[Epoch 44/50] Val Loss: 0.3104, Val Accuracy: 0.9062\n",
      "[Epoch 45/50] Train Loss: 0.3934, Train Accuracy: 0.8274\n",
      "[Epoch 45/50] Val Loss: 0.3083, Val Accuracy: 0.9062\n",
      "[Epoch 46/50] Train Loss: 0.4165, Train Accuracy: 0.8017\n",
      "[Epoch 46/50] Val Loss: 0.2965, Val Accuracy: 0.9219\n",
      "[Epoch 47/50] Train Loss: 0.4264, Train Accuracy: 0.8011\n",
      "[Epoch 47/50] Val Loss: 0.2967, Val Accuracy: 0.9219\n",
      "[Epoch 48/50] Train Loss: 0.3473, Train Accuracy: 0.8418\n",
      "[Epoch 48/50] Val Loss: 0.2932, Val Accuracy: 0.9219\n",
      "[Epoch 49/50] Train Loss: 0.4035, Train Accuracy: 0.8149\n",
      "[Epoch 49/50] Val Loss: 0.2805, Val Accuracy: 0.9219\n",
      "[Epoch 50/50] Train Loss: 0.4195, Train Accuracy: 0.7892\n",
      "[Epoch 50/50] Val Loss: 0.2777, Val Accuracy: 0.9219\n"
     ]
    }
   ],
   "source": [
    "from binn import BINN, BINNDataLoader, BINNTrainer\n",
    "import pandas as pd\n",
    "\n",
    "# Load your data\n",
    "data_matrix = pd.read_csv(\"../binn/data/sample_datamatrix.csv\")\n",
    "design_matrix = pd.read_csv(\"../binn/data/sample_design_matrix.tsv\", sep=\"\\t\")\n",
    "\n",
    "# Initialize BINN\n",
    "binn = BINN(data_matrix=data_matrix, network_source=\"reactome\", n_layers=4, dropout=0.2)\n",
    "\n",
    "## Initialize DataLoader\n",
    "binn_dataloader = BINNDataLoader(binn)\n",
    "\n",
    "# Create DataLoaders\n",
    "dataloaders = binn_dataloader.create_dataloaders(\n",
    "    data_matrix=data_matrix,\n",
    "    design_matrix=design_matrix,\n",
    "    feature_column=\"Protein\",\n",
    "    group_column=\"group\",\n",
    "    sample_column=\"sample\",\n",
    "    batch_size=32,\n",
    "    validation_split=0.2,\n",
    ")\n",
    "# Train the model\n",
    "trainer = BINNTrainer(binn)\n",
    "trainer.fit(dataloaders=dataloaders, num_epochs=50)"
   ]
  }
 ],
 "metadata": {
  "kernelspec": {
   "display_name": "test-venv",
   "language": "python",
   "name": "python3"
  },
  "language_info": {
   "codemirror_mode": {
    "name": "ipython",
    "version": 3
   },
   "file_extension": ".py",
   "mimetype": "text/x-python",
   "name": "python",
   "nbconvert_exporter": "python",
   "pygments_lexer": "ipython3",
   "version": "3.10.15"
  },
  "orig_nbformat": 4
 },
 "nbformat": 4,
 "nbformat_minor": 2
}
