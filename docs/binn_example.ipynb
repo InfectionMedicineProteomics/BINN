{
 "cells": [
  {
   "attachments": {},
   "cell_type": "markdown",
   "metadata": {},
   "source": [
    "# Creating a BINN\n",
    "\n",
    "This notebook demonstrates some examples on how a BINN can be created and trained.\n",
    "\n",
    "The method begins with constructing a directed graph representing biological pathways, mapping input features (e.g., proteins or genes) to nodes within the network. This graph is manipulated to produce hierarchical layers and connectivity matrices, which guide the structure of the BINN.\n",
    "\n",
    "If you want to create your own BINN from scratch, you need some input data (`input_data` below) in the form of a pandas dataframe.\n",
    "\n"
   ]
  },
  {
   "cell_type": "code",
   "execution_count": 1,
   "metadata": {},
   "outputs": [
    {
     "name": "stdout",
     "output_type": "stream",
     "text": [
      "\n",
      "[INFO] BINN is on device: cpu\n"
     ]
    },
    {
     "data": {
      "text/plain": [
       "BINN(\n",
       "  (layers): Sequential(\n",
       "    (Layer_0): Linear(in_features=448, out_features=471, bias=True)\n",
       "    (BatchNorm_0): BatchNorm1d(471, eps=1e-05, momentum=0.1, affine=True, track_running_stats=True)\n",
       "    (Dropout_0): Dropout(p=0.2, inplace=False)\n",
       "    (Tanh_0): Tanh()\n",
       "    (Layer_1): Linear(in_features=471, out_features=306, bias=True)\n",
       "    (BatchNorm_1): BatchNorm1d(306, eps=1e-05, momentum=0.1, affine=True, track_running_stats=True)\n",
       "    (Dropout_1): Dropout(p=0.2, inplace=False)\n",
       "    (Tanh_1): Tanh()\n",
       "    (Layer_2): Linear(in_features=306, out_features=125, bias=True)\n",
       "    (BatchNorm_2): BatchNorm1d(125, eps=1e-05, momentum=0.1, affine=True, track_running_stats=True)\n",
       "    (Dropout_2): Dropout(p=0.2, inplace=False)\n",
       "    (Tanh_2): Tanh()\n",
       "    (Layer_3): Linear(in_features=125, out_features=28, bias=True)\n",
       "    (BatchNorm_3): BatchNorm1d(28, eps=1e-05, momentum=0.1, affine=True, track_running_stats=True)\n",
       "    (Dropout_3): Dropout(p=0.2, inplace=False)\n",
       "    (Tanh_3): Tanh()\n",
       "    (Output): Linear(in_features=28, out_features=2, bias=True)\n",
       "  )\n",
       ")"
      ]
     },
     "execution_count": 1,
     "metadata": {},
     "output_type": "execute_result"
    }
   ],
   "source": [
    "from binn import BINN\n",
    "import pandas as pd\n",
    "\n",
    "input_data = pd.read_csv(\"../data/sample_datamatrix.csv\")\n",
    "\n",
    "binn = BINN(\n",
    "    data_matrix=input_data,\n",
    "    network_source=\"reactome\",\n",
    "    input_source=\"uniprot\",\n",
    "    n_layers=4,\n",
    "    dropout=0.2,\n",
    ")\n",
    "\n",
    "binn"
   ]
  },
  {
   "attachments": {},
   "cell_type": "markdown",
   "metadata": {},
   "source": [
    "You can also provide your own pathways and mapping to create a PathwayNetwork. The PathwayNetwork is what underlies the pruning of the BINN to create sparsity. The pathway file is a standard edgelist. The mapping maps the input to the edgelist."
   ]
  },
  {
   "cell_type": "code",
   "execution_count": 2,
   "metadata": {},
   "outputs": [
    {
     "data": {
      "text/plain": [
       "('R-HSA-109703', 'R-HSA-109704')"
      ]
     },
     "execution_count": 2,
     "metadata": {},
     "output_type": "execute_result"
    }
   ],
   "source": [
    "from binn import PathwayNetwork\n",
    "\n",
    "mapping = pd.read_csv(\"../data/downloads/uniprot_2_reactome_2025_01_14.txt\", sep=\"\\t\")\n",
    "pathways = pd.read_csv(\"../data/downloads/reactome_pathways_relation_2025_01_14.txt\", sep=\"\\t\")\n",
    "pathways = list(pathways.itertuples(index=False, name=None))\n",
    "mapping = list(mapping.itertuples(index=False, name=None))\n",
    "input_entities = input_data[\"Protein\"].tolist()\n",
    "\n",
    "network = PathwayNetwork(\n",
    "    input_data=input_entities,\n",
    "    pathways=pathways,\n",
    "    mapping=mapping,\n",
    ")\n",
    "\n",
    "list(network.pathway_graph.edges())[0]"
   ]
  },
  {
   "cell_type": "code",
   "execution_count": 3,
   "metadata": {},
   "outputs": [
    {
     "name": "stdout",
     "output_type": "stream",
     "text": [
      "\n",
      "[INFO] BINN is on device: cpu\n"
     ]
    },
    {
     "data": {
      "text/plain": [
       "Sequential(\n",
       "  (Layer_0): Linear(in_features=448, out_features=471, bias=True)\n",
       "  (BatchNorm_0): BatchNorm1d(471, eps=1e-05, momentum=0.1, affine=True, track_running_stats=True)\n",
       "  (Dropout_0): Dropout(p=0, inplace=False)\n",
       "  (Tanh_0): Tanh()\n",
       "  (Layer_1): Linear(in_features=471, out_features=306, bias=True)\n",
       "  (BatchNorm_1): BatchNorm1d(306, eps=1e-05, momentum=0.1, affine=True, track_running_stats=True)\n",
       "  (Dropout_1): Dropout(p=0, inplace=False)\n",
       "  (Tanh_1): Tanh()\n",
       "  (Layer_2): Linear(in_features=306, out_features=125, bias=True)\n",
       "  (BatchNorm_2): BatchNorm1d(125, eps=1e-05, momentum=0.1, affine=True, track_running_stats=True)\n",
       "  (Dropout_2): Dropout(p=0, inplace=False)\n",
       "  (Tanh_2): Tanh()\n",
       "  (Layer_3): Linear(in_features=125, out_features=28, bias=True)\n",
       "  (BatchNorm_3): BatchNorm1d(28, eps=1e-05, momentum=0.1, affine=True, track_running_stats=True)\n",
       "  (Dropout_3): Dropout(p=0, inplace=False)\n",
       "  (Tanh_3): Tanh()\n",
       "  (Output): Linear(in_features=28, out_features=2, bias=True)\n",
       ")"
      ]
     },
     "execution_count": 3,
     "metadata": {},
     "output_type": "execute_result"
    }
   ],
   "source": [
    "\n",
    "# or custom pathways and mapping\n",
    "mapping = pd.read_csv(\n",
    "    \"../data/downloads/uniprot_2_reactome_2025_01_14.txt\",\n",
    "    sep=\"\\t\",\n",
    "    header=None,\n",
    "    names=[\"input\", \"translation\", \"url\", \"name\", \"x\", \"species\"],\n",
    ")\n",
    "pathways = pd.read_csv(\n",
    "    \"../data/downloads/reactome_pathways_relation_2025_01_14.txt\",\n",
    "    sep=\"\\t\",\n",
    "    header=None,\n",
    "    names=[\"target\", \"source\"],\n",
    ")\n",
    "\n",
    "binn = BINN(data_matrix=input_data, mapping=mapping, pathways=pathways)\n",
    "\n",
    "binn.layers"
   ]
  },
  {
   "cell_type": "markdown",
   "metadata": {},
   "source": [
    "We can also build an ensemble of heads, in which the output of each layer in the network is passed through a linear layer before being summed in the end."
   ]
  },
  {
   "cell_type": "code",
   "execution_count": 4,
   "metadata": {},
   "outputs": [
    {
     "name": "stdout",
     "output_type": "stream",
     "text": [
      "\n",
      "[INFO] BINN is on device: cpu\n"
     ]
    },
    {
     "data": {
      "text/plain": [
       "_EnsembleHeads(\n",
       "  (blocks): ModuleList(\n",
       "    (0): Sequential(\n",
       "      (Linear_0): Linear(in_features=448, out_features=471, bias=True)\n",
       "      (BatchNorm_0): BatchNorm1d(471, eps=1e-05, momentum=0.1, affine=True, track_running_stats=True)\n",
       "      (Tanh_0): Tanh()\n",
       "    )\n",
       "    (1): Sequential(\n",
       "      (Linear_1): Linear(in_features=471, out_features=306, bias=True)\n",
       "      (BatchNorm_1): BatchNorm1d(306, eps=1e-05, momentum=0.1, affine=True, track_running_stats=True)\n",
       "      (Tanh_1): Tanh()\n",
       "    )\n",
       "    (2): Sequential(\n",
       "      (Linear_2): Linear(in_features=306, out_features=125, bias=True)\n",
       "      (BatchNorm_2): BatchNorm1d(125, eps=1e-05, momentum=0.1, affine=True, track_running_stats=True)\n",
       "      (Tanh_2): Tanh()\n",
       "    )\n",
       "    (3): Sequential(\n",
       "      (Linear_3): Linear(in_features=125, out_features=28, bias=True)\n",
       "      (BatchNorm_3): BatchNorm1d(28, eps=1e-05, momentum=0.1, affine=True, track_running_stats=True)\n",
       "      (Tanh_3): Tanh()\n",
       "    )\n",
       "  )\n",
       "  (heads): ModuleList(\n",
       "    (0): Sequential(\n",
       "      (0): Linear(in_features=471, out_features=2, bias=True)\n",
       "      (1): Sigmoid()\n",
       "    )\n",
       "    (1): Sequential(\n",
       "      (0): Linear(in_features=306, out_features=2, bias=True)\n",
       "      (1): Sigmoid()\n",
       "    )\n",
       "    (2): Sequential(\n",
       "      (0): Linear(in_features=125, out_features=2, bias=True)\n",
       "      (1): Sigmoid()\n",
       "    )\n",
       "    (3): Sequential(\n",
       "      (0): Linear(in_features=28, out_features=2, bias=True)\n",
       "      (1): Sigmoid()\n",
       "    )\n",
       "  )\n",
       ")"
      ]
     },
     "execution_count": 4,
     "metadata": {},
     "output_type": "execute_result"
    }
   ],
   "source": [
    "binn = BINN(\n",
    "    data_matrix=input_data,\n",
    "    network_source=\"reactome\",\n",
    "    heads_ensemble=True,\n",
    "    n_layers=4,\n",
    "    dropout=0.2,\n",
    ")\n",
    "\n",
    "binn.layers"
   ]
  },
  {
   "cell_type": "code",
   "execution_count": 5,
   "metadata": {},
   "outputs": [
    {
     "data": {
      "text/plain": [
       "np.str_('A0M8Q6')"
      ]
     },
     "execution_count": 5,
     "metadata": {},
     "output_type": "execute_result"
    }
   ],
   "source": [
    "binn.inputs[0]"
   ]
  },
  {
   "attachments": {},
   "cell_type": "markdown",
   "metadata": {},
   "source": [
    "Looking at the layer names, we see that these correspond to the input and intermediary layers in the model."
   ]
  },
  {
   "cell_type": "code",
   "execution_count": 6,
   "metadata": {},
   "outputs": [
    {
     "data": {
      "text/plain": [
       "np.str_('A0M8Q6')"
      ]
     },
     "execution_count": 6,
     "metadata": {},
     "output_type": "execute_result"
    }
   ],
   "source": [
    "layers = binn.layer_names\n",
    "layers[0][0]"
   ]
  },
  {
   "cell_type": "markdown",
   "metadata": {},
   "source": [
    "# Training"
   ]
  },
  {
   "cell_type": "code",
   "execution_count": 10,
   "metadata": {},
   "outputs": [
    {
     "name": "stdout",
     "output_type": "stream",
     "text": [
      "\n",
      "[INFO] BINN is on device: cpu\n",
      "Mapping group labels: {np.int64(1): 0, np.int64(2): 1}\n",
      "[Epoch 1/50] Train Loss: 0.7464, Train Accuracy: 0.5922\n",
      "[Epoch 1/50] Val Loss: 0.6933, Val Accuracy: 0.4688\n",
      "[Epoch 2/50] Train Loss: 0.7413, Train Accuracy: 0.6192\n",
      "[Epoch 2/50] Val Loss: 0.6933, Val Accuracy: 0.4688\n",
      "[Epoch 3/50] Train Loss: 0.7519, Train Accuracy: 0.5616\n",
      "[Epoch 3/50] Val Loss: 0.6934, Val Accuracy: 0.4688\n",
      "[Epoch 4/50] Train Loss: 0.7511, Train Accuracy: 0.5778\n",
      "[Epoch 4/50] Val Loss: 0.6930, Val Accuracy: 0.4688\n",
      "[Epoch 5/50] Train Loss: 0.7176, Train Accuracy: 0.6047\n",
      "[Epoch 5/50] Val Loss: 0.6926, Val Accuracy: 0.4688\n",
      "[Epoch 6/50] Train Loss: 0.7277, Train Accuracy: 0.5860\n",
      "[Epoch 6/50] Val Loss: 0.6919, Val Accuracy: 0.4688\n",
      "[Epoch 7/50] Train Loss: 0.6417, Train Accuracy: 0.6310\n",
      "[Epoch 7/50] Val Loss: 0.6864, Val Accuracy: 0.4844\n",
      "[Epoch 8/50] Train Loss: 0.6751, Train Accuracy: 0.6692\n",
      "[Epoch 8/50] Val Loss: 0.6764, Val Accuracy: 0.5938\n",
      "[Epoch 9/50] Train Loss: 0.6039, Train Accuracy: 0.6899\n",
      "[Epoch 9/50] Val Loss: 0.6603, Val Accuracy: 0.5625\n",
      "[Epoch 10/50] Train Loss: 0.6263, Train Accuracy: 0.6524\n",
      "[Epoch 10/50] Val Loss: 0.6312, Val Accuracy: 0.5938\n",
      "[Epoch 11/50] Train Loss: 0.6559, Train Accuracy: 0.6060\n",
      "[Epoch 11/50] Val Loss: 0.5917, Val Accuracy: 0.6719\n",
      "[Epoch 12/50] Train Loss: 0.5917, Train Accuracy: 0.6810\n",
      "[Epoch 12/50] Val Loss: 0.5590, Val Accuracy: 0.6562\n",
      "[Epoch 13/50] Train Loss: 0.5753, Train Accuracy: 0.7129\n",
      "[Epoch 13/50] Val Loss: 0.5345, Val Accuracy: 0.6562\n",
      "[Epoch 14/50] Train Loss: 0.5642, Train Accuracy: 0.7136\n",
      "[Epoch 14/50] Val Loss: 0.5349, Val Accuracy: 0.6875\n",
      "[Epoch 15/50] Train Loss: 0.5344, Train Accuracy: 0.7028\n",
      "[Epoch 15/50] Val Loss: 0.5296, Val Accuracy: 0.7031\n",
      "[Epoch 16/50] Train Loss: 0.6267, Train Accuracy: 0.6642\n",
      "[Epoch 16/50] Val Loss: 0.5169, Val Accuracy: 0.7500\n",
      "[Epoch 17/50] Train Loss: 0.5552, Train Accuracy: 0.7254\n",
      "[Epoch 17/50] Val Loss: 0.5097, Val Accuracy: 0.7500\n",
      "[Epoch 18/50] Train Loss: 0.5913, Train Accuracy: 0.6698\n",
      "[Epoch 18/50] Val Loss: 0.4843, Val Accuracy: 0.7344\n",
      "[Epoch 19/50] Train Loss: 0.5282, Train Accuracy: 0.7504\n",
      "[Epoch 19/50] Val Loss: 0.4716, Val Accuracy: 0.7500\n",
      "[Epoch 20/50] Train Loss: 0.5769, Train Accuracy: 0.6817\n",
      "[Epoch 20/50] Val Loss: 0.4608, Val Accuracy: 0.7500\n",
      "[Epoch 21/50] Train Loss: 0.5034, Train Accuracy: 0.7573\n",
      "[Epoch 21/50] Val Loss: 0.4418, Val Accuracy: 0.7500\n",
      "[Epoch 22/50] Train Loss: 0.5245, Train Accuracy: 0.7629\n",
      "[Epoch 22/50] Val Loss: 0.4242, Val Accuracy: 0.7500\n",
      "[Epoch 23/50] Train Loss: 0.5731, Train Accuracy: 0.7317\n",
      "[Epoch 23/50] Val Loss: 0.4183, Val Accuracy: 0.7656\n",
      "[Epoch 24/50] Train Loss: 0.4621, Train Accuracy: 0.7373\n",
      "[Epoch 24/50] Val Loss: 0.4062, Val Accuracy: 0.7500\n",
      "[Epoch 25/50] Train Loss: 0.5576, Train Accuracy: 0.7317\n",
      "[Epoch 25/50] Val Loss: 0.3888, Val Accuracy: 0.8125\n",
      "[Epoch 26/50] Train Loss: 0.5332, Train Accuracy: 0.7392\n",
      "[Epoch 26/50] Val Loss: 0.3765, Val Accuracy: 0.8281\n",
      "[Epoch 27/50] Train Loss: 0.4794, Train Accuracy: 0.7504\n",
      "[Epoch 27/50] Val Loss: 0.3710, Val Accuracy: 0.8125\n",
      "[Epoch 28/50] Train Loss: 0.5100, Train Accuracy: 0.7491\n",
      "[Epoch 28/50] Val Loss: 0.3779, Val Accuracy: 0.8438\n",
      "[Epoch 29/50] Train Loss: 0.5008, Train Accuracy: 0.7435\n",
      "[Epoch 29/50] Val Loss: 0.3755, Val Accuracy: 0.8438\n",
      "[Epoch 30/50] Train Loss: 0.4102, Train Accuracy: 0.8399\n",
      "[Epoch 30/50] Val Loss: 0.3763, Val Accuracy: 0.8281\n",
      "[Epoch 31/50] Train Loss: 0.5229, Train Accuracy: 0.7530\n",
      "[Epoch 31/50] Val Loss: 0.3639, Val Accuracy: 0.8438\n",
      "[Epoch 32/50] Train Loss: 0.4922, Train Accuracy: 0.7511\n",
      "[Epoch 32/50] Val Loss: 0.3663, Val Accuracy: 0.8281\n",
      "[Epoch 33/50] Train Loss: 0.4910, Train Accuracy: 0.7366\n",
      "[Epoch 33/50] Val Loss: 0.3601, Val Accuracy: 0.8281\n",
      "[Epoch 34/50] Train Loss: 0.4530, Train Accuracy: 0.8425\n",
      "[Epoch 34/50] Val Loss: 0.3537, Val Accuracy: 0.8281\n",
      "[Epoch 35/50] Train Loss: 0.4424, Train Accuracy: 0.7899\n",
      "[Epoch 35/50] Val Loss: 0.3465, Val Accuracy: 0.8281\n",
      "[Epoch 36/50] Train Loss: 0.4389, Train Accuracy: 0.8481\n",
      "[Epoch 36/50] Val Loss: 0.3490, Val Accuracy: 0.8281\n",
      "[Epoch 37/50] Train Loss: 0.4467, Train Accuracy: 0.7974\n",
      "[Epoch 37/50] Val Loss: 0.3420, Val Accuracy: 0.8281\n",
      "[Epoch 38/50] Train Loss: 0.4109, Train Accuracy: 0.8468\n",
      "[Epoch 38/50] Val Loss: 0.3470, Val Accuracy: 0.8281\n",
      "[Epoch 39/50] Train Loss: 0.3932, Train Accuracy: 0.8675\n",
      "[Epoch 39/50] Val Loss: 0.3446, Val Accuracy: 0.8281\n",
      "[Epoch 40/50] Train Loss: 0.4113, Train Accuracy: 0.8218\n",
      "[Epoch 40/50] Val Loss: 0.3457, Val Accuracy: 0.8281\n",
      "[Epoch 41/50] Train Loss: 0.4157, Train Accuracy: 0.7830\n",
      "[Epoch 41/50] Val Loss: 0.3479, Val Accuracy: 0.8438\n",
      "[Epoch 42/50] Train Loss: 0.4600, Train Accuracy: 0.7899\n",
      "[Epoch 42/50] Val Loss: 0.3493, Val Accuracy: 0.8438\n",
      "[Epoch 43/50] Train Loss: 0.3678, Train Accuracy: 0.8474\n",
      "[Epoch 43/50] Val Loss: 0.3471, Val Accuracy: 0.8438\n",
      "[Epoch 44/50] Train Loss: 0.4296, Train Accuracy: 0.7968\n",
      "[Epoch 44/50] Val Loss: 0.3537, Val Accuracy: 0.7656\n",
      "[Epoch 45/50] Train Loss: 0.4089, Train Accuracy: 0.7905\n",
      "[Epoch 45/50] Val Loss: 0.3593, Val Accuracy: 0.7656\n",
      "[Epoch 46/50] Train Loss: 0.3856, Train Accuracy: 0.8287\n",
      "[Epoch 46/50] Val Loss: 0.3585, Val Accuracy: 0.7656\n",
      "[Epoch 47/50] Train Loss: 0.4164, Train Accuracy: 0.8024\n",
      "[Epoch 47/50] Val Loss: 0.3587, Val Accuracy: 0.7656\n",
      "[Epoch 48/50] Train Loss: 0.4095, Train Accuracy: 0.8024\n",
      "[Epoch 48/50] Val Loss: 0.3522, Val Accuracy: 0.7656\n",
      "[Epoch 49/50] Train Loss: 0.4317, Train Accuracy: 0.8468\n",
      "[Epoch 49/50] Val Loss: 0.3517, Val Accuracy: 0.7656\n",
      "[Epoch 50/50] Train Loss: 0.3783, Train Accuracy: 0.8412\n",
      "[Epoch 50/50] Val Loss: 0.3454, Val Accuracy: 0.7656\n"
     ]
    }
   ],
   "source": [
    "from binn import BINN, BINNDataLoader, BINNTrainer\n",
    "import pandas as pd\n",
    "\n",
    "# Load your data\n",
    "data_matrix = pd.read_csv(\"../data/sample_datamatrix.csv\")\n",
    "design_matrix = pd.read_csv(\"../data/sample_design_matrix.tsv\", sep=\"\\t\")\n",
    "\n",
    "# Initialize BINN\n",
    "binn = BINN(data_matrix=data_matrix, network_source=\"reactome\", n_layers=4, dropout=0.2)\n",
    "\n",
    "## Initialize DataLoader\n",
    "binn_dataloader = BINNDataLoader(binn)\n",
    "\n",
    "# Create DataLoaders\n",
    "dataloaders = binn_dataloader.create_dataloaders(\n",
    "    data_matrix=data_matrix,\n",
    "    design_matrix=design_matrix,\n",
    "    feature_column=\"Protein\",\n",
    "    group_column=\"group\",\n",
    "    sample_column=\"sample\",\n",
    "    batch_size=32,\n",
    "    validation_split=0.2,\n",
    ")\n",
    "# Train the model\n",
    "trainer = BINNTrainer(binn)\n",
    "trainer.fit(dataloaders=dataloaders, num_epochs=50)"
   ]
  }
 ],
 "metadata": {
  "kernelspec": {
   "display_name": ".venv",
   "language": "python",
   "name": "python3"
  },
  "language_info": {
   "codemirror_mode": {
    "name": "ipython",
    "version": 3
   },
   "file_extension": ".py",
   "mimetype": "text/x-python",
   "name": "python",
   "nbconvert_exporter": "python",
   "pygments_lexer": "ipython3",
   "version": "3.10.15"
  },
  "orig_nbformat": 4
 },
 "nbformat": 4,
 "nbformat_minor": 2
}
