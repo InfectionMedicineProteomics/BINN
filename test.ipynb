{
 "cells": [
  {
   "cell_type": "code",
   "execution_count": 2,
   "metadata": {},
   "outputs": [
    {
     "name": "stdout",
     "output_type": "stream",
     "text": [
      "Number of reactome ids before subsetting: 3484\n",
      "Unique proteins in reactome df: 458\n",
      "Function called 1 times.\n",
      "Values in idx_list: 0\n",
      "Function called 2 times.\n",
      "Values in idx_list: 652\n",
      "Function called 3 times.\n",
      "Values in idx_list: 989\n",
      "Function called 4 times.\n",
      "Values in idx_list: 1173\n",
      "Function called 5 times.\n",
      "Values in idx_list: 1264\n",
      "Function called 6 times.\n",
      "Values in idx_list: 1304\n",
      "Function called 7 times.\n",
      "Values in idx_list: 1322\n",
      "Function called 8 times.\n",
      "Values in idx_list: 1328\n",
      "Function called 9 times.\n",
      "Values in idx_list: 1329\n",
      "Base case reached\n",
      "Final number of unique connections in pathway:  1856\n"
     ]
    }
   ],
   "source": [
    "from binn.Process import generate_pathway_file\n",
    "pathways, inputs, mapping_to_all_layers = generate_pathway_file(pathways = 'data/pathways.tsv',\n",
    "                          input_data = 'data/TestQM.tsv' ,\n",
    "                          translation_mapping = \"data/translation.tsv\",\n",
    "                          input_data_column = \"Protein\")\n"
   ]
  },
  {
   "cell_type": "code",
   "execution_count": 18,
   "metadata": {},
   "outputs": [
    {
     "data": {
      "text/plain": [
       "'DiGraph with 1858 nodes and 1884 edges'"
      ]
     },
     "execution_count": 18,
     "metadata": {},
     "output_type": "execute_result"
    }
   ],
   "source": [
    "from binn.Network import Network\n",
    "network = Network(inputs=inputs, pathways=pathways, mapping=mapping_to_all_layers)\n",
    "network.info()"
   ]
  },
  {
   "cell_type": "code",
   "execution_count": 3,
   "metadata": {},
   "outputs": [
    {
     "name": "stdout",
     "output_type": "stream",
     "text": [
      "Number of reactome ids before subsetting: 3484\n",
      "Unique proteins in reactome df: 458\n",
      "Function called 1 times.\n",
      "Values in idx_list: 0\n",
      "Function called 2 times.\n",
      "Values in idx_list: 652\n",
      "Function called 3 times.\n",
      "Values in idx_list: 989\n",
      "Function called 4 times.\n",
      "Values in idx_list: 1173\n",
      "Function called 5 times.\n",
      "Values in idx_list: 1264\n",
      "Function called 6 times.\n",
      "Values in idx_list: 1304\n",
      "Function called 7 times.\n",
      "Values in idx_list: 1322\n",
      "Function called 8 times.\n",
      "Values in idx_list: 1328\n",
      "Function called 9 times.\n",
      "Values in idx_list: 1329\n",
      "Base case reached\n",
      "Final number of unique connections in pathway:  1856\n",
      "Network:  DiGraph with 1858 nodes and 1884 edges\n",
      "Number of copies made for 4 layers: 72\n",
      "Layer 0\n",
      "Number of nonzero weights: 2509 \n",
      "Number biases: 2509 \n",
      "Total number of elements: 425991 \n",
      "Layer 4\n",
      "Number of nonzero weights: 955 \n",
      "Number biases: 955 \n",
      "Total number of elements: 434070 \n",
      "Layer 8\n",
      "Number of nonzero weights: 455 \n",
      "Number biases: 455 \n",
      "Total number of elements: 73872 \n",
      "Layer 12\n",
      "Number of nonzero weights: 163 \n",
      "Number biases: 163 \n",
      "Total number of elements: 4564 \n",
      "Layer 16\n",
      "Number of nonzero weights: 56 \n",
      "Number biases: 56 \n",
      "Total number of elements: 58 \n"
     ]
    },
    {
     "data": {
      "text/plain": [
       "Sequential(\n",
       "  (Layer_0): Linear(in_features=446, out_features=953, bias=True)\n",
       "  (BatchNorm_0): BatchNorm1d(953, eps=1e-05, momentum=0.1, affine=True, track_running_stats=True)\n",
       "  (Dropout_0): Dropout(p=0.2, inplace=False)\n",
       "  (Tanh 0): Tanh()\n",
       "  (Layer_1): Linear(in_features=953, out_features=455, bias=True)\n",
       "  (BatchNorm_1): BatchNorm1d(455, eps=1e-05, momentum=0.1, affine=True, track_running_stats=True)\n",
       "  (Dropout_1): Dropout(p=0.2, inplace=False)\n",
       "  (Tanh 1): Tanh()\n",
       "  (Layer_2): Linear(in_features=455, out_features=162, bias=True)\n",
       "  (BatchNorm_2): BatchNorm1d(162, eps=1e-05, momentum=0.1, affine=True, track_running_stats=True)\n",
       "  (Dropout_2): Dropout(p=0.2, inplace=False)\n",
       "  (Tanh 2): Tanh()\n",
       "  (Layer_3): Linear(in_features=162, out_features=28, bias=True)\n",
       "  (BatchNorm_3): BatchNorm1d(28, eps=1e-05, momentum=0.1, affine=True, track_running_stats=True)\n",
       "  (Dropout_3): Dropout(p=0.2, inplace=False)\n",
       "  (Tanh 3): Tanh()\n",
       "  (Output layer): Linear(in_features=28, out_features=2, bias=True)\n",
       ")"
      ]
     },
     "execution_count": 3,
     "metadata": {},
     "output_type": "execute_result"
    }
   ],
   "source": [
    "from binn.NN import BINN\n",
    "\n",
    "model = BINN(\n",
    "            input_data  = 'data/TestQM.tsv', \n",
    "            pathways = 'data/pathways.tsv',\n",
    "            translation_mapping  = 'data/translation.tsv',\n",
    "            input_data_column = 'Protein',\n",
    "            activation ='tanh', \n",
    "            learning_rate  = 1e-4, \n",
    "            sparse = True, \n",
    "            n_layers  = 4, \n",
    "            scheduler = 'plateau',\n",
    "            validate  =True,\n",
    "            n_outputs = 2)\n",
    "model.report_layer_structure(verbose=True)\n",
    "model.layers\n"
   ]
  }
 ],
 "metadata": {
  "kernelspec": {
   "display_name": "Python 3.9.13 ('test-venv': venv)",
   "language": "python",
   "name": "python3"
  },
  "language_info": {
   "codemirror_mode": {
    "name": "ipython",
    "version": 3
   },
   "file_extension": ".py",
   "mimetype": "text/x-python",
   "name": "python",
   "nbconvert_exporter": "python",
   "pygments_lexer": "ipython3",
   "version": "3.9.13"
  },
  "orig_nbformat": 4,
  "vscode": {
   "interpreter": {
    "hash": "623fb74bbdba707bb547fdf25190ee3331b3df16f3b0f9ee711e3b4d4adf71d8"
   }
  }
 },
 "nbformat": 4,
 "nbformat_minor": 2
}
