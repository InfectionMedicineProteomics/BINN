{
 "cells": [
  {
   "cell_type": "code",
   "execution_count": 1,
   "metadata": {},
   "outputs": [
    {
     "name": "stdout",
     "output_type": "stream",
     "text": [
      "Base case reached\n",
      "Final number of unique connections in pathway:  1856\n"
     ]
    }
   ],
   "source": [
    "from binn.Process import generate_pathway_file\n",
    "pathways, proteins, components = generate_pathway_file()"
   ]
  },
  {
   "cell_type": "code",
   "execution_count": 2,
   "metadata": {},
   "outputs": [
    {
     "data": {
      "text/plain": [
       "'DiGraph with 1858 nodes and 1884 edges'"
      ]
     },
     "execution_count": 2,
     "metadata": {},
     "output_type": "execute_result"
    }
   ],
   "source": [
    "from binn.Network import ReactomeNetwork\n",
    "network = ReactomeNetwork(proteins=proteins, pathways=pathways, protein_mapping=components)\n",
    "network.info()"
   ]
  },
  {
   "cell_type": "code",
   "execution_count": 3,
   "metadata": {},
   "outputs": [
    {
     "name": "stderr",
     "output_type": "stream",
     "text": [
      "/home/erikh/BINN/BINN/test-venv/lib/python3.9/site-packages/tqdm/auto.py:22: TqdmWarning: IProgress not found. Please update jupyter and ipywidgets. See https://ipywidgets.readthedocs.io/en/stable/user_install.html\n",
      "  from .autonotebook import tqdm as notebook_tqdm\n"
     ]
    },
    {
     "ename": "ModuleNotFoundError",
     "evalue": "No module named 'NNUtils'",
     "output_type": "error",
     "traceback": [
      "\u001b[0;31m---------------------------------------------------------------------------\u001b[0m",
      "\u001b[0;31mModuleNotFoundError\u001b[0m                       Traceback (most recent call last)",
      "Cell \u001b[0;32mIn [3], line 1\u001b[0m\n\u001b[0;32m----> 1\u001b[0m \u001b[38;5;28;01mfrom\u001b[39;00m \u001b[38;5;21;01mbinn\u001b[39;00m\u001b[38;5;21;01m.\u001b[39;00m\u001b[38;5;21;01mNN\u001b[39;00m \u001b[38;5;28;01mimport\u001b[39;00m BINN\n\u001b[1;32m      3\u001b[0m model \u001b[38;5;241m=\u001b[39m BINN(proteins \u001b[38;5;241m=\u001b[39m proteins,\n\u001b[1;32m      4\u001b[0m              pathways \u001b[38;5;241m=\u001b[39m pathways,\n\u001b[1;32m      5\u001b[0m                  activation \u001b[38;5;241m=\u001b[39m\u001b[38;5;124m'\u001b[39m\u001b[38;5;124mtanh\u001b[39m\u001b[38;5;124m'\u001b[39m, \n\u001b[0;32m   (...)\u001b[0m\n\u001b[1;32m     10\u001b[0m                  validate  \u001b[38;5;241m=\u001b[39m\u001b[38;5;28;01mTrue\u001b[39;00m,\n\u001b[1;32m     11\u001b[0m                  n_outputs \u001b[38;5;241m=\u001b[39m\u001b[38;5;241m2\u001b[39m)\n\u001b[1;32m     12\u001b[0m model\u001b[38;5;241m.\u001b[39mreport_layer_structure(verbose\u001b[38;5;241m=\u001b[39m\u001b[38;5;28;01mTrue\u001b[39;00m)\n",
      "File \u001b[0;32m~/BINN/BINN/binn/NN.py:7\u001b[0m\n\u001b[1;32m      5\u001b[0m \u001b[39mimport\u001b[39;00m \u001b[39mtorch\u001b[39;00m\n\u001b[1;32m      6\u001b[0m \u001b[39mimport\u001b[39;00m \u001b[39mpandas\u001b[39;00m \u001b[39mas\u001b[39;00m \u001b[39mpd\u001b[39;00m\n\u001b[0;32m----> 7\u001b[0m \u001b[39mfrom\u001b[39;00m \u001b[39mNNUtils\u001b[39;00m \u001b[39mimport\u001b[39;00m generate_sequential\n\u001b[1;32m     10\u001b[0m \u001b[39mclass\u001b[39;00m \u001b[39mBINN\u001b[39;00m(LightningModule):\n\u001b[1;32m     11\u001b[0m     \u001b[39mdef\u001b[39;00m \u001b[39m__init__\u001b[39m(\u001b[39mself\u001b[39m, \n\u001b[1;32m     12\u001b[0m                  proteins : \u001b[39mlist\u001b[39m \u001b[39m=\u001b[39m [], \n\u001b[1;32m     13\u001b[0m                  pathways : pd\u001b[39m.\u001b[39mDataFrame \u001b[39m=\u001b[39m pd\u001b[39m.\u001b[39mDataFrame(),\n\u001b[0;32m   (...)\u001b[0m\n\u001b[1;32m     20\u001b[0m                  validate : \u001b[39mbool\u001b[39m \u001b[39m=\u001b[39m\u001b[39mTrue\u001b[39;00m,\n\u001b[1;32m     21\u001b[0m                  n_outputs : \u001b[39mint\u001b[39m \u001b[39m=\u001b[39m \u001b[39m2\u001b[39m):\n",
      "\u001b[0;31mModuleNotFoundError\u001b[0m: No module named 'NNUtils'"
     ]
    }
   ],
   "source": [
    "from binn.NN import BINN\n",
    "\n",
    "model = BINN(proteins = proteins,\n",
    "             pathways = pathways,\n",
    "                 activation ='tanh', \n",
    "                 learning_rate  = 1e-4, \n",
    "                 sparse = True, \n",
    "                 n_layers  = 4, \n",
    "                 scheduler = 'plateau',\n",
    "                 validate  =True,\n",
    "                 n_outputs =2)\n",
    "model.report_layer_structure(verbose=True)\n"
   ]
  }
 ],
 "metadata": {
  "kernelspec": {
   "display_name": "Python 3.9.13 ('test-venv': venv)",
   "language": "python",
   "name": "python3"
  },
  "language_info": {
   "codemirror_mode": {
    "name": "ipython",
    "version": 3
   },
   "file_extension": ".py",
   "mimetype": "text/x-python",
   "name": "python",
   "nbconvert_exporter": "python",
   "pygments_lexer": "ipython3",
   "version": "3.9.13"
  },
  "orig_nbformat": 4,
  "vscode": {
   "interpreter": {
    "hash": "623fb74bbdba707bb547fdf25190ee3331b3df16f3b0f9ee711e3b4d4adf71d8"
   }
  }
 },
 "nbformat": 4,
 "nbformat_minor": 2
}
