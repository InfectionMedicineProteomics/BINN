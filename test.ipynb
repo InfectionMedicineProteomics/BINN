{
 "cells": [
  {
   "cell_type": "code",
   "execution_count": 1,
   "metadata": {},
   "outputs": [
    {
     "name": "stdout",
     "output_type": "stream",
     "text": [
      "Number of rows of Homo sapiens: 49736\n",
      "Number of reactome ids before subsetting: 49736\n",
      "Number of reactome ids after subsetting: 3484\n",
      "Unique proteins in reactome df: 458\n",
      "Length of original parent: 652\n",
      "Function called 1 times.\n",
      "Values in reactome_idx_list: 0\n",
      "Values in new_parent: 337\n",
      "Function called 2 times.\n",
      "Values in reactome_idx_list: 652\n",
      "Values in new_parent: 184\n",
      "Function called 3 times.\n",
      "Values in reactome_idx_list: 989\n",
      "Values in new_parent: 91\n",
      "Function called 4 times.\n",
      "Values in reactome_idx_list: 1173\n",
      "Values in new_parent: 40\n",
      "Function called 5 times.\n",
      "Values in reactome_idx_list: 1264\n",
      "Values in new_parent: 18\n",
      "Function called 6 times.\n",
      "Values in reactome_idx_list: 1304\n",
      "Values in new_parent: 6\n",
      "Function called 7 times.\n",
      "Values in reactome_idx_list: 1322\n",
      "Values in new_parent: 1\n",
      "Function called 8 times.\n",
      "Values in reactome_idx_list: 1328\n",
      "Values in new_parent: 0\n",
      "Function called 9 times.\n",
      "Values in reactome_idx_list: 1329\n",
      "Base case reached\n",
      "Final number of values in reactome list: 1329\n",
      "Number of unique values in list: 1014\n",
      "Final number of unique connections in pathway:  1856\n"
     ]
    }
   ],
   "source": [
    "from binn.Process import generate_pathway_file\n",
    "pathways,proteins = generate_pathway_file()"
   ]
  },
  {
   "cell_type": "code",
   "execution_count": 2,
   "metadata": {},
   "outputs": [
    {
     "data": {
      "text/plain": [
       "'DiGraph with 1858 nodes and 1884 edges'"
      ]
     },
     "execution_count": 2,
     "metadata": {},
     "output_type": "execute_result"
    }
   ],
   "source": [
    "from binn.Network import ReactomeNetwork\n",
    "network = ReactomeNetwork(proteins=proteins, pathways=pathways)\n",
    "network.info()"
   ]
  },
  {
   "cell_type": "code",
   "execution_count": 4,
   "metadata": {},
   "outputs": [
    {
     "name": "stdout",
     "output_type": "stream",
     "text": [
      "Network:  DiGraph with 1858 nodes and 1884 edges\n",
      "Number of copies made for 4 layers: 72\n",
      "Layer 0\n",
      "Number of nonzero weights: 2509 \n",
      "Number biases: 2509 \n",
      "Total number of elements: 425991 \n",
      "Layer 4\n",
      "Number of nonzero weights: 955 \n",
      "Number biases: 955 \n",
      "Total number of elements: 434070 \n",
      "Layer 8\n",
      "Number of nonzero weights: 455 \n",
      "Number biases: 455 \n",
      "Total number of elements: 73872 \n",
      "Layer 12\n",
      "Number of nonzero weights: 163 \n",
      "Number biases: 163 \n",
      "Total number of elements: 4564 \n",
      "Layer 16\n",
      "Number of nonzero weights: 56 \n",
      "Number biases: 56 \n",
      "Total number of elements: 58 \n"
     ]
    },
    {
     "data": {
      "text/plain": [
       "{'nz weights': [tensor(2509),\n",
       "  tensor(955),\n",
       "  tensor(455),\n",
       "  tensor(163),\n",
       "  tensor(56)],\n",
       " 'weights': [425038, 433615, 73710, 4536, 56],\n",
       " 'biases': [953, 455, 162, 28, 2]}"
      ]
     },
     "execution_count": 4,
     "metadata": {},
     "output_type": "execute_result"
    }
   ],
   "source": [
    "from binn.NN import BINN\n",
    "\n",
    "model = BINN(proteins = proteins,\n",
    "             pathways = pathways,\n",
    "                 activation ='tanh', \n",
    "                 learning_rate  = 1e-4, \n",
    "                 sparse = True, \n",
    "                 n_layers  = 4, \n",
    "                 scheduler = 'plateau',\n",
    "                 validate  =True,\n",
    "                 n_outputs =2)\n",
    "model.report_layer_structure(verbose=True)\n"
   ]
  }
 ],
 "metadata": {
  "kernelspec": {
   "display_name": "Python 3.9.13 ('test-venv': venv)",
   "language": "python",
   "name": "python3"
  },
  "language_info": {
   "codemirror_mode": {
    "name": "ipython",
    "version": 3
   },
   "file_extension": ".py",
   "mimetype": "text/x-python",
   "name": "python",
   "nbconvert_exporter": "python",
   "pygments_lexer": "ipython3",
   "version": "3.9.13"
  },
  "orig_nbformat": 4,
  "vscode": {
   "interpreter": {
    "hash": "623fb74bbdba707bb547fdf25190ee3331b3df16f3b0f9ee711e3b4d4adf71d8"
   }
  }
 },
 "nbformat": 4,
 "nbformat_minor": 2
}
