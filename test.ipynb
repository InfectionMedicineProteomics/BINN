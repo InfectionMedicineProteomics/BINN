{
 "cells": [
  {
   "cell_type": "code",
   "execution_count": 4,
   "metadata": {},
   "outputs": [
    {
     "name": "stdout",
     "output_type": "stream",
     "text": [
      "Base case reached\n",
      "Final number of unique connections in pathway:  1856\n"
     ]
    }
   ],
   "source": [
    "from snn.Process import generate_pathway_file\n",
    "pathways, proteins, components = generate_pathway_file()"
   ]
  },
  {
   "cell_type": "code",
   "execution_count": 2,
   "metadata": {},
   "outputs": [
    {
     "data": {
      "text/plain": [
       "'DiGraph with 1858 nodes and 1884 edges'"
      ]
     },
     "execution_count": 2,
     "metadata": {},
     "output_type": "execute_result"
    }
   ],
   "source": [
    "from snn.Network import Network\n",
    "network = Network(proteins=proteins, pathways=pathways, protein_mapping=components)\n",
    "network.info()"
   ]
  },
  {
   "cell_type": "code",
   "execution_count": 5,
   "metadata": {},
   "outputs": [
    {
     "name": "stdout",
     "output_type": "stream",
     "text": [
      "Network:  DiGraph with 1858 nodes and 1884 edges\n",
      "Number of copies made for 4 layers: 72\n",
      "Layer 0\n",
      "Number of nonzero weights: 2509 \n",
      "Number biases: 2509 \n",
      "Total number of elements: 425991 \n",
      "Layer 4\n",
      "Number of nonzero weights: 955 \n",
      "Number biases: 955 \n",
      "Total number of elements: 434070 \n",
      "Layer 8\n",
      "Number of nonzero weights: 455 \n",
      "Number biases: 455 \n",
      "Total number of elements: 73872 \n",
      "Layer 12\n",
      "Number of nonzero weights: 163 \n",
      "Number biases: 163 \n",
      "Total number of elements: 4564 \n",
      "Layer 16\n",
      "Number of nonzero weights: 56 \n",
      "Number biases: 56 \n",
      "Total number of elements: 58 \n"
     ]
    },
    {
     "data": {
      "text/plain": [
       "{'nz weights': [tensor(2509),\n",
       "  tensor(955),\n",
       "  tensor(455),\n",
       "  tensor(163),\n",
       "  tensor(56)],\n",
       " 'weights': [425038, 433615, 73710, 4536, 56],\n",
       " 'biases': [953, 455, 162, 28, 2]}"
      ]
     },
     "execution_count": 5,
     "metadata": {},
     "output_type": "execute_result"
    }
   ],
   "source": [
    "from snn.NN import SparseNN\n",
    "\n",
    "model = SparseNN(proteins = proteins,\n",
    "            pathways = pathways,\n",
    "            connections_to_all_layers=components,\n",
    "            activation ='tanh', \n",
    "            learning_rate  = 1e-4, \n",
    "            sparse = True, \n",
    "            n_layers  = 4, \n",
    "            scheduler = 'plateau',\n",
    "            validate  =True,\n",
    "            n_outputs =2)\n",
    "model.report_layer_structure(verbose=True)\n"
   ]
  }
 ],
 "metadata": {
  "kernelspec": {
   "display_name": "Python 3.9.13 ('test-venv': venv)",
   "language": "python",
   "name": "python3"
  },
  "language_info": {
   "codemirror_mode": {
    "name": "ipython",
    "version": 3
   },
   "file_extension": ".py",
   "mimetype": "text/x-python",
   "name": "python",
   "nbconvert_exporter": "python",
   "pygments_lexer": "ipython3",
   "version": "3.9.13"
  },
  "orig_nbformat": 4,
  "vscode": {
   "interpreter": {
    "hash": "623fb74bbdba707bb547fdf25190ee3331b3df16f3b0f9ee711e3b4d4adf71d8"
   }
  }
 },
 "nbformat": 4,
 "nbformat_minor": 2
}
