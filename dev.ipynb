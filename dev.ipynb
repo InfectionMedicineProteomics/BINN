{
 "cells": [
  {
   "cell_type": "markdown",
   "metadata": {},
   "source": [
    "# Preprocessing"
   ]
  },
  {
   "cell_type": "code",
   "execution_count": 1,
   "metadata": {},
   "outputs": [],
   "source": [
    "import pandas as pd\n",
    "\n",
    "input_data = pd.read_csv(\"data/test_qm.csv\")\n",
    "mapping = pd.read_csv(\"data/uniprot_2_reactome_2025_01_14.txt\", sep=\"\\t\").iloc[:,0:2]\n",
    "pathways = pd.read_csv(\"data/reactome_pathways_relation_2025_01_14.txt\", sep=\"\\t\")\n",
    "\n",
    "input_data = input_data[\"Protein\"].tolist()\n",
    "pathways = list(pathways.itertuples(index=False, name=None))\n",
    "mapping = list(mapping.itertuples(index=False, name=None))"
   ]
  },
  {
   "cell_type": "code",
   "execution_count": null,
   "metadata": {},
   "outputs": [],
   "source": [
    "from binn import PathwayNetwork\n",
    "\n",
    "network = PathwayNetwork(\n",
    "    input_data=input_data,\n",
    "    pathways=pathways,\n",
    "    mapping=mapping,\n",
    ")\n",
    "\n",
    "network.get_connectivity_matrices(n_levels=4)"
   ]
  }
 ],
 "metadata": {
  "kernelspec": {
   "display_name": ".venv",
   "language": "python",
   "name": "python3"
  },
  "language_info": {
   "codemirror_mode": {
    "name": "ipython",
    "version": 3
   },
   "file_extension": ".py",
   "mimetype": "text/x-python",
   "name": "python",
   "nbconvert_exporter": "python",
   "pygments_lexer": "ipython3",
   "version": "3.10.15"
  }
 },
 "nbformat": 4,
 "nbformat_minor": 2
}
