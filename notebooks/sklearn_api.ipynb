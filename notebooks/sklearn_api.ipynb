{
 "cells": [
  {
   "cell_type": "code",
   "execution_count": 1,
   "outputs": [],
   "source": [
    "from binn import BINNClassifier, Network, SuperLogger, BINNExplainer\n",
    "import pandas as pd\n",
    "import numpy as np\n",
    "import seaborn as sns"
   ],
   "metadata": {
    "collapsed": false
   }
  },
  {
   "cell_type": "code",
   "execution_count": 2,
   "outputs": [
    {
     "data": {
      "text/plain": "            parent          child\n0     R-HSA-109581   R-HSA-109606\n1     R-HSA-109581   R-HSA-169911\n2     R-HSA-109581  R-HSA-5357769\n3     R-HSA-109581    R-HSA-75153\n4     R-HSA-109582   R-HSA-140877\n...            ...            ...\n2598  R-HSA-983705   R-HSA-983695\n2599  R-HSA-983712  R-HSA-2672351\n2600  R-HSA-983712   R-HSA-936837\n2601  R-HSA-991365   R-HSA-170670\n2602  R-HSA-991365   R-HSA-997272\n\n[2603 rows x 2 columns]",
      "text/html": "<div>\n<style scoped>\n    .dataframe tbody tr th:only-of-type {\n        vertical-align: middle;\n    }\n\n    .dataframe tbody tr th {\n        vertical-align: top;\n    }\n\n    .dataframe thead th {\n        text-align: right;\n    }\n</style>\n<table border=\"1\" class=\"dataframe\">\n  <thead>\n    <tr style=\"text-align: right;\">\n      <th></th>\n      <th>parent</th>\n      <th>child</th>\n    </tr>\n  </thead>\n  <tbody>\n    <tr>\n      <th>0</th>\n      <td>R-HSA-109581</td>\n      <td>R-HSA-109606</td>\n    </tr>\n    <tr>\n      <th>1</th>\n      <td>R-HSA-109581</td>\n      <td>R-HSA-169911</td>\n    </tr>\n    <tr>\n      <th>2</th>\n      <td>R-HSA-109581</td>\n      <td>R-HSA-5357769</td>\n    </tr>\n    <tr>\n      <th>3</th>\n      <td>R-HSA-109581</td>\n      <td>R-HSA-75153</td>\n    </tr>\n    <tr>\n      <th>4</th>\n      <td>R-HSA-109582</td>\n      <td>R-HSA-140877</td>\n    </tr>\n    <tr>\n      <th>...</th>\n      <td>...</td>\n      <td>...</td>\n    </tr>\n    <tr>\n      <th>2598</th>\n      <td>R-HSA-983705</td>\n      <td>R-HSA-983695</td>\n    </tr>\n    <tr>\n      <th>2599</th>\n      <td>R-HSA-983712</td>\n      <td>R-HSA-2672351</td>\n    </tr>\n    <tr>\n      <th>2600</th>\n      <td>R-HSA-983712</td>\n      <td>R-HSA-936837</td>\n    </tr>\n    <tr>\n      <th>2601</th>\n      <td>R-HSA-991365</td>\n      <td>R-HSA-170670</td>\n    </tr>\n    <tr>\n      <th>2602</th>\n      <td>R-HSA-991365</td>\n      <td>R-HSA-997272</td>\n    </tr>\n  </tbody>\n</table>\n<p>2603 rows × 2 columns</p>\n</div>"
     },
     "execution_count": 2,
     "metadata": {},
     "output_type": "execute_result"
    }
   ],
   "source": [
    "pathways = pd.read_csv(\"../data/pathways.tsv\", sep=\"\\t\")\n",
    "pathways"
   ],
   "metadata": {
    "collapsed": false
   }
  },
  {
   "cell_type": "code",
   "execution_count": 3,
   "outputs": [
    {
     "data": {
      "text/plain": "       Unnamed: 0       input    translation\n0            1323  A0A075B6P5   R-HSA-166663\n1            1324  A0A075B6P5   R-HSA-173623\n2            1325  A0A075B6P5   R-HSA-198933\n3            1326  A0A075B6P5   R-HSA-202733\n4            1327  A0A075B6P5  R-HSA-2029481\n...           ...         ...            ...\n49731      311659      Q9Y6Y9   R-HSA-937072\n49732      311660      Q9Y6Y9  R-HSA-9707616\n49733      311661      Q9Y6Y9   R-HSA-975163\n49734      311662      Q9Y6Z7   R-HSA-166662\n49735      311663      Q9Y6Z7   R-HSA-166663\n\n[49736 rows x 3 columns]",
      "text/html": "<div>\n<style scoped>\n    .dataframe tbody tr th:only-of-type {\n        vertical-align: middle;\n    }\n\n    .dataframe tbody tr th {\n        vertical-align: top;\n    }\n\n    .dataframe thead th {\n        text-align: right;\n    }\n</style>\n<table border=\"1\" class=\"dataframe\">\n  <thead>\n    <tr style=\"text-align: right;\">\n      <th></th>\n      <th>Unnamed: 0</th>\n      <th>input</th>\n      <th>translation</th>\n    </tr>\n  </thead>\n  <tbody>\n    <tr>\n      <th>0</th>\n      <td>1323</td>\n      <td>A0A075B6P5</td>\n      <td>R-HSA-166663</td>\n    </tr>\n    <tr>\n      <th>1</th>\n      <td>1324</td>\n      <td>A0A075B6P5</td>\n      <td>R-HSA-173623</td>\n    </tr>\n    <tr>\n      <th>2</th>\n      <td>1325</td>\n      <td>A0A075B6P5</td>\n      <td>R-HSA-198933</td>\n    </tr>\n    <tr>\n      <th>3</th>\n      <td>1326</td>\n      <td>A0A075B6P5</td>\n      <td>R-HSA-202733</td>\n    </tr>\n    <tr>\n      <th>4</th>\n      <td>1327</td>\n      <td>A0A075B6P5</td>\n      <td>R-HSA-2029481</td>\n    </tr>\n    <tr>\n      <th>...</th>\n      <td>...</td>\n      <td>...</td>\n      <td>...</td>\n    </tr>\n    <tr>\n      <th>49731</th>\n      <td>311659</td>\n      <td>Q9Y6Y9</td>\n      <td>R-HSA-937072</td>\n    </tr>\n    <tr>\n      <th>49732</th>\n      <td>311660</td>\n      <td>Q9Y6Y9</td>\n      <td>R-HSA-9707616</td>\n    </tr>\n    <tr>\n      <th>49733</th>\n      <td>311661</td>\n      <td>Q9Y6Y9</td>\n      <td>R-HSA-975163</td>\n    </tr>\n    <tr>\n      <th>49734</th>\n      <td>311662</td>\n      <td>Q9Y6Z7</td>\n      <td>R-HSA-166662</td>\n    </tr>\n    <tr>\n      <th>49735</th>\n      <td>311663</td>\n      <td>Q9Y6Z7</td>\n      <td>R-HSA-166663</td>\n    </tr>\n  </tbody>\n</table>\n<p>49736 rows × 3 columns</p>\n</div>"
     },
     "execution_count": 3,
     "metadata": {},
     "output_type": "execute_result"
    }
   ],
   "source": [
    "translation = pd.read_csv(\"../data/translation.tsv\", sep=\"\\t\")\n",
    "translation"
   ],
   "metadata": {
    "collapsed": false
   }
  },
  {
   "cell_type": "code",
   "execution_count": 4,
   "outputs": [
    {
     "data": {
      "text/plain": "                         PeptideSequence  Charge  Decoy Protein  CK_P1912_146  \\\n0     VDRDVAPGTLC(UniMod:4)DVAGWGIVNHAGR       3  False  P00746     7238870.0   \n1     VDRDVAPGTLC(UniMod:4)DVAGWGIVNHAGR       4  False  P00746     2681940.0   \n2                             VDTVDPPYPR       2  False  P04004    28535800.0   \n3                         AVTEQGAELSNEER       2  False  P27348           NaN   \n4                        VDVIPVNLPGEHGQR       2  False  P02751      652100.0   \n...                                  ...     ...    ...     ...           ...   \n7331                      GSPMEISLPIALSK       3  False  P09960           NaN   \n7332                        NAYAVLYDIILK       3  False  Q06323           NaN   \n7333                        PVWLGFLGPIIK       3  False  P00450           NaN   \n7334                           RVLVTGAGK       2  False  Q7Z4W1           NaN   \n7335                        DNIQGITKPAIR       2  False  P62805           NaN   \n\n      CK_P1912_147  CK_P1912_148  CK_P1912_150  CK_P1912_151  CK_P1912_152  \\\n0              NaN           NaN           NaN           NaN           NaN   \n1        2634110.0     2297470.0     1935300.0     2181160.0     2615960.0   \n2       34874600.0    34586900.0    25820800.0    24657400.0    30830100.0   \n3              NaN           NaN           NaN           NaN           NaN   \n4              NaN           NaN           NaN           NaN           NaN   \n...            ...           ...           ...           ...           ...   \n7331           NaN           NaN           NaN           NaN           NaN   \n7332           NaN           NaN           NaN           NaN           NaN   \n7333           NaN           NaN           NaN           NaN           NaN   \n7334           NaN           NaN           NaN           NaN           NaN   \n7335           NaN           NaN           NaN           NaN           NaN   \n\n      ...  TM_M2012_191  TM_M2012_192  TM_M2012_196  TM_M2012_197  \\\n0     ...           NaN           NaN           NaN           NaN   \n1     ...           NaN      519698.0           NaN           NaN   \n2     ...    12486000.0    11995900.0    24003800.0     9802000.0   \n3     ...           NaN           NaN           NaN      340523.0   \n4     ...           NaN           NaN           NaN           NaN   \n...   ...           ...           ...           ...           ...   \n7331  ...           NaN           NaN           NaN           NaN   \n7332  ...           NaN           NaN           NaN           NaN   \n7333  ...     3247630.0           NaN     1245630.0           NaN   \n7334  ...           NaN           NaN      221930.0      319971.0   \n7335  ...           NaN           NaN           NaN           NaN   \n\n      TM_M2012_198  TM_M2012_199  TM_M2012_200  TM_M2012_202  TM_M2012_203  \\\n0              NaN           NaN           NaN           NaN           NaN   \n1              NaN           NaN           NaN     2221730.0           NaN   \n2        6933130.0     7297560.0     4328240.0    13002400.0     4716600.0   \n3         336960.0      435119.0      257422.0           NaN           NaN   \n4              NaN           NaN           NaN           NaN           NaN   \n...            ...           ...           ...           ...           ...   \n7331           NaN           NaN           NaN           NaN           NaN   \n7332           NaN           NaN           NaN           NaN           NaN   \n7333     1041380.0     1032760.0      881958.0     1441870.0      564108.0   \n7334      447743.0     1107330.0      546236.0      101497.0      293407.0   \n7335           NaN           NaN           NaN           NaN      173838.0   \n\n      RetentionTime  \n0          3749.820  \n1          3593.610  \n2          2502.150  \n3          1790.840  \n4          3158.430  \n...             ...  \n7331       4348.000  \n7332       5361.965  \n7333       5510.955  \n7334       1011.060  \n7335       2193.960  \n\n[7336 rows x 202 columns]",
      "text/html": "<div>\n<style scoped>\n    .dataframe tbody tr th:only-of-type {\n        vertical-align: middle;\n    }\n\n    .dataframe tbody tr th {\n        vertical-align: top;\n    }\n\n    .dataframe thead th {\n        text-align: right;\n    }\n</style>\n<table border=\"1\" class=\"dataframe\">\n  <thead>\n    <tr style=\"text-align: right;\">\n      <th></th>\n      <th>PeptideSequence</th>\n      <th>Charge</th>\n      <th>Decoy</th>\n      <th>Protein</th>\n      <th>CK_P1912_146</th>\n      <th>CK_P1912_147</th>\n      <th>CK_P1912_148</th>\n      <th>CK_P1912_150</th>\n      <th>CK_P1912_151</th>\n      <th>CK_P1912_152</th>\n      <th>...</th>\n      <th>TM_M2012_191</th>\n      <th>TM_M2012_192</th>\n      <th>TM_M2012_196</th>\n      <th>TM_M2012_197</th>\n      <th>TM_M2012_198</th>\n      <th>TM_M2012_199</th>\n      <th>TM_M2012_200</th>\n      <th>TM_M2012_202</th>\n      <th>TM_M2012_203</th>\n      <th>RetentionTime</th>\n    </tr>\n  </thead>\n  <tbody>\n    <tr>\n      <th>0</th>\n      <td>VDRDVAPGTLC(UniMod:4)DVAGWGIVNHAGR</td>\n      <td>3</td>\n      <td>False</td>\n      <td>P00746</td>\n      <td>7238870.0</td>\n      <td>NaN</td>\n      <td>NaN</td>\n      <td>NaN</td>\n      <td>NaN</td>\n      <td>NaN</td>\n      <td>...</td>\n      <td>NaN</td>\n      <td>NaN</td>\n      <td>NaN</td>\n      <td>NaN</td>\n      <td>NaN</td>\n      <td>NaN</td>\n      <td>NaN</td>\n      <td>NaN</td>\n      <td>NaN</td>\n      <td>3749.820</td>\n    </tr>\n    <tr>\n      <th>1</th>\n      <td>VDRDVAPGTLC(UniMod:4)DVAGWGIVNHAGR</td>\n      <td>4</td>\n      <td>False</td>\n      <td>P00746</td>\n      <td>2681940.0</td>\n      <td>2634110.0</td>\n      <td>2297470.0</td>\n      <td>1935300.0</td>\n      <td>2181160.0</td>\n      <td>2615960.0</td>\n      <td>...</td>\n      <td>NaN</td>\n      <td>519698.0</td>\n      <td>NaN</td>\n      <td>NaN</td>\n      <td>NaN</td>\n      <td>NaN</td>\n      <td>NaN</td>\n      <td>2221730.0</td>\n      <td>NaN</td>\n      <td>3593.610</td>\n    </tr>\n    <tr>\n      <th>2</th>\n      <td>VDTVDPPYPR</td>\n      <td>2</td>\n      <td>False</td>\n      <td>P04004</td>\n      <td>28535800.0</td>\n      <td>34874600.0</td>\n      <td>34586900.0</td>\n      <td>25820800.0</td>\n      <td>24657400.0</td>\n      <td>30830100.0</td>\n      <td>...</td>\n      <td>12486000.0</td>\n      <td>11995900.0</td>\n      <td>24003800.0</td>\n      <td>9802000.0</td>\n      <td>6933130.0</td>\n      <td>7297560.0</td>\n      <td>4328240.0</td>\n      <td>13002400.0</td>\n      <td>4716600.0</td>\n      <td>2502.150</td>\n    </tr>\n    <tr>\n      <th>3</th>\n      <td>AVTEQGAELSNEER</td>\n      <td>2</td>\n      <td>False</td>\n      <td>P27348</td>\n      <td>NaN</td>\n      <td>NaN</td>\n      <td>NaN</td>\n      <td>NaN</td>\n      <td>NaN</td>\n      <td>NaN</td>\n      <td>...</td>\n      <td>NaN</td>\n      <td>NaN</td>\n      <td>NaN</td>\n      <td>340523.0</td>\n      <td>336960.0</td>\n      <td>435119.0</td>\n      <td>257422.0</td>\n      <td>NaN</td>\n      <td>NaN</td>\n      <td>1790.840</td>\n    </tr>\n    <tr>\n      <th>4</th>\n      <td>VDVIPVNLPGEHGQR</td>\n      <td>2</td>\n      <td>False</td>\n      <td>P02751</td>\n      <td>652100.0</td>\n      <td>NaN</td>\n      <td>NaN</td>\n      <td>NaN</td>\n      <td>NaN</td>\n      <td>NaN</td>\n      <td>...</td>\n      <td>NaN</td>\n      <td>NaN</td>\n      <td>NaN</td>\n      <td>NaN</td>\n      <td>NaN</td>\n      <td>NaN</td>\n      <td>NaN</td>\n      <td>NaN</td>\n      <td>NaN</td>\n      <td>3158.430</td>\n    </tr>\n    <tr>\n      <th>...</th>\n      <td>...</td>\n      <td>...</td>\n      <td>...</td>\n      <td>...</td>\n      <td>...</td>\n      <td>...</td>\n      <td>...</td>\n      <td>...</td>\n      <td>...</td>\n      <td>...</td>\n      <td>...</td>\n      <td>...</td>\n      <td>...</td>\n      <td>...</td>\n      <td>...</td>\n      <td>...</td>\n      <td>...</td>\n      <td>...</td>\n      <td>...</td>\n      <td>...</td>\n      <td>...</td>\n    </tr>\n    <tr>\n      <th>7331</th>\n      <td>GSPMEISLPIALSK</td>\n      <td>3</td>\n      <td>False</td>\n      <td>P09960</td>\n      <td>NaN</td>\n      <td>NaN</td>\n      <td>NaN</td>\n      <td>NaN</td>\n      <td>NaN</td>\n      <td>NaN</td>\n      <td>...</td>\n      <td>NaN</td>\n      <td>NaN</td>\n      <td>NaN</td>\n      <td>NaN</td>\n      <td>NaN</td>\n      <td>NaN</td>\n      <td>NaN</td>\n      <td>NaN</td>\n      <td>NaN</td>\n      <td>4348.000</td>\n    </tr>\n    <tr>\n      <th>7332</th>\n      <td>NAYAVLYDIILK</td>\n      <td>3</td>\n      <td>False</td>\n      <td>Q06323</td>\n      <td>NaN</td>\n      <td>NaN</td>\n      <td>NaN</td>\n      <td>NaN</td>\n      <td>NaN</td>\n      <td>NaN</td>\n      <td>...</td>\n      <td>NaN</td>\n      <td>NaN</td>\n      <td>NaN</td>\n      <td>NaN</td>\n      <td>NaN</td>\n      <td>NaN</td>\n      <td>NaN</td>\n      <td>NaN</td>\n      <td>NaN</td>\n      <td>5361.965</td>\n    </tr>\n    <tr>\n      <th>7333</th>\n      <td>PVWLGFLGPIIK</td>\n      <td>3</td>\n      <td>False</td>\n      <td>P00450</td>\n      <td>NaN</td>\n      <td>NaN</td>\n      <td>NaN</td>\n      <td>NaN</td>\n      <td>NaN</td>\n      <td>NaN</td>\n      <td>...</td>\n      <td>3247630.0</td>\n      <td>NaN</td>\n      <td>1245630.0</td>\n      <td>NaN</td>\n      <td>1041380.0</td>\n      <td>1032760.0</td>\n      <td>881958.0</td>\n      <td>1441870.0</td>\n      <td>564108.0</td>\n      <td>5510.955</td>\n    </tr>\n    <tr>\n      <th>7334</th>\n      <td>RVLVTGAGK</td>\n      <td>2</td>\n      <td>False</td>\n      <td>Q7Z4W1</td>\n      <td>NaN</td>\n      <td>NaN</td>\n      <td>NaN</td>\n      <td>NaN</td>\n      <td>NaN</td>\n      <td>NaN</td>\n      <td>...</td>\n      <td>NaN</td>\n      <td>NaN</td>\n      <td>221930.0</td>\n      <td>319971.0</td>\n      <td>447743.0</td>\n      <td>1107330.0</td>\n      <td>546236.0</td>\n      <td>101497.0</td>\n      <td>293407.0</td>\n      <td>1011.060</td>\n    </tr>\n    <tr>\n      <th>7335</th>\n      <td>DNIQGITKPAIR</td>\n      <td>2</td>\n      <td>False</td>\n      <td>P62805</td>\n      <td>NaN</td>\n      <td>NaN</td>\n      <td>NaN</td>\n      <td>NaN</td>\n      <td>NaN</td>\n      <td>NaN</td>\n      <td>...</td>\n      <td>NaN</td>\n      <td>NaN</td>\n      <td>NaN</td>\n      <td>NaN</td>\n      <td>NaN</td>\n      <td>NaN</td>\n      <td>NaN</td>\n      <td>NaN</td>\n      <td>173838.0</td>\n      <td>2193.960</td>\n    </tr>\n  </tbody>\n</table>\n<p>7336 rows × 202 columns</p>\n</div>"
     },
     "execution_count": 4,
     "metadata": {},
     "output_type": "execute_result"
    }
   ],
   "source": [
    "input_data = pd.read_csv(\"../data/TestQM.tsv\", sep=\"\\t\")\n",
    "input_data"
   ],
   "metadata": {
    "collapsed": false
   }
  },
  {
   "cell_type": "code",
   "execution_count": 5,
   "outputs": [
    {
     "data": {
      "text/plain": "           sample  group\n0    TM_P1911_190      2\n1    TM_P1911_191      2\n2    TM_P1911_192      2\n3    TM_P1911_193      2\n4    TM_P1911_194      2\n..            ...    ...\n192  TM_M2012_198      2\n193  TM_M2012_199      2\n194  TM_M2012_200      2\n195  TM_M2012_202      2\n196  TM_M2012_203      2\n\n[197 rows x 2 columns]",
      "text/html": "<div>\n<style scoped>\n    .dataframe tbody tr th:only-of-type {\n        vertical-align: middle;\n    }\n\n    .dataframe tbody tr th {\n        vertical-align: top;\n    }\n\n    .dataframe thead th {\n        text-align: right;\n    }\n</style>\n<table border=\"1\" class=\"dataframe\">\n  <thead>\n    <tr style=\"text-align: right;\">\n      <th></th>\n      <th>sample</th>\n      <th>group</th>\n    </tr>\n  </thead>\n  <tbody>\n    <tr>\n      <th>0</th>\n      <td>TM_P1911_190</td>\n      <td>2</td>\n    </tr>\n    <tr>\n      <th>1</th>\n      <td>TM_P1911_191</td>\n      <td>2</td>\n    </tr>\n    <tr>\n      <th>2</th>\n      <td>TM_P1911_192</td>\n      <td>2</td>\n    </tr>\n    <tr>\n      <th>3</th>\n      <td>TM_P1911_193</td>\n      <td>2</td>\n    </tr>\n    <tr>\n      <th>4</th>\n      <td>TM_P1911_194</td>\n      <td>2</td>\n    </tr>\n    <tr>\n      <th>...</th>\n      <td>...</td>\n      <td>...</td>\n    </tr>\n    <tr>\n      <th>192</th>\n      <td>TM_M2012_198</td>\n      <td>2</td>\n    </tr>\n    <tr>\n      <th>193</th>\n      <td>TM_M2012_199</td>\n      <td>2</td>\n    </tr>\n    <tr>\n      <th>194</th>\n      <td>TM_M2012_200</td>\n      <td>2</td>\n    </tr>\n    <tr>\n      <th>195</th>\n      <td>TM_M2012_202</td>\n      <td>2</td>\n    </tr>\n    <tr>\n      <th>196</th>\n      <td>TM_M2012_203</td>\n      <td>2</td>\n    </tr>\n  </tbody>\n</table>\n<p>197 rows × 2 columns</p>\n</div>"
     },
     "execution_count": 5,
     "metadata": {},
     "output_type": "execute_result"
    }
   ],
   "source": [
    "design_matrix = pd.read_csv(\"../data/design_matrix.tsv\", sep=\"\\t\")\n",
    "design_matrix"
   ],
   "metadata": {
    "collapsed": false
   }
  },
  {
   "cell_type": "code",
   "execution_count": 6,
   "outputs": [],
   "source": [
    "from dpks.quant_matrix import QuantMatrix\n",
    "\n",
    "quantified_proteins = QuantMatrix(\n",
    "    quantification_file=input_data,\n",
    "    design_matrix_file=design_matrix\n",
    ")\\\n",
    "    .normalize(method=\"mean\")\\\n",
    "    .quantify(method=\"maxlfq\", level=\"protein\", threads=10)\\\n",
    "    .compare_groups(\n",
    "        method=\"linregress\",\n",
    "        group_a=1,\n",
    "        group_b=2\n",
    "    )"
   ],
   "metadata": {
    "collapsed": false
   }
  },
  {
   "cell_type": "code",
   "execution_count": 7,
   "outputs": [
    {
     "data": {
      "text/plain": "    Protein  Group1Mean  Group2Mean  Log2FoldChange1-2  PValues1-2  \\\n0    P08603   22.704976   22.778449          -0.073473    0.167402   \n1    P02671   24.711628   24.731697          -0.020069    0.841549   \n2    P01042   22.455992   22.555733          -0.099741    0.092295   \n3    P00450   22.848118   23.019525          -0.171407    0.006293   \n4    P05156   21.192046   21.294379          -0.102333    0.220999   \n..      ...         ...         ...                ...         ...   \n549  P07333   18.769939   19.788901          -1.018962    0.000123   \n550  Q06323   19.514362   18.022822           1.491540    0.161708   \n551  P16035   18.542429   18.466542           0.075887    0.759335   \n552  O95633         NaN         NaN                NaN         NaN   \n553  O00194         NaN         NaN                NaN         NaN   \n\n     Group1RepCounts  Group2RepCounts  CorrectedPValue  TM_P1911_190  \\\n0                 74              123         0.134529     22.491483   \n1                 74              123         0.442396     25.191728   \n2                 74              123         0.081025     21.898323   \n3                 74              123         0.007971     22.833492   \n4                 74              123         0.165594     21.056419   \n..               ...              ...              ...           ...   \n549               12               54         0.000234           NaN   \n550                2                5         0.130742           NaN   \n551               14               30         0.404306           NaN   \n552                0                3              NaN           NaN   \n553                1                0              NaN           NaN   \n\n     TM_P1911_191  ...  TM_M2012_190  TM_M2012_191  TM_M2012_192  \\\n0       22.858132  ...     23.207890     23.246586     23.313050   \n1       25.320787  ...     24.764504     24.806082     24.994612   \n2       21.943888  ...     22.829843     22.913729     22.856636   \n3       23.386586  ...     23.531525     23.695056     23.637887   \n4       21.366153  ...     21.604318     21.660310     21.682339   \n..            ...  ...           ...           ...           ...   \n549           NaN  ...           NaN           NaN           NaN   \n550           NaN  ...           NaN           NaN           NaN   \n551     19.124122  ...           NaN           NaN           NaN   \n552           NaN  ...           NaN           NaN           NaN   \n553           NaN  ...           NaN           NaN           NaN   \n\n     TM_M2012_196  TM_M2012_197  TM_M2012_198  TM_M2012_199  TM_M2012_200  \\\n0       23.021662     22.886529     23.148738     23.224264     23.173166   \n1       22.741682     23.874753     24.096868     24.189893     24.664228   \n2       22.941577     22.718110     22.870361     22.888370     22.778884   \n3       22.932646     22.906274     23.271090     23.497650     23.517777   \n4       21.289973     21.071472     21.397457     21.357681     21.395317   \n..            ...           ...           ...           ...           ...   \n549     18.481107           NaN           NaN           NaN           NaN   \n550     17.150877     18.086225           NaN           NaN     19.517408   \n551           NaN           NaN           NaN           NaN           NaN   \n552     18.054630           NaN           NaN           NaN           NaN   \n553           NaN           NaN           NaN           NaN           NaN   \n\n     TM_M2012_202  TM_M2012_203  \n0       23.788795     23.174173  \n1       24.877911     24.519495  \n2       23.891875     22.818564  \n3       23.808450     23.553383  \n4       22.103208     21.370211  \n..            ...           ...  \n549           NaN           NaN  \n550           NaN     17.283127  \n551           NaN           NaN  \n552           NaN           NaN  \n553           NaN           NaN  \n\n[554 rows x 205 columns]",
      "text/html": "<div>\n<style scoped>\n    .dataframe tbody tr th:only-of-type {\n        vertical-align: middle;\n    }\n\n    .dataframe tbody tr th {\n        vertical-align: top;\n    }\n\n    .dataframe thead th {\n        text-align: right;\n    }\n</style>\n<table border=\"1\" class=\"dataframe\">\n  <thead>\n    <tr style=\"text-align: right;\">\n      <th></th>\n      <th>Protein</th>\n      <th>Group1Mean</th>\n      <th>Group2Mean</th>\n      <th>Log2FoldChange1-2</th>\n      <th>PValues1-2</th>\n      <th>Group1RepCounts</th>\n      <th>Group2RepCounts</th>\n      <th>CorrectedPValue</th>\n      <th>TM_P1911_190</th>\n      <th>TM_P1911_191</th>\n      <th>...</th>\n      <th>TM_M2012_190</th>\n      <th>TM_M2012_191</th>\n      <th>TM_M2012_192</th>\n      <th>TM_M2012_196</th>\n      <th>TM_M2012_197</th>\n      <th>TM_M2012_198</th>\n      <th>TM_M2012_199</th>\n      <th>TM_M2012_200</th>\n      <th>TM_M2012_202</th>\n      <th>TM_M2012_203</th>\n    </tr>\n  </thead>\n  <tbody>\n    <tr>\n      <th>0</th>\n      <td>P08603</td>\n      <td>22.704976</td>\n      <td>22.778449</td>\n      <td>-0.073473</td>\n      <td>0.167402</td>\n      <td>74</td>\n      <td>123</td>\n      <td>0.134529</td>\n      <td>22.491483</td>\n      <td>22.858132</td>\n      <td>...</td>\n      <td>23.207890</td>\n      <td>23.246586</td>\n      <td>23.313050</td>\n      <td>23.021662</td>\n      <td>22.886529</td>\n      <td>23.148738</td>\n      <td>23.224264</td>\n      <td>23.173166</td>\n      <td>23.788795</td>\n      <td>23.174173</td>\n    </tr>\n    <tr>\n      <th>1</th>\n      <td>P02671</td>\n      <td>24.711628</td>\n      <td>24.731697</td>\n      <td>-0.020069</td>\n      <td>0.841549</td>\n      <td>74</td>\n      <td>123</td>\n      <td>0.442396</td>\n      <td>25.191728</td>\n      <td>25.320787</td>\n      <td>...</td>\n      <td>24.764504</td>\n      <td>24.806082</td>\n      <td>24.994612</td>\n      <td>22.741682</td>\n      <td>23.874753</td>\n      <td>24.096868</td>\n      <td>24.189893</td>\n      <td>24.664228</td>\n      <td>24.877911</td>\n      <td>24.519495</td>\n    </tr>\n    <tr>\n      <th>2</th>\n      <td>P01042</td>\n      <td>22.455992</td>\n      <td>22.555733</td>\n      <td>-0.099741</td>\n      <td>0.092295</td>\n      <td>74</td>\n      <td>123</td>\n      <td>0.081025</td>\n      <td>21.898323</td>\n      <td>21.943888</td>\n      <td>...</td>\n      <td>22.829843</td>\n      <td>22.913729</td>\n      <td>22.856636</td>\n      <td>22.941577</td>\n      <td>22.718110</td>\n      <td>22.870361</td>\n      <td>22.888370</td>\n      <td>22.778884</td>\n      <td>23.891875</td>\n      <td>22.818564</td>\n    </tr>\n    <tr>\n      <th>3</th>\n      <td>P00450</td>\n      <td>22.848118</td>\n      <td>23.019525</td>\n      <td>-0.171407</td>\n      <td>0.006293</td>\n      <td>74</td>\n      <td>123</td>\n      <td>0.007971</td>\n      <td>22.833492</td>\n      <td>23.386586</td>\n      <td>...</td>\n      <td>23.531525</td>\n      <td>23.695056</td>\n      <td>23.637887</td>\n      <td>22.932646</td>\n      <td>22.906274</td>\n      <td>23.271090</td>\n      <td>23.497650</td>\n      <td>23.517777</td>\n      <td>23.808450</td>\n      <td>23.553383</td>\n    </tr>\n    <tr>\n      <th>4</th>\n      <td>P05156</td>\n      <td>21.192046</td>\n      <td>21.294379</td>\n      <td>-0.102333</td>\n      <td>0.220999</td>\n      <td>74</td>\n      <td>123</td>\n      <td>0.165594</td>\n      <td>21.056419</td>\n      <td>21.366153</td>\n      <td>...</td>\n      <td>21.604318</td>\n      <td>21.660310</td>\n      <td>21.682339</td>\n      <td>21.289973</td>\n      <td>21.071472</td>\n      <td>21.397457</td>\n      <td>21.357681</td>\n      <td>21.395317</td>\n      <td>22.103208</td>\n      <td>21.370211</td>\n    </tr>\n    <tr>\n      <th>...</th>\n      <td>...</td>\n      <td>...</td>\n      <td>...</td>\n      <td>...</td>\n      <td>...</td>\n      <td>...</td>\n      <td>...</td>\n      <td>...</td>\n      <td>...</td>\n      <td>...</td>\n      <td>...</td>\n      <td>...</td>\n      <td>...</td>\n      <td>...</td>\n      <td>...</td>\n      <td>...</td>\n      <td>...</td>\n      <td>...</td>\n      <td>...</td>\n      <td>...</td>\n      <td>...</td>\n    </tr>\n    <tr>\n      <th>549</th>\n      <td>P07333</td>\n      <td>18.769939</td>\n      <td>19.788901</td>\n      <td>-1.018962</td>\n      <td>0.000123</td>\n      <td>12</td>\n      <td>54</td>\n      <td>0.000234</td>\n      <td>NaN</td>\n      <td>NaN</td>\n      <td>...</td>\n      <td>NaN</td>\n      <td>NaN</td>\n      <td>NaN</td>\n      <td>18.481107</td>\n      <td>NaN</td>\n      <td>NaN</td>\n      <td>NaN</td>\n      <td>NaN</td>\n      <td>NaN</td>\n      <td>NaN</td>\n    </tr>\n    <tr>\n      <th>550</th>\n      <td>Q06323</td>\n      <td>19.514362</td>\n      <td>18.022822</td>\n      <td>1.491540</td>\n      <td>0.161708</td>\n      <td>2</td>\n      <td>5</td>\n      <td>0.130742</td>\n      <td>NaN</td>\n      <td>NaN</td>\n      <td>...</td>\n      <td>NaN</td>\n      <td>NaN</td>\n      <td>NaN</td>\n      <td>17.150877</td>\n      <td>18.086225</td>\n      <td>NaN</td>\n      <td>NaN</td>\n      <td>19.517408</td>\n      <td>NaN</td>\n      <td>17.283127</td>\n    </tr>\n    <tr>\n      <th>551</th>\n      <td>P16035</td>\n      <td>18.542429</td>\n      <td>18.466542</td>\n      <td>0.075887</td>\n      <td>0.759335</td>\n      <td>14</td>\n      <td>30</td>\n      <td>0.404306</td>\n      <td>NaN</td>\n      <td>19.124122</td>\n      <td>...</td>\n      <td>NaN</td>\n      <td>NaN</td>\n      <td>NaN</td>\n      <td>NaN</td>\n      <td>NaN</td>\n      <td>NaN</td>\n      <td>NaN</td>\n      <td>NaN</td>\n      <td>NaN</td>\n      <td>NaN</td>\n    </tr>\n    <tr>\n      <th>552</th>\n      <td>O95633</td>\n      <td>NaN</td>\n      <td>NaN</td>\n      <td>NaN</td>\n      <td>NaN</td>\n      <td>0</td>\n      <td>3</td>\n      <td>NaN</td>\n      <td>NaN</td>\n      <td>NaN</td>\n      <td>...</td>\n      <td>NaN</td>\n      <td>NaN</td>\n      <td>NaN</td>\n      <td>18.054630</td>\n      <td>NaN</td>\n      <td>NaN</td>\n      <td>NaN</td>\n      <td>NaN</td>\n      <td>NaN</td>\n      <td>NaN</td>\n    </tr>\n    <tr>\n      <th>553</th>\n      <td>O00194</td>\n      <td>NaN</td>\n      <td>NaN</td>\n      <td>NaN</td>\n      <td>NaN</td>\n      <td>1</td>\n      <td>0</td>\n      <td>NaN</td>\n      <td>NaN</td>\n      <td>NaN</td>\n      <td>...</td>\n      <td>NaN</td>\n      <td>NaN</td>\n      <td>NaN</td>\n      <td>NaN</td>\n      <td>NaN</td>\n      <td>NaN</td>\n      <td>NaN</td>\n      <td>NaN</td>\n      <td>NaN</td>\n      <td>NaN</td>\n    </tr>\n  </tbody>\n</table>\n<p>554 rows × 205 columns</p>\n</div>"
     },
     "execution_count": 7,
     "metadata": {},
     "output_type": "execute_result"
    }
   ],
   "source": [
    "quantified_proteins.to_df()"
   ],
   "metadata": {
    "collapsed": false
   }
  },
  {
   "cell_type": "code",
   "execution_count": null,
   "outputs": [],
   "source": [
    "network = Network(\n",
    "    input_data=input_data,\n",
    "    pathways=pathways,\n",
    "    mapping=translation,\n",
    "    verbose=True\n",
    ")"
   ],
   "metadata": {
    "collapsed": false
   }
  },
  {
   "cell_type": "code",
   "execution_count": null,
   "outputs": [],
   "source": [
    "binn = BINNClassifier(\n",
    "    pathways=network,\n",
    "    n_layers=4,\n",
    "    dropout=0.2,\n",
    "    validate=True,\n",
    "    epochs=10,\n",
    "    threads=10,\n",
    "    logger=SuperLogger(\"logs/test\")\n",
    ")"
   ],
   "metadata": {
    "collapsed": false
   }
  },
  {
   "cell_type": "code",
   "execution_count": null,
   "outputs": [],
   "source": [],
   "metadata": {
    "collapsed": false
   }
  }
 ],
 "metadata": {
  "kernelspec": {
   "display_name": "Python 3",
   "language": "python",
   "name": "python3"
  },
  "language_info": {
   "codemirror_mode": {
    "name": "ipython",
    "version": 2
   },
   "file_extension": ".py",
   "mimetype": "text/x-python",
   "name": "python",
   "nbconvert_exporter": "python",
   "pygments_lexer": "ipython2",
   "version": "2.7.6"
  }
 },
 "nbformat": 4,
 "nbformat_minor": 0
}
