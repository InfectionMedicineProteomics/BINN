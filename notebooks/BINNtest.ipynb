{
 "cells": [
  {
   "cell_type": "code",
   "execution_count": 5,
   "metadata": {},
   "outputs": [
    {
     "ename": "ModuleNotFoundError",
     "evalue": "No module named 'binn'",
     "output_type": "error",
     "traceback": [
      "\u001b[0;31m---------------------------------------------------------------------------\u001b[0m",
      "\u001b[0;31mModuleNotFoundError\u001b[0m                       Traceback (most recent call last)",
      "Cell \u001b[0;32mIn [5], line 1\u001b[0m\n\u001b[0;32m----> 1\u001b[0m \u001b[39mfrom\u001b[39;00m \u001b[39mbinn\u001b[39;00m\u001b[39m.\u001b[39;00m\u001b[39mbinn\u001b[39;00m \u001b[39mimport\u001b[39;00m BINN\n\u001b[1;32m      3\u001b[0m model \u001b[39m=\u001b[39m BINN(\n\u001b[1;32m      4\u001b[0m             input_data  \u001b[39m=\u001b[39m \u001b[39m'\u001b[39m\u001b[39mdata/TestQM.csv\u001b[39m\u001b[39m'\u001b[39m, \n\u001b[1;32m      5\u001b[0m             pathways \u001b[39m=\u001b[39m \u001b[39m'\u001b[39m\u001b[39mdata/pathways.tsv\u001b[39m\u001b[39m'\u001b[39m,\n\u001b[0;32m   (...)\u001b[0m\n\u001b[1;32m     13\u001b[0m             validate  \u001b[39m=\u001b[39m \u001b[39mTrue\u001b[39;00m,\n\u001b[1;32m     14\u001b[0m             n_outputs \u001b[39m=\u001b[39m \u001b[39m2\u001b[39m)\n\u001b[1;32m     15\u001b[0m model\u001b[39m.\u001b[39mlayers\n",
      "\u001b[0;31mModuleNotFoundError\u001b[0m: No module named 'binn'"
     ]
    }
   ],
   "source": [
    "from binn.binn import BINN\n",
    "\n",
    "model = BINN(\n",
    "            input_data  = 'data/TestQM.csv', \n",
    "            pathways = 'data/pathways.tsv',\n",
    "            translation_mapping  = 'data/translation.tsv',\n",
    "            input_data_column = 'Protein',\n",
    "            activation ='tanh', \n",
    "            learning_rate  = 1e-4, \n",
    "            n_layers  = 4, \n",
    "            scheduler = 'plateau',\n",
    "            optimizer = 'adam',\n",
    "            validate  = True,\n",
    "            n_outputs = 2)\n",
    "model.layers\n"
   ]
  },
  {
   "cell_type": "code",
   "execution_count": 3,
   "metadata": {},
   "outputs": [
    {
     "data": {
      "text/plain": [
       "[Index(['A0M8Q6', 'O00194', 'O00391', 'O14786', 'O14791', 'O15145', 'O43707',\n",
       "        'O75369', 'O75594', 'O75636',\n",
       "        ...\n",
       "        'Q9HD89', 'Q9UBE0', 'Q9UBR2', 'Q9UBX5', 'Q9UGM3', 'Q9UK55', 'Q9UNW1',\n",
       "        'Q9Y490', 'Q9Y4L1', 'Q9Y6Z7'],\n",
       "       dtype='object', length=446),\n",
       " Index(['R-HSA-111452', 'R-HSA-111453', 'R-HSA-111471', 'R-HSA-114294',\n",
       "        'R-HSA-114452', 'R-HSA-75108', 'R-HSA-111465', 'R-HSA-181429',\n",
       "        'R-HSA-181430', 'R-HSA-210500',\n",
       "        ...\n",
       "        'R-HSA-381753', 'R-HSA-9717189', 'R-HSA-9706019', 'R-HSA-9715370',\n",
       "        'R-HSA-9748787', 'R-HSA-9749641', 'R-HSA-9753281', 'R-HSA-9754706',\n",
       "        'R-HSA-983189', 'R-HSA-936837'],\n",
       "       dtype='object', length=953),\n",
       " Index(['R-HSA-429914', 'R-HSA-75158', 'R-HSA-5602358', 'R-HSA-8979227',\n",
       "        'R-HSA-8963693', 'R-HSA-8964540', 'R-HSA-5601884', 'R-HSA-5668541',\n",
       "        'R-HSA-5662702', 'R-HSA-72086',\n",
       "        ...\n",
       "        'R-HSA-2990846', 'R-HSA-202403', 'R-HSA-8956321', 'R-HSA-917977',\n",
       "        'R-HSA-1368071', 'R-HSA-71240', 'R-HSA-186797', 'R-HSA-1855204',\n",
       "        'R-HSA-3238698', 'R-HSA-3000170'],\n",
       "       dtype='object', length=455),\n",
       " Index(['R-HSA-5260271', 'R-HSA-72312', 'R-HSA-5668914', 'R-HSA-195721',\n",
       "        'R-HSA-917937', 'R-HSA-9659379', 'R-HSA-73857', 'R-HSA-5218859',\n",
       "        'R-HSA-391251', 'R-HSA-1280215',\n",
       "        ...\n",
       "        'R-HSA-927802', 'R-HSA-9717189', 'R-HSA-9613829', 'R-HSA-69239',\n",
       "        'R-HSA-202733', 'R-HSA-9754706', 'R-HSA-983231', 'R-HSA-556833',\n",
       "        'R-HSA-9645723', 'R-HSA-354192'],\n",
       "       dtype='object', length=162),\n",
       " Index(['R-HSA-400253', 'R-HSA-1266738', 'R-HSA-9709957', 'R-HSA-69306',\n",
       "        'R-HSA-1640170', 'R-HSA-162582', 'R-HSA-397014', 'R-HSA-9612973',\n",
       "        'R-HSA-168256', 'R-HSA-8953897', 'R-HSA-8953854', 'R-HSA-73894',\n",
       "        'R-HSA-5653656', 'R-HSA-109582', 'R-HSA-4839726', 'R-HSA-9748784',\n",
       "        'R-HSA-112316', 'R-HSA-382551', 'R-HSA-74160', 'R-HSA-9609507',\n",
       "        'R-HSA-1474165', 'R-HSA-392499', 'R-HSA-1500931', 'R-HSA-1474244',\n",
       "        'R-HSA-1852241', 'R-HSA-1430728', 'R-HSA-1643685', 'R-HSA-5357801'],\n",
       "       dtype='object')]"
      ]
     },
     "execution_count": 3,
     "metadata": {},
     "output_type": "execute_result"
    }
   ],
   "source": [
    "layers = model.layer_names\n",
    "layers"
   ]
  },
  {
   "cell_type": "code",
   "execution_count": 1,
   "metadata": {},
   "outputs": [
    {
     "name": "stdout",
     "output_type": "stream",
     "text": [
      "Number of reactome ids before subsetting: 3484\n",
      "Unique proteins in reactome df: 458\n",
      "Function called 1 times.\n",
      "Values in idx_list: 0\n",
      "Function called 2 times.\n",
      "Values in idx_list: 652\n",
      "Function called 3 times.\n",
      "Values in idx_list: 989\n",
      "Function called 4 times.\n",
      "Values in idx_list: 1173\n",
      "Function called 5 times.\n",
      "Values in idx_list: 1264\n",
      "Function called 6 times.\n",
      "Values in idx_list: 1304\n",
      "Function called 7 times.\n",
      "Values in idx_list: 1322\n",
      "Function called 8 times.\n",
      "Values in idx_list: 1328\n",
      "Function called 9 times.\n",
      "Values in idx_list: 1329\n",
      "Base case reached\n",
      "Final number of unique connections in pathway:  1856\n"
     ]
    }
   ],
   "source": [
    "from binn.Process import generate_pathway_file\n",
    "pathways, inputs, mapping_to_all_layers = generate_pathway_file(\n",
    "                                                    pathways = 'data/pathways.tsv',\n",
    "                                                    input_data = 'data/TestQM.tsv' ,\n",
    "                                                    translation_mapping = \"data/translation.tsv\",\n",
    "                                                    input_data_column = \"Protein\")\n"
   ]
  },
  {
   "cell_type": "code",
   "execution_count": 37,
   "metadata": {},
   "outputs": [
    {
     "data": {
      "text/plain": [
       "'DiGraph with 1858 nodes and 1884 edges'"
      ]
     },
     "execution_count": 37,
     "metadata": {},
     "output_type": "execute_result"
    }
   ],
   "source": [
    "from binn.Network import Network\n",
    "network = Network(inputs=inputs, pathways=pathways, mapping=mapping_to_all_layers)\n",
    "network.info()"
   ]
  },
  {
   "cell_type": "code",
   "execution_count": 38,
   "metadata": {},
   "outputs": [
    {
     "name": "stdout",
     "output_type": "stream",
     "text": [
      "Test data (quantmatrix) \n",
      "                       PeptideSequence Protein\n",
      "0  VDRDVAPGTLC(UniMod:4)DVAGWGIVNHAGR  P00746\n",
      "1  VDRDVAPGTLC(UniMod:4)DVAGWGIVNHAGR  P00746\n",
      "2                          VDTVDPPYPR  P04004\n",
      "3                      AVTEQGAELSNEER  P27348\n",
      "4                     VDVIPVNLPGEHGQR  P02751\n",
      "Pathways file\n",
      "          parent          child\n",
      "0  R-HSA-109581   R-HSA-109606\n",
      "1  R-HSA-109581   R-HSA-169911\n",
      "2  R-HSA-109581  R-HSA-5357769\n",
      "3  R-HSA-109581    R-HSA-75153\n",
      "4  R-HSA-109582   R-HSA-140877\n",
      "Translation file\n",
      "    Unnamed: 0       input    translation\n",
      "0        1323  A0A075B6P5   R-HSA-166663\n",
      "1        1324  A0A075B6P5   R-HSA-173623\n",
      "2        1325  A0A075B6P5   R-HSA-198933\n",
      "3        1326  A0A075B6P5   R-HSA-202733\n",
      "4        1327  A0A075B6P5  R-HSA-2029481\n"
     ]
    }
   ],
   "source": [
    "import pandas as pd\n",
    "test_data = pd.read_csv('data/TestQM.tsv', sep=\"\\t\")\n",
    "pathways = pd.read_csv('data/pathways.tsv', sep=\"\\t\")\n",
    "translation = pd.read_csv('data/translation.tsv', sep=\"\\t\")\n",
    "print(\"Test data (quantmatrix) \\n\", test_data[['PeptideSequence', 'Protein']].head())\n",
    "print(\"Pathways file\\n\", pathways.head())\n",
    "print(\"Translation file\\n\", translation.head())\n"
   ]
  },
  {
   "cell_type": "code",
   "execution_count": 6,
   "metadata": {},
   "outputs": [
    {
     "name": "stdout",
     "output_type": "stream",
     "text": [
      "Number of reactome ids before subsetting: 3484\n",
      "Unique proteins in reactome df: 458\n",
      "Function called 1 times.\n",
      "Values in idx_list: 0\n",
      "Function called 2 times.\n",
      "Values in idx_list: 652\n",
      "Function called 3 times.\n",
      "Values in idx_list: 989\n",
      "Function called 4 times.\n",
      "Values in idx_list: 1173\n",
      "Function called 5 times.\n",
      "Values in idx_list: 1264\n",
      "Function called 6 times.\n",
      "Values in idx_list: 1304\n",
      "Function called 7 times.\n",
      "Values in idx_list: 1322\n",
      "Function called 8 times.\n",
      "Values in idx_list: 1328\n",
      "Function called 9 times.\n",
      "Values in idx_list: 1329\n",
      "Base case reached\n",
      "Final number of unique connections in pathway:  1856\n",
      "Network:  DiGraph with 1858 nodes and 1884 edges\n",
      "Number of copies made for 4 layers: 72\n"
     ]
    },
    {
     "data": {
      "text/plain": [
       "BINN(\n",
       "  (layers): Sequential(\n",
       "    (Layer_0): Linear(in_features=446, out_features=953, bias=True)\n",
       "    (BatchNorm_0): BatchNorm1d(953, eps=1e-05, momentum=0.1, affine=True, track_running_stats=True)\n",
       "    (Dropout_0): Dropout(p=0.5, inplace=False)\n",
       "    (Activation_0): Sigmoid()\n",
       "    (Layer_1): Linear(in_features=953, out_features=455, bias=True)\n",
       "    (BatchNorm_1): BatchNorm1d(455, eps=1e-05, momentum=0.1, affine=True, track_running_stats=True)\n",
       "    (Dropout_1): Dropout(p=0.3, inplace=False)\n",
       "    (Activation_1): Tanh()\n",
       "    (Layer_2): Linear(in_features=455, out_features=162, bias=True)\n",
       "    (BatchNorm_2): BatchNorm1d(162, eps=1e-05, momentum=0.1, affine=True, track_running_stats=True)\n",
       "    (Dropout_2): Dropout(p=0.1, inplace=False)\n",
       "    (Activation_2): ReLU()\n",
       "    (Layer_3): Linear(in_features=162, out_features=28, bias=True)\n",
       "    (BatchNorm_3): BatchNorm1d(28, eps=1e-05, momentum=0.1, affine=True, track_running_stats=True)\n",
       "    (Dropout_3): Dropout(p=0.1, inplace=False)\n",
       "    (Activation_3): ReLU()\n",
       "    (Output layer): Linear(in_features=28, out_features=2, bias=True)\n",
       "  )\n",
       "  (loss): CrossEntropyLoss()\n",
       ")"
      ]
     },
     "execution_count": 6,
     "metadata": {},
     "output_type": "execute_result"
    }
   ],
   "source": [
    "from binn.NN import BINN\n",
    "import torch.nn as nn\n",
    "import torch\n",
    "\n",
    "# we can also pass a list of activations\n",
    "activations = [nn.Sigmoid(), nn.Tanh(), nn.ReLU(), nn.ReLU()]\n",
    "# and a list of dropout ratios\n",
    "dropouts = [0.5, 0.3, 0.1, 0.1]\n",
    "\n",
    "model = BINN(\n",
    "            input_data  = 'data/TestQM.tsv', \n",
    "            pathways = 'data/pathways.tsv',\n",
    "            translation_mapping  = 'data/translation.tsv',\n",
    "            input_data_column = 'Protein',\n",
    "            activation = activations, \n",
    "            n_layers  = 4, \n",
    "            dropout = dropouts,\n",
    "            optimizer=\"adam\",\n",
    "            scheduler = \"plateau\",\n",
    "            validate  = True,\n",
    "            n_outputs = 2)\n",
    "model"
   ]
  }
 ],
 "metadata": {
  "kernelspec": {
   "display_name": "Python 3.9.13 ('test-venv': venv)",
   "language": "python",
   "name": "python3"
  },
  "language_info": {
   "codemirror_mode": {
    "name": "ipython",
    "version": 3
   },
   "file_extension": ".py",
   "mimetype": "text/x-python",
   "name": "python",
   "nbconvert_exporter": "python",
   "pygments_lexer": "ipython3",
   "version": "3.9.13"
  },
  "orig_nbformat": 4,
  "vscode": {
   "interpreter": {
    "hash": "623fb74bbdba707bb547fdf25190ee3331b3df16f3b0f9ee711e3b4d4adf71d8"
   }
  }
 },
 "nbformat": 4,
 "nbformat_minor": 2
}
