{
 "cells": [
  {
   "cell_type": "code",
   "execution_count": 4,
   "metadata": {},
   "outputs": [
    {
     "name": "stdout",
     "output_type": "stream",
     "text": [
      "Number of reactome ids before subsetting: 3484\n",
      "Unique proteins in reactome df: 458\n",
      "Function called 1 times.\n",
      "Values in idx_list: 0\n",
      "Function called 2 times.\n",
      "Values in idx_list: 652\n",
      "Function called 3 times.\n",
      "Values in idx_list: 989\n",
      "Function called 4 times.\n",
      "Values in idx_list: 1173\n",
      "Function called 5 times.\n",
      "Values in idx_list: 1264\n",
      "Function called 6 times.\n",
      "Values in idx_list: 1304\n",
      "Function called 7 times.\n",
      "Values in idx_list: 1322\n",
      "Function called 8 times.\n",
      "Values in idx_list: 1328\n",
      "Function called 9 times.\n",
      "Values in idx_list: 1329\n",
      "Base case reached\n",
      "Final number of unique connections in pathway:  1003\n",
      "Number of copies made for 4 layers: 26\n"
     ]
    },
    {
     "data": {
      "text/plain": [
       "Sequential(\n",
       "  (Layer_0): Linear(in_features=449, out_features=443, bias=True)\n",
       "  (BatchNorm_0): BatchNorm1d(443, eps=1e-05, momentum=0.1, affine=True, track_running_stats=True)\n",
       "  (Dropout_0): Dropout(p=0.2, inplace=False)\n",
       "  (Tanh 0): Tanh()\n",
       "  (Layer_1): Linear(in_features=443, out_features=285, bias=True)\n",
       "  (BatchNorm_1): BatchNorm1d(285, eps=1e-05, momentum=0.1, affine=True, track_running_stats=True)\n",
       "  (Dropout_1): Dropout(p=0.2, inplace=False)\n",
       "  (Tanh 1): Tanh()\n",
       "  (Layer_2): Linear(in_features=285, out_features=116, bias=True)\n",
       "  (BatchNorm_2): BatchNorm1d(116, eps=1e-05, momentum=0.1, affine=True, track_running_stats=True)\n",
       "  (Dropout_2): Dropout(p=0.2, inplace=False)\n",
       "  (Tanh 2): Tanh()\n",
       "  (Layer_3): Linear(in_features=116, out_features=28, bias=True)\n",
       "  (BatchNorm_3): BatchNorm1d(28, eps=1e-05, momentum=0.1, affine=True, track_running_stats=True)\n",
       "  (Dropout_3): Dropout(p=0.2, inplace=False)\n",
       "  (Tanh 3): Tanh()\n",
       "  (Output layer): Linear(in_features=28, out_features=2, bias=True)\n",
       ")"
      ]
     },
     "execution_count": 4,
     "metadata": {},
     "output_type": "execute_result"
    }
   ],
   "source": [
    "from binn import BINN, Network\n",
    "import pandas as pd\n",
    "\n",
    "input_data = pd.read_csv(\"../data/test_data.tsv\", sep=\"\\t\")\n",
    "translation = pd.read_csv(\"../data/translation.tsv\", sep=\"\\t\")\n",
    "pathways = pd.read_csv(\"../data/pathways.tsv\", sep=\"\\t\")\n",
    "\n",
    "network = Network(\n",
    "    input_data=input_data,\n",
    "    pathways=pathways,\n",
    "    mapping=translation,\n",
    "    verbose=True\n",
    ")\n",
    "\n",
    "binn = BINN(\n",
    "    pathways=network,\n",
    "    n_layers=4,\n",
    "    dropout=0.2,\n",
    "    validate=False,\n",
    ")\n",
    "binn.layers\n"
   ]
  },
  {
   "cell_type": "code",
   "execution_count": 5,
   "metadata": {},
   "outputs": [
    {
     "data": {
      "text/plain": [
       "[Index(['A0M8Q6', 'O00194', 'O00391', 'O14786', 'O14791', 'O15145', 'O43707',\n",
       "        'O75369', 'O75594', 'O75636',\n",
       "        ...\n",
       "        'Q9UBE0', 'Q9UBQ7', 'Q9UBR2', 'Q9UBX5', 'Q9UGM3', 'Q9UK55', 'Q9UNW1',\n",
       "        'Q9Y490', 'Q9Y4L1', 'Q9Y6Z7'],\n",
       "       dtype='object', length=449),\n",
       " Index(['R-HSA-114452', 'R-HSA-111465', 'R-HSA-888590', 'R-HSA-380615',\n",
       "        'R-HSA-442755', 'R-HSA-1168372', 'R-HSA-1169410', 'R-HSA-1222499',\n",
       "        'R-HSA-8941413', 'R-HSA-8863795',\n",
       "        ...\n",
       "        'R-HSA-9615710', 'R-HSA-9710421', 'R-HSA-9662360', 'R-HSA-9662361',\n",
       "        'R-HSA-9619665', 'R-HSA-9749641', 'R-HSA-9753281', 'R-HSA-9754706',\n",
       "        'R-HSA-983189', 'R-HSA-2672351'],\n",
       "       dtype='object', length=443),\n",
       " Index(['R-HSA-2168880', 'R-HSA-196849', 'R-HSA-5213460', 'R-HSA-8963898',\n",
       "        'R-HSA-1227986', 'R-HSA-917977', 'R-HSA-6798695', 'R-HSA-156842',\n",
       "        'R-HSA-9033500', 'R-HSA-5687128',\n",
       "        ...\n",
       "        'R-HSA-2151201', 'R-HSA-210991', 'R-HSA-9753281', 'R-HSA-75892',\n",
       "        'R-HSA-9613829', 'R-HSA-9635486', 'R-HSA-1268020', 'R-HSA-8852135',\n",
       "        'R-HSA-5619102', 'R-HSA-9609646'],\n",
       "       dtype='object', length=285),\n",
       " Index(['R-HSA-211000', 'R-HSA-73857', 'R-HSA-9749641', 'R-HSA-9615710',\n",
       "        'R-HSA-69002', 'R-HSA-9675108', 'R-HSA-2187338', 'R-HSA-5617833',\n",
       "        'R-HSA-5218859', 'R-HSA-9716542',\n",
       "        ...\n",
       "        'R-HSA-1280218', 'R-HSA-5663202', 'R-HSA-75205', 'R-HSA-157118',\n",
       "        'R-HSA-5576891', 'R-HSA-9006931', 'R-HSA-381426', 'R-HSA-1500620',\n",
       "        'R-HSA-1483249', 'R-HSA-9033241'],\n",
       "       dtype='object', length=116),\n",
       " Index(['R-HSA-8953854', 'R-HSA-109582', 'R-HSA-1500931', 'R-HSA-1852241',\n",
       "        'R-HSA-9709957', 'R-HSA-1643685', 'R-HSA-112316', 'R-HSA-74160',\n",
       "        'R-HSA-5653656', 'R-HSA-162582', 'R-HSA-382551', 'R-HSA-9609507',\n",
       "        'R-HSA-168256', 'R-HSA-1266738', 'R-HSA-5357801', 'R-HSA-69306',\n",
       "        'R-HSA-9748784', 'R-HSA-1474165', 'R-HSA-1640170', 'R-HSA-392499',\n",
       "        'R-HSA-73894', 'R-HSA-8953897', 'R-HSA-1430728', 'R-HSA-9612973',\n",
       "        'R-HSA-400253', 'R-HSA-4839726', 'R-HSA-1474244', 'R-HSA-397014'],\n",
       "       dtype='object')]"
      ]
     },
     "execution_count": 5,
     "metadata": {},
     "output_type": "execute_result"
    }
   ],
   "source": [
    "layers = binn.layer_names\n",
    "layers"
   ]
  }
 ],
 "metadata": {
  "kernelspec": {
   "display_name": "Python 3.9.13 ('test-venv': venv)",
   "language": "python",
   "name": "python3"
  },
  "language_info": {
   "codemirror_mode": {
    "name": "ipython",
    "version": 3
   },
   "file_extension": ".py",
   "mimetype": "text/x-python",
   "name": "python",
   "nbconvert_exporter": "python",
   "pygments_lexer": "ipython3",
   "version": "3.9.13"
  },
  "orig_nbformat": 4,
  "vscode": {
   "interpreter": {
    "hash": "623fb74bbdba707bb547fdf25190ee3331b3df16f3b0f9ee711e3b4d4adf71d8"
   }
  }
 },
 "nbformat": 4,
 "nbformat_minor": 2
}
